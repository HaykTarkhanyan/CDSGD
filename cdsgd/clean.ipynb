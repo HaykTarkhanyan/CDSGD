{
 "cells": [
  {
   "cell_type": "markdown",
   "metadata": {},
   "source": [
    "# Imports and variable setup"
   ]
  },
  {
   "cell_type": "code",
   "execution_count": 55,
   "metadata": {},
   "outputs": [],
   "source": [
    "from sklearn.cluster import KMeans, AgglomerativeClustering, DBSCAN\n",
    "from sklearn.metrics import silhouette_score, calinski_harabasz_score\n",
    "import plotly.express as px\n",
    "import pandas as pd\n",
    "import numpy as np\n",
    "import os\n",
    "\n",
    "import datetime \n",
    "\n",
    "from sklearn.metrics import accuracy_score, f1_score\n",
    "from sklearn.metrics import confusion_matrix\n",
    "from sklearn.model_selection import cross_validate, cross_val_score\n",
    "from sklearn.model_selection import train_test_split\n",
    "from sklearn.preprocessing import StandardScaler\n",
    "\n",
    "from utils import filter_by_rule, detect_outliers_z_score, report_results\n",
    "from config import *\n",
    "import pickle\n",
    "\n",
    "\n",
    "import warnings\n",
    "from pandas.errors import SettingWithCopyWarning\n",
    "warnings.simplefilter(action='ignore', category=(SettingWithCopyWarning, FutureWarning))\n",
    "\n",
    "from DSClassifierMultiQ import DSClassifierMultiQ\n",
    "\n"
   ]
  },
  {
   "cell_type": "code",
   "execution_count": 5,
   "metadata": {},
   "outputs": [],
   "source": [
    "import logging\n",
    "\n",
    "\n",
    "if not os.path.exists(\"logs\"):\n",
    "    os.mkdir(\"logs\")\n",
    "\n",
    "log_file = os.path.join(\"logs\", \"api.log\")\n",
    "\n",
    "rfh = logging.handlers.RotatingFileHandler(\n",
    "    filename=log_file,\n",
    "    mode='a',\n",
    "    maxBytes=LOGGING_MAX_SIZE_MB*1024*1024,\n",
    "    backupCount=LOGGING_BACKUP_COUNT,\n",
    "    encoding=None,\n",
    "    delay=0\n",
    ")\n",
    "\n",
    "console_handler = logging.StreamHandler()\n",
    "\n",
    "logging.basicConfig(\n",
    "    level=logging.DEBUG,\n",
    "    format=\"%(asctime)s [%(levelname)s] %(message)s\",\n",
    "    datefmt=\"%y-%m-%d %H:%M:%S\",\n",
    "    handlers=[\n",
    "        rfh,\n",
    "        console_handler\n",
    "    ],\n",
    ")\n",
    "\n",
    "logger = logging.getLogger(__name__)"
   ]
  },
  {
   "cell_type": "code",
   "execution_count": 6,
   "metadata": {},
   "outputs": [
    {
     "name": "stderr",
     "output_type": "stream",
     "text": [
      "24-04-26 19:43:59 [INFO] Found 1 datasets\n"
     ]
    }
   ],
   "source": [
    "#  https://www.kaggle.com/datasets/jakeshbohaju/brain-tumor/data\n",
    "DATASET_FOLDER = \"datasets\" \n",
    "\n",
    "assert os.path.exists(DATASET_FOLDER), \"Dataset folder not found\"\n",
    "\n",
    "datasets = os.listdir(DATASET_FOLDER)\n",
    "logging.info(f\"Found {len(datasets)} datasets\")"
   ]
  },
  {
   "cell_type": "markdown",
   "metadata": {},
   "source": [
    "# Reading the data"
   ]
  },
  {
   "cell_type": "markdown",
   "metadata": {},
   "source": [
    "## Load the dataset, make checks"
   ]
  },
  {
   "cell_type": "code",
   "execution_count": 7,
   "metadata": {},
   "outputs": [
    {
     "name": "stderr",
     "output_type": "stream",
     "text": [
      "24-04-26 19:44:05 [INFO] ------ Dataset: Brain Tumor | Shape: (3762, 14) | Label ratio: 0.55 -------\n"
     ]
    }
   ],
   "source": [
    "dataset = datasets[0]\n",
    "dataset_name = dataset.split(\".\")[0]\n",
    "\n",
    "data = pd.read_csv(os.path.join(DATASET_FOLDER, dataset))\n",
    "\n",
    "assert data.isna().sum().sum() == 0, \"Dataset contains missing values\"\n",
    "assert \"labels\" in data.columns, \"Dataset does not contain `labels` column\"\n",
    "assert data.labels.nunique() == 2, \"Dataset labels are not binary\"\n",
    "\n",
    "label_ratio = data.labels.value_counts(normalize=True).iloc[0]\n",
    "assert 0.4 < label_ratio < 0.6, \"Label ratio is not balanced\"\n",
    "\n",
    "# move labels column to the end \n",
    "data = data[[col for col in data.columns if col != \"labels\"] + [\"labels\"]]\n",
    "\n",
    "logging.info(f\"------ Dataset: {dataset_name} | Shape: {data.shape} | Label ratio: {label_ratio:.2f} -------\")"
   ]
  },
  {
   "cell_type": "markdown",
   "metadata": {},
   "source": [
    "## Train test split"
   ]
  },
  {
   "cell_type": "code",
   "execution_count": 8,
   "metadata": {},
   "outputs": [
    {
     "name": "stderr",
     "output_type": "stream",
     "text": [
      "24-04-26 19:44:08 [INFO] Step 0: Data split done | 2633 - 1129\n"
     ]
    }
   ],
   "source": [
    "data = data.sample(frac=1).reset_index(drop=True)\n",
    "data = data.apply(pd.to_numeric)\n",
    "cut = int(train_set_size*len(data))\n",
    "\n",
    "train_data_df = data.iloc[:cut]\n",
    "test_data_df = data.iloc[cut:]\n",
    "\n",
    "X_train = data.iloc[:cut, :-1].values\n",
    "y_train = data.iloc[:cut, -1].values\n",
    "X_test = data.iloc[cut:, :-1].values\n",
    "y_test = data.iloc[cut:, -1].values\n",
    "\n",
    "logging.info(f\"Step 0: Data split done | {len(X_train)} - {len(X_test)}\")\n"
   ]
  },
  {
   "cell_type": "markdown",
   "metadata": {},
   "source": [
    "## Scaling"
   ]
  },
  {
   "cell_type": "code",
   "execution_count": 9,
   "metadata": {},
   "outputs": [
    {
     "name": "stderr",
     "output_type": "stream",
     "text": [
      "24-04-26 19:44:09 [DEBUG] Step 1: Standard scaling complete\n"
     ]
    }
   ],
   "source": [
    "st_scaler = StandardScaler().fit(train_data_df)\n",
    "# break\n",
    "scale = st_scaler.scale_\n",
    "mean = st_scaler.mean_\n",
    "var = st_scaler.var_ \n",
    "\n",
    "X_train_scaled = st_scaler.transform(train_data_df)\n",
    "X_test_scaled = st_scaler.transform(test_data_df)  #! during inference we won't have this\n",
    "\n",
    "logging.debug(\"Step 1: Standard scaling complete\")"
   ]
  },
  {
   "cell_type": "markdown",
   "metadata": {},
   "source": [
    "## KMeans"
   ]
  },
  {
   "cell_type": "code",
   "execution_count": 10,
   "metadata": {},
   "outputs": [
    {
     "name": "stderr",
     "output_type": "stream",
     "text": [
      "24-04-26 19:44:11 [INFO] Step 2: Performing clustering\n",
      "Exception in thread Thread-6 (_readerthread):\n",
      "Traceback (most recent call last):\n",
      "  File \"c:\\Users\\hayk_\\.conda\\envs\\thesis\\lib\\threading.py\", line 1016, in _bootstrap_inner\n",
      "    self.run()\n",
      "  File \"c:\\Users\\hayk_\\.conda\\envs\\thesis\\lib\\threading.py\", line 953, in run\n",
      "    self._target(*self._args, **self._kwargs)\n",
      "  File \"c:\\Users\\hayk_\\.conda\\envs\\thesis\\lib\\subprocess.py\", line 1515, in _readerthread\n",
      "    buffer.append(fh.read())\n",
      "  File \"c:\\Users\\hayk_\\.conda\\envs\\thesis\\lib\\codecs.py\", line 322, in decode\n",
      "    (result, consumed) = self._buffer_decode(data, self.errors, final)\n",
      "UnicodeDecodeError: 'utf-8' codec can't decode byte 0x81 in position 3: invalid start byte\n",
      "c:\\Users\\hayk_\\.conda\\envs\\thesis\\lib\\site-packages\\joblib\\externals\\loky\\backend\\context.py:136: UserWarning: Could not find the number of physical cores for the following reason:\n",
      "found 0 physical cores < 1\n",
      "Returning the number of logical cores instead. You can silence this warning by setting LOKY_MAX_CPU_COUNT to the number of cores you want to use.\n",
      "  warnings.warn(\n",
      "  File \"c:\\Users\\hayk_\\.conda\\envs\\thesis\\lib\\site-packages\\joblib\\externals\\loky\\backend\\context.py\", line 282, in _count_physical_cores\n",
      "    raise ValueError(f\"found {cpu_count_physical} physical cores < 1\")\n",
      "24-04-26 19:44:12 [DEBUG] Evaluation on train\n",
      "24-04-26 19:44:12 [DEBUG] \tsilhouette = 0.58\n",
      "24-04-26 19:44:12 [DEBUG] \tcalinski_harabasz = 4332.35\n",
      "24-04-26 19:44:12 [DEBUG] \tinertia = 227041645.157\n",
      "24-04-26 19:44:12 [DEBUG] Evaluation on test\n",
      "24-04-26 19:44:12 [DEBUG] \tsilhouette = 0.584\n",
      "24-04-26 19:44:12 [DEBUG] \tcalinski_harabasz = 1802.325\n",
      "24-04-26 19:44:12 [INFO] Step 2: Clustering done\n"
     ]
    }
   ],
   "source": [
    "logging.info(\"Step 2: Performing clustering\")\n",
    "\n",
    "CLUSTERING_ALG = \"kmeans\" # in future we'll add DBSCAN\n",
    "\n",
    "clustering_model = KMeans(n_clusters=2, random_state=42, n_init=\"auto\")      \n",
    "clustering_model.fit(X_train)  \n",
    "\n",
    "clustering_labels_train = clustering_model.predict(X_train)\n",
    "clustering_labels_test = clustering_model.predict(X_test)\n",
    "\n",
    "train_data_df[\"labels_clustering\"] = clustering_labels_train\n",
    "test_data_df[\"labels_clustering\"] = clustering_labels_test\n",
    "\n",
    "def evaluate_clustering(df, labels, model=None, alg=\"kmeans\", round_digits=3, \n",
    "                        print_results=False, dataset=\"train\"):\n",
    "    silhouette = silhouette_score(df, labels).round(round_digits)\n",
    "    calinski_harabasz = calinski_harabasz_score(df, labels).round(round_digits)\n",
    "    \n",
    "    if alg == \"kmeans\" and dataset==\"train\":\n",
    "        inertia = round(model.inertia_,round_digits)\n",
    "        \n",
    "    \n",
    "    if print_results:\n",
    "        logging.debug(f\"Evaluation on {dataset}\")\n",
    "        logging.debug(f\"\\t{silhouette = }\")\n",
    "        logging.debug(f\"\\t{calinski_harabasz = }\")\n",
    "        if alg == \"kmeans\" and dataset==\"train\":\n",
    "            logging.debug(f\"\\t{inertia = }\")\n",
    "    \n",
    "evaluate_clustering(X_train, clustering_labels_train, clustering_model, \n",
    "                    CLUSTERING_ALG, print_results=True)\n",
    "evaluate_clustering(X_test, clustering_labels_test, clustering_model, \n",
    "                    CLUSTERING_ALG, print_results=True, dataset=\"test\")\n",
    "\n",
    "logging.info(\"Step 2: Clustering done\")"
   ]
  },
  {
   "cell_type": "markdown",
   "metadata": {},
   "source": [
    "## KMeans evaluation"
   ]
  },
  {
   "cell_type": "code",
   "execution_count": 11,
   "metadata": {},
   "outputs": [],
   "source": [
    "\n",
    "def evaluate_classifier(*, y_actual, y_clust, dataset=\"train\", print_results=False,\n",
    "                        purpose=\"clustering_eval\"):    \n",
    "    accuracy = accuracy_score(y_actual, y_clust)\n",
    "    if purpose == \"clustering_eval\":\n",
    "        if accuracy < 0.5: # swap 1's and 0's\n",
    "            y_clust = [1 if label == 0 else 0 for label in y_clust]\n",
    "            accuracy = accuracy_score(y_actual, y_clust)\n",
    "\n",
    "    f1 = f1_score(y_actual, y_clust)\n",
    "    conf_matrix = confusion_matrix(y_actual, y_clust)\n",
    "    \n",
    "    if print_results:\n",
    "        logging.debug(f\"Evaluation on {dataset}\")\n",
    "        logging.debug(f\"\\tAccuracy:  {accuracy:.2f}\")\n",
    "        logging.debug(f\"\\tF1 Score: {f1:.2f}\")\n",
    "        logging.debug(f\"\\tConfusion Matrix: \\n{conf_matrix}\")\n",
    "    \n",
    "    return {\"accuracy\": accuracy, \"f1\": f1, \"confusion_matrix\": conf_matrix}"
   ]
  },
  {
   "cell_type": "code",
   "execution_count": 12,
   "metadata": {},
   "outputs": [
    {
     "name": "stderr",
     "output_type": "stream",
     "text": [
      "24-04-26 19:44:13 [DEBUG] Evaluation on train\n",
      "24-04-26 19:44:13 [DEBUG] \tAccuracy:  0.66\n",
      "24-04-26 19:44:13 [DEBUG] \tF1 Score: 0.53\n",
      "24-04-26 19:44:13 [DEBUG] \tConfusion Matrix: \n",
      "[[1203  254]\n",
      " [ 654  522]]\n",
      "24-04-26 19:44:13 [DEBUG] Evaluation on test\n",
      "24-04-26 19:44:13 [DEBUG] \tAccuracy:  0.67\n",
      "24-04-26 19:44:13 [DEBUG] \tF1 Score: 0.55\n",
      "24-04-26 19:44:13 [DEBUG] \tConfusion Matrix: \n",
      "[[535  87]\n",
      " [281 226]]\n",
      "24-04-26 19:44:13 [INFO] Step 3: Clustering as a classifier, evaluation done\n"
     ]
    }
   ],
   "source": [
    "evaluate_classifier(y_actual=y_train, y_clust=clustering_labels_train, \n",
    "                    dataset=\"train\", print_results=True)\n",
    "evaluate_classifier(y_actual=y_test, y_clust=clustering_labels_test, \n",
    "                    dataset=\"test\", print_results=True)\n",
    "\n",
    "logger.info(\"Step 3: Clustering as a classifier, evaluation done\")"
   ]
  },
  {
   "cell_type": "markdown",
   "metadata": {},
   "source": [
    "## Distance calculation"
   ]
  },
  {
   "cell_type": "code",
   "execution_count": 13,
   "metadata": {},
   "outputs": [],
   "source": [
    "def get_distance(df, model, alg=\"kmeans\"):#, remove_outliers=True, normalize=True):\n",
    "    if alg == \"kmeans\":\n",
    "        distances = np.min(\n",
    "            np.linalg.norm(df[:, np.newaxis] - model.cluster_centers_, axis=2), axis=1) \n",
    "    else:\n",
    "        raise NotImplementedError(\"Only KMeans is supported\")    \n",
    "    \n",
    "    return distances\n",
    "    "
   ]
  },
  {
   "cell_type": "code",
   "execution_count": 14,
   "metadata": {},
   "outputs": [],
   "source": [
    "def remove_outliers_and_normalize(df, distance_column=\"distance\", label_column=\"labels\"):\n",
    "    outliers = detect_outliers_z_score(df[\"distance\"])\n",
    "    df[\"outlier\"] = df[distance_column].apply(lambda x: x in outliers)\n",
    "    df_no_outliers = df[~df[\"outlier\"]]\n",
    "    \n",
    "    # min max scale the df. dont use outliers\n",
    "    min_val = df_no_outliers.groupby(label_column)[distance_column].apply('min')\n",
    "    max_val = df_no_outliers.groupby(label_column)[distance_column].apply('max')\n",
    "    \n",
    "    def scale(x, label):\n",
    "        return (x - min_val[label]) / (max_val[label] - min_val[label]) if max_val[label] > min_val[label] else 0\n",
    "        \n",
    "    dist_norm = df.apply(lambda row: scale(row[distance_column], row[label_column]), axis=1)\n",
    "    \n",
    "    return dist_norm"
   ]
  },
  {
   "cell_type": "code",
   "execution_count": 15,
   "metadata": {},
   "outputs": [],
   "source": [
    "train_data_df[\"distance\"] = get_distance(X_train, clustering_model)\n",
    "test_data_df[\"distance\"] = get_distance(X_test, clustering_model)"
   ]
  },
  {
   "cell_type": "code",
   "execution_count": 16,
   "metadata": {},
   "outputs": [
    {
     "name": "stderr",
     "output_type": "stream",
     "text": [
      "24-04-26 19:44:19 [INFO] Step 4: Distance calculation done\n"
     ]
    }
   ],
   "source": [
    "train_data_df[\"distance_norm\"] = remove_outliers_and_normalize(train_data_df) \n",
    "test_data_df[\"distance_norm\"] = remove_outliers_and_normalize(test_data_df)\n",
    "\n",
    "assert train_data_df.isna().sum().sum() == 0, \"Train data contains NaNs\"\n",
    "assert test_data_df.isna().sum().sum() == 0, \"Train data contains NaNs\"\n",
    "\n",
    "logger.info(f\"Step 4: Distance calculation done\")"
   ]
  },
  {
   "cell_type": "markdown",
   "metadata": {},
   "source": [
    "## DST"
   ]
  },
  {
   "cell_type": "code",
   "execution_count": 63,
   "metadata": {},
   "outputs": [
    {
     "name": "stderr",
     "output_type": "stream",
     "text": [
      "24-04-26 20:16:22 [INFO] Step 5: Run DST (dataset=Brain Tumor, breaks=3, add_mult_rules=False, maf_method=kmeans)\n",
      "24-04-26 20:16:22 [DEBUG] \tModel init done\n"
     ]
    },
    {
     "name": "stdout",
     "output_type": "stream",
     "text": [
      "Optimization started\n",
      "Processing epoch\t11\t0.4363\t"
     ]
    }
   ],
   "source": [
    "num_breaks = 3\n",
    "mult_rules = False\n",
    "debug_mode = True\n",
    "print_final_model = True\n",
    "num_workers = 0\n",
    "\n",
    "RULE_FOLDER = \"rules_saved_clean\"\n",
    "\n",
    "ignore_for_training = [\"labels_clustering\", \"distance_norm\"]\n",
    "df_cols = [i for i in list(data.columns) if i not in ignore_for_training]\n",
    "\n",
    "rows_use = 100000000\n",
    "\n",
    "# for method in [\"random\", \"kmeans\"]:\n",
    "for method in [\"kmeans\", \"random\"]:\n",
    "    name = f\"dataset={dataset_name}, breaks={num_breaks}, add_mult_rules={mult_rules}, maf_method={method}\"\n",
    "    logger.info(f\"Step 5: Run DST ({name})\")\n",
    "    DSC = DSClassifierMultiQ(2, debug_mode=debug_mode, num_workers=num_workers, maf_method=method,\n",
    "                            data=train_data_df.head(rows_use))\n",
    "    logger.debug(f\"\\tModel init done\")    \n",
    "    res = DSC.fit(X_train[:rows_use], y_train[:rows_use], \n",
    "            add_single_rules=True, single_rules_breaks=num_breaks, add_mult_rules=mult_rules,\n",
    "            column_names=df_cols, print_every_epochs=5, print_final_model=print_final_model)\n",
    "    losses, epoch, dt = res\n",
    "    logger.debug(f\"\\tModel fit done\")\n",
    "\n",
    "    DSC.model.save_rules_bin(os.path.join(RULE_FOLDER, f\"{name}.dsb\"))\n",
    "#     most_important_rules = DSC.model.find_most_important_rules()\n",
    "#     print(most_important_rules)\n",
    "    DSC.model.print_most_important_rules()\n",
    "    y_pred = DSC.predict(X_test)\n",
    "\n",
    "    logger.info(f\"Step 6: Inference done\")\n",
    "\n",
    "    report_results(y_test, y_pred, dataset=dataset_name, method=method,\n",
    "                epoch=epoch, dt=dt, losses=losses, \n",
    "                save_results=True, name=name, print_results=True,\n",
    "                breaks=num_breaks, mult_rules=mult_rules)\n",
    "    \n",
    "    logging.info(\"-\"*30)\n",
    "    \n",
    "    "
   ]
  },
  {
   "cell_type": "code",
   "execution_count": 28,
   "metadata": {},
   "outputs": [
    {
     "data": {
      "text/html": [
       "<div>\n",
       "<style scoped>\n",
       "    .dataframe tbody tr th:only-of-type {\n",
       "        vertical-align: middle;\n",
       "    }\n",
       "\n",
       "    .dataframe tbody tr th {\n",
       "        vertical-align: top;\n",
       "    }\n",
       "\n",
       "    .dataframe thead th {\n",
       "        text-align: right;\n",
       "    }\n",
       "</style>\n",
       "<table border=\"1\" class=\"dataframe\">\n",
       "  <thead>\n",
       "    <tr style=\"text-align: right;\">\n",
       "      <th></th>\n",
       "      <th>name</th>\n",
       "      <th>accuracy</th>\n",
       "      <th>f1</th>\n",
       "      <th>confusion_matrix</th>\n",
       "      <th>training_time</th>\n",
       "      <th>epochs</th>\n",
       "      <th>min_loss</th>\n",
       "      <th>datetime</th>\n",
       "      <th>MAF method</th>\n",
       "      <th>dataset</th>\n",
       "      <th>breaks</th>\n",
       "      <th>mult_rules</th>\n",
       "    </tr>\n",
       "  </thead>\n",
       "  <tbody>\n",
       "    <tr>\n",
       "      <th>68</th>\n",
       "      <td>dataset=Brain Tumor, breaks=3, add_mult_rules=...</td>\n",
       "      <td>0.983171</td>\n",
       "      <td>0.981132</td>\n",
       "      <td>[[616   6]\\n [ 13 494]]</td>\n",
       "      <td>56.823486</td>\n",
       "      <td>80</td>\n",
       "      <td>0.024735</td>\n",
       "      <td>26-04-2024 19:51:10</td>\n",
       "      <td>kmeans</td>\n",
       "      <td>Brain Tumor</td>\n",
       "      <td>3.0</td>\n",
       "      <td>False</td>\n",
       "    </tr>\n",
       "    <tr>\n",
       "      <th>69</th>\n",
       "      <td>dataset=Brain Tumor, breaks=3, add_mult_rules=...</td>\n",
       "      <td>0.984057</td>\n",
       "      <td>0.982036</td>\n",
       "      <td>[[619   3]\\n [ 15 492]]</td>\n",
       "      <td>127.310002</td>\n",
       "      <td>137</td>\n",
       "      <td>0.029311</td>\n",
       "      <td>26-04-2024 19:53:18</td>\n",
       "      <td>random</td>\n",
       "      <td>Brain Tumor</td>\n",
       "      <td>3.0</td>\n",
       "      <td>False</td>\n",
       "    </tr>\n",
       "    <tr>\n",
       "      <th>70</th>\n",
       "      <td>dataset=Brain Tumor, breaks=3, add_mult_rules=...</td>\n",
       "      <td>0.983171</td>\n",
       "      <td>0.981132</td>\n",
       "      <td>[[616   6]\\n [ 13 494]]</td>\n",
       "      <td>61.127786</td>\n",
       "      <td>80</td>\n",
       "      <td>0.024735</td>\n",
       "      <td>26-04-2024 19:55:26</td>\n",
       "      <td>kmeans</td>\n",
       "      <td>Brain Tumor</td>\n",
       "      <td>3.0</td>\n",
       "      <td>False</td>\n",
       "    </tr>\n",
       "    <tr>\n",
       "      <th>71</th>\n",
       "      <td>dataset=Brain Tumor, breaks=3, add_mult_rules=...</td>\n",
       "      <td>0.984942</td>\n",
       "      <td>0.983051</td>\n",
       "      <td>[[619   3]\\n [ 14 493]]</td>\n",
       "      <td>86.989290</td>\n",
       "      <td>123</td>\n",
       "      <td>0.028340</td>\n",
       "      <td>26-04-2024 19:56:54</td>\n",
       "      <td>random</td>\n",
       "      <td>Brain Tumor</td>\n",
       "      <td>3.0</td>\n",
       "      <td>False</td>\n",
       "    </tr>\n",
       "  </tbody>\n",
       "</table>\n",
       "</div>"
      ],
      "text/plain": [
       "                                                 name  accuracy        f1  \\\n",
       "68  dataset=Brain Tumor, breaks=3, add_mult_rules=...  0.983171  0.981132   \n",
       "69  dataset=Brain Tumor, breaks=3, add_mult_rules=...  0.984057  0.982036   \n",
       "70  dataset=Brain Tumor, breaks=3, add_mult_rules=...  0.983171  0.981132   \n",
       "71  dataset=Brain Tumor, breaks=3, add_mult_rules=...  0.984942  0.983051   \n",
       "\n",
       "           confusion_matrix  training_time  epochs  min_loss  \\\n",
       "68  [[616   6]\\n [ 13 494]]      56.823486      80  0.024735   \n",
       "69  [[619   3]\\n [ 15 492]]     127.310002     137  0.029311   \n",
       "70  [[616   6]\\n [ 13 494]]      61.127786      80  0.024735   \n",
       "71  [[619   3]\\n [ 14 493]]      86.989290     123  0.028340   \n",
       "\n",
       "               datetime MAF method      dataset  breaks mult_rules  \n",
       "68  26-04-2024 19:51:10     kmeans  Brain Tumor     3.0      False  \n",
       "69  26-04-2024 19:53:18     random  Brain Tumor     3.0      False  \n",
       "70  26-04-2024 19:55:26     kmeans  Brain Tumor     3.0      False  \n",
       "71  26-04-2024 19:56:54     random  Brain Tumor     3.0      False  "
      ]
     },
     "execution_count": 28,
     "metadata": {},
     "output_type": "execute_result"
    }
   ],
   "source": [
    "experiments = pd.read_csv(\"experiments.csv\")\n",
    "\n",
    "experiments.tail(4)"
   ]
  },
  {
   "cell_type": "markdown",
   "metadata": {},
   "source": [
    "## Rules"
   ]
  },
  {
   "cell_type": "code",
   "execution_count": 30,
   "metadata": {},
   "outputs": [
    {
     "name": "stderr",
     "output_type": "stream",
     "text": [
      "24-04-26 20:00:24 [INFO] Found 2 rules\n"
     ]
    }
   ],
   "source": [
    "RULE_FOLDER = \"rules_saved_clean\"\n",
    "\n",
    "assert os.path.exists(RULE_FOLDER), f\"Folder {RULE_FOLDER} does not exist\"\n",
    "\n",
    "rules = os.listdir(RULE_FOLDER)\n",
    "logging.info(f\"Found {len(rules)} rules\")"
   ]
  },
  {
   "cell_type": "code",
   "execution_count": 50,
   "metadata": {},
   "outputs": [],
   "source": [
    "def get_pairs(rules):\n",
    "    pairs = []\n",
    "    for rule1 in rules:\n",
    "        if 'maf_method' in rule1:\n",
    "            for rule2 in rules:\n",
    "                if rule1 == rule2 or (rule2, rule1) in pairs:\n",
    "                    continue\n",
    "                if rule2.startswith(rule1.split('maf_method')[0]):\n",
    "                    pairs.append((rule1, rule2))\n",
    "    return pairs"
   ]
  },
  {
   "cell_type": "code",
   "execution_count": 51,
   "metadata": {},
   "outputs": [],
   "source": [
    "def extract_res(rules_info):\n",
    "    rules = rules_info[\"preds\"]\n",
    "    mafs = rules_info[\"masses\"]\n",
    "    \n",
    "    rule_names = [str(i) for i in rules]\n",
    "    mass_first = [float(i[0]) for i in mafs]\n",
    "    mass_second = [float(i[1]) for i in mafs]\n",
    "    uncertainty = [float(i[2]) for i in mafs]\n",
    "    \n",
    "    res = {\"rule\": rule_names, \"mass_first\": mass_first, \"mass_second\": mass_second, \"uncertainty\": uncertainty}\n",
    "    return res"
   ]
  },
  {
   "cell_type": "code",
   "execution_count": 58,
   "metadata": {},
   "outputs": [],
   "source": [
    "pairs = get_pairs(rules)\n",
    "\n",
    "for r1, r2 in pairs:\n",
    "    r1_info = pickle.load(open(os.path.join(RULE_FOLDER, r1), \"rb\"))\n",
    "    r2_info = pickle.load(open(os.path.join(RULE_FOLDER, r2), \"rb\"))\n",
    "    \n",
    "    r1_df = pd.DataFrame(extract_res(r1_info))\n",
    "    r2_df = pd.DataFrame(extract_res(r2_info))\n",
    "    \n",
    "    merged = pd.merge(r1_df, r2_df, on=\"rule\", suffixes=('_kmeans', '_random'))\n",
    "\n"
   ]
  },
  {
   "cell_type": "code",
   "execution_count": 59,
   "metadata": {},
   "outputs": [
    {
     "data": {
      "text/html": [
       "<div>\n",
       "<style scoped>\n",
       "    .dataframe tbody tr th:only-of-type {\n",
       "        vertical-align: middle;\n",
       "    }\n",
       "\n",
       "    .dataframe tbody tr th {\n",
       "        vertical-align: top;\n",
       "    }\n",
       "\n",
       "    .dataframe thead th {\n",
       "        text-align: right;\n",
       "    }\n",
       "</style>\n",
       "<table border=\"1\" class=\"dataframe\">\n",
       "  <thead>\n",
       "    <tr style=\"text-align: right;\">\n",
       "      <th></th>\n",
       "      <th>rule</th>\n",
       "      <th>mass_first_kmeans</th>\n",
       "      <th>mass_second_kmeans</th>\n",
       "      <th>uncertainty_kmeans</th>\n",
       "      <th>mass_first_random</th>\n",
       "      <th>mass_second_random</th>\n",
       "      <th>uncertainty_random</th>\n",
       "    </tr>\n",
       "  </thead>\n",
       "  <tbody>\n",
       "    <tr>\n",
       "      <th>0</th>\n",
       "      <td>Mean &lt; 5.570</td>\n",
       "      <td>0.103486</td>\n",
       "      <td>0.541283</td>\n",
       "      <td>0.355231</td>\n",
       "      <td>0.039337</td>\n",
       "      <td>0.150540</td>\n",
       "      <td>0.810123</td>\n",
       "    </tr>\n",
       "    <tr>\n",
       "      <th>1</th>\n",
       "      <td>5.570 &lt; Mean &lt; 9.285</td>\n",
       "      <td>0.232696</td>\n",
       "      <td>0.418036</td>\n",
       "      <td>0.349268</td>\n",
       "      <td>0.039537</td>\n",
       "      <td>0.140639</td>\n",
       "      <td>0.819823</td>\n",
       "    </tr>\n",
       "    <tr>\n",
       "      <th>2</th>\n",
       "      <td>9.285 &lt; Mean &lt; 13.001</td>\n",
       "      <td>0.302733</td>\n",
       "      <td>0.363204</td>\n",
       "      <td>0.334063</td>\n",
       "      <td>0.139017</td>\n",
       "      <td>0.032521</td>\n",
       "      <td>0.828462</td>\n",
       "    </tr>\n",
       "    <tr>\n",
       "      <th>3</th>\n",
       "      <td>Mean &gt; 13.001</td>\n",
       "      <td>0.095045</td>\n",
       "      <td>0.685722</td>\n",
       "      <td>0.219234</td>\n",
       "      <td>0.254088</td>\n",
       "      <td>0.000000</td>\n",
       "      <td>0.745912</td>\n",
       "    </tr>\n",
       "    <tr>\n",
       "      <th>4</th>\n",
       "      <td>Variance &lt; 398.858</td>\n",
       "      <td>0.121278</td>\n",
       "      <td>0.524622</td>\n",
       "      <td>0.354100</td>\n",
       "      <td>0.230529</td>\n",
       "      <td>0.000000</td>\n",
       "      <td>0.769471</td>\n",
       "    </tr>\n",
       "    <tr>\n",
       "      <th>5</th>\n",
       "      <td>398.858 &lt; Variance &lt; 687.977</td>\n",
       "      <td>0.243402</td>\n",
       "      <td>0.403388</td>\n",
       "      <td>0.353210</td>\n",
       "      <td>0.141709</td>\n",
       "      <td>0.040688</td>\n",
       "      <td>0.817603</td>\n",
       "    </tr>\n",
       "    <tr>\n",
       "      <th>6</th>\n",
       "      <td>687.977 &lt; Variance &lt; 977.096</td>\n",
       "      <td>0.104279</td>\n",
       "      <td>0.539633</td>\n",
       "      <td>0.356087</td>\n",
       "      <td>0.045751</td>\n",
       "      <td>0.130867</td>\n",
       "      <td>0.823382</td>\n",
       "    </tr>\n",
       "    <tr>\n",
       "      <th>7</th>\n",
       "      <td>Variance &gt; 977.096</td>\n",
       "      <td>0.063800</td>\n",
       "      <td>0.710347</td>\n",
       "      <td>0.225853</td>\n",
       "      <td>0.000000</td>\n",
       "      <td>0.287257</td>\n",
       "      <td>0.712743</td>\n",
       "    </tr>\n",
       "    <tr>\n",
       "      <th>8</th>\n",
       "      <td>Standard Deviation &lt; 19.156</td>\n",
       "      <td>0.100246</td>\n",
       "      <td>0.547191</td>\n",
       "      <td>0.352563</td>\n",
       "      <td>0.165505</td>\n",
       "      <td>0.004691</td>\n",
       "      <td>0.829804</td>\n",
       "    </tr>\n",
       "    <tr>\n",
       "      <th>9</th>\n",
       "      <td>19.156 &lt; Standard Deviation &lt; 24.839</td>\n",
       "      <td>0.256166</td>\n",
       "      <td>0.395774</td>\n",
       "      <td>0.348059</td>\n",
       "      <td>0.178942</td>\n",
       "      <td>0.011055</td>\n",
       "      <td>0.810002</td>\n",
       "    </tr>\n",
       "    <tr>\n",
       "      <th>10</th>\n",
       "      <td>24.839 &lt; Standard Deviation &lt; 30.522</td>\n",
       "      <td>0.100663</td>\n",
       "      <td>0.544460</td>\n",
       "      <td>0.354877</td>\n",
       "      <td>0.100383</td>\n",
       "      <td>0.084157</td>\n",
       "      <td>0.815460</td>\n",
       "    </tr>\n",
       "    <tr>\n",
       "      <th>11</th>\n",
       "      <td>Standard Deviation &gt; 30.522</td>\n",
       "      <td>0.053277</td>\n",
       "      <td>0.713911</td>\n",
       "      <td>0.232812</td>\n",
       "      <td>0.000000</td>\n",
       "      <td>0.351835</td>\n",
       "      <td>0.648165</td>\n",
       "    </tr>\n",
       "    <tr>\n",
       "      <th>12</th>\n",
       "      <td>Entropy &lt; 0.026</td>\n",
       "      <td>0.265740</td>\n",
       "      <td>0.394670</td>\n",
       "      <td>0.339590</td>\n",
       "      <td>0.000000</td>\n",
       "      <td>0.482981</td>\n",
       "      <td>0.517019</td>\n",
       "    </tr>\n",
       "    <tr>\n",
       "      <th>13</th>\n",
       "      <td>0.026 &lt; Entropy &lt; 0.073</td>\n",
       "      <td>0.590367</td>\n",
       "      <td>0.163976</td>\n",
       "      <td>0.245656</td>\n",
       "      <td>0.054336</td>\n",
       "      <td>0.122196</td>\n",
       "      <td>0.823468</td>\n",
       "    </tr>\n",
       "    <tr>\n",
       "      <th>14</th>\n",
       "      <td>0.073 &lt; Entropy &lt; 0.120</td>\n",
       "      <td>0.883220</td>\n",
       "      <td>0.000000</td>\n",
       "      <td>0.116779</td>\n",
       "      <td>0.394227</td>\n",
       "      <td>0.000000</td>\n",
       "      <td>0.605773</td>\n",
       "    </tr>\n",
       "    <tr>\n",
       "      <th>15</th>\n",
       "      <td>Entropy &gt; 0.120</td>\n",
       "      <td>0.829463</td>\n",
       "      <td>0.000000</td>\n",
       "      <td>0.170537</td>\n",
       "      <td>0.370510</td>\n",
       "      <td>0.000000</td>\n",
       "      <td>0.629490</td>\n",
       "    </tr>\n",
       "    <tr>\n",
       "      <th>16</th>\n",
       "      <td>Skewness &lt; 2.366</td>\n",
       "      <td>0.764927</td>\n",
       "      <td>0.009780</td>\n",
       "      <td>0.225293</td>\n",
       "      <td>0.387639</td>\n",
       "      <td>0.000000</td>\n",
       "      <td>0.612361</td>\n",
       "    </tr>\n",
       "    <tr>\n",
       "      <th>17</th>\n",
       "      <td>2.366 &lt; Skewness &lt; 4.164</td>\n",
       "      <td>0.328408</td>\n",
       "      <td>0.354822</td>\n",
       "      <td>0.316770</td>\n",
       "      <td>0.179608</td>\n",
       "      <td>0.066610</td>\n",
       "      <td>0.753782</td>\n",
       "    </tr>\n",
       "    <tr>\n",
       "      <th>18</th>\n",
       "      <td>4.164 &lt; Skewness &lt; 5.961</td>\n",
       "      <td>0.211666</td>\n",
       "      <td>0.435436</td>\n",
       "      <td>0.352898</td>\n",
       "      <td>0.000000</td>\n",
       "      <td>0.274597</td>\n",
       "      <td>0.725403</td>\n",
       "    </tr>\n",
       "    <tr>\n",
       "      <th>19</th>\n",
       "      <td>Skewness &gt; 5.961</td>\n",
       "      <td>0.100906</td>\n",
       "      <td>0.547385</td>\n",
       "      <td>0.351709</td>\n",
       "      <td>0.000000</td>\n",
       "      <td>0.505500</td>\n",
       "      <td>0.494500</td>\n",
       "    </tr>\n",
       "    <tr>\n",
       "      <th>20</th>\n",
       "      <td>Kurtosis &lt; -19.759</td>\n",
       "      <td>0.000000</td>\n",
       "      <td>0.000000</td>\n",
       "      <td>1.000000</td>\n",
       "      <td>0.083584</td>\n",
       "      <td>0.116416</td>\n",
       "      <td>0.800000</td>\n",
       "    </tr>\n",
       "    <tr>\n",
       "      <th>21</th>\n",
       "      <td>-19.759 &lt; Kurtosis &lt; 25.478</td>\n",
       "      <td>0.317578</td>\n",
       "      <td>0.362617</td>\n",
       "      <td>0.319805</td>\n",
       "      <td>0.219837</td>\n",
       "      <td>0.000000</td>\n",
       "      <td>0.780163</td>\n",
       "    </tr>\n",
       "    <tr>\n",
       "      <th>22</th>\n",
       "      <td>25.478 &lt; Kurtosis &lt; 70.715</td>\n",
       "      <td>0.181862</td>\n",
       "      <td>0.463598</td>\n",
       "      <td>0.354540</td>\n",
       "      <td>0.000000</td>\n",
       "      <td>0.303090</td>\n",
       "      <td>0.696910</td>\n",
       "    </tr>\n",
       "    <tr>\n",
       "      <th>23</th>\n",
       "      <td>Kurtosis &gt; 70.715</td>\n",
       "      <td>0.000000</td>\n",
       "      <td>0.650392</td>\n",
       "      <td>0.349608</td>\n",
       "      <td>0.000000</td>\n",
       "      <td>0.344792</td>\n",
       "      <td>0.655208</td>\n",
       "    </tr>\n",
       "    <tr>\n",
       "      <th>24</th>\n",
       "      <td>Contrast &lt; 64.875</td>\n",
       "      <td>0.135597</td>\n",
       "      <td>0.502298</td>\n",
       "      <td>0.362105</td>\n",
       "      <td>0.078786</td>\n",
       "      <td>0.100865</td>\n",
       "      <td>0.820349</td>\n",
       "    </tr>\n",
       "    <tr>\n",
       "      <th>25</th>\n",
       "      <td>64.875 &lt; Contrast &lt; 125.458</td>\n",
       "      <td>0.231641</td>\n",
       "      <td>0.424303</td>\n",
       "      <td>0.344056</td>\n",
       "      <td>0.095953</td>\n",
       "      <td>0.089064</td>\n",
       "      <td>0.814983</td>\n",
       "    </tr>\n",
       "    <tr>\n",
       "      <th>26</th>\n",
       "      <td>125.458 &lt; Contrast &lt; 186.041</td>\n",
       "      <td>0.366542</td>\n",
       "      <td>0.329288</td>\n",
       "      <td>0.304170</td>\n",
       "      <td>0.233659</td>\n",
       "      <td>0.000000</td>\n",
       "      <td>0.766341</td>\n",
       "    </tr>\n",
       "    <tr>\n",
       "      <th>27</th>\n",
       "      <td>Contrast &gt; 186.041</td>\n",
       "      <td>0.235711</td>\n",
       "      <td>0.411489</td>\n",
       "      <td>0.352800</td>\n",
       "      <td>0.106556</td>\n",
       "      <td>0.072211</td>\n",
       "      <td>0.821233</td>\n",
       "    </tr>\n",
       "    <tr>\n",
       "      <th>28</th>\n",
       "      <td>Energy &lt; 0.116</td>\n",
       "      <td>0.261301</td>\n",
       "      <td>0.396925</td>\n",
       "      <td>0.341775</td>\n",
       "      <td>0.000000</td>\n",
       "      <td>0.452059</td>\n",
       "      <td>0.547941</td>\n",
       "    </tr>\n",
       "    <tr>\n",
       "      <th>29</th>\n",
       "      <td>0.116 &lt; Energy &lt; 0.203</td>\n",
       "      <td>0.225185</td>\n",
       "      <td>0.423426</td>\n",
       "      <td>0.351389</td>\n",
       "      <td>0.000000</td>\n",
       "      <td>0.649879</td>\n",
       "      <td>0.350121</td>\n",
       "    </tr>\n",
       "    <tr>\n",
       "      <th>30</th>\n",
       "      <td>0.203 &lt; Energy &lt; 0.291</td>\n",
       "      <td>0.793778</td>\n",
       "      <td>0.000000</td>\n",
       "      <td>0.206222</td>\n",
       "      <td>0.292096</td>\n",
       "      <td>0.000000</td>\n",
       "      <td>0.707904</td>\n",
       "    </tr>\n",
       "    <tr>\n",
       "      <th>31</th>\n",
       "      <td>Energy &gt; 0.291</td>\n",
       "      <td>0.842829</td>\n",
       "      <td>0.000000</td>\n",
       "      <td>0.157171</td>\n",
       "      <td>0.383257</td>\n",
       "      <td>0.000000</td>\n",
       "      <td>0.616743</td>\n",
       "    </tr>\n",
       "    <tr>\n",
       "      <th>32</th>\n",
       "      <td>ASM &lt; 0.019</td>\n",
       "      <td>0.265740</td>\n",
       "      <td>0.394670</td>\n",
       "      <td>0.339590</td>\n",
       "      <td>0.000000</td>\n",
       "      <td>0.389694</td>\n",
       "      <td>0.610306</td>\n",
       "    </tr>\n",
       "    <tr>\n",
       "      <th>33</th>\n",
       "      <td>0.019 &lt; ASM &lt; 0.058</td>\n",
       "      <td>0.588033</td>\n",
       "      <td>0.164725</td>\n",
       "      <td>0.247242</td>\n",
       "      <td>0.138300</td>\n",
       "      <td>0.050420</td>\n",
       "      <td>0.811280</td>\n",
       "    </tr>\n",
       "    <tr>\n",
       "      <th>34</th>\n",
       "      <td>0.058 &lt; ASM &lt; 0.097</td>\n",
       "      <td>0.880887</td>\n",
       "      <td>0.000000</td>\n",
       "      <td>0.119113</td>\n",
       "      <td>0.309249</td>\n",
       "      <td>0.000000</td>\n",
       "      <td>0.690751</td>\n",
       "    </tr>\n",
       "    <tr>\n",
       "      <th>35</th>\n",
       "      <td>ASM &gt; 0.097</td>\n",
       "      <td>0.829102</td>\n",
       "      <td>0.000000</td>\n",
       "      <td>0.170898</td>\n",
       "      <td>0.420762</td>\n",
       "      <td>0.000000</td>\n",
       "      <td>0.579238</td>\n",
       "    </tr>\n",
       "    <tr>\n",
       "      <th>36</th>\n",
       "      <td>Homogeneity &lt; 0.392</td>\n",
       "      <td>0.233981</td>\n",
       "      <td>0.415370</td>\n",
       "      <td>0.350649</td>\n",
       "      <td>0.000000</td>\n",
       "      <td>0.447142</td>\n",
       "      <td>0.552858</td>\n",
       "    </tr>\n",
       "    <tr>\n",
       "      <th>37</th>\n",
       "      <td>0.392 &lt; Homogeneity &lt; 0.478</td>\n",
       "      <td>0.042895</td>\n",
       "      <td>0.899496</td>\n",
       "      <td>0.057609</td>\n",
       "      <td>0.000000</td>\n",
       "      <td>0.533026</td>\n",
       "      <td>0.466974</td>\n",
       "    </tr>\n",
       "    <tr>\n",
       "      <th>38</th>\n",
       "      <td>0.478 &lt; Homogeneity &lt; 0.564</td>\n",
       "      <td>0.659872</td>\n",
       "      <td>0.079852</td>\n",
       "      <td>0.260275</td>\n",
       "      <td>0.271264</td>\n",
       "      <td>0.000000</td>\n",
       "      <td>0.728736</td>\n",
       "    </tr>\n",
       "    <tr>\n",
       "      <th>39</th>\n",
       "      <td>Homogeneity &gt; 0.564</td>\n",
       "      <td>0.850794</td>\n",
       "      <td>0.000000</td>\n",
       "      <td>0.149206</td>\n",
       "      <td>0.395080</td>\n",
       "      <td>0.000000</td>\n",
       "      <td>0.604920</td>\n",
       "    </tr>\n",
       "    <tr>\n",
       "      <th>40</th>\n",
       "      <td>Dissimilarity &lt; 3.505</td>\n",
       "      <td>0.137881</td>\n",
       "      <td>0.486047</td>\n",
       "      <td>0.376072</td>\n",
       "      <td>0.164888</td>\n",
       "      <td>0.018681</td>\n",
       "      <td>0.816431</td>\n",
       "    </tr>\n",
       "    <tr>\n",
       "      <th>41</th>\n",
       "      <td>3.505 &lt; Dissimilarity &lt; 4.697</td>\n",
       "      <td>0.372083</td>\n",
       "      <td>0.327516</td>\n",
       "      <td>0.300401</td>\n",
       "      <td>0.205575</td>\n",
       "      <td>0.000000</td>\n",
       "      <td>0.794425</td>\n",
       "    </tr>\n",
       "    <tr>\n",
       "      <th>42</th>\n",
       "      <td>4.697 &lt; Dissimilarity &lt; 5.889</td>\n",
       "      <td>0.305276</td>\n",
       "      <td>0.370992</td>\n",
       "      <td>0.323731</td>\n",
       "      <td>0.101529</td>\n",
       "      <td>0.176265</td>\n",
       "      <td>0.722206</td>\n",
       "    </tr>\n",
       "    <tr>\n",
       "      <th>43</th>\n",
       "      <td>Dissimilarity &gt; 5.889</td>\n",
       "      <td>0.240025</td>\n",
       "      <td>0.409792</td>\n",
       "      <td>0.350183</td>\n",
       "      <td>0.000000</td>\n",
       "      <td>0.264855</td>\n",
       "      <td>0.735145</td>\n",
       "    </tr>\n",
       "    <tr>\n",
       "      <th>44</th>\n",
       "      <td>Correlation &lt; 0.938</td>\n",
       "      <td>0.121916</td>\n",
       "      <td>0.522716</td>\n",
       "      <td>0.355368</td>\n",
       "      <td>0.329201</td>\n",
       "      <td>0.000000</td>\n",
       "      <td>0.670799</td>\n",
       "    </tr>\n",
       "    <tr>\n",
       "      <th>45</th>\n",
       "      <td>0.938 &lt; Correlation &lt; 0.956</td>\n",
       "      <td>0.282154</td>\n",
       "      <td>0.385722</td>\n",
       "      <td>0.332124</td>\n",
       "      <td>0.163081</td>\n",
       "      <td>0.028588</td>\n",
       "      <td>0.808331</td>\n",
       "    </tr>\n",
       "    <tr>\n",
       "      <th>46</th>\n",
       "      <td>0.956 &lt; Correlation &lt; 0.974</td>\n",
       "      <td>0.242933</td>\n",
       "      <td>0.414230</td>\n",
       "      <td>0.342837</td>\n",
       "      <td>0.000000</td>\n",
       "      <td>0.194967</td>\n",
       "      <td>0.805033</td>\n",
       "    </tr>\n",
       "    <tr>\n",
       "      <th>47</th>\n",
       "      <td>Correlation &gt; 0.974</td>\n",
       "      <td>0.306660</td>\n",
       "      <td>0.363721</td>\n",
       "      <td>0.329619</td>\n",
       "      <td>0.182173</td>\n",
       "      <td>0.000000</td>\n",
       "      <td>0.817827</td>\n",
       "    </tr>\n",
       "    <tr>\n",
       "      <th>48</th>\n",
       "      <td>Coarseness = 7.46e-155</td>\n",
       "      <td>0.716046</td>\n",
       "      <td>0.141977</td>\n",
       "      <td>0.141977</td>\n",
       "      <td>0.084384</td>\n",
       "      <td>0.115616</td>\n",
       "      <td>0.800000</td>\n",
       "    </tr>\n",
       "  </tbody>\n",
       "</table>\n",
       "</div>"
      ],
      "text/plain": [
       "                                    rule  mass_first_kmeans  \\\n",
       "0                           Mean < 5.570           0.103486   \n",
       "1                   5.570 < Mean < 9.285           0.232696   \n",
       "2                  9.285 < Mean < 13.001           0.302733   \n",
       "3                          Mean > 13.001           0.095045   \n",
       "4                     Variance < 398.858           0.121278   \n",
       "5           398.858 < Variance < 687.977           0.243402   \n",
       "6           687.977 < Variance < 977.096           0.104279   \n",
       "7                     Variance > 977.096           0.063800   \n",
       "8            Standard Deviation < 19.156           0.100246   \n",
       "9   19.156 < Standard Deviation < 24.839           0.256166   \n",
       "10  24.839 < Standard Deviation < 30.522           0.100663   \n",
       "11           Standard Deviation > 30.522           0.053277   \n",
       "12                       Entropy < 0.026           0.265740   \n",
       "13               0.026 < Entropy < 0.073           0.590367   \n",
       "14               0.073 < Entropy < 0.120           0.883220   \n",
       "15                       Entropy > 0.120           0.829463   \n",
       "16                      Skewness < 2.366           0.764927   \n",
       "17              2.366 < Skewness < 4.164           0.328408   \n",
       "18              4.164 < Skewness < 5.961           0.211666   \n",
       "19                      Skewness > 5.961           0.100906   \n",
       "20                    Kurtosis < -19.759           0.000000   \n",
       "21           -19.759 < Kurtosis < 25.478           0.317578   \n",
       "22            25.478 < Kurtosis < 70.715           0.181862   \n",
       "23                     Kurtosis > 70.715           0.000000   \n",
       "24                     Contrast < 64.875           0.135597   \n",
       "25           64.875 < Contrast < 125.458           0.231641   \n",
       "26          125.458 < Contrast < 186.041           0.366542   \n",
       "27                    Contrast > 186.041           0.235711   \n",
       "28                        Energy < 0.116           0.261301   \n",
       "29                0.116 < Energy < 0.203           0.225185   \n",
       "30                0.203 < Energy < 0.291           0.793778   \n",
       "31                        Energy > 0.291           0.842829   \n",
       "32                           ASM < 0.019           0.265740   \n",
       "33                   0.019 < ASM < 0.058           0.588033   \n",
       "34                   0.058 < ASM < 0.097           0.880887   \n",
       "35                           ASM > 0.097           0.829102   \n",
       "36                   Homogeneity < 0.392           0.233981   \n",
       "37           0.392 < Homogeneity < 0.478           0.042895   \n",
       "38           0.478 < Homogeneity < 0.564           0.659872   \n",
       "39                   Homogeneity > 0.564           0.850794   \n",
       "40                 Dissimilarity < 3.505           0.137881   \n",
       "41         3.505 < Dissimilarity < 4.697           0.372083   \n",
       "42         4.697 < Dissimilarity < 5.889           0.305276   \n",
       "43                 Dissimilarity > 5.889           0.240025   \n",
       "44                   Correlation < 0.938           0.121916   \n",
       "45           0.938 < Correlation < 0.956           0.282154   \n",
       "46           0.956 < Correlation < 0.974           0.242933   \n",
       "47                   Correlation > 0.974           0.306660   \n",
       "48                Coarseness = 7.46e-155           0.716046   \n",
       "\n",
       "    mass_second_kmeans  uncertainty_kmeans  mass_first_random  \\\n",
       "0             0.541283            0.355231           0.039337   \n",
       "1             0.418036            0.349268           0.039537   \n",
       "2             0.363204            0.334063           0.139017   \n",
       "3             0.685722            0.219234           0.254088   \n",
       "4             0.524622            0.354100           0.230529   \n",
       "5             0.403388            0.353210           0.141709   \n",
       "6             0.539633            0.356087           0.045751   \n",
       "7             0.710347            0.225853           0.000000   \n",
       "8             0.547191            0.352563           0.165505   \n",
       "9             0.395774            0.348059           0.178942   \n",
       "10            0.544460            0.354877           0.100383   \n",
       "11            0.713911            0.232812           0.000000   \n",
       "12            0.394670            0.339590           0.000000   \n",
       "13            0.163976            0.245656           0.054336   \n",
       "14            0.000000            0.116779           0.394227   \n",
       "15            0.000000            0.170537           0.370510   \n",
       "16            0.009780            0.225293           0.387639   \n",
       "17            0.354822            0.316770           0.179608   \n",
       "18            0.435436            0.352898           0.000000   \n",
       "19            0.547385            0.351709           0.000000   \n",
       "20            0.000000            1.000000           0.083584   \n",
       "21            0.362617            0.319805           0.219837   \n",
       "22            0.463598            0.354540           0.000000   \n",
       "23            0.650392            0.349608           0.000000   \n",
       "24            0.502298            0.362105           0.078786   \n",
       "25            0.424303            0.344056           0.095953   \n",
       "26            0.329288            0.304170           0.233659   \n",
       "27            0.411489            0.352800           0.106556   \n",
       "28            0.396925            0.341775           0.000000   \n",
       "29            0.423426            0.351389           0.000000   \n",
       "30            0.000000            0.206222           0.292096   \n",
       "31            0.000000            0.157171           0.383257   \n",
       "32            0.394670            0.339590           0.000000   \n",
       "33            0.164725            0.247242           0.138300   \n",
       "34            0.000000            0.119113           0.309249   \n",
       "35            0.000000            0.170898           0.420762   \n",
       "36            0.415370            0.350649           0.000000   \n",
       "37            0.899496            0.057609           0.000000   \n",
       "38            0.079852            0.260275           0.271264   \n",
       "39            0.000000            0.149206           0.395080   \n",
       "40            0.486047            0.376072           0.164888   \n",
       "41            0.327516            0.300401           0.205575   \n",
       "42            0.370992            0.323731           0.101529   \n",
       "43            0.409792            0.350183           0.000000   \n",
       "44            0.522716            0.355368           0.329201   \n",
       "45            0.385722            0.332124           0.163081   \n",
       "46            0.414230            0.342837           0.000000   \n",
       "47            0.363721            0.329619           0.182173   \n",
       "48            0.141977            0.141977           0.084384   \n",
       "\n",
       "    mass_second_random  uncertainty_random  \n",
       "0             0.150540            0.810123  \n",
       "1             0.140639            0.819823  \n",
       "2             0.032521            0.828462  \n",
       "3             0.000000            0.745912  \n",
       "4             0.000000            0.769471  \n",
       "5             0.040688            0.817603  \n",
       "6             0.130867            0.823382  \n",
       "7             0.287257            0.712743  \n",
       "8             0.004691            0.829804  \n",
       "9             0.011055            0.810002  \n",
       "10            0.084157            0.815460  \n",
       "11            0.351835            0.648165  \n",
       "12            0.482981            0.517019  \n",
       "13            0.122196            0.823468  \n",
       "14            0.000000            0.605773  \n",
       "15            0.000000            0.629490  \n",
       "16            0.000000            0.612361  \n",
       "17            0.066610            0.753782  \n",
       "18            0.274597            0.725403  \n",
       "19            0.505500            0.494500  \n",
       "20            0.116416            0.800000  \n",
       "21            0.000000            0.780163  \n",
       "22            0.303090            0.696910  \n",
       "23            0.344792            0.655208  \n",
       "24            0.100865            0.820349  \n",
       "25            0.089064            0.814983  \n",
       "26            0.000000            0.766341  \n",
       "27            0.072211            0.821233  \n",
       "28            0.452059            0.547941  \n",
       "29            0.649879            0.350121  \n",
       "30            0.000000            0.707904  \n",
       "31            0.000000            0.616743  \n",
       "32            0.389694            0.610306  \n",
       "33            0.050420            0.811280  \n",
       "34            0.000000            0.690751  \n",
       "35            0.000000            0.579238  \n",
       "36            0.447142            0.552858  \n",
       "37            0.533026            0.466974  \n",
       "38            0.000000            0.728736  \n",
       "39            0.000000            0.604920  \n",
       "40            0.018681            0.816431  \n",
       "41            0.000000            0.794425  \n",
       "42            0.176265            0.722206  \n",
       "43            0.264855            0.735145  \n",
       "44            0.000000            0.670799  \n",
       "45            0.028588            0.808331  \n",
       "46            0.194967            0.805033  \n",
       "47            0.000000            0.817827  \n",
       "48            0.115616            0.800000  "
      ]
     },
     "execution_count": 59,
     "metadata": {},
     "output_type": "execute_result"
    }
   ],
   "source": [
    "merged"
   ]
  },
  {
   "cell_type": "code",
   "execution_count": 60,
   "metadata": {},
   "outputs": [
    {
     "data": {
      "application/vnd.plotly.v1+json": {
       "config": {
        "plotlyServerURL": "https://plot.ly"
       },
       "data": [
        {
         "alignmentgroup": "True",
         "hovertemplate": "variable=uncertainty_kmeans<br>rule=%{x}<br>value=%{y}<extra></extra>",
         "legendgroup": "uncertainty_kmeans",
         "marker": {
          "color": "#636efa",
          "pattern": {
           "shape": ""
          }
         },
         "name": "uncertainty_kmeans",
         "offsetgroup": "uncertainty_kmeans",
         "orientation": "v",
         "showlegend": true,
         "textposition": "auto",
         "type": "bar",
         "x": [
          "Mean < 5.570",
          "5.570 < Mean < 9.285",
          "9.285 < Mean < 13.001",
          "Mean > 13.001",
          "Variance < 398.858",
          "398.858 < Variance < 687.977",
          "687.977 < Variance < 977.096",
          "Variance > 977.096",
          "Standard Deviation < 19.156",
          "19.156 < Standard Deviation < 24.839",
          "24.839 < Standard Deviation < 30.522",
          "Standard Deviation > 30.522",
          "Entropy < 0.026",
          "0.026 < Entropy < 0.073",
          "0.073 < Entropy < 0.120",
          "Entropy > 0.120",
          "Skewness < 2.366",
          "2.366 < Skewness < 4.164",
          "4.164 < Skewness < 5.961",
          "Skewness > 5.961",
          "Kurtosis < -19.759",
          "-19.759 < Kurtosis < 25.478",
          "25.478 < Kurtosis < 70.715",
          "Kurtosis > 70.715",
          "Contrast < 64.875",
          "64.875 < Contrast < 125.458",
          "125.458 < Contrast < 186.041",
          "Contrast > 186.041",
          "Energy < 0.116",
          "0.116 < Energy < 0.203",
          "0.203 < Energy < 0.291",
          "Energy > 0.291",
          "ASM < 0.019",
          "0.019 < ASM < 0.058",
          "0.058 < ASM < 0.097",
          "ASM > 0.097",
          "Homogeneity < 0.392",
          "0.392 < Homogeneity < 0.478",
          "0.478 < Homogeneity < 0.564",
          "Homogeneity > 0.564",
          "Dissimilarity < 3.505",
          "3.505 < Dissimilarity < 4.697",
          "4.697 < Dissimilarity < 5.889",
          "Dissimilarity > 5.889",
          "Correlation < 0.938",
          "0.938 < Correlation < 0.956",
          "0.956 < Correlation < 0.974",
          "Correlation > 0.974",
          "Coarseness = 7.46e-155"
         ],
         "xaxis": "x",
         "y": [
          0.3552308678627014,
          0.3492678999900818,
          0.3340631425380707,
          0.21923372149467468,
          0.35409998893737793,
          0.35320964455604553,
          0.35608723759651184,
          0.22585268318653107,
          0.35256314277648926,
          0.34805914759635925,
          0.35487669706344604,
          0.23281197249889374,
          0.3395897150039673,
          0.24565629661083221,
          0.11677949130535126,
          0.170537069439888,
          0.22529295086860657,
          0.31676971912384033,
          0.3528977334499359,
          0.35170918703079224,
          1,
          0.3198052644729614,
          0.35454046726226807,
          0.3496083617210388,
          0.3621053695678711,
          0.3440559208393097,
          0.30417048931121826,
          0.3527998626232147,
          0.34177473187446594,
          0.35138893127441406,
          0.20622175931930542,
          0.15717074275016785,
          0.3395897150039673,
          0.24724161624908447,
          0.11911273002624512,
          0.1708984524011612,
          0.3506487309932709,
          0.05760859698057175,
          0.2602754235267639,
          0.1492062360048294,
          0.3760721981525421,
          0.300400972366333,
          0.3237311840057373,
          0.3501827120780945,
          0.3553681969642639,
          0.3321244418621063,
          0.3428366184234619,
          0.32961907982826233,
          0.14197705686092377
         ],
         "yaxis": "y"
        },
        {
         "alignmentgroup": "True",
         "hovertemplate": "variable=uncertainty_random<br>rule=%{x}<br>value=%{y}<extra></extra>",
         "legendgroup": "uncertainty_random",
         "marker": {
          "color": "#EF553B",
          "pattern": {
           "shape": ""
          }
         },
         "name": "uncertainty_random",
         "offsetgroup": "uncertainty_random",
         "orientation": "v",
         "showlegend": true,
         "textposition": "auto",
         "type": "bar",
         "x": [
          "Mean < 5.570",
          "5.570 < Mean < 9.285",
          "9.285 < Mean < 13.001",
          "Mean > 13.001",
          "Variance < 398.858",
          "398.858 < Variance < 687.977",
          "687.977 < Variance < 977.096",
          "Variance > 977.096",
          "Standard Deviation < 19.156",
          "19.156 < Standard Deviation < 24.839",
          "24.839 < Standard Deviation < 30.522",
          "Standard Deviation > 30.522",
          "Entropy < 0.026",
          "0.026 < Entropy < 0.073",
          "0.073 < Entropy < 0.120",
          "Entropy > 0.120",
          "Skewness < 2.366",
          "2.366 < Skewness < 4.164",
          "4.164 < Skewness < 5.961",
          "Skewness > 5.961",
          "Kurtosis < -19.759",
          "-19.759 < Kurtosis < 25.478",
          "25.478 < Kurtosis < 70.715",
          "Kurtosis > 70.715",
          "Contrast < 64.875",
          "64.875 < Contrast < 125.458",
          "125.458 < Contrast < 186.041",
          "Contrast > 186.041",
          "Energy < 0.116",
          "0.116 < Energy < 0.203",
          "0.203 < Energy < 0.291",
          "Energy > 0.291",
          "ASM < 0.019",
          "0.019 < ASM < 0.058",
          "0.058 < ASM < 0.097",
          "ASM > 0.097",
          "Homogeneity < 0.392",
          "0.392 < Homogeneity < 0.478",
          "0.478 < Homogeneity < 0.564",
          "Homogeneity > 0.564",
          "Dissimilarity < 3.505",
          "3.505 < Dissimilarity < 4.697",
          "4.697 < Dissimilarity < 5.889",
          "Dissimilarity > 5.889",
          "Correlation < 0.938",
          "0.938 < Correlation < 0.956",
          "0.956 < Correlation < 0.974",
          "Correlation > 0.974",
          "Coarseness = 7.46e-155"
         ],
         "xaxis": "x",
         "y": [
          0.8101226091384888,
          0.8198233842849731,
          0.8284618854522705,
          0.7459121942520142,
          0.7694714665412903,
          0.8176025748252869,
          0.8233820796012878,
          0.7127425670623779,
          0.8298040628433228,
          0.8100024461746216,
          0.8154600262641907,
          0.6481654047966003,
          0.5170186161994934,
          0.8234680891036987,
          0.6057727932929993,
          0.6294897794723511,
          0.6123611330986023,
          0.7537820339202881,
          0.72540283203125,
          0.4944998025894165,
          0.800000011920929,
          0.7801627516746521,
          0.6969104409217834,
          0.655207633972168,
          0.8203492760658264,
          0.8149829506874084,
          0.7663410902023315,
          0.8212330341339111,
          0.5479407906532288,
          0.3501209616661072,
          0.7079035043716431,
          0.616743266582489,
          0.6103061437606812,
          0.8112801909446716,
          0.6907510161399841,
          0.5792379975318909,
          0.5528578162193298,
          0.46697354316711426,
          0.7287358045578003,
          0.6049198508262634,
          0.8164306282997131,
          0.7944254279136658,
          0.7222060561180115,
          0.7351447343826294,
          0.6707990169525146,
          0.8083311915397644,
          0.8050325512886047,
          0.8178274631500244,
          0.800000011920929
         ],
         "yaxis": "y"
        }
       ],
       "layout": {
        "barmode": "group",
        "legend": {
         "title": {
          "text": "variable"
         },
         "tracegroupgap": 0
        },
        "template": {
         "data": {
          "bar": [
           {
            "error_x": {
             "color": "#2a3f5f"
            },
            "error_y": {
             "color": "#2a3f5f"
            },
            "marker": {
             "line": {
              "color": "#E5ECF6",
              "width": 0.5
             },
             "pattern": {
              "fillmode": "overlay",
              "size": 10,
              "solidity": 0.2
             }
            },
            "type": "bar"
           }
          ],
          "barpolar": [
           {
            "marker": {
             "line": {
              "color": "#E5ECF6",
              "width": 0.5
             },
             "pattern": {
              "fillmode": "overlay",
              "size": 10,
              "solidity": 0.2
             }
            },
            "type": "barpolar"
           }
          ],
          "carpet": [
           {
            "aaxis": {
             "endlinecolor": "#2a3f5f",
             "gridcolor": "white",
             "linecolor": "white",
             "minorgridcolor": "white",
             "startlinecolor": "#2a3f5f"
            },
            "baxis": {
             "endlinecolor": "#2a3f5f",
             "gridcolor": "white",
             "linecolor": "white",
             "minorgridcolor": "white",
             "startlinecolor": "#2a3f5f"
            },
            "type": "carpet"
           }
          ],
          "choropleth": [
           {
            "colorbar": {
             "outlinewidth": 0,
             "ticks": ""
            },
            "type": "choropleth"
           }
          ],
          "contour": [
           {
            "colorbar": {
             "outlinewidth": 0,
             "ticks": ""
            },
            "colorscale": [
             [
              0,
              "#0d0887"
             ],
             [
              0.1111111111111111,
              "#46039f"
             ],
             [
              0.2222222222222222,
              "#7201a8"
             ],
             [
              0.3333333333333333,
              "#9c179e"
             ],
             [
              0.4444444444444444,
              "#bd3786"
             ],
             [
              0.5555555555555556,
              "#d8576b"
             ],
             [
              0.6666666666666666,
              "#ed7953"
             ],
             [
              0.7777777777777778,
              "#fb9f3a"
             ],
             [
              0.8888888888888888,
              "#fdca26"
             ],
             [
              1,
              "#f0f921"
             ]
            ],
            "type": "contour"
           }
          ],
          "contourcarpet": [
           {
            "colorbar": {
             "outlinewidth": 0,
             "ticks": ""
            },
            "type": "contourcarpet"
           }
          ],
          "heatmap": [
           {
            "colorbar": {
             "outlinewidth": 0,
             "ticks": ""
            },
            "colorscale": [
             [
              0,
              "#0d0887"
             ],
             [
              0.1111111111111111,
              "#46039f"
             ],
             [
              0.2222222222222222,
              "#7201a8"
             ],
             [
              0.3333333333333333,
              "#9c179e"
             ],
             [
              0.4444444444444444,
              "#bd3786"
             ],
             [
              0.5555555555555556,
              "#d8576b"
             ],
             [
              0.6666666666666666,
              "#ed7953"
             ],
             [
              0.7777777777777778,
              "#fb9f3a"
             ],
             [
              0.8888888888888888,
              "#fdca26"
             ],
             [
              1,
              "#f0f921"
             ]
            ],
            "type": "heatmap"
           }
          ],
          "heatmapgl": [
           {
            "colorbar": {
             "outlinewidth": 0,
             "ticks": ""
            },
            "colorscale": [
             [
              0,
              "#0d0887"
             ],
             [
              0.1111111111111111,
              "#46039f"
             ],
             [
              0.2222222222222222,
              "#7201a8"
             ],
             [
              0.3333333333333333,
              "#9c179e"
             ],
             [
              0.4444444444444444,
              "#bd3786"
             ],
             [
              0.5555555555555556,
              "#d8576b"
             ],
             [
              0.6666666666666666,
              "#ed7953"
             ],
             [
              0.7777777777777778,
              "#fb9f3a"
             ],
             [
              0.8888888888888888,
              "#fdca26"
             ],
             [
              1,
              "#f0f921"
             ]
            ],
            "type": "heatmapgl"
           }
          ],
          "histogram": [
           {
            "marker": {
             "pattern": {
              "fillmode": "overlay",
              "size": 10,
              "solidity": 0.2
             }
            },
            "type": "histogram"
           }
          ],
          "histogram2d": [
           {
            "colorbar": {
             "outlinewidth": 0,
             "ticks": ""
            },
            "colorscale": [
             [
              0,
              "#0d0887"
             ],
             [
              0.1111111111111111,
              "#46039f"
             ],
             [
              0.2222222222222222,
              "#7201a8"
             ],
             [
              0.3333333333333333,
              "#9c179e"
             ],
             [
              0.4444444444444444,
              "#bd3786"
             ],
             [
              0.5555555555555556,
              "#d8576b"
             ],
             [
              0.6666666666666666,
              "#ed7953"
             ],
             [
              0.7777777777777778,
              "#fb9f3a"
             ],
             [
              0.8888888888888888,
              "#fdca26"
             ],
             [
              1,
              "#f0f921"
             ]
            ],
            "type": "histogram2d"
           }
          ],
          "histogram2dcontour": [
           {
            "colorbar": {
             "outlinewidth": 0,
             "ticks": ""
            },
            "colorscale": [
             [
              0,
              "#0d0887"
             ],
             [
              0.1111111111111111,
              "#46039f"
             ],
             [
              0.2222222222222222,
              "#7201a8"
             ],
             [
              0.3333333333333333,
              "#9c179e"
             ],
             [
              0.4444444444444444,
              "#bd3786"
             ],
             [
              0.5555555555555556,
              "#d8576b"
             ],
             [
              0.6666666666666666,
              "#ed7953"
             ],
             [
              0.7777777777777778,
              "#fb9f3a"
             ],
             [
              0.8888888888888888,
              "#fdca26"
             ],
             [
              1,
              "#f0f921"
             ]
            ],
            "type": "histogram2dcontour"
           }
          ],
          "mesh3d": [
           {
            "colorbar": {
             "outlinewidth": 0,
             "ticks": ""
            },
            "type": "mesh3d"
           }
          ],
          "parcoords": [
           {
            "line": {
             "colorbar": {
              "outlinewidth": 0,
              "ticks": ""
             }
            },
            "type": "parcoords"
           }
          ],
          "pie": [
           {
            "automargin": true,
            "type": "pie"
           }
          ],
          "scatter": [
           {
            "fillpattern": {
             "fillmode": "overlay",
             "size": 10,
             "solidity": 0.2
            },
            "type": "scatter"
           }
          ],
          "scatter3d": [
           {
            "line": {
             "colorbar": {
              "outlinewidth": 0,
              "ticks": ""
             }
            },
            "marker": {
             "colorbar": {
              "outlinewidth": 0,
              "ticks": ""
             }
            },
            "type": "scatter3d"
           }
          ],
          "scattercarpet": [
           {
            "marker": {
             "colorbar": {
              "outlinewidth": 0,
              "ticks": ""
             }
            },
            "type": "scattercarpet"
           }
          ],
          "scattergeo": [
           {
            "marker": {
             "colorbar": {
              "outlinewidth": 0,
              "ticks": ""
             }
            },
            "type": "scattergeo"
           }
          ],
          "scattergl": [
           {
            "marker": {
             "colorbar": {
              "outlinewidth": 0,
              "ticks": ""
             }
            },
            "type": "scattergl"
           }
          ],
          "scattermapbox": [
           {
            "marker": {
             "colorbar": {
              "outlinewidth": 0,
              "ticks": ""
             }
            },
            "type": "scattermapbox"
           }
          ],
          "scatterpolar": [
           {
            "marker": {
             "colorbar": {
              "outlinewidth": 0,
              "ticks": ""
             }
            },
            "type": "scatterpolar"
           }
          ],
          "scatterpolargl": [
           {
            "marker": {
             "colorbar": {
              "outlinewidth": 0,
              "ticks": ""
             }
            },
            "type": "scatterpolargl"
           }
          ],
          "scatterternary": [
           {
            "marker": {
             "colorbar": {
              "outlinewidth": 0,
              "ticks": ""
             }
            },
            "type": "scatterternary"
           }
          ],
          "surface": [
           {
            "colorbar": {
             "outlinewidth": 0,
             "ticks": ""
            },
            "colorscale": [
             [
              0,
              "#0d0887"
             ],
             [
              0.1111111111111111,
              "#46039f"
             ],
             [
              0.2222222222222222,
              "#7201a8"
             ],
             [
              0.3333333333333333,
              "#9c179e"
             ],
             [
              0.4444444444444444,
              "#bd3786"
             ],
             [
              0.5555555555555556,
              "#d8576b"
             ],
             [
              0.6666666666666666,
              "#ed7953"
             ],
             [
              0.7777777777777778,
              "#fb9f3a"
             ],
             [
              0.8888888888888888,
              "#fdca26"
             ],
             [
              1,
              "#f0f921"
             ]
            ],
            "type": "surface"
           }
          ],
          "table": [
           {
            "cells": {
             "fill": {
              "color": "#EBF0F8"
             },
             "line": {
              "color": "white"
             }
            },
            "header": {
             "fill": {
              "color": "#C8D4E3"
             },
             "line": {
              "color": "white"
             }
            },
            "type": "table"
           }
          ]
         },
         "layout": {
          "annotationdefaults": {
           "arrowcolor": "#2a3f5f",
           "arrowhead": 0,
           "arrowwidth": 1
          },
          "autotypenumbers": "strict",
          "coloraxis": {
           "colorbar": {
            "outlinewidth": 0,
            "ticks": ""
           }
          },
          "colorscale": {
           "diverging": [
            [
             0,
             "#8e0152"
            ],
            [
             0.1,
             "#c51b7d"
            ],
            [
             0.2,
             "#de77ae"
            ],
            [
             0.3,
             "#f1b6da"
            ],
            [
             0.4,
             "#fde0ef"
            ],
            [
             0.5,
             "#f7f7f7"
            ],
            [
             0.6,
             "#e6f5d0"
            ],
            [
             0.7,
             "#b8e186"
            ],
            [
             0.8,
             "#7fbc41"
            ],
            [
             0.9,
             "#4d9221"
            ],
            [
             1,
             "#276419"
            ]
           ],
           "sequential": [
            [
             0,
             "#0d0887"
            ],
            [
             0.1111111111111111,
             "#46039f"
            ],
            [
             0.2222222222222222,
             "#7201a8"
            ],
            [
             0.3333333333333333,
             "#9c179e"
            ],
            [
             0.4444444444444444,
             "#bd3786"
            ],
            [
             0.5555555555555556,
             "#d8576b"
            ],
            [
             0.6666666666666666,
             "#ed7953"
            ],
            [
             0.7777777777777778,
             "#fb9f3a"
            ],
            [
             0.8888888888888888,
             "#fdca26"
            ],
            [
             1,
             "#f0f921"
            ]
           ],
           "sequentialminus": [
            [
             0,
             "#0d0887"
            ],
            [
             0.1111111111111111,
             "#46039f"
            ],
            [
             0.2222222222222222,
             "#7201a8"
            ],
            [
             0.3333333333333333,
             "#9c179e"
            ],
            [
             0.4444444444444444,
             "#bd3786"
            ],
            [
             0.5555555555555556,
             "#d8576b"
            ],
            [
             0.6666666666666666,
             "#ed7953"
            ],
            [
             0.7777777777777778,
             "#fb9f3a"
            ],
            [
             0.8888888888888888,
             "#fdca26"
            ],
            [
             1,
             "#f0f921"
            ]
           ]
          },
          "colorway": [
           "#636efa",
           "#EF553B",
           "#00cc96",
           "#ab63fa",
           "#FFA15A",
           "#19d3f3",
           "#FF6692",
           "#B6E880",
           "#FF97FF",
           "#FECB52"
          ],
          "font": {
           "color": "#2a3f5f"
          },
          "geo": {
           "bgcolor": "white",
           "lakecolor": "white",
           "landcolor": "#E5ECF6",
           "showlakes": true,
           "showland": true,
           "subunitcolor": "white"
          },
          "hoverlabel": {
           "align": "left"
          },
          "hovermode": "closest",
          "mapbox": {
           "style": "light"
          },
          "paper_bgcolor": "white",
          "plot_bgcolor": "#E5ECF6",
          "polar": {
           "angularaxis": {
            "gridcolor": "white",
            "linecolor": "white",
            "ticks": ""
           },
           "bgcolor": "#E5ECF6",
           "radialaxis": {
            "gridcolor": "white",
            "linecolor": "white",
            "ticks": ""
           }
          },
          "scene": {
           "xaxis": {
            "backgroundcolor": "#E5ECF6",
            "gridcolor": "white",
            "gridwidth": 2,
            "linecolor": "white",
            "showbackground": true,
            "ticks": "",
            "zerolinecolor": "white"
           },
           "yaxis": {
            "backgroundcolor": "#E5ECF6",
            "gridcolor": "white",
            "gridwidth": 2,
            "linecolor": "white",
            "showbackground": true,
            "ticks": "",
            "zerolinecolor": "white"
           },
           "zaxis": {
            "backgroundcolor": "#E5ECF6",
            "gridcolor": "white",
            "gridwidth": 2,
            "linecolor": "white",
            "showbackground": true,
            "ticks": "",
            "zerolinecolor": "white"
           }
          },
          "shapedefaults": {
           "line": {
            "color": "#2a3f5f"
           }
          },
          "ternary": {
           "aaxis": {
            "gridcolor": "white",
            "linecolor": "white",
            "ticks": ""
           },
           "baxis": {
            "gridcolor": "white",
            "linecolor": "white",
            "ticks": ""
           },
           "bgcolor": "#E5ECF6",
           "caxis": {
            "gridcolor": "white",
            "linecolor": "white",
            "ticks": ""
           }
          },
          "title": {
           "x": 0.05
          },
          "xaxis": {
           "automargin": true,
           "gridcolor": "white",
           "linecolor": "white",
           "ticks": "",
           "title": {
            "standoff": 15
           },
           "zerolinecolor": "white",
           "zerolinewidth": 2
          },
          "yaxis": {
           "automargin": true,
           "gridcolor": "white",
           "linecolor": "white",
           "ticks": "",
           "title": {
            "standoff": 15
           },
           "zerolinecolor": "white",
           "zerolinewidth": 2
          }
         }
        },
        "title": {
         "text": "Uncertainty comparison between kmeans and random"
        },
        "xaxis": {
         "anchor": "y",
         "domain": [
          0,
          1
         ],
         "title": {
          "text": "rule"
         }
        },
        "yaxis": {
         "anchor": "x",
         "domain": [
          0,
          1
         ],
         "title": {
          "text": "value"
         }
        }
       }
      }
     },
     "metadata": {},
     "output_type": "display_data"
    }
   ],
   "source": [
    "px.bar(merged, x='rule', y=['uncertainty_kmeans', 'uncertainty_random'], \n",
    "       title='Uncertainty comparison between kmeans and random', # put bars next to each other\n",
    "       barmode='group')"
   ]
  },
  {
   "cell_type": "code",
   "execution_count": null,
   "metadata": {},
   "outputs": [],
   "source": []
  }
 ],
 "metadata": {
  "kernelspec": {
   "display_name": "thesis",
   "language": "python",
   "name": "python3"
  },
  "language_info": {
   "codemirror_mode": {
    "name": "ipython",
    "version": 3
   },
   "file_extension": ".py",
   "mimetype": "text/x-python",
   "name": "python",
   "nbconvert_exporter": "python",
   "pygments_lexer": "ipython3",
   "version": "3.10.14"
  }
 },
 "nbformat": 4,
 "nbformat_minor": 2
}
