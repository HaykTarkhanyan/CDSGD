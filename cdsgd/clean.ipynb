{
 "cells": [
  {
   "cell_type": "markdown",
   "metadata": {},
   "source": [
    "# Imports and variable setup"
   ]
  },
  {
   "cell_type": "code",
   "execution_count": 1,
   "metadata": {},
   "outputs": [
    {
     "name": "stderr",
     "output_type": "stream",
     "text": [
      "c:\\Users\\hayk_\\.conda\\envs\\thesis\\lib\\site-packages\\tqdm\\auto.py:21: TqdmWarning: IProgress not found. Please update jupyter and ipywidgets. See https://ipywidgets.readthedocs.io/en/stable/user_install.html\n",
      "  from .autonotebook import tqdm as notebook_tqdm\n"
     ]
    }
   ],
   "source": [
    "from sklearn.cluster import KMeans, AgglomerativeClustering, DBSCAN\n",
    "from sklearn.metrics import silhouette_score, calinski_harabasz_score\n",
    "import plotly.express as px\n",
    "import pandas as pd\n",
    "import numpy as np\n",
    "import os\n",
    "\n",
    "import datetime \n",
    "\n",
    "from sklearn.metrics import accuracy_score, f1_score\n",
    "from sklearn.metrics import confusion_matrix\n",
    "from sklearn.model_selection import cross_validate, cross_val_score\n",
    "from sklearn.model_selection import train_test_split\n",
    "from sklearn.preprocessing import StandardScaler\n",
    "\n",
    "from utils import filter_by_rule, detect_outliers_z_score, report_results\n",
    "from config import *\n",
    "import pickle\n",
    "\n",
    "\n",
    "import warnings\n",
    "from pandas.errors import SettingWithCopyWarning\n",
    "warnings.simplefilter(action='ignore', category=(SettingWithCopyWarning, FutureWarning))\n",
    "\n",
    "from DSClassifierMultiQ import DSClassifierMultiQ\n",
    "\n"
   ]
  },
  {
   "cell_type": "code",
   "execution_count": 2,
   "metadata": {},
   "outputs": [],
   "source": [
    "import logging\n",
    "\n",
    "\n",
    "if not os.path.exists(\"logs\"):\n",
    "    os.mkdir(\"logs\")\n",
    "\n",
    "log_file = os.path.join(\"logs\", \"api.log\")\n",
    "\n",
    "rfh = logging.handlers.RotatingFileHandler(\n",
    "    filename=log_file,\n",
    "    mode='a',\n",
    "    maxBytes=LOGGING_MAX_SIZE_MB*1024*1024,\n",
    "    backupCount=LOGGING_BACKUP_COUNT,\n",
    "    encoding=None,\n",
    "    delay=0\n",
    ")\n",
    "\n",
    "console_handler = logging.StreamHandler()\n",
    "\n",
    "logging.basicConfig(\n",
    "    level=logging.DEBUG,\n",
    "    format=\"%(asctime)s [%(levelname)s] %(message)s\",\n",
    "    datefmt=\"%y-%m-%d %H:%M:%S\",\n",
    "    handlers=[\n",
    "        rfh,\n",
    "        console_handler\n",
    "    ],\n",
    ")\n",
    "\n",
    "logger = logging.getLogger(__name__)"
   ]
  },
  {
   "cell_type": "code",
   "execution_count": 4,
   "metadata": {},
   "outputs": [
    {
     "name": "stderr",
     "output_type": "stream",
     "text": [
      "24-04-27 13:41:19 [INFO] Found 2 datasets\n"
     ]
    }
   ],
   "source": [
    "#  https://www.kaggle.com/datasets/jakeshbohaju/brain-tumor/data\n",
    "DATASET_FOLDER = \"datasets\" \n",
    "\n",
    "assert os.path.exists(DATASET_FOLDER), \"Dataset folder not found\"\n",
    "\n",
    "datasets = os.listdir(DATASET_FOLDER)\n",
    "logging.info(f\"Found {len(datasets)} datasets\")"
   ]
  },
  {
   "cell_type": "markdown",
   "metadata": {},
   "source": [
    "# Reading the data"
   ]
  },
  {
   "cell_type": "markdown",
   "metadata": {},
   "source": [
    "## Load the dataset, make checks"
   ]
  },
  {
   "cell_type": "code",
   "execution_count": 9,
   "metadata": {},
   "outputs": [
    {
     "data": {
      "text/plain": [
       "numbcars         0.49366\n",
       "dwllsize         0.38308\n",
       "HHstatin         0.37923\n",
       "ownrent          0.33706\n",
       "dwlltype         0.31909\n",
       "                  ...   \n",
       "avg3qty          0.00000\n",
       "avg3rev          0.00000\n",
       "mou_opkv_Mean    0.00000\n",
       "opk_dat_Mean     0.00000\n",
       "months           0.00000\n",
       "Length: 99, dtype: float64"
      ]
     },
     "execution_count": 9,
     "metadata": {},
     "output_type": "execute_result"
    }
   ],
   "source": []
  },
  {
   "cell_type": "code",
   "execution_count": 13,
   "metadata": {},
   "outputs": [
    {
     "name": "stderr",
     "output_type": "stream",
     "text": [
      "24-04-27 13:45:34 [DEBUG] Dataset: Telecom_customer churn | Shape: (100000, 99)\n",
      "24-04-27 13:45:35 [DEBUG] (100000, 90) droped columns with more than 20% missing values\n",
      "24-04-27 13:45:35 [DEBUG] (78334, 90) drop rows with missing values\n",
      "24-04-27 13:45:35 [DEBUG] (78334, 74) drop non-numeric columns\n",
      "24-04-27 13:45:35 [INFO] ------ Dataset: Telecom_customer churn | Shape: (78334, 74) | Label ratio: 0.52 -------\n"
     ]
    }
   ],
   "source": [
    "dataset = datasets[1]\n",
    "dataset_name = dataset.split(\".\")[0]\n",
    "\n",
    "data = pd.read_csv(os.path.join(DATASET_FOLDER, dataset))\n",
    "\n",
    "logger.debug(f\"Dataset: {dataset_name} | Shape: {data.shape}\")\n",
    "# if missing more than 20% of the data, drop the column\n",
    "missing_threshold = 0.2\n",
    "data = data.dropna(thresh=len(data) * (1 - missing_threshold), axis=1)\n",
    "logger.debug(f\"{data.shape} droped columns with more than {missing_threshold*100:.0f}% missing values\")\n",
    "# drop rows with missing values\n",
    "data = data.dropna()\n",
    "logger.debug(f\"{data.shape} drop rows with missing values\")\n",
    "\n",
    "assert data.isna().sum().sum() == 0, \"Dataset contains missing values\"\n",
    "assert \"labels\" in data.columns, \"Dataset does not contain `labels` column\"\n",
    "assert data.labels.nunique() == 2, \"Dataset labels are not binary\"\n",
    "\n",
    "label_ratio = data.labels.value_counts(normalize=True).iloc[0]\n",
    "assert 0.4 < label_ratio < 0.6, \"Label ratio is not balanced\"\n",
    "\n",
    "\n",
    "# leave only numeric columns\n",
    "data = data.select_dtypes(include=[np.number])\n",
    "logger.debug(f\"{data.shape} drop non-numeric columns\")\n",
    "\n",
    "# move labels column to the end \n",
    "data = data[[col for col in data.columns if col != \"labels\"] + [\"labels\"]]\n",
    "\n",
    "logging.info(f\"------ Dataset: {dataset_name} | Shape: {data.shape} | Label ratio: {label_ratio:.2f} -------\")"
   ]
  },
  {
   "cell_type": "markdown",
   "metadata": {},
   "source": [
    "## Train test split"
   ]
  },
  {
   "cell_type": "code",
   "execution_count": 14,
   "metadata": {},
   "outputs": [
    {
     "name": "stderr",
     "output_type": "stream",
     "text": [
      "24-04-27 13:45:41 [INFO] Step 0: Data split done | 54833 - 23501\n"
     ]
    }
   ],
   "source": [
    "data = data.sample(frac=1).reset_index(drop=True)\n",
    "data = data.apply(pd.to_numeric)\n",
    "cut = int(train_set_size*len(data))\n",
    "\n",
    "train_data_df = data.iloc[:cut]\n",
    "test_data_df = data.iloc[cut:]\n",
    "\n",
    "X_train = data.iloc[:cut, :-1].values\n",
    "y_train = data.iloc[:cut, -1].values\n",
    "X_test = data.iloc[cut:, :-1].values\n",
    "y_test = data.iloc[cut:, -1].values\n",
    "\n",
    "logging.info(f\"Step 0: Data split done | {len(X_train)} - {len(X_test)}\")\n"
   ]
  },
  {
   "cell_type": "markdown",
   "metadata": {},
   "source": [
    "## Scaling"
   ]
  },
  {
   "cell_type": "code",
   "execution_count": 15,
   "metadata": {},
   "outputs": [
    {
     "name": "stderr",
     "output_type": "stream",
     "text": [
      "24-04-27 13:45:44 [DEBUG] Step 1: Standard scaling complete\n"
     ]
    }
   ],
   "source": [
    "st_scaler = StandardScaler().fit(train_data_df)\n",
    "# break\n",
    "scale = st_scaler.scale_\n",
    "mean = st_scaler.mean_\n",
    "var = st_scaler.var_ \n",
    "\n",
    "X_train_scaled = st_scaler.transform(train_data_df)\n",
    "X_test_scaled = st_scaler.transform(test_data_df)  #! during inference we won't have this\n",
    "\n",
    "logging.debug(\"Step 1: Standard scaling complete\")"
   ]
  },
  {
   "cell_type": "markdown",
   "metadata": {},
   "source": [
    "## KMeans"
   ]
  },
  {
   "cell_type": "code",
   "execution_count": 16,
   "metadata": {},
   "outputs": [
    {
     "name": "stderr",
     "output_type": "stream",
     "text": [
      "24-04-27 13:45:46 [INFO] Step 2: Performing clustering\n",
      "Exception in thread Thread-34 (_readerthread):\n",
      "Traceback (most recent call last):\n",
      "  File \"c:\\Users\\hayk_\\.conda\\envs\\thesis\\lib\\threading.py\", line 1016, in _bootstrap_inner\n",
      "    self.run()\n",
      "  File \"c:\\Users\\hayk_\\.conda\\envs\\thesis\\lib\\threading.py\", line 953, in run\n",
      "    self._target(*self._args, **self._kwargs)\n",
      "  File \"c:\\Users\\hayk_\\.conda\\envs\\thesis\\lib\\subprocess.py\", line 1515, in _readerthread\n",
      "    buffer.append(fh.read())\n",
      "  File \"c:\\Users\\hayk_\\.conda\\envs\\thesis\\lib\\codecs.py\", line 322, in decode\n",
      "    (result, consumed) = self._buffer_decode(data, self.errors, final)\n",
      "UnicodeDecodeError: 'utf-8' codec can't decode byte 0x81 in position 3: invalid start byte\n",
      "c:\\Users\\hayk_\\.conda\\envs\\thesis\\lib\\site-packages\\joblib\\externals\\loky\\backend\\context.py:136: UserWarning: Could not find the number of physical cores for the following reason:\n",
      "found 0 physical cores < 1\n",
      "Returning the number of logical cores instead. You can silence this warning by setting LOKY_MAX_CPU_COUNT to the number of cores you want to use.\n",
      "  warnings.warn(\n",
      "  File \"c:\\Users\\hayk_\\.conda\\envs\\thesis\\lib\\site-packages\\joblib\\externals\\loky\\backend\\context.py\", line 282, in _count_physical_cores\n",
      "    raise ValueError(f\"found {cpu_count_physical} physical cores < 1\")\n",
      "24-04-27 13:46:40 [DEBUG] Evaluation on train\n",
      "24-04-27 13:46:40 [DEBUG] \tsilhouette = 0.72\n",
      "24-04-27 13:46:40 [DEBUG] \tcalinski_harabasz = 59152.036\n",
      "24-04-27 13:46:40 [DEBUG] \tinertia = 5192478976853.052\n",
      "24-04-27 13:46:49 [DEBUG] Evaluation on test\n",
      "24-04-27 13:46:49 [DEBUG] \tsilhouette = 0.712\n",
      "24-04-27 13:46:49 [DEBUG] \tcalinski_harabasz = 26214.722\n",
      "24-04-27 13:46:49 [INFO] Step 2: Clustering done\n"
     ]
    }
   ],
   "source": [
    "logging.info(\"Step 2: Performing clustering\")\n",
    "\n",
    "CLUSTERING_ALG = \"kmeans\" # in future we'll add DBSCAN\n",
    "\n",
    "clustering_model = KMeans(n_clusters=2, random_state=42, n_init=\"auto\")      \n",
    "clustering_model.fit(X_train)  \n",
    "\n",
    "clustering_labels_train = clustering_model.predict(X_train)\n",
    "clustering_labels_test = clustering_model.predict(X_test)\n",
    "\n",
    "train_data_df[\"labels_clustering\"] = clustering_labels_train\n",
    "test_data_df[\"labels_clustering\"] = clustering_labels_test\n",
    "\n",
    "def evaluate_clustering(df, labels, model=None, alg=\"kmeans\", round_digits=3, \n",
    "                        print_results=False, dataset=\"train\"):\n",
    "    silhouette = silhouette_score(df, labels).round(round_digits)\n",
    "    calinski_harabasz = calinski_harabasz_score(df, labels).round(round_digits)\n",
    "    \n",
    "    if alg == \"kmeans\" and dataset==\"train\":\n",
    "        inertia = round(model.inertia_,round_digits)\n",
    "        \n",
    "    \n",
    "    if print_results:\n",
    "        logging.debug(f\"Evaluation on {dataset}\")\n",
    "        logging.debug(f\"\\t{silhouette = }\")\n",
    "        logging.debug(f\"\\t{calinski_harabasz = }\")\n",
    "        if alg == \"kmeans\" and dataset==\"train\":\n",
    "            logging.debug(f\"\\t{inertia = }\")\n",
    "    \n",
    "evaluate_clustering(X_train, clustering_labels_train, clustering_model, \n",
    "                    CLUSTERING_ALG, print_results=True)\n",
    "evaluate_clustering(X_test, clustering_labels_test, clustering_model, \n",
    "                    CLUSTERING_ALG, print_results=True, dataset=\"test\")\n",
    "\n",
    "logging.info(\"Step 2: Clustering done\")"
   ]
  },
  {
   "cell_type": "markdown",
   "metadata": {},
   "source": [
    "## KMeans evaluation"
   ]
  },
  {
   "cell_type": "code",
   "execution_count": 17,
   "metadata": {},
   "outputs": [],
   "source": [
    "\n",
    "def evaluate_classifier(*, y_actual, y_clust, dataset=\"train\", print_results=False,\n",
    "                        purpose=\"clustering_eval\"):    \n",
    "    accuracy = accuracy_score(y_actual, y_clust)\n",
    "    if purpose == \"clustering_eval\":\n",
    "        if accuracy < 0.5: # swap 1's and 0's\n",
    "            y_clust = [1 if label == 0 else 0 for label in y_clust]\n",
    "            accuracy = accuracy_score(y_actual, y_clust)\n",
    "\n",
    "    f1 = f1_score(y_actual, y_clust)\n",
    "    conf_matrix = confusion_matrix(y_actual, y_clust)\n",
    "    \n",
    "    if print_results:\n",
    "        logging.debug(f\"Evaluation on {dataset}\")\n",
    "        logging.debug(f\"\\tAccuracy:  {accuracy:.2f}\")\n",
    "        logging.debug(f\"\\tF1 Score: {f1:.2f}\")\n",
    "        logging.debug(f\"\\tConfusion Matrix: \\n{conf_matrix}\")\n",
    "    \n",
    "    return {\"accuracy\": accuracy, \"f1\": f1, \"confusion_matrix\": conf_matrix}"
   ]
  },
  {
   "cell_type": "code",
   "execution_count": 18,
   "metadata": {},
   "outputs": [
    {
     "name": "stderr",
     "output_type": "stream",
     "text": [
      "24-04-27 13:48:37 [DEBUG] Evaluation on train\n",
      "24-04-27 13:48:37 [DEBUG] \tAccuracy:  0.50\n",
      "24-04-27 13:48:37 [DEBUG] \tF1 Score: 0.16\n",
      "24-04-27 13:48:37 [DEBUG] \tConfusion Matrix: \n",
      "[[25089  3143]\n",
      " [24089  2512]]\n",
      "24-04-27 13:48:37 [DEBUG] Evaluation on test\n",
      "24-04-27 13:48:37 [DEBUG] \tAccuracy:  0.51\n",
      "24-04-27 13:48:37 [DEBUG] \tF1 Score: 0.15\n",
      "24-04-27 13:48:37 [DEBUG] \tConfusion Matrix: \n",
      "[[10817  1311]\n",
      " [10313  1060]]\n",
      "24-04-27 13:48:37 [INFO] Step 3: Clustering as a classifier, evaluation done\n"
     ]
    }
   ],
   "source": [
    "evaluate_classifier(y_actual=y_train, y_clust=clustering_labels_train, \n",
    "                    dataset=\"train\", print_results=True)\n",
    "evaluate_classifier(y_actual=y_test, y_clust=clustering_labels_test, \n",
    "                    dataset=\"test\", print_results=True)\n",
    "\n",
    "logger.info(\"Step 3: Clustering as a classifier, evaluation done\")"
   ]
  },
  {
   "cell_type": "markdown",
   "metadata": {},
   "source": [
    "## Distance calculation"
   ]
  },
  {
   "cell_type": "code",
   "execution_count": 19,
   "metadata": {},
   "outputs": [],
   "source": [
    "def get_distance(df, model, alg=\"kmeans\"):#, remove_outliers=True, normalize=True):\n",
    "    if alg == \"kmeans\":\n",
    "        distances = np.min(\n",
    "            np.linalg.norm(df[:, np.newaxis] - model.cluster_centers_, axis=2), axis=1) \n",
    "    else:\n",
    "        raise NotImplementedError(\"Only KMeans is supported\")    \n",
    "    \n",
    "    return distances\n",
    "    "
   ]
  },
  {
   "cell_type": "code",
   "execution_count": 20,
   "metadata": {},
   "outputs": [],
   "source": [
    "def remove_outliers_and_normalize(df, distance_column=\"distance\", label_column=\"labels\"):\n",
    "    outliers = detect_outliers_z_score(df[\"distance\"])\n",
    "    df[\"outlier\"] = df[distance_column].apply(lambda x: x in outliers)\n",
    "    df_no_outliers = df[~df[\"outlier\"]]\n",
    "    \n",
    "    # min max scale the df. dont use outliers\n",
    "    min_val = df_no_outliers.groupby(label_column)[distance_column].apply('min')\n",
    "    max_val = df_no_outliers.groupby(label_column)[distance_column].apply('max')\n",
    "    \n",
    "    def scale(x, label):\n",
    "        return (x - min_val[label]) / (max_val[label] - min_val[label]) if max_val[label] > min_val[label] else 0\n",
    "        \n",
    "    dist_norm = df.apply(lambda row: scale(row[distance_column], row[label_column]), axis=1)\n",
    "    \n",
    "    return dist_norm"
   ]
  },
  {
   "cell_type": "code",
   "execution_count": 21,
   "metadata": {},
   "outputs": [],
   "source": [
    "train_data_df[\"distance\"] = get_distance(X_train, clustering_model)\n",
    "test_data_df[\"distance\"] = get_distance(X_test, clustering_model)"
   ]
  },
  {
   "cell_type": "code",
   "execution_count": 22,
   "metadata": {},
   "outputs": [
    {
     "name": "stderr",
     "output_type": "stream",
     "text": [
      "24-04-27 13:48:52 [INFO] Step 4: Distance calculation done\n"
     ]
    }
   ],
   "source": [
    "train_data_df[\"distance_norm\"] = remove_outliers_and_normalize(train_data_df) \n",
    "test_data_df[\"distance_norm\"] = remove_outliers_and_normalize(test_data_df)\n",
    "\n",
    "assert train_data_df.isna().sum().sum() == 0, \"Train data contains NaNs\"\n",
    "assert test_data_df.isna().sum().sum() == 0, \"Train data contains NaNs\"\n",
    "\n",
    "logger.info(f\"Step 4: Distance calculation done\")"
   ]
  },
  {
   "cell_type": "markdown",
   "metadata": {},
   "source": [
    "## DST"
   ]
  },
  {
   "cell_type": "code",
   "execution_count": 15,
   "metadata": {},
   "outputs": [
    {
     "name": "stdout",
     "output_type": "stream",
     "text": [
      "1\n"
     ]
    }
   ],
   "source": [
    "# !pip install -U kaleido\n",
    "print(1)"
   ]
  },
  {
   "cell_type": "code",
   "execution_count": 23,
   "metadata": {},
   "outputs": [
    {
     "name": "stderr",
     "output_type": "stream",
     "text": [
      "24-04-27 13:49:01 [DEBUG] Train: 10\n",
      "24-04-27 13:49:01 [INFO] Step 5: Run DST (dataset=Telecom_customer churn, breaks=3, add_mult_rules=False, maf_method=kmeans)\n",
      "24-04-27 13:49:01 [DEBUG] \tModel init done\n"
     ]
    },
    {
     "name": "stdout",
     "output_type": "stream",
     "text": [
      "Optimization started\n",
      "Processing epoch\t1\t1.0000\t"
     ]
    },
    {
     "name": "stderr",
     "output_type": "stream",
     "text": [
      "24-04-27 13:49:02 [DEBUG] \tModel fit done\n"
     ]
    },
    {
     "name": "stdout",
     "output_type": "stream",
     "text": [
      "\n",
      "Training time: 0.38s, epochs: 4\n",
      "\n",
      "Least training loss reached: 0.800\n",
      "DSModelMultiQ(\n",
      "  DS Classifier using 264 rules\n",
      "  \n",
      "  Rule 1: rev_Mean < 53.814\n",
      "  \tC1: 0.792\tC2: 0.104\tUnc: 0.104\n",
      "  \n",
      "  Rule 2: 53.814 < rev_Mean < 73.014\n",
      "  \tC1: 0.892\tC2: 0.051\tUnc: 0.057\n",
      "  \n",
      "  Rule 3: 73.014 < rev_Mean < 92.214\n",
      "  \tC1: 0.605\tC2: 0.197\tUnc: 0.199\n",
      "  \n",
      "  Rule 4: rev_Mean > 92.214\n",
      "  \tC1: 0.988\tC2: 0.006\tUnc: 0.006\n",
      "  \n",
      "  Rule 5: mou_Mean < 204.488\n",
      "  \tC1: 0.805\tC2: 0.097\tUnc: 0.098\n",
      "  \n",
      "  Rule 6: 204.488 < mou_Mean < 465.275\n",
      "  \tC1: 0.805\tC2: 0.094\tUnc: 0.101\n",
      "  \n",
      "  Rule 7: 465.275 < mou_Mean < 726.062\n",
      "  \tC1: 0.346\tC2: 0.327\tUnc: 0.327\n",
      "  \n",
      "  Rule 8: mou_Mean > 726.062\n",
      "  \tC1: 0.835\tC2: 0.082\tUnc: 0.082\n",
      "  \n",
      "  Rule 9: totmrc_Mean < 44.918\n",
      "  \tC1: 0.885\tC2: 0.057\tUnc: 0.058\n",
      "  \n",
      "  Rule 10: 44.918 < totmrc_Mean < 56.371\n",
      "  \tC1: 0.725\tC2: 0.135\tUnc: 0.141\n",
      "  \n",
      "  Rule 11: 56.371 < totmrc_Mean < 67.823\n",
      "  \tC1: 0.000\tC2: 0.000\tUnc: 1.000\n",
      "  \n",
      "  Rule 12: totmrc_Mean > 67.823\n",
      "  \tC1: 0.707\tC2: 0.147\tUnc: 0.147\n",
      "  \n",
      "  Rule 13: da_Mean = 0.0\n",
      "  \tC1: 0.793\tC2: 0.103\tUnc: 0.104\n",
      "  \n",
      "  Rule 14: da_Mean = 0.2475\n",
      "  \tC1: 0.898\tC2: 0.051\tUnc: 0.051\n",
      "  \n",
      "  Rule 15: da_Mean = 2.2275\n",
      "  \tC1: 0.363\tC2: 0.274\tUnc: 0.363\n",
      "  \n",
      "  Rule 16: da_Mean = 2.97\n",
      "  \tC1: 0.670\tC2: 0.165\tUnc: 0.165\n",
      "  \n",
      "  Rule 17: da_Mean = 6.93\n",
      "  \tC1: 0.346\tC2: 0.327\tUnc: 0.327\n",
      "  \n",
      "  Rule 18: ovrmou_Mean < 14.514\n",
      "  \tC1: 0.811\tC2: 0.091\tUnc: 0.098\n",
      "  \n",
      "  Rule 19: 14.514 < ovrmou_Mean < 57.075\n",
      "  \tC1: 0.000\tC2: 0.000\tUnc: 1.000\n",
      "  \n",
      "  Rule 20: 57.075 < ovrmou_Mean < 99.636\n",
      "  \tC1: 0.536\tC2: 0.231\tUnc: 0.233\n",
      "  \n",
      "  Rule 21: ovrmou_Mean > 99.636\n",
      "  \tC1: 0.988\tC2: 0.006\tUnc: 0.006\n",
      "  \n",
      "  Rule 22: ovrrev_Mean < 5.371\n",
      "  \tC1: 0.811\tC2: 0.091\tUnc: 0.098\n",
      "  \n",
      "  Rule 23: 5.371 < ovrrev_Mean < 18.646\n",
      "  \tC1: 0.000\tC2: 0.000\tUnc: 1.000\n",
      "  \n",
      "  Rule 24: 18.646 < ovrrev_Mean < 31.920\n",
      "  \tC1: 0.632\tC2: 0.183\tUnc: 0.185\n",
      "  \n",
      "  Rule 25: ovrrev_Mean > 31.920\n",
      "  \tC1: 0.774\tC2: 0.113\tUnc: 0.113\n",
      "  \n",
      "  Rule 26: vceovr_Mean < 4.802\n",
      "  \tC1: 0.811\tC2: 0.091\tUnc: 0.098\n",
      "  \n",
      "  Rule 27: 4.802 < vceovr_Mean < 18.031\n",
      "  \tC1: 0.000\tC2: 0.000\tUnc: 1.000\n",
      "  \n",
      "  Rule 28: 18.031 < vceovr_Mean < 31.261\n",
      "  \tC1: 0.632\tC2: 0.183\tUnc: 0.185\n",
      "  \n",
      "  Rule 29: vceovr_Mean > 31.261\n",
      "  \tC1: 0.774\tC2: 0.113\tUnc: 0.113\n",
      "  \n",
      "  Rule 30: datovr_Mean = 0.0\n",
      "  \tC1: 0.741\tC2: 0.128\tUnc: 0.130\n",
      "  \n",
      "  Rule 31: datovr_Mean = 0.0975\n",
      "  \tC1: 0.898\tC2: 0.051\tUnc: 0.051\n",
      "  \n",
      "  Rule 32: datovr_Mean = 0.4875\n",
      "  \tC1: 0.908\tC2: 0.046\tUnc: 0.046\n",
      "  \n",
      "  Rule 33: datovr_Mean = 5.5575\n",
      "  \tC1: 0.670\tC2: 0.165\tUnc: 0.165\n",
      "  \n",
      "  Rule 34: roam_Mean = 0.0\n",
      "  \tC1: 0.729\tC2: 0.132\tUnc: 0.139\n",
      "  \n",
      "  Rule 35: roam_Mean = 0.1725\n",
      "  \tC1: 0.811\tC2: 0.094\tUnc: 0.094\n",
      "  \n",
      "  Rule 36: roam_Mean = 8.2475\n",
      "  \tC1: 0.977\tC2: 0.012\tUnc: 0.012\n",
      "  \n",
      "  Rule 37: change_mou < -254.936\n",
      "  \tC1: 0.882\tC2: 0.059\tUnc: 0.059\n",
      "  \n",
      "  Rule 38: -254.936 < change_mou < -62.175\n",
      "  \tC1: 0.892\tC2: 0.051\tUnc: 0.057\n",
      "  \n",
      "  Rule 39: -62.175 < change_mou < 130.586\n",
      "  \tC1: 0.805\tC2: 0.097\tUnc: 0.098\n",
      "  \n",
      "  Rule 40: change_mou > 130.586\n",
      "  \tC1: 0.570\tC2: 0.214\tUnc: 0.216\n",
      "  \n",
      "  Rule 41: change_rev < -36.363\n",
      "  \tC1: 0.988\tC2: 0.006\tUnc: 0.006\n",
      "  \n",
      "  Rule 42: -36.363 < change_rev < -7.834\n",
      "  \tC1: 0.670\tC2: 0.165\tUnc: 0.165\n",
      "  \n",
      "  Rule 43: -7.834 < change_rev < 20.696\n",
      "  \tC1: 0.732\tC2: 0.131\tUnc: 0.137\n",
      "  \n",
      "  Rule 44: change_rev > 20.696\n",
      "  \tC1: 0.596\tC2: 0.201\tUnc: 0.203\n",
      "  \n",
      "  Rule 45: drop_vce_Mean < 2.366\n",
      "  \tC1: 0.812\tC2: 0.093\tUnc: 0.095\n",
      "  \n",
      "  Rule 46: 2.366 < drop_vce_Mean < 8.600\n",
      "  \tC1: 0.698\tC2: 0.151\tUnc: 0.151\n",
      "  \n",
      "  Rule 47: 8.600 < drop_vce_Mean < 14.834\n",
      "  \tC1: 0.670\tC2: 0.165\tUnc: 0.165\n",
      "  \n",
      "  Rule 48: drop_vce_Mean > 14.834\n",
      "  \tC1: 0.742\tC2: 0.126\tUnc: 0.132\n",
      "  \n",
      "  Rule 49: drop_dat_Mean = 0.0\n",
      "  \tC1: 0.761\tC2: 0.116\tUnc: 0.123\n",
      "  \n",
      "  Rule 50: blck_vce_Mean < 0.300\n",
      "  \tC1: 0.703\tC2: 0.148\tUnc: 0.150\n",
      "  \n",
      "  Rule 51: 0.300 < blck_vce_Mean < 2.667\n",
      "  \tC1: 0.870\tC2: 0.065\tUnc: 0.065\n",
      "  \n",
      "  Rule 52: 2.667 < blck_vce_Mean < 5.033\n",
      "  \tC1: 0.670\tC2: 0.165\tUnc: 0.165\n",
      "  \n",
      "  Rule 53: blck_vce_Mean > 5.033\n",
      "  \tC1: 0.615\tC2: 0.189\tUnc: 0.196\n",
      "  \n",
      "  Rule 54: blck_dat_Mean = 0.0\n",
      "  \tC1: 0.761\tC2: 0.116\tUnc: 0.123\n",
      "  \n",
      "  Rule 55: unan_vce_Mean < 6.459\n",
      "  \tC1: 0.646\tC2: 0.176\tUnc: 0.178\n",
      "  \n",
      "  Rule 56: 6.459 < unan_vce_Mean < 24.867\n",
      "  \tC1: 0.867\tC2: 0.063\tUnc: 0.070\n",
      "  \n",
      "  Rule 57: 24.867 < unan_vce_Mean < 43.275\n",
      "  \tC1: 0.346\tC2: 0.327\tUnc: 0.327\n",
      "  \n",
      "  Rule 58: unan_vce_Mean > 43.275\n",
      "  \tC1: 0.835\tC2: 0.082\tUnc: 0.082\n",
      "  \n",
      "  Rule 59: unan_dat_Mean = 0.0\n",
      "  \tC1: 0.761\tC2: 0.116\tUnc: 0.123\n",
      "  \n",
      "  Rule 60: plcd_vce_Mean < 46.015\n",
      "  \tC1: 0.848\tC2: 0.076\tUnc: 0.077\n",
      "  \n",
      "  Rule 61: 46.015 < plcd_vce_Mean < 130.467\n",
      "  \tC1: 0.750\tC2: 0.122\tUnc: 0.128\n",
      "  \n",
      "  Rule 62: 130.467 < plcd_vce_Mean < 214.918\n",
      "  \tC1: 0.346\tC2: 0.327\tUnc: 0.327\n",
      "  \n",
      "  Rule 63: plcd_vce_Mean > 214.918\n",
      "  \tC1: 0.835\tC2: 0.082\tUnc: 0.082\n",
      "  \n",
      "  Rule 64: plcd_dat_Mean = 0.0\n",
      "  \tC1: 0.829\tC2: 0.082\tUnc: 0.089\n",
      "  \n",
      "  Rule 65: plcd_dat_Mean = 0.333333333\n",
      "  \tC1: 0.811\tC2: 0.094\tUnc: 0.094\n",
      "  \n",
      "  Rule 66: plcd_dat_Mean = 1.333333333\n",
      "  \tC1: 0.346\tC2: 0.327\tUnc: 0.327\n",
      "  \n",
      "  Rule 67: plcd_dat_Mean = 1.666666667\n",
      "  \tC1: 0.670\tC2: 0.165\tUnc: 0.165\n",
      "  \n",
      "  Rule 68: recv_vce_Mean < 1.319\n",
      "  \tC1: 0.000\tC2: 0.000\tUnc: 1.000\n",
      "  \n",
      "  Rule 69: 1.319 < recv_vce_Mean < 74.400\n",
      "  \tC1: 0.744\tC2: 0.125\tUnc: 0.131\n",
      "  \n",
      "  Rule 70: 74.400 < recv_vce_Mean < 147.481\n",
      "  \tC1: 0.000\tC2: 0.000\tUnc: 1.000\n",
      "  \n",
      "  Rule 71: recv_vce_Mean > 147.481\n",
      "  \tC1: 0.835\tC2: 0.082\tUnc: 0.082\n",
      "  \n",
      "  Rule 72: recv_sms_Mean = 0.0\n",
      "  \tC1: 0.746\tC2: 0.124\tUnc: 0.130\n",
      "  \n",
      "  Rule 73: recv_sms_Mean = 4.0\n",
      "  \tC1: 0.907\tC2: 0.046\tUnc: 0.047\n",
      "  \n",
      "  Rule 74: comp_vce_Mean < 33.831\n",
      "  \tC1: 0.848\tC2: 0.076\tUnc: 0.077\n",
      "  \n",
      "  Rule 75: 33.831 < comp_vce_Mean < 97.633\n",
      "  \tC1: 0.750\tC2: 0.122\tUnc: 0.128\n",
      "  \n",
      "  Rule 76: 97.633 < comp_vce_Mean < 161.436\n",
      "  \tC1: 0.346\tC2: 0.327\tUnc: 0.327\n",
      "  \n",
      "  Rule 77: comp_vce_Mean > 161.436\n",
      "  \tC1: 0.835\tC2: 0.082\tUnc: 0.082\n",
      "  \n",
      "  Rule 78: comp_dat_Mean = 0.0\n",
      "  \tC1: 0.829\tC2: 0.082\tUnc: 0.089\n",
      "  \n",
      "  Rule 79: comp_dat_Mean = 0.333333333\n",
      "  \tC1: 0.811\tC2: 0.094\tUnc: 0.094\n",
      "  \n",
      "  Rule 80: comp_dat_Mean = 1.333333333\n",
      "  \tC1: 0.346\tC2: 0.327\tUnc: 0.327\n",
      "  \n",
      "  Rule 81: comp_dat_Mean = 1.666666667\n",
      "  \tC1: 0.670\tC2: 0.165\tUnc: 0.165\n",
      "  \n",
      "  Rule 82: custcare_Mean = 0.0\n",
      "  \tC1: 0.882\tC2: 0.056\tUnc: 0.062\n",
      "  \n",
      "  Rule 83: custcare_Mean = 0.666666667\n",
      "  \tC1: 0.765\tC2: 0.118\tUnc: 0.118\n",
      "  \n",
      "  Rule 84: custcare_Mean = 1.0\n",
      "  \tC1: 0.346\tC2: 0.327\tUnc: 0.327\n",
      "  \n",
      "  Rule 85: custcare_Mean = 2.0\n",
      "  \tC1: 0.811\tC2: 0.094\tUnc: 0.094\n",
      "  \n",
      "  Rule 86: custcare_Mean = 8.666666667\n",
      "  \tC1: 0.670\tC2: 0.165\tUnc: 0.165\n",
      "  \n",
      "  Rule 87: ccrndmou_Mean < -1.138\n",
      "  \tC1: 0.000\tC2: 0.000\tUnc: 1.000\n",
      "  \n",
      "  Rule 88: -1.138 < ccrndmou_Mean < 3.167\n",
      "  \tC1: 0.826\tC2: 0.084\tUnc: 0.090\n",
      "  \n",
      "  Rule 89: 3.167 < ccrndmou_Mean < 7.472\n",
      "  \tC1: 0.346\tC2: 0.327\tUnc: 0.327\n",
      "  \n",
      "  Rule 90: ccrndmou_Mean > 7.472\n",
      "  \tC1: 0.670\tC2: 0.165\tUnc: 0.165\n",
      "  \n",
      "  Rule 91: cc_mou_Mean < -1.294\n",
      "  \tC1: 0.000\tC2: 0.000\tUnc: 1.000\n",
      "  \n",
      "  Rule 92: -1.294 < cc_mou_Mean < 2.451\n",
      "  \tC1: 0.826\tC2: 0.084\tUnc: 0.090\n",
      "  \n",
      "  Rule 93: 2.451 < cc_mou_Mean < 6.195\n",
      "  \tC1: 0.346\tC2: 0.327\tUnc: 0.327\n",
      "  \n",
      "  Rule 94: cc_mou_Mean > 6.195\n",
      "  \tC1: 0.670\tC2: 0.165\tUnc: 0.165\n",
      "  \n",
      "  Rule 95: inonemin_Mean < -5.349\n",
      "  \tC1: 0.000\tC2: 0.000\tUnc: 1.000\n",
      "  \n",
      "  Rule 96: -5.349 < inonemin_Mean < 44.500\n",
      "  \tC1: 0.744\tC2: 0.125\tUnc: 0.131\n",
      "  \n",
      "  Rule 97: 44.500 < inonemin_Mean < 94.349\n",
      "  \tC1: 0.000\tC2: 0.000\tUnc: 1.000\n",
      "  \n",
      "  Rule 98: inonemin_Mean > 94.349\n",
      "  \tC1: 0.835\tC2: 0.082\tUnc: 0.082\n",
      "  \n",
      "  Rule 99: threeway_Mean = 0.0\n",
      "  \tC1: 0.747\tC2: 0.123\tUnc: 0.130\n",
      "  \n",
      "  Rule 100: threeway_Mean = 0.333333333\n",
      "  \tC1: 0.977\tC2: 0.012\tUnc: 0.012\n",
      "  \n",
      "  Rule 101: threeway_Mean = 1.0\n",
      "  \tC1: 0.670\tC2: 0.165\tUnc: 0.165\n",
      "  \n",
      "  Rule 102: mou_cvce_Mean < 76.099\n",
      "  \tC1: 0.848\tC2: 0.076\tUnc: 0.077\n",
      "  \n",
      "  Rule 103: 76.099 < mou_cvce_Mean < 198.618\n",
      "  \tC1: 0.829\tC2: 0.082\tUnc: 0.088\n",
      "  \n",
      "  Rule 104: 198.618 < mou_cvce_Mean < 321.138\n",
      "  \tC1: 0.596\tC2: 0.201\tUnc: 0.203\n",
      "  \n",
      "  Rule 105: mou_cvce_Mean > 321.138\n",
      "  \tC1: 0.672\tC2: 0.164\tUnc: 0.164\n",
      "  \n",
      "  Rule 106: mou_cdat_Mean = 0.0\n",
      "  \tC1: 0.829\tC2: 0.082\tUnc: 0.089\n",
      "  \n",
      "  Rule 107: mou_cdat_Mean = 0.206666667\n",
      "  \tC1: 0.811\tC2: 0.094\tUnc: 0.094\n",
      "  \n",
      "  Rule 108: mou_cdat_Mean = 2.45\n",
      "  \tC1: 0.670\tC2: 0.165\tUnc: 0.165\n",
      "  \n",
      "  Rule 109: mou_cdat_Mean = 2.876666667\n",
      "  \tC1: 0.346\tC2: 0.327\tUnc: 0.327\n",
      "  \n",
      "  Rule 110: mou_rvce_Mean < 27.128\n",
      "  \tC1: 0.802\tC2: 0.099\tUnc: 0.099\n",
      "  \n",
      "  Rule 111: 27.128 < mou_rvce_Mean < 149.842\n",
      "  \tC1: 0.727\tC2: 0.133\tUnc: 0.139\n",
      "  \n",
      "  Rule 112: 149.842 < mou_rvce_Mean < 272.555\n",
      "  \tC1: 0.000\tC2: 0.000\tUnc: 1.000\n",
      "  \n",
      "  Rule 113: mou_rvce_Mean > 272.555\n",
      "  \tC1: 0.835\tC2: 0.082\tUnc: 0.082\n",
      "  \n",
      "  Rule 114: owylis_vce_Mean < 10.395\n",
      "  \tC1: 0.805\tC2: 0.097\tUnc: 0.098\n",
      "  \n",
      "  Rule 115: 10.395 < owylis_vce_Mean < 20.867\n",
      "  \tC1: 0.683\tC2: 0.157\tUnc: 0.159\n",
      "  \n",
      "  Rule 116: 20.867 < owylis_vce_Mean < 31.339\n",
      "  \tC1: 0.952\tC2: 0.021\tUnc: 0.027\n",
      "  \n",
      "  Rule 117: owylis_vce_Mean > 31.339\n",
      "  \tC1: 0.508\tC2: 0.246\tUnc: 0.246\n",
      "  \n",
      "  Rule 118: mouowylisv_Mean < 11.357\n",
      "  \tC1: 0.805\tC2: 0.097\tUnc: 0.098\n",
      "  \n",
      "  Rule 119: 11.357 < mouowylisv_Mean < 24.925\n",
      "  \tC1: 0.811\tC2: 0.092\tUnc: 0.098\n",
      "  \n",
      "  Rule 120: 24.925 < mouowylisv_Mean < 38.492\n",
      "  \tC1: 0.977\tC2: 0.012\tUnc: 0.012\n",
      "  \n",
      "  Rule 121: mouowylisv_Mean > 38.492\n",
      "  \tC1: 0.508\tC2: 0.246\tUnc: 0.246\n",
      "  \n",
      "  Rule 122: iwylis_vce_Mean < 2.323\n",
      "  \tC1: 0.743\tC2: 0.128\tUnc: 0.129\n",
      "  \n",
      "  Rule 123: 2.323 < iwylis_vce_Mean < 6.700\n",
      "  \tC1: 0.846\tC2: 0.074\tUnc: 0.080\n",
      "  \n",
      "  Rule 124: 6.700 < iwylis_vce_Mean < 11.077\n",
      "  \tC1: 0.596\tC2: 0.201\tUnc: 0.203\n",
      "  \n",
      "  Rule 125: iwylis_vce_Mean > 11.077\n",
      "  \tC1: 0.722\tC2: 0.139\tUnc: 0.139\n",
      "  \n",
      "  Rule 126: mouiwylisv_Mean < 4.461\n",
      "  \tC1: 0.650\tC2: 0.175\tUnc: 0.176\n",
      "  \n",
      "  Rule 127: 4.461 < mouiwylisv_Mean < 15.421\n",
      "  \tC1: 0.915\tC2: 0.039\tUnc: 0.045\n",
      "  \n",
      "  Rule 128: 15.421 < mouiwylisv_Mean < 26.380\n",
      "  \tC1: 0.000\tC2: 0.000\tUnc: 1.000\n",
      "  \n",
      "  Rule 129: mouiwylisv_Mean > 26.380\n",
      "  \tC1: 0.679\tC2: 0.160\tUnc: 0.162\n",
      "  \n",
      "  Rule 130: peak_vce_Mean < 34.456\n",
      "  \tC1: 0.794\tC2: 0.103\tUnc: 0.104\n",
      "  \n",
      "  Rule 131: 34.456 < peak_vce_Mean < 89.800\n",
      "  \tC1: 0.821\tC2: 0.086\tUnc: 0.092\n",
      "  \n",
      "  Rule 132: 89.800 < peak_vce_Mean < 145.144\n",
      "  \tC1: 0.000\tC2: 0.000\tUnc: 1.000\n",
      "  \n",
      "  Rule 133: peak_vce_Mean > 145.144\n",
      "  \tC1: 0.672\tC2: 0.164\tUnc: 0.164\n",
      "  \n",
      "  Rule 134: peak_dat_Mean = 0.0\n",
      "  \tC1: 0.826\tC2: 0.084\tUnc: 0.090\n",
      "  \n",
      "  Rule 135: peak_dat_Mean = 0.666666667\n",
      "  \tC1: 0.346\tC2: 0.327\tUnc: 0.327\n",
      "  \n",
      "  Rule 136: peak_dat_Mean = 1.0\n",
      "  \tC1: 0.670\tC2: 0.165\tUnc: 0.165\n",
      "  \n",
      "  Rule 137: mou_peav_Mean < 73.772\n",
      "  \tC1: 0.752\tC2: 0.123\tUnc: 0.125\n",
      "  \n",
      "  Rule 138: 73.772 < mou_peav_Mean < 172.210\n",
      "  \tC1: 0.931\tC2: 0.031\tUnc: 0.037\n",
      "  \n",
      "  Rule 139: 172.210 < mou_peav_Mean < 270.648\n",
      "  \tC1: 0.773\tC2: 0.114\tUnc: 0.114\n",
      "  \n",
      "  Rule 140: mou_peav_Mean > 270.648\n",
      "  \tC1: 0.672\tC2: 0.164\tUnc: 0.164\n",
      "  \n",
      "  Rule 141: mou_pead_Mean = 0.0\n",
      "  \tC1: 0.826\tC2: 0.084\tUnc: 0.090\n",
      "  \n",
      "  Rule 142: mou_pead_Mean = 0.326666667\n",
      "  \tC1: 0.346\tC2: 0.327\tUnc: 0.327\n",
      "  \n",
      "  Rule 143: mou_pead_Mean = 1.683333333\n",
      "  \tC1: 0.670\tC2: 0.165\tUnc: 0.165\n",
      "  \n",
      "  Rule 144: opk_vce_Mean < 3.499\n",
      "  \tC1: 0.000\tC2: 0.000\tUnc: 1.000\n",
      "  \n",
      "  Rule 145: 3.499 < opk_vce_Mean < 65.300\n",
      "  \tC1: 0.744\tC2: 0.125\tUnc: 0.131\n",
      "  \n",
      "  Rule 146: 65.300 < opk_vce_Mean < 127.101\n",
      "  \tC1: 0.000\tC2: 0.000\tUnc: 1.000\n",
      "  \n",
      "  Rule 147: opk_vce_Mean > 127.101\n",
      "  \tC1: 0.835\tC2: 0.082\tUnc: 0.082\n",
      "  \n",
      "  Rule 148: opk_dat_Mean = 0.0\n",
      "  \tC1: 0.829\tC2: 0.082\tUnc: 0.089\n",
      "  \n",
      "  Rule 149: opk_dat_Mean = 0.333333333\n",
      "  \tC1: 0.811\tC2: 0.094\tUnc: 0.094\n",
      "  \n",
      "  Rule 150: opk_dat_Mean = 0.666666667\n",
      "  \tC1: 0.508\tC2: 0.246\tUnc: 0.246\n",
      "  \n",
      "  Rule 151: mou_opkv_Mean < 19.037\n",
      "  \tC1: 0.802\tC2: 0.099\tUnc: 0.099\n",
      "  \n",
      "  Rule 152: 19.037 < mou_opkv_Mean < 176.250\n",
      "  \tC1: 0.755\tC2: 0.120\tUnc: 0.126\n",
      "  \n",
      "  Rule 153: 176.250 < mou_opkv_Mean < 333.463\n",
      "  \tC1: 0.596\tC2: 0.201\tUnc: 0.203\n",
      "  \n",
      "  Rule 154: mou_opkv_Mean > 333.463\n",
      "  \tC1: 0.835\tC2: 0.082\tUnc: 0.082\n",
      "  \n",
      "  Rule 155: mou_opkd_Mean = 0.0\n",
      "  \tC1: 0.829\tC2: 0.082\tUnc: 0.089\n",
      "  \n",
      "  Rule 156: mou_opkd_Mean = 0.206666667\n",
      "  \tC1: 0.811\tC2: 0.094\tUnc: 0.094\n",
      "  \n",
      "  Rule 157: mou_opkd_Mean = 0.766666667\n",
      "  \tC1: 0.670\tC2: 0.165\tUnc: 0.165\n",
      "  \n",
      "  Rule 158: mou_opkd_Mean = 2.55\n",
      "  \tC1: 0.346\tC2: 0.327\tUnc: 0.327\n",
      "  \n",
      "  Rule 159: drop_blk_Mean < 3.366\n",
      "  \tC1: 0.797\tC2: 0.101\tUnc: 0.102\n",
      "  \n",
      "  Rule 160: 3.366 < drop_blk_Mean < 11.267\n",
      "  \tC1: 0.773\tC2: 0.114\tUnc: 0.114\n",
      "  \n",
      "  Rule 161: 11.267 < drop_blk_Mean < 19.167\n",
      "  \tC1: 0.670\tC2: 0.165\tUnc: 0.165\n",
      "  \n",
      "  Rule 162: drop_blk_Mean > 19.167\n",
      "  \tC1: 0.742\tC2: 0.126\tUnc: 0.132\n",
      "  \n",
      "  Rule 163: attempt_Mean < 46.082\n",
      "  \tC1: 0.848\tC2: 0.076\tUnc: 0.077\n",
      "  \n",
      "  Rule 164: 46.082 < attempt_Mean < 130.800\n",
      "  \tC1: 0.750\tC2: 0.122\tUnc: 0.128\n",
      "  \n",
      "  Rule 165: 130.800 < attempt_Mean < 215.518\n",
      "  \tC1: 0.346\tC2: 0.327\tUnc: 0.327\n",
      "  \n",
      "  Rule 166: attempt_Mean > 215.518\n",
      "  \tC1: 0.835\tC2: 0.082\tUnc: 0.082\n",
      "  \n",
      "  Rule 167: complete_Mean < 33.903\n",
      "  \tC1: 0.848\tC2: 0.076\tUnc: 0.077\n",
      "  \n",
      "  Rule 168: 33.903 < complete_Mean < 97.967\n",
      "  \tC1: 0.750\tC2: 0.122\tUnc: 0.128\n",
      "  \n",
      "  Rule 169: 97.967 < complete_Mean < 162.030\n",
      "  \tC1: 0.346\tC2: 0.327\tUnc: 0.327\n",
      "  \n",
      "  Rule 170: complete_Mean > 162.030\n",
      "  \tC1: 0.835\tC2: 0.082\tUnc: 0.082\n",
      "  \n",
      "  Rule 171: callfwdv_Mean = 0.0\n",
      "  \tC1: 0.761\tC2: 0.116\tUnc: 0.123\n",
      "  \n",
      "  Rule 172: callwait_Mean = 0.0\n",
      "  \tC1: 0.725\tC2: 0.134\tUnc: 0.141\n",
      "  \n",
      "  Rule 173: callwait_Mean = 0.333333333\n",
      "  \tC1: 0.782\tC2: 0.109\tUnc: 0.109\n",
      "  \n",
      "  Rule 174: callwait_Mean = 7.666666667\n",
      "  \tC1: 0.363\tC2: 0.274\tUnc: 0.363\n",
      "  \n",
      "  Rule 175: callwait_Mean = 15.66666667\n",
      "  \tC1: 0.670\tC2: 0.165\tUnc: 0.165\n",
      "  \n",
      "  Rule 176: months < 15.273\n",
      "  \tC1: 0.741\tC2: 0.130\tUnc: 0.130\n",
      "  \n",
      "  Rule 177: 15.273 < months < 18.700\n",
      "  \tC1: 0.988\tC2: 0.006\tUnc: 0.006\n",
      "  \n",
      "  Rule 178: 18.700 < months < 22.127\n",
      "  \tC1: 0.812\tC2: 0.090\tUnc: 0.097\n",
      "  \n",
      "  Rule 179: months > 22.127\n",
      "  \tC1: 0.470\tC2: 0.264\tUnc: 0.266\n",
      "  \n",
      "  Rule 180: uniqsubs = 1.0\n",
      "  \tC1: 0.730\tC2: 0.135\tUnc: 0.135\n",
      "  \n",
      "  Rule 181: uniqsubs = 2.0\n",
      "  \tC1: 0.769\tC2: 0.114\tUnc: 0.116\n",
      "  \n",
      "  Rule 182: uniqsubs = 3.0\n",
      "  \tC1: 0.892\tC2: 0.051\tUnc: 0.057\n",
      "  \n",
      "  Rule 183: actvsubs = 1.0\n",
      "  \tC1: 0.730\tC2: 0.135\tUnc: 0.135\n",
      "  \n",
      "  Rule 184: actvsubs = 2.0\n",
      "  \tC1: 0.786\tC2: 0.104\tUnc: 0.110\n",
      "  \n",
      "  Rule 185: totcalls < 1403.444\n",
      "  \tC1: 0.761\tC2: 0.120\tUnc: 0.120\n",
      "  \n",
      "  Rule 186: 1403.444 < totcalls < 2659.400\n",
      "  \tC1: 0.838\tC2: 0.078\tUnc: 0.084\n",
      "  \n",
      "  Rule 187: 2659.400 < totcalls < 3915.356\n",
      "  \tC1: 0.670\tC2: 0.165\tUnc: 0.165\n",
      "  \n",
      "  Rule 188: totcalls > 3915.356\n",
      "  \tC1: 0.673\tC2: 0.164\tUnc: 0.164\n",
      "  \n",
      "  Rule 189: totmou < 3936.939\n",
      "  \tC1: 0.761\tC2: 0.120\tUnc: 0.120\n",
      "  \n",
      "  Rule 190: 3936.939 < totmou < 7536.900\n",
      "  \tC1: 0.921\tC2: 0.036\tUnc: 0.043\n",
      "  \n",
      "  Rule 191: 7536.900 < totmou < 11136.861\n",
      "  \tC1: 0.670\tC2: 0.165\tUnc: 0.165\n",
      "  \n",
      "  Rule 192: totmou > 11136.861\n",
      "  \tC1: 0.646\tC2: 0.176\tUnc: 0.178\n",
      "  \n",
      "  Rule 193: totrev < 811.184\n",
      "  \tC1: 0.792\tC2: 0.104\tUnc: 0.104\n",
      "  \n",
      "  Rule 194: 811.184 < totrev < 1143.570\n",
      "  \tC1: 0.819\tC2: 0.090\tUnc: 0.090\n",
      "  \n",
      "  Rule 195: 1143.570 < totrev < 1475.956\n",
      "  \tC1: 0.892\tC2: 0.051\tUnc: 0.057\n",
      "  \n",
      "  Rule 196: totrev > 1475.956\n",
      "  \tC1: 0.646\tC2: 0.176\tUnc: 0.178\n",
      "  \n",
      "  Rule 197: adjrev < 751.288\n",
      "  \tC1: 0.792\tC2: 0.104\tUnc: 0.104\n",
      "  \n",
      "  Rule 198: 751.288 < adjrev < 1076.704\n",
      "  \tC1: 0.819\tC2: 0.090\tUnc: 0.090\n",
      "  \n",
      "  Rule 199: 1076.704 < adjrev < 1402.120\n",
      "  \tC1: 0.892\tC2: 0.051\tUnc: 0.057\n",
      "  \n",
      "  Rule 200: adjrev > 1402.120\n",
      "  \tC1: 0.646\tC2: 0.176\tUnc: 0.178\n",
      "  \n",
      "  Rule 201: adjmou < 3879.162\n",
      "  \tC1: 0.761\tC2: 0.120\tUnc: 0.120\n",
      "  \n",
      "  Rule 202: 3879.162 < adjmou < 7491.200\n",
      "  \tC1: 0.921\tC2: 0.036\tUnc: 0.043\n",
      "  \n",
      "  Rule 203: 7491.200 < adjmou < 11103.238\n",
      "  \tC1: 0.670\tC2: 0.165\tUnc: 0.165\n",
      "  \n",
      "  Rule 204: adjmou > 11103.238\n",
      "  \tC1: 0.646\tC2: 0.176\tUnc: 0.178\n",
      "  \n",
      "  Rule 205: adjqty < 1382.922\n",
      "  \tC1: 0.761\tC2: 0.120\tUnc: 0.120\n",
      "  \n",
      "  Rule 206: 1382.922 < adjqty < 2645.200\n",
      "  \tC1: 0.838\tC2: 0.078\tUnc: 0.084\n",
      "  \n",
      "  Rule 207: 2645.200 < adjqty < 3907.478\n",
      "  \tC1: 0.670\tC2: 0.165\tUnc: 0.165\n",
      "  \n",
      "  Rule 208: adjqty > 3907.478\n",
      "  \tC1: 0.673\tC2: 0.164\tUnc: 0.164\n",
      "  \n",
      "  Rule 209: avgrev < 50.385\n",
      "  \tC1: 0.840\tC2: 0.080\tUnc: 0.081\n",
      "  \n",
      "  Rule 210: 50.385 < avgrev < 70.792\n",
      "  \tC1: 0.664\tC2: 0.165\tUnc: 0.171\n",
      "  \n",
      "  Rule 211: 70.792 < avgrev < 91.199\n",
      "  \tC1: 0.977\tC2: 0.012\tUnc: 0.012\n",
      "  \n",
      "  Rule 212: avgrev > 91.199\n",
      "  \tC1: 0.835\tC2: 0.082\tUnc: 0.082\n",
      "  \n",
      "  Rule 213: avgmou < 225.879\n",
      "  \tC1: 0.783\tC2: 0.105\tUnc: 0.111\n",
      "  \n",
      "  Rule 214: 225.879 < avgmou < 503.026\n",
      "  \tC1: 0.822\tC2: 0.088\tUnc: 0.090\n",
      "  \n",
      "  Rule 215: 503.026 < avgmou < 780.173\n",
      "  \tC1: 0.346\tC2: 0.327\tUnc: 0.327\n",
      "  \n",
      "  Rule 216: avgmou > 780.173\n",
      "  \tC1: 0.835\tC2: 0.082\tUnc: 0.082\n",
      "  \n",
      "  Rule 217: avgqty < 80.912\n",
      "  \tC1: 0.718\tC2: 0.140\tUnc: 0.142\n",
      "  \n",
      "  Rule 218: 80.912 < avgqty < 180.933\n",
      "  \tC1: 0.921\tC2: 0.036\tUnc: 0.043\n",
      "  \n",
      "  Rule 219: 180.933 < avgqty < 280.954\n",
      "  \tC1: 0.346\tC2: 0.327\tUnc: 0.327\n",
      "  \n",
      "  Rule 220: avgqty > 280.954\n",
      "  \tC1: 0.835\tC2: 0.082\tUnc: 0.082\n",
      "  \n",
      "  Rule 221: avg3mou < 196.786\n",
      "  \tC1: 0.805\tC2: 0.097\tUnc: 0.098\n",
      "  \n",
      "  Rule 222: 196.786 < avg3mou < 486.100\n",
      "  \tC1: 0.750\tC2: 0.122\tUnc: 0.128\n",
      "  \n",
      "  Rule 223: 486.100 < avg3mou < 775.414\n",
      "  \tC1: 0.661\tC2: 0.169\tUnc: 0.169\n",
      "  \n",
      "  Rule 224: avg3mou > 775.414\n",
      "  \tC1: 0.835\tC2: 0.082\tUnc: 0.082\n",
      "  \n",
      "  Rule 225: avg3qty < 68.769\n",
      "  \tC1: 0.805\tC2: 0.097\tUnc: 0.098\n",
      "  \n",
      "  Rule 226: 68.769 < avg3qty < 168.800\n",
      "  \tC1: 0.750\tC2: 0.122\tUnc: 0.128\n",
      "  \n",
      "  Rule 227: 168.800 < avg3qty < 268.831\n",
      "  \tC1: 0.661\tC2: 0.169\tUnc: 0.169\n",
      "  \n",
      "  Rule 228: avg3qty > 268.831\n",
      "  \tC1: 0.835\tC2: 0.082\tUnc: 0.082\n",
      "  \n",
      "  Rule 229: avg3rev < 51.024\n",
      "  \tC1: 0.840\tC2: 0.080\tUnc: 0.081\n",
      "  \n",
      "  Rule 230: 51.024 < avg3rev < 75.700\n",
      "  \tC1: 0.745\tC2: 0.124\tUnc: 0.131\n",
      "  \n",
      "  Rule 231: 75.700 < avg3rev < 100.376\n",
      "  \tC1: 0.508\tC2: 0.246\tUnc: 0.246\n",
      "  \n",
      "  Rule 232: avg3rev > 100.376\n",
      "  \tC1: 0.988\tC2: 0.006\tUnc: 0.006\n",
      "  \n",
      "  Rule 233: avg6mou < 213.825\n",
      "  \tC1: 0.822\tC2: 0.086\tUnc: 0.092\n",
      "  \n",
      "  Rule 234: 213.825 < avg6mou < 537.400\n",
      "  \tC1: 0.781\tC2: 0.109\tUnc: 0.111\n",
      "  \n",
      "  Rule 235: 537.400 < avg6mou < 860.975\n",
      "  \tC1: 0.346\tC2: 0.327\tUnc: 0.327\n",
      "  \n",
      "  Rule 236: avg6mou > 860.975\n",
      "  \tC1: 0.835\tC2: 0.082\tUnc: 0.082\n",
      "  \n",
      "  Rule 237: avg6qty < 68.180\n",
      "  \tC1: 0.805\tC2: 0.097\tUnc: 0.098\n",
      "  \n",
      "  Rule 238: 68.180 < avg6qty < 178.800\n",
      "  \tC1: 0.805\tC2: 0.094\tUnc: 0.101\n",
      "  \n",
      "  Rule 239: 178.800 < avg6qty < 289.420\n",
      "  \tC1: 0.346\tC2: 0.327\tUnc: 0.327\n",
      "  \n",
      "  Rule 240: avg6qty > 289.420\n",
      "  \tC1: 0.835\tC2: 0.082\tUnc: 0.082\n",
      "  \n",
      "  Rule 241: avg6rev < 48.315\n",
      "  \tC1: 0.840\tC2: 0.080\tUnc: 0.081\n",
      "  \n",
      "  Rule 242: 48.315 < avg6rev < 74.700\n",
      "  \tC1: 0.664\tC2: 0.165\tUnc: 0.171\n",
      "  \n",
      "  Rule 243: 74.700 < avg6rev < 101.085\n",
      "  \tC1: 0.977\tC2: 0.012\tUnc: 0.012\n",
      "  \n",
      "  Rule 244: avg6rev > 101.085\n",
      "  \tC1: 0.835\tC2: 0.082\tUnc: 0.082\n",
      "  \n",
      "  Rule 245: hnd_price = 29.98999023\n",
      "  \tC1: 0.735\tC2: 0.132\tUnc: 0.132\n",
      "  \n",
      "  Rule 246: hnd_price = 59.98999023\n",
      "  \tC1: 0.787\tC2: 0.107\tUnc: 0.107\n",
      "  \n",
      "  Rule 247: hnd_price = 99.98999023\n",
      "  \tC1: 0.346\tC2: 0.327\tUnc: 0.327\n",
      "  \n",
      "  Rule 248: hnd_price = 129.9899902\n",
      "  \tC1: 0.784\tC2: 0.108\tUnc: 0.108\n",
      "  \n",
      "  Rule 249: hnd_price = 149.9899902\n",
      "  \tC1: 0.908\tC2: 0.046\tUnc: 0.046\n",
      "  \n",
      "  Rule 250: hnd_price = 199.9899902\n",
      "  \tC1: 0.906\tC2: 0.047\tUnc: 0.047\n",
      "  \n",
      "  Rule 251: phones = 1.0\n",
      "  \tC1: 0.770\tC2: 0.112\tUnc: 0.118\n",
      "  \n",
      "  Rule 252: phones = 2.0\n",
      "  \tC1: 0.704\tC2: 0.148\tUnc: 0.148\n",
      "  \n",
      "  Rule 253: phones = 4.0\n",
      "  \tC1: 0.977\tC2: 0.012\tUnc: 0.012\n",
      "  \n",
      "  Rule 254: models = 1.0\n",
      "  \tC1: 0.770\tC2: 0.112\tUnc: 0.118\n",
      "  \n",
      "  Rule 255: models = 2.0\n",
      "  \tC1: 0.759\tC2: 0.121\tUnc: 0.121\n",
      "  \n",
      "  Rule 256: truck = 0.0\n",
      "  \tC1: 0.747\tC2: 0.123\tUnc: 0.130\n",
      "  \n",
      "  Rule 257: truck = 1.0\n",
      "  \tC1: 0.823\tC2: 0.088\tUnc: 0.088\n",
      "  \n",
      "  Rule 258: rv = 0.0\n",
      "  \tC1: 0.772\tC2: 0.111\tUnc: 0.117\n",
      "  \n",
      "  Rule 259: rv = 1.0\n",
      "  \tC1: 0.670\tC2: 0.165\tUnc: 0.165\n",
      "  \n",
      "  Rule 260: forgntvl = 0.0\n",
      "  \tC1: 0.761\tC2: 0.116\tUnc: 0.123\n",
      "  \n",
      "  Rule 261: eqpdays < 190.011\n",
      "  \tC1: 0.774\tC2: 0.113\tUnc: 0.113\n",
      "  \n",
      "  Rule 262: 190.011 < eqpdays < 356.400\n",
      "  \tC1: 0.670\tC2: 0.165\tUnc: 0.165\n",
      "  \n",
      "  Rule 263: 356.400 < eqpdays < 522.789\n",
      "  \tC1: 0.755\tC2: 0.123\tUnc: 0.123\n",
      "  \n",
      "  Rule 264: eqpdays > 522.789\n",
      "  \tC1: 0.794\tC2: 0.100\tUnc: 0.106\n",
      ")\n",
      "\n",
      "\n",
      "Most important rules for class 0\n",
      "\n",
      "\t[0.991] R231: avg3rev > 100.376\n",
      "\t\t\t0: 0.988\t1: 0.006\tUnc: 0.006\n",
      "\n",
      "\t[0.991] R176: 15.273 < months < 18.700\n",
      "\t\t\t0: 0.988\t1: 0.006\tUnc: 0.006\n",
      "\n",
      "\t[0.991] R40: change_rev < -36.363\n",
      "\t\t\t0: 0.988\t1: 0.006\tUnc: 0.006\n",
      "\n",
      "\t[0.991] R20: ovrmou_Mean > 99.636\n",
      "\t\t\t0: 0.988\t1: 0.006\tUnc: 0.006\n",
      "\n",
      "\t[0.991] R3: rev_Mean > 92.214\n",
      "\t\t\t0: 0.988\t1: 0.006\tUnc: 0.006\n",
      "\n",
      "\t[0.982] R252: phones = 4.0\n",
      "\t\t\t0: 0.977\t1: 0.012\tUnc: 0.012\n",
      "\n",
      "\t[0.982] R242: 74.700 < avg6rev < 101.085\n",
      "\t\t\t0: 0.977\t1: 0.012\tUnc: 0.012\n",
      "\n",
      "\t[0.982] R210: 70.792 < avgrev < 91.199\n",
      "\t\t\t0: 0.977\t1: 0.012\tUnc: 0.012\n",
      "\n",
      "\t[0.982] R119: 24.925 < mouowylisv_Mean < 38.492\n",
      "\t\t\t0: 0.977\t1: 0.012\tUnc: 0.012\n",
      "\n",
      "\t[0.982] R99: threeway_Mean = 0.333333333\n",
      "\t\t\t0: 0.977\t1: 0.012\tUnc: 0.012\n",
      "\n",
      "\t[0.982] R35: roam_Mean = 8.2475\n",
      "\t\t\t0: 0.977\t1: 0.012\tUnc: 0.012\n",
      "\n",
      "\t[0.963] R115: 20.867 < owylis_vce_Mean < 31.339\n",
      "\t\t\t0: 0.952\t1: 0.021\tUnc: 0.027\n",
      "\n",
      "\t[0.947] R137: 73.772 < mou_peav_Mean < 172.210\n",
      "\t\t\t0: 0.931\t1: 0.031\tUnc: 0.037\n",
      "\n",
      "\t[0.939] R217: 80.912 < avgqty < 180.933\n",
      "\t\t\t0: 0.921\t1: 0.036\tUnc: 0.043\n",
      "\n",
      "\t[0.939] R201: 3879.162 < adjmou < 7491.200\n",
      "\t\t\t0: 0.921\t1: 0.036\tUnc: 0.043\n",
      "\n",
      "\t[0.939] R189: 3936.939 < totmou < 7536.900\n",
      "\t\t\t0: 0.921\t1: 0.036\tUnc: 0.043\n",
      "\n",
      "\t[0.935] R126: 4.461 < mouiwylisv_Mean < 15.421\n",
      "\t\t\t0: 0.915\t1: 0.039\tUnc: 0.045\n",
      "\n",
      "\t[0.931] R248: hnd_price = 149.9899902\n",
      "\t\t\t0: 0.908\t1: 0.046\tUnc: 0.046\n",
      "\n",
      "\t[0.931] R31: datovr_Mean = 0.4875\n",
      "\t\t\t0: 0.908\t1: 0.046\tUnc: 0.046\n",
      "\n",
      "\t[0.930] R72: recv_sms_Mean = 4.0\n",
      "\t\t\t0: 0.907\t1: 0.046\tUnc: 0.047\n",
      "\n",
      "\t[0.929] R249: hnd_price = 199.9899902\n",
      "\t\t\t0: 0.906\t1: 0.047\tUnc: 0.047\n",
      "\n",
      "\t[0.923] R30: datovr_Mean = 0.0975\n",
      "\t\t\t0: 0.898\t1: 0.051\tUnc: 0.051\n",
      "\n",
      "\t[0.923] R13: da_Mean = 0.2475\n",
      "\t\t\t0: 0.898\t1: 0.051\tUnc: 0.051\n",
      "\n",
      "\t[0.917] R198: 1076.704 < adjrev < 1402.120\n",
      "\t\t\t0: 0.892\t1: 0.051\tUnc: 0.057\n",
      "\n",
      "\t[0.917] R194: 1143.570 < totrev < 1475.956\n",
      "\t\t\t0: 0.892\t1: 0.051\tUnc: 0.057\n",
      "\n",
      "\t[0.917] R181: uniqsubs = 3.0\n",
      "\t\t\t0: 0.892\t1: 0.051\tUnc: 0.057\n",
      "\n",
      "\t[0.917] R37: -254.936 < change_mou < -62.175\n",
      "\t\t\t0: 0.892\t1: 0.051\tUnc: 0.057\n",
      "\n",
      "\t[0.917] R1: 53.814 < rev_Mean < 73.014\n",
      "\t\t\t0: 0.892\t1: 0.051\tUnc: 0.057\n",
      "\n",
      "\t[0.913] R8: totmrc_Mean < 44.918\n",
      "\t\t\t0: 0.885\t1: 0.057\tUnc: 0.058\n",
      "\n",
      "\t[0.911] R36: change_mou < -254.936\n",
      "\t\t\t0: 0.882\t1: 0.059\tUnc: 0.059\n",
      "\n",
      "\t[0.910] R81: custcare_Mean = 0.0\n",
      "\t\t\t0: 0.882\t1: 0.056\tUnc: 0.062\n",
      "\n",
      "\t[0.902] R50: 0.300 < blck_vce_Mean < 2.667\n",
      "\t\t\t0: 0.870\t1: 0.065\tUnc: 0.065\n",
      "\n",
      "\t[0.898] R55: 6.459 < unan_vce_Mean < 24.867\n",
      "\t\t\t0: 0.867\t1: 0.063\tUnc: 0.070\n",
      "\n",
      "\t[0.885] R166: complete_Mean < 33.903\n",
      "\t\t\t0: 0.848\t1: 0.076\tUnc: 0.077\n",
      "\n",
      "\t[0.885] R162: attempt_Mean < 46.082\n",
      "\t\t\t0: 0.848\t1: 0.076\tUnc: 0.077\n",
      "\n",
      "\t[0.885] R101: mou_cvce_Mean < 76.099\n",
      "\t\t\t0: 0.848\t1: 0.076\tUnc: 0.077\n",
      "\n",
      "\t[0.885] R73: comp_vce_Mean < 33.831\n",
      "\t\t\t0: 0.848\t1: 0.076\tUnc: 0.077\n",
      "\n",
      "\t[0.885] R59: plcd_vce_Mean < 46.015\n",
      "\t\t\t0: 0.848\t1: 0.076\tUnc: 0.077\n",
      "\n",
      "\t[0.882] R122: 2.323 < iwylis_vce_Mean < 6.700\n",
      "\t\t\t0: 0.846\t1: 0.074\tUnc: 0.080\n",
      "\n",
      "\t[0.879] R240: avg6rev < 48.315\n",
      "\t\t\t0: 0.840\t1: 0.080\tUnc: 0.081\n",
      "\n",
      "\t[0.879] R228: avg3rev < 51.024\n",
      "\t\t\t0: 0.840\t1: 0.080\tUnc: 0.081\n",
      "\n",
      "\t[0.879] R208: avgrev < 50.385\n",
      "\t\t\t0: 0.840\t1: 0.080\tUnc: 0.081\n",
      "\n",
      "\t[0.876] R205: 1382.922 < adjqty < 2645.200\n",
      "\t\t\t0: 0.838\t1: 0.078\tUnc: 0.084\n",
      "\n",
      "\t[0.876] R185: 1403.444 < totcalls < 2659.400\n",
      "\t\t\t0: 0.838\t1: 0.078\tUnc: 0.084\n",
      "\n",
      "\t[0.875] R243: avg6rev > 101.085\n",
      "\t\t\t0: 0.835\t1: 0.082\tUnc: 0.082\n",
      "\n",
      "\t[0.875] R239: avg6qty > 289.420\n",
      "\t\t\t0: 0.835\t1: 0.082\tUnc: 0.082\n",
      "\n",
      "\t[0.875] R235: avg6mou > 860.975\n",
      "\t\t\t0: 0.835\t1: 0.082\tUnc: 0.082\n",
      "\n",
      "\t[0.875] R227: avg3qty > 268.831\n",
      "\t\t\t0: 0.835\t1: 0.082\tUnc: 0.082\n",
      "\n",
      "\t[0.875] R223: avg3mou > 775.414\n",
      "\t\t\t0: 0.835\t1: 0.082\tUnc: 0.082\n",
      "\n",
      "\t[0.875] R219: avgqty > 280.954\n",
      "\t\t\t0: 0.835\t1: 0.082\tUnc: 0.082\n",
      "\n",
      "\t[0.875] R215: avgmou > 780.173\n",
      "\t\t\t0: 0.835\t1: 0.082\tUnc: 0.082\n",
      "\n",
      "\t[0.875] R211: avgrev > 91.199\n",
      "\t\t\t0: 0.835\t1: 0.082\tUnc: 0.082\n",
      "\n",
      "\t[0.875] R169: complete_Mean > 162.030\n",
      "\t\t\t0: 0.835\t1: 0.082\tUnc: 0.082\n",
      "\n",
      "\t[0.875] R165: attempt_Mean > 215.518\n",
      "\t\t\t0: 0.835\t1: 0.082\tUnc: 0.082\n",
      "\n",
      "\t[0.875] R153: mou_opkv_Mean > 333.463\n",
      "\t\t\t0: 0.835\t1: 0.082\tUnc: 0.082\n",
      "\n",
      "\t[0.875] R146: opk_vce_Mean > 127.101\n",
      "\t\t\t0: 0.835\t1: 0.082\tUnc: 0.082\n",
      "\n",
      "\t[0.875] R112: mou_rvce_Mean > 272.555\n",
      "\t\t\t0: 0.835\t1: 0.082\tUnc: 0.082\n",
      "\n",
      "\t[0.875] R97: inonemin_Mean > 94.349\n",
      "\t\t\t0: 0.835\t1: 0.082\tUnc: 0.082\n",
      "\n",
      "\t[0.875] R76: comp_vce_Mean > 161.436\n",
      "\t\t\t0: 0.835\t1: 0.082\tUnc: 0.082\n",
      "\n",
      "\t[0.875] R70: recv_vce_Mean > 147.481\n",
      "\t\t\t0: 0.835\t1: 0.082\tUnc: 0.082\n",
      "\n",
      "\t[0.875] R62: plcd_vce_Mean > 214.918\n",
      "\t\t\t0: 0.835\t1: 0.082\tUnc: 0.082\n",
      "\n",
      "\t[0.875] R57: unan_vce_Mean > 43.275\n",
      "\t\t\t0: 0.835\t1: 0.082\tUnc: 0.082\n",
      "\n",
      "\t[0.875] R7: mou_Mean > 726.062\n",
      "\t\t\t0: 0.835\t1: 0.082\tUnc: 0.082\n",
      "\n",
      "\t[0.869] R102: 76.099 < mou_cvce_Mean < 198.618\n",
      "\t\t\t0: 0.829\t1: 0.082\tUnc: 0.088\n",
      "\n",
      "\t[0.869] R154: mou_opkd_Mean = 0.0\n",
      "\t\t\t0: 0.829\t1: 0.082\tUnc: 0.089\n",
      "\n",
      "\t[0.869] R147: opk_dat_Mean = 0.0\n",
      "\t\t\t0: 0.829\t1: 0.082\tUnc: 0.089\n",
      "\n",
      "\t[0.869] R105: mou_cdat_Mean = 0.0\n",
      "\t\t\t0: 0.829\t1: 0.082\tUnc: 0.089\n",
      "\n",
      "\t[0.869] R77: comp_dat_Mean = 0.0\n",
      "\t\t\t0: 0.829\t1: 0.082\tUnc: 0.089\n",
      "\n",
      "\t[0.869] R63: plcd_dat_Mean = 0.0\n",
      "\t\t\t0: 0.829\t1: 0.082\tUnc: 0.089\n",
      "\n",
      "\t[0.867] R140: mou_pead_Mean = 0.0\n",
      "\t\t\t0: 0.826\t1: 0.084\tUnc: 0.090\n",
      "\n",
      "\t[0.867] R133: peak_dat_Mean = 0.0\n",
      "\t\t\t0: 0.826\t1: 0.084\tUnc: 0.090\n",
      "\n",
      "\t[0.867] R91: -1.294 < cc_mou_Mean < 2.451\n",
      "\t\t\t0: 0.826\t1: 0.084\tUnc: 0.090\n",
      "\n",
      "\t[0.867] R87: -1.138 < ccrndmou_Mean < 3.167\n",
      "\t\t\t0: 0.826\t1: 0.084\tUnc: 0.090\n",
      "\n",
      "\t[0.866] R256: truck = 1.0\n",
      "\t\t\t0: 0.823\t1: 0.088\tUnc: 0.088\n",
      "\n",
      "\t[0.865] R213: 225.879 < avgmou < 503.026\n",
      "\t\t\t0: 0.822\t1: 0.088\tUnc: 0.090\n",
      "\n",
      "\t[0.864] R232: avg6mou < 213.825\n",
      "\t\t\t0: 0.822\t1: 0.086\tUnc: 0.092\n",
      "\n",
      "\t[0.863] R197: 751.288 < adjrev < 1076.704\n",
      "\t\t\t0: 0.819\t1: 0.090\tUnc: 0.090\n",
      "\n",
      "\t[0.863] R193: 811.184 < totrev < 1143.570\n",
      "\t\t\t0: 0.819\t1: 0.090\tUnc: 0.090\n",
      "\n",
      "\t[0.863] R130: 34.456 < peak_vce_Mean < 89.800\n",
      "\t\t\t0: 0.821\t1: 0.086\tUnc: 0.092\n",
      "\n",
      "\t[0.857] R155: mou_opkd_Mean = 0.206666667\n",
      "\t\t\t0: 0.811\t1: 0.094\tUnc: 0.094\n",
      "\n",
      "\t[0.857] R148: opk_dat_Mean = 0.333333333\n",
      "\t\t\t0: 0.811\t1: 0.094\tUnc: 0.094\n",
      "\n",
      "\t[0.857] R106: mou_cdat_Mean = 0.206666667\n",
      "\t\t\t0: 0.811\t1: 0.094\tUnc: 0.094\n",
      "\n",
      "\t[0.857] R84: custcare_Mean = 2.0\n",
      "\t\t\t0: 0.811\t1: 0.094\tUnc: 0.094\n",
      "\n",
      "\t[0.857] R78: comp_dat_Mean = 0.333333333\n",
      "\t\t\t0: 0.811\t1: 0.094\tUnc: 0.094\n",
      "\n",
      "\t[0.857] R64: plcd_dat_Mean = 0.333333333\n",
      "\t\t\t0: 0.811\t1: 0.094\tUnc: 0.094\n",
      "\n",
      "\t[0.857] R34: roam_Mean = 0.1725\n",
      "\t\t\t0: 0.811\t1: 0.094\tUnc: 0.094\n",
      "\n",
      "\t[0.857] R44: drop_vce_Mean < 2.366\n",
      "\t\t\t0: 0.812\t1: 0.093\tUnc: 0.095\n",
      "\n",
      "\t[0.856] R177: 18.700 < months < 22.127\n",
      "\t\t\t0: 0.812\t1: 0.090\tUnc: 0.097\n",
      "\n",
      "\t[0.855] R118: 11.357 < mouowylisv_Mean < 24.925\n",
      "\t\t\t0: 0.811\t1: 0.092\tUnc: 0.098\n",
      "\n",
      "\t[0.855] R25: vceovr_Mean < 4.802\n",
      "\t\t\t0: 0.811\t1: 0.091\tUnc: 0.098\n",
      "\n",
      "\t[0.855] R21: ovrrev_Mean < 5.371\n",
      "\t\t\t0: 0.811\t1: 0.091\tUnc: 0.098\n",
      "\n",
      "\t[0.855] R17: ovrmou_Mean < 14.514\n",
      "\t\t\t0: 0.811\t1: 0.091\tUnc: 0.098\n",
      "\n",
      "\t[0.852] R236: avg6qty < 68.180\n",
      "\t\t\t0: 0.805\t1: 0.097\tUnc: 0.098\n",
      "\n",
      "\t[0.852] R224: avg3qty < 68.769\n",
      "\t\t\t0: 0.805\t1: 0.097\tUnc: 0.098\n",
      "\n",
      "\t[0.852] R220: avg3mou < 196.786\n",
      "\t\t\t0: 0.805\t1: 0.097\tUnc: 0.098\n",
      "\n",
      "\t[0.852] R117: mouowylisv_Mean < 11.357\n",
      "\t\t\t0: 0.805\t1: 0.097\tUnc: 0.098\n",
      "\n",
      "\t[0.852] R113: owylis_vce_Mean < 10.395\n",
      "\t\t\t0: 0.805\t1: 0.097\tUnc: 0.098\n",
      "\n",
      "\t[0.852] R38: -62.175 < change_mou < 130.586\n",
      "\t\t\t0: 0.805\t1: 0.097\tUnc: 0.098\n",
      "\n",
      "\t[0.852] R4: mou_Mean < 204.488\n",
      "\t\t\t0: 0.805\t1: 0.097\tUnc: 0.098\n",
      "\n",
      "\t[0.851] R237: 68.180 < avg6qty < 178.800\n",
      "\t\t\t0: 0.805\t1: 0.094\tUnc: 0.101\n",
      "\n",
      "\t[0.851] R5: 204.488 < mou_Mean < 465.275\n",
      "\t\t\t0: 0.805\t1: 0.094\tUnc: 0.101\n",
      "\n",
      "\t[0.850] R150: mou_opkv_Mean < 19.037\n",
      "\t\t\t0: 0.802\t1: 0.099\tUnc: 0.099\n",
      "\n",
      "\t[0.850] R109: mou_rvce_Mean < 27.128\n",
      "\t\t\t0: 0.802\t1: 0.099\tUnc: 0.099\n",
      "\n",
      "\t[0.846] R158: drop_blk_Mean < 3.366\n",
      "\t\t\t0: 0.797\t1: 0.101\tUnc: 0.102\n",
      "\n",
      "\t[0.843] R129: peak_vce_Mean < 34.456\n",
      "\t\t\t0: 0.794\t1: 0.103\tUnc: 0.104\n",
      "\n",
      "\t[0.843] R263: eqpdays > 522.789\n",
      "\t\t\t0: 0.794\t1: 0.100\tUnc: 0.106\n",
      "\n",
      "\t[0.843] R12: da_Mean = 0.0\n",
      "\t\t\t0: 0.793\t1: 0.103\tUnc: 0.104\n",
      "\n",
      "\t[0.842] R196: adjrev < 751.288\n",
      "\t\t\t0: 0.792\t1: 0.104\tUnc: 0.104\n",
      "\n",
      "\t[0.842] R192: totrev < 811.184\n",
      "\t\t\t0: 0.792\t1: 0.104\tUnc: 0.104\n",
      "\n",
      "\t[0.842] R0: rev_Mean < 53.814\n",
      "\t\t\t0: 0.792\t1: 0.104\tUnc: 0.104\n",
      "\n",
      "\t[0.838] R245: hnd_price = 59.98999023\n",
      "\t\t\t0: 0.787\t1: 0.107\tUnc: 0.107\n",
      "\n",
      "\t[0.836] R183: actvsubs = 2.0\n",
      "\t\t\t0: 0.786\t1: 0.104\tUnc: 0.110\n",
      "\n",
      "\t[0.836] R247: hnd_price = 129.9899902\n",
      "\t\t\t0: 0.784\t1: 0.108\tUnc: 0.108\n",
      "\n",
      "\t[0.835] R172: callwait_Mean = 0.333333333\n",
      "\t\t\t0: 0.782\t1: 0.109\tUnc: 0.109\n",
      "\n",
      "\t[0.834] R212: avgmou < 225.879\n",
      "\t\t\t0: 0.783\t1: 0.105\tUnc: 0.111\n",
      "\n",
      "\t[0.833] R233: 213.825 < avg6mou < 537.400\n",
      "\t\t\t0: 0.781\t1: 0.109\tUnc: 0.111\n",
      "\n",
      "\t[0.829] R28: vceovr_Mean > 31.261\n",
      "\t\t\t0: 0.774\t1: 0.113\tUnc: 0.113\n",
      "\n",
      "\t[0.829] R24: ovrrev_Mean > 31.920\n",
      "\t\t\t0: 0.774\t1: 0.113\tUnc: 0.113\n",
      "\n",
      "\t[0.828] R260: eqpdays < 190.011\n",
      "\t\t\t0: 0.774\t1: 0.113\tUnc: 0.113\n",
      "\n",
      "\t[0.828] R159: 3.366 < drop_blk_Mean < 11.267\n",
      "\t\t\t0: 0.773\t1: 0.114\tUnc: 0.114\n",
      "\n",
      "\t[0.828] R138: 172.210 < mou_peav_Mean < 270.648\n",
      "\t\t\t0: 0.773\t1: 0.114\tUnc: 0.114\n",
      "\n",
      "\t[0.825] R257: rv = 0.0\n",
      "\t\t\t0: 0.772\t1: 0.111\tUnc: 0.117\n",
      "\n",
      "\t[0.825] R180: uniqsubs = 2.0\n",
      "\t\t\t0: 0.769\t1: 0.114\tUnc: 0.116\n",
      "\n",
      "\t[0.824] R253: models = 1.0\n",
      "\t\t\t0: 0.770\t1: 0.112\tUnc: 0.118\n",
      "\n",
      "\t[0.824] R250: phones = 1.0\n",
      "\t\t\t0: 0.770\t1: 0.112\tUnc: 0.118\n",
      "\n",
      "\t[0.822] R82: custcare_Mean = 0.666666667\n",
      "\t\t\t0: 0.765\t1: 0.118\tUnc: 0.118\n",
      "\n",
      "\t[0.818] R204: adjqty < 1382.922\n",
      "\t\t\t0: 0.761\t1: 0.120\tUnc: 0.120\n",
      "\n",
      "\t[0.818] R200: adjmou < 3879.162\n",
      "\t\t\t0: 0.761\t1: 0.120\tUnc: 0.120\n",
      "\n",
      "\t[0.818] R188: totmou < 3936.939\n",
      "\t\t\t0: 0.761\t1: 0.120\tUnc: 0.120\n",
      "\n",
      "\t[0.818] R184: totcalls < 1403.444\n",
      "\t\t\t0: 0.761\t1: 0.120\tUnc: 0.120\n",
      "\n",
      "\t[0.817] R259: forgntvl = 0.0\n",
      "\t\t\t0: 0.761\t1: 0.116\tUnc: 0.123\n",
      "\n",
      "\t[0.817] R170: callfwdv_Mean = 0.0\n",
      "\t\t\t0: 0.761\t1: 0.116\tUnc: 0.123\n",
      "\n",
      "\t[0.817] R58: unan_dat_Mean = 0.0\n",
      "\t\t\t0: 0.761\t1: 0.116\tUnc: 0.123\n",
      "\n",
      "\t[0.817] R53: blck_dat_Mean = 0.0\n",
      "\t\t\t0: 0.761\t1: 0.116\tUnc: 0.123\n",
      "\n",
      "\t[0.817] R48: drop_dat_Mean = 0.0\n",
      "\t\t\t0: 0.761\t1: 0.116\tUnc: 0.123\n",
      "\n",
      "\t[0.817] R254: models = 2.0\n",
      "\t\t\t0: 0.759\t1: 0.121\tUnc: 0.121\n",
      "\n",
      "\t[0.814] R262: 356.400 < eqpdays < 522.789\n",
      "\t\t\t0: 0.755\t1: 0.123\tUnc: 0.123\n",
      "\n",
      "\t[0.812] R151: 19.037 < mou_opkv_Mean < 176.250\n",
      "\t\t\t0: 0.755\t1: 0.120\tUnc: 0.126\n",
      "\n",
      "\t[0.811] R136: mou_peav_Mean < 73.772\n",
      "\t\t\t0: 0.752\t1: 0.123\tUnc: 0.125\n",
      "\n",
      "\t[0.808] R225: 68.769 < avg3qty < 168.800\n",
      "\t\t\t0: 0.750\t1: 0.122\tUnc: 0.128\n",
      "\n",
      "\t[0.808] R221: 196.786 < avg3mou < 486.100\n",
      "\t\t\t0: 0.750\t1: 0.122\tUnc: 0.128\n",
      "\n",
      "\t[0.808] R167: 33.903 < complete_Mean < 97.967\n",
      "\t\t\t0: 0.750\t1: 0.122\tUnc: 0.128\n",
      "\n",
      "\t[0.808] R163: 46.082 < attempt_Mean < 130.800\n",
      "\t\t\t0: 0.750\t1: 0.122\tUnc: 0.128\n",
      "\n",
      "\t[0.808] R74: 33.831 < comp_vce_Mean < 97.633\n",
      "\t\t\t0: 0.750\t1: 0.122\tUnc: 0.128\n",
      "\n",
      "\t[0.808] R60: 46.015 < plcd_vce_Mean < 130.467\n",
      "\t\t\t0: 0.750\t1: 0.122\tUnc: 0.128\n",
      "\n",
      "\t[0.806] R255: truck = 0.0\n",
      "\t\t\t0: 0.747\t1: 0.123\tUnc: 0.130\n",
      "\n",
      "\t[0.806] R98: threeway_Mean = 0.0\n",
      "\t\t\t0: 0.747\t1: 0.123\tUnc: 0.130\n",
      "\n",
      "\t[0.806] R71: recv_sms_Mean = 0.0\n",
      "\t\t\t0: 0.746\t1: 0.124\tUnc: 0.130\n",
      "\n",
      "\t[0.805] R229: 51.024 < avg3rev < 75.700\n",
      "\t\t\t0: 0.745\t1: 0.124\tUnc: 0.131\n",
      "\n",
      "\t[0.804] R121: iwylis_vce_Mean < 2.323\n",
      "\t\t\t0: 0.743\t1: 0.128\tUnc: 0.129\n",
      "\n",
      "\t[0.804] R144: 3.499 < opk_vce_Mean < 65.300\n",
      "\t\t\t0: 0.744\t1: 0.125\tUnc: 0.131\n",
      "\n",
      "\t[0.804] R95: -5.349 < inonemin_Mean < 44.500\n",
      "\t\t\t0: 0.744\t1: 0.125\tUnc: 0.131\n",
      "\n",
      "\t[0.804] R68: 1.319 < recv_vce_Mean < 74.400\n",
      "\t\t\t0: 0.744\t1: 0.125\tUnc: 0.131\n",
      "\n",
      "\t[0.803] R175: months < 15.273\n",
      "\t\t\t0: 0.741\t1: 0.130\tUnc: 0.130\n",
      "\n",
      "\t[0.803] R29: datovr_Mean = 0.0\n",
      "\t\t\t0: 0.741\t1: 0.128\tUnc: 0.130\n",
      "\n",
      "\t[0.802] R161: drop_blk_Mean > 19.167\n",
      "\t\t\t0: 0.742\t1: 0.126\tUnc: 0.132\n",
      "\n",
      "\t[0.802] R47: drop_vce_Mean > 14.834\n",
      "\t\t\t0: 0.742\t1: 0.126\tUnc: 0.132\n",
      "\n",
      "\t[0.799] R244: hnd_price = 29.98999023\n",
      "\t\t\t0: 0.735\t1: 0.132\tUnc: 0.132\n",
      "\n",
      "\t[0.795] R42: -7.834 < change_rev < 20.696\n",
      "\t\t\t0: 0.732\t1: 0.131\tUnc: 0.137\n",
      "\n",
      "\t[0.795] R182: actvsubs = 1.0\n",
      "\t\t\t0: 0.730\t1: 0.135\tUnc: 0.135\n",
      "\n",
      "\t[0.795] R179: uniqsubs = 1.0\n",
      "\t\t\t0: 0.730\t1: 0.135\tUnc: 0.135\n",
      "\n",
      "\t[0.793] R33: roam_Mean = 0.0\n",
      "\t\t\t0: 0.729\t1: 0.132\tUnc: 0.139\n",
      "\n",
      "\t[0.791] R110: 27.128 < mou_rvce_Mean < 149.842\n",
      "\t\t\t0: 0.727\t1: 0.133\tUnc: 0.139\n",
      "\n",
      "\t[0.789] R171: callwait_Mean = 0.0\n",
      "\t\t\t0: 0.725\t1: 0.134\tUnc: 0.141\n",
      "\n",
      "\t[0.789] R9: 44.918 < totmrc_Mean < 56.371\n",
      "\t\t\t0: 0.725\t1: 0.135\tUnc: 0.141\n",
      "\n",
      "\t[0.788] R124: iwylis_vce_Mean > 11.077\n",
      "\t\t\t0: 0.722\t1: 0.139\tUnc: 0.139\n",
      "\n",
      "\t[0.785] R216: avgqty < 80.912\n",
      "\t\t\t0: 0.718\t1: 0.140\tUnc: 0.142\n",
      "\n",
      "\t[0.777] R11: totmrc_Mean > 67.823\n",
      "\t\t\t0: 0.707\t1: 0.147\tUnc: 0.147\n",
      "\n",
      "\t[0.775] R251: phones = 2.0\n",
      "\t\t\t0: 0.704\t1: 0.148\tUnc: 0.148\n",
      "\n",
      "\t[0.773] R49: blck_vce_Mean < 0.300\n",
      "\t\t\t0: 0.703\t1: 0.148\tUnc: 0.150\n",
      "\n",
      "\t[0.770] R45: 2.366 < drop_vce_Mean < 8.600\n",
      "\t\t\t0: 0.698\t1: 0.151\tUnc: 0.151\n",
      "\n",
      "\t[0.758] R114: 10.395 < owylis_vce_Mean < 20.867\n",
      "\t\t\t0: 0.683\t1: 0.157\tUnc: 0.159\n",
      "\n",
      "\t[0.754] R128: mouiwylisv_Mean > 26.380\n",
      "\t\t\t0: 0.679\t1: 0.160\tUnc: 0.162\n",
      "\n",
      "\t[0.750] R207: adjqty > 3907.478\n",
      "\t\t\t0: 0.673\t1: 0.164\tUnc: 0.164\n",
      "\n",
      "\t[0.750] R187: totcalls > 3915.356\n",
      "\t\t\t0: 0.673\t1: 0.164\tUnc: 0.164\n",
      "\n",
      "\t[0.750] R139: mou_peav_Mean > 270.648\n",
      "\t\t\t0: 0.672\t1: 0.164\tUnc: 0.164\n",
      "\n",
      "\t[0.750] R132: peak_vce_Mean > 145.144\n",
      "\t\t\t0: 0.672\t1: 0.164\tUnc: 0.164\n",
      "\n",
      "\t[0.750] R104: mou_cvce_Mean > 321.138\n",
      "\t\t\t0: 0.672\t1: 0.164\tUnc: 0.164\n",
      "\n",
      "\t[0.748] R261: 190.011 < eqpdays < 356.400\n",
      "\t\t\t0: 0.670\t1: 0.165\tUnc: 0.165\n",
      "\n",
      "\t[0.748] R258: rv = 1.0\n",
      "\t\t\t0: 0.670\t1: 0.165\tUnc: 0.165\n",
      "\n",
      "\t[0.748] R206: 2645.200 < adjqty < 3907.478\n",
      "\t\t\t0: 0.670\t1: 0.165\tUnc: 0.165\n",
      "\n",
      "\t[0.748] R202: 7491.200 < adjmou < 11103.238\n",
      "\t\t\t0: 0.670\t1: 0.165\tUnc: 0.165\n",
      "\n",
      "\t[0.748] R190: 7536.900 < totmou < 11136.861\n",
      "\t\t\t0: 0.670\t1: 0.165\tUnc: 0.165\n",
      "\n",
      "\t[0.748] R186: 2659.400 < totcalls < 3915.356\n",
      "\t\t\t0: 0.670\t1: 0.165\tUnc: 0.165\n",
      "\n",
      "\t[0.748] R174: callwait_Mean = 15.66666667\n",
      "\t\t\t0: 0.670\t1: 0.165\tUnc: 0.165\n",
      "\n",
      "\t[0.748] R160: 11.267 < drop_blk_Mean < 19.167\n",
      "\t\t\t0: 0.670\t1: 0.165\tUnc: 0.165\n",
      "\n",
      "\t[0.748] R156: mou_opkd_Mean = 0.766666667\n",
      "\t\t\t0: 0.670\t1: 0.165\tUnc: 0.165\n",
      "\n",
      "\t[0.748] R142: mou_pead_Mean = 1.683333333\n",
      "\t\t\t0: 0.670\t1: 0.165\tUnc: 0.165\n",
      "\n",
      "\t[0.748] R135: peak_dat_Mean = 1.0\n",
      "\t\t\t0: 0.670\t1: 0.165\tUnc: 0.165\n",
      "\n",
      "\t[0.748] R107: mou_cdat_Mean = 2.45\n",
      "\t\t\t0: 0.670\t1: 0.165\tUnc: 0.165\n",
      "\n",
      "\t[0.748] R100: threeway_Mean = 1.0\n",
      "\t\t\t0: 0.670\t1: 0.165\tUnc: 0.165\n",
      "\n",
      "\t[0.748] R93: cc_mou_Mean > 6.195\n",
      "\t\t\t0: 0.670\t1: 0.165\tUnc: 0.165\n",
      "\n",
      "\t[0.748] R89: ccrndmou_Mean > 7.472\n",
      "\t\t\t0: 0.670\t1: 0.165\tUnc: 0.165\n",
      "\n",
      "\t[0.748] R85: custcare_Mean = 8.666666667\n",
      "\t\t\t0: 0.670\t1: 0.165\tUnc: 0.165\n",
      "\n",
      "\t[0.748] R80: comp_dat_Mean = 1.666666667\n",
      "\t\t\t0: 0.670\t1: 0.165\tUnc: 0.165\n",
      "\n",
      "\t[0.748] R66: plcd_dat_Mean = 1.666666667\n",
      "\t\t\t0: 0.670\t1: 0.165\tUnc: 0.165\n",
      "\n",
      "\t[0.748] R51: 2.667 < blck_vce_Mean < 5.033\n",
      "\t\t\t0: 0.670\t1: 0.165\tUnc: 0.165\n",
      "\n",
      "\t[0.748] R46: 8.600 < drop_vce_Mean < 14.834\n",
      "\t\t\t0: 0.670\t1: 0.165\tUnc: 0.165\n",
      "\n",
      "\t[0.748] R41: -36.363 < change_rev < -7.834\n",
      "\t\t\t0: 0.670\t1: 0.165\tUnc: 0.165\n",
      "\n",
      "\t[0.748] R32: datovr_Mean = 5.5575\n",
      "\t\t\t0: 0.670\t1: 0.165\tUnc: 0.165\n",
      "\n",
      "\t[0.748] R15: da_Mean = 2.97\n",
      "\t\t\t0: 0.670\t1: 0.165\tUnc: 0.165\n",
      "\n",
      "\t[0.742] R241: 48.315 < avg6rev < 74.700\n",
      "\t\t\t0: 0.664\t1: 0.165\tUnc: 0.171\n",
      "\n",
      "\t[0.742] R209: 50.385 < avgrev < 70.792\n",
      "\t\t\t0: 0.664\t1: 0.165\tUnc: 0.171\n",
      "\n",
      "\t[0.741] R226: 168.800 < avg3qty < 268.831\n",
      "\t\t\t0: 0.661\t1: 0.169\tUnc: 0.169\n",
      "\n",
      "\t[0.741] R222: 486.100 < avg3mou < 775.414\n",
      "\t\t\t0: 0.661\t1: 0.169\tUnc: 0.169\n",
      "\n",
      "\t[0.732] R125: mouiwylisv_Mean < 4.461\n",
      "\t\t\t0: 0.650\t1: 0.175\tUnc: 0.176\n",
      "\n",
      "\t[0.729] R203: adjmou > 11103.238\n",
      "\t\t\t0: 0.646\t1: 0.176\tUnc: 0.178\n",
      "\n",
      "\t[0.729] R199: adjrev > 1402.120\n",
      "\t\t\t0: 0.646\t1: 0.176\tUnc: 0.178\n",
      "\n",
      "\t[0.729] R195: totrev > 1475.956\n",
      "\t\t\t0: 0.646\t1: 0.176\tUnc: 0.178\n",
      "\n",
      "\t[0.729] R191: totmou > 11136.861\n",
      "\t\t\t0: 0.646\t1: 0.176\tUnc: 0.178\n",
      "\n",
      "\t[0.729] R54: unan_vce_Mean < 6.459\n",
      "\t\t\t0: 0.646\t1: 0.176\tUnc: 0.178\n",
      "\n",
      "\t[0.718] R27: 18.031 < vceovr_Mean < 31.261\n",
      "\t\t\t0: 0.632\t1: 0.183\tUnc: 0.185\n",
      "\n",
      "\t[0.718] R23: 18.646 < ovrrev_Mean < 31.920\n",
      "\t\t\t0: 0.632\t1: 0.183\tUnc: 0.185\n",
      "\n",
      "\t[0.703] R52: blck_vce_Mean > 5.033\n",
      "\t\t\t0: 0.615\t1: 0.189\tUnc: 0.196\n",
      "\n",
      "\t[0.696] R2: 73.014 < rev_Mean < 92.214\n",
      "\t\t\t0: 0.605\t1: 0.197\tUnc: 0.199\n",
      "\n",
      "\t[0.689] R152: 176.250 < mou_opkv_Mean < 333.463\n",
      "\t\t\t0: 0.596\t1: 0.201\tUnc: 0.203\n",
      "\n",
      "\t[0.689] R123: 6.700 < iwylis_vce_Mean < 11.077\n",
      "\t\t\t0: 0.596\t1: 0.201\tUnc: 0.203\n",
      "\n",
      "\t[0.689] R103: 198.618 < mou_cvce_Mean < 321.138\n",
      "\t\t\t0: 0.596\t1: 0.201\tUnc: 0.203\n",
      "\n",
      "\t[0.689] R43: change_rev > 20.696\n",
      "\t\t\t0: 0.596\t1: 0.201\tUnc: 0.203\n",
      "\n",
      "\t[0.669] R39: change_mou > 130.586\n",
      "\t\t\t0: 0.570\t1: 0.214\tUnc: 0.216\n",
      "\n",
      "\t[0.641] R19: 57.075 < ovrmou_Mean < 99.636\n",
      "\t\t\t0: 0.536\t1: 0.231\tUnc: 0.233\n",
      "\n",
      "\t[0.619] R230: 75.700 < avg3rev < 100.376\n",
      "\t\t\t0: 0.508\t1: 0.246\tUnc: 0.246\n",
      "\n",
      "\t[0.619] R149: opk_dat_Mean = 0.666666667\n",
      "\t\t\t0: 0.508\t1: 0.246\tUnc: 0.246\n",
      "\n",
      "\t[0.619] R120: mouowylisv_Mean > 38.492\n",
      "\t\t\t0: 0.508\t1: 0.246\tUnc: 0.246\n",
      "\n",
      "\t[0.619] R116: owylis_vce_Mean > 31.339\n",
      "\t\t\t0: 0.508\t1: 0.246\tUnc: 0.246\n",
      "\n",
      "\t[0.587] R178: months > 22.127\n",
      "\t\t\t0: 0.470\t1: 0.264\tUnc: 0.266\n",
      "\n",
      "\t[0.482] R246: hnd_price = 99.98999023\n",
      "\t\t\t0: 0.346\t1: 0.327\tUnc: 0.327\n",
      "\n",
      "\t[0.482] R238: 178.800 < avg6qty < 289.420\n",
      "\t\t\t0: 0.346\t1: 0.327\tUnc: 0.327\n",
      "\n",
      "\t[0.482] R234: 537.400 < avg6mou < 860.975\n",
      "\t\t\t0: 0.346\t1: 0.327\tUnc: 0.327\n",
      "\n",
      "\t[0.482] R218: 180.933 < avgqty < 280.954\n",
      "\t\t\t0: 0.346\t1: 0.327\tUnc: 0.327\n",
      "\n",
      "\t[0.482] R214: 503.026 < avgmou < 780.173\n",
      "\t\t\t0: 0.346\t1: 0.327\tUnc: 0.327\n",
      "\n",
      "\t[0.482] R168: 97.967 < complete_Mean < 162.030\n",
      "\t\t\t0: 0.346\t1: 0.327\tUnc: 0.327\n",
      "\n",
      "\t[0.482] R164: 130.800 < attempt_Mean < 215.518\n",
      "\t\t\t0: 0.346\t1: 0.327\tUnc: 0.327\n",
      "\n",
      "\t[0.482] R157: mou_opkd_Mean = 2.55\n",
      "\t\t\t0: 0.346\t1: 0.327\tUnc: 0.327\n",
      "\n",
      "\t[0.482] R141: mou_pead_Mean = 0.326666667\n",
      "\t\t\t0: 0.346\t1: 0.327\tUnc: 0.327\n",
      "\n",
      "\t[0.482] R134: peak_dat_Mean = 0.666666667\n",
      "\t\t\t0: 0.346\t1: 0.327\tUnc: 0.327\n",
      "\n",
      "\t[0.482] R108: mou_cdat_Mean = 2.876666667\n",
      "\t\t\t0: 0.346\t1: 0.327\tUnc: 0.327\n",
      "\n",
      "\t[0.482] R92: 2.451 < cc_mou_Mean < 6.195\n",
      "\t\t\t0: 0.346\t1: 0.327\tUnc: 0.327\n",
      "\n",
      "\t[0.482] R88: 3.167 < ccrndmou_Mean < 7.472\n",
      "\t\t\t0: 0.346\t1: 0.327\tUnc: 0.327\n",
      "\n",
      "\t[0.482] R83: custcare_Mean = 1.0\n",
      "\t\t\t0: 0.346\t1: 0.327\tUnc: 0.327\n",
      "\n",
      "\t[0.482] R79: comp_dat_Mean = 1.333333333\n",
      "\t\t\t0: 0.346\t1: 0.327\tUnc: 0.327\n",
      "\n",
      "\t[0.482] R75: 97.633 < comp_vce_Mean < 161.436\n",
      "\t\t\t0: 0.346\t1: 0.327\tUnc: 0.327\n",
      "\n",
      "\t[0.482] R65: plcd_dat_Mean = 1.333333333\n",
      "\t\t\t0: 0.346\t1: 0.327\tUnc: 0.327\n",
      "\n",
      "\t[0.482] R61: 130.467 < plcd_vce_Mean < 214.918\n",
      "\t\t\t0: 0.346\t1: 0.327\tUnc: 0.327\n",
      "\n",
      "\t[0.482] R56: 24.867 < unan_vce_Mean < 43.275\n",
      "\t\t\t0: 0.346\t1: 0.327\tUnc: 0.327\n",
      "\n",
      "\t[0.482] R16: da_Mean = 6.93\n",
      "\t\t\t0: 0.346\t1: 0.327\tUnc: 0.327\n",
      "\n",
      "\t[0.482] R6: 465.275 < mou_Mean < 726.062\n",
      "\t\t\t0: 0.346\t1: 0.327\tUnc: 0.327\n",
      "\n",
      "\t[0.481] R173: callwait_Mean = 7.666666667\n",
      "\t\t\t0: 0.363\t1: 0.274\tUnc: 0.363\n",
      "\n",
      "\t[0.481] R14: da_Mean = 2.2275\n",
      "\t\t\t0: 0.363\t1: 0.274\tUnc: 0.363\n",
      "\n",
      "Most important rules for class 1\n",
      "\n",
      "\t[0.469] R246: hnd_price = 99.98999023\n",
      "\t\t\t0: 0.346\t1: 0.327\tUnc: 0.327\n",
      "\n",
      "\t[0.469] R238: 178.800 < avg6qty < 289.420\n",
      "\t\t\t0: 0.346\t1: 0.327\tUnc: 0.327\n",
      "\n",
      "\t[0.469] R234: 537.400 < avg6mou < 860.975\n",
      "\t\t\t0: 0.346\t1: 0.327\tUnc: 0.327\n",
      "\n",
      "\t[0.469] R218: 180.933 < avgqty < 280.954\n",
      "\t\t\t0: 0.346\t1: 0.327\tUnc: 0.327\n",
      "\n",
      "\t[0.469] R214: 503.026 < avgmou < 780.173\n",
      "\t\t\t0: 0.346\t1: 0.327\tUnc: 0.327\n",
      "\n",
      "\t[0.469] R168: 97.967 < complete_Mean < 162.030\n",
      "\t\t\t0: 0.346\t1: 0.327\tUnc: 0.327\n",
      "\n",
      "\t[0.469] R164: 130.800 < attempt_Mean < 215.518\n",
      "\t\t\t0: 0.346\t1: 0.327\tUnc: 0.327\n",
      "\n",
      "\t[0.469] R157: mou_opkd_Mean = 2.55\n",
      "\t\t\t0: 0.346\t1: 0.327\tUnc: 0.327\n",
      "\n",
      "\t[0.469] R141: mou_pead_Mean = 0.326666667\n",
      "\t\t\t0: 0.346\t1: 0.327\tUnc: 0.327\n",
      "\n",
      "\t[0.469] R134: peak_dat_Mean = 0.666666667\n",
      "\t\t\t0: 0.346\t1: 0.327\tUnc: 0.327\n",
      "\n",
      "\t[0.469] R108: mou_cdat_Mean = 2.876666667\n",
      "\t\t\t0: 0.346\t1: 0.327\tUnc: 0.327\n",
      "\n",
      "\t[0.469] R92: 2.451 < cc_mou_Mean < 6.195\n",
      "\t\t\t0: 0.346\t1: 0.327\tUnc: 0.327\n",
      "\n",
      "\t[0.469] R88: 3.167 < ccrndmou_Mean < 7.472\n",
      "\t\t\t0: 0.346\t1: 0.327\tUnc: 0.327\n",
      "\n",
      "\t[0.469] R83: custcare_Mean = 1.0\n",
      "\t\t\t0: 0.346\t1: 0.327\tUnc: 0.327\n",
      "\n",
      "\t[0.469] R79: comp_dat_Mean = 1.333333333\n",
      "\t\t\t0: 0.346\t1: 0.327\tUnc: 0.327\n",
      "\n",
      "\t[0.469] R75: 97.633 < comp_vce_Mean < 161.436\n",
      "\t\t\t0: 0.346\t1: 0.327\tUnc: 0.327\n",
      "\n",
      "\t[0.469] R65: plcd_dat_Mean = 1.333333333\n",
      "\t\t\t0: 0.346\t1: 0.327\tUnc: 0.327\n",
      "\n",
      "\t[0.469] R61: 130.467 < plcd_vce_Mean < 214.918\n",
      "\t\t\t0: 0.346\t1: 0.327\tUnc: 0.327\n",
      "\n",
      "\t[0.469] R56: 24.867 < unan_vce_Mean < 43.275\n",
      "\t\t\t0: 0.346\t1: 0.327\tUnc: 0.327\n",
      "\n",
      "\t[0.469] R16: da_Mean = 6.93\n",
      "\t\t\t0: 0.346\t1: 0.327\tUnc: 0.327\n",
      "\n",
      "\t[0.469] R6: 465.275 < mou_Mean < 726.062\n",
      "\t\t\t0: 0.346\t1: 0.327\tUnc: 0.327\n",
      "\n",
      "\t[0.440] R178: months > 22.127\n",
      "\t\t\t0: 0.470\t1: 0.264\tUnc: 0.266\n",
      "\n",
      "\t[0.431] R230: 75.700 < avg3rev < 100.376\n",
      "\t\t\t0: 0.508\t1: 0.246\tUnc: 0.246\n",
      "\n",
      "\t[0.431] R149: opk_dat_Mean = 0.666666667\n",
      "\t\t\t0: 0.508\t1: 0.246\tUnc: 0.246\n",
      "\n",
      "\t[0.431] R120: mouowylisv_Mean > 38.492\n",
      "\t\t\t0: 0.508\t1: 0.246\tUnc: 0.246\n",
      "\n",
      "\t[0.431] R116: owylis_vce_Mean > 31.339\n",
      "\t\t\t0: 0.508\t1: 0.246\tUnc: 0.246\n",
      "\n",
      "\t[0.421] R19: 57.075 < ovrmou_Mean < 99.636\n",
      "\t\t\t0: 0.536\t1: 0.231\tUnc: 0.233\n",
      "\n",
      "\t[0.417] R173: callwait_Mean = 7.666666667\n",
      "\t\t\t0: 0.363\t1: 0.274\tUnc: 0.363\n",
      "\n",
      "\t[0.417] R14: da_Mean = 2.2275\n",
      "\t\t\t0: 0.363\t1: 0.274\tUnc: 0.363\n",
      "\n",
      "\t[0.409] R39: change_mou > 130.586\n",
      "\t\t\t0: 0.570\t1: 0.214\tUnc: 0.216\n",
      "\n",
      "\t[0.400] R152: 176.250 < mou_opkv_Mean < 333.463\n",
      "\t\t\t0: 0.596\t1: 0.201\tUnc: 0.203\n",
      "\n",
      "\t[0.400] R123: 6.700 < iwylis_vce_Mean < 11.077\n",
      "\t\t\t0: 0.596\t1: 0.201\tUnc: 0.203\n",
      "\n",
      "\t[0.400] R103: 198.618 < mou_cvce_Mean < 321.138\n",
      "\t\t\t0: 0.596\t1: 0.201\tUnc: 0.203\n",
      "\n",
      "\t[0.400] R43: change_rev > 20.696\n",
      "\t\t\t0: 0.596\t1: 0.201\tUnc: 0.203\n",
      "\n",
      "\t[0.397] R2: 73.014 < rev_Mean < 92.214\n",
      "\t\t\t0: 0.605\t1: 0.197\tUnc: 0.199\n",
      "\n",
      "\t[0.390] R52: blck_vce_Mean > 5.033\n",
      "\t\t\t0: 0.615\t1: 0.189\tUnc: 0.196\n",
      "\n",
      "\t[0.386] R27: 18.031 < vceovr_Mean < 31.261\n",
      "\t\t\t0: 0.632\t1: 0.183\tUnc: 0.185\n",
      "\n",
      "\t[0.386] R23: 18.646 < ovrrev_Mean < 31.920\n",
      "\t\t\t0: 0.632\t1: 0.183\tUnc: 0.185\n",
      "\n",
      "\t[0.380] R54: unan_vce_Mean < 6.459\n",
      "\t\t\t0: 0.646\t1: 0.176\tUnc: 0.178\n",
      "\n",
      "\t[0.380] R203: adjmou > 11103.238\n",
      "\t\t\t0: 0.646\t1: 0.176\tUnc: 0.178\n",
      "\n",
      "\t[0.380] R199: adjrev > 1402.120\n",
      "\t\t\t0: 0.646\t1: 0.176\tUnc: 0.178\n",
      "\n",
      "\t[0.380] R195: totrev > 1475.956\n",
      "\t\t\t0: 0.646\t1: 0.176\tUnc: 0.178\n",
      "\n",
      "\t[0.380] R191: totmou > 11136.861\n",
      "\t\t\t0: 0.646\t1: 0.176\tUnc: 0.178\n",
      "\n",
      "\t[0.380] R125: mouiwylisv_Mean < 4.461\n",
      "\t\t\t0: 0.650\t1: 0.175\tUnc: 0.176\n",
      "\n",
      "\t[0.375] R226: 168.800 < avg3qty < 268.831\n",
      "\t\t\t0: 0.661\t1: 0.169\tUnc: 0.169\n",
      "\n",
      "\t[0.375] R222: 486.100 < avg3mou < 775.414\n",
      "\t\t\t0: 0.661\t1: 0.169\tUnc: 0.169\n",
      "\n",
      "\t[0.371] R261: 190.011 < eqpdays < 356.400\n",
      "\t\t\t0: 0.670\t1: 0.165\tUnc: 0.165\n",
      "\n",
      "\t[0.371] R258: rv = 1.0\n",
      "\t\t\t0: 0.670\t1: 0.165\tUnc: 0.165\n",
      "\n",
      "\t[0.371] R206: 2645.200 < adjqty < 3907.478\n",
      "\t\t\t0: 0.670\t1: 0.165\tUnc: 0.165\n",
      "\n",
      "\t[0.371] R202: 7491.200 < adjmou < 11103.238\n",
      "\t\t\t0: 0.670\t1: 0.165\tUnc: 0.165\n",
      "\n",
      "\t[0.371] R190: 7536.900 < totmou < 11136.861\n",
      "\t\t\t0: 0.670\t1: 0.165\tUnc: 0.165\n",
      "\n",
      "\t[0.371] R186: 2659.400 < totcalls < 3915.356\n",
      "\t\t\t0: 0.670\t1: 0.165\tUnc: 0.165\n",
      "\n",
      "\t[0.371] R174: callwait_Mean = 15.66666667\n",
      "\t\t\t0: 0.670\t1: 0.165\tUnc: 0.165\n",
      "\n",
      "\t[0.371] R160: 11.267 < drop_blk_Mean < 19.167\n",
      "\t\t\t0: 0.670\t1: 0.165\tUnc: 0.165\n",
      "\n",
      "\t[0.371] R156: mou_opkd_Mean = 0.766666667\n",
      "\t\t\t0: 0.670\t1: 0.165\tUnc: 0.165\n",
      "\n",
      "\t[0.371] R142: mou_pead_Mean = 1.683333333\n",
      "\t\t\t0: 0.670\t1: 0.165\tUnc: 0.165\n",
      "\n",
      "\t[0.371] R135: peak_dat_Mean = 1.0\n",
      "\t\t\t0: 0.670\t1: 0.165\tUnc: 0.165\n",
      "\n",
      "\t[0.371] R107: mou_cdat_Mean = 2.45\n",
      "\t\t\t0: 0.670\t1: 0.165\tUnc: 0.165\n",
      "\n",
      "\t[0.371] R100: threeway_Mean = 1.0\n",
      "\t\t\t0: 0.670\t1: 0.165\tUnc: 0.165\n",
      "\n",
      "\t[0.371] R93: cc_mou_Mean > 6.195\n",
      "\t\t\t0: 0.670\t1: 0.165\tUnc: 0.165\n",
      "\n",
      "\t[0.371] R89: ccrndmou_Mean > 7.472\n",
      "\t\t\t0: 0.670\t1: 0.165\tUnc: 0.165\n",
      "\n",
      "\t[0.371] R85: custcare_Mean = 8.666666667\n",
      "\t\t\t0: 0.670\t1: 0.165\tUnc: 0.165\n",
      "\n",
      "\t[0.371] R80: comp_dat_Mean = 1.666666667\n",
      "\t\t\t0: 0.670\t1: 0.165\tUnc: 0.165\n",
      "\n",
      "\t[0.371] R66: plcd_dat_Mean = 1.666666667\n",
      "\t\t\t0: 0.670\t1: 0.165\tUnc: 0.165\n",
      "\n",
      "\t[0.371] R51: 2.667 < blck_vce_Mean < 5.033\n",
      "\t\t\t0: 0.670\t1: 0.165\tUnc: 0.165\n",
      "\n",
      "\t[0.371] R46: 8.600 < drop_vce_Mean < 14.834\n",
      "\t\t\t0: 0.670\t1: 0.165\tUnc: 0.165\n",
      "\n",
      "\t[0.371] R41: -36.363 < change_rev < -7.834\n",
      "\t\t\t0: 0.670\t1: 0.165\tUnc: 0.165\n",
      "\n",
      "\t[0.371] R32: datovr_Mean = 5.5575\n",
      "\t\t\t0: 0.670\t1: 0.165\tUnc: 0.165\n",
      "\n",
      "\t[0.371] R15: da_Mean = 2.97\n",
      "\t\t\t0: 0.670\t1: 0.165\tUnc: 0.165\n",
      "\n",
      "\t[0.370] R139: mou_peav_Mean > 270.648\n",
      "\t\t\t0: 0.672\t1: 0.164\tUnc: 0.164\n",
      "\n",
      "\t[0.370] R132: peak_vce_Mean > 145.144\n",
      "\t\t\t0: 0.672\t1: 0.164\tUnc: 0.164\n",
      "\n",
      "\t[0.370] R104: mou_cvce_Mean > 321.138\n",
      "\t\t\t0: 0.672\t1: 0.164\tUnc: 0.164\n",
      "\n",
      "\t[0.370] R207: adjqty > 3907.478\n",
      "\t\t\t0: 0.673\t1: 0.164\tUnc: 0.164\n",
      "\n",
      "\t[0.370] R187: totcalls > 3915.356\n",
      "\t\t\t0: 0.673\t1: 0.164\tUnc: 0.164\n",
      "\n",
      "\t[0.370] R241: 48.315 < avg6rev < 74.700\n",
      "\t\t\t0: 0.664\t1: 0.165\tUnc: 0.171\n",
      "\n",
      "\t[0.370] R209: 50.385 < avgrev < 70.792\n",
      "\t\t\t0: 0.664\t1: 0.165\tUnc: 0.171\n",
      "\n",
      "\t[0.366] R128: mouiwylisv_Mean > 26.380\n",
      "\t\t\t0: 0.679\t1: 0.160\tUnc: 0.162\n",
      "\n",
      "\t[0.364] R114: 10.395 < owylis_vce_Mean < 20.867\n",
      "\t\t\t0: 0.683\t1: 0.157\tUnc: 0.159\n",
      "\n",
      "\t[0.358] R45: 2.366 < drop_vce_Mean < 8.600\n",
      "\t\t\t0: 0.698\t1: 0.151\tUnc: 0.151\n",
      "\n",
      "\t[0.355] R251: phones = 2.0\n",
      "\t\t\t0: 0.704\t1: 0.148\tUnc: 0.148\n",
      "\n",
      "\t[0.354] R49: blck_vce_Mean < 0.300\n",
      "\t\t\t0: 0.703\t1: 0.148\tUnc: 0.150\n",
      "\n",
      "\t[0.354] R11: totmrc_Mean > 67.823\n",
      "\t\t\t0: 0.707\t1: 0.147\tUnc: 0.147\n",
      "\n",
      "\t[0.346] R216: avgqty < 80.912\n",
      "\t\t\t0: 0.718\t1: 0.140\tUnc: 0.142\n",
      "\n",
      "\t[0.346] R124: iwylis_vce_Mean > 11.077\n",
      "\t\t\t0: 0.722\t1: 0.139\tUnc: 0.139\n",
      "\n",
      "\t[0.341] R182: actvsubs = 1.0\n",
      "\t\t\t0: 0.730\t1: 0.135\tUnc: 0.135\n",
      "\n",
      "\t[0.341] R179: uniqsubs = 1.0\n",
      "\t\t\t0: 0.730\t1: 0.135\tUnc: 0.135\n",
      "\n",
      "\t[0.340] R9: 44.918 < totmrc_Mean < 56.371\n",
      "\t\t\t0: 0.725\t1: 0.135\tUnc: 0.141\n",
      "\n",
      "\t[0.339] R171: callwait_Mean = 0.0\n",
      "\t\t\t0: 0.725\t1: 0.134\tUnc: 0.141\n",
      "\n",
      "\t[0.339] R244: hnd_price = 29.98999023\n",
      "\t\t\t0: 0.735\t1: 0.132\tUnc: 0.132\n",
      "\n",
      "\t[0.339] R110: 27.128 < mou_rvce_Mean < 149.842\n",
      "\t\t\t0: 0.727\t1: 0.133\tUnc: 0.139\n",
      "\n",
      "\t[0.337] R33: roam_Mean = 0.0\n",
      "\t\t\t0: 0.729\t1: 0.132\tUnc: 0.139\n",
      "\n",
      "\t[0.336] R175: months < 15.273\n",
      "\t\t\t0: 0.741\t1: 0.130\tUnc: 0.130\n",
      "\n",
      "\t[0.336] R42: -7.834 < change_rev < 20.696\n",
      "\t\t\t0: 0.732\t1: 0.131\tUnc: 0.137\n",
      "\n",
      "\t[0.334] R121: iwylis_vce_Mean < 2.323\n",
      "\t\t\t0: 0.743\t1: 0.128\tUnc: 0.129\n",
      "\n",
      "\t[0.334] R29: datovr_Mean = 0.0\n",
      "\t\t\t0: 0.741\t1: 0.128\tUnc: 0.130\n",
      "\n",
      "\t[0.331] R161: drop_blk_Mean > 19.167\n",
      "\t\t\t0: 0.742\t1: 0.126\tUnc: 0.132\n",
      "\n",
      "\t[0.331] R47: drop_vce_Mean > 14.834\n",
      "\t\t\t0: 0.742\t1: 0.126\tUnc: 0.132\n",
      "\n",
      "\t[0.329] R229: 51.024 < avg3rev < 75.700\n",
      "\t\t\t0: 0.745\t1: 0.124\tUnc: 0.131\n",
      "\n",
      "\t[0.329] R144: 3.499 < opk_vce_Mean < 65.300\n",
      "\t\t\t0: 0.744\t1: 0.125\tUnc: 0.131\n",
      "\n",
      "\t[0.329] R95: -5.349 < inonemin_Mean < 44.500\n",
      "\t\t\t0: 0.744\t1: 0.125\tUnc: 0.131\n",
      "\n",
      "\t[0.329] R68: 1.319 < recv_vce_Mean < 74.400\n",
      "\t\t\t0: 0.744\t1: 0.125\tUnc: 0.131\n",
      "\n",
      "\t[0.328] R136: mou_peav_Mean < 73.772\n",
      "\t\t\t0: 0.752\t1: 0.123\tUnc: 0.125\n",
      "\n",
      "\t[0.328] R71: recv_sms_Mean = 0.0\n",
      "\t\t\t0: 0.746\t1: 0.124\tUnc: 0.130\n",
      "\n",
      "\t[0.328] R262: 356.400 < eqpdays < 522.789\n",
      "\t\t\t0: 0.755\t1: 0.123\tUnc: 0.123\n",
      "\n",
      "\t[0.327] R255: truck = 0.0\n",
      "\t\t\t0: 0.747\t1: 0.123\tUnc: 0.130\n",
      "\n",
      "\t[0.327] R98: threeway_Mean = 0.0\n",
      "\t\t\t0: 0.747\t1: 0.123\tUnc: 0.130\n",
      "\n",
      "\t[0.326] R225: 68.769 < avg3qty < 168.800\n",
      "\t\t\t0: 0.750\t1: 0.122\tUnc: 0.128\n",
      "\n",
      "\t[0.326] R221: 196.786 < avg3mou < 486.100\n",
      "\t\t\t0: 0.750\t1: 0.122\tUnc: 0.128\n",
      "\n",
      "\t[0.326] R167: 33.903 < complete_Mean < 97.967\n",
      "\t\t\t0: 0.750\t1: 0.122\tUnc: 0.128\n",
      "\n",
      "\t[0.326] R163: 46.082 < attempt_Mean < 130.800\n",
      "\t\t\t0: 0.750\t1: 0.122\tUnc: 0.128\n",
      "\n",
      "\t[0.326] R74: 33.831 < comp_vce_Mean < 97.633\n",
      "\t\t\t0: 0.750\t1: 0.122\tUnc: 0.128\n",
      "\n",
      "\t[0.326] R60: 46.015 < plcd_vce_Mean < 130.467\n",
      "\t\t\t0: 0.750\t1: 0.122\tUnc: 0.128\n",
      "\n",
      "\t[0.326] R254: models = 2.0\n",
      "\t\t\t0: 0.759\t1: 0.121\tUnc: 0.121\n",
      "\n",
      "\t[0.325] R204: adjqty < 1382.922\n",
      "\t\t\t0: 0.761\t1: 0.120\tUnc: 0.120\n",
      "\n",
      "\t[0.325] R200: adjmou < 3879.162\n",
      "\t\t\t0: 0.761\t1: 0.120\tUnc: 0.120\n",
      "\n",
      "\t[0.325] R188: totmou < 3936.939\n",
      "\t\t\t0: 0.761\t1: 0.120\tUnc: 0.120\n",
      "\n",
      "\t[0.325] R184: totcalls < 1403.444\n",
      "\t\t\t0: 0.761\t1: 0.120\tUnc: 0.120\n",
      "\n",
      "\t[0.323] R151: 19.037 < mou_opkv_Mean < 176.250\n",
      "\t\t\t0: 0.755\t1: 0.120\tUnc: 0.126\n",
      "\n",
      "\t[0.322] R82: custcare_Mean = 0.666666667\n",
      "\t\t\t0: 0.765\t1: 0.118\tUnc: 0.118\n",
      "\n",
      "\t[0.319] R259: forgntvl = 0.0\n",
      "\t\t\t0: 0.761\t1: 0.116\tUnc: 0.123\n",
      "\n",
      "\t[0.319] R170: callfwdv_Mean = 0.0\n",
      "\t\t\t0: 0.761\t1: 0.116\tUnc: 0.123\n",
      "\n",
      "\t[0.319] R58: unan_dat_Mean = 0.0\n",
      "\t\t\t0: 0.761\t1: 0.116\tUnc: 0.123\n",
      "\n",
      "\t[0.319] R53: blck_dat_Mean = 0.0\n",
      "\t\t\t0: 0.761\t1: 0.116\tUnc: 0.123\n",
      "\n",
      "\t[0.319] R48: drop_dat_Mean = 0.0\n",
      "\t\t\t0: 0.761\t1: 0.116\tUnc: 0.123\n",
      "\n",
      "\t[0.318] R180: uniqsubs = 2.0\n",
      "\t\t\t0: 0.769\t1: 0.114\tUnc: 0.116\n",
      "\n",
      "\t[0.317] R159: 3.366 < drop_blk_Mean < 11.267\n",
      "\t\t\t0: 0.773\t1: 0.114\tUnc: 0.114\n",
      "\n",
      "\t[0.317] R138: 172.210 < mou_peav_Mean < 270.648\n",
      "\t\t\t0: 0.773\t1: 0.114\tUnc: 0.114\n",
      "\n",
      "\t[0.317] R260: eqpdays < 190.011\n",
      "\t\t\t0: 0.774\t1: 0.113\tUnc: 0.113\n",
      "\n",
      "\t[0.317] R28: vceovr_Mean > 31.261\n",
      "\t\t\t0: 0.774\t1: 0.113\tUnc: 0.113\n",
      "\n",
      "\t[0.317] R24: ovrrev_Mean > 31.920\n",
      "\t\t\t0: 0.774\t1: 0.113\tUnc: 0.113\n",
      "\n",
      "\t[0.314] R253: models = 1.0\n",
      "\t\t\t0: 0.770\t1: 0.112\tUnc: 0.118\n",
      "\n",
      "\t[0.314] R250: phones = 1.0\n",
      "\t\t\t0: 0.770\t1: 0.112\tUnc: 0.118\n",
      "\n",
      "\t[0.313] R257: rv = 0.0\n",
      "\t\t\t0: 0.772\t1: 0.111\tUnc: 0.117\n",
      "\n",
      "\t[0.312] R172: callwait_Mean = 0.333333333\n",
      "\t\t\t0: 0.782\t1: 0.109\tUnc: 0.109\n",
      "\n",
      "\t[0.311] R233: 213.825 < avg6mou < 537.400\n",
      "\t\t\t0: 0.781\t1: 0.109\tUnc: 0.111\n",
      "\n",
      "\t[0.310] R247: hnd_price = 129.9899902\n",
      "\t\t\t0: 0.784\t1: 0.108\tUnc: 0.108\n",
      "\n",
      "\t[0.309] R245: hnd_price = 59.98999023\n",
      "\t\t\t0: 0.787\t1: 0.107\tUnc: 0.107\n",
      "\n",
      "\t[0.306] R212: avgmou < 225.879\n",
      "\t\t\t0: 0.783\t1: 0.105\tUnc: 0.111\n",
      "\n",
      "\t[0.305] R196: adjrev < 751.288\n",
      "\t\t\t0: 0.792\t1: 0.104\tUnc: 0.104\n",
      "\n",
      "\t[0.305] R192: totrev < 811.184\n",
      "\t\t\t0: 0.792\t1: 0.104\tUnc: 0.104\n",
      "\n",
      "\t[0.305] R0: rev_Mean < 53.814\n",
      "\t\t\t0: 0.792\t1: 0.104\tUnc: 0.104\n",
      "\n",
      "\t[0.304] R183: actvsubs = 2.0\n",
      "\t\t\t0: 0.786\t1: 0.104\tUnc: 0.110\n",
      "\n",
      "\t[0.304] R12: da_Mean = 0.0\n",
      "\t\t\t0: 0.793\t1: 0.103\tUnc: 0.104\n",
      "\n",
      "\t[0.303] R129: peak_vce_Mean < 34.456\n",
      "\t\t\t0: 0.794\t1: 0.103\tUnc: 0.104\n",
      "\n",
      "\t[0.301] R158: drop_blk_Mean < 3.366\n",
      "\t\t\t0: 0.797\t1: 0.101\tUnc: 0.102\n",
      "\n",
      "\t[0.298] R263: eqpdays > 522.789\n",
      "\t\t\t0: 0.794\t1: 0.100\tUnc: 0.106\n",
      "\n",
      "\t[0.298] R150: mou_opkv_Mean < 19.037\n",
      "\t\t\t0: 0.802\t1: 0.099\tUnc: 0.099\n",
      "\n",
      "\t[0.298] R109: mou_rvce_Mean < 27.128\n",
      "\t\t\t0: 0.802\t1: 0.099\tUnc: 0.099\n",
      "\n",
      "\t[0.296] R236: avg6qty < 68.180\n",
      "\t\t\t0: 0.805\t1: 0.097\tUnc: 0.098\n",
      "\n",
      "\t[0.296] R224: avg3qty < 68.769\n",
      "\t\t\t0: 0.805\t1: 0.097\tUnc: 0.098\n",
      "\n",
      "\t[0.296] R220: avg3mou < 196.786\n",
      "\t\t\t0: 0.805\t1: 0.097\tUnc: 0.098\n",
      "\n",
      "\t[0.296] R117: mouowylisv_Mean < 11.357\n",
      "\t\t\t0: 0.805\t1: 0.097\tUnc: 0.098\n",
      "\n",
      "\t[0.296] R113: owylis_vce_Mean < 10.395\n",
      "\t\t\t0: 0.805\t1: 0.097\tUnc: 0.098\n",
      "\n",
      "\t[0.296] R38: -62.175 < change_mou < 130.586\n",
      "\t\t\t0: 0.805\t1: 0.097\tUnc: 0.098\n",
      "\n",
      "\t[0.296] R4: mou_Mean < 204.488\n",
      "\t\t\t0: 0.805\t1: 0.097\tUnc: 0.098\n",
      "\n",
      "\t[0.292] R155: mou_opkd_Mean = 0.206666667\n",
      "\t\t\t0: 0.811\t1: 0.094\tUnc: 0.094\n",
      "\n",
      "\t[0.292] R148: opk_dat_Mean = 0.333333333\n",
      "\t\t\t0: 0.811\t1: 0.094\tUnc: 0.094\n",
      "\n",
      "\t[0.292] R106: mou_cdat_Mean = 0.206666667\n",
      "\t\t\t0: 0.811\t1: 0.094\tUnc: 0.094\n",
      "\n",
      "\t[0.292] R84: custcare_Mean = 2.0\n",
      "\t\t\t0: 0.811\t1: 0.094\tUnc: 0.094\n",
      "\n",
      "\t[0.292] R78: comp_dat_Mean = 0.333333333\n",
      "\t\t\t0: 0.811\t1: 0.094\tUnc: 0.094\n",
      "\n",
      "\t[0.292] R64: plcd_dat_Mean = 0.333333333\n",
      "\t\t\t0: 0.811\t1: 0.094\tUnc: 0.094\n",
      "\n",
      "\t[0.292] R34: roam_Mean = 0.1725\n",
      "\t\t\t0: 0.811\t1: 0.094\tUnc: 0.094\n",
      "\n",
      "\t[0.291] R237: 68.180 < avg6qty < 178.800\n",
      "\t\t\t0: 0.805\t1: 0.094\tUnc: 0.101\n",
      "\n",
      "\t[0.291] R5: 204.488 < mou_Mean < 465.275\n",
      "\t\t\t0: 0.805\t1: 0.094\tUnc: 0.101\n",
      "\n",
      "\t[0.291] R44: drop_vce_Mean < 2.366\n",
      "\t\t\t0: 0.812\t1: 0.093\tUnc: 0.095\n",
      "\n",
      "\t[0.287] R118: 11.357 < mouowylisv_Mean < 24.925\n",
      "\t\t\t0: 0.811\t1: 0.092\tUnc: 0.098\n",
      "\n",
      "\t[0.287] R25: vceovr_Mean < 4.802\n",
      "\t\t\t0: 0.811\t1: 0.091\tUnc: 0.098\n",
      "\n",
      "\t[0.287] R21: ovrrev_Mean < 5.371\n",
      "\t\t\t0: 0.811\t1: 0.091\tUnc: 0.098\n",
      "\n",
      "\t[0.287] R17: ovrmou_Mean < 14.514\n",
      "\t\t\t0: 0.811\t1: 0.091\tUnc: 0.098\n",
      "\n",
      "\t[0.287] R197: 751.288 < adjrev < 1076.704\n",
      "\t\t\t0: 0.819\t1: 0.090\tUnc: 0.090\n",
      "\n",
      "\t[0.287] R193: 811.184 < totrev < 1143.570\n",
      "\t\t\t0: 0.819\t1: 0.090\tUnc: 0.090\n",
      "\n",
      "\t[0.286] R177: 18.700 < months < 22.127\n",
      "\t\t\t0: 0.812\t1: 0.090\tUnc: 0.097\n",
      "\n",
      "\t[0.284] R256: truck = 1.0\n",
      "\t\t\t0: 0.823\t1: 0.088\tUnc: 0.088\n",
      "\n",
      "\t[0.284] R213: 225.879 < avgmou < 503.026\n",
      "\t\t\t0: 0.822\t1: 0.088\tUnc: 0.090\n",
      "\n",
      "\t[0.280] R130: 34.456 < peak_vce_Mean < 89.800\n",
      "\t\t\t0: 0.821\t1: 0.086\tUnc: 0.092\n",
      "\n",
      "\t[0.279] R232: avg6mou < 213.825\n",
      "\t\t\t0: 0.822\t1: 0.086\tUnc: 0.092\n",
      "\n",
      "\t[0.276] R140: mou_pead_Mean = 0.0\n",
      "\t\t\t0: 0.826\t1: 0.084\tUnc: 0.090\n",
      "\n",
      "\t[0.276] R133: peak_dat_Mean = 0.0\n",
      "\t\t\t0: 0.826\t1: 0.084\tUnc: 0.090\n",
      "\n",
      "\t[0.276] R91: -1.294 < cc_mou_Mean < 2.451\n",
      "\t\t\t0: 0.826\t1: 0.084\tUnc: 0.090\n",
      "\n",
      "\t[0.276] R87: -1.138 < ccrndmou_Mean < 3.167\n",
      "\t\t\t0: 0.826\t1: 0.084\tUnc: 0.090\n",
      "\n",
      "\t[0.275] R243: avg6rev > 101.085\n",
      "\t\t\t0: 0.835\t1: 0.082\tUnc: 0.082\n",
      "\n",
      "\t[0.275] R239: avg6qty > 289.420\n",
      "\t\t\t0: 0.835\t1: 0.082\tUnc: 0.082\n",
      "\n",
      "\t[0.275] R235: avg6mou > 860.975\n",
      "\t\t\t0: 0.835\t1: 0.082\tUnc: 0.082\n",
      "\n",
      "\t[0.275] R227: avg3qty > 268.831\n",
      "\t\t\t0: 0.835\t1: 0.082\tUnc: 0.082\n",
      "\n",
      "\t[0.275] R223: avg3mou > 775.414\n",
      "\t\t\t0: 0.835\t1: 0.082\tUnc: 0.082\n",
      "\n",
      "\t[0.275] R219: avgqty > 280.954\n",
      "\t\t\t0: 0.835\t1: 0.082\tUnc: 0.082\n",
      "\n",
      "\t[0.275] R215: avgmou > 780.173\n",
      "\t\t\t0: 0.835\t1: 0.082\tUnc: 0.082\n",
      "\n",
      "\t[0.275] R211: avgrev > 91.199\n",
      "\t\t\t0: 0.835\t1: 0.082\tUnc: 0.082\n",
      "\n",
      "\t[0.275] R169: complete_Mean > 162.030\n",
      "\t\t\t0: 0.835\t1: 0.082\tUnc: 0.082\n",
      "\n",
      "\t[0.275] R165: attempt_Mean > 215.518\n",
      "\t\t\t0: 0.835\t1: 0.082\tUnc: 0.082\n",
      "\n",
      "\t[0.275] R153: mou_opkv_Mean > 333.463\n",
      "\t\t\t0: 0.835\t1: 0.082\tUnc: 0.082\n",
      "\n",
      "\t[0.275] R146: opk_vce_Mean > 127.101\n",
      "\t\t\t0: 0.835\t1: 0.082\tUnc: 0.082\n",
      "\n",
      "\t[0.275] R112: mou_rvce_Mean > 272.555\n",
      "\t\t\t0: 0.835\t1: 0.082\tUnc: 0.082\n",
      "\n",
      "\t[0.275] R97: inonemin_Mean > 94.349\n",
      "\t\t\t0: 0.835\t1: 0.082\tUnc: 0.082\n",
      "\n",
      "\t[0.275] R76: comp_vce_Mean > 161.436\n",
      "\t\t\t0: 0.835\t1: 0.082\tUnc: 0.082\n",
      "\n",
      "\t[0.275] R70: recv_vce_Mean > 147.481\n",
      "\t\t\t0: 0.835\t1: 0.082\tUnc: 0.082\n",
      "\n",
      "\t[0.275] R62: plcd_vce_Mean > 214.918\n",
      "\t\t\t0: 0.835\t1: 0.082\tUnc: 0.082\n",
      "\n",
      "\t[0.275] R57: unan_vce_Mean > 43.275\n",
      "\t\t\t0: 0.835\t1: 0.082\tUnc: 0.082\n",
      "\n",
      "\t[0.275] R7: mou_Mean > 726.062\n",
      "\t\t\t0: 0.835\t1: 0.082\tUnc: 0.082\n",
      "\n",
      "\t[0.274] R102: 76.099 < mou_cvce_Mean < 198.618\n",
      "\t\t\t0: 0.829\t1: 0.082\tUnc: 0.088\n",
      "\n",
      "\t[0.274] R154: mou_opkd_Mean = 0.0\n",
      "\t\t\t0: 0.829\t1: 0.082\tUnc: 0.089\n",
      "\n",
      "\t[0.274] R147: opk_dat_Mean = 0.0\n",
      "\t\t\t0: 0.829\t1: 0.082\tUnc: 0.089\n",
      "\n",
      "\t[0.274] R105: mou_cdat_Mean = 0.0\n",
      "\t\t\t0: 0.829\t1: 0.082\tUnc: 0.089\n",
      "\n",
      "\t[0.274] R77: comp_dat_Mean = 0.0\n",
      "\t\t\t0: 0.829\t1: 0.082\tUnc: 0.089\n",
      "\n",
      "\t[0.274] R63: plcd_dat_Mean = 0.0\n",
      "\t\t\t0: 0.829\t1: 0.082\tUnc: 0.089\n",
      "\n",
      "\t[0.271] R240: avg6rev < 48.315\n",
      "\t\t\t0: 0.840\t1: 0.080\tUnc: 0.081\n",
      "\n",
      "\t[0.271] R228: avg3rev < 51.024\n",
      "\t\t\t0: 0.840\t1: 0.080\tUnc: 0.081\n",
      "\n",
      "\t[0.271] R208: avgrev < 50.385\n",
      "\t\t\t0: 0.840\t1: 0.080\tUnc: 0.081\n",
      "\n",
      "\t[0.267] R205: 1382.922 < adjqty < 2645.200\n",
      "\t\t\t0: 0.838\t1: 0.078\tUnc: 0.084\n",
      "\n",
      "\t[0.267] R185: 1403.444 < totcalls < 2659.400\n",
      "\t\t\t0: 0.838\t1: 0.078\tUnc: 0.084\n",
      "\n",
      "\t[0.265] R166: complete_Mean < 33.903\n",
      "\t\t\t0: 0.848\t1: 0.076\tUnc: 0.077\n",
      "\n",
      "\t[0.265] R162: attempt_Mean < 46.082\n",
      "\t\t\t0: 0.848\t1: 0.076\tUnc: 0.077\n",
      "\n",
      "\t[0.265] R101: mou_cvce_Mean < 76.099\n",
      "\t\t\t0: 0.848\t1: 0.076\tUnc: 0.077\n",
      "\n",
      "\t[0.265] R73: comp_vce_Mean < 33.831\n",
      "\t\t\t0: 0.848\t1: 0.076\tUnc: 0.077\n",
      "\n",
      "\t[0.265] R59: plcd_vce_Mean < 46.015\n",
      "\t\t\t0: 0.848\t1: 0.076\tUnc: 0.077\n",
      "\n",
      "\t[0.261] R122: 2.323 < iwylis_vce_Mean < 6.700\n",
      "\t\t\t0: 0.846\t1: 0.074\tUnc: 0.080\n",
      "\n",
      "\t[0.246] R50: 0.300 < blck_vce_Mean < 2.667\n",
      "\t\t\t0: 0.870\t1: 0.065\tUnc: 0.065\n",
      "\n",
      "\t[0.243] R55: 6.459 < unan_vce_Mean < 24.867\n",
      "\t\t\t0: 0.867\t1: 0.063\tUnc: 0.070\n",
      "\n",
      "\t[0.235] R36: change_mou < -254.936\n",
      "\t\t\t0: 0.882\t1: 0.059\tUnc: 0.059\n",
      "\n",
      "\t[0.232] R8: totmrc_Mean < 44.918\n",
      "\t\t\t0: 0.885\t1: 0.057\tUnc: 0.058\n",
      "\n",
      "\t[0.228] R81: custcare_Mean = 0.0\n",
      "\t\t\t0: 0.882\t1: 0.056\tUnc: 0.062\n",
      "\n",
      "\t[0.220] R30: datovr_Mean = 0.0975\n",
      "\t\t\t0: 0.898\t1: 0.051\tUnc: 0.051\n",
      "\n",
      "\t[0.220] R13: da_Mean = 0.2475\n",
      "\t\t\t0: 0.898\t1: 0.051\tUnc: 0.051\n",
      "\n",
      "\t[0.220] R198: 1076.704 < adjrev < 1402.120\n",
      "\t\t\t0: 0.892\t1: 0.051\tUnc: 0.057\n",
      "\n",
      "\t[0.220] R194: 1143.570 < totrev < 1475.956\n",
      "\t\t\t0: 0.892\t1: 0.051\tUnc: 0.057\n",
      "\n",
      "\t[0.220] R181: uniqsubs = 3.0\n",
      "\t\t\t0: 0.892\t1: 0.051\tUnc: 0.057\n",
      "\n",
      "\t[0.220] R37: -254.936 < change_mou < -62.175\n",
      "\t\t\t0: 0.892\t1: 0.051\tUnc: 0.057\n",
      "\n",
      "\t[0.220] R1: 53.814 < rev_Mean < 73.014\n",
      "\t\t\t0: 0.892\t1: 0.051\tUnc: 0.057\n",
      "\n",
      "\t[0.212] R249: hnd_price = 199.9899902\n",
      "\t\t\t0: 0.906\t1: 0.047\tUnc: 0.047\n",
      "\n",
      "\t[0.210] R248: hnd_price = 149.9899902\n",
      "\t\t\t0: 0.908\t1: 0.046\tUnc: 0.046\n",
      "\n",
      "\t[0.210] R31: datovr_Mean = 0.4875\n",
      "\t\t\t0: 0.908\t1: 0.046\tUnc: 0.046\n",
      "\n",
      "\t[0.210] R72: recv_sms_Mean = 4.0\n",
      "\t\t\t0: 0.907\t1: 0.046\tUnc: 0.047\n"
     ]
    },
    {
     "name": "stderr",
     "output_type": "stream",
     "text": [
      "24-04-27 13:49:11 [INFO] Step 6: Inference done\n",
      "24-04-27 13:49:11 [DEBUG] Training Time: 0.38s\n",
      "24-04-27 13:49:11 [DEBUG] Epochs: 4\n",
      "24-04-27 13:49:11 [DEBUG] Min Loss: 0.800\n",
      "24-04-27 13:49:11 [DEBUG] Loaded backend module://matplotlib_inline.backend_inline version unknown.\n",
      "24-04-27 13:49:11 [DEBUG] Loaded backend module://matplotlib_inline.backend_inline version unknown.\n",
      "24-04-27 13:49:11 [DEBUG] findfont: Matching sans\\-serif:style=normal:variant=normal:weight=normal:stretch=normal:size=10.0.\n",
      "24-04-27 13:49:11 [DEBUG] findfont: score(FontEntry(fname='c:\\\\Users\\\\hayk_\\\\.conda\\\\envs\\\\thesis\\\\lib\\\\site-packages\\\\matplotlib\\\\mpl-data\\\\fonts\\\\ttf\\\\cmsy10.ttf', name='cmsy10', style='normal', variant='normal', weight=400, stretch='normal', size='scalable')) = 10.05\n",
      "24-04-27 13:49:11 [DEBUG] findfont: score(FontEntry(fname='c:\\\\Users\\\\hayk_\\\\.conda\\\\envs\\\\thesis\\\\lib\\\\site-packages\\\\matplotlib\\\\mpl-data\\\\fonts\\\\ttf\\\\DejaVuSans.ttf', name='DejaVu Sans', style='normal', variant='normal', weight=400, stretch='normal', size='scalable')) = 0.05\n",
      "24-04-27 13:49:11 [DEBUG] findfont: score(FontEntry(fname='c:\\\\Users\\\\hayk_\\\\.conda\\\\envs\\\\thesis\\\\lib\\\\site-packages\\\\matplotlib\\\\mpl-data\\\\fonts\\\\ttf\\\\cmr10.ttf', name='cmr10', style='normal', variant='normal', weight=400, stretch='normal', size='scalable')) = 10.05\n",
      "24-04-27 13:49:11 [DEBUG] findfont: score(FontEntry(fname='c:\\\\Users\\\\hayk_\\\\.conda\\\\envs\\\\thesis\\\\lib\\\\site-packages\\\\matplotlib\\\\mpl-data\\\\fonts\\\\ttf\\\\STIXGeneralItalic.ttf', name='STIXGeneral', style='italic', variant='normal', weight=400, stretch='normal', size='scalable')) = 11.05\n",
      "24-04-27 13:49:11 [DEBUG] findfont: score(FontEntry(fname='c:\\\\Users\\\\hayk_\\\\.conda\\\\envs\\\\thesis\\\\lib\\\\site-packages\\\\matplotlib\\\\mpl-data\\\\fonts\\\\ttf\\\\STIXNonUniBolIta.ttf', name='STIXNonUnicode', style='italic', variant='normal', weight=700, stretch='normal', size='scalable')) = 11.335\n",
      "24-04-27 13:49:11 [DEBUG] findfont: score(FontEntry(fname='c:\\\\Users\\\\hayk_\\\\.conda\\\\envs\\\\thesis\\\\lib\\\\site-packages\\\\matplotlib\\\\mpl-data\\\\fonts\\\\ttf\\\\cmss10.ttf', name='cmss10', style='normal', variant='normal', weight=400, stretch='normal', size='scalable')) = 10.05\n",
      "24-04-27 13:49:11 [DEBUG] findfont: score(FontEntry(fname='c:\\\\Users\\\\hayk_\\\\.conda\\\\envs\\\\thesis\\\\lib\\\\site-packages\\\\matplotlib\\\\mpl-data\\\\fonts\\\\ttf\\\\STIXNonUniIta.ttf', name='STIXNonUnicode', style='italic', variant='normal', weight=400, stretch='normal', size='scalable')) = 11.05\n",
      "24-04-27 13:49:11 [DEBUG] findfont: score(FontEntry(fname='c:\\\\Users\\\\hayk_\\\\.conda\\\\envs\\\\thesis\\\\lib\\\\site-packages\\\\matplotlib\\\\mpl-data\\\\fonts\\\\ttf\\\\DejaVuSerif-BoldItalic.ttf', name='DejaVu Serif', style='italic', variant='normal', weight=700, stretch='normal', size='scalable')) = 11.335\n",
      "24-04-27 13:49:11 [DEBUG] findfont: score(FontEntry(fname='c:\\\\Users\\\\hayk_\\\\.conda\\\\envs\\\\thesis\\\\lib\\\\site-packages\\\\matplotlib\\\\mpl-data\\\\fonts\\\\ttf\\\\DejaVuSansDisplay.ttf', name='DejaVu Sans Display', style='normal', variant='normal', weight=400, stretch='normal', size='scalable')) = 10.05\n",
      "24-04-27 13:49:11 [DEBUG] findfont: score(FontEntry(fname='c:\\\\Users\\\\hayk_\\\\.conda\\\\envs\\\\thesis\\\\lib\\\\site-packages\\\\matplotlib\\\\mpl-data\\\\fonts\\\\ttf\\\\DejaVuSansMono-BoldOblique.ttf', name='DejaVu Sans Mono', style='oblique', variant='normal', weight=700, stretch='normal', size='scalable')) = 11.335\n",
      "24-04-27 13:49:11 [DEBUG] findfont: score(FontEntry(fname='c:\\\\Users\\\\hayk_\\\\.conda\\\\envs\\\\thesis\\\\lib\\\\site-packages\\\\matplotlib\\\\mpl-data\\\\fonts\\\\ttf\\\\STIXSizFourSymBol.ttf', name='STIXSizeFourSym', style='normal', variant='normal', weight=700, stretch='normal', size='scalable')) = 10.335\n",
      "24-04-27 13:49:11 [DEBUG] findfont: score(FontEntry(fname='c:\\\\Users\\\\hayk_\\\\.conda\\\\envs\\\\thesis\\\\lib\\\\site-packages\\\\matplotlib\\\\mpl-data\\\\fonts\\\\ttf\\\\STIXNonUniBol.ttf', name='STIXNonUnicode', style='normal', variant='normal', weight=700, stretch='normal', size='scalable')) = 10.335\n",
      "24-04-27 13:49:11 [DEBUG] findfont: score(FontEntry(fname='c:\\\\Users\\\\hayk_\\\\.conda\\\\envs\\\\thesis\\\\lib\\\\site-packages\\\\matplotlib\\\\mpl-data\\\\fonts\\\\ttf\\\\DejaVuSans-BoldOblique.ttf', name='DejaVu Sans', style='oblique', variant='normal', weight=700, stretch='normal', size='scalable')) = 1.335\n",
      "24-04-27 13:49:11 [DEBUG] findfont: score(FontEntry(fname='c:\\\\Users\\\\hayk_\\\\.conda\\\\envs\\\\thesis\\\\lib\\\\site-packages\\\\matplotlib\\\\mpl-data\\\\fonts\\\\ttf\\\\STIXGeneralBolIta.ttf', name='STIXGeneral', style='italic', variant='normal', weight=700, stretch='normal', size='scalable')) = 11.335\n",
      "24-04-27 13:49:11 [DEBUG] findfont: score(FontEntry(fname='c:\\\\Users\\\\hayk_\\\\.conda\\\\envs\\\\thesis\\\\lib\\\\site-packages\\\\matplotlib\\\\mpl-data\\\\fonts\\\\ttf\\\\STIXSizTwoSymBol.ttf', name='STIXSizeTwoSym', style='normal', variant='normal', weight=700, stretch='normal', size='scalable')) = 10.335\n",
      "24-04-27 13:49:11 [DEBUG] findfont: score(FontEntry(fname='c:\\\\Users\\\\hayk_\\\\.conda\\\\envs\\\\thesis\\\\lib\\\\site-packages\\\\matplotlib\\\\mpl-data\\\\fonts\\\\ttf\\\\DejaVuSerif.ttf', name='DejaVu Serif', style='normal', variant='normal', weight=400, stretch='normal', size='scalable')) = 10.05\n",
      "24-04-27 13:49:11 [DEBUG] findfont: score(FontEntry(fname='c:\\\\Users\\\\hayk_\\\\.conda\\\\envs\\\\thesis\\\\lib\\\\site-packages\\\\matplotlib\\\\mpl-data\\\\fonts\\\\ttf\\\\STIXGeneral.ttf', name='STIXGeneral', style='normal', variant='normal', weight=400, stretch='normal', size='scalable')) = 10.05\n",
      "24-04-27 13:49:11 [DEBUG] findfont: score(FontEntry(fname='c:\\\\Users\\\\hayk_\\\\.conda\\\\envs\\\\thesis\\\\lib\\\\site-packages\\\\matplotlib\\\\mpl-data\\\\fonts\\\\ttf\\\\DejaVuSansMono.ttf', name='DejaVu Sans Mono', style='normal', variant='normal', weight=400, stretch='normal', size='scalable')) = 10.05\n",
      "24-04-27 13:49:11 [DEBUG] findfont: score(FontEntry(fname='c:\\\\Users\\\\hayk_\\\\.conda\\\\envs\\\\thesis\\\\lib\\\\site-packages\\\\matplotlib\\\\mpl-data\\\\fonts\\\\ttf\\\\DejaVuSerifDisplay.ttf', name='DejaVu Serif Display', style='normal', variant='normal', weight=400, stretch='normal', size='scalable')) = 10.05\n",
      "24-04-27 13:49:11 [DEBUG] findfont: score(FontEntry(fname='c:\\\\Users\\\\hayk_\\\\.conda\\\\envs\\\\thesis\\\\lib\\\\site-packages\\\\matplotlib\\\\mpl-data\\\\fonts\\\\ttf\\\\STIXNonUni.ttf', name='STIXNonUnicode', style='normal', variant='normal', weight=400, stretch='normal', size='scalable')) = 10.05\n",
      "24-04-27 13:49:11 [DEBUG] findfont: score(FontEntry(fname='c:\\\\Users\\\\hayk_\\\\.conda\\\\envs\\\\thesis\\\\lib\\\\site-packages\\\\matplotlib\\\\mpl-data\\\\fonts\\\\ttf\\\\DejaVuSansMono-Bold.ttf', name='DejaVu Sans Mono', style='normal', variant='normal', weight=700, stretch='normal', size='scalable')) = 10.335\n",
      "24-04-27 13:49:11 [DEBUG] findfont: score(FontEntry(fname='c:\\\\Users\\\\hayk_\\\\.conda\\\\envs\\\\thesis\\\\lib\\\\site-packages\\\\matplotlib\\\\mpl-data\\\\fonts\\\\ttf\\\\STIXSizOneSymBol.ttf', name='STIXSizeOneSym', style='normal', variant='normal', weight=700, stretch='normal', size='scalable')) = 10.335\n",
      "24-04-27 13:49:11 [DEBUG] findfont: score(FontEntry(fname='c:\\\\Users\\\\hayk_\\\\.conda\\\\envs\\\\thesis\\\\lib\\\\site-packages\\\\matplotlib\\\\mpl-data\\\\fonts\\\\ttf\\\\DejaVuSerif-Bold.ttf', name='DejaVu Serif', style='normal', variant='normal', weight=700, stretch='normal', size='scalable')) = 10.335\n",
      "24-04-27 13:49:11 [DEBUG] findfont: score(FontEntry(fname='c:\\\\Users\\\\hayk_\\\\.conda\\\\envs\\\\thesis\\\\lib\\\\site-packages\\\\matplotlib\\\\mpl-data\\\\fonts\\\\ttf\\\\DejaVuSans-Oblique.ttf', name='DejaVu Sans', style='oblique', variant='normal', weight=400, stretch='normal', size='scalable')) = 1.05\n",
      "24-04-27 13:49:11 [DEBUG] findfont: score(FontEntry(fname='c:\\\\Users\\\\hayk_\\\\.conda\\\\envs\\\\thesis\\\\lib\\\\site-packages\\\\matplotlib\\\\mpl-data\\\\fonts\\\\ttf\\\\STIXSizThreeSymBol.ttf', name='STIXSizeThreeSym', style='normal', variant='normal', weight=700, stretch='normal', size='scalable')) = 10.335\n",
      "24-04-27 13:49:11 [DEBUG] findfont: score(FontEntry(fname='c:\\\\Users\\\\hayk_\\\\.conda\\\\envs\\\\thesis\\\\lib\\\\site-packages\\\\matplotlib\\\\mpl-data\\\\fonts\\\\ttf\\\\cmb10.ttf', name='cmb10', style='normal', variant='normal', weight=400, stretch='normal', size='scalable')) = 10.05\n",
      "24-04-27 13:49:11 [DEBUG] findfont: score(FontEntry(fname='c:\\\\Users\\\\hayk_\\\\.conda\\\\envs\\\\thesis\\\\lib\\\\site-packages\\\\matplotlib\\\\mpl-data\\\\fonts\\\\ttf\\\\cmtt10.ttf', name='cmtt10', style='normal', variant='normal', weight=400, stretch='normal', size='scalable')) = 10.05\n",
      "24-04-27 13:49:11 [DEBUG] findfont: score(FontEntry(fname='c:\\\\Users\\\\hayk_\\\\.conda\\\\envs\\\\thesis\\\\lib\\\\site-packages\\\\matplotlib\\\\mpl-data\\\\fonts\\\\ttf\\\\DejaVuSans-Bold.ttf', name='DejaVu Sans', style='normal', variant='normal', weight=700, stretch='normal', size='scalable')) = 0.33499999999999996\n",
      "24-04-27 13:49:11 [DEBUG] findfont: score(FontEntry(fname='c:\\\\Users\\\\hayk_\\\\.conda\\\\envs\\\\thesis\\\\lib\\\\site-packages\\\\matplotlib\\\\mpl-data\\\\fonts\\\\ttf\\\\STIXSizThreeSymReg.ttf', name='STIXSizeThreeSym', style='normal', variant='normal', weight=400, stretch='normal', size='scalable')) = 10.05\n",
      "24-04-27 13:49:11 [DEBUG] findfont: score(FontEntry(fname='c:\\\\Users\\\\hayk_\\\\.conda\\\\envs\\\\thesis\\\\lib\\\\site-packages\\\\matplotlib\\\\mpl-data\\\\fonts\\\\ttf\\\\STIXSizTwoSymReg.ttf', name='STIXSizeTwoSym', style='normal', variant='normal', weight=400, stretch='normal', size='scalable')) = 10.05\n",
      "24-04-27 13:49:11 [DEBUG] findfont: score(FontEntry(fname='c:\\\\Users\\\\hayk_\\\\.conda\\\\envs\\\\thesis\\\\lib\\\\site-packages\\\\matplotlib\\\\mpl-data\\\\fonts\\\\ttf\\\\STIXSizFourSymReg.ttf', name='STIXSizeFourSym', style='normal', variant='normal', weight=400, stretch='normal', size='scalable')) = 10.05\n",
      "24-04-27 13:49:11 [DEBUG] findfont: score(FontEntry(fname='c:\\\\Users\\\\hayk_\\\\.conda\\\\envs\\\\thesis\\\\lib\\\\site-packages\\\\matplotlib\\\\mpl-data\\\\fonts\\\\ttf\\\\DejaVuSansMono-Oblique.ttf', name='DejaVu Sans Mono', style='oblique', variant='normal', weight=400, stretch='normal', size='scalable')) = 11.05\n",
      "24-04-27 13:49:11 [DEBUG] findfont: score(FontEntry(fname='c:\\\\Users\\\\hayk_\\\\.conda\\\\envs\\\\thesis\\\\lib\\\\site-packages\\\\matplotlib\\\\mpl-data\\\\fonts\\\\ttf\\\\STIXGeneralBol.ttf', name='STIXGeneral', style='normal', variant='normal', weight=700, stretch='normal', size='scalable')) = 10.335\n",
      "24-04-27 13:49:11 [DEBUG] findfont: score(FontEntry(fname='c:\\\\Users\\\\hayk_\\\\.conda\\\\envs\\\\thesis\\\\lib\\\\site-packages\\\\matplotlib\\\\mpl-data\\\\fonts\\\\ttf\\\\cmex10.ttf', name='cmex10', style='normal', variant='normal', weight=400, stretch='normal', size='scalable')) = 10.05\n",
      "24-04-27 13:49:11 [DEBUG] findfont: score(FontEntry(fname='c:\\\\Users\\\\hayk_\\\\.conda\\\\envs\\\\thesis\\\\lib\\\\site-packages\\\\matplotlib\\\\mpl-data\\\\fonts\\\\ttf\\\\STIXSizOneSymReg.ttf', name='STIXSizeOneSym', style='normal', variant='normal', weight=400, stretch='normal', size='scalable')) = 10.05\n",
      "24-04-27 13:49:11 [DEBUG] findfont: score(FontEntry(fname='c:\\\\Users\\\\hayk_\\\\.conda\\\\envs\\\\thesis\\\\lib\\\\site-packages\\\\matplotlib\\\\mpl-data\\\\fonts\\\\ttf\\\\DejaVuSerif-Italic.ttf', name='DejaVu Serif', style='italic', variant='normal', weight=400, stretch='normal', size='scalable')) = 11.05\n",
      "24-04-27 13:49:11 [DEBUG] findfont: score(FontEntry(fname='c:\\\\Users\\\\hayk_\\\\.conda\\\\envs\\\\thesis\\\\lib\\\\site-packages\\\\matplotlib\\\\mpl-data\\\\fonts\\\\ttf\\\\cmmi10.ttf', name='cmmi10', style='normal', variant='normal', weight=400, stretch='normal', size='scalable')) = 10.05\n",
      "24-04-27 13:49:11 [DEBUG] findfont: score(FontEntry(fname='c:\\\\Users\\\\hayk_\\\\.conda\\\\envs\\\\thesis\\\\lib\\\\site-packages\\\\matplotlib\\\\mpl-data\\\\fonts\\\\ttf\\\\STIXSizFiveSymReg.ttf', name='STIXSizeFiveSym', style='normal', variant='normal', weight=400, stretch='normal', size='scalable')) = 10.05\n",
      "24-04-27 13:49:11 [DEBUG] findfont: score(FontEntry(fname='C:\\\\Windows\\\\Fonts\\\\phagspab.ttf', name='Microsoft PhagsPa', style='normal', variant='normal', weight=700, stretch='normal', size='scalable')) = 10.335\n",
      "24-04-27 13:49:11 [DEBUG] findfont: score(FontEntry(fname='C:\\\\Windows\\\\Fonts\\\\GILSANUB.TTF', name='Gill Sans Ultra Bold', style='normal', variant='normal', weight=400, stretch='normal', size='scalable')) = 10.05\n",
      "24-04-27 13:49:11 [DEBUG] findfont: score(FontEntry(fname='C:\\\\Windows\\\\Fonts\\\\BOD_BLAI.TTF', name='Bodoni MT', style='italic', variant='normal', weight=900, stretch='normal', size='scalable')) = 11.525\n",
      "24-04-27 13:49:11 [DEBUG] findfont: score(FontEntry(fname='C:\\\\Windows\\\\Fonts\\\\MTCORSVA.TTF', name='Monotype Corsiva', style='normal', variant='normal', weight=400, stretch='normal', size='scalable')) = 10.05\n",
      "24-04-27 13:49:11 [DEBUG] findfont: score(FontEntry(fname='C:\\\\Windows\\\\Fonts\\\\cambriab.ttf', name='Cambria', style='normal', variant='normal', weight=700, stretch='normal', size='scalable')) = 10.335\n",
      "24-04-27 13:49:11 [DEBUG] findfont: score(FontEntry(fname='C:\\\\Windows\\\\Fonts\\\\timesi.ttf', name='Times New Roman', style='italic', variant='normal', weight=400, stretch='normal', size='scalable')) = 11.05\n",
      "24-04-27 13:49:11 [DEBUG] findfont: score(FontEntry(fname='C:\\\\Windows\\\\Fonts\\\\seguili.ttf', name='Segoe UI', style='italic', variant='normal', weight=300, stretch='normal', size='scalable')) = 11.145\n",
      "24-04-27 13:49:11 [DEBUG] findfont: score(FontEntry(fname='C:\\\\Windows\\\\Fonts\\\\SCHLBKB.TTF', name='Century Schoolbook', style='normal', variant='normal', weight=700, stretch='normal', size='scalable')) = 10.335\n",
      "24-04-27 13:49:11 [DEBUG] findfont: score(FontEntry(fname='C:\\\\Windows\\\\Fonts\\\\arial.ttf', name='Arial', style='normal', variant='normal', weight=400, stretch='normal', size='scalable')) = 6.413636363636363\n",
      "24-04-27 13:49:11 [DEBUG] findfont: score(FontEntry(fname='C:\\\\Windows\\\\Fonts\\\\BOD_PSTC.TTF', name='Bodoni MT', style='normal', variant='normal', weight=300, stretch='normal', size='scalable')) = 10.145\n",
      "24-04-27 13:49:11 [DEBUG] findfont: score(FontEntry(fname='C:\\\\Windows\\\\Fonts\\\\corbell.ttf', name='Corbel', style='normal', variant='normal', weight=300, stretch='normal', size='scalable')) = 10.145\n",
      "24-04-27 13:49:11 [DEBUG] findfont: score(FontEntry(fname='C:\\\\Windows\\\\Fonts\\\\CENSCBK.TTF', name='Century Schoolbook', style='normal', variant='normal', weight=400, stretch='normal', size='scalable')) = 10.05\n",
      "24-04-27 13:49:11 [DEBUG] findfont: score(FontEntry(fname='C:\\\\Windows\\\\Fonts\\\\LHANDW.TTF', name='Lucida Handwriting', style='italic', variant='normal', weight=400, stretch='normal', size='scalable')) = 11.05\n",
      "24-04-27 13:49:11 [DEBUG] findfont: score(FontEntry(fname='C:\\\\Windows\\\\Fonts\\\\mvboli.ttf', name='MV Boli', style='normal', variant='normal', weight=400, stretch='normal', size='scalable')) = 10.05\n",
      "24-04-27 13:49:11 [DEBUG] findfont: score(FontEntry(fname='C:\\\\Windows\\\\Fonts\\\\FORTE.TTF', name='Forte', style='normal', variant='normal', weight=400, stretch='normal', size='scalable')) = 10.05\n",
      "24-04-27 13:49:11 [DEBUG] findfont: score(FontEntry(fname='C:\\\\Windows\\\\Fonts\\\\comic.ttf', name='Comic Sans MS', style='normal', variant='normal', weight=400, stretch='normal', size='scalable')) = 10.05\n",
      "24-04-27 13:49:11 [DEBUG] findfont: score(FontEntry(fname='C:\\\\Windows\\\\Fonts\\\\LeelaUIb.ttf', name='Leelawadee UI', style='normal', variant='normal', weight=700, stretch='normal', size='scalable')) = 10.335\n",
      "24-04-27 13:49:11 [DEBUG] findfont: score(FontEntry(fname='C:\\\\Windows\\\\Fonts\\\\Candarab.ttf', name='Candara', style='normal', variant='normal', weight=700, stretch='normal', size='scalable')) = 10.335\n",
      "24-04-27 13:49:11 [DEBUG] findfont: score(FontEntry(fname='C:\\\\Windows\\\\Fonts\\\\PARCHM.TTF', name='Parchment', style='normal', variant='normal', weight=400, stretch='normal', size='scalable')) = 10.05\n",
      "24-04-27 13:49:11 [DEBUG] findfont: score(FontEntry(fname='C:\\\\Windows\\\\Fonts\\\\GOTHICB.TTF', name='Century Gothic', style='normal', variant='normal', weight=700, stretch='normal', size='scalable')) = 10.335\n",
      "24-04-27 13:49:11 [DEBUG] findfont: score(FontEntry(fname='C:\\\\Windows\\\\Fonts\\\\LFAXDI.TTF', name='Lucida Fax', style='italic', variant='normal', weight=600, stretch='normal', size='scalable')) = 11.24\n",
      "24-04-27 13:49:11 [DEBUG] findfont: score(FontEntry(fname='C:\\\\Windows\\\\Fonts\\\\corbelb.ttf', name='Corbel', style='normal', variant='normal', weight=700, stretch='normal', size='scalable')) = 10.335\n",
      "24-04-27 13:49:11 [DEBUG] findfont: score(FontEntry(fname='C:\\\\Windows\\\\Fonts\\\\monbaiti.ttf', name='Mongolian Baiti', style='normal', variant='normal', weight=400, stretch='normal', size='scalable')) = 10.05\n",
      "24-04-27 13:49:11 [DEBUG] findfont: score(FontEntry(fname='C:\\\\Windows\\\\Fonts\\\\FREESCPT.TTF', name='Freestyle Script', style='normal', variant='normal', weight=400, stretch='normal', size='scalable')) = 10.05\n",
      "24-04-27 13:49:11 [DEBUG] findfont: score(FontEntry(fname='C:\\\\Windows\\\\Fonts\\\\verdanab.ttf', name='Verdana', style='normal', variant='normal', weight=700, stretch='normal', size='scalable')) = 3.9713636363636367\n",
      "24-04-27 13:49:11 [DEBUG] findfont: score(FontEntry(fname='C:\\\\Windows\\\\Fonts\\\\LeelawUI.ttf', name='Leelawadee UI', style='normal', variant='normal', weight=400, stretch='normal', size='scalable')) = 10.05\n",
      "24-04-27 13:49:11 [DEBUG] findfont: score(FontEntry(fname='C:\\\\Windows\\\\Fonts\\\\LBRITE.TTF', name='Lucida Bright', style='normal', variant='normal', weight=400, stretch='normal', size='scalable')) = 10.05\n",
      "24-04-27 13:49:11 [DEBUG] findfont: score(FontEntry(fname='C:\\\\Windows\\\\Fonts\\\\HATTEN.TTF', name='Haettenschweiler', style='normal', variant='normal', weight=400, stretch='normal', size='scalable')) = 10.05\n",
      "24-04-27 13:49:11 [DEBUG] findfont: score(FontEntry(fname='C:\\\\Windows\\\\Fonts\\\\msyh.ttc', name='Microsoft YaHei', style='normal', variant='normal', weight=400, stretch='normal', size='scalable')) = 10.05\n",
      "24-04-27 13:49:11 [DEBUG] findfont: score(FontEntry(fname='C:\\\\Windows\\\\Fonts\\\\BOD_BLAR.TTF', name='Bodoni MT', style='normal', variant='normal', weight=900, stretch='normal', size='scalable')) = 10.525\n",
      "24-04-27 13:49:11 [DEBUG] findfont: score(FontEntry(fname='C:\\\\Windows\\\\Fonts\\\\ROCKBI.TTF', name='Rockwell', style='italic', variant='normal', weight=700, stretch='normal', size='scalable')) = 11.335\n",
      "24-04-27 13:49:11 [DEBUG] findfont: score(FontEntry(fname='C:\\\\Windows\\\\Fonts\\\\msjhbd.ttc', name='Microsoft JhengHei', style='normal', variant='normal', weight=700, stretch='normal', size='scalable')) = 10.335\n",
      "24-04-27 13:49:11 [DEBUG] findfont: score(FontEntry(fname='C:\\\\Windows\\\\Fonts\\\\arialbd.ttf', name='Arial', style='normal', variant='normal', weight=700, stretch='normal', size='scalable')) = 6.698636363636363\n",
      "24-04-27 13:49:11 [DEBUG] findfont: score(FontEntry(fname='C:\\\\Windows\\\\Fonts\\\\MISTRAL.TTF', name='Mistral', style='normal', variant='normal', weight=400, stretch='normal', size='scalable')) = 10.05\n",
      "24-04-27 13:49:11 [DEBUG] findfont: score(FontEntry(fname='C:\\\\Windows\\\\Fonts\\\\COLONNA.TTF', name='Colonna MT', style='normal', variant='normal', weight=400, stretch='normal', size='scalable')) = 10.05\n",
      "24-04-27 13:49:11 [DEBUG] findfont: score(FontEntry(fname='C:\\\\Windows\\\\Fonts\\\\FRAHV.TTF', name='Franklin Gothic Heavy', style='normal', variant='normal', weight=400, stretch='normal', size='scalable')) = 10.05\n",
      "24-04-27 13:49:11 [DEBUG] findfont: score(FontEntry(fname='C:\\\\Windows\\\\Fonts\\\\msyhbd.ttc', name='Microsoft YaHei', style='normal', variant='normal', weight=700, stretch='normal', size='scalable')) = 10.335\n",
      "24-04-27 13:49:11 [DEBUG] findfont: score(FontEntry(fname='C:\\\\Windows\\\\Fonts\\\\simsun.ttc', name='SimSun', style='normal', variant='normal', weight=400, stretch='normal', size='scalable')) = 10.05\n",
      "24-04-27 13:49:11 [DEBUG] findfont: score(FontEntry(fname='C:\\\\Windows\\\\Fonts\\\\BOOKOS.TTF', name='Bookman Old Style', style='normal', variant='normal', weight=300, stretch='normal', size='scalable')) = 10.145\n",
      "24-04-27 13:49:11 [DEBUG] findfont: score(FontEntry(fname='C:\\\\Windows\\\\Fonts\\\\Candarali.ttf', name='Candara', style='italic', variant='normal', weight=400, stretch='normal', size='scalable')) = 11.05\n",
      "24-04-27 13:49:11 [DEBUG] findfont: score(FontEntry(fname='C:\\\\Windows\\\\Fonts\\\\malgunbd.ttf', name='Malgun Gothic', style='normal', variant='normal', weight=700, stretch='normal', size='scalable')) = 10.335\n",
      "24-04-27 13:49:11 [DEBUG] findfont: score(FontEntry(fname='C:\\\\Windows\\\\Fonts\\\\sylfaen.ttf', name='Sylfaen', style='normal', variant='normal', weight=400, stretch='normal', size='scalable')) = 10.05\n",
      "24-04-27 13:49:11 [DEBUG] findfont: score(FontEntry(fname='C:\\\\Windows\\\\Fonts\\\\marlett.ttf', name='Marlett', style='normal', variant='normal', weight=500, stretch='normal', size='scalable')) = 10.145\n",
      "24-04-27 13:49:11 [DEBUG] findfont: score(FontEntry(fname='C:\\\\Windows\\\\Fonts\\\\segoeuil.ttf', name='Segoe UI', style='normal', variant='normal', weight=300, stretch='normal', size='scalable')) = 10.145\n",
      "24-04-27 13:49:11 [DEBUG] findfont: score(FontEntry(fname='C:\\\\Windows\\\\Fonts\\\\LTYPEB.TTF', name='Lucida Sans Typewriter', style='normal', variant='normal', weight=600, stretch='normal', size='scalable')) = 10.24\n",
      "24-04-27 13:49:11 [DEBUG] findfont: score(FontEntry(fname='C:\\\\Windows\\\\Fonts\\\\courbi.ttf', name='Courier New', style='italic', variant='normal', weight=700, stretch='normal', size='scalable')) = 11.335\n",
      "24-04-27 13:49:11 [DEBUG] findfont: score(FontEntry(fname='C:\\\\Windows\\\\Fonts\\\\corbelz.ttf', name='Corbel', style='italic', variant='normal', weight=700, stretch='normal', size='scalable')) = 11.335\n",
      "24-04-27 13:49:11 [DEBUG] findfont: score(FontEntry(fname='C:\\\\Windows\\\\Fonts\\\\taileb.ttf', name='Microsoft Tai Le', style='normal', variant='normal', weight=700, stretch='normal', size='scalable')) = 10.335\n",
      "24-04-27 13:49:11 [DEBUG] findfont: score(FontEntry(fname='C:\\\\Windows\\\\Fonts\\\\FRSCRIPT.TTF', name='French Script MT', style='normal', variant='normal', weight=400, stretch='normal', size='scalable')) = 10.05\n",
      "24-04-27 13:49:11 [DEBUG] findfont: score(FontEntry(fname='C:\\\\Windows\\\\Fonts\\\\PRISTINA.TTF', name='Pristina', style='normal', variant='normal', weight=400, stretch='normal', size='scalable')) = 10.05\n",
      "24-04-27 13:49:11 [DEBUG] findfont: score(FontEntry(fname='C:\\\\Windows\\\\Fonts\\\\LEELAWAD.TTF', name='Leelawadee', style='normal', variant='normal', weight=400, stretch='normal', size='scalable')) = 10.05\n",
      "24-04-27 13:49:11 [DEBUG] findfont: score(FontEntry(fname='C:\\\\Windows\\\\Fonts\\\\TCCM____.TTF', name='Tw Cen MT Condensed', style='normal', variant='normal', weight=400, stretch='condensed', size='scalable')) = 10.25\n",
      "24-04-27 13:49:11 [DEBUG] findfont: score(FontEntry(fname='C:\\\\Windows\\\\Fonts\\\\constanb.ttf', name='Constantia', style='normal', variant='normal', weight=700, stretch='normal', size='scalable')) = 10.335\n",
      "24-04-27 13:49:11 [DEBUG] findfont: score(FontEntry(fname='C:\\\\Windows\\\\Fonts\\\\verdanaz.ttf', name='Verdana', style='italic', variant='normal', weight=700, stretch='normal', size='scalable')) = 4.971363636363637\n",
      "24-04-27 13:49:11 [DEBUG] findfont: score(FontEntry(fname='C:\\\\Windows\\\\Fonts\\\\MATURASC.TTF', name='Matura MT Script Capitals', style='normal', variant='normal', weight=400, stretch='normal', size='scalable')) = 10.05\n",
      "24-04-27 13:49:11 [DEBUG] findfont: score(FontEntry(fname='C:\\\\Windows\\\\Fonts\\\\ROCCB___.TTF', name='Rockwell Condensed', style='normal', variant='normal', weight=700, stretch='condensed', size='scalable')) = 10.535\n",
      "24-04-27 13:49:11 [DEBUG] findfont: score(FontEntry(fname='C:\\\\Windows\\\\Fonts\\\\mmrtext.ttf', name='Myanmar Text', style='normal', variant='normal', weight=400, stretch='normal', size='scalable')) = 10.05\n",
      "24-04-27 13:49:11 [DEBUG] findfont: score(FontEntry(fname='C:\\\\Windows\\\\Fonts\\\\LSANSD.TTF', name='Lucida Sans', style='normal', variant='normal', weight=600, stretch='normal', size='scalable')) = 10.24\n",
      "24-04-27 13:49:11 [DEBUG] findfont: score(FontEntry(fname='C:\\\\Windows\\\\Fonts\\\\LTYPE.TTF', name='Lucida Sans Typewriter', style='normal', variant='normal', weight=400, stretch='normal', size='scalable')) = 10.05\n",
      "24-04-27 13:49:11 [DEBUG] findfont: score(FontEntry(fname='C:\\\\Windows\\\\Fonts\\\\GILC____.TTF', name='Gill Sans MT Condensed', style='normal', variant='normal', weight=400, stretch='condensed', size='scalable')) = 10.25\n",
      "24-04-27 13:49:11 [DEBUG] findfont: score(FontEntry(fname='C:\\\\Windows\\\\Fonts\\\\FELIXTI.TTF', name='Felix Titling', style='normal', variant='normal', weight=400, stretch='normal', size='scalable')) = 10.05\n",
      "24-04-27 13:49:11 [DEBUG] findfont: score(FontEntry(fname='C:\\\\Windows\\\\Fonts\\\\seguiemj.ttf', name='Segoe UI Emoji', style='normal', variant='normal', weight=400, stretch='normal', size='scalable')) = 10.05\n",
      "24-04-27 13:49:11 [DEBUG] findfont: score(FontEntry(fname='C:\\\\Windows\\\\Fonts\\\\GOUDOSI.TTF', name='Goudy Old Style', style='italic', variant='normal', weight=400, stretch='normal', size='scalable')) = 11.05\n",
      "24-04-27 13:49:11 [DEBUG] findfont: score(FontEntry(fname='C:\\\\Windows\\\\Fonts\\\\GLECB.TTF', name='Gloucester MT Extra Condensed', style='normal', variant='normal', weight=400, stretch='condensed', size='scalable')) = 10.25\n",
      "24-04-27 13:49:11 [DEBUG] findfont: score(FontEntry(fname='C:\\\\Windows\\\\Fonts\\\\YuGothL.ttc', name='Yu Gothic', style='normal', variant='normal', weight=300, stretch='normal', size='scalable')) = 10.145\n",
      "24-04-27 13:49:11 [DEBUG] findfont: score(FontEntry(fname='C:\\\\Windows\\\\Fonts\\\\GARA.TTF', name='Garamond', style='normal', variant='normal', weight=400, stretch='normal', size='scalable')) = 10.05\n",
      "24-04-27 13:49:11 [DEBUG] findfont: score(FontEntry(fname='C:\\\\Windows\\\\Fonts\\\\KUNSTLER.TTF', name='Kunstler Script', style='normal', variant='normal', weight=400, stretch='normal', size='scalable')) = 10.05\n",
      "24-04-27 13:49:11 [DEBUG] findfont: score(FontEntry(fname='C:\\\\Windows\\\\Fonts\\\\CALIST.TTF', name='Calisto MT', style='normal', variant='normal', weight=400, stretch='normal', size='scalable')) = 10.05\n",
      "24-04-27 13:49:11 [DEBUG] findfont: score(FontEntry(fname='C:\\\\Windows\\\\Fonts\\\\BOD_CR.TTF', name='Bodoni MT', style='normal', variant='normal', weight=400, stretch='condensed', size='scalable')) = 10.25\n",
      "24-04-27 13:49:11 [DEBUG] findfont: score(FontEntry(fname='C:\\\\Windows\\\\Fonts\\\\LSANS.TTF', name='Lucida Sans', style='normal', variant='normal', weight=400, stretch='normal', size='scalable')) = 10.05\n",
      "24-04-27 13:49:11 [DEBUG] findfont: score(FontEntry(fname='C:\\\\Windows\\\\Fonts\\\\ariali.ttf', name='Arial', style='italic', variant='normal', weight=400, stretch='normal', size='scalable')) = 7.413636363636363\n",
      "24-04-27 13:49:11 [DEBUG] findfont: score(FontEntry(fname='C:\\\\Windows\\\\Fonts\\\\TCM_____.TTF', name='Tw Cen MT', style='normal', variant='normal', weight=400, stretch='normal', size='scalable')) = 10.05\n",
      "24-04-27 13:49:11 [DEBUG] findfont: score(FontEntry(fname='C:\\\\Windows\\\\Fonts\\\\segoeuib.ttf', name='Segoe UI', style='normal', variant='normal', weight=700, stretch='normal', size='scalable')) = 10.335\n",
      "24-04-27 13:49:11 [DEBUG] findfont: score(FontEntry(fname='C:\\\\Windows\\\\Fonts\\\\FTLTLT.TTF', name='Footlight MT Light', style='normal', variant='normal', weight=300, stretch='normal', size='scalable')) = 10.145\n",
      "24-04-27 13:49:11 [DEBUG] findfont: score(FontEntry(fname='C:\\\\Windows\\\\Fonts\\\\pala.ttf', name='Palatino Linotype', style='normal', variant='normal', weight=400, stretch='normal', size='scalable')) = 10.05\n",
      "24-04-27 13:49:11 [DEBUG] findfont: score(FontEntry(fname='C:\\\\Windows\\\\Fonts\\\\BRUSHSCI.TTF', name='Brush Script MT', style='italic', variant='normal', weight=400, stretch='normal', size='scalable')) = 11.05\n",
      "24-04-27 13:49:11 [DEBUG] findfont: score(FontEntry(fname='C:\\\\Windows\\\\Fonts\\\\CENTURY.TTF', name='Century', style='normal', variant='normal', weight=400, stretch='normal', size='scalable')) = 10.05\n",
      "24-04-27 13:49:11 [DEBUG] findfont: score(FontEntry(fname='C:\\\\Windows\\\\Fonts\\\\ROCKEB.TTF', name='Rockwell Extra Bold', style='normal', variant='normal', weight=800, stretch='normal', size='scalable')) = 10.43\n",
      "24-04-27 13:49:12 [DEBUG] findfont: score(FontEntry(fname='C:\\\\Windows\\\\Fonts\\\\RAVIE.TTF', name='Ravie', style='normal', variant='normal', weight=400, stretch='normal', size='scalable')) = 10.05\n",
      "24-04-27 13:49:12 [DEBUG] findfont: score(FontEntry(fname='C:\\\\Windows\\\\Fonts\\\\trebucit.ttf', name='Trebuchet MS', style='italic', variant='normal', weight=400, stretch='normal', size='scalable')) = 11.05\n",
      "24-04-27 13:49:12 [DEBUG] findfont: score(FontEntry(fname='C:\\\\Windows\\\\Fonts\\\\DUBAI-REGULAR.TTF', name='Dubai', style='normal', variant='normal', weight=400, stretch='normal', size='scalable')) = 10.05\n",
      "24-04-27 13:49:12 [DEBUG] findfont: score(FontEntry(fname='C:\\\\Windows\\\\Fonts\\\\LTYPEO.TTF', name='Lucida Sans Typewriter', style='oblique', variant='normal', weight=400, stretch='normal', size='scalable')) = 11.05\n",
      "24-04-27 13:49:12 [DEBUG] findfont: score(FontEntry(fname='C:\\\\Windows\\\\Fonts\\\\comicbd.ttf', name='Comic Sans MS', style='normal', variant='normal', weight=700, stretch='normal', size='scalable')) = 10.335\n",
      "24-04-27 13:49:12 [DEBUG] findfont: score(FontEntry(fname='C:\\\\Windows\\\\Fonts\\\\corbel.ttf', name='Corbel', style='normal', variant='normal', weight=400, stretch='normal', size='scalable')) = 10.05\n",
      "24-04-27 13:49:12 [DEBUG] findfont: score(FontEntry(fname='C:\\\\Windows\\\\Fonts\\\\DUBAI-MEDIUM.TTF', name='Dubai', style='normal', variant='normal', weight=500, stretch='normal', size='scalable')) = 10.145\n",
      "24-04-27 13:49:12 [DEBUG] findfont: score(FontEntry(fname='C:\\\\Windows\\\\Fonts\\\\webdings.ttf', name='Webdings', style='normal', variant='normal', weight=400, stretch='normal', size='scalable')) = 10.05\n",
      "24-04-27 13:49:12 [DEBUG] findfont: score(FontEntry(fname='C:\\\\Windows\\\\Fonts\\\\MAGNETOB.TTF', name='Magneto', style='normal', variant='normal', weight=700, stretch='normal', size='scalable')) = 10.335\n",
      "24-04-27 13:49:12 [DEBUG] findfont: score(FontEntry(fname='C:\\\\Windows\\\\Fonts\\\\BOD_B.TTF', name='Bodoni MT', style='normal', variant='normal', weight=700, stretch='normal', size='scalable')) = 10.335\n",
      "24-04-27 13:49:12 [DEBUG] findfont: score(FontEntry(fname='C:\\\\Windows\\\\Fonts\\\\SCHLBKBI.TTF', name='Century Schoolbook', style='italic', variant='normal', weight=700, stretch='normal', size='scalable')) = 11.335\n",
      "24-04-27 13:49:12 [DEBUG] findfont: score(FontEntry(fname='C:\\\\Windows\\\\Fonts\\\\GOUDOS.TTF', name='Goudy Old Style', style='normal', variant='normal', weight=400, stretch='normal', size='scalable')) = 10.05\n",
      "24-04-27 13:49:12 [DEBUG] findfont: score(FontEntry(fname='C:\\\\Windows\\\\Fonts\\\\segmdl2.ttf', name='Segoe MDL2 Assets', style='normal', variant='normal', weight=400, stretch='normal', size='scalable')) = 10.05\n",
      "24-04-27 13:49:12 [DEBUG] findfont: score(FontEntry(fname='C:\\\\Windows\\\\Fonts\\\\ARIALNBI.TTF', name='Arial', style='italic', variant='normal', weight=700, stretch='condensed', size='scalable')) = 7.8986363636363635\n",
      "24-04-27 13:49:12 [DEBUG] findfont: score(FontEntry(fname='C:\\\\Windows\\\\Fonts\\\\FRADMIT.TTF', name='Franklin Gothic Demi', style='italic', variant='normal', weight=400, stretch='normal', size='scalable')) = 11.05\n",
      "24-04-27 13:49:12 [DEBUG] findfont: score(FontEntry(fname='C:\\\\Windows\\\\Fonts\\\\georgiab.ttf', name='Georgia', style='normal', variant='normal', weight=700, stretch='normal', size='scalable')) = 10.335\n",
      "24-04-27 13:49:12 [DEBUG] findfont: score(FontEntry(fname='C:\\\\Windows\\\\Fonts\\\\GOUDOSB.TTF', name='Goudy Old Style', style='normal', variant='normal', weight=700, stretch='normal', size='scalable')) = 10.335\n",
      "24-04-27 13:49:12 [DEBUG] findfont: score(FontEntry(fname='C:\\\\Windows\\\\Fonts\\\\MOD20.TTF', name='Modern No. 20', style='normal', variant='normal', weight=400, stretch='normal', size='scalable')) = 10.05\n",
      "24-04-27 13:49:12 [DEBUG] findfont: score(FontEntry(fname='C:\\\\Windows\\\\Fonts\\\\GOTHIC.TTF', name='Century Gothic', style='normal', variant='normal', weight=400, stretch='normal', size='scalable')) = 10.05\n",
      "24-04-27 13:49:12 [DEBUG] findfont: score(FontEntry(fname='C:\\\\Windows\\\\Fonts\\\\GARABD.TTF', name='Garamond', style='normal', variant='normal', weight=700, stretch='normal', size='scalable')) = 10.335\n",
      "24-04-27 13:49:12 [DEBUG] findfont: score(FontEntry(fname='C:\\\\Windows\\\\Fonts\\\\ARIALN.TTF', name='Arial', style='normal', variant='normal', weight=400, stretch='condensed', size='scalable')) = 6.613636363636363\n",
      "24-04-27 13:49:12 [DEBUG] findfont: score(FontEntry(fname='C:\\\\Windows\\\\Fonts\\\\SHOWG.TTF', name='Showcard Gothic', style='normal', variant='normal', weight=400, stretch='normal', size='scalable')) = 10.05\n",
      "24-04-27 13:49:12 [DEBUG] findfont: score(FontEntry(fname='C:\\\\Windows\\\\Fonts\\\\malgunsl.ttf', name='Malgun Gothic', style='normal', variant='normal', weight=300, stretch='normal', size='scalable')) = 10.145\n",
      "24-04-27 13:49:12 [DEBUG] findfont: score(FontEntry(fname='C:\\\\Windows\\\\Fonts\\\\COOPBL.TTF', name='Cooper Black', style='normal', variant='normal', weight=400, stretch='normal', size='scalable')) = 10.05\n",
      "24-04-27 13:49:12 [DEBUG] findfont: score(FontEntry(fname='C:\\\\Windows\\\\Fonts\\\\phagspa.ttf', name='Microsoft PhagsPa', style='normal', variant='normal', weight=400, stretch='normal', size='scalable')) = 10.05\n",
      "24-04-27 13:49:12 [DEBUG] findfont: score(FontEntry(fname='C:\\\\Windows\\\\Fonts\\\\javatext.ttf', name='Javanese Text', style='normal', variant='normal', weight=400, stretch='normal', size='scalable')) = 10.05\n",
      "24-04-27 13:49:12 [DEBUG] findfont: score(FontEntry(fname='C:\\\\Windows\\\\Fonts\\\\DUBAI-BOLD.TTF', name='Dubai', style='normal', variant='normal', weight=700, stretch='normal', size='scalable')) = 10.335\n",
      "24-04-27 13:49:12 [DEBUG] findfont: score(FontEntry(fname='C:\\\\Windows\\\\Fonts\\\\GOUDYSTO.TTF', name='Goudy Stout', style='normal', variant='normal', weight=400, stretch='normal', size='scalable')) = 10.05\n",
      "24-04-27 13:49:12 [DEBUG] findfont: score(FontEntry(fname='C:\\\\Windows\\\\Fonts\\\\YuGothR.ttc', name='Yu Gothic', style='normal', variant='normal', weight=400, stretch='normal', size='scalable')) = 10.05\n",
      "24-04-27 13:49:12 [DEBUG] findfont: score(FontEntry(fname='C:\\\\Windows\\\\Fonts\\\\HTOWERTI.TTF', name='High Tower Text', style='italic', variant='normal', weight=400, stretch='normal', size='scalable')) = 11.05\n",
      "24-04-27 13:49:12 [DEBUG] findfont: score(FontEntry(fname='C:\\\\Windows\\\\Fonts\\\\PALSCRI.TTF', name='Palace Script MT', style='normal', variant='normal', weight=400, stretch='normal', size='scalable')) = 10.05\n",
      "24-04-27 13:49:12 [DEBUG] findfont: score(FontEntry(fname='C:\\\\Windows\\\\Fonts\\\\ANTQUAB.TTF', name='Book Antiqua', style='normal', variant='normal', weight=700, stretch='normal', size='scalable')) = 10.335\n",
      "24-04-27 13:49:12 [DEBUG] findfont: score(FontEntry(fname='C:\\\\Windows\\\\Fonts\\\\CALISTBI.TTF', name='Calisto MT', style='italic', variant='normal', weight=700, stretch='normal', size='scalable')) = 11.335\n",
      "24-04-27 13:49:12 [DEBUG] findfont: score(FontEntry(fname='C:\\\\Windows\\\\Fonts\\\\corbeli.ttf', name='Corbel', style='italic', variant='normal', weight=400, stretch='normal', size='scalable')) = 11.05\n",
      "24-04-27 13:49:12 [DEBUG] findfont: score(FontEntry(fname='C:\\\\Windows\\\\Fonts\\\\msgothic.ttc', name='MS Gothic', style='normal', variant='normal', weight=400, stretch='normal', size='scalable')) = 10.05\n",
      "24-04-27 13:49:12 [DEBUG] findfont: score(FontEntry(fname='C:\\\\Windows\\\\Fonts\\\\georgiai.ttf', name='Georgia', style='italic', variant='normal', weight=400, stretch='normal', size='scalable')) = 11.05\n",
      "24-04-27 13:49:12 [DEBUG] findfont: score(FontEntry(fname='C:\\\\Windows\\\\Fonts\\\\SegUIVar.ttf', name='Segoe UI Variable', style='normal', variant='normal', weight=400, stretch='normal', size='scalable')) = 10.05\n",
      "24-04-27 13:49:12 [DEBUG] findfont: score(FontEntry(fname='C:\\\\Windows\\\\Fonts\\\\l_10646.ttf', name='Lucida Sans Unicode', style='normal', variant='normal', weight=400, stretch='normal', size='scalable')) = 10.05\n",
      "24-04-27 13:49:12 [DEBUG] findfont: score(FontEntry(fname='C:\\\\Windows\\\\Fonts\\\\GILB____.TTF', name='Gill Sans MT', style='normal', variant='normal', weight=700, stretch='normal', size='scalable')) = 10.335\n",
      "24-04-27 13:49:12 [DEBUG] findfont: score(FontEntry(fname='C:\\\\Windows\\\\Fonts\\\\cambriaz.ttf', name='Cambria', style='italic', variant='normal', weight=700, stretch='normal', size='scalable')) = 11.335\n",
      "24-04-27 13:49:12 [DEBUG] findfont: score(FontEntry(fname='C:\\\\Windows\\\\Fonts\\\\msyhl.ttc', name='Microsoft YaHei', style='normal', variant='normal', weight=290, stretch='normal', size='scalable')) = 10.1545\n",
      "24-04-27 13:49:12 [DEBUG] findfont: score(FontEntry(fname='C:\\\\Windows\\\\Fonts\\\\Candara.ttf', name='Candara', style='normal', variant='normal', weight=400, stretch='normal', size='scalable')) = 10.05\n",
      "24-04-27 13:49:12 [DEBUG] findfont: score(FontEntry(fname='C:\\\\Windows\\\\Fonts\\\\Inkfree.ttf', name='Ink Free', style='normal', variant='normal', weight=400, stretch='normal', size='scalable')) = 10.05\n",
      "24-04-27 13:49:12 [DEBUG] findfont: score(FontEntry(fname='C:\\\\Windows\\\\Fonts\\\\TCBI____.TTF', name='Tw Cen MT', style='italic', variant='normal', weight=700, stretch='normal', size='scalable')) = 11.335\n",
      "24-04-27 13:49:12 [DEBUG] findfont: score(FontEntry(fname='C:\\\\Windows\\\\Fonts\\\\AGENCYB.TTF', name='Agency FB', style='normal', variant='normal', weight=700, stretch='normal', size='scalable')) = 10.335\n",
      "24-04-27 13:49:12 [DEBUG] findfont: score(FontEntry(fname='C:\\\\Windows\\\\Fonts\\\\BELLI.TTF', name='Bell MT', style='italic', variant='normal', weight=400, stretch='normal', size='scalable')) = 11.05\n",
      "24-04-27 13:49:12 [DEBUG] findfont: score(FontEntry(fname='C:\\\\Windows\\\\Fonts\\\\LFAX.TTF', name='Lucida Fax', style='normal', variant='normal', weight=400, stretch='normal', size='scalable')) = 10.05\n",
      "24-04-27 13:49:12 [DEBUG] findfont: score(FontEntry(fname='C:\\\\Windows\\\\Fonts\\\\GLSNECB.TTF', name='Gill Sans MT Ext Condensed Bold', style='normal', variant='normal', weight=400, stretch='condensed', size='scalable')) = 10.25\n",
      "24-04-27 13:49:12 [DEBUG] findfont: score(FontEntry(fname='C:\\\\Windows\\\\Fonts\\\\ELEPHNT.TTF', name='Elephant', style='normal', variant='normal', weight=400, stretch='normal', size='scalable')) = 10.05\n",
      "24-04-27 13:49:12 [DEBUG] findfont: score(FontEntry(fname='C:\\\\Windows\\\\Fonts\\\\ANTQUAI.TTF', name='Book Antiqua', style='italic', variant='normal', weight=400, stretch='normal', size='scalable')) = 11.05\n",
      "24-04-27 13:49:12 [DEBUG] findfont: score(FontEntry(fname='C:\\\\Windows\\\\Fonts\\\\segoeuisl.ttf', name='Segoe UI', style='normal', variant='normal', weight=350, stretch='normal', size='scalable')) = 10.0975\n",
      "24-04-27 13:49:12 [DEBUG] findfont: score(FontEntry(fname='C:\\\\Windows\\\\Fonts\\\\palai.ttf', name='Palatino Linotype', style='italic', variant='normal', weight=400, stretch='normal', size='scalable')) = 11.05\n",
      "24-04-27 13:49:12 [DEBUG] findfont: score(FontEntry(fname='C:\\\\Windows\\\\Fonts\\\\calibriz.ttf', name='Calibri', style='italic', variant='normal', weight=700, stretch='normal', size='scalable')) = 11.335\n",
      "24-04-27 13:49:12 [DEBUG] findfont: score(FontEntry(fname='C:\\\\Windows\\\\Fonts\\\\PERB____.TTF', name='Perpetua', style='normal', variant='normal', weight=700, stretch='normal', size='scalable')) = 10.335\n",
      "24-04-27 13:49:12 [DEBUG] findfont: score(FontEntry(fname='C:\\\\Windows\\\\Fonts\\\\BRITANIC.TTF', name='Britannic Bold', style='normal', variant='normal', weight=400, stretch='normal', size='scalable')) = 10.05\n",
      "24-04-27 13:49:12 [DEBUG] findfont: score(FontEntry(fname='C:\\\\Windows\\\\Fonts\\\\taile.ttf', name='Microsoft Tai Le', style='normal', variant='normal', weight=400, stretch='normal', size='scalable')) = 10.05\n",
      "24-04-27 13:49:12 [DEBUG] findfont: score(FontEntry(fname='C:\\\\Windows\\\\Fonts\\\\FRADM.TTF', name='Franklin Gothic Demi', style='normal', variant='normal', weight=400, stretch='normal', size='scalable')) = 10.05\n",
      "24-04-27 13:49:12 [DEBUG] findfont: score(FontEntry(fname='C:\\\\Windows\\\\Fonts\\\\comici.ttf', name='Comic Sans MS', style='italic', variant='normal', weight=400, stretch='normal', size='scalable')) = 11.05\n",
      "24-04-27 13:49:12 [DEBUG] findfont: score(FontEntry(fname='C:\\\\Windows\\\\Fonts\\\\BOD_CBI.TTF', name='Bodoni MT', style='italic', variant='normal', weight=700, stretch='condensed', size='scalable')) = 11.535\n",
      "24-04-27 13:49:12 [DEBUG] findfont: score(FontEntry(fname='C:\\\\Windows\\\\Fonts\\\\ONYX.TTF', name='Onyx', style='normal', variant='normal', weight=400, stretch='normal', size='scalable')) = 10.05\n",
      "24-04-27 13:49:12 [DEBUG] findfont: score(FontEntry(fname='C:\\\\Windows\\\\Fonts\\\\TCB_____.TTF', name='Tw Cen MT', style='normal', variant='normal', weight=700, stretch='normal', size='scalable')) = 10.335\n",
      "24-04-27 13:49:12 [DEBUG] findfont: score(FontEntry(fname='C:\\\\Windows\\\\Fonts\\\\cambria.ttc', name='Cambria', style='normal', variant='normal', weight=400, stretch='normal', size='scalable')) = 10.05\n",
      "24-04-27 13:49:12 [DEBUG] findfont: score(FontEntry(fname='C:\\\\Windows\\\\Fonts\\\\gadugib.ttf', name='Gadugi', style='normal', variant='normal', weight=700, stretch='normal', size='scalable')) = 10.335\n",
      "24-04-27 13:49:12 [DEBUG] findfont: score(FontEntry(fname='C:\\\\Windows\\\\Fonts\\\\CHILLER.TTF', name='Chiller', style='normal', variant='normal', weight=400, stretch='normal', size='scalable')) = 10.05\n",
      "24-04-27 13:49:12 [DEBUG] findfont: score(FontEntry(fname='C:\\\\Windows\\\\Fonts\\\\SCHLBKI.TTF', name='Century Schoolbook', style='italic', variant='normal', weight=400, stretch='normal', size='scalable')) = 11.05\n",
      "24-04-27 13:49:12 [DEBUG] findfont: score(FontEntry(fname='C:\\\\Windows\\\\Fonts\\\\BOD_I.TTF', name='Bodoni MT', style='italic', variant='normal', weight=400, stretch='normal', size='scalable')) = 11.05\n",
      "24-04-27 13:49:12 [DEBUG] findfont: score(FontEntry(fname='C:\\\\Windows\\\\Fonts\\\\timesbd.ttf', name='Times New Roman', style='normal', variant='normal', weight=700, stretch='normal', size='scalable')) = 10.335\n",
      "24-04-27 13:49:12 [DEBUG] findfont: score(FontEntry(fname='C:\\\\Windows\\\\Fonts\\\\GILI____.TTF', name='Gill Sans MT', style='italic', variant='normal', weight=400, stretch='normal', size='scalable')) = 11.05\n",
      "24-04-27 13:49:12 [DEBUG] findfont: score(FontEntry(fname='C:\\\\Windows\\\\Fonts\\\\ANTQUABI.TTF', name='Book Antiqua', style='italic', variant='normal', weight=700, stretch='normal', size='scalable')) = 11.335\n",
      "24-04-27 13:49:12 [DEBUG] findfont: score(FontEntry(fname='C:\\\\Windows\\\\Fonts\\\\PERI____.TTF', name='Perpetua', style='italic', variant='normal', weight=400, stretch='normal', size='scalable')) = 11.05\n",
      "24-04-27 13:49:12 [DEBUG] findfont: score(FontEntry(fname='C:\\\\Windows\\\\Fonts\\\\LEELAWDB.TTF', name='Leelawadee', style='normal', variant='normal', weight=700, stretch='normal', size='scalable')) = 10.335\n",
      "24-04-27 13:49:12 [DEBUG] findfont: score(FontEntry(fname='C:\\\\Windows\\\\Fonts\\\\ITCEDSCR.TTF', name='Edwardian Script ITC', style='normal', variant='normal', weight=400, stretch='normal', size='scalable')) = 10.05\n",
      "24-04-27 13:49:12 [DEBUG] findfont: score(FontEntry(fname='C:\\\\Windows\\\\Fonts\\\\segoescb.ttf', name='Segoe Script', style='normal', variant='normal', weight=700, stretch='normal', size='scalable')) = 10.335\n",
      "24-04-27 13:49:12 [DEBUG] findfont: score(FontEntry(fname='C:\\\\Windows\\\\Fonts\\\\courbd.ttf', name='Courier New', style='normal', variant='normal', weight=700, stretch='normal', size='scalable')) = 10.335\n",
      "24-04-27 13:49:12 [DEBUG] findfont: score(FontEntry(fname='C:\\\\Windows\\\\Fonts\\\\Candarai.ttf', name='Candara', style='italic', variant='normal', weight=400, stretch='normal', size='scalable')) = 11.05\n",
      "24-04-27 13:49:12 [DEBUG] findfont: score(FontEntry(fname='C:\\\\Windows\\\\Fonts\\\\PERTILI.TTF', name='Perpetua Titling MT', style='normal', variant='normal', weight=300, stretch='normal', size='scalable')) = 10.145\n",
      "24-04-27 13:49:12 [DEBUG] findfont: score(FontEntry(fname='C:\\\\Windows\\\\Fonts\\\\GIL_____.TTF', name='Gill Sans MT', style='normal', variant='normal', weight=400, stretch='normal', size='scalable')) = 10.05\n",
      "24-04-27 13:49:12 [DEBUG] findfont: score(FontEntry(fname='C:\\\\Windows\\\\Fonts\\\\comicz.ttf', name='Comic Sans MS', style='italic', variant='normal', weight=700, stretch='normal', size='scalable')) = 11.335\n",
      "24-04-27 13:49:12 [DEBUG] findfont: score(FontEntry(fname='C:\\\\Windows\\\\Fonts\\\\PLAYBILL.TTF', name='Playbill', style='normal', variant='normal', weight=400, stretch='normal', size='scalable')) = 10.05\n",
      "24-04-27 13:49:12 [DEBUG] findfont: score(FontEntry(fname='C:\\\\Windows\\\\Fonts\\\\segoeuiz.ttf', name='Segoe UI', style='italic', variant='normal', weight=700, stretch='normal', size='scalable')) = 11.335\n",
      "24-04-27 13:49:12 [DEBUG] findfont: score(FontEntry(fname='C:\\\\Windows\\\\Fonts\\\\TEMPSITC.TTF', name='Tempus Sans ITC', style='normal', variant='normal', weight=400, stretch='normal', size='scalable')) = 10.05\n",
      "24-04-27 13:49:12 [DEBUG] findfont: score(FontEntry(fname='C:\\\\Windows\\\\Fonts\\\\FRABKIT.TTF', name='Franklin Gothic Book', style='italic', variant='normal', weight=400, stretch='normal', size='scalable')) = 11.05\n",
      "24-04-27 13:49:12 [DEBUG] findfont: score(FontEntry(fname='C:\\\\Windows\\\\Fonts\\\\BERNHC.TTF', name='Bernard MT Condensed', style='normal', variant='normal', weight=400, stretch='condensed', size='scalable')) = 10.25\n",
      "24-04-27 13:49:12 [DEBUG] findfont: score(FontEntry(fname='C:\\\\Windows\\\\Fonts\\\\couri.ttf', name='Courier New', style='italic', variant='normal', weight=400, stretch='normal', size='scalable')) = 11.05\n",
      "24-04-27 13:49:12 [DEBUG] findfont: score(FontEntry(fname='C:\\\\Windows\\\\Fonts\\\\ALGER.TTF', name='Algerian', style='normal', variant='normal', weight=400, stretch='normal', size='scalable')) = 10.05\n",
      "24-04-27 13:49:12 [DEBUG] findfont: score(FontEntry(fname='C:\\\\Windows\\\\Fonts\\\\BSSYM7.TTF', name='Bookshelf Symbol 7', style='normal', variant='normal', weight=400, stretch='normal', size='scalable')) = 10.05\n",
      "24-04-27 13:49:12 [DEBUG] findfont: score(FontEntry(fname='C:\\\\Windows\\\\Fonts\\\\JOKERMAN.TTF', name='Jokerman', style='normal', variant='normal', weight=400, stretch='normal', size='scalable')) = 10.05\n",
      "24-04-27 13:49:12 [DEBUG] findfont: score(FontEntry(fname='C:\\\\Windows\\\\Fonts\\\\VIVALDII.TTF', name='Vivaldi', style='italic', variant='normal', weight=400, stretch='normal', size='scalable')) = 11.05\n",
      "24-04-27 13:49:12 [DEBUG] findfont: score(FontEntry(fname='C:\\\\Windows\\\\Fonts\\\\ELEPHNTI.TTF', name='Elephant', style='italic', variant='normal', weight=400, stretch='normal', size='scalable')) = 11.05\n",
      "24-04-27 13:49:12 [DEBUG] findfont: score(FontEntry(fname='C:\\\\Windows\\\\Fonts\\\\LCALLIG.TTF', name='Lucida Calligraphy', style='italic', variant='normal', weight=400, stretch='normal', size='scalable')) = 11.05\n",
      "24-04-27 13:49:12 [DEBUG] findfont: score(FontEntry(fname='C:\\\\Windows\\\\Fonts\\\\OCRAEXT.TTF', name='OCR A Extended', style='normal', variant='normal', weight=400, stretch='expanded', size='scalable')) = 10.25\n",
      "24-04-27 13:49:12 [DEBUG] findfont: score(FontEntry(fname='C:\\\\Windows\\\\Fonts\\\\georgia.ttf', name='Georgia', style='normal', variant='normal', weight=400, stretch='normal', size='scalable')) = 10.05\n",
      "24-04-27 13:49:12 [DEBUG] findfont: score(FontEntry(fname='C:\\\\Windows\\\\Fonts\\\\TCCB____.TTF', name='Tw Cen MT Condensed', style='normal', variant='normal', weight=700, stretch='condensed', size='scalable')) = 10.535\n",
      "24-04-27 13:49:12 [DEBUG] findfont: score(FontEntry(fname='C:\\\\Windows\\\\Fonts\\\\STENCIL.TTF', name='Stencil', style='normal', variant='normal', weight=400, stretch='normal', size='scalable')) = 10.05\n",
      "24-04-27 13:49:12 [DEBUG] findfont: score(FontEntry(fname='C:\\\\Windows\\\\Fonts\\\\CALIFR.TTF', name='Californian FB', style='normal', variant='normal', weight=400, stretch='normal', size='scalable')) = 10.05\n",
      "24-04-27 13:49:12 [DEBUG] findfont: score(FontEntry(fname='C:\\\\Windows\\\\Fonts\\\\Nirmala.ttf', name='Nirmala UI', style='normal', variant='normal', weight=400, stretch='normal', size='scalable')) = 10.05\n",
      "24-04-27 13:49:12 [DEBUG] findfont: score(FontEntry(fname='C:\\\\Windows\\\\Fonts\\\\ERASBD.TTF', name='Eras Bold ITC', style='normal', variant='normal', weight=400, stretch='normal', size='scalable')) = 10.05\n",
      "24-04-27 13:49:12 [DEBUG] findfont: score(FontEntry(fname='C:\\\\Windows\\\\Fonts\\\\VINERITC.TTF', name='Viner Hand ITC', style='normal', variant='normal', weight=400, stretch='normal', size='scalable')) = 10.05\n",
      "24-04-27 13:49:12 [DEBUG] findfont: score(FontEntry(fname='C:\\\\Windows\\\\Fonts\\\\BELLB.TTF', name='Bell MT', style='normal', variant='normal', weight=700, stretch='normal', size='scalable')) = 10.335\n",
      "24-04-27 13:49:12 [DEBUG] findfont: score(FontEntry(fname='C:\\\\Windows\\\\Fonts\\\\NirmalaS.ttf', name='Nirmala UI', style='normal', variant='normal', weight=350, stretch='normal', size='scalable')) = 10.0975\n",
      "24-04-27 13:49:12 [DEBUG] findfont: score(FontEntry(fname='C:\\\\Windows\\\\Fonts\\\\georgiaz.ttf', name='Georgia', style='italic', variant='normal', weight=700, stretch='normal', size='scalable')) = 11.335\n",
      "24-04-27 13:49:12 [DEBUG] findfont: score(FontEntry(fname='C:\\\\Windows\\\\Fonts\\\\ROCKB.TTF', name='Rockwell', style='normal', variant='normal', weight=700, stretch='normal', size='scalable')) = 10.335\n",
      "24-04-27 13:49:12 [DEBUG] findfont: score(FontEntry(fname='C:\\\\Windows\\\\Fonts\\\\framd.ttf', name='Franklin Gothic Medium', style='normal', variant='normal', weight=400, stretch='normal', size='scalable')) = 10.05\n",
      "24-04-27 13:49:12 [DEBUG] findfont: score(FontEntry(fname='C:\\\\Windows\\\\Fonts\\\\REFSPCL.TTF', name='MS Reference Specialty', style='normal', variant='normal', weight=400, stretch='normal', size='scalable')) = 10.05\n",
      "24-04-27 13:49:12 [DEBUG] findfont: score(FontEntry(fname='C:\\\\Windows\\\\Fonts\\\\verdanai.ttf', name='Verdana', style='italic', variant='normal', weight=400, stretch='normal', size='scalable')) = 4.6863636363636365\n",
      "24-04-27 13:49:12 [DEBUG] findfont: score(FontEntry(fname='C:\\\\Windows\\\\Fonts\\\\REFSAN.TTF', name='MS Reference Sans Serif', style='normal', variant='normal', weight=400, stretch='normal', size='scalable')) = 10.05\n",
      "24-04-27 13:49:12 [DEBUG] findfont: score(FontEntry(fname='C:\\\\Windows\\\\Fonts\\\\CALIFB.TTF', name='Californian FB', style='normal', variant='normal', weight=700, stretch='normal', size='scalable')) = 10.335\n",
      "24-04-27 13:49:12 [DEBUG] findfont: score(FontEntry(fname='C:\\\\Windows\\\\Fonts\\\\LeelUIsl.ttf', name='Leelawadee UI', style='normal', variant='normal', weight=350, stretch='normal', size='scalable')) = 10.0975\n",
      "24-04-27 13:49:12 [DEBUG] findfont: score(FontEntry(fname='C:\\\\Windows\\\\Fonts\\\\CENTAUR.TTF', name='Centaur', style='normal', variant='normal', weight=400, stretch='normal', size='scalable')) = 10.05\n",
      "24-04-27 13:49:12 [DEBUG] findfont: score(FontEntry(fname='C:\\\\Windows\\\\Fonts\\\\LFAXD.TTF', name='Lucida Fax', style='normal', variant='normal', weight=600, stretch='normal', size='scalable')) = 10.24\n",
      "24-04-27 13:49:12 [DEBUG] findfont: score(FontEntry(fname='C:\\\\Windows\\\\Fonts\\\\MSUIGHUB.TTF', name='Microsoft Uighur', style='normal', variant='normal', weight=700, stretch='normal', size='scalable')) = 10.335\n",
      "24-04-27 13:49:12 [DEBUG] findfont: score(FontEntry(fname='C:\\\\Windows\\\\Fonts\\\\ariblk.ttf', name='Arial', style='normal', variant='normal', weight=900, stretch='normal', size='scalable')) = 6.888636363636364\n",
      "24-04-27 13:49:12 [DEBUG] findfont: score(FontEntry(fname='C:\\\\Windows\\\\Fonts\\\\RAGE.TTF', name='Rage Italic', style='italic', variant='normal', weight=400, stretch='normal', size='scalable')) = 11.05\n",
      "24-04-27 13:49:12 [DEBUG] findfont: score(FontEntry(fname='C:\\\\Windows\\\\Fonts\\\\himalaya.ttf', name='Microsoft Himalaya', style='normal', variant='normal', weight=400, stretch='normal', size='scalable')) = 10.05\n",
      "24-04-27 13:49:12 [DEBUG] findfont: score(FontEntry(fname='C:\\\\Windows\\\\Fonts\\\\seguisli.ttf', name='Segoe UI', style='italic', variant='normal', weight=350, stretch='normal', size='scalable')) = 11.0975\n",
      "24-04-27 13:49:12 [DEBUG] findfont: score(FontEntry(fname='C:\\\\Windows\\\\Fonts\\\\PERBI___.TTF', name='Perpetua', style='italic', variant='normal', weight=700, stretch='normal', size='scalable')) = 11.335\n",
      "24-04-27 13:49:12 [DEBUG] findfont: score(FontEntry(fname='C:\\\\Windows\\\\Fonts\\\\ntailub.ttf', name='Microsoft New Tai Lue', style='normal', variant='normal', weight=700, stretch='normal', size='scalable')) = 10.335\n",
      "24-04-27 13:49:12 [DEBUG] findfont: score(FontEntry(fname='C:\\\\Windows\\\\Fonts\\\\PAPYRUS.TTF', name='Papyrus', style='normal', variant='normal', weight=400, stretch='normal', size='scalable')) = 10.05\n",
      "24-04-27 13:49:12 [DEBUG] findfont: score(FontEntry(fname='C:\\\\Windows\\\\Fonts\\\\impact.ttf', name='Impact', style='normal', variant='normal', weight=400, stretch='normal', size='scalable')) = 10.05\n",
      "24-04-27 13:49:12 [DEBUG] findfont: score(FontEntry(fname='C:\\\\Windows\\\\Fonts\\\\CALIFI.TTF', name='Californian FB', style='italic', variant='normal', weight=400, stretch='normal', size='scalable')) = 11.05\n",
      "24-04-27 13:49:12 [DEBUG] findfont: score(FontEntry(fname='C:\\\\Windows\\\\Fonts\\\\CURLZ___.TTF', name='Curlz MT', style='normal', variant='normal', weight=400, stretch='normal', size='scalable')) = 10.05\n",
      "24-04-27 13:49:12 [DEBUG] findfont: score(FontEntry(fname='C:\\\\Windows\\\\Fonts\\\\msjhl.ttc', name='Microsoft JhengHei', style='normal', variant='normal', weight=290, stretch='normal', size='scalable')) = 10.1545\n",
      "24-04-27 13:49:12 [DEBUG] findfont: score(FontEntry(fname='C:\\\\Windows\\\\Fonts\\\\consola.ttf', name='Consolas', style='normal', variant='normal', weight=400, stretch='normal', size='scalable')) = 10.05\n",
      "24-04-27 13:49:12 [DEBUG] findfont: score(FontEntry(fname='C:\\\\Windows\\\\Fonts\\\\COPRGTB.TTF', name='Copperplate Gothic Bold', style='normal', variant='normal', weight=400, stretch='normal', size='scalable')) = 10.05\n",
      "24-04-27 13:49:12 [DEBUG] findfont: score(FontEntry(fname='C:\\\\Windows\\\\Fonts\\\\NIAGENG.TTF', name='Niagara Engraved', style='normal', variant='normal', weight=400, stretch='normal', size='scalable')) = 10.05\n",
      "24-04-27 13:49:12 [DEBUG] findfont: score(FontEntry(fname='C:\\\\Windows\\\\Fonts\\\\MAIAN.TTF', name='Maiandra GD', style='normal', variant='normal', weight=400, stretch='normal', size='scalable')) = 10.05\n",
      "24-04-27 13:49:12 [DEBUG] findfont: score(FontEntry(fname='C:\\\\Windows\\\\Fonts\\\\BRLNSB.TTF', name='Berlin Sans FB', style='normal', variant='normal', weight=700, stretch='normal', size='scalable')) = 10.335\n",
      "24-04-27 13:49:12 [DEBUG] findfont: score(FontEntry(fname='C:\\\\Windows\\\\Fonts\\\\LBRITEI.TTF', name='Lucida Bright', style='italic', variant='normal', weight=400, stretch='normal', size='scalable')) = 11.05\n",
      "24-04-27 13:49:12 [DEBUG] findfont: score(FontEntry(fname='C:\\\\Windows\\\\Fonts\\\\micross.ttf', name='Microsoft Sans Serif', style='normal', variant='normal', weight=400, stretch='normal', size='scalable')) = 10.05\n",
      "24-04-27 13:49:12 [DEBUG] findfont: score(FontEntry(fname='C:\\\\Windows\\\\Fonts\\\\COPRGTL.TTF', name='Copperplate Gothic Light', style='normal', variant='normal', weight=400, stretch='normal', size='scalable')) = 10.05\n",
      "24-04-27 13:49:12 [DEBUG] findfont: score(FontEntry(fname='C:\\\\Windows\\\\Fonts\\\\BRLNSDB.TTF', name='Berlin Sans FB Demi', style='normal', variant='normal', weight=700, stretch='normal', size='scalable')) = 10.335\n",
      "24-04-27 13:49:12 [DEBUG] findfont: score(FontEntry(fname='C:\\\\Windows\\\\Fonts\\\\CALISTB.TTF', name='Calisto MT', style='normal', variant='normal', weight=700, stretch='normal', size='scalable')) = 10.335\n",
      "24-04-27 13:49:12 [DEBUG] findfont: score(FontEntry(fname='C:\\\\Windows\\\\Fonts\\\\LSANSI.TTF', name='Lucida Sans', style='italic', variant='normal', weight=400, stretch='normal', size='scalable')) = 11.05\n",
      "24-04-27 13:49:12 [DEBUG] findfont: score(FontEntry(fname='C:\\\\Windows\\\\Fonts\\\\BOD_BI.TTF', name='Bodoni MT', style='italic', variant='normal', weight=700, stretch='normal', size='scalable')) = 11.335\n",
      "24-04-27 13:49:12 [DEBUG] findfont: score(FontEntry(fname='C:\\\\Windows\\\\Fonts\\\\BRADHITC.TTF', name='Bradley Hand ITC', style='normal', variant='normal', weight=400, stretch='normal', size='scalable')) = 10.05\n",
      "24-04-27 13:49:12 [DEBUG] findfont: score(FontEntry(fname='C:\\\\Windows\\\\Fonts\\\\mingliub.ttc', name='MingLiU-ExtB', style='normal', variant='normal', weight=400, stretch='normal', size='scalable')) = 10.05\n",
      "24-04-27 13:49:12 [DEBUG] findfont: score(FontEntry(fname='C:\\\\Windows\\\\Fonts\\\\lucon.ttf', name='Lucida Console', style='normal', variant='normal', weight=400, stretch='normal', size='scalable')) = 10.05\n",
      "24-04-27 13:49:12 [DEBUG] findfont: score(FontEntry(fname='C:\\\\Windows\\\\Fonts\\\\BOOKOSB.TTF', name='Bookman Old Style', style='normal', variant='normal', weight=600, stretch='normal', size='scalable')) = 10.24\n",
      "24-04-27 13:49:12 [DEBUG] findfont: score(FontEntry(fname='C:\\\\Windows\\\\Fonts\\\\FRADMCN.TTF', name='Franklin Gothic Demi Cond', style='normal', variant='normal', weight=400, stretch='condensed', size='scalable')) = 10.25\n",
      "24-04-27 13:49:12 [DEBUG] findfont: score(FontEntry(fname='C:\\\\Windows\\\\Fonts\\\\holomdl2.ttf', name='HoloLens MDL2 Assets', style='normal', variant='normal', weight=400, stretch='normal', size='scalable')) = 10.05\n",
      "24-04-27 13:49:12 [DEBUG] findfont: score(FontEntry(fname='C:\\\\Windows\\\\Fonts\\\\LBRITED.TTF', name='Lucida Bright', style='normal', variant='normal', weight=600, stretch='normal', size='scalable')) = 10.24\n",
      "24-04-27 13:49:12 [DEBUG] findfont: score(FontEntry(fname='C:\\\\Windows\\\\Fonts\\\\LFAXI.TTF', name='Lucida Fax', style='italic', variant='normal', weight=400, stretch='normal', size='scalable')) = 11.05\n",
      "24-04-27 13:49:12 [DEBUG] findfont: score(FontEntry(fname='C:\\\\Windows\\\\Fonts\\\\PERTIBD.TTF', name='Perpetua Titling MT', style='normal', variant='normal', weight=700, stretch='normal', size='scalable')) = 10.335\n",
      "24-04-27 13:49:12 [DEBUG] findfont: score(FontEntry(fname='C:\\\\Windows\\\\Fonts\\\\BELL.TTF', name='Bell MT', style='normal', variant='normal', weight=400, stretch='normal', size='scalable')) = 10.05\n",
      "24-04-27 13:49:12 [DEBUG] findfont: score(FontEntry(fname='C:\\\\Windows\\\\Fonts\\\\ARLRDBD.TTF', name='Arial Rounded MT Bold', style='normal', variant='normal', weight=400, stretch='normal', size='scalable')) = 10.05\n",
      "24-04-27 13:49:12 [DEBUG] findfont: score(FontEntry(fname='C:\\\\Windows\\\\Fonts\\\\FRABK.TTF', name='Franklin Gothic Book', style='normal', variant='normal', weight=400, stretch='normal', size='scalable')) = 10.05\n",
      "24-04-27 13:49:12 [DEBUG] findfont: score(FontEntry(fname='C:\\\\Windows\\\\Fonts\\\\Candaraz.ttf', name='Candara', style='italic', variant='normal', weight=700, stretch='normal', size='scalable')) = 11.335\n",
      "24-04-27 13:49:12 [DEBUG] findfont: score(FontEntry(fname='C:\\\\Windows\\\\Fonts\\\\HTOWERT.TTF', name='High Tower Text', style='normal', variant='normal', weight=400, stretch='normal', size='scalable')) = 10.05\n",
      "24-04-27 13:49:12 [DEBUG] findfont: score(FontEntry(fname='C:\\\\Windows\\\\Fonts\\\\MSUIGHUR.TTF', name='Microsoft Uighur', style='normal', variant='normal', weight=400, stretch='normal', size='scalable')) = 10.05\n",
      "24-04-27 13:49:12 [DEBUG] findfont: score(FontEntry(fname='C:\\\\Windows\\\\Fonts\\\\POORICH.TTF', name='Poor Richard', style='normal', variant='normal', weight=400, stretch='normal', size='scalable')) = 10.05\n",
      "24-04-27 13:49:12 [DEBUG] findfont: score(FontEntry(fname='C:\\\\Windows\\\\Fonts\\\\ERASDEMI.TTF', name='Eras Demi ITC', style='normal', variant='normal', weight=400, stretch='normal', size='scalable')) = 10.05\n",
      "24-04-27 13:49:12 [DEBUG] findfont: score(FontEntry(fname='C:\\\\Windows\\\\Fonts\\\\ROCKI.TTF', name='Rockwell', style='italic', variant='normal', weight=400, stretch='normal', size='scalable')) = 11.05\n",
      "24-04-27 13:49:12 [DEBUG] findfont: score(FontEntry(fname='C:\\\\Windows\\\\Fonts\\\\cour.ttf', name='Courier New', style='normal', variant='normal', weight=400, stretch='normal', size='scalable')) = 10.05\n",
      "24-04-27 13:49:12 [DEBUG] findfont: score(FontEntry(fname='C:\\\\Windows\\\\Fonts\\\\tahoma.ttf', name='Tahoma', style='normal', variant='normal', weight=400, stretch='normal', size='scalable')) = 10.05\n",
      "24-04-27 13:49:12 [DEBUG] findfont: score(FontEntry(fname='C:\\\\Windows\\\\Fonts\\\\ENGR.TTF', name='Engravers MT', style='normal', variant='normal', weight=500, stretch='normal', size='scalable')) = 10.145\n",
      "24-04-27 13:49:12 [DEBUG] findfont: score(FontEntry(fname='C:\\\\Windows\\\\Fonts\\\\framdit.ttf', name='Franklin Gothic Medium', style='italic', variant='normal', weight=400, stretch='normal', size='scalable')) = 11.05\n",
      "24-04-27 13:49:12 [DEBUG] findfont: score(FontEntry(fname='C:\\\\Windows\\\\Fonts\\\\BOD_R.TTF', name='Bodoni MT', style='normal', variant='normal', weight=400, stretch='normal', size='scalable')) = 10.05\n",
      "24-04-27 13:49:12 [DEBUG] findfont: score(FontEntry(fname='C:\\\\Windows\\\\Fonts\\\\BOD_CB.TTF', name='Bodoni MT', style='normal', variant='normal', weight=700, stretch='condensed', size='scalable')) = 10.535\n",
      "24-04-27 13:49:12 [DEBUG] findfont: score(FontEntry(fname='C:\\\\Windows\\\\Fonts\\\\WINGDNG2.TTF', name='Wingdings 2', style='normal', variant='normal', weight=400, stretch='normal', size='scalable')) = 10.05\n",
      "24-04-27 13:49:12 [DEBUG] findfont: score(FontEntry(fname='C:\\\\Windows\\\\Fonts\\\\TCCEB.TTF', name='Tw Cen MT Condensed Extra Bold', style='normal', variant='normal', weight=400, stretch='condensed', size='scalable')) = 10.25\n",
      "24-04-27 13:49:12 [DEBUG] findfont: score(FontEntry(fname='C:\\\\Windows\\\\Fonts\\\\gadugi.ttf', name='Gadugi', style='normal', variant='normal', weight=400, stretch='normal', size='scalable')) = 10.05\n",
      "24-04-27 13:49:12 [DEBUG] findfont: score(FontEntry(fname='C:\\\\Windows\\\\Fonts\\\\NirmalaB.ttf', name='Nirmala UI', style='normal', variant='normal', weight=700, stretch='normal', size='scalable')) = 10.335\n",
      "24-04-27 13:49:12 [DEBUG] findfont: score(FontEntry(fname='C:\\\\Windows\\\\Fonts\\\\PER_____.TTF', name='Perpetua', style='normal', variant='normal', weight=400, stretch='normal', size='scalable')) = 10.05\n",
      "24-04-27 13:49:12 [DEBUG] findfont: score(FontEntry(fname='C:\\\\Windows\\\\Fonts\\\\BOOKOSBI.TTF', name='Bookman Old Style', style='italic', variant='normal', weight=600, stretch='normal', size='scalable')) = 11.24\n",
      "24-04-27 13:49:12 [DEBUG] findfont: score(FontEntry(fname='C:\\\\Windows\\\\Fonts\\\\consolab.ttf', name='Consolas', style='normal', variant='normal', weight=700, stretch='normal', size='scalable')) = 10.335\n",
      "24-04-27 13:49:12 [DEBUG] findfont: score(FontEntry(fname='C:\\\\Windows\\\\Fonts\\\\IMPRISHA.TTF', name='Imprint MT Shadow', style='normal', variant='normal', weight=400, stretch='normal', size='scalable')) = 10.05\n",
      "24-04-27 13:49:12 [DEBUG] findfont: score(FontEntry(fname='C:\\\\Windows\\\\Fonts\\\\BRLNSR.TTF', name='Berlin Sans FB', style='normal', variant='normal', weight=400, stretch='normal', size='scalable')) = 10.05\n",
      "24-04-27 13:49:12 [DEBUG] findfont: score(FontEntry(fname='C:\\\\Windows\\\\Fonts\\\\calibrili.ttf', name='Calibri', style='italic', variant='normal', weight=300, stretch='normal', size='scalable')) = 11.145\n",
      "24-04-27 13:49:12 [DEBUG] findfont: score(FontEntry(fname='C:\\\\Windows\\\\Fonts\\\\calibrib.ttf', name='Calibri', style='normal', variant='normal', weight=700, stretch='normal', size='scalable')) = 10.335\n",
      "24-04-27 13:49:12 [DEBUG] findfont: score(FontEntry(fname='C:\\\\Windows\\\\Fonts\\\\OLDENGL.TTF', name='Old English Text MT', style='normal', variant='normal', weight=400, stretch='normal', size='scalable')) = 10.05\n",
      "24-04-27 13:49:12 [DEBUG] findfont: score(FontEntry(fname='C:\\\\Windows\\\\Fonts\\\\palabi.ttf', name='Palatino Linotype', style='italic', variant='normal', weight=700, stretch='normal', size='scalable')) = 11.335\n",
      "24-04-27 13:49:12 [DEBUG] findfont: score(FontEntry(fname='C:\\\\Windows\\\\Fonts\\\\seguisym.ttf', name='Segoe UI Symbol', style='normal', variant='normal', weight=400, stretch='normal', size='scalable')) = 10.05\n",
      "24-04-27 13:49:12 [DEBUG] findfont: score(FontEntry(fname='C:\\\\Windows\\\\Fonts\\\\trebucbi.ttf', name='Trebuchet MS', style='italic', variant='normal', weight=700, stretch='normal', size='scalable')) = 11.335\n",
      "24-04-27 13:49:12 [DEBUG] findfont: score(FontEntry(fname='C:\\\\Windows\\\\Fonts\\\\SegoeIcons.ttf', name='Segoe Fluent Icons', style='normal', variant='normal', weight=400, stretch='normal', size='scalable')) = 10.05\n",
      "24-04-27 13:49:12 [DEBUG] findfont: score(FontEntry(fname='C:\\\\Windows\\\\Fonts\\\\palab.ttf', name='Palatino Linotype', style='normal', variant='normal', weight=700, stretch='normal', size='scalable')) = 10.335\n",
      "24-04-27 13:49:12 [DEBUG] findfont: score(FontEntry(fname='C:\\\\Windows\\\\Fonts\\\\mmrtextb.ttf', name='Myanmar Text', style='normal', variant='normal', weight=700, stretch='normal', size='scalable')) = 10.335\n",
      "24-04-27 13:49:12 [DEBUG] findfont: score(FontEntry(fname='C:\\\\Windows\\\\Fonts\\\\times.ttf', name='Times New Roman', style='normal', variant='normal', weight=400, stretch='normal', size='scalable')) = 10.05\n",
      "24-04-27 13:49:12 [DEBUG] findfont: score(FontEntry(fname='C:\\\\Windows\\\\Fonts\\\\verdana.ttf', name='Verdana', style='normal', variant='normal', weight=400, stretch='normal', size='scalable')) = 3.6863636363636365\n",
      "24-04-27 13:49:12 [DEBUG] findfont: score(FontEntry(fname='C:\\\\Windows\\\\Fonts\\\\consolaz.ttf', name='Consolas', style='italic', variant='normal', weight=700, stretch='normal', size='scalable')) = 11.335\n",
      "24-04-27 13:49:12 [DEBUG] findfont: score(FontEntry(fname='C:\\\\Windows\\\\Fonts\\\\TCMI____.TTF', name='Tw Cen MT', style='italic', variant='normal', weight=400, stretch='normal', size='scalable')) = 11.05\n",
      "24-04-27 13:49:12 [DEBUG] findfont: score(FontEntry(fname='C:\\\\Windows\\\\Fonts\\\\ITCKRIST.TTF', name='Kristen ITC', style='normal', variant='normal', weight=400, stretch='normal', size='scalable')) = 10.05\n",
      "24-04-27 13:49:12 [DEBUG] findfont: score(FontEntry(fname='C:\\\\Windows\\\\Fonts\\\\GOTHICBI.TTF', name='Century Gothic', style='italic', variant='normal', weight=700, stretch='normal', size='scalable')) = 11.335\n",
      "24-04-27 13:49:12 [DEBUG] findfont: score(FontEntry(fname='C:\\\\Windows\\\\Fonts\\\\SCRIPTBL.TTF', name='Script MT Bold', style='normal', variant='normal', weight=700, stretch='normal', size='scalable')) = 10.335\n",
      "24-04-27 13:49:12 [DEBUG] findfont: score(FontEntry(fname='C:\\\\Windows\\\\Fonts\\\\ebrimabd.ttf', name='Ebrima', style='normal', variant='normal', weight=700, stretch='normal', size='scalable')) = 10.335\n",
      "24-04-27 13:49:12 [DEBUG] findfont: score(FontEntry(fname='C:\\\\Windows\\\\Fonts\\\\ERASMD.TTF', name='Eras Medium ITC', style='normal', variant='normal', weight=400, stretch='normal', size='scalable')) = 10.05\n",
      "24-04-27 13:49:12 [DEBUG] findfont: score(FontEntry(fname='C:\\\\Windows\\\\Fonts\\\\simsunb.ttf', name='SimSun-ExtB', style='normal', variant='normal', weight=400, stretch='normal', size='scalable')) = 10.05\n",
      "24-04-27 13:49:12 [DEBUG] findfont: score(FontEntry(fname='C:\\\\Windows\\\\Fonts\\\\HARLOWSI.TTF', name='Harlow Solid Italic', style='italic', variant='normal', weight=400, stretch='normal', size='scalable')) = 11.05\n",
      "24-04-27 13:49:12 [DEBUG] findfont: score(FontEntry(fname='C:\\\\Windows\\\\Fonts\\\\GARAIT.TTF', name='Garamond', style='italic', variant='normal', weight=400, stretch='normal', size='scalable')) = 11.05\n",
      "24-04-27 13:49:12 [DEBUG] findfont: score(FontEntry(fname='C:\\\\Windows\\\\Fonts\\\\FRAHVIT.TTF', name='Franklin Gothic Heavy', style='italic', variant='normal', weight=400, stretch='normal', size='scalable')) = 11.05\n",
      "24-04-27 13:49:12 [DEBUG] findfont: score(FontEntry(fname='C:\\\\Windows\\\\Fonts\\\\malgun.ttf', name='Malgun Gothic', style='normal', variant='normal', weight=400, stretch='normal', size='scalable')) = 10.05\n",
      "24-04-27 13:49:12 [DEBUG] findfont: score(FontEntry(fname='C:\\\\Windows\\\\Fonts\\\\LTYPEBO.TTF', name='Lucida Sans Typewriter', style='oblique', variant='normal', weight=600, stretch='normal', size='scalable')) = 11.24\n",
      "24-04-27 13:49:12 [DEBUG] findfont: score(FontEntry(fname='C:\\\\Windows\\\\Fonts\\\\msjh.ttc', name='Microsoft JhengHei', style='normal', variant='normal', weight=400, stretch='normal', size='scalable')) = 10.05\n",
      "24-04-27 13:49:12 [DEBUG] findfont: score(FontEntry(fname='C:\\\\Windows\\\\Fonts\\\\DUBAI-LIGHT.TTF', name='Dubai', style='normal', variant='normal', weight=300, stretch='normal', size='scalable')) = 10.145\n",
      "24-04-27 13:49:12 [DEBUG] findfont: score(FontEntry(fname='C:\\\\Windows\\\\Fonts\\\\AGENCYR.TTF', name='Agency FB', style='normal', variant='normal', weight=400, stretch='normal', size='scalable')) = 10.05\n",
      "24-04-27 13:49:12 [DEBUG] findfont: score(FontEntry(fname='C:\\\\Windows\\\\Fonts\\\\HARNGTON.TTF', name='Harrington', style='normal', variant='normal', weight=400, stretch='normal', size='scalable')) = 10.05\n",
      "24-04-27 13:49:12 [DEBUG] findfont: score(FontEntry(fname='C:\\\\Windows\\\\Fonts\\\\ARIALNI.TTF', name='Arial', style='italic', variant='normal', weight=400, stretch='condensed', size='scalable')) = 7.613636363636363\n",
      "24-04-27 13:49:12 [DEBUG] findfont: score(FontEntry(fname='C:\\\\Windows\\\\Fonts\\\\BOOKOSI.TTF', name='Bookman Old Style', style='italic', variant='normal', weight=300, stretch='normal', size='scalable')) = 11.145\n",
      "24-04-27 13:49:12 [DEBUG] findfont: score(FontEntry(fname='C:\\\\Windows\\\\Fonts\\\\BROADW.TTF', name='Broadway', style='normal', variant='normal', weight=400, stretch='normal', size='scalable')) = 10.05\n",
      "24-04-27 13:49:12 [DEBUG] findfont: score(FontEntry(fname='C:\\\\Windows\\\\Fonts\\\\CASTELAR.TTF', name='Castellar', style='normal', variant='normal', weight=400, stretch='normal', size='scalable')) = 10.05\n",
      "24-04-27 13:49:12 [DEBUG] findfont: score(FontEntry(fname='C:\\\\Windows\\\\Fonts\\\\Gabriola.ttf', name='Gabriola', style='normal', variant='normal', weight=400, stretch='normal', size='scalable')) = 10.05\n",
      "24-04-27 13:49:12 [DEBUG] findfont: score(FontEntry(fname='C:\\\\Windows\\\\Fonts\\\\seguisb.ttf', name='Segoe UI', style='normal', variant='normal', weight=600, stretch='normal', size='scalable')) = 10.24\n",
      "24-04-27 13:49:12 [DEBUG] findfont: score(FontEntry(fname='C:\\\\Windows\\\\Fonts\\\\segoesc.ttf', name='Segoe Script', style='normal', variant='normal', weight=400, stretch='normal', size='scalable')) = 10.05\n",
      "24-04-27 13:49:12 [DEBUG] findfont: score(FontEntry(fname='C:\\\\Windows\\\\Fonts\\\\VLADIMIR.TTF', name='Vladimir Script', style='normal', variant='normal', weight=400, stretch='normal', size='scalable')) = 10.05\n",
      "24-04-27 13:49:12 [DEBUG] findfont: score(FontEntry(fname='C:\\\\Windows\\\\Fonts\\\\timesbi.ttf', name='Times New Roman', style='italic', variant='normal', weight=700, stretch='normal', size='scalable')) = 11.335\n",
      "24-04-27 13:49:12 [DEBUG] findfont: score(FontEntry(fname='C:\\\\Windows\\\\Fonts\\\\BASKVILL.TTF', name='Baskerville Old Face', style='normal', variant='normal', weight=400, stretch='normal', size='scalable')) = 10.05\n",
      "24-04-27 13:49:12 [DEBUG] findfont: score(FontEntry(fname='C:\\\\Windows\\\\Fonts\\\\segoeui.ttf', name='Segoe UI', style='normal', variant='normal', weight=400, stretch='normal', size='scalable')) = 10.05\n",
      "24-04-27 13:49:12 [DEBUG] findfont: score(FontEntry(fname='C:\\\\Windows\\\\Fonts\\\\YuGothB.ttc', name='Yu Gothic', style='normal', variant='normal', weight=700, stretch='normal', size='scalable')) = 10.335\n",
      "24-04-27 13:49:12 [DEBUG] findfont: score(FontEntry(fname='C:\\\\Windows\\\\Fonts\\\\JUICE___.TTF', name='Juice ITC', style='normal', variant='normal', weight=400, stretch='normal', size='scalable')) = 10.05\n",
      "24-04-27 13:49:12 [DEBUG] findfont: score(FontEntry(fname='C:\\\\Windows\\\\Fonts\\\\msyi.ttf', name='Microsoft Yi Baiti', style='normal', variant='normal', weight=400, stretch='normal', size='scalable')) = 10.05\n",
      "24-04-27 13:49:12 [DEBUG] findfont: score(FontEntry(fname='C:\\\\Windows\\\\Fonts\\\\symbol.ttf', name='Symbol', style='normal', variant='normal', weight=400, stretch='normal', size='scalable')) = 10.05\n",
      "24-04-27 13:49:12 [DEBUG] findfont: score(FontEntry(fname='C:\\\\Windows\\\\Fonts\\\\SNAP____.TTF', name='Snap ITC', style='normal', variant='normal', weight=400, stretch='normal', size='scalable')) = 10.05\n",
      "24-04-27 13:49:12 [DEBUG] findfont: score(FontEntry(fname='C:\\\\Windows\\\\Fonts\\\\ntailu.ttf', name='Microsoft New Tai Lue', style='normal', variant='normal', weight=400, stretch='normal', size='scalable')) = 10.05\n",
      "24-04-27 13:49:12 [DEBUG] findfont: score(FontEntry(fname='C:\\\\Windows\\\\Fonts\\\\GILBI___.TTF', name='Gill Sans MT', style='italic', variant='normal', weight=700, stretch='normal', size='scalable')) = 11.335\n",
      "24-04-27 13:49:12 [DEBUG] findfont: score(FontEntry(fname='C:\\\\Windows\\\\Fonts\\\\ROCK.TTF', name='Rockwell', style='normal', variant='normal', weight=400, stretch='normal', size='scalable')) = 10.05\n",
      "24-04-27 13:49:12 [DEBUG] findfont: score(FontEntry(fname='C:\\\\Windows\\\\Fonts\\\\trebuc.ttf', name='Trebuchet MS', style='normal', variant='normal', weight=400, stretch='normal', size='scalable')) = 10.05\n",
      "24-04-27 13:49:12 [DEBUG] findfont: score(FontEntry(fname='C:\\\\Windows\\\\Fonts\\\\BAUHS93.TTF', name='Bauhaus 93', style='normal', variant='normal', weight=400, stretch='normal', size='scalable')) = 10.05\n",
      "24-04-27 13:49:12 [DEBUG] findfont: score(FontEntry(fname='C:\\\\Windows\\\\Fonts\\\\NIAGSOL.TTF', name='Niagara Solid', style='normal', variant='normal', weight=400, stretch='normal', size='scalable')) = 10.05\n",
      "24-04-27 13:49:12 [DEBUG] findfont: score(FontEntry(fname='C:\\\\Windows\\\\Fonts\\\\arialbi.ttf', name='Arial', style='italic', variant='normal', weight=700, stretch='normal', size='scalable')) = 7.698636363636363\n",
      "24-04-27 13:49:12 [DEBUG] findfont: score(FontEntry(fname='C:\\\\Windows\\\\Fonts\\\\LSANSDI.TTF', name='Lucida Sans', style='italic', variant='normal', weight=600, stretch='normal', size='scalable')) = 11.24\n",
      "24-04-27 13:49:12 [DEBUG] findfont: score(FontEntry(fname='C:\\\\Windows\\\\Fonts\\\\BKANT.TTF', name='Book Antiqua', style='normal', variant='normal', weight=400, stretch='normal', size='scalable')) = 10.05\n",
      "24-04-27 13:49:12 [DEBUG] findfont: score(FontEntry(fname='C:\\\\Windows\\\\Fonts\\\\ERASLGHT.TTF', name='Eras Light ITC', style='normal', variant='normal', weight=400, stretch='normal', size='scalable')) = 10.05\n",
      "24-04-27 13:49:12 [DEBUG] findfont: score(FontEntry(fname='C:\\\\Windows\\\\Fonts\\\\ITCBLKAD.TTF', name='Blackadder ITC', style='normal', variant='normal', weight=400, stretch='normal', size='scalable')) = 10.05\n",
      "24-04-27 13:49:12 [DEBUG] findfont: score(FontEntry(fname='C:\\\\Windows\\\\Fonts\\\\Candaral.ttf', name='Candara', style='normal', variant='normal', weight=400, stretch='normal', size='scalable')) = 10.05\n",
      "24-04-27 13:49:12 [DEBUG] findfont: score(FontEntry(fname='C:\\\\Windows\\\\Fonts\\\\calibri.ttf', name='Calibri', style='normal', variant='normal', weight=400, stretch='normal', size='scalable')) = 10.05\n",
      "24-04-27 13:49:12 [DEBUG] findfont: score(FontEntry(fname='C:\\\\Windows\\\\Fonts\\\\SitkaVF.ttf', name='Sitka', style='normal', variant='normal', weight=400, stretch='normal', size='scalable')) = 10.05\n",
      "24-04-27 13:49:12 [DEBUG] findfont: score(FontEntry(fname='C:\\\\Windows\\\\Fonts\\\\corbelli.ttf', name='Corbel', style='italic', variant='normal', weight=300, stretch='normal', size='scalable')) = 11.145\n",
      "24-04-27 13:49:12 [DEBUG] findfont: score(FontEntry(fname='C:\\\\Windows\\\\Fonts\\\\WINGDNG3.TTF', name='Wingdings 3', style='normal', variant='normal', weight=400, stretch='normal', size='scalable')) = 10.05\n",
      "24-04-27 13:49:12 [DEBUG] findfont: score(FontEntry(fname='C:\\\\Windows\\\\Fonts\\\\MTEXTRA.TTF', name='MT Extra', style='normal', variant='normal', weight=400, stretch='normal', size='scalable')) = 10.05\n",
      "24-04-27 13:49:12 [DEBUG] findfont: score(FontEntry(fname='C:\\\\Windows\\\\Fonts\\\\ebrima.ttf', name='Ebrima', style='normal', variant='normal', weight=400, stretch='normal', size='scalable')) = 10.05\n",
      "24-04-27 13:49:12 [DEBUG] findfont: score(FontEntry(fname='C:\\\\Windows\\\\Fonts\\\\INFROMAN.TTF', name='Informal Roman', style='normal', variant='normal', weight=400, stretch='normal', size='scalable')) = 10.05\n",
      "24-04-27 13:49:12 [DEBUG] findfont: score(FontEntry(fname='C:\\\\Windows\\\\Fonts\\\\segoeprb.ttf', name='Segoe Print', style='normal', variant='normal', weight=700, stretch='normal', size='scalable')) = 10.335\n",
      "24-04-27 13:49:12 [DEBUG] findfont: score(FontEntry(fname='C:\\\\Windows\\\\Fonts\\\\BOD_CI.TTF', name='Bodoni MT', style='italic', variant='normal', weight=400, stretch='condensed', size='scalable')) = 11.25\n",
      "24-04-27 13:49:12 [DEBUG] findfont: score(FontEntry(fname='C:\\\\Windows\\\\Fonts\\\\cambriai.ttf', name='Cambria', style='italic', variant='normal', weight=400, stretch='normal', size='scalable')) = 11.05\n",
      "24-04-27 13:49:12 [DEBUG] findfont: score(FontEntry(fname='C:\\\\Windows\\\\Fonts\\\\GIGI.TTF', name='Gigi', style='normal', variant='normal', weight=400, stretch='normal', size='scalable')) = 10.05\n",
      "24-04-27 13:49:12 [DEBUG] findfont: score(FontEntry(fname='C:\\\\Windows\\\\Fonts\\\\constan.ttf', name='Constantia', style='normal', variant='normal', weight=400, stretch='normal', size='scalable')) = 10.05\n",
      "24-04-27 13:49:12 [DEBUG] findfont: score(FontEntry(fname='C:\\\\Windows\\\\Fonts\\\\trebucbd.ttf', name='Trebuchet MS', style='normal', variant='normal', weight=700, stretch='normal', size='scalable')) = 10.335\n",
      "24-04-27 13:49:12 [DEBUG] findfont: score(FontEntry(fname='C:\\\\Windows\\\\Fonts\\\\bahnschrift.ttf', name='Bahnschrift', style='normal', variant='normal', weight=400, stretch='normal', size='scalable')) = 10.05\n",
      "24-04-27 13:49:12 [DEBUG] findfont: score(FontEntry(fname='C:\\\\Windows\\\\Fonts\\\\segoepr.ttf', name='Segoe Print', style='normal', variant='normal', weight=400, stretch='normal', size='scalable')) = 10.05\n",
      "24-04-27 13:49:12 [DEBUG] findfont: score(FontEntry(fname='C:\\\\Windows\\\\Fonts\\\\seguibl.ttf', name='Segoe UI', style='normal', variant='normal', weight=900, stretch='normal', size='scalable')) = 10.525\n",
      "24-04-27 13:49:12 [DEBUG] findfont: score(FontEntry(fname='C:\\\\Windows\\\\Fonts\\\\ARIALNB.TTF', name='Arial', style='normal', variant='normal', weight=700, stretch='condensed', size='scalable')) = 6.8986363636363635\n",
      "24-04-27 13:49:12 [DEBUG] findfont: score(FontEntry(fname='C:\\\\Windows\\\\Fonts\\\\LBRITEDI.TTF', name='Lucida Bright', style='italic', variant='normal', weight=600, stretch='normal', size='scalable')) = 11.24\n",
      "24-04-27 13:49:12 [DEBUG] findfont: score(FontEntry(fname='C:\\\\Windows\\\\Fonts\\\\calibrii.ttf', name='Calibri', style='italic', variant='normal', weight=400, stretch='normal', size='scalable')) = 11.05\n",
      "24-04-27 13:49:12 [DEBUG] findfont: score(FontEntry(fname='C:\\\\Windows\\\\Fonts\\\\SitkaVF-Italic.ttf', name='Sitka', style='italic', variant='normal', weight=400, stretch='normal', size='scalable')) = 11.05\n",
      "24-04-27 13:49:12 [DEBUG] findfont: score(FontEntry(fname='C:\\\\Windows\\\\Fonts\\\\consolai.ttf', name='Consolas', style='italic', variant='normal', weight=400, stretch='normal', size='scalable')) = 11.05\n",
      "24-04-27 13:49:12 [DEBUG] findfont: score(FontEntry(fname='C:\\\\Windows\\\\Fonts\\\\GILLUBCD.TTF', name='Gill Sans Ultra Bold Condensed', style='normal', variant='normal', weight=400, stretch='condensed', size='scalable')) = 10.25\n",
      "24-04-27 13:49:12 [DEBUG] findfont: score(FontEntry(fname='C:\\\\Windows\\\\Fonts\\\\FRAMDCN.TTF', name='Franklin Gothic Medium Cond', style='normal', variant='normal', weight=400, stretch='condensed', size='scalable')) = 10.25\n",
      "24-04-27 13:49:12 [DEBUG] findfont: score(FontEntry(fname='C:\\\\Windows\\\\Fonts\\\\LATINWD.TTF', name='Wide Latin', style='normal', variant='normal', weight=400, stretch='expanded', size='scalable')) = 10.25\n",
      "24-04-27 13:49:12 [DEBUG] findfont: score(FontEntry(fname='C:\\\\Windows\\\\Fonts\\\\seguisbi.ttf', name='Segoe UI', style='italic', variant='normal', weight=600, stretch='normal', size='scalable')) = 11.24\n",
      "24-04-27 13:49:12 [DEBUG] findfont: score(FontEntry(fname='C:\\\\Windows\\\\Fonts\\\\segoeuii.ttf', name='Segoe UI', style='italic', variant='normal', weight=400, stretch='normal', size='scalable')) = 11.05\n",
      "24-04-27 13:49:12 [DEBUG] findfont: score(FontEntry(fname='C:\\\\Windows\\\\Fonts\\\\wingding.ttf', name='Wingdings', style='normal', variant='normal', weight=400, stretch='normal', size='scalable')) = 10.05\n",
      "24-04-27 13:49:12 [DEBUG] findfont: score(FontEntry(fname='C:\\\\Windows\\\\Fonts\\\\YuGothM.ttc', name='Yu Gothic', style='normal', variant='normal', weight=500, stretch='normal', size='scalable')) = 10.145\n",
      "24-04-27 13:49:12 [DEBUG] findfont: score(FontEntry(fname='C:\\\\Windows\\\\Fonts\\\\seguihis.ttf', name='Segoe UI Historic', style='normal', variant='normal', weight=400, stretch='normal', size='scalable')) = 10.05\n",
      "24-04-27 13:49:12 [DEBUG] findfont: score(FontEntry(fname='C:\\\\Windows\\\\Fonts\\\\constanz.ttf', name='Constantia', style='italic', variant='normal', weight=700, stretch='normal', size='scalable')) = 11.335\n",
      "24-04-27 13:49:12 [DEBUG] findfont: score(FontEntry(fname='C:\\\\Windows\\\\Fonts\\\\GOTHICI.TTF', name='Century Gothic', style='italic', variant='normal', weight=400, stretch='normal', size='scalable')) = 11.05\n",
      "24-04-27 13:49:12 [DEBUG] findfont: score(FontEntry(fname='C:\\\\Windows\\\\Fonts\\\\seguibli.ttf', name='Segoe UI', style='italic', variant='normal', weight=900, stretch='normal', size='scalable')) = 11.525\n",
      "24-04-27 13:49:12 [DEBUG] findfont: score(FontEntry(fname='C:\\\\Windows\\\\Fonts\\\\calibril.ttf', name='Calibri', style='normal', variant='normal', weight=300, stretch='normal', size='scalable')) = 10.145\n",
      "24-04-27 13:49:12 [DEBUG] findfont: score(FontEntry(fname='C:\\\\Windows\\\\Fonts\\\\constani.ttf', name='Constantia', style='italic', variant='normal', weight=400, stretch='normal', size='scalable')) = 11.05\n",
      "24-04-27 13:49:12 [DEBUG] findfont: score(FontEntry(fname='C:\\\\Windows\\\\Fonts\\\\ROCC____.TTF', name='Rockwell Condensed', style='normal', variant='normal', weight=400, stretch='condensed', size='scalable')) = 10.25\n",
      "24-04-27 13:49:12 [DEBUG] findfont: score(FontEntry(fname='C:\\\\Windows\\\\Fonts\\\\tahomabd.ttf', name='Tahoma', style='normal', variant='normal', weight=700, stretch='normal', size='scalable')) = 10.335\n",
      "24-04-27 13:49:12 [DEBUG] findfont: score(FontEntry(fname='C:\\\\Windows\\\\Fonts\\\\CALISTI.TTF', name='Calisto MT', style='italic', variant='normal', weight=400, stretch='normal', size='scalable')) = 11.05\n",
      "24-04-27 13:49:12 [DEBUG] findfont: score(FontEntry(fname='C:\\\\Windows\\\\Fonts\\\\OUTLOOK.TTF', name='MS Outlook', style='normal', variant='normal', weight=400, stretch='normal', size='scalable')) = 10.05\n",
      "24-04-27 13:49:12 [DEBUG] findfont: Matching sans\\-serif:style=normal:variant=normal:weight=normal:stretch=normal:size=10.0 to DejaVu Sans ('c:\\\\Users\\\\hayk_\\\\.conda\\\\envs\\\\thesis\\\\lib\\\\site-packages\\\\matplotlib\\\\mpl-data\\\\fonts\\\\ttf\\\\DejaVuSans.ttf') with score of 0.050000.\n",
      "24-04-27 13:49:12 [DEBUG] findfont: Matching sans\\-serif:style=normal:variant=normal:weight=normal:stretch=normal:size=12.0.\n",
      "24-04-27 13:49:12 [DEBUG] findfont: score(FontEntry(fname='c:\\\\Users\\\\hayk_\\\\.conda\\\\envs\\\\thesis\\\\lib\\\\site-packages\\\\matplotlib\\\\mpl-data\\\\fonts\\\\ttf\\\\cmsy10.ttf', name='cmsy10', style='normal', variant='normal', weight=400, stretch='normal', size='scalable')) = 10.05\n",
      "24-04-27 13:49:12 [DEBUG] findfont: score(FontEntry(fname='c:\\\\Users\\\\hayk_\\\\.conda\\\\envs\\\\thesis\\\\lib\\\\site-packages\\\\matplotlib\\\\mpl-data\\\\fonts\\\\ttf\\\\DejaVuSans.ttf', name='DejaVu Sans', style='normal', variant='normal', weight=400, stretch='normal', size='scalable')) = 0.05\n",
      "24-04-27 13:49:12 [DEBUG] findfont: score(FontEntry(fname='c:\\\\Users\\\\hayk_\\\\.conda\\\\envs\\\\thesis\\\\lib\\\\site-packages\\\\matplotlib\\\\mpl-data\\\\fonts\\\\ttf\\\\cmr10.ttf', name='cmr10', style='normal', variant='normal', weight=400, stretch='normal', size='scalable')) = 10.05\n",
      "24-04-27 13:49:12 [DEBUG] findfont: score(FontEntry(fname='c:\\\\Users\\\\hayk_\\\\.conda\\\\envs\\\\thesis\\\\lib\\\\site-packages\\\\matplotlib\\\\mpl-data\\\\fonts\\\\ttf\\\\STIXGeneralItalic.ttf', name='STIXGeneral', style='italic', variant='normal', weight=400, stretch='normal', size='scalable')) = 11.05\n",
      "24-04-27 13:49:12 [DEBUG] findfont: score(FontEntry(fname='c:\\\\Users\\\\hayk_\\\\.conda\\\\envs\\\\thesis\\\\lib\\\\site-packages\\\\matplotlib\\\\mpl-data\\\\fonts\\\\ttf\\\\STIXNonUniBolIta.ttf', name='STIXNonUnicode', style='italic', variant='normal', weight=700, stretch='normal', size='scalable')) = 11.335\n",
      "24-04-27 13:49:12 [DEBUG] findfont: score(FontEntry(fname='c:\\\\Users\\\\hayk_\\\\.conda\\\\envs\\\\thesis\\\\lib\\\\site-packages\\\\matplotlib\\\\mpl-data\\\\fonts\\\\ttf\\\\cmss10.ttf', name='cmss10', style='normal', variant='normal', weight=400, stretch='normal', size='scalable')) = 10.05\n",
      "24-04-27 13:49:12 [DEBUG] findfont: score(FontEntry(fname='c:\\\\Users\\\\hayk_\\\\.conda\\\\envs\\\\thesis\\\\lib\\\\site-packages\\\\matplotlib\\\\mpl-data\\\\fonts\\\\ttf\\\\STIXNonUniIta.ttf', name='STIXNonUnicode', style='italic', variant='normal', weight=400, stretch='normal', size='scalable')) = 11.05\n",
      "24-04-27 13:49:12 [DEBUG] findfont: score(FontEntry(fname='c:\\\\Users\\\\hayk_\\\\.conda\\\\envs\\\\thesis\\\\lib\\\\site-packages\\\\matplotlib\\\\mpl-data\\\\fonts\\\\ttf\\\\DejaVuSerif-BoldItalic.ttf', name='DejaVu Serif', style='italic', variant='normal', weight=700, stretch='normal', size='scalable')) = 11.335\n",
      "24-04-27 13:49:12 [DEBUG] findfont: score(FontEntry(fname='c:\\\\Users\\\\hayk_\\\\.conda\\\\envs\\\\thesis\\\\lib\\\\site-packages\\\\matplotlib\\\\mpl-data\\\\fonts\\\\ttf\\\\DejaVuSansDisplay.ttf', name='DejaVu Sans Display', style='normal', variant='normal', weight=400, stretch='normal', size='scalable')) = 10.05\n",
      "24-04-27 13:49:12 [DEBUG] findfont: score(FontEntry(fname='c:\\\\Users\\\\hayk_\\\\.conda\\\\envs\\\\thesis\\\\lib\\\\site-packages\\\\matplotlib\\\\mpl-data\\\\fonts\\\\ttf\\\\DejaVuSansMono-BoldOblique.ttf', name='DejaVu Sans Mono', style='oblique', variant='normal', weight=700, stretch='normal', size='scalable')) = 11.335\n",
      "24-04-27 13:49:12 [DEBUG] findfont: score(FontEntry(fname='c:\\\\Users\\\\hayk_\\\\.conda\\\\envs\\\\thesis\\\\lib\\\\site-packages\\\\matplotlib\\\\mpl-data\\\\fonts\\\\ttf\\\\STIXSizFourSymBol.ttf', name='STIXSizeFourSym', style='normal', variant='normal', weight=700, stretch='normal', size='scalable')) = 10.335\n",
      "24-04-27 13:49:12 [DEBUG] findfont: score(FontEntry(fname='c:\\\\Users\\\\hayk_\\\\.conda\\\\envs\\\\thesis\\\\lib\\\\site-packages\\\\matplotlib\\\\mpl-data\\\\fonts\\\\ttf\\\\STIXNonUniBol.ttf', name='STIXNonUnicode', style='normal', variant='normal', weight=700, stretch='normal', size='scalable')) = 10.335\n",
      "24-04-27 13:49:12 [DEBUG] findfont: score(FontEntry(fname='c:\\\\Users\\\\hayk_\\\\.conda\\\\envs\\\\thesis\\\\lib\\\\site-packages\\\\matplotlib\\\\mpl-data\\\\fonts\\\\ttf\\\\DejaVuSans-BoldOblique.ttf', name='DejaVu Sans', style='oblique', variant='normal', weight=700, stretch='normal', size='scalable')) = 1.335\n",
      "24-04-27 13:49:12 [DEBUG] findfont: score(FontEntry(fname='c:\\\\Users\\\\hayk_\\\\.conda\\\\envs\\\\thesis\\\\lib\\\\site-packages\\\\matplotlib\\\\mpl-data\\\\fonts\\\\ttf\\\\STIXGeneralBolIta.ttf', name='STIXGeneral', style='italic', variant='normal', weight=700, stretch='normal', size='scalable')) = 11.335\n",
      "24-04-27 13:49:12 [DEBUG] findfont: score(FontEntry(fname='c:\\\\Users\\\\hayk_\\\\.conda\\\\envs\\\\thesis\\\\lib\\\\site-packages\\\\matplotlib\\\\mpl-data\\\\fonts\\\\ttf\\\\STIXSizTwoSymBol.ttf', name='STIXSizeTwoSym', style='normal', variant='normal', weight=700, stretch='normal', size='scalable')) = 10.335\n",
      "24-04-27 13:49:12 [DEBUG] findfont: score(FontEntry(fname='c:\\\\Users\\\\hayk_\\\\.conda\\\\envs\\\\thesis\\\\lib\\\\site-packages\\\\matplotlib\\\\mpl-data\\\\fonts\\\\ttf\\\\DejaVuSerif.ttf', name='DejaVu Serif', style='normal', variant='normal', weight=400, stretch='normal', size='scalable')) = 10.05\n",
      "24-04-27 13:49:12 [DEBUG] findfont: score(FontEntry(fname='c:\\\\Users\\\\hayk_\\\\.conda\\\\envs\\\\thesis\\\\lib\\\\site-packages\\\\matplotlib\\\\mpl-data\\\\fonts\\\\ttf\\\\STIXGeneral.ttf', name='STIXGeneral', style='normal', variant='normal', weight=400, stretch='normal', size='scalable')) = 10.05\n",
      "24-04-27 13:49:12 [DEBUG] findfont: score(FontEntry(fname='c:\\\\Users\\\\hayk_\\\\.conda\\\\envs\\\\thesis\\\\lib\\\\site-packages\\\\matplotlib\\\\mpl-data\\\\fonts\\\\ttf\\\\DejaVuSansMono.ttf', name='DejaVu Sans Mono', style='normal', variant='normal', weight=400, stretch='normal', size='scalable')) = 10.05\n",
      "24-04-27 13:49:12 [DEBUG] findfont: score(FontEntry(fname='c:\\\\Users\\\\hayk_\\\\.conda\\\\envs\\\\thesis\\\\lib\\\\site-packages\\\\matplotlib\\\\mpl-data\\\\fonts\\\\ttf\\\\DejaVuSerifDisplay.ttf', name='DejaVu Serif Display', style='normal', variant='normal', weight=400, stretch='normal', size='scalable')) = 10.05\n",
      "24-04-27 13:49:12 [DEBUG] findfont: score(FontEntry(fname='c:\\\\Users\\\\hayk_\\\\.conda\\\\envs\\\\thesis\\\\lib\\\\site-packages\\\\matplotlib\\\\mpl-data\\\\fonts\\\\ttf\\\\STIXNonUni.ttf', name='STIXNonUnicode', style='normal', variant='normal', weight=400, stretch='normal', size='scalable')) = 10.05\n",
      "24-04-27 13:49:12 [DEBUG] findfont: score(FontEntry(fname='c:\\\\Users\\\\hayk_\\\\.conda\\\\envs\\\\thesis\\\\lib\\\\site-packages\\\\matplotlib\\\\mpl-data\\\\fonts\\\\ttf\\\\DejaVuSansMono-Bold.ttf', name='DejaVu Sans Mono', style='normal', variant='normal', weight=700, stretch='normal', size='scalable')) = 10.335\n",
      "24-04-27 13:49:12 [DEBUG] findfont: score(FontEntry(fname='c:\\\\Users\\\\hayk_\\\\.conda\\\\envs\\\\thesis\\\\lib\\\\site-packages\\\\matplotlib\\\\mpl-data\\\\fonts\\\\ttf\\\\STIXSizOneSymBol.ttf', name='STIXSizeOneSym', style='normal', variant='normal', weight=700, stretch='normal', size='scalable')) = 10.335\n",
      "24-04-27 13:49:12 [DEBUG] findfont: score(FontEntry(fname='c:\\\\Users\\\\hayk_\\\\.conda\\\\envs\\\\thesis\\\\lib\\\\site-packages\\\\matplotlib\\\\mpl-data\\\\fonts\\\\ttf\\\\DejaVuSerif-Bold.ttf', name='DejaVu Serif', style='normal', variant='normal', weight=700, stretch='normal', size='scalable')) = 10.335\n",
      "24-04-27 13:49:12 [DEBUG] findfont: score(FontEntry(fname='c:\\\\Users\\\\hayk_\\\\.conda\\\\envs\\\\thesis\\\\lib\\\\site-packages\\\\matplotlib\\\\mpl-data\\\\fonts\\\\ttf\\\\DejaVuSans-Oblique.ttf', name='DejaVu Sans', style='oblique', variant='normal', weight=400, stretch='normal', size='scalable')) = 1.05\n",
      "24-04-27 13:49:12 [DEBUG] findfont: score(FontEntry(fname='c:\\\\Users\\\\hayk_\\\\.conda\\\\envs\\\\thesis\\\\lib\\\\site-packages\\\\matplotlib\\\\mpl-data\\\\fonts\\\\ttf\\\\STIXSizThreeSymBol.ttf', name='STIXSizeThreeSym', style='normal', variant='normal', weight=700, stretch='normal', size='scalable')) = 10.335\n",
      "24-04-27 13:49:12 [DEBUG] findfont: score(FontEntry(fname='c:\\\\Users\\\\hayk_\\\\.conda\\\\envs\\\\thesis\\\\lib\\\\site-packages\\\\matplotlib\\\\mpl-data\\\\fonts\\\\ttf\\\\cmb10.ttf', name='cmb10', style='normal', variant='normal', weight=400, stretch='normal', size='scalable')) = 10.05\n",
      "24-04-27 13:49:12 [DEBUG] findfont: score(FontEntry(fname='c:\\\\Users\\\\hayk_\\\\.conda\\\\envs\\\\thesis\\\\lib\\\\site-packages\\\\matplotlib\\\\mpl-data\\\\fonts\\\\ttf\\\\cmtt10.ttf', name='cmtt10', style='normal', variant='normal', weight=400, stretch='normal', size='scalable')) = 10.05\n",
      "24-04-27 13:49:12 [DEBUG] findfont: score(FontEntry(fname='c:\\\\Users\\\\hayk_\\\\.conda\\\\envs\\\\thesis\\\\lib\\\\site-packages\\\\matplotlib\\\\mpl-data\\\\fonts\\\\ttf\\\\DejaVuSans-Bold.ttf', name='DejaVu Sans', style='normal', variant='normal', weight=700, stretch='normal', size='scalable')) = 0.33499999999999996\n",
      "24-04-27 13:49:12 [DEBUG] findfont: score(FontEntry(fname='c:\\\\Users\\\\hayk_\\\\.conda\\\\envs\\\\thesis\\\\lib\\\\site-packages\\\\matplotlib\\\\mpl-data\\\\fonts\\\\ttf\\\\STIXSizThreeSymReg.ttf', name='STIXSizeThreeSym', style='normal', variant='normal', weight=400, stretch='normal', size='scalable')) = 10.05\n",
      "24-04-27 13:49:12 [DEBUG] findfont: score(FontEntry(fname='c:\\\\Users\\\\hayk_\\\\.conda\\\\envs\\\\thesis\\\\lib\\\\site-packages\\\\matplotlib\\\\mpl-data\\\\fonts\\\\ttf\\\\STIXSizTwoSymReg.ttf', name='STIXSizeTwoSym', style='normal', variant='normal', weight=400, stretch='normal', size='scalable')) = 10.05\n",
      "24-04-27 13:49:12 [DEBUG] findfont: score(FontEntry(fname='c:\\\\Users\\\\hayk_\\\\.conda\\\\envs\\\\thesis\\\\lib\\\\site-packages\\\\matplotlib\\\\mpl-data\\\\fonts\\\\ttf\\\\STIXSizFourSymReg.ttf', name='STIXSizeFourSym', style='normal', variant='normal', weight=400, stretch='normal', size='scalable')) = 10.05\n",
      "24-04-27 13:49:12 [DEBUG] findfont: score(FontEntry(fname='c:\\\\Users\\\\hayk_\\\\.conda\\\\envs\\\\thesis\\\\lib\\\\site-packages\\\\matplotlib\\\\mpl-data\\\\fonts\\\\ttf\\\\DejaVuSansMono-Oblique.ttf', name='DejaVu Sans Mono', style='oblique', variant='normal', weight=400, stretch='normal', size='scalable')) = 11.05\n",
      "24-04-27 13:49:12 [DEBUG] findfont: score(FontEntry(fname='c:\\\\Users\\\\hayk_\\\\.conda\\\\envs\\\\thesis\\\\lib\\\\site-packages\\\\matplotlib\\\\mpl-data\\\\fonts\\\\ttf\\\\STIXGeneralBol.ttf', name='STIXGeneral', style='normal', variant='normal', weight=700, stretch='normal', size='scalable')) = 10.335\n",
      "24-04-27 13:49:12 [DEBUG] findfont: score(FontEntry(fname='c:\\\\Users\\\\hayk_\\\\.conda\\\\envs\\\\thesis\\\\lib\\\\site-packages\\\\matplotlib\\\\mpl-data\\\\fonts\\\\ttf\\\\cmex10.ttf', name='cmex10', style='normal', variant='normal', weight=400, stretch='normal', size='scalable')) = 10.05\n",
      "24-04-27 13:49:12 [DEBUG] findfont: score(FontEntry(fname='c:\\\\Users\\\\hayk_\\\\.conda\\\\envs\\\\thesis\\\\lib\\\\site-packages\\\\matplotlib\\\\mpl-data\\\\fonts\\\\ttf\\\\STIXSizOneSymReg.ttf', name='STIXSizeOneSym', style='normal', variant='normal', weight=400, stretch='normal', size='scalable')) = 10.05\n",
      "24-04-27 13:49:12 [DEBUG] findfont: score(FontEntry(fname='c:\\\\Users\\\\hayk_\\\\.conda\\\\envs\\\\thesis\\\\lib\\\\site-packages\\\\matplotlib\\\\mpl-data\\\\fonts\\\\ttf\\\\DejaVuSerif-Italic.ttf', name='DejaVu Serif', style='italic', variant='normal', weight=400, stretch='normal', size='scalable')) = 11.05\n",
      "24-04-27 13:49:12 [DEBUG] findfont: score(FontEntry(fname='c:\\\\Users\\\\hayk_\\\\.conda\\\\envs\\\\thesis\\\\lib\\\\site-packages\\\\matplotlib\\\\mpl-data\\\\fonts\\\\ttf\\\\cmmi10.ttf', name='cmmi10', style='normal', variant='normal', weight=400, stretch='normal', size='scalable')) = 10.05\n",
      "24-04-27 13:49:12 [DEBUG] findfont: score(FontEntry(fname='c:\\\\Users\\\\hayk_\\\\.conda\\\\envs\\\\thesis\\\\lib\\\\site-packages\\\\matplotlib\\\\mpl-data\\\\fonts\\\\ttf\\\\STIXSizFiveSymReg.ttf', name='STIXSizeFiveSym', style='normal', variant='normal', weight=400, stretch='normal', size='scalable')) = 10.05\n",
      "24-04-27 13:49:12 [DEBUG] findfont: score(FontEntry(fname='C:\\\\Windows\\\\Fonts\\\\phagspab.ttf', name='Microsoft PhagsPa', style='normal', variant='normal', weight=700, stretch='normal', size='scalable')) = 10.335\n",
      "24-04-27 13:49:12 [DEBUG] findfont: score(FontEntry(fname='C:\\\\Windows\\\\Fonts\\\\GILSANUB.TTF', name='Gill Sans Ultra Bold', style='normal', variant='normal', weight=400, stretch='normal', size='scalable')) = 10.05\n",
      "24-04-27 13:49:12 [DEBUG] findfont: score(FontEntry(fname='C:\\\\Windows\\\\Fonts\\\\BOD_BLAI.TTF', name='Bodoni MT', style='italic', variant='normal', weight=900, stretch='normal', size='scalable')) = 11.525\n",
      "24-04-27 13:49:12 [DEBUG] findfont: score(FontEntry(fname='C:\\\\Windows\\\\Fonts\\\\MTCORSVA.TTF', name='Monotype Corsiva', style='normal', variant='normal', weight=400, stretch='normal', size='scalable')) = 10.05\n",
      "24-04-27 13:49:12 [DEBUG] findfont: score(FontEntry(fname='C:\\\\Windows\\\\Fonts\\\\cambriab.ttf', name='Cambria', style='normal', variant='normal', weight=700, stretch='normal', size='scalable')) = 10.335\n",
      "24-04-27 13:49:12 [DEBUG] findfont: score(FontEntry(fname='C:\\\\Windows\\\\Fonts\\\\timesi.ttf', name='Times New Roman', style='italic', variant='normal', weight=400, stretch='normal', size='scalable')) = 11.05\n",
      "24-04-27 13:49:12 [DEBUG] findfont: score(FontEntry(fname='C:\\\\Windows\\\\Fonts\\\\seguili.ttf', name='Segoe UI', style='italic', variant='normal', weight=300, stretch='normal', size='scalable')) = 11.145\n",
      "24-04-27 13:49:12 [DEBUG] findfont: score(FontEntry(fname='C:\\\\Windows\\\\Fonts\\\\SCHLBKB.TTF', name='Century Schoolbook', style='normal', variant='normal', weight=700, stretch='normal', size='scalable')) = 10.335\n",
      "24-04-27 13:49:12 [DEBUG] findfont: score(FontEntry(fname='C:\\\\Windows\\\\Fonts\\\\arial.ttf', name='Arial', style='normal', variant='normal', weight=400, stretch='normal', size='scalable')) = 6.413636363636363\n",
      "24-04-27 13:49:12 [DEBUG] findfont: score(FontEntry(fname='C:\\\\Windows\\\\Fonts\\\\BOD_PSTC.TTF', name='Bodoni MT', style='normal', variant='normal', weight=300, stretch='normal', size='scalable')) = 10.145\n",
      "24-04-27 13:49:12 [DEBUG] findfont: score(FontEntry(fname='C:\\\\Windows\\\\Fonts\\\\corbell.ttf', name='Corbel', style='normal', variant='normal', weight=300, stretch='normal', size='scalable')) = 10.145\n",
      "24-04-27 13:49:12 [DEBUG] findfont: score(FontEntry(fname='C:\\\\Windows\\\\Fonts\\\\CENSCBK.TTF', name='Century Schoolbook', style='normal', variant='normal', weight=400, stretch='normal', size='scalable')) = 10.05\n",
      "24-04-27 13:49:12 [DEBUG] findfont: score(FontEntry(fname='C:\\\\Windows\\\\Fonts\\\\LHANDW.TTF', name='Lucida Handwriting', style='italic', variant='normal', weight=400, stretch='normal', size='scalable')) = 11.05\n",
      "24-04-27 13:49:12 [DEBUG] findfont: score(FontEntry(fname='C:\\\\Windows\\\\Fonts\\\\mvboli.ttf', name='MV Boli', style='normal', variant='normal', weight=400, stretch='normal', size='scalable')) = 10.05\n",
      "24-04-27 13:49:12 [DEBUG] findfont: score(FontEntry(fname='C:\\\\Windows\\\\Fonts\\\\FORTE.TTF', name='Forte', style='normal', variant='normal', weight=400, stretch='normal', size='scalable')) = 10.05\n",
      "24-04-27 13:49:12 [DEBUG] findfont: score(FontEntry(fname='C:\\\\Windows\\\\Fonts\\\\comic.ttf', name='Comic Sans MS', style='normal', variant='normal', weight=400, stretch='normal', size='scalable')) = 10.05\n",
      "24-04-27 13:49:12 [DEBUG] findfont: score(FontEntry(fname='C:\\\\Windows\\\\Fonts\\\\LeelaUIb.ttf', name='Leelawadee UI', style='normal', variant='normal', weight=700, stretch='normal', size='scalable')) = 10.335\n",
      "24-04-27 13:49:12 [DEBUG] findfont: score(FontEntry(fname='C:\\\\Windows\\\\Fonts\\\\Candarab.ttf', name='Candara', style='normal', variant='normal', weight=700, stretch='normal', size='scalable')) = 10.335\n",
      "24-04-27 13:49:12 [DEBUG] findfont: score(FontEntry(fname='C:\\\\Windows\\\\Fonts\\\\PARCHM.TTF', name='Parchment', style='normal', variant='normal', weight=400, stretch='normal', size='scalable')) = 10.05\n",
      "24-04-27 13:49:12 [DEBUG] findfont: score(FontEntry(fname='C:\\\\Windows\\\\Fonts\\\\GOTHICB.TTF', name='Century Gothic', style='normal', variant='normal', weight=700, stretch='normal', size='scalable')) = 10.335\n",
      "24-04-27 13:49:12 [DEBUG] findfont: score(FontEntry(fname='C:\\\\Windows\\\\Fonts\\\\LFAXDI.TTF', name='Lucida Fax', style='italic', variant='normal', weight=600, stretch='normal', size='scalable')) = 11.24\n",
      "24-04-27 13:49:12 [DEBUG] findfont: score(FontEntry(fname='C:\\\\Windows\\\\Fonts\\\\corbelb.ttf', name='Corbel', style='normal', variant='normal', weight=700, stretch='normal', size='scalable')) = 10.335\n",
      "24-04-27 13:49:12 [DEBUG] findfont: score(FontEntry(fname='C:\\\\Windows\\\\Fonts\\\\monbaiti.ttf', name='Mongolian Baiti', style='normal', variant='normal', weight=400, stretch='normal', size='scalable')) = 10.05\n",
      "24-04-27 13:49:12 [DEBUG] findfont: score(FontEntry(fname='C:\\\\Windows\\\\Fonts\\\\FREESCPT.TTF', name='Freestyle Script', style='normal', variant='normal', weight=400, stretch='normal', size='scalable')) = 10.05\n",
      "24-04-27 13:49:12 [DEBUG] findfont: score(FontEntry(fname='C:\\\\Windows\\\\Fonts\\\\verdanab.ttf', name='Verdana', style='normal', variant='normal', weight=700, stretch='normal', size='scalable')) = 3.9713636363636367\n",
      "24-04-27 13:49:12 [DEBUG] findfont: score(FontEntry(fname='C:\\\\Windows\\\\Fonts\\\\LeelawUI.ttf', name='Leelawadee UI', style='normal', variant='normal', weight=400, stretch='normal', size='scalable')) = 10.05\n",
      "24-04-27 13:49:12 [DEBUG] findfont: score(FontEntry(fname='C:\\\\Windows\\\\Fonts\\\\LBRITE.TTF', name='Lucida Bright', style='normal', variant='normal', weight=400, stretch='normal', size='scalable')) = 10.05\n",
      "24-04-27 13:49:12 [DEBUG] findfont: score(FontEntry(fname='C:\\\\Windows\\\\Fonts\\\\HATTEN.TTF', name='Haettenschweiler', style='normal', variant='normal', weight=400, stretch='normal', size='scalable')) = 10.05\n",
      "24-04-27 13:49:12 [DEBUG] findfont: score(FontEntry(fname='C:\\\\Windows\\\\Fonts\\\\msyh.ttc', name='Microsoft YaHei', style='normal', variant='normal', weight=400, stretch='normal', size='scalable')) = 10.05\n",
      "24-04-27 13:49:12 [DEBUG] findfont: score(FontEntry(fname='C:\\\\Windows\\\\Fonts\\\\BOD_BLAR.TTF', name='Bodoni MT', style='normal', variant='normal', weight=900, stretch='normal', size='scalable')) = 10.525\n",
      "24-04-27 13:49:12 [DEBUG] findfont: score(FontEntry(fname='C:\\\\Windows\\\\Fonts\\\\ROCKBI.TTF', name='Rockwell', style='italic', variant='normal', weight=700, stretch='normal', size='scalable')) = 11.335\n",
      "24-04-27 13:49:12 [DEBUG] findfont: score(FontEntry(fname='C:\\\\Windows\\\\Fonts\\\\msjhbd.ttc', name='Microsoft JhengHei', style='normal', variant='normal', weight=700, stretch='normal', size='scalable')) = 10.335\n",
      "24-04-27 13:49:12 [DEBUG] findfont: score(FontEntry(fname='C:\\\\Windows\\\\Fonts\\\\arialbd.ttf', name='Arial', style='normal', variant='normal', weight=700, stretch='normal', size='scalable')) = 6.698636363636363\n",
      "24-04-27 13:49:12 [DEBUG] findfont: score(FontEntry(fname='C:\\\\Windows\\\\Fonts\\\\MISTRAL.TTF', name='Mistral', style='normal', variant='normal', weight=400, stretch='normal', size='scalable')) = 10.05\n",
      "24-04-27 13:49:12 [DEBUG] findfont: score(FontEntry(fname='C:\\\\Windows\\\\Fonts\\\\COLONNA.TTF', name='Colonna MT', style='normal', variant='normal', weight=400, stretch='normal', size='scalable')) = 10.05\n",
      "24-04-27 13:49:12 [DEBUG] findfont: score(FontEntry(fname='C:\\\\Windows\\\\Fonts\\\\FRAHV.TTF', name='Franklin Gothic Heavy', style='normal', variant='normal', weight=400, stretch='normal', size='scalable')) = 10.05\n",
      "24-04-27 13:49:12 [DEBUG] findfont: score(FontEntry(fname='C:\\\\Windows\\\\Fonts\\\\msyhbd.ttc', name='Microsoft YaHei', style='normal', variant='normal', weight=700, stretch='normal', size='scalable')) = 10.335\n",
      "24-04-27 13:49:12 [DEBUG] findfont: score(FontEntry(fname='C:\\\\Windows\\\\Fonts\\\\simsun.ttc', name='SimSun', style='normal', variant='normal', weight=400, stretch='normal', size='scalable')) = 10.05\n",
      "24-04-27 13:49:12 [DEBUG] findfont: score(FontEntry(fname='C:\\\\Windows\\\\Fonts\\\\BOOKOS.TTF', name='Bookman Old Style', style='normal', variant='normal', weight=300, stretch='normal', size='scalable')) = 10.145\n",
      "24-04-27 13:49:12 [DEBUG] findfont: score(FontEntry(fname='C:\\\\Windows\\\\Fonts\\\\Candarali.ttf', name='Candara', style='italic', variant='normal', weight=400, stretch='normal', size='scalable')) = 11.05\n",
      "24-04-27 13:49:12 [DEBUG] findfont: score(FontEntry(fname='C:\\\\Windows\\\\Fonts\\\\malgunbd.ttf', name='Malgun Gothic', style='normal', variant='normal', weight=700, stretch='normal', size='scalable')) = 10.335\n",
      "24-04-27 13:49:12 [DEBUG] findfont: score(FontEntry(fname='C:\\\\Windows\\\\Fonts\\\\sylfaen.ttf', name='Sylfaen', style='normal', variant='normal', weight=400, stretch='normal', size='scalable')) = 10.05\n",
      "24-04-27 13:49:12 [DEBUG] findfont: score(FontEntry(fname='C:\\\\Windows\\\\Fonts\\\\marlett.ttf', name='Marlett', style='normal', variant='normal', weight=500, stretch='normal', size='scalable')) = 10.145\n",
      "24-04-27 13:49:12 [DEBUG] findfont: score(FontEntry(fname='C:\\\\Windows\\\\Fonts\\\\segoeuil.ttf', name='Segoe UI', style='normal', variant='normal', weight=300, stretch='normal', size='scalable')) = 10.145\n",
      "24-04-27 13:49:12 [DEBUG] findfont: score(FontEntry(fname='C:\\\\Windows\\\\Fonts\\\\LTYPEB.TTF', name='Lucida Sans Typewriter', style='normal', variant='normal', weight=600, stretch='normal', size='scalable')) = 10.24\n",
      "24-04-27 13:49:12 [DEBUG] findfont: score(FontEntry(fname='C:\\\\Windows\\\\Fonts\\\\courbi.ttf', name='Courier New', style='italic', variant='normal', weight=700, stretch='normal', size='scalable')) = 11.335\n",
      "24-04-27 13:49:12 [DEBUG] findfont: score(FontEntry(fname='C:\\\\Windows\\\\Fonts\\\\corbelz.ttf', name='Corbel', style='italic', variant='normal', weight=700, stretch='normal', size='scalable')) = 11.335\n",
      "24-04-27 13:49:12 [DEBUG] findfont: score(FontEntry(fname='C:\\\\Windows\\\\Fonts\\\\taileb.ttf', name='Microsoft Tai Le', style='normal', variant='normal', weight=700, stretch='normal', size='scalable')) = 10.335\n",
      "24-04-27 13:49:12 [DEBUG] findfont: score(FontEntry(fname='C:\\\\Windows\\\\Fonts\\\\FRSCRIPT.TTF', name='French Script MT', style='normal', variant='normal', weight=400, stretch='normal', size='scalable')) = 10.05\n",
      "24-04-27 13:49:12 [DEBUG] findfont: score(FontEntry(fname='C:\\\\Windows\\\\Fonts\\\\PRISTINA.TTF', name='Pristina', style='normal', variant='normal', weight=400, stretch='normal', size='scalable')) = 10.05\n",
      "24-04-27 13:49:12 [DEBUG] findfont: score(FontEntry(fname='C:\\\\Windows\\\\Fonts\\\\LEELAWAD.TTF', name='Leelawadee', style='normal', variant='normal', weight=400, stretch='normal', size='scalable')) = 10.05\n",
      "24-04-27 13:49:12 [DEBUG] findfont: score(FontEntry(fname='C:\\\\Windows\\\\Fonts\\\\TCCM____.TTF', name='Tw Cen MT Condensed', style='normal', variant='normal', weight=400, stretch='condensed', size='scalable')) = 10.25\n",
      "24-04-27 13:49:12 [DEBUG] findfont: score(FontEntry(fname='C:\\\\Windows\\\\Fonts\\\\constanb.ttf', name='Constantia', style='normal', variant='normal', weight=700, stretch='normal', size='scalable')) = 10.335\n",
      "24-04-27 13:49:12 [DEBUG] findfont: score(FontEntry(fname='C:\\\\Windows\\\\Fonts\\\\verdanaz.ttf', name='Verdana', style='italic', variant='normal', weight=700, stretch='normal', size='scalable')) = 4.971363636363637\n",
      "24-04-27 13:49:12 [DEBUG] findfont: score(FontEntry(fname='C:\\\\Windows\\\\Fonts\\\\MATURASC.TTF', name='Matura MT Script Capitals', style='normal', variant='normal', weight=400, stretch='normal', size='scalable')) = 10.05\n",
      "24-04-27 13:49:12 [DEBUG] findfont: score(FontEntry(fname='C:\\\\Windows\\\\Fonts\\\\ROCCB___.TTF', name='Rockwell Condensed', style='normal', variant='normal', weight=700, stretch='condensed', size='scalable')) = 10.535\n",
      "24-04-27 13:49:12 [DEBUG] findfont: score(FontEntry(fname='C:\\\\Windows\\\\Fonts\\\\mmrtext.ttf', name='Myanmar Text', style='normal', variant='normal', weight=400, stretch='normal', size='scalable')) = 10.05\n",
      "24-04-27 13:49:12 [DEBUG] findfont: score(FontEntry(fname='C:\\\\Windows\\\\Fonts\\\\LSANSD.TTF', name='Lucida Sans', style='normal', variant='normal', weight=600, stretch='normal', size='scalable')) = 10.24\n",
      "24-04-27 13:49:12 [DEBUG] findfont: score(FontEntry(fname='C:\\\\Windows\\\\Fonts\\\\LTYPE.TTF', name='Lucida Sans Typewriter', style='normal', variant='normal', weight=400, stretch='normal', size='scalable')) = 10.05\n",
      "24-04-27 13:49:12 [DEBUG] findfont: score(FontEntry(fname='C:\\\\Windows\\\\Fonts\\\\GILC____.TTF', name='Gill Sans MT Condensed', style='normal', variant='normal', weight=400, stretch='condensed', size='scalable')) = 10.25\n",
      "24-04-27 13:49:12 [DEBUG] findfont: score(FontEntry(fname='C:\\\\Windows\\\\Fonts\\\\FELIXTI.TTF', name='Felix Titling', style='normal', variant='normal', weight=400, stretch='normal', size='scalable')) = 10.05\n",
      "24-04-27 13:49:12 [DEBUG] findfont: score(FontEntry(fname='C:\\\\Windows\\\\Fonts\\\\seguiemj.ttf', name='Segoe UI Emoji', style='normal', variant='normal', weight=400, stretch='normal', size='scalable')) = 10.05\n",
      "24-04-27 13:49:12 [DEBUG] findfont: score(FontEntry(fname='C:\\\\Windows\\\\Fonts\\\\GOUDOSI.TTF', name='Goudy Old Style', style='italic', variant='normal', weight=400, stretch='normal', size='scalable')) = 11.05\n",
      "24-04-27 13:49:12 [DEBUG] findfont: score(FontEntry(fname='C:\\\\Windows\\\\Fonts\\\\GLECB.TTF', name='Gloucester MT Extra Condensed', style='normal', variant='normal', weight=400, stretch='condensed', size='scalable')) = 10.25\n",
      "24-04-27 13:49:12 [DEBUG] findfont: score(FontEntry(fname='C:\\\\Windows\\\\Fonts\\\\YuGothL.ttc', name='Yu Gothic', style='normal', variant='normal', weight=300, stretch='normal', size='scalable')) = 10.145\n",
      "24-04-27 13:49:12 [DEBUG] findfont: score(FontEntry(fname='C:\\\\Windows\\\\Fonts\\\\GARA.TTF', name='Garamond', style='normal', variant='normal', weight=400, stretch='normal', size='scalable')) = 10.05\n",
      "24-04-27 13:49:12 [DEBUG] findfont: score(FontEntry(fname='C:\\\\Windows\\\\Fonts\\\\KUNSTLER.TTF', name='Kunstler Script', style='normal', variant='normal', weight=400, stretch='normal', size='scalable')) = 10.05\n",
      "24-04-27 13:49:12 [DEBUG] findfont: score(FontEntry(fname='C:\\\\Windows\\\\Fonts\\\\CALIST.TTF', name='Calisto MT', style='normal', variant='normal', weight=400, stretch='normal', size='scalable')) = 10.05\n",
      "24-04-27 13:49:12 [DEBUG] findfont: score(FontEntry(fname='C:\\\\Windows\\\\Fonts\\\\BOD_CR.TTF', name='Bodoni MT', style='normal', variant='normal', weight=400, stretch='condensed', size='scalable')) = 10.25\n",
      "24-04-27 13:49:12 [DEBUG] findfont: score(FontEntry(fname='C:\\\\Windows\\\\Fonts\\\\LSANS.TTF', name='Lucida Sans', style='normal', variant='normal', weight=400, stretch='normal', size='scalable')) = 10.05\n",
      "24-04-27 13:49:12 [DEBUG] findfont: score(FontEntry(fname='C:\\\\Windows\\\\Fonts\\\\ariali.ttf', name='Arial', style='italic', variant='normal', weight=400, stretch='normal', size='scalable')) = 7.413636363636363\n",
      "24-04-27 13:49:12 [DEBUG] findfont: score(FontEntry(fname='C:\\\\Windows\\\\Fonts\\\\TCM_____.TTF', name='Tw Cen MT', style='normal', variant='normal', weight=400, stretch='normal', size='scalable')) = 10.05\n",
      "24-04-27 13:49:12 [DEBUG] findfont: score(FontEntry(fname='C:\\\\Windows\\\\Fonts\\\\segoeuib.ttf', name='Segoe UI', style='normal', variant='normal', weight=700, stretch='normal', size='scalable')) = 10.335\n",
      "24-04-27 13:49:12 [DEBUG] findfont: score(FontEntry(fname='C:\\\\Windows\\\\Fonts\\\\FTLTLT.TTF', name='Footlight MT Light', style='normal', variant='normal', weight=300, stretch='normal', size='scalable')) = 10.145\n",
      "24-04-27 13:49:12 [DEBUG] findfont: score(FontEntry(fname='C:\\\\Windows\\\\Fonts\\\\pala.ttf', name='Palatino Linotype', style='normal', variant='normal', weight=400, stretch='normal', size='scalable')) = 10.05\n",
      "24-04-27 13:49:12 [DEBUG] findfont: score(FontEntry(fname='C:\\\\Windows\\\\Fonts\\\\BRUSHSCI.TTF', name='Brush Script MT', style='italic', variant='normal', weight=400, stretch='normal', size='scalable')) = 11.05\n",
      "24-04-27 13:49:12 [DEBUG] findfont: score(FontEntry(fname='C:\\\\Windows\\\\Fonts\\\\CENTURY.TTF', name='Century', style='normal', variant='normal', weight=400, stretch='normal', size='scalable')) = 10.05\n",
      "24-04-27 13:49:12 [DEBUG] findfont: score(FontEntry(fname='C:\\\\Windows\\\\Fonts\\\\ROCKEB.TTF', name='Rockwell Extra Bold', style='normal', variant='normal', weight=800, stretch='normal', size='scalable')) = 10.43\n",
      "24-04-27 13:49:12 [DEBUG] findfont: score(FontEntry(fname='C:\\\\Windows\\\\Fonts\\\\RAVIE.TTF', name='Ravie', style='normal', variant='normal', weight=400, stretch='normal', size='scalable')) = 10.05\n",
      "24-04-27 13:49:12 [DEBUG] findfont: score(FontEntry(fname='C:\\\\Windows\\\\Fonts\\\\trebucit.ttf', name='Trebuchet MS', style='italic', variant='normal', weight=400, stretch='normal', size='scalable')) = 11.05\n",
      "24-04-27 13:49:12 [DEBUG] findfont: score(FontEntry(fname='C:\\\\Windows\\\\Fonts\\\\DUBAI-REGULAR.TTF', name='Dubai', style='normal', variant='normal', weight=400, stretch='normal', size='scalable')) = 10.05\n",
      "24-04-27 13:49:12 [DEBUG] findfont: score(FontEntry(fname='C:\\\\Windows\\\\Fonts\\\\LTYPEO.TTF', name='Lucida Sans Typewriter', style='oblique', variant='normal', weight=400, stretch='normal', size='scalable')) = 11.05\n",
      "24-04-27 13:49:12 [DEBUG] findfont: score(FontEntry(fname='C:\\\\Windows\\\\Fonts\\\\comicbd.ttf', name='Comic Sans MS', style='normal', variant='normal', weight=700, stretch='normal', size='scalable')) = 10.335\n",
      "24-04-27 13:49:12 [DEBUG] findfont: score(FontEntry(fname='C:\\\\Windows\\\\Fonts\\\\corbel.ttf', name='Corbel', style='normal', variant='normal', weight=400, stretch='normal', size='scalable')) = 10.05\n",
      "24-04-27 13:49:12 [DEBUG] findfont: score(FontEntry(fname='C:\\\\Windows\\\\Fonts\\\\DUBAI-MEDIUM.TTF', name='Dubai', style='normal', variant='normal', weight=500, stretch='normal', size='scalable')) = 10.145\n",
      "24-04-27 13:49:12 [DEBUG] findfont: score(FontEntry(fname='C:\\\\Windows\\\\Fonts\\\\webdings.ttf', name='Webdings', style='normal', variant='normal', weight=400, stretch='normal', size='scalable')) = 10.05\n",
      "24-04-27 13:49:12 [DEBUG] findfont: score(FontEntry(fname='C:\\\\Windows\\\\Fonts\\\\MAGNETOB.TTF', name='Magneto', style='normal', variant='normal', weight=700, stretch='normal', size='scalable')) = 10.335\n",
      "24-04-27 13:49:12 [DEBUG] findfont: score(FontEntry(fname='C:\\\\Windows\\\\Fonts\\\\BOD_B.TTF', name='Bodoni MT', style='normal', variant='normal', weight=700, stretch='normal', size='scalable')) = 10.335\n",
      "24-04-27 13:49:12 [DEBUG] findfont: score(FontEntry(fname='C:\\\\Windows\\\\Fonts\\\\SCHLBKBI.TTF', name='Century Schoolbook', style='italic', variant='normal', weight=700, stretch='normal', size='scalable')) = 11.335\n",
      "24-04-27 13:49:12 [DEBUG] findfont: score(FontEntry(fname='C:\\\\Windows\\\\Fonts\\\\GOUDOS.TTF', name='Goudy Old Style', style='normal', variant='normal', weight=400, stretch='normal', size='scalable')) = 10.05\n",
      "24-04-27 13:49:12 [DEBUG] findfont: score(FontEntry(fname='C:\\\\Windows\\\\Fonts\\\\segmdl2.ttf', name='Segoe MDL2 Assets', style='normal', variant='normal', weight=400, stretch='normal', size='scalable')) = 10.05\n",
      "24-04-27 13:49:12 [DEBUG] findfont: score(FontEntry(fname='C:\\\\Windows\\\\Fonts\\\\ARIALNBI.TTF', name='Arial', style='italic', variant='normal', weight=700, stretch='condensed', size='scalable')) = 7.8986363636363635\n",
      "24-04-27 13:49:12 [DEBUG] findfont: score(FontEntry(fname='C:\\\\Windows\\\\Fonts\\\\FRADMIT.TTF', name='Franklin Gothic Demi', style='italic', variant='normal', weight=400, stretch='normal', size='scalable')) = 11.05\n",
      "24-04-27 13:49:12 [DEBUG] findfont: score(FontEntry(fname='C:\\\\Windows\\\\Fonts\\\\georgiab.ttf', name='Georgia', style='normal', variant='normal', weight=700, stretch='normal', size='scalable')) = 10.335\n",
      "24-04-27 13:49:12 [DEBUG] findfont: score(FontEntry(fname='C:\\\\Windows\\\\Fonts\\\\GOUDOSB.TTF', name='Goudy Old Style', style='normal', variant='normal', weight=700, stretch='normal', size='scalable')) = 10.335\n",
      "24-04-27 13:49:12 [DEBUG] findfont: score(FontEntry(fname='C:\\\\Windows\\\\Fonts\\\\MOD20.TTF', name='Modern No. 20', style='normal', variant='normal', weight=400, stretch='normal', size='scalable')) = 10.05\n",
      "24-04-27 13:49:12 [DEBUG] findfont: score(FontEntry(fname='C:\\\\Windows\\\\Fonts\\\\GOTHIC.TTF', name='Century Gothic', style='normal', variant='normal', weight=400, stretch='normal', size='scalable')) = 10.05\n",
      "24-04-27 13:49:12 [DEBUG] findfont: score(FontEntry(fname='C:\\\\Windows\\\\Fonts\\\\GARABD.TTF', name='Garamond', style='normal', variant='normal', weight=700, stretch='normal', size='scalable')) = 10.335\n",
      "24-04-27 13:49:12 [DEBUG] findfont: score(FontEntry(fname='C:\\\\Windows\\\\Fonts\\\\ARIALN.TTF', name='Arial', style='normal', variant='normal', weight=400, stretch='condensed', size='scalable')) = 6.613636363636363\n",
      "24-04-27 13:49:12 [DEBUG] findfont: score(FontEntry(fname='C:\\\\Windows\\\\Fonts\\\\SHOWG.TTF', name='Showcard Gothic', style='normal', variant='normal', weight=400, stretch='normal', size='scalable')) = 10.05\n",
      "24-04-27 13:49:12 [DEBUG] findfont: score(FontEntry(fname='C:\\\\Windows\\\\Fonts\\\\malgunsl.ttf', name='Malgun Gothic', style='normal', variant='normal', weight=300, stretch='normal', size='scalable')) = 10.145\n",
      "24-04-27 13:49:12 [DEBUG] findfont: score(FontEntry(fname='C:\\\\Windows\\\\Fonts\\\\COOPBL.TTF', name='Cooper Black', style='normal', variant='normal', weight=400, stretch='normal', size='scalable')) = 10.05\n",
      "24-04-27 13:49:12 [DEBUG] findfont: score(FontEntry(fname='C:\\\\Windows\\\\Fonts\\\\phagspa.ttf', name='Microsoft PhagsPa', style='normal', variant='normal', weight=400, stretch='normal', size='scalable')) = 10.05\n",
      "24-04-27 13:49:12 [DEBUG] findfont: score(FontEntry(fname='C:\\\\Windows\\\\Fonts\\\\javatext.ttf', name='Javanese Text', style='normal', variant='normal', weight=400, stretch='normal', size='scalable')) = 10.05\n",
      "24-04-27 13:49:12 [DEBUG] findfont: score(FontEntry(fname='C:\\\\Windows\\\\Fonts\\\\DUBAI-BOLD.TTF', name='Dubai', style='normal', variant='normal', weight=700, stretch='normal', size='scalable')) = 10.335\n",
      "24-04-27 13:49:12 [DEBUG] findfont: score(FontEntry(fname='C:\\\\Windows\\\\Fonts\\\\GOUDYSTO.TTF', name='Goudy Stout', style='normal', variant='normal', weight=400, stretch='normal', size='scalable')) = 10.05\n",
      "24-04-27 13:49:12 [DEBUG] findfont: score(FontEntry(fname='C:\\\\Windows\\\\Fonts\\\\YuGothR.ttc', name='Yu Gothic', style='normal', variant='normal', weight=400, stretch='normal', size='scalable')) = 10.05\n",
      "24-04-27 13:49:12 [DEBUG] findfont: score(FontEntry(fname='C:\\\\Windows\\\\Fonts\\\\HTOWERTI.TTF', name='High Tower Text', style='italic', variant='normal', weight=400, stretch='normal', size='scalable')) = 11.05\n",
      "24-04-27 13:49:12 [DEBUG] findfont: score(FontEntry(fname='C:\\\\Windows\\\\Fonts\\\\PALSCRI.TTF', name='Palace Script MT', style='normal', variant='normal', weight=400, stretch='normal', size='scalable')) = 10.05\n",
      "24-04-27 13:49:12 [DEBUG] findfont: score(FontEntry(fname='C:\\\\Windows\\\\Fonts\\\\ANTQUAB.TTF', name='Book Antiqua', style='normal', variant='normal', weight=700, stretch='normal', size='scalable')) = 10.335\n",
      "24-04-27 13:49:12 [DEBUG] findfont: score(FontEntry(fname='C:\\\\Windows\\\\Fonts\\\\CALISTBI.TTF', name='Calisto MT', style='italic', variant='normal', weight=700, stretch='normal', size='scalable')) = 11.335\n",
      "24-04-27 13:49:12 [DEBUG] findfont: score(FontEntry(fname='C:\\\\Windows\\\\Fonts\\\\corbeli.ttf', name='Corbel', style='italic', variant='normal', weight=400, stretch='normal', size='scalable')) = 11.05\n",
      "24-04-27 13:49:12 [DEBUG] findfont: score(FontEntry(fname='C:\\\\Windows\\\\Fonts\\\\msgothic.ttc', name='MS Gothic', style='normal', variant='normal', weight=400, stretch='normal', size='scalable')) = 10.05\n",
      "24-04-27 13:49:12 [DEBUG] findfont: score(FontEntry(fname='C:\\\\Windows\\\\Fonts\\\\georgiai.ttf', name='Georgia', style='italic', variant='normal', weight=400, stretch='normal', size='scalable')) = 11.05\n",
      "24-04-27 13:49:12 [DEBUG] findfont: score(FontEntry(fname='C:\\\\Windows\\\\Fonts\\\\SegUIVar.ttf', name='Segoe UI Variable', style='normal', variant='normal', weight=400, stretch='normal', size='scalable')) = 10.05\n",
      "24-04-27 13:49:12 [DEBUG] findfont: score(FontEntry(fname='C:\\\\Windows\\\\Fonts\\\\l_10646.ttf', name='Lucida Sans Unicode', style='normal', variant='normal', weight=400, stretch='normal', size='scalable')) = 10.05\n",
      "24-04-27 13:49:12 [DEBUG] findfont: score(FontEntry(fname='C:\\\\Windows\\\\Fonts\\\\GILB____.TTF', name='Gill Sans MT', style='normal', variant='normal', weight=700, stretch='normal', size='scalable')) = 10.335\n",
      "24-04-27 13:49:12 [DEBUG] findfont: score(FontEntry(fname='C:\\\\Windows\\\\Fonts\\\\cambriaz.ttf', name='Cambria', style='italic', variant='normal', weight=700, stretch='normal', size='scalable')) = 11.335\n",
      "24-04-27 13:49:12 [DEBUG] findfont: score(FontEntry(fname='C:\\\\Windows\\\\Fonts\\\\msyhl.ttc', name='Microsoft YaHei', style='normal', variant='normal', weight=290, stretch='normal', size='scalable')) = 10.1545\n",
      "24-04-27 13:49:12 [DEBUG] findfont: score(FontEntry(fname='C:\\\\Windows\\\\Fonts\\\\Candara.ttf', name='Candara', style='normal', variant='normal', weight=400, stretch='normal', size='scalable')) = 10.05\n",
      "24-04-27 13:49:12 [DEBUG] findfont: score(FontEntry(fname='C:\\\\Windows\\\\Fonts\\\\Inkfree.ttf', name='Ink Free', style='normal', variant='normal', weight=400, stretch='normal', size='scalable')) = 10.05\n",
      "24-04-27 13:49:12 [DEBUG] findfont: score(FontEntry(fname='C:\\\\Windows\\\\Fonts\\\\TCBI____.TTF', name='Tw Cen MT', style='italic', variant='normal', weight=700, stretch='normal', size='scalable')) = 11.335\n",
      "24-04-27 13:49:12 [DEBUG] findfont: score(FontEntry(fname='C:\\\\Windows\\\\Fonts\\\\AGENCYB.TTF', name='Agency FB', style='normal', variant='normal', weight=700, stretch='normal', size='scalable')) = 10.335\n",
      "24-04-27 13:49:12 [DEBUG] findfont: score(FontEntry(fname='C:\\\\Windows\\\\Fonts\\\\BELLI.TTF', name='Bell MT', style='italic', variant='normal', weight=400, stretch='normal', size='scalable')) = 11.05\n",
      "24-04-27 13:49:12 [DEBUG] findfont: score(FontEntry(fname='C:\\\\Windows\\\\Fonts\\\\LFAX.TTF', name='Lucida Fax', style='normal', variant='normal', weight=400, stretch='normal', size='scalable')) = 10.05\n",
      "24-04-27 13:49:12 [DEBUG] findfont: score(FontEntry(fname='C:\\\\Windows\\\\Fonts\\\\GLSNECB.TTF', name='Gill Sans MT Ext Condensed Bold', style='normal', variant='normal', weight=400, stretch='condensed', size='scalable')) = 10.25\n",
      "24-04-27 13:49:12 [DEBUG] findfont: score(FontEntry(fname='C:\\\\Windows\\\\Fonts\\\\ELEPHNT.TTF', name='Elephant', style='normal', variant='normal', weight=400, stretch='normal', size='scalable')) = 10.05\n",
      "24-04-27 13:49:12 [DEBUG] findfont: score(FontEntry(fname='C:\\\\Windows\\\\Fonts\\\\ANTQUAI.TTF', name='Book Antiqua', style='italic', variant='normal', weight=400, stretch='normal', size='scalable')) = 11.05\n",
      "24-04-27 13:49:12 [DEBUG] findfont: score(FontEntry(fname='C:\\\\Windows\\\\Fonts\\\\segoeuisl.ttf', name='Segoe UI', style='normal', variant='normal', weight=350, stretch='normal', size='scalable')) = 10.0975\n",
      "24-04-27 13:49:12 [DEBUG] findfont: score(FontEntry(fname='C:\\\\Windows\\\\Fonts\\\\palai.ttf', name='Palatino Linotype', style='italic', variant='normal', weight=400, stretch='normal', size='scalable')) = 11.05\n",
      "24-04-27 13:49:12 [DEBUG] findfont: score(FontEntry(fname='C:\\\\Windows\\\\Fonts\\\\calibriz.ttf', name='Calibri', style='italic', variant='normal', weight=700, stretch='normal', size='scalable')) = 11.335\n",
      "24-04-27 13:49:12 [DEBUG] findfont: score(FontEntry(fname='C:\\\\Windows\\\\Fonts\\\\PERB____.TTF', name='Perpetua', style='normal', variant='normal', weight=700, stretch='normal', size='scalable')) = 10.335\n",
      "24-04-27 13:49:12 [DEBUG] findfont: score(FontEntry(fname='C:\\\\Windows\\\\Fonts\\\\BRITANIC.TTF', name='Britannic Bold', style='normal', variant='normal', weight=400, stretch='normal', size='scalable')) = 10.05\n",
      "24-04-27 13:49:12 [DEBUG] findfont: score(FontEntry(fname='C:\\\\Windows\\\\Fonts\\\\taile.ttf', name='Microsoft Tai Le', style='normal', variant='normal', weight=400, stretch='normal', size='scalable')) = 10.05\n",
      "24-04-27 13:49:12 [DEBUG] findfont: score(FontEntry(fname='C:\\\\Windows\\\\Fonts\\\\FRADM.TTF', name='Franklin Gothic Demi', style='normal', variant='normal', weight=400, stretch='normal', size='scalable')) = 10.05\n",
      "24-04-27 13:49:12 [DEBUG] findfont: score(FontEntry(fname='C:\\\\Windows\\\\Fonts\\\\comici.ttf', name='Comic Sans MS', style='italic', variant='normal', weight=400, stretch='normal', size='scalable')) = 11.05\n",
      "24-04-27 13:49:12 [DEBUG] findfont: score(FontEntry(fname='C:\\\\Windows\\\\Fonts\\\\BOD_CBI.TTF', name='Bodoni MT', style='italic', variant='normal', weight=700, stretch='condensed', size='scalable')) = 11.535\n",
      "24-04-27 13:49:12 [DEBUG] findfont: score(FontEntry(fname='C:\\\\Windows\\\\Fonts\\\\ONYX.TTF', name='Onyx', style='normal', variant='normal', weight=400, stretch='normal', size='scalable')) = 10.05\n",
      "24-04-27 13:49:12 [DEBUG] findfont: score(FontEntry(fname='C:\\\\Windows\\\\Fonts\\\\TCB_____.TTF', name='Tw Cen MT', style='normal', variant='normal', weight=700, stretch='normal', size='scalable')) = 10.335\n",
      "24-04-27 13:49:12 [DEBUG] findfont: score(FontEntry(fname='C:\\\\Windows\\\\Fonts\\\\cambria.ttc', name='Cambria', style='normal', variant='normal', weight=400, stretch='normal', size='scalable')) = 10.05\n",
      "24-04-27 13:49:12 [DEBUG] findfont: score(FontEntry(fname='C:\\\\Windows\\\\Fonts\\\\gadugib.ttf', name='Gadugi', style='normal', variant='normal', weight=700, stretch='normal', size='scalable')) = 10.335\n",
      "24-04-27 13:49:12 [DEBUG] findfont: score(FontEntry(fname='C:\\\\Windows\\\\Fonts\\\\CHILLER.TTF', name='Chiller', style='normal', variant='normal', weight=400, stretch='normal', size='scalable')) = 10.05\n",
      "24-04-27 13:49:12 [DEBUG] findfont: score(FontEntry(fname='C:\\\\Windows\\\\Fonts\\\\SCHLBKI.TTF', name='Century Schoolbook', style='italic', variant='normal', weight=400, stretch='normal', size='scalable')) = 11.05\n",
      "24-04-27 13:49:12 [DEBUG] findfont: score(FontEntry(fname='C:\\\\Windows\\\\Fonts\\\\BOD_I.TTF', name='Bodoni MT', style='italic', variant='normal', weight=400, stretch='normal', size='scalable')) = 11.05\n",
      "24-04-27 13:49:12 [DEBUG] findfont: score(FontEntry(fname='C:\\\\Windows\\\\Fonts\\\\timesbd.ttf', name='Times New Roman', style='normal', variant='normal', weight=700, stretch='normal', size='scalable')) = 10.335\n",
      "24-04-27 13:49:12 [DEBUG] findfont: score(FontEntry(fname='C:\\\\Windows\\\\Fonts\\\\GILI____.TTF', name='Gill Sans MT', style='italic', variant='normal', weight=400, stretch='normal', size='scalable')) = 11.05\n",
      "24-04-27 13:49:12 [DEBUG] findfont: score(FontEntry(fname='C:\\\\Windows\\\\Fonts\\\\ANTQUABI.TTF', name='Book Antiqua', style='italic', variant='normal', weight=700, stretch='normal', size='scalable')) = 11.335\n",
      "24-04-27 13:49:12 [DEBUG] findfont: score(FontEntry(fname='C:\\\\Windows\\\\Fonts\\\\PERI____.TTF', name='Perpetua', style='italic', variant='normal', weight=400, stretch='normal', size='scalable')) = 11.05\n",
      "24-04-27 13:49:12 [DEBUG] findfont: score(FontEntry(fname='C:\\\\Windows\\\\Fonts\\\\LEELAWDB.TTF', name='Leelawadee', style='normal', variant='normal', weight=700, stretch='normal', size='scalable')) = 10.335\n",
      "24-04-27 13:49:12 [DEBUG] findfont: score(FontEntry(fname='C:\\\\Windows\\\\Fonts\\\\ITCEDSCR.TTF', name='Edwardian Script ITC', style='normal', variant='normal', weight=400, stretch='normal', size='scalable')) = 10.05\n",
      "24-04-27 13:49:12 [DEBUG] findfont: score(FontEntry(fname='C:\\\\Windows\\\\Fonts\\\\segoescb.ttf', name='Segoe Script', style='normal', variant='normal', weight=700, stretch='normal', size='scalable')) = 10.335\n",
      "24-04-27 13:49:12 [DEBUG] findfont: score(FontEntry(fname='C:\\\\Windows\\\\Fonts\\\\courbd.ttf', name='Courier New', style='normal', variant='normal', weight=700, stretch='normal', size='scalable')) = 10.335\n",
      "24-04-27 13:49:12 [DEBUG] findfont: score(FontEntry(fname='C:\\\\Windows\\\\Fonts\\\\Candarai.ttf', name='Candara', style='italic', variant='normal', weight=400, stretch='normal', size='scalable')) = 11.05\n",
      "24-04-27 13:49:12 [DEBUG] findfont: score(FontEntry(fname='C:\\\\Windows\\\\Fonts\\\\PERTILI.TTF', name='Perpetua Titling MT', style='normal', variant='normal', weight=300, stretch='normal', size='scalable')) = 10.145\n",
      "24-04-27 13:49:12 [DEBUG] findfont: score(FontEntry(fname='C:\\\\Windows\\\\Fonts\\\\GIL_____.TTF', name='Gill Sans MT', style='normal', variant='normal', weight=400, stretch='normal', size='scalable')) = 10.05\n",
      "24-04-27 13:49:12 [DEBUG] findfont: score(FontEntry(fname='C:\\\\Windows\\\\Fonts\\\\comicz.ttf', name='Comic Sans MS', style='italic', variant='normal', weight=700, stretch='normal', size='scalable')) = 11.335\n",
      "24-04-27 13:49:12 [DEBUG] findfont: score(FontEntry(fname='C:\\\\Windows\\\\Fonts\\\\PLAYBILL.TTF', name='Playbill', style='normal', variant='normal', weight=400, stretch='normal', size='scalable')) = 10.05\n",
      "24-04-27 13:49:12 [DEBUG] findfont: score(FontEntry(fname='C:\\\\Windows\\\\Fonts\\\\segoeuiz.ttf', name='Segoe UI', style='italic', variant='normal', weight=700, stretch='normal', size='scalable')) = 11.335\n",
      "24-04-27 13:49:12 [DEBUG] findfont: score(FontEntry(fname='C:\\\\Windows\\\\Fonts\\\\TEMPSITC.TTF', name='Tempus Sans ITC', style='normal', variant='normal', weight=400, stretch='normal', size='scalable')) = 10.05\n",
      "24-04-27 13:49:12 [DEBUG] findfont: score(FontEntry(fname='C:\\\\Windows\\\\Fonts\\\\FRABKIT.TTF', name='Franklin Gothic Book', style='italic', variant='normal', weight=400, stretch='normal', size='scalable')) = 11.05\n",
      "24-04-27 13:49:12 [DEBUG] findfont: score(FontEntry(fname='C:\\\\Windows\\\\Fonts\\\\BERNHC.TTF', name='Bernard MT Condensed', style='normal', variant='normal', weight=400, stretch='condensed', size='scalable')) = 10.25\n",
      "24-04-27 13:49:12 [DEBUG] findfont: score(FontEntry(fname='C:\\\\Windows\\\\Fonts\\\\couri.ttf', name='Courier New', style='italic', variant='normal', weight=400, stretch='normal', size='scalable')) = 11.05\n",
      "24-04-27 13:49:12 [DEBUG] findfont: score(FontEntry(fname='C:\\\\Windows\\\\Fonts\\\\ALGER.TTF', name='Algerian', style='normal', variant='normal', weight=400, stretch='normal', size='scalable')) = 10.05\n",
      "24-04-27 13:49:12 [DEBUG] findfont: score(FontEntry(fname='C:\\\\Windows\\\\Fonts\\\\BSSYM7.TTF', name='Bookshelf Symbol 7', style='normal', variant='normal', weight=400, stretch='normal', size='scalable')) = 10.05\n",
      "24-04-27 13:49:12 [DEBUG] findfont: score(FontEntry(fname='C:\\\\Windows\\\\Fonts\\\\JOKERMAN.TTF', name='Jokerman', style='normal', variant='normal', weight=400, stretch='normal', size='scalable')) = 10.05\n",
      "24-04-27 13:49:12 [DEBUG] findfont: score(FontEntry(fname='C:\\\\Windows\\\\Fonts\\\\VIVALDII.TTF', name='Vivaldi', style='italic', variant='normal', weight=400, stretch='normal', size='scalable')) = 11.05\n",
      "24-04-27 13:49:12 [DEBUG] findfont: score(FontEntry(fname='C:\\\\Windows\\\\Fonts\\\\ELEPHNTI.TTF', name='Elephant', style='italic', variant='normal', weight=400, stretch='normal', size='scalable')) = 11.05\n",
      "24-04-27 13:49:12 [DEBUG] findfont: score(FontEntry(fname='C:\\\\Windows\\\\Fonts\\\\LCALLIG.TTF', name='Lucida Calligraphy', style='italic', variant='normal', weight=400, stretch='normal', size='scalable')) = 11.05\n",
      "24-04-27 13:49:12 [DEBUG] findfont: score(FontEntry(fname='C:\\\\Windows\\\\Fonts\\\\OCRAEXT.TTF', name='OCR A Extended', style='normal', variant='normal', weight=400, stretch='expanded', size='scalable')) = 10.25\n",
      "24-04-27 13:49:12 [DEBUG] findfont: score(FontEntry(fname='C:\\\\Windows\\\\Fonts\\\\georgia.ttf', name='Georgia', style='normal', variant='normal', weight=400, stretch='normal', size='scalable')) = 10.05\n",
      "24-04-27 13:49:12 [DEBUG] findfont: score(FontEntry(fname='C:\\\\Windows\\\\Fonts\\\\TCCB____.TTF', name='Tw Cen MT Condensed', style='normal', variant='normal', weight=700, stretch='condensed', size='scalable')) = 10.535\n",
      "24-04-27 13:49:12 [DEBUG] findfont: score(FontEntry(fname='C:\\\\Windows\\\\Fonts\\\\STENCIL.TTF', name='Stencil', style='normal', variant='normal', weight=400, stretch='normal', size='scalable')) = 10.05\n",
      "24-04-27 13:49:12 [DEBUG] findfont: score(FontEntry(fname='C:\\\\Windows\\\\Fonts\\\\CALIFR.TTF', name='Californian FB', style='normal', variant='normal', weight=400, stretch='normal', size='scalable')) = 10.05\n",
      "24-04-27 13:49:12 [DEBUG] findfont: score(FontEntry(fname='C:\\\\Windows\\\\Fonts\\\\Nirmala.ttf', name='Nirmala UI', style='normal', variant='normal', weight=400, stretch='normal', size='scalable')) = 10.05\n",
      "24-04-27 13:49:12 [DEBUG] findfont: score(FontEntry(fname='C:\\\\Windows\\\\Fonts\\\\ERASBD.TTF', name='Eras Bold ITC', style='normal', variant='normal', weight=400, stretch='normal', size='scalable')) = 10.05\n",
      "24-04-27 13:49:12 [DEBUG] findfont: score(FontEntry(fname='C:\\\\Windows\\\\Fonts\\\\VINERITC.TTF', name='Viner Hand ITC', style='normal', variant='normal', weight=400, stretch='normal', size='scalable')) = 10.05\n",
      "24-04-27 13:49:12 [DEBUG] findfont: score(FontEntry(fname='C:\\\\Windows\\\\Fonts\\\\BELLB.TTF', name='Bell MT', style='normal', variant='normal', weight=700, stretch='normal', size='scalable')) = 10.335\n",
      "24-04-27 13:49:12 [DEBUG] findfont: score(FontEntry(fname='C:\\\\Windows\\\\Fonts\\\\NirmalaS.ttf', name='Nirmala UI', style='normal', variant='normal', weight=350, stretch='normal', size='scalable')) = 10.0975\n",
      "24-04-27 13:49:12 [DEBUG] findfont: score(FontEntry(fname='C:\\\\Windows\\\\Fonts\\\\georgiaz.ttf', name='Georgia', style='italic', variant='normal', weight=700, stretch='normal', size='scalable')) = 11.335\n",
      "24-04-27 13:49:12 [DEBUG] findfont: score(FontEntry(fname='C:\\\\Windows\\\\Fonts\\\\ROCKB.TTF', name='Rockwell', style='normal', variant='normal', weight=700, stretch='normal', size='scalable')) = 10.335\n",
      "24-04-27 13:49:12 [DEBUG] findfont: score(FontEntry(fname='C:\\\\Windows\\\\Fonts\\\\framd.ttf', name='Franklin Gothic Medium', style='normal', variant='normal', weight=400, stretch='normal', size='scalable')) = 10.05\n",
      "24-04-27 13:49:12 [DEBUG] findfont: score(FontEntry(fname='C:\\\\Windows\\\\Fonts\\\\REFSPCL.TTF', name='MS Reference Specialty', style='normal', variant='normal', weight=400, stretch='normal', size='scalable')) = 10.05\n",
      "24-04-27 13:49:12 [DEBUG] findfont: score(FontEntry(fname='C:\\\\Windows\\\\Fonts\\\\verdanai.ttf', name='Verdana', style='italic', variant='normal', weight=400, stretch='normal', size='scalable')) = 4.6863636363636365\n",
      "24-04-27 13:49:12 [DEBUG] findfont: score(FontEntry(fname='C:\\\\Windows\\\\Fonts\\\\REFSAN.TTF', name='MS Reference Sans Serif', style='normal', variant='normal', weight=400, stretch='normal', size='scalable')) = 10.05\n",
      "24-04-27 13:49:12 [DEBUG] findfont: score(FontEntry(fname='C:\\\\Windows\\\\Fonts\\\\CALIFB.TTF', name='Californian FB', style='normal', variant='normal', weight=700, stretch='normal', size='scalable')) = 10.335\n",
      "24-04-27 13:49:12 [DEBUG] findfont: score(FontEntry(fname='C:\\\\Windows\\\\Fonts\\\\LeelUIsl.ttf', name='Leelawadee UI', style='normal', variant='normal', weight=350, stretch='normal', size='scalable')) = 10.0975\n",
      "24-04-27 13:49:12 [DEBUG] findfont: score(FontEntry(fname='C:\\\\Windows\\\\Fonts\\\\CENTAUR.TTF', name='Centaur', style='normal', variant='normal', weight=400, stretch='normal', size='scalable')) = 10.05\n",
      "24-04-27 13:49:12 [DEBUG] findfont: score(FontEntry(fname='C:\\\\Windows\\\\Fonts\\\\LFAXD.TTF', name='Lucida Fax', style='normal', variant='normal', weight=600, stretch='normal', size='scalable')) = 10.24\n",
      "24-04-27 13:49:12 [DEBUG] findfont: score(FontEntry(fname='C:\\\\Windows\\\\Fonts\\\\MSUIGHUB.TTF', name='Microsoft Uighur', style='normal', variant='normal', weight=700, stretch='normal', size='scalable')) = 10.335\n",
      "24-04-27 13:49:12 [DEBUG] findfont: score(FontEntry(fname='C:\\\\Windows\\\\Fonts\\\\ariblk.ttf', name='Arial', style='normal', variant='normal', weight=900, stretch='normal', size='scalable')) = 6.888636363636364\n",
      "24-04-27 13:49:12 [DEBUG] findfont: score(FontEntry(fname='C:\\\\Windows\\\\Fonts\\\\RAGE.TTF', name='Rage Italic', style='italic', variant='normal', weight=400, stretch='normal', size='scalable')) = 11.05\n",
      "24-04-27 13:49:12 [DEBUG] findfont: score(FontEntry(fname='C:\\\\Windows\\\\Fonts\\\\himalaya.ttf', name='Microsoft Himalaya', style='normal', variant='normal', weight=400, stretch='normal', size='scalable')) = 10.05\n",
      "24-04-27 13:49:12 [DEBUG] findfont: score(FontEntry(fname='C:\\\\Windows\\\\Fonts\\\\seguisli.ttf', name='Segoe UI', style='italic', variant='normal', weight=350, stretch='normal', size='scalable')) = 11.0975\n",
      "24-04-27 13:49:12 [DEBUG] findfont: score(FontEntry(fname='C:\\\\Windows\\\\Fonts\\\\PERBI___.TTF', name='Perpetua', style='italic', variant='normal', weight=700, stretch='normal', size='scalable')) = 11.335\n",
      "24-04-27 13:49:12 [DEBUG] findfont: score(FontEntry(fname='C:\\\\Windows\\\\Fonts\\\\ntailub.ttf', name='Microsoft New Tai Lue', style='normal', variant='normal', weight=700, stretch='normal', size='scalable')) = 10.335\n",
      "24-04-27 13:49:12 [DEBUG] findfont: score(FontEntry(fname='C:\\\\Windows\\\\Fonts\\\\PAPYRUS.TTF', name='Papyrus', style='normal', variant='normal', weight=400, stretch='normal', size='scalable')) = 10.05\n",
      "24-04-27 13:49:12 [DEBUG] findfont: score(FontEntry(fname='C:\\\\Windows\\\\Fonts\\\\impact.ttf', name='Impact', style='normal', variant='normal', weight=400, stretch='normal', size='scalable')) = 10.05\n",
      "24-04-27 13:49:12 [DEBUG] findfont: score(FontEntry(fname='C:\\\\Windows\\\\Fonts\\\\CALIFI.TTF', name='Californian FB', style='italic', variant='normal', weight=400, stretch='normal', size='scalable')) = 11.05\n",
      "24-04-27 13:49:12 [DEBUG] findfont: score(FontEntry(fname='C:\\\\Windows\\\\Fonts\\\\CURLZ___.TTF', name='Curlz MT', style='normal', variant='normal', weight=400, stretch='normal', size='scalable')) = 10.05\n",
      "24-04-27 13:49:12 [DEBUG] findfont: score(FontEntry(fname='C:\\\\Windows\\\\Fonts\\\\msjhl.ttc', name='Microsoft JhengHei', style='normal', variant='normal', weight=290, stretch='normal', size='scalable')) = 10.1545\n",
      "24-04-27 13:49:12 [DEBUG] findfont: score(FontEntry(fname='C:\\\\Windows\\\\Fonts\\\\consola.ttf', name='Consolas', style='normal', variant='normal', weight=400, stretch='normal', size='scalable')) = 10.05\n",
      "24-04-27 13:49:12 [DEBUG] findfont: score(FontEntry(fname='C:\\\\Windows\\\\Fonts\\\\COPRGTB.TTF', name='Copperplate Gothic Bold', style='normal', variant='normal', weight=400, stretch='normal', size='scalable')) = 10.05\n",
      "24-04-27 13:49:12 [DEBUG] findfont: score(FontEntry(fname='C:\\\\Windows\\\\Fonts\\\\NIAGENG.TTF', name='Niagara Engraved', style='normal', variant='normal', weight=400, stretch='normal', size='scalable')) = 10.05\n",
      "24-04-27 13:49:12 [DEBUG] findfont: score(FontEntry(fname='C:\\\\Windows\\\\Fonts\\\\MAIAN.TTF', name='Maiandra GD', style='normal', variant='normal', weight=400, stretch='normal', size='scalable')) = 10.05\n",
      "24-04-27 13:49:12 [DEBUG] findfont: score(FontEntry(fname='C:\\\\Windows\\\\Fonts\\\\BRLNSB.TTF', name='Berlin Sans FB', style='normal', variant='normal', weight=700, stretch='normal', size='scalable')) = 10.335\n",
      "24-04-27 13:49:12 [DEBUG] findfont: score(FontEntry(fname='C:\\\\Windows\\\\Fonts\\\\LBRITEI.TTF', name='Lucida Bright', style='italic', variant='normal', weight=400, stretch='normal', size='scalable')) = 11.05\n",
      "24-04-27 13:49:12 [DEBUG] findfont: score(FontEntry(fname='C:\\\\Windows\\\\Fonts\\\\micross.ttf', name='Microsoft Sans Serif', style='normal', variant='normal', weight=400, stretch='normal', size='scalable')) = 10.05\n",
      "24-04-27 13:49:12 [DEBUG] findfont: score(FontEntry(fname='C:\\\\Windows\\\\Fonts\\\\COPRGTL.TTF', name='Copperplate Gothic Light', style='normal', variant='normal', weight=400, stretch='normal', size='scalable')) = 10.05\n",
      "24-04-27 13:49:12 [DEBUG] findfont: score(FontEntry(fname='C:\\\\Windows\\\\Fonts\\\\BRLNSDB.TTF', name='Berlin Sans FB Demi', style='normal', variant='normal', weight=700, stretch='normal', size='scalable')) = 10.335\n",
      "24-04-27 13:49:12 [DEBUG] findfont: score(FontEntry(fname='C:\\\\Windows\\\\Fonts\\\\CALISTB.TTF', name='Calisto MT', style='normal', variant='normal', weight=700, stretch='normal', size='scalable')) = 10.335\n",
      "24-04-27 13:49:12 [DEBUG] findfont: score(FontEntry(fname='C:\\\\Windows\\\\Fonts\\\\LSANSI.TTF', name='Lucida Sans', style='italic', variant='normal', weight=400, stretch='normal', size='scalable')) = 11.05\n",
      "24-04-27 13:49:12 [DEBUG] findfont: score(FontEntry(fname='C:\\\\Windows\\\\Fonts\\\\BOD_BI.TTF', name='Bodoni MT', style='italic', variant='normal', weight=700, stretch='normal', size='scalable')) = 11.335\n",
      "24-04-27 13:49:12 [DEBUG] findfont: score(FontEntry(fname='C:\\\\Windows\\\\Fonts\\\\BRADHITC.TTF', name='Bradley Hand ITC', style='normal', variant='normal', weight=400, stretch='normal', size='scalable')) = 10.05\n",
      "24-04-27 13:49:12 [DEBUG] findfont: score(FontEntry(fname='C:\\\\Windows\\\\Fonts\\\\mingliub.ttc', name='MingLiU-ExtB', style='normal', variant='normal', weight=400, stretch='normal', size='scalable')) = 10.05\n",
      "24-04-27 13:49:12 [DEBUG] findfont: score(FontEntry(fname='C:\\\\Windows\\\\Fonts\\\\lucon.ttf', name='Lucida Console', style='normal', variant='normal', weight=400, stretch='normal', size='scalable')) = 10.05\n",
      "24-04-27 13:49:12 [DEBUG] findfont: score(FontEntry(fname='C:\\\\Windows\\\\Fonts\\\\BOOKOSB.TTF', name='Bookman Old Style', style='normal', variant='normal', weight=600, stretch='normal', size='scalable')) = 10.24\n",
      "24-04-27 13:49:12 [DEBUG] findfont: score(FontEntry(fname='C:\\\\Windows\\\\Fonts\\\\FRADMCN.TTF', name='Franklin Gothic Demi Cond', style='normal', variant='normal', weight=400, stretch='condensed', size='scalable')) = 10.25\n",
      "24-04-27 13:49:12 [DEBUG] findfont: score(FontEntry(fname='C:\\\\Windows\\\\Fonts\\\\holomdl2.ttf', name='HoloLens MDL2 Assets', style='normal', variant='normal', weight=400, stretch='normal', size='scalable')) = 10.05\n",
      "24-04-27 13:49:12 [DEBUG] findfont: score(FontEntry(fname='C:\\\\Windows\\\\Fonts\\\\LBRITED.TTF', name='Lucida Bright', style='normal', variant='normal', weight=600, stretch='normal', size='scalable')) = 10.24\n",
      "24-04-27 13:49:12 [DEBUG] findfont: score(FontEntry(fname='C:\\\\Windows\\\\Fonts\\\\LFAXI.TTF', name='Lucida Fax', style='italic', variant='normal', weight=400, stretch='normal', size='scalable')) = 11.05\n",
      "24-04-27 13:49:12 [DEBUG] findfont: score(FontEntry(fname='C:\\\\Windows\\\\Fonts\\\\PERTIBD.TTF', name='Perpetua Titling MT', style='normal', variant='normal', weight=700, stretch='normal', size='scalable')) = 10.335\n",
      "24-04-27 13:49:12 [DEBUG] findfont: score(FontEntry(fname='C:\\\\Windows\\\\Fonts\\\\BELL.TTF', name='Bell MT', style='normal', variant='normal', weight=400, stretch='normal', size='scalable')) = 10.05\n",
      "24-04-27 13:49:13 [DEBUG] findfont: score(FontEntry(fname='C:\\\\Windows\\\\Fonts\\\\ARLRDBD.TTF', name='Arial Rounded MT Bold', style='normal', variant='normal', weight=400, stretch='normal', size='scalable')) = 10.05\n",
      "24-04-27 13:49:13 [DEBUG] findfont: score(FontEntry(fname='C:\\\\Windows\\\\Fonts\\\\FRABK.TTF', name='Franklin Gothic Book', style='normal', variant='normal', weight=400, stretch='normal', size='scalable')) = 10.05\n",
      "24-04-27 13:49:13 [DEBUG] findfont: score(FontEntry(fname='C:\\\\Windows\\\\Fonts\\\\Candaraz.ttf', name='Candara', style='italic', variant='normal', weight=700, stretch='normal', size='scalable')) = 11.335\n",
      "24-04-27 13:49:13 [DEBUG] findfont: score(FontEntry(fname='C:\\\\Windows\\\\Fonts\\\\HTOWERT.TTF', name='High Tower Text', style='normal', variant='normal', weight=400, stretch='normal', size='scalable')) = 10.05\n",
      "24-04-27 13:49:13 [DEBUG] findfont: score(FontEntry(fname='C:\\\\Windows\\\\Fonts\\\\MSUIGHUR.TTF', name='Microsoft Uighur', style='normal', variant='normal', weight=400, stretch='normal', size='scalable')) = 10.05\n",
      "24-04-27 13:49:13 [DEBUG] findfont: score(FontEntry(fname='C:\\\\Windows\\\\Fonts\\\\POORICH.TTF', name='Poor Richard', style='normal', variant='normal', weight=400, stretch='normal', size='scalable')) = 10.05\n",
      "24-04-27 13:49:13 [DEBUG] findfont: score(FontEntry(fname='C:\\\\Windows\\\\Fonts\\\\ERASDEMI.TTF', name='Eras Demi ITC', style='normal', variant='normal', weight=400, stretch='normal', size='scalable')) = 10.05\n",
      "24-04-27 13:49:13 [DEBUG] findfont: score(FontEntry(fname='C:\\\\Windows\\\\Fonts\\\\ROCKI.TTF', name='Rockwell', style='italic', variant='normal', weight=400, stretch='normal', size='scalable')) = 11.05\n",
      "24-04-27 13:49:13 [DEBUG] findfont: score(FontEntry(fname='C:\\\\Windows\\\\Fonts\\\\cour.ttf', name='Courier New', style='normal', variant='normal', weight=400, stretch='normal', size='scalable')) = 10.05\n",
      "24-04-27 13:49:13 [DEBUG] findfont: score(FontEntry(fname='C:\\\\Windows\\\\Fonts\\\\tahoma.ttf', name='Tahoma', style='normal', variant='normal', weight=400, stretch='normal', size='scalable')) = 10.05\n",
      "24-04-27 13:49:13 [DEBUG] findfont: score(FontEntry(fname='C:\\\\Windows\\\\Fonts\\\\ENGR.TTF', name='Engravers MT', style='normal', variant='normal', weight=500, stretch='normal', size='scalable')) = 10.145\n",
      "24-04-27 13:49:13 [DEBUG] findfont: score(FontEntry(fname='C:\\\\Windows\\\\Fonts\\\\framdit.ttf', name='Franklin Gothic Medium', style='italic', variant='normal', weight=400, stretch='normal', size='scalable')) = 11.05\n",
      "24-04-27 13:49:13 [DEBUG] findfont: score(FontEntry(fname='C:\\\\Windows\\\\Fonts\\\\BOD_R.TTF', name='Bodoni MT', style='normal', variant='normal', weight=400, stretch='normal', size='scalable')) = 10.05\n",
      "24-04-27 13:49:13 [DEBUG] findfont: score(FontEntry(fname='C:\\\\Windows\\\\Fonts\\\\BOD_CB.TTF', name='Bodoni MT', style='normal', variant='normal', weight=700, stretch='condensed', size='scalable')) = 10.535\n",
      "24-04-27 13:49:13 [DEBUG] findfont: score(FontEntry(fname='C:\\\\Windows\\\\Fonts\\\\WINGDNG2.TTF', name='Wingdings 2', style='normal', variant='normal', weight=400, stretch='normal', size='scalable')) = 10.05\n",
      "24-04-27 13:49:13 [DEBUG] findfont: score(FontEntry(fname='C:\\\\Windows\\\\Fonts\\\\TCCEB.TTF', name='Tw Cen MT Condensed Extra Bold', style='normal', variant='normal', weight=400, stretch='condensed', size='scalable')) = 10.25\n",
      "24-04-27 13:49:13 [DEBUG] findfont: score(FontEntry(fname='C:\\\\Windows\\\\Fonts\\\\gadugi.ttf', name='Gadugi', style='normal', variant='normal', weight=400, stretch='normal', size='scalable')) = 10.05\n",
      "24-04-27 13:49:13 [DEBUG] findfont: score(FontEntry(fname='C:\\\\Windows\\\\Fonts\\\\NirmalaB.ttf', name='Nirmala UI', style='normal', variant='normal', weight=700, stretch='normal', size='scalable')) = 10.335\n",
      "24-04-27 13:49:13 [DEBUG] findfont: score(FontEntry(fname='C:\\\\Windows\\\\Fonts\\\\PER_____.TTF', name='Perpetua', style='normal', variant='normal', weight=400, stretch='normal', size='scalable')) = 10.05\n",
      "24-04-27 13:49:13 [DEBUG] findfont: score(FontEntry(fname='C:\\\\Windows\\\\Fonts\\\\BOOKOSBI.TTF', name='Bookman Old Style', style='italic', variant='normal', weight=600, stretch='normal', size='scalable')) = 11.24\n",
      "24-04-27 13:49:13 [DEBUG] findfont: score(FontEntry(fname='C:\\\\Windows\\\\Fonts\\\\consolab.ttf', name='Consolas', style='normal', variant='normal', weight=700, stretch='normal', size='scalable')) = 10.335\n",
      "24-04-27 13:49:13 [DEBUG] findfont: score(FontEntry(fname='C:\\\\Windows\\\\Fonts\\\\IMPRISHA.TTF', name='Imprint MT Shadow', style='normal', variant='normal', weight=400, stretch='normal', size='scalable')) = 10.05\n",
      "24-04-27 13:49:13 [DEBUG] findfont: score(FontEntry(fname='C:\\\\Windows\\\\Fonts\\\\BRLNSR.TTF', name='Berlin Sans FB', style='normal', variant='normal', weight=400, stretch='normal', size='scalable')) = 10.05\n",
      "24-04-27 13:49:13 [DEBUG] findfont: score(FontEntry(fname='C:\\\\Windows\\\\Fonts\\\\calibrili.ttf', name='Calibri', style='italic', variant='normal', weight=300, stretch='normal', size='scalable')) = 11.145\n",
      "24-04-27 13:49:13 [DEBUG] findfont: score(FontEntry(fname='C:\\\\Windows\\\\Fonts\\\\calibrib.ttf', name='Calibri', style='normal', variant='normal', weight=700, stretch='normal', size='scalable')) = 10.335\n",
      "24-04-27 13:49:13 [DEBUG] findfont: score(FontEntry(fname='C:\\\\Windows\\\\Fonts\\\\OLDENGL.TTF', name='Old English Text MT', style='normal', variant='normal', weight=400, stretch='normal', size='scalable')) = 10.05\n",
      "24-04-27 13:49:13 [DEBUG] findfont: score(FontEntry(fname='C:\\\\Windows\\\\Fonts\\\\palabi.ttf', name='Palatino Linotype', style='italic', variant='normal', weight=700, stretch='normal', size='scalable')) = 11.335\n",
      "24-04-27 13:49:13 [DEBUG] findfont: score(FontEntry(fname='C:\\\\Windows\\\\Fonts\\\\seguisym.ttf', name='Segoe UI Symbol', style='normal', variant='normal', weight=400, stretch='normal', size='scalable')) = 10.05\n",
      "24-04-27 13:49:13 [DEBUG] findfont: score(FontEntry(fname='C:\\\\Windows\\\\Fonts\\\\trebucbi.ttf', name='Trebuchet MS', style='italic', variant='normal', weight=700, stretch='normal', size='scalable')) = 11.335\n",
      "24-04-27 13:49:13 [DEBUG] findfont: score(FontEntry(fname='C:\\\\Windows\\\\Fonts\\\\SegoeIcons.ttf', name='Segoe Fluent Icons', style='normal', variant='normal', weight=400, stretch='normal', size='scalable')) = 10.05\n",
      "24-04-27 13:49:13 [DEBUG] findfont: score(FontEntry(fname='C:\\\\Windows\\\\Fonts\\\\palab.ttf', name='Palatino Linotype', style='normal', variant='normal', weight=700, stretch='normal', size='scalable')) = 10.335\n",
      "24-04-27 13:49:13 [DEBUG] findfont: score(FontEntry(fname='C:\\\\Windows\\\\Fonts\\\\mmrtextb.ttf', name='Myanmar Text', style='normal', variant='normal', weight=700, stretch='normal', size='scalable')) = 10.335\n",
      "24-04-27 13:49:13 [DEBUG] findfont: score(FontEntry(fname='C:\\\\Windows\\\\Fonts\\\\times.ttf', name='Times New Roman', style='normal', variant='normal', weight=400, stretch='normal', size='scalable')) = 10.05\n",
      "24-04-27 13:49:13 [DEBUG] findfont: score(FontEntry(fname='C:\\\\Windows\\\\Fonts\\\\verdana.ttf', name='Verdana', style='normal', variant='normal', weight=400, stretch='normal', size='scalable')) = 3.6863636363636365\n",
      "24-04-27 13:49:13 [DEBUG] findfont: score(FontEntry(fname='C:\\\\Windows\\\\Fonts\\\\consolaz.ttf', name='Consolas', style='italic', variant='normal', weight=700, stretch='normal', size='scalable')) = 11.335\n",
      "24-04-27 13:49:13 [DEBUG] findfont: score(FontEntry(fname='C:\\\\Windows\\\\Fonts\\\\TCMI____.TTF', name='Tw Cen MT', style='italic', variant='normal', weight=400, stretch='normal', size='scalable')) = 11.05\n",
      "24-04-27 13:49:13 [DEBUG] findfont: score(FontEntry(fname='C:\\\\Windows\\\\Fonts\\\\ITCKRIST.TTF', name='Kristen ITC', style='normal', variant='normal', weight=400, stretch='normal', size='scalable')) = 10.05\n",
      "24-04-27 13:49:13 [DEBUG] findfont: score(FontEntry(fname='C:\\\\Windows\\\\Fonts\\\\GOTHICBI.TTF', name='Century Gothic', style='italic', variant='normal', weight=700, stretch='normal', size='scalable')) = 11.335\n",
      "24-04-27 13:49:13 [DEBUG] findfont: score(FontEntry(fname='C:\\\\Windows\\\\Fonts\\\\SCRIPTBL.TTF', name='Script MT Bold', style='normal', variant='normal', weight=700, stretch='normal', size='scalable')) = 10.335\n",
      "24-04-27 13:49:13 [DEBUG] findfont: score(FontEntry(fname='C:\\\\Windows\\\\Fonts\\\\ebrimabd.ttf', name='Ebrima', style='normal', variant='normal', weight=700, stretch='normal', size='scalable')) = 10.335\n",
      "24-04-27 13:49:13 [DEBUG] findfont: score(FontEntry(fname='C:\\\\Windows\\\\Fonts\\\\ERASMD.TTF', name='Eras Medium ITC', style='normal', variant='normal', weight=400, stretch='normal', size='scalable')) = 10.05\n",
      "24-04-27 13:49:13 [DEBUG] findfont: score(FontEntry(fname='C:\\\\Windows\\\\Fonts\\\\simsunb.ttf', name='SimSun-ExtB', style='normal', variant='normal', weight=400, stretch='normal', size='scalable')) = 10.05\n",
      "24-04-27 13:49:13 [DEBUG] findfont: score(FontEntry(fname='C:\\\\Windows\\\\Fonts\\\\HARLOWSI.TTF', name='Harlow Solid Italic', style='italic', variant='normal', weight=400, stretch='normal', size='scalable')) = 11.05\n",
      "24-04-27 13:49:13 [DEBUG] findfont: score(FontEntry(fname='C:\\\\Windows\\\\Fonts\\\\GARAIT.TTF', name='Garamond', style='italic', variant='normal', weight=400, stretch='normal', size='scalable')) = 11.05\n",
      "24-04-27 13:49:13 [DEBUG] findfont: score(FontEntry(fname='C:\\\\Windows\\\\Fonts\\\\FRAHVIT.TTF', name='Franklin Gothic Heavy', style='italic', variant='normal', weight=400, stretch='normal', size='scalable')) = 11.05\n",
      "24-04-27 13:49:13 [DEBUG] findfont: score(FontEntry(fname='C:\\\\Windows\\\\Fonts\\\\malgun.ttf', name='Malgun Gothic', style='normal', variant='normal', weight=400, stretch='normal', size='scalable')) = 10.05\n",
      "24-04-27 13:49:13 [DEBUG] findfont: score(FontEntry(fname='C:\\\\Windows\\\\Fonts\\\\LTYPEBO.TTF', name='Lucida Sans Typewriter', style='oblique', variant='normal', weight=600, stretch='normal', size='scalable')) = 11.24\n",
      "24-04-27 13:49:13 [DEBUG] findfont: score(FontEntry(fname='C:\\\\Windows\\\\Fonts\\\\msjh.ttc', name='Microsoft JhengHei', style='normal', variant='normal', weight=400, stretch='normal', size='scalable')) = 10.05\n",
      "24-04-27 13:49:13 [DEBUG] findfont: score(FontEntry(fname='C:\\\\Windows\\\\Fonts\\\\DUBAI-LIGHT.TTF', name='Dubai', style='normal', variant='normal', weight=300, stretch='normal', size='scalable')) = 10.145\n",
      "24-04-27 13:49:13 [DEBUG] findfont: score(FontEntry(fname='C:\\\\Windows\\\\Fonts\\\\AGENCYR.TTF', name='Agency FB', style='normal', variant='normal', weight=400, stretch='normal', size='scalable')) = 10.05\n",
      "24-04-27 13:49:13 [DEBUG] findfont: score(FontEntry(fname='C:\\\\Windows\\\\Fonts\\\\HARNGTON.TTF', name='Harrington', style='normal', variant='normal', weight=400, stretch='normal', size='scalable')) = 10.05\n",
      "24-04-27 13:49:13 [DEBUG] findfont: score(FontEntry(fname='C:\\\\Windows\\\\Fonts\\\\ARIALNI.TTF', name='Arial', style='italic', variant='normal', weight=400, stretch='condensed', size='scalable')) = 7.613636363636363\n",
      "24-04-27 13:49:13 [DEBUG] findfont: score(FontEntry(fname='C:\\\\Windows\\\\Fonts\\\\BOOKOSI.TTF', name='Bookman Old Style', style='italic', variant='normal', weight=300, stretch='normal', size='scalable')) = 11.145\n",
      "24-04-27 13:49:13 [DEBUG] findfont: score(FontEntry(fname='C:\\\\Windows\\\\Fonts\\\\BROADW.TTF', name='Broadway', style='normal', variant='normal', weight=400, stretch='normal', size='scalable')) = 10.05\n",
      "24-04-27 13:49:13 [DEBUG] findfont: score(FontEntry(fname='C:\\\\Windows\\\\Fonts\\\\CASTELAR.TTF', name='Castellar', style='normal', variant='normal', weight=400, stretch='normal', size='scalable')) = 10.05\n",
      "24-04-27 13:49:13 [DEBUG] findfont: score(FontEntry(fname='C:\\\\Windows\\\\Fonts\\\\Gabriola.ttf', name='Gabriola', style='normal', variant='normal', weight=400, stretch='normal', size='scalable')) = 10.05\n",
      "24-04-27 13:49:13 [DEBUG] findfont: score(FontEntry(fname='C:\\\\Windows\\\\Fonts\\\\seguisb.ttf', name='Segoe UI', style='normal', variant='normal', weight=600, stretch='normal', size='scalable')) = 10.24\n",
      "24-04-27 13:49:13 [DEBUG] findfont: score(FontEntry(fname='C:\\\\Windows\\\\Fonts\\\\segoesc.ttf', name='Segoe Script', style='normal', variant='normal', weight=400, stretch='normal', size='scalable')) = 10.05\n",
      "24-04-27 13:49:13 [DEBUG] findfont: score(FontEntry(fname='C:\\\\Windows\\\\Fonts\\\\VLADIMIR.TTF', name='Vladimir Script', style='normal', variant='normal', weight=400, stretch='normal', size='scalable')) = 10.05\n",
      "24-04-27 13:49:13 [DEBUG] findfont: score(FontEntry(fname='C:\\\\Windows\\\\Fonts\\\\timesbi.ttf', name='Times New Roman', style='italic', variant='normal', weight=700, stretch='normal', size='scalable')) = 11.335\n",
      "24-04-27 13:49:13 [DEBUG] findfont: score(FontEntry(fname='C:\\\\Windows\\\\Fonts\\\\BASKVILL.TTF', name='Baskerville Old Face', style='normal', variant='normal', weight=400, stretch='normal', size='scalable')) = 10.05\n",
      "24-04-27 13:49:13 [DEBUG] findfont: score(FontEntry(fname='C:\\\\Windows\\\\Fonts\\\\segoeui.ttf', name='Segoe UI', style='normal', variant='normal', weight=400, stretch='normal', size='scalable')) = 10.05\n",
      "24-04-27 13:49:13 [DEBUG] findfont: score(FontEntry(fname='C:\\\\Windows\\\\Fonts\\\\YuGothB.ttc', name='Yu Gothic', style='normal', variant='normal', weight=700, stretch='normal', size='scalable')) = 10.335\n",
      "24-04-27 13:49:13 [DEBUG] findfont: score(FontEntry(fname='C:\\\\Windows\\\\Fonts\\\\JUICE___.TTF', name='Juice ITC', style='normal', variant='normal', weight=400, stretch='normal', size='scalable')) = 10.05\n",
      "24-04-27 13:49:13 [DEBUG] findfont: score(FontEntry(fname='C:\\\\Windows\\\\Fonts\\\\msyi.ttf', name='Microsoft Yi Baiti', style='normal', variant='normal', weight=400, stretch='normal', size='scalable')) = 10.05\n",
      "24-04-27 13:49:13 [DEBUG] findfont: score(FontEntry(fname='C:\\\\Windows\\\\Fonts\\\\symbol.ttf', name='Symbol', style='normal', variant='normal', weight=400, stretch='normal', size='scalable')) = 10.05\n",
      "24-04-27 13:49:13 [DEBUG] findfont: score(FontEntry(fname='C:\\\\Windows\\\\Fonts\\\\SNAP____.TTF', name='Snap ITC', style='normal', variant='normal', weight=400, stretch='normal', size='scalable')) = 10.05\n",
      "24-04-27 13:49:13 [DEBUG] findfont: score(FontEntry(fname='C:\\\\Windows\\\\Fonts\\\\ntailu.ttf', name='Microsoft New Tai Lue', style='normal', variant='normal', weight=400, stretch='normal', size='scalable')) = 10.05\n",
      "24-04-27 13:49:13 [DEBUG] findfont: score(FontEntry(fname='C:\\\\Windows\\\\Fonts\\\\GILBI___.TTF', name='Gill Sans MT', style='italic', variant='normal', weight=700, stretch='normal', size='scalable')) = 11.335\n",
      "24-04-27 13:49:13 [DEBUG] findfont: score(FontEntry(fname='C:\\\\Windows\\\\Fonts\\\\ROCK.TTF', name='Rockwell', style='normal', variant='normal', weight=400, stretch='normal', size='scalable')) = 10.05\n",
      "24-04-27 13:49:13 [DEBUG] findfont: score(FontEntry(fname='C:\\\\Windows\\\\Fonts\\\\trebuc.ttf', name='Trebuchet MS', style='normal', variant='normal', weight=400, stretch='normal', size='scalable')) = 10.05\n",
      "24-04-27 13:49:13 [DEBUG] findfont: score(FontEntry(fname='C:\\\\Windows\\\\Fonts\\\\BAUHS93.TTF', name='Bauhaus 93', style='normal', variant='normal', weight=400, stretch='normal', size='scalable')) = 10.05\n",
      "24-04-27 13:49:13 [DEBUG] findfont: score(FontEntry(fname='C:\\\\Windows\\\\Fonts\\\\NIAGSOL.TTF', name='Niagara Solid', style='normal', variant='normal', weight=400, stretch='normal', size='scalable')) = 10.05\n",
      "24-04-27 13:49:13 [DEBUG] findfont: score(FontEntry(fname='C:\\\\Windows\\\\Fonts\\\\arialbi.ttf', name='Arial', style='italic', variant='normal', weight=700, stretch='normal', size='scalable')) = 7.698636363636363\n",
      "24-04-27 13:49:13 [DEBUG] findfont: score(FontEntry(fname='C:\\\\Windows\\\\Fonts\\\\LSANSDI.TTF', name='Lucida Sans', style='italic', variant='normal', weight=600, stretch='normal', size='scalable')) = 11.24\n",
      "24-04-27 13:49:13 [DEBUG] findfont: score(FontEntry(fname='C:\\\\Windows\\\\Fonts\\\\BKANT.TTF', name='Book Antiqua', style='normal', variant='normal', weight=400, stretch='normal', size='scalable')) = 10.05\n",
      "24-04-27 13:49:13 [DEBUG] findfont: score(FontEntry(fname='C:\\\\Windows\\\\Fonts\\\\ERASLGHT.TTF', name='Eras Light ITC', style='normal', variant='normal', weight=400, stretch='normal', size='scalable')) = 10.05\n",
      "24-04-27 13:49:13 [DEBUG] findfont: score(FontEntry(fname='C:\\\\Windows\\\\Fonts\\\\ITCBLKAD.TTF', name='Blackadder ITC', style='normal', variant='normal', weight=400, stretch='normal', size='scalable')) = 10.05\n",
      "24-04-27 13:49:13 [DEBUG] findfont: score(FontEntry(fname='C:\\\\Windows\\\\Fonts\\\\Candaral.ttf', name='Candara', style='normal', variant='normal', weight=400, stretch='normal', size='scalable')) = 10.05\n",
      "24-04-27 13:49:13 [DEBUG] findfont: score(FontEntry(fname='C:\\\\Windows\\\\Fonts\\\\calibri.ttf', name='Calibri', style='normal', variant='normal', weight=400, stretch='normal', size='scalable')) = 10.05\n",
      "24-04-27 13:49:13 [DEBUG] findfont: score(FontEntry(fname='C:\\\\Windows\\\\Fonts\\\\SitkaVF.ttf', name='Sitka', style='normal', variant='normal', weight=400, stretch='normal', size='scalable')) = 10.05\n",
      "24-04-27 13:49:13 [DEBUG] findfont: score(FontEntry(fname='C:\\\\Windows\\\\Fonts\\\\corbelli.ttf', name='Corbel', style='italic', variant='normal', weight=300, stretch='normal', size='scalable')) = 11.145\n",
      "24-04-27 13:49:13 [DEBUG] findfont: score(FontEntry(fname='C:\\\\Windows\\\\Fonts\\\\WINGDNG3.TTF', name='Wingdings 3', style='normal', variant='normal', weight=400, stretch='normal', size='scalable')) = 10.05\n",
      "24-04-27 13:49:13 [DEBUG] findfont: score(FontEntry(fname='C:\\\\Windows\\\\Fonts\\\\MTEXTRA.TTF', name='MT Extra', style='normal', variant='normal', weight=400, stretch='normal', size='scalable')) = 10.05\n",
      "24-04-27 13:49:13 [DEBUG] findfont: score(FontEntry(fname='C:\\\\Windows\\\\Fonts\\\\ebrima.ttf', name='Ebrima', style='normal', variant='normal', weight=400, stretch='normal', size='scalable')) = 10.05\n",
      "24-04-27 13:49:13 [DEBUG] findfont: score(FontEntry(fname='C:\\\\Windows\\\\Fonts\\\\INFROMAN.TTF', name='Informal Roman', style='normal', variant='normal', weight=400, stretch='normal', size='scalable')) = 10.05\n",
      "24-04-27 13:49:13 [DEBUG] findfont: score(FontEntry(fname='C:\\\\Windows\\\\Fonts\\\\segoeprb.ttf', name='Segoe Print', style='normal', variant='normal', weight=700, stretch='normal', size='scalable')) = 10.335\n",
      "24-04-27 13:49:13 [DEBUG] findfont: score(FontEntry(fname='C:\\\\Windows\\\\Fonts\\\\BOD_CI.TTF', name='Bodoni MT', style='italic', variant='normal', weight=400, stretch='condensed', size='scalable')) = 11.25\n",
      "24-04-27 13:49:13 [DEBUG] findfont: score(FontEntry(fname='C:\\\\Windows\\\\Fonts\\\\cambriai.ttf', name='Cambria', style='italic', variant='normal', weight=400, stretch='normal', size='scalable')) = 11.05\n",
      "24-04-27 13:49:13 [DEBUG] findfont: score(FontEntry(fname='C:\\\\Windows\\\\Fonts\\\\GIGI.TTF', name='Gigi', style='normal', variant='normal', weight=400, stretch='normal', size='scalable')) = 10.05\n",
      "24-04-27 13:49:13 [DEBUG] findfont: score(FontEntry(fname='C:\\\\Windows\\\\Fonts\\\\constan.ttf', name='Constantia', style='normal', variant='normal', weight=400, stretch='normal', size='scalable')) = 10.05\n",
      "24-04-27 13:49:13 [DEBUG] findfont: score(FontEntry(fname='C:\\\\Windows\\\\Fonts\\\\trebucbd.ttf', name='Trebuchet MS', style='normal', variant='normal', weight=700, stretch='normal', size='scalable')) = 10.335\n",
      "24-04-27 13:49:13 [DEBUG] findfont: score(FontEntry(fname='C:\\\\Windows\\\\Fonts\\\\bahnschrift.ttf', name='Bahnschrift', style='normal', variant='normal', weight=400, stretch='normal', size='scalable')) = 10.05\n",
      "24-04-27 13:49:13 [DEBUG] findfont: score(FontEntry(fname='C:\\\\Windows\\\\Fonts\\\\segoepr.ttf', name='Segoe Print', style='normal', variant='normal', weight=400, stretch='normal', size='scalable')) = 10.05\n",
      "24-04-27 13:49:13 [DEBUG] findfont: score(FontEntry(fname='C:\\\\Windows\\\\Fonts\\\\seguibl.ttf', name='Segoe UI', style='normal', variant='normal', weight=900, stretch='normal', size='scalable')) = 10.525\n",
      "24-04-27 13:49:13 [DEBUG] findfont: score(FontEntry(fname='C:\\\\Windows\\\\Fonts\\\\ARIALNB.TTF', name='Arial', style='normal', variant='normal', weight=700, stretch='condensed', size='scalable')) = 6.8986363636363635\n",
      "24-04-27 13:49:13 [DEBUG] findfont: score(FontEntry(fname='C:\\\\Windows\\\\Fonts\\\\LBRITEDI.TTF', name='Lucida Bright', style='italic', variant='normal', weight=600, stretch='normal', size='scalable')) = 11.24\n",
      "24-04-27 13:49:13 [DEBUG] findfont: score(FontEntry(fname='C:\\\\Windows\\\\Fonts\\\\calibrii.ttf', name='Calibri', style='italic', variant='normal', weight=400, stretch='normal', size='scalable')) = 11.05\n",
      "24-04-27 13:49:13 [DEBUG] findfont: score(FontEntry(fname='C:\\\\Windows\\\\Fonts\\\\SitkaVF-Italic.ttf', name='Sitka', style='italic', variant='normal', weight=400, stretch='normal', size='scalable')) = 11.05\n",
      "24-04-27 13:49:13 [DEBUG] findfont: score(FontEntry(fname='C:\\\\Windows\\\\Fonts\\\\consolai.ttf', name='Consolas', style='italic', variant='normal', weight=400, stretch='normal', size='scalable')) = 11.05\n",
      "24-04-27 13:49:13 [DEBUG] findfont: score(FontEntry(fname='C:\\\\Windows\\\\Fonts\\\\GILLUBCD.TTF', name='Gill Sans Ultra Bold Condensed', style='normal', variant='normal', weight=400, stretch='condensed', size='scalable')) = 10.25\n",
      "24-04-27 13:49:13 [DEBUG] findfont: score(FontEntry(fname='C:\\\\Windows\\\\Fonts\\\\FRAMDCN.TTF', name='Franklin Gothic Medium Cond', style='normal', variant='normal', weight=400, stretch='condensed', size='scalable')) = 10.25\n",
      "24-04-27 13:49:13 [DEBUG] findfont: score(FontEntry(fname='C:\\\\Windows\\\\Fonts\\\\LATINWD.TTF', name='Wide Latin', style='normal', variant='normal', weight=400, stretch='expanded', size='scalable')) = 10.25\n",
      "24-04-27 13:49:13 [DEBUG] findfont: score(FontEntry(fname='C:\\\\Windows\\\\Fonts\\\\seguisbi.ttf', name='Segoe UI', style='italic', variant='normal', weight=600, stretch='normal', size='scalable')) = 11.24\n",
      "24-04-27 13:49:13 [DEBUG] findfont: score(FontEntry(fname='C:\\\\Windows\\\\Fonts\\\\segoeuii.ttf', name='Segoe UI', style='italic', variant='normal', weight=400, stretch='normal', size='scalable')) = 11.05\n",
      "24-04-27 13:49:13 [DEBUG] findfont: score(FontEntry(fname='C:\\\\Windows\\\\Fonts\\\\wingding.ttf', name='Wingdings', style='normal', variant='normal', weight=400, stretch='normal', size='scalable')) = 10.05\n",
      "24-04-27 13:49:13 [DEBUG] findfont: score(FontEntry(fname='C:\\\\Windows\\\\Fonts\\\\YuGothM.ttc', name='Yu Gothic', style='normal', variant='normal', weight=500, stretch='normal', size='scalable')) = 10.145\n",
      "24-04-27 13:49:13 [DEBUG] findfont: score(FontEntry(fname='C:\\\\Windows\\\\Fonts\\\\seguihis.ttf', name='Segoe UI Historic', style='normal', variant='normal', weight=400, stretch='normal', size='scalable')) = 10.05\n",
      "24-04-27 13:49:13 [DEBUG] findfont: score(FontEntry(fname='C:\\\\Windows\\\\Fonts\\\\constanz.ttf', name='Constantia', style='italic', variant='normal', weight=700, stretch='normal', size='scalable')) = 11.335\n",
      "24-04-27 13:49:13 [DEBUG] findfont: score(FontEntry(fname='C:\\\\Windows\\\\Fonts\\\\GOTHICI.TTF', name='Century Gothic', style='italic', variant='normal', weight=400, stretch='normal', size='scalable')) = 11.05\n",
      "24-04-27 13:49:13 [DEBUG] findfont: score(FontEntry(fname='C:\\\\Windows\\\\Fonts\\\\seguibli.ttf', name='Segoe UI', style='italic', variant='normal', weight=900, stretch='normal', size='scalable')) = 11.525\n",
      "24-04-27 13:49:13 [DEBUG] findfont: score(FontEntry(fname='C:\\\\Windows\\\\Fonts\\\\calibril.ttf', name='Calibri', style='normal', variant='normal', weight=300, stretch='normal', size='scalable')) = 10.145\n",
      "24-04-27 13:49:13 [DEBUG] findfont: score(FontEntry(fname='C:\\\\Windows\\\\Fonts\\\\constani.ttf', name='Constantia', style='italic', variant='normal', weight=400, stretch='normal', size='scalable')) = 11.05\n",
      "24-04-27 13:49:13 [DEBUG] findfont: score(FontEntry(fname='C:\\\\Windows\\\\Fonts\\\\ROCC____.TTF', name='Rockwell Condensed', style='normal', variant='normal', weight=400, stretch='condensed', size='scalable')) = 10.25\n",
      "24-04-27 13:49:13 [DEBUG] findfont: score(FontEntry(fname='C:\\\\Windows\\\\Fonts\\\\tahomabd.ttf', name='Tahoma', style='normal', variant='normal', weight=700, stretch='normal', size='scalable')) = 10.335\n",
      "24-04-27 13:49:13 [DEBUG] findfont: score(FontEntry(fname='C:\\\\Windows\\\\Fonts\\\\CALISTI.TTF', name='Calisto MT', style='italic', variant='normal', weight=400, stretch='normal', size='scalable')) = 11.05\n",
      "24-04-27 13:49:13 [DEBUG] findfont: score(FontEntry(fname='C:\\\\Windows\\\\Fonts\\\\OUTLOOK.TTF', name='MS Outlook', style='normal', variant='normal', weight=400, stretch='normal', size='scalable')) = 10.05\n",
      "24-04-27 13:49:13 [DEBUG] findfont: Matching sans\\-serif:style=normal:variant=normal:weight=normal:stretch=normal:size=12.0 to DejaVu Sans ('c:\\\\Users\\\\hayk_\\\\.conda\\\\envs\\\\thesis\\\\lib\\\\site-packages\\\\matplotlib\\\\mpl-data\\\\fonts\\\\ttf\\\\DejaVuSans.ttf') with score of 0.050000.\n"
     ]
    },
    {
     "data": {
      "image/png": "[encoded data removed]",
      "text/plain": [
       "<Figure size 640x480 with 1 Axes>"
      ]
     },
     "metadata": {},
     "output_type": "display_data"
    },
    {
     "name": "stderr",
     "output_type": "stream",
     "text": [
      "24-04-27 13:49:13 [DEBUG] Accuracy:  0.52\n",
      "24-04-27 13:49:13 [DEBUG] F1 Score: 0.00\n",
      "24-04-27 13:49:13 [DEBUG] Confusion Matrix: \n",
      "[[12128     0]\n",
      " [11373     0]]\n",
      "24-04-27 13:49:13 [INFO] ------------------------------\n",
      "24-04-27 13:49:13 [INFO] Step 5: Run DST (dataset=Telecom_customer churn, breaks=3, add_mult_rules=False, maf_method=random)\n",
      "24-04-27 13:49:13 [DEBUG] \tModel init done\n"
     ]
    },
    {
     "name": "stdout",
     "output_type": "stream",
     "text": [
      "Optimization started\n",
      "Processing epoch\t26\t0.0452\t"
     ]
    },
    {
     "name": "stderr",
     "output_type": "stream",
     "text": [
      "24-04-27 13:49:14 [DEBUG] \tModel fit done\n"
     ]
    },
    {
     "name": "stdout",
     "output_type": "stream",
     "text": [
      "Processing epoch\t31\t0.0041\t\n",
      "Training time: 0.97s, epochs: 31\n",
      "\n",
      "Least training loss reached: 0.004\n",
      "DSModelMultiQ(\n",
      "  DS Classifier using 264 rules\n",
      "  \n",
      "  Rule 1: rev_Mean < 53.814\n",
      "  \tC1: 0.027\tC2: 0.172\tUnc: 0.800\n",
      "  \n",
      "  Rule 2: 53.814 < rev_Mean < 73.014\n",
      "  \tC1: 0.074\tC2: 0.117\tUnc: 0.809\n",
      "  \n",
      "  Rule 3: 73.014 < rev_Mean < 92.214\n",
      "  \tC1: 0.071\tC2: 0.119\tUnc: 0.810\n",
      "  \n",
      "  Rule 4: rev_Mean > 92.214\n",
      "  \tC1: 0.131\tC2: 0.054\tUnc: 0.816\n",
      "  \n",
      "  Rule 5: mou_Mean < 204.488\n",
      "  \tC1: 0.082\tC2: 0.110\tUnc: 0.808\n",
      "  \n",
      "  Rule 6: 204.488 < mou_Mean < 465.275\n",
      "  \tC1: 0.107\tC2: 0.072\tUnc: 0.821\n",
      "  \n",
      "  Rule 7: 465.275 < mou_Mean < 726.062\n",
      "  \tC1: 0.041\tC2: 0.159\tUnc: 0.800\n",
      "  \n",
      "  Rule 8: mou_Mean > 726.062\n",
      "  \tC1: 0.187\tC2: 0.012\tUnc: 0.801\n",
      "  \n",
      "  Rule 9: totmrc_Mean < 44.918\n",
      "  \tC1: 0.170\tC2: 0.025\tUnc: 0.805\n",
      "  \n",
      "  Rule 10: 44.918 < totmrc_Mean < 56.371\n",
      "  \tC1: 0.018\tC2: 0.182\tUnc: 0.800\n",
      "  \n",
      "  Rule 11: 56.371 < totmrc_Mean < 67.823\n",
      "  \tC1: 0.093\tC2: 0.107\tUnc: 0.800\n",
      "  \n",
      "  Rule 12: totmrc_Mean > 67.823\n",
      "  \tC1: 0.000\tC2: 0.207\tUnc: 0.793\n",
      "  \n",
      "  Rule 13: da_Mean = 0.0\n",
      "  \tC1: 0.170\tC2: 0.027\tUnc: 0.804\n",
      "  \n",
      "  Rule 14: da_Mean = 0.2475\n",
      "  \tC1: 0.114\tC2: 0.086\tUnc: 0.800\n",
      "  \n",
      "  Rule 15: da_Mean = 2.2275\n",
      "  \tC1: 0.166\tC2: 0.034\tUnc: 0.800\n",
      "  \n",
      "  Rule 16: da_Mean = 2.97\n",
      "  \tC1: 0.040\tC2: 0.160\tUnc: 0.800\n",
      "  \n",
      "  Rule 17: da_Mean = 6.93\n",
      "  \tC1: 0.088\tC2: 0.112\tUnc: 0.800\n",
      "  \n",
      "  Rule 18: ovrmou_Mean < 14.514\n",
      "  \tC1: 0.053\tC2: 0.146\tUnc: 0.801\n",
      "  \n",
      "  Rule 19: 14.514 < ovrmou_Mean < 57.075\n",
      "  \tC1: 0.047\tC2: 0.153\tUnc: 0.800\n",
      "  \n",
      "  Rule 20: 57.075 < ovrmou_Mean < 99.636\n",
      "  \tC1: 0.216\tC2: 0.000\tUnc: 0.784\n",
      "  \n",
      "  Rule 21: ovrmou_Mean > 99.636\n",
      "  \tC1: 0.140\tC2: 0.043\tUnc: 0.817\n",
      "  \n",
      "  Rule 22: ovrrev_Mean < 5.371\n",
      "  \tC1: 0.081\tC2: 0.110\tUnc: 0.809\n",
      "  \n",
      "  Rule 23: 5.371 < ovrrev_Mean < 18.646\n",
      "  \tC1: 0.098\tC2: 0.102\tUnc: 0.800\n",
      "  \n",
      "  Rule 24: 18.646 < ovrrev_Mean < 31.920\n",
      "  \tC1: 0.158\tC2: 0.038\tUnc: 0.804\n",
      "  \n",
      "  Rule 25: ovrrev_Mean > 31.920\n",
      "  \tC1: 0.048\tC2: 0.150\tUnc: 0.802\n",
      "  \n",
      "  Rule 26: vceovr_Mean < 4.802\n",
      "  \tC1: 0.084\tC2: 0.107\tUnc: 0.809\n",
      "  \n",
      "  Rule 27: 4.802 < vceovr_Mean < 18.031\n",
      "  \tC1: 0.066\tC2: 0.134\tUnc: 0.800\n",
      "  \n",
      "  Rule 28: 18.031 < vceovr_Mean < 31.261\n",
      "  \tC1: 0.180\tC2: 0.019\tUnc: 0.801\n",
      "  \n",
      "  Rule 29: vceovr_Mean > 31.261\n",
      "  \tC1: 0.168\tC2: 0.025\tUnc: 0.807\n",
      "  \n",
      "  Rule 30: datovr_Mean = 0.0\n",
      "  \tC1: 0.022\tC2: 0.203\tUnc: 0.775\n",
      "  \n",
      "  Rule 31: datovr_Mean = 0.0975\n",
      "  \tC1: 0.115\tC2: 0.085\tUnc: 0.800\n",
      "  \n",
      "  Rule 32: datovr_Mean = 0.4875\n",
      "  \tC1: 0.095\tC2: 0.105\tUnc: 0.800\n",
      "  \n",
      "  Rule 33: datovr_Mean = 5.5575\n",
      "  \tC1: 0.041\tC2: 0.159\tUnc: 0.800\n",
      "  \n",
      "  Rule 34: roam_Mean = 0.0\n",
      "  \tC1: 0.017\tC2: 0.182\tUnc: 0.801\n",
      "  \n",
      "  Rule 35: roam_Mean = 0.1725\n",
      "  \tC1: 0.065\tC2: 0.135\tUnc: 0.800\n",
      "  \n",
      "  Rule 36: roam_Mean = 8.2475\n",
      "  \tC1: 0.123\tC2: 0.077\tUnc: 0.800\n",
      "  \n",
      "  Rule 37: change_mou < -254.936\n",
      "  \tC1: 0.200\tC2: 0.000\tUnc: 0.800\n",
      "  \n",
      "  Rule 38: -254.936 < change_mou < -62.175\n",
      "  \tC1: 0.066\tC2: 0.126\tUnc: 0.808\n",
      "  \n",
      "  Rule 39: -62.175 < change_mou < 130.586\n",
      "  \tC1: 0.041\tC2: 0.159\tUnc: 0.800\n",
      "  \n",
      "  Rule 40: change_mou > 130.586\n",
      "  \tC1: 0.000\tC2: 0.205\tUnc: 0.795\n",
      "  \n",
      "  Rule 41: change_rev < -36.363\n",
      "  \tC1: 0.121\tC2: 0.063\tUnc: 0.816\n",
      "  \n",
      "  Rule 42: -36.363 < change_rev < -7.834\n",
      "  \tC1: 0.188\tC2: 0.011\tUnc: 0.801\n",
      "  \n",
      "  Rule 43: -7.834 < change_rev < 20.696\n",
      "  \tC1: 0.039\tC2: 0.161\tUnc: 0.800\n",
      "  \n",
      "  Rule 44: change_rev > 20.696\n",
      "  \tC1: 0.060\tC2: 0.137\tUnc: 0.802\n",
      "  \n",
      "  Rule 45: drop_vce_Mean < 2.366\n",
      "  \tC1: 0.126\tC2: 0.055\tUnc: 0.819\n",
      "  \n",
      "  Rule 46: 2.366 < drop_vce_Mean < 8.600\n",
      "  \tC1: 0.090\tC2: 0.102\tUnc: 0.808\n",
      "  \n",
      "  Rule 47: 8.600 < drop_vce_Mean < 14.834\n",
      "  \tC1: 0.221\tC2: 0.000\tUnc: 0.779\n",
      "  \n",
      "  Rule 48: drop_vce_Mean > 14.834\n",
      "  \tC1: 0.042\tC2: 0.154\tUnc: 0.804\n",
      "  \n",
      "  Rule 49: drop_dat_Mean = 0.0\n",
      "  \tC1: 0.103\tC2: 0.088\tUnc: 0.809\n",
      "  \n",
      "  Rule 50: blck_vce_Mean < 0.300\n",
      "  \tC1: 0.008\tC2: 0.192\tUnc: 0.800\n",
      "  \n",
      "  Rule 51: 0.300 < blck_vce_Mean < 2.667\n",
      "  \tC1: 0.071\tC2: 0.120\tUnc: 0.809\n",
      "  \n",
      "  Rule 52: 2.667 < blck_vce_Mean < 5.033\n",
      "  \tC1: 0.068\tC2: 0.120\tUnc: 0.813\n",
      "  \n",
      "  Rule 53: blck_vce_Mean > 5.033\n",
      "  \tC1: 0.124\tC2: 0.066\tUnc: 0.810\n",
      "  \n",
      "  Rule 54: blck_dat_Mean = 0.0\n",
      "  \tC1: 0.083\tC2: 0.104\tUnc: 0.813\n",
      "  \n",
      "  Rule 55: unan_vce_Mean < 6.459\n",
      "  \tC1: 0.070\tC2: 0.123\tUnc: 0.807\n",
      "  \n",
      "  Rule 56: 6.459 < unan_vce_Mean < 24.867\n",
      "  \tC1: 0.143\tC2: 0.052\tUnc: 0.805\n",
      "  \n",
      "  Rule 57: 24.867 < unan_vce_Mean < 43.275\n",
      "  \tC1: 0.078\tC2: 0.113\tUnc: 0.809\n",
      "  \n",
      "  Rule 58: unan_vce_Mean > 43.275\n",
      "  \tC1: 0.148\tC2: 0.048\tUnc: 0.804\n",
      "  \n",
      "  Rule 59: unan_dat_Mean = 0.0\n",
      "  \tC1: 0.021\tC2: 0.197\tUnc: 0.782\n",
      "  \n",
      "  Rule 60: plcd_vce_Mean < 46.015\n",
      "  \tC1: 0.155\tC2: 0.037\tUnc: 0.809\n",
      "  \n",
      "  Rule 61: 46.015 < plcd_vce_Mean < 130.467\n",
      "  \tC1: 0.113\tC2: 0.078\tUnc: 0.809\n",
      "  \n",
      "  Rule 62: 130.467 < plcd_vce_Mean < 214.918\n",
      "  \tC1: 0.030\tC2: 0.170\tUnc: 0.800\n",
      "  \n",
      "  Rule 63: plcd_vce_Mean > 214.918\n",
      "  \tC1: 0.166\tC2: 0.030\tUnc: 0.803\n",
      "  \n",
      "  Rule 64: plcd_dat_Mean = 0.0\n",
      "  \tC1: 0.017\tC2: 0.179\tUnc: 0.804\n",
      "  \n",
      "  Rule 65: plcd_dat_Mean = 0.333333333\n",
      "  \tC1: 0.118\tC2: 0.082\tUnc: 0.800\n",
      "  \n",
      "  Rule 66: plcd_dat_Mean = 1.333333333\n",
      "  \tC1: 0.057\tC2: 0.143\tUnc: 0.800\n",
      "  \n",
      "  Rule 67: plcd_dat_Mean = 1.666666667\n",
      "  \tC1: 0.056\tC2: 0.144\tUnc: 0.800\n",
      "  \n",
      "  Rule 68: recv_vce_Mean < 1.319\n",
      "  \tC1: 0.055\tC2: 0.145\tUnc: 0.800\n",
      "  \n",
      "  Rule 69: 1.319 < recv_vce_Mean < 74.400\n",
      "  \tC1: 0.093\tC2: 0.093\tUnc: 0.813\n",
      "  \n",
      "  Rule 70: 74.400 < recv_vce_Mean < 147.481\n",
      "  \tC1: 0.109\tC2: 0.091\tUnc: 0.800\n",
      "  \n",
      "  Rule 71: recv_vce_Mean > 147.481\n",
      "  \tC1: 0.103\tC2: 0.080\tUnc: 0.817\n",
      "  \n",
      "  Rule 72: recv_sms_Mean = 0.0\n",
      "  \tC1: 0.109\tC2: 0.082\tUnc: 0.809\n",
      "  \n",
      "  Rule 73: recv_sms_Mean = 4.0\n",
      "  \tC1: 0.135\tC2: 0.057\tUnc: 0.808\n",
      "  \n",
      "  Rule 74: comp_vce_Mean < 33.831\n",
      "  \tC1: 0.192\tC2: 0.004\tUnc: 0.804\n",
      "  \n",
      "  Rule 75: 33.831 < comp_vce_Mean < 97.633\n",
      "  \tC1: 0.070\tC2: 0.121\tUnc: 0.808\n",
      "  \n",
      "  Rule 76: 97.633 < comp_vce_Mean < 161.436\n",
      "  \tC1: 0.036\tC2: 0.164\tUnc: 0.800\n",
      "  \n",
      "  Rule 77: comp_vce_Mean > 161.436\n",
      "  \tC1: 0.196\tC2: 0.012\tUnc: 0.791\n",
      "  \n",
      "  Rule 78: comp_dat_Mean = 0.0\n",
      "  \tC1: 0.096\tC2: 0.094\tUnc: 0.810\n",
      "  \n",
      "  Rule 79: comp_dat_Mean = 0.333333333\n",
      "  \tC1: 0.132\tC2: 0.068\tUnc: 0.800\n",
      "  \n",
      "  Rule 80: comp_dat_Mean = 1.333333333\n",
      "  \tC1: 0.032\tC2: 0.168\tUnc: 0.800\n",
      "  \n",
      "  Rule 81: comp_dat_Mean = 1.666666667\n",
      "  \tC1: 0.141\tC2: 0.059\tUnc: 0.800\n",
      "  \n",
      "  Rule 82: custcare_Mean = 0.0\n",
      "  \tC1: 0.140\tC2: 0.055\tUnc: 0.805\n",
      "  \n",
      "  Rule 83: custcare_Mean = 0.666666667\n",
      "  \tC1: 0.007\tC2: 0.193\tUnc: 0.800\n",
      "  \n",
      "  Rule 84: custcare_Mean = 1.0\n",
      "  \tC1: 0.090\tC2: 0.100\tUnc: 0.809\n",
      "  \n",
      "  Rule 85: custcare_Mean = 2.0\n",
      "  \tC1: 0.055\tC2: 0.145\tUnc: 0.800\n",
      "  \n",
      "  Rule 86: custcare_Mean = 8.666666667\n",
      "  \tC1: 0.144\tC2: 0.056\tUnc: 0.800\n",
      "  \n",
      "  Rule 87: ccrndmou_Mean < -1.138\n",
      "  \tC1: 0.083\tC2: 0.117\tUnc: 0.800\n",
      "  \n",
      "  Rule 88: -1.138 < ccrndmou_Mean < 3.167\n",
      "  \tC1: 0.016\tC2: 0.209\tUnc: 0.774\n",
      "  \n",
      "  Rule 89: 3.167 < ccrndmou_Mean < 7.472\n",
      "  \tC1: 0.003\tC2: 0.196\tUnc: 0.800\n",
      "  \n",
      "  Rule 90: ccrndmou_Mean > 7.472\n",
      "  \tC1: 0.128\tC2: 0.060\tUnc: 0.811\n",
      "  \n",
      "  Rule 91: cc_mou_Mean < -1.294\n",
      "  \tC1: 0.031\tC2: 0.169\tUnc: 0.800\n",
      "  \n",
      "  Rule 92: -1.294 < cc_mou_Mean < 2.451\n",
      "  \tC1: 0.068\tC2: 0.123\tUnc: 0.810\n",
      "  \n",
      "  Rule 93: 2.451 < cc_mou_Mean < 6.195\n",
      "  \tC1: 0.021\tC2: 0.178\tUnc: 0.800\n",
      "  \n",
      "  Rule 94: cc_mou_Mean > 6.195\n",
      "  \tC1: 0.193\tC2: 0.006\tUnc: 0.801\n",
      "  \n",
      "  Rule 95: inonemin_Mean < -5.349\n",
      "  \tC1: 0.092\tC2: 0.108\tUnc: 0.800\n",
      "  \n",
      "  Rule 96: -5.349 < inonemin_Mean < 44.500\n",
      "  \tC1: 0.085\tC2: 0.097\tUnc: 0.818\n",
      "  \n",
      "  Rule 97: 44.500 < inonemin_Mean < 94.349\n",
      "  \tC1: 0.122\tC2: 0.078\tUnc: 0.800\n",
      "  \n",
      "  Rule 98: inonemin_Mean > 94.349\n",
      "  \tC1: 0.190\tC2: 0.012\tUnc: 0.798\n",
      "  \n",
      "  Rule 99: threeway_Mean = 0.0\n",
      "  \tC1: 0.089\tC2: 0.101\tUnc: 0.810\n",
      "  \n",
      "  Rule 100: threeway_Mean = 0.333333333\n",
      "  \tC1: 0.127\tC2: 0.073\tUnc: 0.800\n",
      "  \n",
      "  Rule 101: threeway_Mean = 1.0\n",
      "  \tC1: 0.140\tC2: 0.051\tUnc: 0.809\n",
      "  \n",
      "  Rule 102: mou_cvce_Mean < 76.099\n",
      "  \tC1: 0.113\tC2: 0.071\tUnc: 0.816\n",
      "  \n",
      "  Rule 103: 76.099 < mou_cvce_Mean < 198.618\n",
      "  \tC1: 0.134\tC2: 0.057\tUnc: 0.809\n",
      "  \n",
      "  Rule 104: 198.618 < mou_cvce_Mean < 321.138\n",
      "  \tC1: 0.000\tC2: 0.222\tUnc: 0.778\n",
      "  \n",
      "  Rule 105: mou_cvce_Mean > 321.138\n",
      "  \tC1: 0.009\tC2: 0.190\tUnc: 0.801\n",
      "  \n",
      "  Rule 106: mou_cdat_Mean = 0.0\n",
      "  \tC1: 0.102\tC2: 0.089\tUnc: 0.809\n",
      "  \n",
      "  Rule 107: mou_cdat_Mean = 0.206666667\n",
      "  \tC1: 0.155\tC2: 0.045\tUnc: 0.800\n",
      "  \n",
      "  Rule 108: mou_cdat_Mean = 2.45\n",
      "  \tC1: 0.074\tC2: 0.126\tUnc: 0.800\n",
      "  \n",
      "  Rule 109: mou_cdat_Mean = 2.876666667\n",
      "  \tC1: 0.030\tC2: 0.170\tUnc: 0.800\n",
      "  \n",
      "  Rule 110: mou_rvce_Mean < 27.128\n",
      "  \tC1: 0.069\tC2: 0.124\tUnc: 0.807\n",
      "  \n",
      "  Rule 111: 27.128 < mou_rvce_Mean < 149.842\n",
      "  \tC1: 0.093\tC2: 0.087\tUnc: 0.820\n",
      "  \n",
      "  Rule 112: 149.842 < mou_rvce_Mean < 272.555\n",
      "  \tC1: 0.117\tC2: 0.083\tUnc: 0.800\n",
      "  \n",
      "  Rule 113: mou_rvce_Mean > 272.555\n",
      "  \tC1: 0.092\tC2: 0.097\tUnc: 0.811\n",
      "  \n",
      "  Rule 114: owylis_vce_Mean < 10.395\n",
      "  \tC1: 0.074\tC2: 0.119\tUnc: 0.807\n",
      "  \n",
      "  Rule 115: 10.395 < owylis_vce_Mean < 20.867\n",
      "  \tC1: 0.069\tC2: 0.123\tUnc: 0.808\n",
      "  \n",
      "  Rule 116: 20.867 < owylis_vce_Mean < 31.339\n",
      "  \tC1: 0.095\tC2: 0.089\tUnc: 0.816\n",
      "  \n",
      "  Rule 117: owylis_vce_Mean > 31.339\n",
      "  \tC1: 0.118\tC2: 0.069\tUnc: 0.813\n",
      "  \n",
      "  Rule 118: mouowylisv_Mean < 11.357\n",
      "  \tC1: 0.015\tC2: 0.185\tUnc: 0.800\n",
      "  \n",
      "  Rule 119: 11.357 < mouowylisv_Mean < 24.925\n",
      "  \tC1: 0.107\tC2: 0.082\tUnc: 0.811\n",
      "  \n",
      "  Rule 120: 24.925 < mouowylisv_Mean < 38.492\n",
      "  \tC1: 0.213\tC2: 0.000\tUnc: 0.787\n",
      "  \n",
      "  Rule 121: mouowylisv_Mean > 38.492\n",
      "  \tC1: 0.183\tC2: 0.016\tUnc: 0.801\n",
      "  \n",
      "  Rule 122: iwylis_vce_Mean < 2.323\n",
      "  \tC1: 0.151\tC2: 0.040\tUnc: 0.809\n",
      "  \n",
      "  Rule 123: 2.323 < iwylis_vce_Mean < 6.700\n",
      "  \tC1: 0.013\tC2: 0.186\tUnc: 0.801\n",
      "  \n",
      "  Rule 124: 6.700 < iwylis_vce_Mean < 11.077\n",
      "  \tC1: 0.058\tC2: 0.141\tUnc: 0.801\n",
      "  \n",
      "  Rule 125: iwylis_vce_Mean > 11.077\n",
      "  \tC1: 0.130\tC2: 0.058\tUnc: 0.812\n",
      "  \n",
      "  Rule 126: mouiwylisv_Mean < 4.461\n",
      "  \tC1: 0.115\tC2: 0.076\tUnc: 0.809\n",
      "  \n",
      "  Rule 127: 4.461 < mouiwylisv_Mean < 15.421\n",
      "  \tC1: 0.076\tC2: 0.114\tUnc: 0.810\n",
      "  \n",
      "  Rule 128: 15.421 < mouiwylisv_Mean < 26.380\n",
      "  \tC1: 0.007\tC2: 0.193\tUnc: 0.800\n",
      "  \n",
      "  Rule 129: mouiwylisv_Mean > 26.380\n",
      "  \tC1: 0.069\tC2: 0.121\tUnc: 0.809\n",
      "  \n",
      "  Rule 130: peak_vce_Mean < 34.456\n",
      "  \tC1: 0.131\tC2: 0.058\tUnc: 0.810\n",
      "  \n",
      "  Rule 131: 34.456 < peak_vce_Mean < 89.800\n",
      "  \tC1: 0.019\tC2: 0.181\tUnc: 0.800\n",
      "  \n",
      "  Rule 132: 89.800 < peak_vce_Mean < 145.144\n",
      "  \tC1: 0.082\tC2: 0.118\tUnc: 0.800\n",
      "  \n",
      "  Rule 133: peak_vce_Mean > 145.144\n",
      "  \tC1: 0.126\tC2: 0.064\tUnc: 0.809\n",
      "  \n",
      "  Rule 134: peak_dat_Mean = 0.0\n",
      "  \tC1: 0.038\tC2: 0.157\tUnc: 0.805\n",
      "  \n",
      "  Rule 135: peak_dat_Mean = 0.666666667\n",
      "  \tC1: 0.041\tC2: 0.159\tUnc: 0.800\n",
      "  \n",
      "  Rule 136: peak_dat_Mean = 1.0\n",
      "  \tC1: 0.165\tC2: 0.033\tUnc: 0.802\n",
      "  \n",
      "  Rule 137: mou_peav_Mean < 73.772\n",
      "  \tC1: 0.014\tC2: 0.186\tUnc: 0.800\n",
      "  \n",
      "  Rule 138: 73.772 < mou_peav_Mean < 172.210\n",
      "  \tC1: 0.099\tC2: 0.091\tUnc: 0.810\n",
      "  \n",
      "  Rule 139: 172.210 < mou_peav_Mean < 270.648\n",
      "  \tC1: 0.122\tC2: 0.068\tUnc: 0.809\n",
      "  \n",
      "  Rule 140: mou_peav_Mean > 270.648\n",
      "  \tC1: 0.056\tC2: 0.139\tUnc: 0.805\n",
      "  \n",
      "  Rule 141: mou_pead_Mean = 0.0\n",
      "  \tC1: 0.073\tC2: 0.114\tUnc: 0.813\n",
      "  \n",
      "  Rule 142: mou_pead_Mean = 0.326666667\n",
      "  \tC1: 0.123\tC2: 0.077\tUnc: 0.800\n",
      "  \n",
      "  Rule 143: mou_pead_Mean = 1.683333333\n",
      "  \tC1: 0.152\tC2: 0.048\tUnc: 0.800\n",
      "  \n",
      "  Rule 144: opk_vce_Mean < 3.499\n",
      "  \tC1: 0.113\tC2: 0.087\tUnc: 0.800\n",
      "  \n",
      "  Rule 145: 3.499 < opk_vce_Mean < 65.300\n",
      "  \tC1: 0.140\tC2: 0.055\tUnc: 0.805\n",
      "  \n",
      "  Rule 146: 65.300 < opk_vce_Mean < 127.101\n",
      "  \tC1: 0.177\tC2: 0.023\tUnc: 0.800\n",
      "  \n",
      "  Rule 147: opk_vce_Mean > 127.101\n",
      "  \tC1: 0.031\tC2: 0.162\tUnc: 0.807\n",
      "  \n",
      "  Rule 148: opk_dat_Mean = 0.0\n",
      "  \tC1: 0.168\tC2: 0.025\tUnc: 0.806\n",
      "  \n",
      "  Rule 149: opk_dat_Mean = 0.333333333\n",
      "  \tC1: 0.148\tC2: 0.052\tUnc: 0.800\n",
      "  \n",
      "  Rule 150: opk_dat_Mean = 0.666666667\n",
      "  \tC1: 0.061\tC2: 0.139\tUnc: 0.800\n",
      "  \n",
      "  Rule 151: mou_opkv_Mean < 19.037\n",
      "  \tC1: 0.028\tC2: 0.172\tUnc: 0.800\n",
      "  \n",
      "  Rule 152: 19.037 < mou_opkv_Mean < 176.250\n",
      "  \tC1: 0.078\tC2: 0.113\tUnc: 0.809\n",
      "  \n",
      "  Rule 153: 176.250 < mou_opkv_Mean < 333.463\n",
      "  \tC1: 0.032\tC2: 0.168\tUnc: 0.800\n",
      "  \n",
      "  Rule 154: mou_opkv_Mean > 333.463\n",
      "  \tC1: 0.107\tC2: 0.074\tUnc: 0.819\n",
      "  \n",
      "  Rule 155: mou_opkd_Mean = 0.0\n",
      "  \tC1: 0.128\tC2: 0.065\tUnc: 0.807\n",
      "  \n",
      "  Rule 156: mou_opkd_Mean = 0.206666667\n",
      "  \tC1: 0.102\tC2: 0.098\tUnc: 0.800\n",
      "  \n",
      "  Rule 157: mou_opkd_Mean = 0.766666667\n",
      "  \tC1: 0.059\tC2: 0.141\tUnc: 0.800\n",
      "  \n",
      "  Rule 158: mou_opkd_Mean = 2.55\n",
      "  \tC1: 0.095\tC2: 0.105\tUnc: 0.800\n",
      "  \n",
      "  Rule 159: drop_blk_Mean < 3.366\n",
      "  \tC1: 0.154\tC2: 0.034\tUnc: 0.812\n",
      "  \n",
      "  Rule 160: 3.366 < drop_blk_Mean < 11.267\n",
      "  \tC1: 0.068\tC2: 0.124\tUnc: 0.808\n",
      "  \n",
      "  Rule 161: 11.267 < drop_blk_Mean < 19.167\n",
      "  \tC1: 0.185\tC2: 0.015\tUnc: 0.801\n",
      "  \n",
      "  Rule 162: drop_blk_Mean > 19.167\n",
      "  \tC1: 0.050\tC2: 0.143\tUnc: 0.807\n",
      "  \n",
      "  Rule 163: attempt_Mean < 46.082\n",
      "  \tC1: 0.171\tC2: 0.022\tUnc: 0.807\n",
      "  \n",
      "  Rule 164: 46.082 < attempt_Mean < 130.800\n",
      "  \tC1: 0.079\tC2: 0.112\tUnc: 0.809\n",
      "  \n",
      "  Rule 165: 130.800 < attempt_Mean < 215.518\n",
      "  \tC1: 0.072\tC2: 0.119\tUnc: 0.809\n",
      "  \n",
      "  Rule 166: attempt_Mean > 215.518\n",
      "  \tC1: 0.180\tC2: 0.018\tUnc: 0.803\n",
      "  \n",
      "  Rule 167: complete_Mean < 33.903\n",
      "  \tC1: 0.178\tC2: 0.014\tUnc: 0.808\n",
      "  \n",
      "  Rule 168: 33.903 < complete_Mean < 97.967\n",
      "  \tC1: 0.067\tC2: 0.125\tUnc: 0.808\n",
      "  \n",
      "  Rule 169: 97.967 < complete_Mean < 162.030\n",
      "  \tC1: 0.060\tC2: 0.133\tUnc: 0.807\n",
      "  \n",
      "  Rule 170: complete_Mean > 162.030\n",
      "  \tC1: 0.137\tC2: 0.057\tUnc: 0.806\n",
      "  \n",
      "  Rule 171: callfwdv_Mean = 0.0\n",
      "  \tC1: 0.048\tC2: 0.147\tUnc: 0.805\n",
      "  \n",
      "  Rule 172: callwait_Mean = 0.0\n",
      "  \tC1: 0.058\tC2: 0.137\tUnc: 0.805\n",
      "  \n",
      "  Rule 173: callwait_Mean = 0.333333333\n",
      "  \tC1: 0.111\tC2: 0.089\tUnc: 0.800\n",
      "  \n",
      "  Rule 174: callwait_Mean = 7.666666667\n",
      "  \tC1: 0.199\tC2: 0.001\tUnc: 0.800\n",
      "  \n",
      "  Rule 175: callwait_Mean = 15.66666667\n",
      "  \tC1: 0.169\tC2: 0.031\tUnc: 0.800\n",
      "  \n",
      "  Rule 176: months < 15.273\n",
      "  \tC1: 0.191\tC2: 0.009\tUnc: 0.801\n",
      "  \n",
      "  Rule 177: 15.273 < months < 18.700\n",
      "  \tC1: 0.074\tC2: 0.129\tUnc: 0.798\n",
      "  \n",
      "  Rule 178: 18.700 < months < 22.127\n",
      "  \tC1: 0.064\tC2: 0.129\tUnc: 0.807\n",
      "  \n",
      "  Rule 179: months > 22.127\n",
      "  \tC1: 0.099\tC2: 0.092\tUnc: 0.809\n",
      "  \n",
      "  Rule 180: uniqsubs = 1.0\n",
      "  \tC1: 0.075\tC2: 0.118\tUnc: 0.807\n",
      "  \n",
      "  Rule 181: uniqsubs = 2.0\n",
      "  \tC1: 0.075\tC2: 0.114\tUnc: 0.811\n",
      "  \n",
      "  Rule 182: uniqsubs = 3.0\n",
      "  \tC1: 0.015\tC2: 0.185\tUnc: 0.800\n",
      "  \n",
      "  Rule 183: actvsubs = 1.0\n",
      "  \tC1: 0.046\tC2: 0.153\tUnc: 0.801\n",
      "  \n",
      "  Rule 184: actvsubs = 2.0\n",
      "  \tC1: 0.176\tC2: 0.020\tUnc: 0.804\n",
      "  \n",
      "  Rule 185: totcalls < 1403.444\n",
      "  \tC1: 0.000\tC2: 0.245\tUnc: 0.755\n",
      "  \n",
      "  Rule 186: 1403.444 < totcalls < 2659.400\n",
      "  \tC1: 0.151\tC2: 0.044\tUnc: 0.805\n",
      "  \n",
      "  Rule 187: 2659.400 < totcalls < 3915.356\n",
      "  \tC1: 0.082\tC2: 0.105\tUnc: 0.813\n",
      "  \n",
      "  Rule 188: totcalls > 3915.356\n",
      "  \tC1: 0.107\tC2: 0.079\tUnc: 0.813\n",
      "  \n",
      "  Rule 189: totmou < 3936.939\n",
      "  \tC1: 0.079\tC2: 0.112\tUnc: 0.808\n",
      "  \n",
      "  Rule 190: 3936.939 < totmou < 7536.900\n",
      "  \tC1: 0.140\tC2: 0.044\tUnc: 0.817\n",
      "  \n",
      "  Rule 191: 7536.900 < totmou < 11136.861\n",
      "  \tC1: 0.231\tC2: 0.000\tUnc: 0.769\n",
      "  \n",
      "  Rule 192: totmou > 11136.861\n",
      "  \tC1: 0.000\tC2: 0.219\tUnc: 0.781\n",
      "  \n",
      "  Rule 193: totrev < 811.184\n",
      "  \tC1: 0.061\tC2: 0.133\tUnc: 0.806\n",
      "  \n",
      "  Rule 194: 811.184 < totrev < 1143.570\n",
      "  \tC1: 0.143\tC2: 0.042\tUnc: 0.815\n",
      "  \n",
      "  Rule 195: 1143.570 < totrev < 1475.956\n",
      "  \tC1: 0.036\tC2: 0.164\tUnc: 0.800\n",
      "  \n",
      "  Rule 196: totrev > 1475.956\n",
      "  \tC1: 0.023\tC2: 0.176\tUnc: 0.801\n",
      "  \n",
      "  Rule 197: adjrev < 751.288\n",
      "  \tC1: 0.045\tC2: 0.155\tUnc: 0.800\n",
      "  \n",
      "  Rule 198: 751.288 < adjrev < 1076.704\n",
      "  \tC1: 0.190\tC2: 0.003\tUnc: 0.808\n",
      "  \n",
      "  Rule 199: 1076.704 < adjrev < 1402.120\n",
      "  \tC1: 0.031\tC2: 0.168\tUnc: 0.800\n",
      "  \n",
      "  Rule 200: adjrev > 1402.120\n",
      "  \tC1: 0.031\tC2: 0.167\tUnc: 0.801\n",
      "  \n",
      "  Rule 201: adjmou < 3879.162\n",
      "  \tC1: 0.067\tC2: 0.125\tUnc: 0.807\n",
      "  \n",
      "  Rule 202: 3879.162 < adjmou < 7491.200\n",
      "  \tC1: 0.090\tC2: 0.098\tUnc: 0.813\n",
      "  \n",
      "  Rule 203: 7491.200 < adjmou < 11103.238\n",
      "  \tC1: 0.162\tC2: 0.036\tUnc: 0.802\n",
      "  \n",
      "  Rule 204: adjmou > 11103.238\n",
      "  \tC1: 0.111\tC2: 0.076\tUnc: 0.813\n",
      "  \n",
      "  Rule 205: adjqty < 1382.922\n",
      "  \tC1: 0.000\tC2: 0.226\tUnc: 0.774\n",
      "  \n",
      "  Rule 206: 1382.922 < adjqty < 2645.200\n",
      "  \tC1: 0.067\tC2: 0.122\tUnc: 0.810\n",
      "  \n",
      "  Rule 207: 2645.200 < adjqty < 3907.478\n",
      "  \tC1: 0.072\tC2: 0.115\tUnc: 0.813\n",
      "  \n",
      "  Rule 208: adjqty > 3907.478\n",
      "  \tC1: 0.000\tC2: 0.263\tUnc: 0.737\n",
      "  \n",
      "  Rule 209: avgrev < 50.385\n",
      "  \tC1: 0.060\tC2: 0.134\tUnc: 0.806\n",
      "  \n",
      "  Rule 210: 50.385 < avgrev < 70.792\n",
      "  \tC1: 0.029\tC2: 0.170\tUnc: 0.800\n",
      "  \n",
      "  Rule 211: 70.792 < avgrev < 91.199\n",
      "  \tC1: 0.245\tC2: 0.000\tUnc: 0.755\n",
      "  \n",
      "  Rule 212: avgrev > 91.199\n",
      "  \tC1: 0.093\tC2: 0.096\tUnc: 0.811\n",
      "  \n",
      "  Rule 213: avgmou < 225.879\n",
      "  \tC1: 0.132\tC2: 0.059\tUnc: 0.809\n",
      "  \n",
      "  Rule 214: 225.879 < avgmou < 503.026\n",
      "  \tC1: 0.128\tC2: 0.056\tUnc: 0.816\n",
      "  \n",
      "  Rule 215: 503.026 < avgmou < 780.173\n",
      "  \tC1: 0.058\tC2: 0.135\tUnc: 0.807\n",
      "  \n",
      "  Rule 216: avgmou > 780.173\n",
      "  \tC1: 0.033\tC2: 0.160\tUnc: 0.807\n",
      "  \n",
      "  Rule 217: avgqty < 80.912\n",
      "  \tC1: 0.046\tC2: 0.154\tUnc: 0.800\n",
      "  \n",
      "  Rule 218: 80.912 < avgqty < 180.933\n",
      "  \tC1: 0.145\tC2: 0.042\tUnc: 0.812\n",
      "  \n",
      "  Rule 219: 180.933 < avgqty < 280.954\n",
      "  \tC1: 0.043\tC2: 0.156\tUnc: 0.800\n",
      "  \n",
      "  Rule 220: avgqty > 280.954\n",
      "  \tC1: 0.119\tC2: 0.069\tUnc: 0.812\n",
      "  \n",
      "  Rule 221: avg3mou < 196.786\n",
      "  \tC1: 0.065\tC2: 0.129\tUnc: 0.806\n",
      "  \n",
      "  Rule 222: 196.786 < avg3mou < 486.100\n",
      "  \tC1: 0.097\tC2: 0.094\tUnc: 0.809\n",
      "  \n",
      "  Rule 223: 486.100 < avg3mou < 775.414\n",
      "  \tC1: 0.258\tC2: 0.000\tUnc: 0.742\n",
      "  \n",
      "  Rule 224: avg3mou > 775.414\n",
      "  \tC1: 0.218\tC2: 0.012\tUnc: 0.770\n",
      "  \n",
      "  Rule 225: avg3qty < 68.769\n",
      "  \tC1: 0.028\tC2: 0.171\tUnc: 0.800\n",
      "  \n",
      "  Rule 226: 68.769 < avg3qty < 168.800\n",
      "  \tC1: 0.000\tC2: 0.227\tUnc: 0.773\n",
      "  \n",
      "  Rule 227: 168.800 < avg3qty < 268.831\n",
      "  \tC1: 0.204\tC2: 0.000\tUnc: 0.796\n",
      "  \n",
      "  Rule 228: avg3qty > 268.831\n",
      "  \tC1: 0.204\tC2: 0.012\tUnc: 0.784\n",
      "  \n",
      "  Rule 229: avg3rev < 51.024\n",
      "  \tC1: 0.089\tC2: 0.102\tUnc: 0.809\n",
      "  \n",
      "  Rule 230: 51.024 < avg3rev < 75.700\n",
      "  \tC1: 0.060\tC2: 0.134\tUnc: 0.806\n",
      "  \n",
      "  Rule 231: 75.700 < avg3rev < 100.376\n",
      "  \tC1: 0.162\tC2: 0.035\tUnc: 0.803\n",
      "  \n",
      "  Rule 232: avg3rev > 100.376\n",
      "  \tC1: 0.074\tC2: 0.142\tUnc: 0.784\n",
      "  \n",
      "  Rule 233: avg6mou < 213.825\n",
      "  \tC1: 0.071\tC2: 0.121\tUnc: 0.808\n",
      "  \n",
      "  Rule 234: 213.825 < avg6mou < 537.400\n",
      "  \tC1: 0.184\tC2: 0.012\tUnc: 0.804\n",
      "  \n",
      "  Rule 235: 537.400 < avg6mou < 860.975\n",
      "  \tC1: 0.047\tC2: 0.152\tUnc: 0.800\n",
      "  \n",
      "  Rule 236: avg6mou > 860.975\n",
      "  \tC1: 0.041\tC2: 0.152\tUnc: 0.807\n",
      "  \n",
      "  Rule 237: avg6qty < 68.180\n",
      "  \tC1: 0.020\tC2: 0.180\tUnc: 0.800\n",
      "  \n",
      "  Rule 238: 68.180 < avg6qty < 178.800\n",
      "  \tC1: 0.073\tC2: 0.118\tUnc: 0.809\n",
      "  \n",
      "  Rule 239: 178.800 < avg6qty < 289.420\n",
      "  \tC1: 0.033\tC2: 0.167\tUnc: 0.800\n",
      "  \n",
      "  Rule 240: avg6qty > 289.420\n",
      "  \tC1: 0.142\tC2: 0.053\tUnc: 0.805\n",
      "  \n",
      "  Rule 241: avg6rev < 48.315\n",
      "  \tC1: 0.010\tC2: 0.190\tUnc: 0.800\n",
      "  \n",
      "  Rule 242: 48.315 < avg6rev < 74.700\n",
      "  \tC1: 0.102\tC2: 0.089\tUnc: 0.809\n",
      "  \n",
      "  Rule 243: 74.700 < avg6rev < 101.085\n",
      "  \tC1: 0.247\tC2: 0.000\tUnc: 0.753\n",
      "  \n",
      "  Rule 244: avg6rev > 101.085\n",
      "  \tC1: 0.213\tC2: 0.012\tUnc: 0.775\n",
      "  \n",
      "  Rule 245: hnd_price = 29.98999023\n",
      "  \tC1: 0.101\tC2: 0.099\tUnc: 0.800\n",
      "  \n",
      "  Rule 246: hnd_price = 59.98999023\n",
      "  \tC1: 0.092\tC2: 0.108\tUnc: 0.800\n",
      "  \n",
      "  Rule 247: hnd_price = 99.98999023\n",
      "  \tC1: 0.130\tC2: 0.070\tUnc: 0.800\n",
      "  \n",
      "  Rule 248: hnd_price = 129.9899902\n",
      "  \tC1: 0.079\tC2: 0.121\tUnc: 0.800\n",
      "  \n",
      "  Rule 249: hnd_price = 149.9899902\n",
      "  \tC1: 0.099\tC2: 0.101\tUnc: 0.800\n",
      "  \n",
      "  Rule 250: hnd_price = 199.9899902\n",
      "  \tC1: 0.172\tC2: 0.028\tUnc: 0.800\n",
      "  \n",
      "  Rule 251: phones = 1.0\n",
      "  \tC1: 0.098\tC2: 0.092\tUnc: 0.810\n",
      "  \n",
      "  Rule 252: phones = 2.0\n",
      "  \tC1: 0.094\tC2: 0.095\tUnc: 0.811\n",
      "  \n",
      "  Rule 253: phones = 4.0\n",
      "  \tC1: 0.153\tC2: 0.032\tUnc: 0.815\n",
      "  \n",
      "  Rule 254: models = 1.0\n",
      "  \tC1: 0.072\tC2: 0.125\tUnc: 0.803\n",
      "  \n",
      "  Rule 255: models = 2.0\n",
      "  \tC1: 0.070\tC2: 0.121\tUnc: 0.809\n",
      "  \n",
      "  Rule 256: truck = 0.0\n",
      "  \tC1: 0.000\tC2: 0.229\tUnc: 0.771\n",
      "  \n",
      "  Rule 257: truck = 1.0\n",
      "  \tC1: 0.183\tC2: 0.008\tUnc: 0.809\n",
      "  \n",
      "  Rule 258: rv = 0.0\n",
      "  \tC1: 0.013\tC2: 0.190\tUnc: 0.797\n",
      "  \n",
      "  Rule 259: rv = 1.0\n",
      "  \tC1: 0.163\tC2: 0.035\tUnc: 0.802\n",
      "  \n",
      "  Rule 260: forgntvl = 0.0\n",
      "  \tC1: 0.050\tC2: 0.145\tUnc: 0.805\n",
      "  \n",
      "  Rule 261: eqpdays < 190.011\n",
      "  \tC1: 0.056\tC2: 0.136\tUnc: 0.808\n",
      "  \n",
      "  Rule 262: 190.011 < eqpdays < 356.400\n",
      "  \tC1: 0.238\tC2: 0.000\tUnc: 0.762\n",
      "  \n",
      "  Rule 263: 356.400 < eqpdays < 522.789\n",
      "  \tC1: 0.069\tC2: 0.124\tUnc: 0.807\n",
      "  \n",
      "  Rule 264: eqpdays > 522.789\n",
      "  \tC1: 0.025\tC2: 0.175\tUnc: 0.800\n",
      ")\n",
      "\n",
      "\n",
      "Most important rules for class 0\n",
      "\n",
      "\t[0.258] R222: 486.100 < avg3mou < 775.414\n",
      "\t\t\t0: 0.258\t1: 0.000\tUnc: 0.742\n",
      "\n",
      "\t[0.247] R242: 74.700 < avg6rev < 101.085\n",
      "\t\t\t0: 0.247\t1: 0.000\tUnc: 0.753\n",
      "\n",
      "\t[0.245] R210: 70.792 < avgrev < 91.199\n",
      "\t\t\t0: 0.245\t1: 0.000\tUnc: 0.755\n",
      "\n",
      "\t[0.238] R261: 190.011 < eqpdays < 356.400\n",
      "\t\t\t0: 0.238\t1: 0.000\tUnc: 0.762\n",
      "\n",
      "\t[0.231] R190: 7536.900 < totmou < 11136.861\n",
      "\t\t\t0: 0.231\t1: 0.000\tUnc: 0.769\n",
      "\n",
      "\t[0.224] R223: avg3mou > 775.414\n",
      "\t\t\t0: 0.218\t1: 0.012\tUnc: 0.770\n",
      "\n",
      "\t[0.221] R46: 8.600 < drop_vce_Mean < 14.834\n",
      "\t\t\t0: 0.221\t1: 0.000\tUnc: 0.779\n",
      "\n",
      "\t[0.219] R243: avg6rev > 101.085\n",
      "\t\t\t0: 0.213\t1: 0.012\tUnc: 0.775\n",
      "\n",
      "\t[0.216] R19: 57.075 < ovrmou_Mean < 99.636\n",
      "\t\t\t0: 0.216\t1: 0.000\tUnc: 0.784\n",
      "\n",
      "\t[0.213] R119: 24.925 < mouowylisv_Mean < 38.492\n",
      "\t\t\t0: 0.213\t1: 0.000\tUnc: 0.787\n",
      "\n",
      "\t[0.210] R227: avg3qty > 268.831\n",
      "\t\t\t0: 0.204\t1: 0.012\tUnc: 0.784\n",
      "\n",
      "\t[0.204] R226: 168.800 < avg3qty < 268.831\n",
      "\t\t\t0: 0.204\t1: 0.000\tUnc: 0.796\n",
      "\n",
      "\t[0.202] R76: comp_vce_Mean > 161.436\n",
      "\t\t\t0: 0.196\t1: 0.012\tUnc: 0.791\n",
      "\n",
      "Most important rules for class 1\n",
      "\n",
      "\t[0.263] R207: adjqty > 3907.478\n",
      "\t\t\t0: 0.000\t1: 0.263\tUnc: 0.737\n",
      "\n",
      "\t[0.245] R184: totcalls < 1403.444\n",
      "\t\t\t0: 0.000\t1: 0.245\tUnc: 0.755\n",
      "\n",
      "\t[0.229] R255: truck = 0.0\n",
      "\t\t\t0: 0.000\t1: 0.229\tUnc: 0.771\n",
      "\n",
      "\t[0.227] R225: 68.769 < avg3qty < 168.800\n",
      "\t\t\t0: 0.000\t1: 0.227\tUnc: 0.773\n",
      "\n",
      "\t[0.226] R204: adjqty < 1382.922\n",
      "\t\t\t0: 0.000\t1: 0.226\tUnc: 0.774\n",
      "\n",
      "\t[0.222] R103: 198.618 < mou_cvce_Mean < 321.138\n",
      "\t\t\t0: 0.000\t1: 0.222\tUnc: 0.778\n",
      "\n",
      "\t[0.219] R191: totmou > 11136.861\n",
      "\t\t\t0: 0.000\t1: 0.219\tUnc: 0.781\n",
      "\n",
      "\t[0.217] R87: -1.138 < ccrndmou_Mean < 3.167\n",
      "\t\t\t0: 0.016\t1: 0.209\tUnc: 0.774\n",
      "\n",
      "\t[0.214] R29: datovr_Mean = 0.0\n",
      "\t\t\t0: 0.022\t1: 0.203\tUnc: 0.775\n",
      "\n",
      "\t[0.208] R58: unan_dat_Mean = 0.0\n",
      "\t\t\t0: 0.021\t1: 0.197\tUnc: 0.782\n",
      "\n",
      "\t[0.207] R11: totmrc_Mean > 67.823\n",
      "\t\t\t0: 0.000\t1: 0.207\tUnc: 0.793\n",
      "\n",
      "\t[0.205] R39: change_mou > 130.586\n",
      "\t\t\t0: 0.000\t1: 0.205\tUnc: 0.795\n"
     ]
    },
    {
     "name": "stderr",
     "output_type": "stream",
     "text": [
      "24-04-27 13:49:23 [INFO] Step 6: Inference done\n",
      "24-04-27 13:49:23 [DEBUG] Training Time: 0.97s\n",
      "24-04-27 13:49:23 [DEBUG] Epochs: 31\n",
      "24-04-27 13:49:23 [DEBUG] Min Loss: 0.004\n"
     ]
    },
    {
     "data": {
      "image/png": "[encoded data removed]",
      "text/plain": [
       "<Figure size 640x480 with 1 Axes>"
      ]
     },
     "metadata": {},
     "output_type": "display_data"
    },
    {
     "name": "stderr",
     "output_type": "stream",
     "text": [
      "24-04-27 13:49:23 [DEBUG] Accuracy:  0.48\n",
      "24-04-27 13:49:23 [DEBUG] F1 Score: 0.63\n",
      "24-04-27 13:49:23 [DEBUG] Confusion Matrix: \n",
      "[[ 1061 11067]\n",
      " [ 1042 10331]]\n",
      "24-04-27 13:49:23 [INFO] ------------------------------\n"
     ]
    }
   ],
   "source": [
    "num_breaks = 3\n",
    "mult_rules = False\n",
    "debug_mode = True\n",
    "print_final_model = True\n",
    "num_workers = 0\n",
    "\n",
    "RULE_FOLDER = \"rules_saved_clean\"\n",
    "\n",
    "ignore_for_training = [\"labels_clustering\", \"distance_norm\"]\n",
    "df_cols = [i for i in list(data.columns) if i not in ignore_for_training]\n",
    "\n",
    "rows_use = None\n",
    "if rows_use:\n",
    "    train_data_df_use = train_data_df.head(rows_use)\n",
    "    X_train_use = X_train[:rows_use]\n",
    "    y_train_use = y_train[:rows_use]\n",
    "else:\n",
    "    train_data_df_use = train_data_df\n",
    "    X_train_use = X_train\n",
    "    y_train_use = y_train\n",
    "logger.debug(f\"Train: {len(X_train_use)}\")\n",
    "for method in [\"kmeans\", \"random\"]:\n",
    "    name = f\"dataset={dataset_name}, breaks={num_breaks}, add_mult_rules={mult_rules}, maf_method={method}\"\n",
    "    logger.info(f\"Step 5: Run DST ({name})\")\n",
    "    DSC = DSClassifierMultiQ(2, debug_mode=debug_mode, num_workers=num_workers, maf_method=method,\n",
    "                            data=train_data_df_use)#.head(rows_use))\n",
    "    logger.debug(f\"\\tModel init done\")    \n",
    "    res = DSC.fit(X_train_use, y_train_use, \n",
    "            add_single_rules=True, single_rules_breaks=num_breaks, add_mult_rules=mult_rules,\n",
    "            column_names=df_cols, print_every_epochs=5, print_final_model=print_final_model)\n",
    "    losses, epoch, dt = res\n",
    "    logger.debug(f\"\\tModel fit done\")\n",
    "\n",
    "    DSC.model.save_rules_bin(os.path.join(RULE_FOLDER, f\"{name}.dsb\"))\n",
    "#     most_important_rules = DSC.model.find_most_important_rules()\n",
    "#     print(most_important_rules)\n",
    "    DSC.model.print_most_important_rules()\n",
    "    y_pred = DSC.predict(X_test)\n",
    "\n",
    "    logger.info(f\"Step 6: Inference done\")\n",
    "\n",
    "    report_results(y_test, y_pred, dataset=dataset_name, method=method,\n",
    "                epoch=epoch, dt=dt, losses=losses, \n",
    "                save_results=True, name=name, print_results=True,\n",
    "                breaks=num_breaks, mult_rules=mult_rules)\n",
    "    \n",
    "    logging.info(\"-\"*30)\n",
    "    \n",
    "    "
   ]
  },
  {
   "cell_type": "code",
   "execution_count": 33,
   "metadata": {},
   "outputs": [
    {
     "data": {
      "text/html": [
       "<div>\n",
       "<style scoped>\n",
       "    .dataframe tbody tr th:only-of-type {\n",
       "        vertical-align: middle;\n",
       "    }\n",
       "\n",
       "    .dataframe tbody tr th {\n",
       "        vertical-align: top;\n",
       "    }\n",
       "\n",
       "    .dataframe thead th {\n",
       "        text-align: right;\n",
       "    }\n",
       "</style>\n",
       "<table border=\"1\" class=\"dataframe\">\n",
       "  <thead>\n",
       "    <tr style=\"text-align: right;\">\n",
       "      <th></th>\n",
       "      <th>name</th>\n",
       "      <th>accuracy</th>\n",
       "      <th>f1</th>\n",
       "      <th>confusion_matrix</th>\n",
       "      <th>training_time</th>\n",
       "      <th>epochs</th>\n",
       "      <th>min_loss</th>\n",
       "      <th>datetime</th>\n",
       "      <th>MAF method</th>\n",
       "      <th>dataset</th>\n",
       "      <th>breaks</th>\n",
       "      <th>mult_rules</th>\n",
       "    </tr>\n",
       "  </thead>\n",
       "  <tbody>\n",
       "    <tr>\n",
       "      <th>84</th>\n",
       "      <td>dataset=Brain Tumor, breaks=3, add_mult_rules=...</td>\n",
       "      <td>0.975199</td>\n",
       "      <td>0.970833</td>\n",
       "      <td>[[635   9]\\n [ 19 466]]</td>\n",
       "      <td>288.094734</td>\n",
       "      <td>69</td>\n",
       "      <td>0.033078</td>\n",
       "      <td>26-04-2024 21:24:14</td>\n",
       "      <td>kmeans</td>\n",
       "      <td>Brain Tumor</td>\n",
       "      <td>3.0</td>\n",
       "      <td>False</td>\n",
       "    </tr>\n",
       "    <tr>\n",
       "      <th>85</th>\n",
       "      <td>dataset=Brain Tumor, breaks=3, add_mult_rules=...</td>\n",
       "      <td>0.982285</td>\n",
       "      <td>0.979339</td>\n",
       "      <td>[[635   9]\\n [ 11 474]]</td>\n",
       "      <td>394.811531</td>\n",
       "      <td>137</td>\n",
       "      <td>0.026403</td>\n",
       "      <td>26-04-2024 21:30:50</td>\n",
       "      <td>random</td>\n",
       "      <td>Brain Tumor</td>\n",
       "      <td>3.0</td>\n",
       "      <td>False</td>\n",
       "    </tr>\n",
       "  </tbody>\n",
       "</table>\n",
       "</div>"
      ],
      "text/plain": [
       "                                                 name  accuracy        f1  \\\n",
       "84  dataset=Brain Tumor, breaks=3, add_mult_rules=...  0.975199  0.970833   \n",
       "85  dataset=Brain Tumor, breaks=3, add_mult_rules=...  0.982285  0.979339   \n",
       "\n",
       "           confusion_matrix  training_time  epochs  min_loss  \\\n",
       "84  [[635   9]\\n [ 19 466]]     288.094734      69  0.033078   \n",
       "85  [[635   9]\\n [ 11 474]]     394.811531     137  0.026403   \n",
       "\n",
       "               datetime MAF method      dataset  breaks mult_rules  \n",
       "84  26-04-2024 21:24:14     kmeans  Brain Tumor     3.0      False  \n",
       "85  26-04-2024 21:30:50     random  Brain Tumor     3.0      False  "
      ]
     },
     "execution_count": 33,
     "metadata": {},
     "output_type": "execute_result"
    }
   ],
   "source": [
    "experiments = pd.read_csv(\"experiments.csv\")\n",
    "\n",
    "experiments.tail(2)"
   ]
  },
  {
   "cell_type": "markdown",
   "metadata": {},
   "source": [
    "## Rules"
   ]
  },
  {
   "cell_type": "code",
   "execution_count": 34,
   "metadata": {},
   "outputs": [
    {
     "name": "stderr",
     "output_type": "stream",
     "text": [
      "24-04-26 21:41:45 [INFO] Found 4 rules\n"
     ]
    }
   ],
   "source": [
    "RULE_FOLDER = \"rules_saved_clean\"\n",
    "\n",
    "assert os.path.exists(RULE_FOLDER), f\"Folder {RULE_FOLDER} does not exist\"\n",
    "\n",
    "rules = os.listdir(RULE_FOLDER)\n",
    "logging.info(f\"Found {len(rules)} rules\")"
   ]
  },
  {
   "cell_type": "code",
   "execution_count": 35,
   "metadata": {},
   "outputs": [],
   "source": [
    "def get_pairs(rules):\n",
    "    pairs = []\n",
    "    for rule1 in rules:\n",
    "        if 'maf_method' in rule1:\n",
    "            for rule2 in rules:\n",
    "                if rule1 == rule2 or (rule2, rule1) in pairs:\n",
    "                    continue\n",
    "                if rule2.startswith(rule1.split('maf_method')[0]):\n",
    "                    pairs.append((rule1, rule2))\n",
    "    return pairs"
   ]
  },
  {
   "cell_type": "code",
   "execution_count": 36,
   "metadata": {},
   "outputs": [],
   "source": [
    "def extract_res(rules_info):\n",
    "    rules = rules_info[\"preds\"]\n",
    "    mafs = rules_info[\"masses\"]\n",
    "    \n",
    "    rule_names = [str(i) for i in rules]\n",
    "    mass_first = [float(i[0]) for i in mafs]\n",
    "    mass_second = [float(i[1]) for i in mafs]\n",
    "    uncertainty = [float(i[2]) for i in mafs]\n",
    "    \n",
    "    res = {\"rule\": rule_names, \"mass_first\": mass_first, \"mass_second\": mass_second, \"uncertainty\": uncertainty}\n",
    "    return res"
   ]
  },
  {
   "cell_type": "code",
   "execution_count": 39,
   "metadata": {},
   "outputs": [
    {
     "name": "stdout",
     "output_type": "stream",
     "text": [
      "Num rules 49\n"
     ]
    },
    {
     "data": {
      "application/vnd.plotly.v1+json": {
       "config": {
        "plotlyServerURL": "https://plot.ly"
       },
       "data": [
        {
         "alignmentgroup": "True",
         "hovertemplate": "variable=uncertainty_kmeans<br>rule=%{x}<br>value=%{y}<extra></extra>",
         "legendgroup": "uncertainty_kmeans",
         "marker": {
          "color": "#636efa",
          "pattern": {
           "shape": ""
          }
         },
         "name": "uncertainty_kmeans",
         "offsetgroup": "uncertainty_kmeans",
         "orientation": "v",
         "showlegend": true,
         "textposition": "auto",
         "type": "bar",
         "x": [
          "Mean < 5.696",
          "5.696 < Mean < 9.586",
          "9.586 < Mean < 13.475",
          "Mean > 13.475",
          "Variance < 400.038",
          "400.038 < Variance < 718.473",
          "718.473 < Variance < 1036.907",
          "Variance > 1036.907",
          "Standard Deviation < 19.398",
          "19.398 < Standard Deviation < 25.324",
          "25.324 < Standard Deviation < 31.249",
          "Standard Deviation > 31.249",
          "Entropy < 0.026",
          "0.026 < Entropy < 0.073",
          "0.073 < Entropy < 0.121",
          "Entropy > 0.121",
          "Skewness < 2.339",
          "2.339 < Skewness < 4.097",
          "4.097 < Skewness < 5.854",
          "Skewness > 5.854",
          "Kurtosis < -15.863",
          "-15.863 < Kurtosis < 24.581",
          "24.581 < Kurtosis < 65.024",
          "Kurtosis > 65.024",
          "Contrast < 48.638",
          "48.638 < Contrast < 130.232",
          "130.232 < Contrast < 211.826",
          "Contrast > 211.826",
          "Energy < 0.117",
          "0.117 < Energy < 0.204",
          "0.204 < Energy < 0.292",
          "Energy > 0.292",
          "ASM < 0.019",
          "0.019 < ASM < 0.058",
          "0.058 < ASM < 0.098",
          "ASM > 0.098",
          "Homogeneity < 0.393",
          "0.393 < Homogeneity < 0.479",
          "0.479 < Homogeneity < 0.565",
          "Homogeneity > 0.565",
          "Dissimilarity < 3.433",
          "3.433 < Dissimilarity < 4.715",
          "4.715 < Dissimilarity < 5.998",
          "Dissimilarity > 5.998",
          "Correlation < 0.938",
          "0.938 < Correlation < 0.956",
          "0.956 < Correlation < 0.973",
          "Correlation > 0.973",
          "Coarseness = 7.46e-155"
         ],
         "xaxis": "x",
         "y": [
          0.35902997851371765,
          0.35371121764183044,
          0.3535148501396179,
          0.11403286457061768,
          0.3457629680633545,
          0.3541017472743988,
          0.3604022264480591,
          0.2799464166164398,
          0.34427714347839355,
          0.34599995613098145,
          0.348989874124527,
          0.28305062651634216,
          0,
          0.3324712812900543,
          0.35169321298599243,
          0.3505061864852905,
          0.33938390016555786,
          0.35123229026794434,
          0.33636975288391113,
          0.4258043169975281,
          1,
          0.347834974527359,
          0.3294721245765686,
          0.4534047842025757,
          0.3463470935821533,
          0.35546401143074036,
          0.06974294036626816,
          0.37804511189460754,
          0,
          0.005702354945242405,
          0.34720757603645325,
          0.35158050060272217,
          0,
          0.34333884716033936,
          0.35206687450408936,
          0.35029923915863037,
          0,
          0.3261181712150574,
          0.3464929163455963,
          0.35131359100341797,
          0.35332244634628296,
          0.345443993806839,
          0.2959885597229004,
          0.35773390531539917,
          0.3500620722770691,
          0.3491513729095459,
          0.34621527791023254,
          0.34674593806266785,
          0.14425958693027496
         ],
         "yaxis": "y"
        },
        {
         "alignmentgroup": "True",
         "hovertemplate": "variable=uncertainty_random<br>rule=%{x}<br>value=%{y}<extra></extra>",
         "legendgroup": "uncertainty_random",
         "marker": {
          "color": "#EF553B",
          "pattern": {
           "shape": ""
          }
         },
         "name": "uncertainty_random",
         "offsetgroup": "uncertainty_random",
         "orientation": "v",
         "showlegend": true,
         "textposition": "auto",
         "type": "bar",
         "x": [
          "Mean < 5.696",
          "5.696 < Mean < 9.586",
          "9.586 < Mean < 13.475",
          "Mean > 13.475",
          "Variance < 400.038",
          "400.038 < Variance < 718.473",
          "718.473 < Variance < 1036.907",
          "Variance > 1036.907",
          "Standard Deviation < 19.398",
          "19.398 < Standard Deviation < 25.324",
          "25.324 < Standard Deviation < 31.249",
          "Standard Deviation > 31.249",
          "Entropy < 0.026",
          "0.026 < Entropy < 0.073",
          "0.073 < Entropy < 0.121",
          "Entropy > 0.121",
          "Skewness < 2.339",
          "2.339 < Skewness < 4.097",
          "4.097 < Skewness < 5.854",
          "Skewness > 5.854",
          "Kurtosis < -15.863",
          "-15.863 < Kurtosis < 24.581",
          "24.581 < Kurtosis < 65.024",
          "Kurtosis > 65.024",
          "Contrast < 48.638",
          "48.638 < Contrast < 130.232",
          "130.232 < Contrast < 211.826",
          "Contrast > 211.826",
          "Energy < 0.117",
          "0.117 < Energy < 0.204",
          "0.204 < Energy < 0.292",
          "Energy > 0.292",
          "ASM < 0.019",
          "0.019 < ASM < 0.058",
          "0.058 < ASM < 0.098",
          "ASM > 0.098",
          "Homogeneity < 0.393",
          "0.393 < Homogeneity < 0.479",
          "0.479 < Homogeneity < 0.565",
          "Homogeneity > 0.565",
          "Dissimilarity < 3.433",
          "3.433 < Dissimilarity < 4.715",
          "4.715 < Dissimilarity < 5.998",
          "Dissimilarity > 5.998",
          "Correlation < 0.938",
          "0.938 < Correlation < 0.956",
          "0.956 < Correlation < 0.973",
          "Correlation > 0.973",
          "Coarseness = 7.46e-155"
         ],
         "xaxis": "x",
         "y": [
          0.7004663944244385,
          0.7215700149536133,
          0.8118210434913635,
          0.6799001693725586,
          0.7106898427009583,
          0.8045098781585693,
          0.8136598467826843,
          0.6930350661277771,
          0.7120225429534912,
          0.7042485475540161,
          0.8125894069671631,
          0.6611723303794861,
          0.6253372430801392,
          0.7604109048843384,
          0.5237234830856323,
          0.5451507568359375,
          0.47775939106941223,
          0.8335415124893188,
          0.7236005663871765,
          0.6846064925193787,
          0.800000011920929,
          0.6965020298957825,
          0.6886522769927979,
          0.5391080379486084,
          0.7197531461715698,
          0.8074196577072144,
          0.821923553943634,
          0.7970395088195801,
          0.6495963931083679,
          0.46669209003448486,
          0.537104606628418,
          0.6021444797515869,
          0.6667618155479431,
          0.8138716816902161,
          0.6922138333320618,
          0.6731656789779663,
          0.6312034130096436,
          0.5079805850982666,
          0.6637513637542725,
          0.5779818892478943,
          0.7400628924369812,
          0.7751337289810181,
          0.7741119265556335,
          0.6744024157524109,
          0.8267221450805664,
          0.8275570273399353,
          0.677071750164032,
          0.8113342523574829,
          0.800000011920929
         ],
         "yaxis": "y"
        }
       ],
       "layout": {
        "barmode": "group",
        "legend": {
         "title": {
          "text": "variable"
         },
         "tracegroupgap": 0
        },
        "template": {
         "data": {
          "bar": [
           {
            "error_x": {
             "color": "#2a3f5f"
            },
            "error_y": {
             "color": "#2a3f5f"
            },
            "marker": {
             "line": {
              "color": "#E5ECF6",
              "width": 0.5
             },
             "pattern": {
              "fillmode": "overlay",
              "size": 10,
              "solidity": 0.2
             }
            },
            "type": "bar"
           }
          ],
          "barpolar": [
           {
            "marker": {
             "line": {
              "color": "#E5ECF6",
              "width": 0.5
             },
             "pattern": {
              "fillmode": "overlay",
              "size": 10,
              "solidity": 0.2
             }
            },
            "type": "barpolar"
           }
          ],
          "carpet": [
           {
            "aaxis": {
             "endlinecolor": "#2a3f5f",
             "gridcolor": "white",
             "linecolor": "white",
             "minorgridcolor": "white",
             "startlinecolor": "#2a3f5f"
            },
            "baxis": {
             "endlinecolor": "#2a3f5f",
             "gridcolor": "white",
             "linecolor": "white",
             "minorgridcolor": "white",
             "startlinecolor": "#2a3f5f"
            },
            "type": "carpet"
           }
          ],
          "choropleth": [
           {
            "colorbar": {
             "outlinewidth": 0,
             "ticks": ""
            },
            "type": "choropleth"
           }
          ],
          "contour": [
           {
            "colorbar": {
             "outlinewidth": 0,
             "ticks": ""
            },
            "colorscale": [
             [
              0,
              "#0d0887"
             ],
             [
              0.1111111111111111,
              "#46039f"
             ],
             [
              0.2222222222222222,
              "#7201a8"
             ],
             [
              0.3333333333333333,
              "#9c179e"
             ],
             [
              0.4444444444444444,
              "#bd3786"
             ],
             [
              0.5555555555555556,
              "#d8576b"
             ],
             [
              0.6666666666666666,
              "#ed7953"
             ],
             [
              0.7777777777777778,
              "#fb9f3a"
             ],
             [
              0.8888888888888888,
              "#fdca26"
             ],
             [
              1,
              "#f0f921"
             ]
            ],
            "type": "contour"
           }
          ],
          "contourcarpet": [
           {
            "colorbar": {
             "outlinewidth": 0,
             "ticks": ""
            },
            "type": "contourcarpet"
           }
          ],
          "heatmap": [
           {
            "colorbar": {
             "outlinewidth": 0,
             "ticks": ""
            },
            "colorscale": [
             [
              0,
              "#0d0887"
             ],
             [
              0.1111111111111111,
              "#46039f"
             ],
             [
              0.2222222222222222,
              "#7201a8"
             ],
             [
              0.3333333333333333,
              "#9c179e"
             ],
             [
              0.4444444444444444,
              "#bd3786"
             ],
             [
              0.5555555555555556,
              "#d8576b"
             ],
             [
              0.6666666666666666,
              "#ed7953"
             ],
             [
              0.7777777777777778,
              "#fb9f3a"
             ],
             [
              0.8888888888888888,
              "#fdca26"
             ],
             [
              1,
              "#f0f921"
             ]
            ],
            "type": "heatmap"
           }
          ],
          "heatmapgl": [
           {
            "colorbar": {
             "outlinewidth": 0,
             "ticks": ""
            },
            "colorscale": [
             [
              0,
              "#0d0887"
             ],
             [
              0.1111111111111111,
              "#46039f"
             ],
             [
              0.2222222222222222,
              "#7201a8"
             ],
             [
              0.3333333333333333,
              "#9c179e"
             ],
             [
              0.4444444444444444,
              "#bd3786"
             ],
             [
              0.5555555555555556,
              "#d8576b"
             ],
             [
              0.6666666666666666,
              "#ed7953"
             ],
             [
              0.7777777777777778,
              "#fb9f3a"
             ],
             [
              0.8888888888888888,
              "#fdca26"
             ],
             [
              1,
              "#f0f921"
             ]
            ],
            "type": "heatmapgl"
           }
          ],
          "histogram": [
           {
            "marker": {
             "pattern": {
              "fillmode": "overlay",
              "size": 10,
              "solidity": 0.2
             }
            },
            "type": "histogram"
           }
          ],
          "histogram2d": [
           {
            "colorbar": {
             "outlinewidth": 0,
             "ticks": ""
            },
            "colorscale": [
             [
              0,
              "#0d0887"
             ],
             [
              0.1111111111111111,
              "#46039f"
             ],
             [
              0.2222222222222222,
              "#7201a8"
             ],
             [
              0.3333333333333333,
              "#9c179e"
             ],
             [
              0.4444444444444444,
              "#bd3786"
             ],
             [
              0.5555555555555556,
              "#d8576b"
             ],
             [
              0.6666666666666666,
              "#ed7953"
             ],
             [
              0.7777777777777778,
              "#fb9f3a"
             ],
             [
              0.8888888888888888,
              "#fdca26"
             ],
             [
              1,
              "#f0f921"
             ]
            ],
            "type": "histogram2d"
           }
          ],
          "histogram2dcontour": [
           {
            "colorbar": {
             "outlinewidth": 0,
             "ticks": ""
            },
            "colorscale": [
             [
              0,
              "#0d0887"
             ],
             [
              0.1111111111111111,
              "#46039f"
             ],
             [
              0.2222222222222222,
              "#7201a8"
             ],
             [
              0.3333333333333333,
              "#9c179e"
             ],
             [
              0.4444444444444444,
              "#bd3786"
             ],
             [
              0.5555555555555556,
              "#d8576b"
             ],
             [
              0.6666666666666666,
              "#ed7953"
             ],
             [
              0.7777777777777778,
              "#fb9f3a"
             ],
             [
              0.8888888888888888,
              "#fdca26"
             ],
             [
              1,
              "#f0f921"
             ]
            ],
            "type": "histogram2dcontour"
           }
          ],
          "mesh3d": [
           {
            "colorbar": {
             "outlinewidth": 0,
             "ticks": ""
            },
            "type": "mesh3d"
           }
          ],
          "parcoords": [
           {
            "line": {
             "colorbar": {
              "outlinewidth": 0,
              "ticks": ""
             }
            },
            "type": "parcoords"
           }
          ],
          "pie": [
           {
            "automargin": true,
            "type": "pie"
           }
          ],
          "scatter": [
           {
            "fillpattern": {
             "fillmode": "overlay",
             "size": 10,
             "solidity": 0.2
            },
            "type": "scatter"
           }
          ],
          "scatter3d": [
           {
            "line": {
             "colorbar": {
              "outlinewidth": 0,
              "ticks": ""
             }
            },
            "marker": {
             "colorbar": {
              "outlinewidth": 0,
              "ticks": ""
             }
            },
            "type": "scatter3d"
           }
          ],
          "scattercarpet": [
           {
            "marker": {
             "colorbar": {
              "outlinewidth": 0,
              "ticks": ""
             }
            },
            "type": "scattercarpet"
           }
          ],
          "scattergeo": [
           {
            "marker": {
             "colorbar": {
              "outlinewidth": 0,
              "ticks": ""
             }
            },
            "type": "scattergeo"
           }
          ],
          "scattergl": [
           {
            "marker": {
             "colorbar": {
              "outlinewidth": 0,
              "ticks": ""
             }
            },
            "type": "scattergl"
           }
          ],
          "scattermapbox": [
           {
            "marker": {
             "colorbar": {
              "outlinewidth": 0,
              "ticks": ""
             }
            },
            "type": "scattermapbox"
           }
          ],
          "scatterpolar": [
           {
            "marker": {
             "colorbar": {
              "outlinewidth": 0,
              "ticks": ""
             }
            },
            "type": "scatterpolar"
           }
          ],
          "scatterpolargl": [
           {
            "marker": {
             "colorbar": {
              "outlinewidth": 0,
              "ticks": ""
             }
            },
            "type": "scatterpolargl"
           }
          ],
          "scatterternary": [
           {
            "marker": {
             "colorbar": {
              "outlinewidth": 0,
              "ticks": ""
             }
            },
            "type": "scatterternary"
           }
          ],
          "surface": [
           {
            "colorbar": {
             "outlinewidth": 0,
             "ticks": ""
            },
            "colorscale": [
             [
              0,
              "#0d0887"
             ],
             [
              0.1111111111111111,
              "#46039f"
             ],
             [
              0.2222222222222222,
              "#7201a8"
             ],
             [
              0.3333333333333333,
              "#9c179e"
             ],
             [
              0.4444444444444444,
              "#bd3786"
             ],
             [
              0.5555555555555556,
              "#d8576b"
             ],
             [
              0.6666666666666666,
              "#ed7953"
             ],
             [
              0.7777777777777778,
              "#fb9f3a"
             ],
             [
              0.8888888888888888,
              "#fdca26"
             ],
             [
              1,
              "#f0f921"
             ]
            ],
            "type": "surface"
           }
          ],
          "table": [
           {
            "cells": {
             "fill": {
              "color": "#EBF0F8"
             },
             "line": {
              "color": "white"
             }
            },
            "header": {
             "fill": {
              "color": "#C8D4E3"
             },
             "line": {
              "color": "white"
             }
            },
            "type": "table"
           }
          ]
         },
         "layout": {
          "annotationdefaults": {
           "arrowcolor": "#2a3f5f",
           "arrowhead": 0,
           "arrowwidth": 1
          },
          "autotypenumbers": "strict",
          "coloraxis": {
           "colorbar": {
            "outlinewidth": 0,
            "ticks": ""
           }
          },
          "colorscale": {
           "diverging": [
            [
             0,
             "#8e0152"
            ],
            [
             0.1,
             "#c51b7d"
            ],
            [
             0.2,
             "#de77ae"
            ],
            [
             0.3,
             "#f1b6da"
            ],
            [
             0.4,
             "#fde0ef"
            ],
            [
             0.5,
             "#f7f7f7"
            ],
            [
             0.6,
             "#e6f5d0"
            ],
            [
             0.7,
             "#b8e186"
            ],
            [
             0.8,
             "#7fbc41"
            ],
            [
             0.9,
             "#4d9221"
            ],
            [
             1,
             "#276419"
            ]
           ],
           "sequential": [
            [
             0,
             "#0d0887"
            ],
            [
             0.1111111111111111,
             "#46039f"
            ],
            [
             0.2222222222222222,
             "#7201a8"
            ],
            [
             0.3333333333333333,
             "#9c179e"
            ],
            [
             0.4444444444444444,
             "#bd3786"
            ],
            [
             0.5555555555555556,
             "#d8576b"
            ],
            [
             0.6666666666666666,
             "#ed7953"
            ],
            [
             0.7777777777777778,
             "#fb9f3a"
            ],
            [
             0.8888888888888888,
             "#fdca26"
            ],
            [
             1,
             "#f0f921"
            ]
           ],
           "sequentialminus": [
            [
             0,
             "#0d0887"
            ],
            [
             0.1111111111111111,
             "#46039f"
            ],
            [
             0.2222222222222222,
             "#7201a8"
            ],
            [
             0.3333333333333333,
             "#9c179e"
            ],
            [
             0.4444444444444444,
             "#bd3786"
            ],
            [
             0.5555555555555556,
             "#d8576b"
            ],
            [
             0.6666666666666666,
             "#ed7953"
            ],
            [
             0.7777777777777778,
             "#fb9f3a"
            ],
            [
             0.8888888888888888,
             "#fdca26"
            ],
            [
             1,
             "#f0f921"
            ]
           ]
          },
          "colorway": [
           "#636efa",
           "#EF553B",
           "#00cc96",
           "#ab63fa",
           "#FFA15A",
           "#19d3f3",
           "#FF6692",
           "#B6E880",
           "#FF97FF",
           "#FECB52"
          ],
          "font": {
           "color": "#2a3f5f"
          },
          "geo": {
           "bgcolor": "white",
           "lakecolor": "white",
           "landcolor": "#E5ECF6",
           "showlakes": true,
           "showland": true,
           "subunitcolor": "white"
          },
          "hoverlabel": {
           "align": "left"
          },
          "hovermode": "closest",
          "mapbox": {
           "style": "light"
          },
          "paper_bgcolor": "white",
          "plot_bgcolor": "#E5ECF6",
          "polar": {
           "angularaxis": {
            "gridcolor": "white",
            "linecolor": "white",
            "ticks": ""
           },
           "bgcolor": "#E5ECF6",
           "radialaxis": {
            "gridcolor": "white",
            "linecolor": "white",
            "ticks": ""
           }
          },
          "scene": {
           "xaxis": {
            "backgroundcolor": "#E5ECF6",
            "gridcolor": "white",
            "gridwidth": 2,
            "linecolor": "white",
            "showbackground": true,
            "ticks": "",
            "zerolinecolor": "white"
           },
           "yaxis": {
            "backgroundcolor": "#E5ECF6",
            "gridcolor": "white",
            "gridwidth": 2,
            "linecolor": "white",
            "showbackground": true,
            "ticks": "",
            "zerolinecolor": "white"
           },
           "zaxis": {
            "backgroundcolor": "#E5ECF6",
            "gridcolor": "white",
            "gridwidth": 2,
            "linecolor": "white",
            "showbackground": true,
            "ticks": "",
            "zerolinecolor": "white"
           }
          },
          "shapedefaults": {
           "line": {
            "color": "#2a3f5f"
           }
          },
          "ternary": {
           "aaxis": {
            "gridcolor": "white",
            "linecolor": "white",
            "ticks": ""
           },
           "baxis": {
            "gridcolor": "white",
            "linecolor": "white",
            "ticks": ""
           },
           "bgcolor": "#E5ECF6",
           "caxis": {
            "gridcolor": "white",
            "linecolor": "white",
            "ticks": ""
           }
          },
          "title": {
           "x": 0.05
          },
          "xaxis": {
           "automargin": true,
           "gridcolor": "white",
           "linecolor": "white",
           "ticks": "",
           "title": {
            "standoff": 15
           },
           "zerolinecolor": "white",
           "zerolinewidth": 2
          },
          "yaxis": {
           "automargin": true,
           "gridcolor": "white",
           "linecolor": "white",
           "ticks": "",
           "title": {
            "standoff": 15
           },
           "zerolinecolor": "white",
           "zerolinewidth": 2
          }
         }
        },
        "title": {
         "text": "Uncertainty comparison between kmeans and random"
        },
        "xaxis": {
         "anchor": "y",
         "domain": [
          0,
          1
         ],
         "title": {
          "text": "rule"
         }
        },
        "yaxis": {
         "anchor": "x",
         "domain": [
          0,
          1
         ],
         "title": {
          "text": "value"
         }
        }
       }
      }
     },
     "metadata": {},
     "output_type": "display_data"
    },
    {
     "name": "stdout",
     "output_type": "stream",
     "text": [
      "Num rules 205\n"
     ]
    },
    {
     "data": {
      "application/vnd.plotly.v1+json": {
       "config": {
        "plotlyServerURL": "https://plot.ly"
       },
       "data": [
        {
         "alignmentgroup": "True",
         "hovertemplate": "variable=uncertainty_kmeans<br>rule=%{x}<br>value=%{y}<extra></extra>",
         "legendgroup": "uncertainty_kmeans",
         "marker": {
          "color": "#636efa",
          "pattern": {
           "shape": ""
          }
         },
         "name": "uncertainty_kmeans",
         "offsetgroup": "uncertainty_kmeans",
         "orientation": "v",
         "showlegend": true,
         "textposition": "auto",
         "type": "bar",
         "x": [
          "Mean < 5.696",
          "5.696 < Mean < 9.586",
          "9.586 < Mean < 13.475",
          "Mean > 13.475",
          "Variance < 400.038",
          "400.038 < Variance < 718.473",
          "718.473 < Variance < 1036.907",
          "Variance > 1036.907",
          "Standard Deviation < 19.398",
          "19.398 < Standard Deviation < 25.324",
          "25.324 < Standard Deviation < 31.249",
          "Standard Deviation > 31.249",
          "Entropy < 0.026",
          "0.026 < Entropy < 0.073",
          "0.073 < Entropy < 0.121",
          "Entropy > 0.121",
          "Skewness < 2.339",
          "2.339 < Skewness < 4.097",
          "4.097 < Skewness < 5.854",
          "Skewness > 5.854",
          "Kurtosis < -15.863",
          "-15.863 < Kurtosis < 24.581",
          "24.581 < Kurtosis < 65.024",
          "Kurtosis > 65.024",
          "Contrast < 48.638",
          "48.638 < Contrast < 130.232",
          "130.232 < Contrast < 211.826",
          "Contrast > 211.826",
          "Energy < 0.117",
          "0.117 < Energy < 0.204",
          "0.204 < Energy < 0.292",
          "Energy > 0.292",
          "ASM < 0.019",
          "0.019 < ASM < 0.058",
          "0.058 < ASM < 0.098",
          "ASM > 0.098",
          "Homogeneity < 0.393",
          "0.393 < Homogeneity < 0.479",
          "0.479 < Homogeneity < 0.565",
          "Homogeneity > 0.565",
          "Dissimilarity < 3.433",
          "3.433 < Dissimilarity < 4.715",
          "4.715 < Dissimilarity < 5.998",
          "Dissimilarity > 5.998",
          "Correlation < 0.938",
          "0.938 < Correlation < 0.956",
          "0.956 < Correlation < 0.973",
          "Correlation > 0.973",
          "Coarseness = 7.46e-155",
          "Positive Mean - 9.586, Variance - 718.473",
          "Negative Mean - 9.586, Variance - 718.473",
          "Positive Mean - 9.586, Standard Deviation - 25.324",
          "Negative Mean - 9.586, Standard Deviation - 25.324",
          "Positive Mean - 9.586, Entropy - 0.073",
          "Negative Mean - 9.586, Entropy - 0.073",
          "Positive Mean - 9.586, Skewness - 4.097",
          "Negative Mean - 9.586, Skewness - 4.097",
          "Positive Mean - 9.586, Kurtosis - 24.581",
          "Negative Mean - 9.586, Kurtosis - 24.581",
          "Positive Mean - 9.586, Contrast - 130.232",
          "Negative Mean - 9.586, Contrast - 130.232",
          "Positive Mean - 9.586, Energy - 0.204",
          "Negative Mean - 9.586, Energy - 0.204",
          "Positive Mean - 9.586, ASM - 0.058",
          "Negative Mean - 9.586, ASM - 0.058",
          "Positive Mean - 9.586, Homogeneity - 0.479",
          "Negative Mean - 9.586, Homogeneity - 0.479",
          "Positive Mean - 9.586, Dissimilarity - 4.715",
          "Negative Mean - 9.586, Dissimilarity - 4.715",
          "Positive Mean - 9.586, Correlation - 0.956",
          "Negative Mean - 9.586, Correlation - 0.956",
          "Positive Mean - 9.586, Coarseness - 0.000",
          "Negative Mean - 9.586, Coarseness - 0.000",
          "Positive Variance - 718.473, Standard Deviation - 25.324",
          "Negative Variance - 718.473, Standard Deviation - 25.324",
          "Positive Variance - 718.473, Entropy - 0.073",
          "Negative Variance - 718.473, Entropy - 0.073",
          "Positive Variance - 718.473, Skewness - 4.097",
          "Negative Variance - 718.473, Skewness - 4.097",
          "Positive Variance - 718.473, Kurtosis - 24.581",
          "Negative Variance - 718.473, Kurtosis - 24.581",
          "Positive Variance - 718.473, Contrast - 130.232",
          "Negative Variance - 718.473, Contrast - 130.232",
          "Positive Variance - 718.473, Energy - 0.204",
          "Negative Variance - 718.473, Energy - 0.204",
          "Positive Variance - 718.473, ASM - 0.058",
          "Negative Variance - 718.473, ASM - 0.058",
          "Positive Variance - 718.473, Homogeneity - 0.479",
          "Negative Variance - 718.473, Homogeneity - 0.479",
          "Positive Variance - 718.473, Dissimilarity - 4.715",
          "Negative Variance - 718.473, Dissimilarity - 4.715",
          "Positive Variance - 718.473, Correlation - 0.956",
          "Negative Variance - 718.473, Correlation - 0.956",
          "Positive Variance - 718.473, Coarseness - 0.000",
          "Negative Variance - 718.473, Coarseness - 0.000",
          "Positive Standard Deviation - 25.324, Entropy - 0.073",
          "Negative Standard Deviation - 25.324, Entropy - 0.073",
          "Positive Standard Deviation - 25.324, Skewness - 4.097",
          "Negative Standard Deviation - 25.324, Skewness - 4.097",
          "Positive Standard Deviation - 25.324, Kurtosis - 24.581",
          "Negative Standard Deviation - 25.324, Kurtosis - 24.581",
          "Positive Standard Deviation - 25.324, Contrast - 130.232",
          "Negative Standard Deviation - 25.324, Contrast - 130.232",
          "Positive Standard Deviation - 25.324, Energy - 0.204",
          "Negative Standard Deviation - 25.324, Energy - 0.204",
          "Positive Standard Deviation - 25.324, ASM - 0.058",
          "Negative Standard Deviation - 25.324, ASM - 0.058",
          "Positive Standard Deviation - 25.324, Homogeneity - 0.479",
          "Negative Standard Deviation - 25.324, Homogeneity - 0.479",
          "Positive Standard Deviation - 25.324, Dissimilarity - 4.715",
          "Negative Standard Deviation - 25.324, Dissimilarity - 4.715",
          "Positive Standard Deviation - 25.324, Correlation - 0.956",
          "Negative Standard Deviation - 25.324, Correlation - 0.956",
          "Positive Standard Deviation - 25.324, Coarseness - 0.000",
          "Negative Standard Deviation - 25.324, Coarseness - 0.000",
          "Positive Entropy - 0.073, Skewness - 4.097",
          "Negative Entropy - 0.073, Skewness - 4.097",
          "Positive Entropy - 0.073, Kurtosis - 24.581",
          "Negative Entropy - 0.073, Kurtosis - 24.581",
          "Positive Entropy - 0.073, Contrast - 130.232",
          "Negative Entropy - 0.073, Contrast - 130.232",
          "Positive Entropy - 0.073, Energy - 0.204",
          "Negative Entropy - 0.073, Energy - 0.204",
          "Positive Entropy - 0.073, ASM - 0.058",
          "Negative Entropy - 0.073, ASM - 0.058",
          "Positive Entropy - 0.073, Homogeneity - 0.479",
          "Negative Entropy - 0.073, Homogeneity - 0.479",
          "Positive Entropy - 0.073, Dissimilarity - 4.715",
          "Negative Entropy - 0.073, Dissimilarity - 4.715",
          "Positive Entropy - 0.073, Correlation - 0.956",
          "Negative Entropy - 0.073, Correlation - 0.956",
          "Positive Entropy - 0.073, Coarseness - 0.000",
          "Negative Entropy - 0.073, Coarseness - 0.000",
          "Positive Skewness - 4.097, Kurtosis - 24.581",
          "Negative Skewness - 4.097, Kurtosis - 24.581",
          "Positive Skewness - 4.097, Contrast - 130.232",
          "Negative Skewness - 4.097, Contrast - 130.232",
          "Positive Skewness - 4.097, Energy - 0.204",
          "Negative Skewness - 4.097, Energy - 0.204",
          "Positive Skewness - 4.097, ASM - 0.058",
          "Negative Skewness - 4.097, ASM - 0.058",
          "Positive Skewness - 4.097, Homogeneity - 0.479",
          "Negative Skewness - 4.097, Homogeneity - 0.479",
          "Positive Skewness - 4.097, Dissimilarity - 4.715",
          "Negative Skewness - 4.097, Dissimilarity - 4.715",
          "Positive Skewness - 4.097, Correlation - 0.956",
          "Negative Skewness - 4.097, Correlation - 0.956",
          "Positive Skewness - 4.097, Coarseness - 0.000",
          "Negative Skewness - 4.097, Coarseness - 0.000",
          "Positive Kurtosis - 24.581, Contrast - 130.232",
          "Negative Kurtosis - 24.581, Contrast - 130.232",
          "Positive Kurtosis - 24.581, Energy - 0.204",
          "Negative Kurtosis - 24.581, Energy - 0.204",
          "Positive Kurtosis - 24.581, ASM - 0.058",
          "Negative Kurtosis - 24.581, ASM - 0.058",
          "Positive Kurtosis - 24.581, Homogeneity - 0.479",
          "Negative Kurtosis - 24.581, Homogeneity - 0.479",
          "Positive Kurtosis - 24.581, Dissimilarity - 4.715",
          "Negative Kurtosis - 24.581, Dissimilarity - 4.715",
          "Positive Kurtosis - 24.581, Correlation - 0.956",
          "Negative Kurtosis - 24.581, Correlation - 0.956",
          "Positive Kurtosis - 24.581, Coarseness - 0.000",
          "Negative Kurtosis - 24.581, Coarseness - 0.000",
          "Positive Contrast - 130.232, Energy - 0.204",
          "Negative Contrast - 130.232, Energy - 0.204",
          "Positive Contrast - 130.232, ASM - 0.058",
          "Negative Contrast - 130.232, ASM - 0.058",
          "Positive Contrast - 130.232, Homogeneity - 0.479",
          "Negative Contrast - 130.232, Homogeneity - 0.479",
          "Positive Contrast - 130.232, Dissimilarity - 4.715",
          "Negative Contrast - 130.232, Dissimilarity - 4.715",
          "Positive Contrast - 130.232, Correlation - 0.956",
          "Negative Contrast - 130.232, Correlation - 0.956",
          "Positive Contrast - 130.232, Coarseness - 0.000",
          "Negative Contrast - 130.232, Coarseness - 0.000",
          "Positive Energy - 0.204, ASM - 0.058",
          "Negative Energy - 0.204, ASM - 0.058",
          "Positive Energy - 0.204, Homogeneity - 0.479",
          "Negative Energy - 0.204, Homogeneity - 0.479",
          "Positive Energy - 0.204, Dissimilarity - 4.715",
          "Negative Energy - 0.204, Dissimilarity - 4.715",
          "Positive Energy - 0.204, Correlation - 0.956",
          "Negative Energy - 0.204, Correlation - 0.956",
          "Positive Energy - 0.204, Coarseness - 0.000",
          "Negative Energy - 0.204, Coarseness - 0.000",
          "Positive ASM - 0.058, Homogeneity - 0.479",
          "Negative ASM - 0.058, Homogeneity - 0.479",
          "Positive ASM - 0.058, Dissimilarity - 4.715",
          "Negative ASM - 0.058, Dissimilarity - 4.715",
          "Positive ASM - 0.058, Correlation - 0.956",
          "Negative ASM - 0.058, Correlation - 0.956",
          "Positive ASM - 0.058, Coarseness - 0.000",
          "Negative ASM - 0.058, Coarseness - 0.000",
          "Positive Homogeneity - 0.479, Dissimilarity - 4.715",
          "Negative Homogeneity - 0.479, Dissimilarity - 4.715",
          "Positive Homogeneity - 0.479, Correlation - 0.956",
          "Negative Homogeneity - 0.479, Correlation - 0.956",
          "Positive Homogeneity - 0.479, Coarseness - 0.000",
          "Negative Homogeneity - 0.479, Coarseness - 0.000",
          "Positive Dissimilarity - 4.715, Correlation - 0.956",
          "Negative Dissimilarity - 4.715, Correlation - 0.956",
          "Positive Dissimilarity - 4.715, Coarseness - 0.000",
          "Negative Dissimilarity - 4.715, Coarseness - 0.000",
          "Positive Correlation - 0.956, Coarseness - 0.000",
          "Negative Correlation - 0.956, Coarseness - 0.000"
         ],
         "xaxis": "x",
         "y": [
          0.283877968788147,
          0.20523276925086975,
          0.2203463762998581,
          0.2488853633403778,
          0.3079928159713745,
          0.22437983751296997,
          0.2850109338760376,
          0.317187637090683,
          0.3217575252056122,
          0.20410533249378204,
          0.3087846636772156,
          0.32155755162239075,
          0.0520336739718914,
          0.20394524931907654,
          0.2782055735588074,
          0.2907054126262665,
          0.2368246465921402,
          0.19950486719608307,
          0.1991976648569107,
          0.28999513387680054,
          1,
          0.20601220428943634,
          0.2096797376871109,
          0.4102158546447754,
          0.30951595306396484,
          0.22808924317359924,
          0.20256461203098297,
          0.3000422716140747,
          0.05430695414543152,
          0.10161646455526352,
          0.2614733874797821,
          0.28891095519065857,
          0.0520336739718914,
          0.2018364667892456,
          0.2820625305175781,
          0.28884249925613403,
          0.1002528965473175,
          0.2687515616416931,
          0.2586592137813568,
          0.2859824597835541,
          0.265829473733902,
          0.23262128233909607,
          0.15418162941932678,
          0.17754396796226501,
          0.3280687928199768,
          0.22684967517852783,
          0.17631231248378754,
          0.18547429144382477,
          0.14425958693027496,
          0.8020300269126892,
          0.8025219440460205,
          0.7682153582572937,
          0.782685399055481,
          0.816670298576355,
          0.8141350746154785,
          0.7072237133979797,
          0.8224440217018127,
          0.690822422504425,
          0.8157724738121033,
          0.8034014701843262,
          0.7602131366729736,
          0.8096628189086914,
          0.8173322677612305,
          0.8157323002815247,
          0.7938487529754639,
          0.7799662947654724,
          0.7370032668113708,
          0.8156742453575134,
          0.8165280818939209,
          0.8094274401664734,
          0.8196386098861694,
          0.8027212619781494,
          0.8045521378517151,
          0.8115950226783752,
          0.7760186791419983,
          0.7679917216300964,
          0.7741087079048157,
          0.8041915893554688,
          0.778579831123352,
          0.7146506905555725,
          0.8162988424301147,
          0.7763457298278809,
          0.8068228363990784,
          0.8079272508621216,
          0.8093583583831787,
          0.804327666759491,
          0.8252556920051575,
          0.821812629699707,
          0.7447671294212341,
          0.8051098585128784,
          0.8177753686904907,
          0.8076052069664001,
          0.7570927143096924,
          0.8119651675224304,
          0.8163609504699707,
          0.7597141265869141,
          0.8088089227676392,
          0.694750189781189,
          0.779708206653595,
          0.7720950841903687,
          0.8154867887496948,
          0.8037633299827576,
          0.8061136603355408,
          0.8172430992126465,
          0.8212108016014099,
          0.8138664960861206,
          0.817156195640564,
          0.8091701865196228,
          0.7905318737030029,
          0.7715177536010742,
          0.783649206161499,
          0.8277150392532349,
          0.8067971467971802,
          0.8217008709907532,
          0.8140171766281128,
          0.7899853587150574,
          0.82053142786026,
          0.8185679912567139,
          0.8134339451789856,
          0.7444890141487122,
          0.8238193392753601,
          0.8166627883911133,
          0.8227904438972473,
          0.8214586973190308,
          0.8221254348754883,
          0.8165861368179321,
          0.7260738015174866,
          0.7683521509170532,
          0.8056656718254089,
          0.802085280418396,
          0.8144547343254089,
          0.8033466935157776,
          0.7725980877876282,
          0.8035462498664856,
          0.8056247234344482,
          0.8166884779930115,
          0.8257131576538086,
          0.8183619976043701,
          0.7617607116699219,
          0.826048731803894,
          0.8034712076187134,
          0.8174248337745667,
          0.7844198346138,
          0.8153936266899109,
          0.8177720308303833,
          0.803513765335083,
          0.8041995763778687,
          0.8200320601463318,
          0.8210440278053284,
          0.8014421463012695,
          0.8217331767082214,
          0.789450466632843,
          0.820840060710907,
          0.8217664361000061,
          0.8067890405654907,
          0.8056173920631409,
          0.8202155828475952,
          0.8047211170196533,
          0.8135049939155579,
          0.8141253590583801,
          0.8083997964859009,
          0.8083272576332092,
          0.8114220499992371,
          0.8118783235549927,
          0.8052463531494141,
          0.8202553987503052,
          0.8212820291519165,
          0.81546950340271,
          0.8097555637359619,
          0.8086636066436768,
          0.8121992349624634,
          0.8123443722724915,
          0.8213461637496948,
          0.7655794620513916,
          0.8157589435577393,
          0.8210374712944031,
          0.7154666781425476,
          0.8041795492172241,
          0.8205667734146118,
          0.8310037851333618,
          0.7606058120727539,
          0.8105561137199402,
          0.8096490502357483,
          0.6629026532173157,
          0.8108535408973694,
          0.7646582722663879,
          0.7659801244735718,
          0.7608400583267212,
          0.819032609462738,
          0.8016946315765381,
          0.8170450925827026,
          0.7635669708251953,
          0.7240084409713745,
          0.7083843946456909,
          0.7416282892227173,
          0.8140878081321716,
          0.8217583894729614,
          0.7876511812210083,
          0.7935706973075867,
          0.8235138058662415,
          0.8092437982559204,
          0.8210023045539856,
          0.8174143433570862,
          0.8039246201515198,
          0.8269574642181396
         ],
         "yaxis": "y"
        },
        {
         "alignmentgroup": "True",
         "hovertemplate": "variable=uncertainty_random<br>rule=%{x}<br>value=%{y}<extra></extra>",
         "legendgroup": "uncertainty_random",
         "marker": {
          "color": "#EF553B",
          "pattern": {
           "shape": ""
          }
         },
         "name": "uncertainty_random",
         "offsetgroup": "uncertainty_random",
         "orientation": "v",
         "showlegend": true,
         "textposition": "auto",
         "type": "bar",
         "x": [
          "Mean < 5.696",
          "5.696 < Mean < 9.586",
          "9.586 < Mean < 13.475",
          "Mean > 13.475",
          "Variance < 400.038",
          "400.038 < Variance < 718.473",
          "718.473 < Variance < 1036.907",
          "Variance > 1036.907",
          "Standard Deviation < 19.398",
          "19.398 < Standard Deviation < 25.324",
          "25.324 < Standard Deviation < 31.249",
          "Standard Deviation > 31.249",
          "Entropy < 0.026",
          "0.026 < Entropy < 0.073",
          "0.073 < Entropy < 0.121",
          "Entropy > 0.121",
          "Skewness < 2.339",
          "2.339 < Skewness < 4.097",
          "4.097 < Skewness < 5.854",
          "Skewness > 5.854",
          "Kurtosis < -15.863",
          "-15.863 < Kurtosis < 24.581",
          "24.581 < Kurtosis < 65.024",
          "Kurtosis > 65.024",
          "Contrast < 48.638",
          "48.638 < Contrast < 130.232",
          "130.232 < Contrast < 211.826",
          "Contrast > 211.826",
          "Energy < 0.117",
          "0.117 < Energy < 0.204",
          "0.204 < Energy < 0.292",
          "Energy > 0.292",
          "ASM < 0.019",
          "0.019 < ASM < 0.058",
          "0.058 < ASM < 0.098",
          "ASM > 0.098",
          "Homogeneity < 0.393",
          "0.393 < Homogeneity < 0.479",
          "0.479 < Homogeneity < 0.565",
          "Homogeneity > 0.565",
          "Dissimilarity < 3.433",
          "3.433 < Dissimilarity < 4.715",
          "4.715 < Dissimilarity < 5.998",
          "Dissimilarity > 5.998",
          "Correlation < 0.938",
          "0.938 < Correlation < 0.956",
          "0.956 < Correlation < 0.973",
          "Correlation > 0.973",
          "Coarseness = 7.46e-155",
          "Positive Mean - 9.586, Variance - 718.473",
          "Negative Mean - 9.586, Variance - 718.473",
          "Positive Mean - 9.586, Standard Deviation - 25.324",
          "Negative Mean - 9.586, Standard Deviation - 25.324",
          "Positive Mean - 9.586, Entropy - 0.073",
          "Negative Mean - 9.586, Entropy - 0.073",
          "Positive Mean - 9.586, Skewness - 4.097",
          "Negative Mean - 9.586, Skewness - 4.097",
          "Positive Mean - 9.586, Kurtosis - 24.581",
          "Negative Mean - 9.586, Kurtosis - 24.581",
          "Positive Mean - 9.586, Contrast - 130.232",
          "Negative Mean - 9.586, Contrast - 130.232",
          "Positive Mean - 9.586, Energy - 0.204",
          "Negative Mean - 9.586, Energy - 0.204",
          "Positive Mean - 9.586, ASM - 0.058",
          "Negative Mean - 9.586, ASM - 0.058",
          "Positive Mean - 9.586, Homogeneity - 0.479",
          "Negative Mean - 9.586, Homogeneity - 0.479",
          "Positive Mean - 9.586, Dissimilarity - 4.715",
          "Negative Mean - 9.586, Dissimilarity - 4.715",
          "Positive Mean - 9.586, Correlation - 0.956",
          "Negative Mean - 9.586, Correlation - 0.956",
          "Positive Mean - 9.586, Coarseness - 0.000",
          "Negative Mean - 9.586, Coarseness - 0.000",
          "Positive Variance - 718.473, Standard Deviation - 25.324",
          "Negative Variance - 718.473, Standard Deviation - 25.324",
          "Positive Variance - 718.473, Entropy - 0.073",
          "Negative Variance - 718.473, Entropy - 0.073",
          "Positive Variance - 718.473, Skewness - 4.097",
          "Negative Variance - 718.473, Skewness - 4.097",
          "Positive Variance - 718.473, Kurtosis - 24.581",
          "Negative Variance - 718.473, Kurtosis - 24.581",
          "Positive Variance - 718.473, Contrast - 130.232",
          "Negative Variance - 718.473, Contrast - 130.232",
          "Positive Variance - 718.473, Energy - 0.204",
          "Negative Variance - 718.473, Energy - 0.204",
          "Positive Variance - 718.473, ASM - 0.058",
          "Negative Variance - 718.473, ASM - 0.058",
          "Positive Variance - 718.473, Homogeneity - 0.479",
          "Negative Variance - 718.473, Homogeneity - 0.479",
          "Positive Variance - 718.473, Dissimilarity - 4.715",
          "Negative Variance - 718.473, Dissimilarity - 4.715",
          "Positive Variance - 718.473, Correlation - 0.956",
          "Negative Variance - 718.473, Correlation - 0.956",
          "Positive Variance - 718.473, Coarseness - 0.000",
          "Negative Variance - 718.473, Coarseness - 0.000",
          "Positive Standard Deviation - 25.324, Entropy - 0.073",
          "Negative Standard Deviation - 25.324, Entropy - 0.073",
          "Positive Standard Deviation - 25.324, Skewness - 4.097",
          "Negative Standard Deviation - 25.324, Skewness - 4.097",
          "Positive Standard Deviation - 25.324, Kurtosis - 24.581",
          "Negative Standard Deviation - 25.324, Kurtosis - 24.581",
          "Positive Standard Deviation - 25.324, Contrast - 130.232",
          "Negative Standard Deviation - 25.324, Contrast - 130.232",
          "Positive Standard Deviation - 25.324, Energy - 0.204",
          "Negative Standard Deviation - 25.324, Energy - 0.204",
          "Positive Standard Deviation - 25.324, ASM - 0.058",
          "Negative Standard Deviation - 25.324, ASM - 0.058",
          "Positive Standard Deviation - 25.324, Homogeneity - 0.479",
          "Negative Standard Deviation - 25.324, Homogeneity - 0.479",
          "Positive Standard Deviation - 25.324, Dissimilarity - 4.715",
          "Negative Standard Deviation - 25.324, Dissimilarity - 4.715",
          "Positive Standard Deviation - 25.324, Correlation - 0.956",
          "Negative Standard Deviation - 25.324, Correlation - 0.956",
          "Positive Standard Deviation - 25.324, Coarseness - 0.000",
          "Negative Standard Deviation - 25.324, Coarseness - 0.000",
          "Positive Entropy - 0.073, Skewness - 4.097",
          "Negative Entropy - 0.073, Skewness - 4.097",
          "Positive Entropy - 0.073, Kurtosis - 24.581",
          "Negative Entropy - 0.073, Kurtosis - 24.581",
          "Positive Entropy - 0.073, Contrast - 130.232",
          "Negative Entropy - 0.073, Contrast - 130.232",
          "Positive Entropy - 0.073, Energy - 0.204",
          "Negative Entropy - 0.073, Energy - 0.204",
          "Positive Entropy - 0.073, ASM - 0.058",
          "Negative Entropy - 0.073, ASM - 0.058",
          "Positive Entropy - 0.073, Homogeneity - 0.479",
          "Negative Entropy - 0.073, Homogeneity - 0.479",
          "Positive Entropy - 0.073, Dissimilarity - 4.715",
          "Negative Entropy - 0.073, Dissimilarity - 4.715",
          "Positive Entropy - 0.073, Correlation - 0.956",
          "Negative Entropy - 0.073, Correlation - 0.956",
          "Positive Entropy - 0.073, Coarseness - 0.000",
          "Negative Entropy - 0.073, Coarseness - 0.000",
          "Positive Skewness - 4.097, Kurtosis - 24.581",
          "Negative Skewness - 4.097, Kurtosis - 24.581",
          "Positive Skewness - 4.097, Contrast - 130.232",
          "Negative Skewness - 4.097, Contrast - 130.232",
          "Positive Skewness - 4.097, Energy - 0.204",
          "Negative Skewness - 4.097, Energy - 0.204",
          "Positive Skewness - 4.097, ASM - 0.058",
          "Negative Skewness - 4.097, ASM - 0.058",
          "Positive Skewness - 4.097, Homogeneity - 0.479",
          "Negative Skewness - 4.097, Homogeneity - 0.479",
          "Positive Skewness - 4.097, Dissimilarity - 4.715",
          "Negative Skewness - 4.097, Dissimilarity - 4.715",
          "Positive Skewness - 4.097, Correlation - 0.956",
          "Negative Skewness - 4.097, Correlation - 0.956",
          "Positive Skewness - 4.097, Coarseness - 0.000",
          "Negative Skewness - 4.097, Coarseness - 0.000",
          "Positive Kurtosis - 24.581, Contrast - 130.232",
          "Negative Kurtosis - 24.581, Contrast - 130.232",
          "Positive Kurtosis - 24.581, Energy - 0.204",
          "Negative Kurtosis - 24.581, Energy - 0.204",
          "Positive Kurtosis - 24.581, ASM - 0.058",
          "Negative Kurtosis - 24.581, ASM - 0.058",
          "Positive Kurtosis - 24.581, Homogeneity - 0.479",
          "Negative Kurtosis - 24.581, Homogeneity - 0.479",
          "Positive Kurtosis - 24.581, Dissimilarity - 4.715",
          "Negative Kurtosis - 24.581, Dissimilarity - 4.715",
          "Positive Kurtosis - 24.581, Correlation - 0.956",
          "Negative Kurtosis - 24.581, Correlation - 0.956",
          "Positive Kurtosis - 24.581, Coarseness - 0.000",
          "Negative Kurtosis - 24.581, Coarseness - 0.000",
          "Positive Contrast - 130.232, Energy - 0.204",
          "Negative Contrast - 130.232, Energy - 0.204",
          "Positive Contrast - 130.232, ASM - 0.058",
          "Negative Contrast - 130.232, ASM - 0.058",
          "Positive Contrast - 130.232, Homogeneity - 0.479",
          "Negative Contrast - 130.232, Homogeneity - 0.479",
          "Positive Contrast - 130.232, Dissimilarity - 4.715",
          "Negative Contrast - 130.232, Dissimilarity - 4.715",
          "Positive Contrast - 130.232, Correlation - 0.956",
          "Negative Contrast - 130.232, Correlation - 0.956",
          "Positive Contrast - 130.232, Coarseness - 0.000",
          "Negative Contrast - 130.232, Coarseness - 0.000",
          "Positive Energy - 0.204, ASM - 0.058",
          "Negative Energy - 0.204, ASM - 0.058",
          "Positive Energy - 0.204, Homogeneity - 0.479",
          "Negative Energy - 0.204, Homogeneity - 0.479",
          "Positive Energy - 0.204, Dissimilarity - 4.715",
          "Negative Energy - 0.204, Dissimilarity - 4.715",
          "Positive Energy - 0.204, Correlation - 0.956",
          "Negative Energy - 0.204, Correlation - 0.956",
          "Positive Energy - 0.204, Coarseness - 0.000",
          "Negative Energy - 0.204, Coarseness - 0.000",
          "Positive ASM - 0.058, Homogeneity - 0.479",
          "Negative ASM - 0.058, Homogeneity - 0.479",
          "Positive ASM - 0.058, Dissimilarity - 4.715",
          "Negative ASM - 0.058, Dissimilarity - 4.715",
          "Positive ASM - 0.058, Correlation - 0.956",
          "Negative ASM - 0.058, Correlation - 0.956",
          "Positive ASM - 0.058, Coarseness - 0.000",
          "Negative ASM - 0.058, Coarseness - 0.000",
          "Positive Homogeneity - 0.479, Dissimilarity - 4.715",
          "Negative Homogeneity - 0.479, Dissimilarity - 4.715",
          "Positive Homogeneity - 0.479, Correlation - 0.956",
          "Negative Homogeneity - 0.479, Correlation - 0.956",
          "Positive Homogeneity - 0.479, Coarseness - 0.000",
          "Negative Homogeneity - 0.479, Coarseness - 0.000",
          "Positive Dissimilarity - 4.715, Correlation - 0.956",
          "Negative Dissimilarity - 4.715, Correlation - 0.956",
          "Positive Dissimilarity - 4.715, Coarseness - 0.000",
          "Negative Dissimilarity - 4.715, Coarseness - 0.000",
          "Positive Correlation - 0.956, Coarseness - 0.000",
          "Negative Correlation - 0.956, Coarseness - 0.000"
         ],
         "xaxis": "x",
         "y": [
          0.7512232661247253,
          0.8032599091529846,
          0.8101842403411865,
          0.817780077457428,
          0.7756344676017761,
          0.8058266639709473,
          0.8110731840133667,
          0.8109139800071716,
          0.8154142498970032,
          0.8081430792808533,
          0.7899333834648132,
          0.7497521042823792,
          0.7023833394050598,
          0.8078893423080444,
          0.7908082604408264,
          0.7248556017875671,
          0.6673495769500732,
          0.8119741082191467,
          0.794053852558136,
          0.7505179643630981,
          0.800000011920929,
          0.8109078407287598,
          0.8066467046737671,
          0.7015992403030396,
          0.7880074381828308,
          0.8235849142074585,
          0.816544771194458,
          0.8097763061523438,
          0.8079978823661804,
          0.7375776171684265,
          0.7769443988800049,
          0.8237440586090088,
          0.6810999512672424,
          0.8092400431632996,
          0.7496668100357056,
          0.6629044413566589,
          0.7868749499320984,
          0.7883539795875549,
          0.8199931383132935,
          0.8241375684738159,
          0.8035140037536621,
          0.8090190291404724,
          0.8061608672142029,
          0.7694435119628906,
          0.7731375694274902,
          0.805253267288208,
          0.8021332621574402,
          0.8054974675178528,
          0.800000011920929,
          0.8068186640739441,
          0.7935592532157898,
          0.8049198389053345,
          0.8120124936103821,
          0.8128790855407715,
          0.8077216148376465,
          0.809762179851532,
          0.8057077527046204,
          0.8066952228546143,
          0.8019686341285706,
          0.8053776621818542,
          0.8038649559020996,
          0.8098471164703369,
          0.8014310598373413,
          0.7871274352073669,
          0.7988654375076294,
          0.8015561103820801,
          0.8102386593818665,
          0.8056128621101379,
          0.802364706993103,
          0.8061022758483887,
          0.8010485768318176,
          0.7926563620567322,
          0.7982046604156494,
          0.8090704083442688,
          0.8107064962387085,
          0.8134422898292542,
          0.8023914098739624,
          0.8173860311508179,
          0.8131368160247803,
          0.8056997656822205,
          0.8102394938468933,
          0.8058477640151978,
          0.804929256439209,
          0.8103998899459839,
          0.8033020496368408,
          0.8134844899177551,
          0.80257648229599,
          0.811916708946228,
          0.8120039701461792,
          0.8037898540496826,
          0.8057934045791626,
          0.8027950525283813,
          0.8087873458862305,
          0.8009459972381592,
          0.8013036847114563,
          0.8101562261581421,
          0.8044748902320862,
          0.8064959645271301,
          0.8058611154556274,
          0.8018465638160706,
          0.8092206120491028,
          0.8016712069511414,
          0.8063555955886841,
          0.810342013835907,
          0.803026556968689,
          0.8084107637405396,
          0.8034911751747131,
          0.8106145858764648,
          0.8056182861328125,
          0.8023163080215454,
          0.8037934303283691,
          0.8054758310317993,
          0.8060838580131531,
          0.8080366849899292,
          0.76706862449646,
          0.8062325119972229,
          0.8039581775665283,
          0.7655882239341736,
          0.7519280910491943,
          0.8046156764030457,
          0.8052037954330444,
          0.8107548952102661,
          0.8023633360862732,
          0.8024563193321228,
          0.7705562114715576,
          0.8025990128517151,
          0.8109143376350403,
          0.8192364573478699,
          0.8061322569847107,
          0.8048587441444397,
          0.8018000721931458,
          0.7856443524360657,
          0.761810839176178,
          0.8100410103797913,
          0.8032384514808655,
          0.8056736588478088,
          0.8039966821670532,
          0.8190359473228455,
          0.8077245950698853,
          0.8051707148551941,
          0.8011993169784546,
          0.8096237182617188,
          0.8092849254608154,
          0.8057016730308533,
          0.808456301689148,
          0.8021514415740967,
          0.8143064379692078,
          0.7691169381141663,
          0.8094276785850525,
          0.8099231719970703,
          0.8111315369606018,
          0.7779875993728638,
          0.7708349227905273,
          0.8026483058929443,
          0.7459486126899719,
          0.8101014494895935,
          0.8107993006706238,
          0.8056311011314392,
          0.8050457239151001,
          0.8059911727905273,
          0.8051401376724243,
          0.8106520771980286,
          0.8135173916816711,
          0.8036956787109375,
          0.8158473372459412,
          0.8082979321479797,
          0.804669201374054,
          0.8049124479293823,
          0.8086281418800354,
          0.8064742088317871,
          0.8146987557411194,
          0.8099036812782288,
          0.8073344826698303,
          0.811052680015564,
          0.8107866048812866,
          0.805855929851532,
          0.8106489777565002,
          0.8065793514251709,
          0.8050128221511841,
          0.8123149275779724,
          0.8036794662475586,
          0.808266818523407,
          0.8111668825149536,
          0.7457779049873352,
          0.7155449390411377,
          0.8065891861915588,
          0.7823246121406555,
          0.807050883769989,
          0.8064727783203125,
          0.8039247393608093,
          0.8069530725479126,
          0.7708712816238403,
          0.8237380981445312,
          0.7485768795013428,
          0.8048096299171448,
          0.7790353894233704,
          0.8109501600265503,
          0.8233626484870911,
          0.7095743417739868,
          0.8080229163169861,
          0.8076230883598328,
          0.8130399584770203,
          0.8117486834526062,
          0.8051116466522217,
          0.8017334938049316
         ],
         "yaxis": "y"
        }
       ],
       "layout": {
        "barmode": "group",
        "legend": {
         "title": {
          "text": "variable"
         },
         "tracegroupgap": 0
        },
        "template": {
         "data": {
          "bar": [
           {
            "error_x": {
             "color": "#2a3f5f"
            },
            "error_y": {
             "color": "#2a3f5f"
            },
            "marker": {
             "line": {
              "color": "#E5ECF6",
              "width": 0.5
             },
             "pattern": {
              "fillmode": "overlay",
              "size": 10,
              "solidity": 0.2
             }
            },
            "type": "bar"
           }
          ],
          "barpolar": [
           {
            "marker": {
             "line": {
              "color": "#E5ECF6",
              "width": 0.5
             },
             "pattern": {
              "fillmode": "overlay",
              "size": 10,
              "solidity": 0.2
             }
            },
            "type": "barpolar"
           }
          ],
          "carpet": [
           {
            "aaxis": {
             "endlinecolor": "#2a3f5f",
             "gridcolor": "white",
             "linecolor": "white",
             "minorgridcolor": "white",
             "startlinecolor": "#2a3f5f"
            },
            "baxis": {
             "endlinecolor": "#2a3f5f",
             "gridcolor": "white",
             "linecolor": "white",
             "minorgridcolor": "white",
             "startlinecolor": "#2a3f5f"
            },
            "type": "carpet"
           }
          ],
          "choropleth": [
           {
            "colorbar": {
             "outlinewidth": 0,
             "ticks": ""
            },
            "type": "choropleth"
           }
          ],
          "contour": [
           {
            "colorbar": {
             "outlinewidth": 0,
             "ticks": ""
            },
            "colorscale": [
             [
              0,
              "#0d0887"
             ],
             [
              0.1111111111111111,
              "#46039f"
             ],
             [
              0.2222222222222222,
              "#7201a8"
             ],
             [
              0.3333333333333333,
              "#9c179e"
             ],
             [
              0.4444444444444444,
              "#bd3786"
             ],
             [
              0.5555555555555556,
              "#d8576b"
             ],
             [
              0.6666666666666666,
              "#ed7953"
             ],
             [
              0.7777777777777778,
              "#fb9f3a"
             ],
             [
              0.8888888888888888,
              "#fdca26"
             ],
             [
              1,
              "#f0f921"
             ]
            ],
            "type": "contour"
           }
          ],
          "contourcarpet": [
           {
            "colorbar": {
             "outlinewidth": 0,
             "ticks": ""
            },
            "type": "contourcarpet"
           }
          ],
          "heatmap": [
           {
            "colorbar": {
             "outlinewidth": 0,
             "ticks": ""
            },
            "colorscale": [
             [
              0,
              "#0d0887"
             ],
             [
              0.1111111111111111,
              "#46039f"
             ],
             [
              0.2222222222222222,
              "#7201a8"
             ],
             [
              0.3333333333333333,
              "#9c179e"
             ],
             [
              0.4444444444444444,
              "#bd3786"
             ],
             [
              0.5555555555555556,
              "#d8576b"
             ],
             [
              0.6666666666666666,
              "#ed7953"
             ],
             [
              0.7777777777777778,
              "#fb9f3a"
             ],
             [
              0.8888888888888888,
              "#fdca26"
             ],
             [
              1,
              "#f0f921"
             ]
            ],
            "type": "heatmap"
           }
          ],
          "heatmapgl": [
           {
            "colorbar": {
             "outlinewidth": 0,
             "ticks": ""
            },
            "colorscale": [
             [
              0,
              "#0d0887"
             ],
             [
              0.1111111111111111,
              "#46039f"
             ],
             [
              0.2222222222222222,
              "#7201a8"
             ],
             [
              0.3333333333333333,
              "#9c179e"
             ],
             [
              0.4444444444444444,
              "#bd3786"
             ],
             [
              0.5555555555555556,
              "#d8576b"
             ],
             [
              0.6666666666666666,
              "#ed7953"
             ],
             [
              0.7777777777777778,
              "#fb9f3a"
             ],
             [
              0.8888888888888888,
              "#fdca26"
             ],
             [
              1,
              "#f0f921"
             ]
            ],
            "type": "heatmapgl"
           }
          ],
          "histogram": [
           {
            "marker": {
             "pattern": {
              "fillmode": "overlay",
              "size": 10,
              "solidity": 0.2
             }
            },
            "type": "histogram"
           }
          ],
          "histogram2d": [
           {
            "colorbar": {
             "outlinewidth": 0,
             "ticks": ""
            },
            "colorscale": [
             [
              0,
              "#0d0887"
             ],
             [
              0.1111111111111111,
              "#46039f"
             ],
             [
              0.2222222222222222,
              "#7201a8"
             ],
             [
              0.3333333333333333,
              "#9c179e"
             ],
             [
              0.4444444444444444,
              "#bd3786"
             ],
             [
              0.5555555555555556,
              "#d8576b"
             ],
             [
              0.6666666666666666,
              "#ed7953"
             ],
             [
              0.7777777777777778,
              "#fb9f3a"
             ],
             [
              0.8888888888888888,
              "#fdca26"
             ],
             [
              1,
              "#f0f921"
             ]
            ],
            "type": "histogram2d"
           }
          ],
          "histogram2dcontour": [
           {
            "colorbar": {
             "outlinewidth": 0,
             "ticks": ""
            },
            "colorscale": [
             [
              0,
              "#0d0887"
             ],
             [
              0.1111111111111111,
              "#46039f"
             ],
             [
              0.2222222222222222,
              "#7201a8"
             ],
             [
              0.3333333333333333,
              "#9c179e"
             ],
             [
              0.4444444444444444,
              "#bd3786"
             ],
             [
              0.5555555555555556,
              "#d8576b"
             ],
             [
              0.6666666666666666,
              "#ed7953"
             ],
             [
              0.7777777777777778,
              "#fb9f3a"
             ],
             [
              0.8888888888888888,
              "#fdca26"
             ],
             [
              1,
              "#f0f921"
             ]
            ],
            "type": "histogram2dcontour"
           }
          ],
          "mesh3d": [
           {
            "colorbar": {
             "outlinewidth": 0,
             "ticks": ""
            },
            "type": "mesh3d"
           }
          ],
          "parcoords": [
           {
            "line": {
             "colorbar": {
              "outlinewidth": 0,
              "ticks": ""
             }
            },
            "type": "parcoords"
           }
          ],
          "pie": [
           {
            "automargin": true,
            "type": "pie"
           }
          ],
          "scatter": [
           {
            "fillpattern": {
             "fillmode": "overlay",
             "size": 10,
             "solidity": 0.2
            },
            "type": "scatter"
           }
          ],
          "scatter3d": [
           {
            "line": {
             "colorbar": {
              "outlinewidth": 0,
              "ticks": ""
             }
            },
            "marker": {
             "colorbar": {
              "outlinewidth": 0,
              "ticks": ""
             }
            },
            "type": "scatter3d"
           }
          ],
          "scattercarpet": [
           {
            "marker": {
             "colorbar": {
              "outlinewidth": 0,
              "ticks": ""
             }
            },
            "type": "scattercarpet"
           }
          ],
          "scattergeo": [
           {
            "marker": {
             "colorbar": {
              "outlinewidth": 0,
              "ticks": ""
             }
            },
            "type": "scattergeo"
           }
          ],
          "scattergl": [
           {
            "marker": {
             "colorbar": {
              "outlinewidth": 0,
              "ticks": ""
             }
            },
            "type": "scattergl"
           }
          ],
          "scattermapbox": [
           {
            "marker": {
             "colorbar": {
              "outlinewidth": 0,
              "ticks": ""
             }
            },
            "type": "scattermapbox"
           }
          ],
          "scatterpolar": [
           {
            "marker": {
             "colorbar": {
              "outlinewidth": 0,
              "ticks": ""
             }
            },
            "type": "scatterpolar"
           }
          ],
          "scatterpolargl": [
           {
            "marker": {
             "colorbar": {
              "outlinewidth": 0,
              "ticks": ""
             }
            },
            "type": "scatterpolargl"
           }
          ],
          "scatterternary": [
           {
            "marker": {
             "colorbar": {
              "outlinewidth": 0,
              "ticks": ""
             }
            },
            "type": "scatterternary"
           }
          ],
          "surface": [
           {
            "colorbar": {
             "outlinewidth": 0,
             "ticks": ""
            },
            "colorscale": [
             [
              0,
              "#0d0887"
             ],
             [
              0.1111111111111111,
              "#46039f"
             ],
             [
              0.2222222222222222,
              "#7201a8"
             ],
             [
              0.3333333333333333,
              "#9c179e"
             ],
             [
              0.4444444444444444,
              "#bd3786"
             ],
             [
              0.5555555555555556,
              "#d8576b"
             ],
             [
              0.6666666666666666,
              "#ed7953"
             ],
             [
              0.7777777777777778,
              "#fb9f3a"
             ],
             [
              0.8888888888888888,
              "#fdca26"
             ],
             [
              1,
              "#f0f921"
             ]
            ],
            "type": "surface"
           }
          ],
          "table": [
           {
            "cells": {
             "fill": {
              "color": "#EBF0F8"
             },
             "line": {
              "color": "white"
             }
            },
            "header": {
             "fill": {
              "color": "#C8D4E3"
             },
             "line": {
              "color": "white"
             }
            },
            "type": "table"
           }
          ]
         },
         "layout": {
          "annotationdefaults": {
           "arrowcolor": "#2a3f5f",
           "arrowhead": 0,
           "arrowwidth": 1
          },
          "autotypenumbers": "strict",
          "coloraxis": {
           "colorbar": {
            "outlinewidth": 0,
            "ticks": ""
           }
          },
          "colorscale": {
           "diverging": [
            [
             0,
             "#8e0152"
            ],
            [
             0.1,
             "#c51b7d"
            ],
            [
             0.2,
             "#de77ae"
            ],
            [
             0.3,
             "#f1b6da"
            ],
            [
             0.4,
             "#fde0ef"
            ],
            [
             0.5,
             "#f7f7f7"
            ],
            [
             0.6,
             "#e6f5d0"
            ],
            [
             0.7,
             "#b8e186"
            ],
            [
             0.8,
             "#7fbc41"
            ],
            [
             0.9,
             "#4d9221"
            ],
            [
             1,
             "#276419"
            ]
           ],
           "sequential": [
            [
             0,
             "#0d0887"
            ],
            [
             0.1111111111111111,
             "#46039f"
            ],
            [
             0.2222222222222222,
             "#7201a8"
            ],
            [
             0.3333333333333333,
             "#9c179e"
            ],
            [
             0.4444444444444444,
             "#bd3786"
            ],
            [
             0.5555555555555556,
             "#d8576b"
            ],
            [
             0.6666666666666666,
             "#ed7953"
            ],
            [
             0.7777777777777778,
             "#fb9f3a"
            ],
            [
             0.8888888888888888,
             "#fdca26"
            ],
            [
             1,
             "#f0f921"
            ]
           ],
           "sequentialminus": [
            [
             0,
             "#0d0887"
            ],
            [
             0.1111111111111111,
             "#46039f"
            ],
            [
             0.2222222222222222,
             "#7201a8"
            ],
            [
             0.3333333333333333,
             "#9c179e"
            ],
            [
             0.4444444444444444,
             "#bd3786"
            ],
            [
             0.5555555555555556,
             "#d8576b"
            ],
            [
             0.6666666666666666,
             "#ed7953"
            ],
            [
             0.7777777777777778,
             "#fb9f3a"
            ],
            [
             0.8888888888888888,
             "#fdca26"
            ],
            [
             1,
             "#f0f921"
            ]
           ]
          },
          "colorway": [
           "#636efa",
           "#EF553B",
           "#00cc96",
           "#ab63fa",
           "#FFA15A",
           "#19d3f3",
           "#FF6692",
           "#B6E880",
           "#FF97FF",
           "#FECB52"
          ],
          "font": {
           "color": "#2a3f5f"
          },
          "geo": {
           "bgcolor": "white",
           "lakecolor": "white",
           "landcolor": "#E5ECF6",
           "showlakes": true,
           "showland": true,
           "subunitcolor": "white"
          },
          "hoverlabel": {
           "align": "left"
          },
          "hovermode": "closest",
          "mapbox": {
           "style": "light"
          },
          "paper_bgcolor": "white",
          "plot_bgcolor": "#E5ECF6",
          "polar": {
           "angularaxis": {
            "gridcolor": "white",
            "linecolor": "white",
            "ticks": ""
           },
           "bgcolor": "#E5ECF6",
           "radialaxis": {
            "gridcolor": "white",
            "linecolor": "white",
            "ticks": ""
           }
          },
          "scene": {
           "xaxis": {
            "backgroundcolor": "#E5ECF6",
            "gridcolor": "white",
            "gridwidth": 2,
            "linecolor": "white",
            "showbackground": true,
            "ticks": "",
            "zerolinecolor": "white"
           },
           "yaxis": {
            "backgroundcolor": "#E5ECF6",
            "gridcolor": "white",
            "gridwidth": 2,
            "linecolor": "white",
            "showbackground": true,
            "ticks": "",
            "zerolinecolor": "white"
           },
           "zaxis": {
            "backgroundcolor": "#E5ECF6",
            "gridcolor": "white",
            "gridwidth": 2,
            "linecolor": "white",
            "showbackground": true,
            "ticks": "",
            "zerolinecolor": "white"
           }
          },
          "shapedefaults": {
           "line": {
            "color": "#2a3f5f"
           }
          },
          "ternary": {
           "aaxis": {
            "gridcolor": "white",
            "linecolor": "white",
            "ticks": ""
           },
           "baxis": {
            "gridcolor": "white",
            "linecolor": "white",
            "ticks": ""
           },
           "bgcolor": "#E5ECF6",
           "caxis": {
            "gridcolor": "white",
            "linecolor": "white",
            "ticks": ""
           }
          },
          "title": {
           "x": 0.05
          },
          "xaxis": {
           "automargin": true,
           "gridcolor": "white",
           "linecolor": "white",
           "ticks": "",
           "title": {
            "standoff": 15
           },
           "zerolinecolor": "white",
           "zerolinewidth": 2
          },
          "yaxis": {
           "automargin": true,
           "gridcolor": "white",
           "linecolor": "white",
           "ticks": "",
           "title": {
            "standoff": 15
           },
           "zerolinecolor": "white",
           "zerolinewidth": 2
          }
         }
        },
        "title": {
         "text": "Uncertainty comparison between kmeans and random"
        },
        "xaxis": {
         "anchor": "y",
         "domain": [
          0,
          1
         ],
         "title": {
          "text": "rule"
         }
        },
        "yaxis": {
         "anchor": "x",
         "domain": [
          0,
          1
         ],
         "title": {
          "text": "value"
         }
        }
       }
      }
     },
     "metadata": {},
     "output_type": "display_data"
    }
   ],
   "source": [
    "pairs = get_pairs(rules)\n",
    "\n",
    "dfs = {}\n",
    "\n",
    "for r1, r2 in pairs:\n",
    "    r1_info = pickle.load(open(os.path.join(RULE_FOLDER, r1), \"rb\"))\n",
    "    r2_info = pickle.load(open(os.path.join(RULE_FOLDER, r2), \"rb\"))\n",
    "    \n",
    "    r1_df = pd.DataFrame(extract_res(r1_info))\n",
    "    r2_df = pd.DataFrame(extract_res(r2_info))\n",
    "    \n",
    "    \n",
    "    merged = pd.merge(r1_df, r2_df, on=\"rule\", suffixes=('_kmeans', '_random'))\n",
    "    merged.to_csv(f\"rules_{r1}_{r2}.csv\", index=False)\n",
    "\n",
    "    print(f\"Num rules {len(merged)}\")\n",
    "    fig = px.bar(merged, x='rule', y=['uncertainty_kmeans', 'uncertainty_random'], \n",
    "        title='Uncertainty comparison between kmeans and random', # put bars next to each other\n",
    "        barmode='group')\n",
    "    fig.write_html(f\"{r1}_{r2}.html\")\n",
    "    dfs[r1] = merged \n",
    "    fig.show()"
   ]
  },
  {
   "cell_type": "code",
   "execution_count": 55,
   "metadata": {},
   "outputs": [
    {
     "name": "stdout",
     "output_type": "stream",
     "text": [
      "['dataset=Brain Tumor, breaks=3, add_mult_rules=False, maf_method=kmeans.dsb', 'dataset=Brain Tumor, breaks=3, add_mult_rules=True, maf_method=kmeans.dsb']\n"
     ]
    }
   ],
   "source": [
    "ks = list(dfs.keys())\n",
    "print(ks)\n",
    "a = dfs[ks[1]]\n",
    "\n",
    "\n",
    "a[\"Uncertainty ratio\"]  = a[\"uncertainty_random\"] / a[\"uncertainty_kmeans\"]\n",
    "\n",
    "# remove inf\n",
    "res = a[\"Uncertainty ratio\"] \n",
    "res.replace([np.inf, -np.inf, \"\"], np.nan, inplace=True)\n",
    "\n",
    "res = a[\"Uncertainty ratio\"].dropna()\n",
    "\n",
    "res.describe().round(3).to_clipboard()"
   ]
  },
  {
   "cell_type": "code",
   "execution_count": 47,
   "metadata": {},
   "outputs": [
    {
     "data": {
      "text/plain": [
       "0      1.950997\n",
       "1      2.039998\n",
       "2      2.296427\n",
       "3      5.962318\n",
       "4      2.055425\n",
       "5      2.271974\n",
       "6      2.257644\n",
       "7      2.475599\n",
       "8      2.068167\n",
       "9      2.035401\n",
       "10     2.328404\n",
       "11     2.335880\n",
       "12          inf\n",
       "13     2.287148\n",
       "14     1.489149\n",
       "15     1.555324\n",
       "16     1.407726\n",
       "17     2.373192\n",
       "18     2.151206\n",
       "19     1.607796\n",
       "20     0.800000\n",
       "21     2.002392\n",
       "22     2.090169\n",
       "23     1.189022\n",
       "24     2.078127\n",
       "25     2.271453\n",
       "26    11.785043\n",
       "27     2.108319\n",
       "28          inf\n",
       "29    81.841992\n",
       "30     1.546927\n",
       "31     1.712679\n",
       "32          inf\n",
       "33     2.370462\n",
       "34     1.966143\n",
       "35     1.921688\n",
       "36          inf\n",
       "37     1.557658\n",
       "38     1.915628\n",
       "39     1.645202\n",
       "40     2.094582\n",
       "41     2.243877\n",
       "42     2.615344\n",
       "43     1.885207\n",
       "44     2.361644\n",
       "45     2.370196\n",
       "46     1.955638\n",
       "47     2.339852\n",
       "48     5.545559\n",
       "Name: Uncertainty ratio, dtype: float64"
      ]
     },
     "execution_count": 47,
     "metadata": {},
     "output_type": "execute_result"
    }
   ],
   "source": [
    "a[\"Uncertainty ratio\"].dropna()"
   ]
  },
  {
   "cell_type": "code",
   "execution_count": 31,
   "metadata": {},
   "outputs": [
    {
     "name": "stdout",
     "output_type": "stream",
     "text": [
      "Num rules 205\n"
     ]
    }
   ],
   "source": [
    "\n",
    "print(f\"Num rules {len(merged)}\")"
   ]
  },
  {
   "cell_type": "code",
   "execution_count": 71,
   "metadata": {},
   "outputs": [
    {
     "data": {
      "application/vnd.plotly.v1+json": {
       "config": {
        "plotlyServerURL": "https://plot.ly"
       },
       "data": [
        {
         "alignmentgroup": "True",
         "hovertemplate": "variable=uncertainty_kmeans<br>rule=%{x}<br>value=%{y}<extra></extra>",
         "legendgroup": "uncertainty_kmeans",
         "marker": {
          "color": "#636efa",
          "pattern": {
           "shape": ""
          }
         },
         "name": "uncertainty_kmeans",
         "offsetgroup": "uncertainty_kmeans",
         "orientation": "v",
         "showlegend": true,
         "textposition": "auto",
         "type": "bar",
         "x": [
          "Mean < 5.742",
          "5.742 < Mean < 9.608",
          "9.608 < Mean < 13.473",
          "Mean > 13.473",
          "Variance < 404.360",
          "404.360 < Variance < 715.446",
          "715.446 < Variance < 1026.532",
          "Variance > 1026.532",
          "Standard Deviation < 19.429",
          "19.429 < Standard Deviation < 25.295",
          "25.295 < Standard Deviation < 31.160",
          "Standard Deviation > 31.160",
          "Entropy < 0.026",
          "0.026 < Entropy < 0.073",
          "0.073 < Entropy < 0.120",
          "Entropy > 0.120",
          "Skewness < 2.351",
          "2.351 < Skewness < 4.068",
          "4.068 < Skewness < 5.784",
          "Skewness > 5.784",
          "Kurtosis < -14.806",
          "-14.806 < Kurtosis < 24.023",
          "24.023 < Kurtosis < 62.852",
          "Kurtosis > 62.852",
          "Contrast < 53.367",
          "53.367 < Contrast < 127.456",
          "127.456 < Contrast < 201.545",
          "Contrast > 201.545",
          "Energy < 0.117",
          "0.117 < Energy < 0.204",
          "0.204 < Energy < 0.290",
          "Energy > 0.290",
          "ASM < 0.019",
          "0.019 < ASM < 0.058",
          "0.058 < ASM < 0.097",
          "ASM > 0.097",
          "Homogeneity < 0.394",
          "0.394 < Homogeneity < 0.480",
          "0.480 < Homogeneity < 0.566",
          "Homogeneity > 0.566",
          "Dissimilarity < 3.439",
          "3.439 < Dissimilarity < 4.685",
          "4.685 < Dissimilarity < 5.932",
          "Dissimilarity > 5.932",
          "Correlation < 0.939",
          "0.939 < Correlation < 0.956",
          "0.956 < Correlation < 0.974",
          "Correlation > 0.974",
          "Coarseness = 7.46e-155"
         ],
         "xaxis": "x",
         "y": [
          0.3638245165348053,
          0.34522944688796997,
          0.32669562101364136,
          0.2797314524650574,
          0.3639086186885834,
          0.3539421856403351,
          0.36934101581573486,
          0.26130780577659607,
          0.36167657375335693,
          0.3460475504398346,
          0.3677767515182495,
          0.2600453197956085,
          0.3332318067550659,
          0.23810866475105286,
          0.1461596041917801,
          0.09179238975048065,
          0.12417963892221451,
          0.32519784569740295,
          0.3471229672431946,
          0.3607805669307709,
          1,
          0.3158538043498993,
          0.3558201789855957,
          0.3410537540912628,
          0.37143364548683167,
          0.355337917804718,
          0.10977672785520554,
          0.35635751485824585,
          0.33422741293907166,
          0.34733617305755615,
          0.05438433215022087,
          0.07056523859500885,
          0.3332318067550659,
          0.2400248646736145,
          0.14724284410476685,
          0.09188301861286163,
          0.3424234688282013,
          0.1017780750989914,
          0.26033592224121094,
          0.10329174250364304,
          0.394893616437912,
          0.35230186581611633,
          0.3145311176776886,
          0.3407725691795349,
          0.358727365732193,
          0.33264097571372986,
          0.34253647923469543,
          0.33338308334350586,
          0.13859030604362488
         ],
         "yaxis": "y"
        },
        {
         "alignmentgroup": "True",
         "hovertemplate": "variable=uncertainty_random<br>rule=%{x}<br>value=%{y}<extra></extra>",
         "legendgroup": "uncertainty_random",
         "marker": {
          "color": "#EF553B",
          "pattern": {
           "shape": ""
          }
         },
         "name": "uncertainty_random",
         "offsetgroup": "uncertainty_random",
         "orientation": "v",
         "showlegend": true,
         "textposition": "auto",
         "type": "bar",
         "x": [
          "Mean < 5.742",
          "5.742 < Mean < 9.608",
          "9.608 < Mean < 13.473",
          "Mean > 13.473",
          "Variance < 404.360",
          "404.360 < Variance < 715.446",
          "715.446 < Variance < 1026.532",
          "Variance > 1026.532",
          "Standard Deviation < 19.429",
          "19.429 < Standard Deviation < 25.295",
          "25.295 < Standard Deviation < 31.160",
          "Standard Deviation > 31.160",
          "Entropy < 0.026",
          "0.026 < Entropy < 0.073",
          "0.073 < Entropy < 0.120",
          "Entropy > 0.120",
          "Skewness < 2.351",
          "2.351 < Skewness < 4.068",
          "4.068 < Skewness < 5.784",
          "Skewness > 5.784",
          "Kurtosis < -14.806",
          "-14.806 < Kurtosis < 24.023",
          "24.023 < Kurtosis < 62.852",
          "Kurtosis > 62.852",
          "Contrast < 53.367",
          "53.367 < Contrast < 127.456",
          "127.456 < Contrast < 201.545",
          "Contrast > 201.545",
          "Energy < 0.117",
          "0.117 < Energy < 0.204",
          "0.204 < Energy < 0.290",
          "Energy > 0.290",
          "ASM < 0.019",
          "0.019 < ASM < 0.058",
          "0.058 < ASM < 0.097",
          "ASM > 0.097",
          "Homogeneity < 0.394",
          "0.394 < Homogeneity < 0.480",
          "0.480 < Homogeneity < 0.566",
          "Homogeneity > 0.566",
          "Dissimilarity < 3.439",
          "3.439 < Dissimilarity < 4.685",
          "4.685 < Dissimilarity < 5.932",
          "Dissimilarity > 5.932",
          "Correlation < 0.939",
          "0.939 < Correlation < 0.956",
          "0.956 < Correlation < 0.974",
          "Correlation > 0.974",
          "Coarseness = 7.46e-155"
         ],
         "xaxis": "x",
         "y": [
          0.7825606465339661,
          0.8068097233772278,
          0.8055654168128967,
          0.6296613812446594,
          0.7350934743881226,
          0.8118234276771545,
          0.8232328295707703,
          0.6014939546585083,
          0.7532809376716614,
          0.8203833699226379,
          0.8133733868598938,
          0.7320668697357178,
          0.542273759841919,
          0.7939141392707825,
          0.5696961283683777,
          0.5903870463371277,
          0.4687789976596832,
          0.8260321617126465,
          0.8111227750778198,
          0.7194591164588928,
          0.800000011920929,
          0.6747491359710693,
          0.7318594455718994,
          0.6177775263786316,
          0.7344076633453369,
          0.8134694695472717,
          0.7657608389854431,
          0.826356053352356,
          0.615536630153656,
          0.4569513201713562,
          0.5697113871574402,
          0.6537286639213562,
          0.6503544449806213,
          0.8193784356117249,
          0.6772457361221313,
          0.5067388415336609,
          0.5631459355354309,
          0.5114434361457825,
          0.7005720138549805,
          0.6062989234924316,
          0.7662860751152039,
          0.8007113933563232,
          0.8108881115913391,
          0.6890829205513,
          0.8207050561904907,
          0.8168548345565796,
          0.7386121153831482,
          0.8191681504249573,
          0.800000011920929
         ],
         "yaxis": "y"
        }
       ],
       "layout": {
        "barmode": "group",
        "legend": {
         "title": {
          "text": "variable"
         },
         "tracegroupgap": 0
        },
        "template": {
         "data": {
          "bar": [
           {
            "error_x": {
             "color": "#2a3f5f"
            },
            "error_y": {
             "color": "#2a3f5f"
            },
            "marker": {
             "line": {
              "color": "#E5ECF6",
              "width": 0.5
             },
             "pattern": {
              "fillmode": "overlay",
              "size": 10,
              "solidity": 0.2
             }
            },
            "type": "bar"
           }
          ],
          "barpolar": [
           {
            "marker": {
             "line": {
              "color": "#E5ECF6",
              "width": 0.5
             },
             "pattern": {
              "fillmode": "overlay",
              "size": 10,
              "solidity": 0.2
             }
            },
            "type": "barpolar"
           }
          ],
          "carpet": [
           {
            "aaxis": {
             "endlinecolor": "#2a3f5f",
             "gridcolor": "white",
             "linecolor": "white",
             "minorgridcolor": "white",
             "startlinecolor": "#2a3f5f"
            },
            "baxis": {
             "endlinecolor": "#2a3f5f",
             "gridcolor": "white",
             "linecolor": "white",
             "minorgridcolor": "white",
             "startlinecolor": "#2a3f5f"
            },
            "type": "carpet"
           }
          ],
          "choropleth": [
           {
            "colorbar": {
             "outlinewidth": 0,
             "ticks": ""
            },
            "type": "choropleth"
           }
          ],
          "contour": [
           {
            "colorbar": {
             "outlinewidth": 0,
             "ticks": ""
            },
            "colorscale": [
             [
              0,
              "#0d0887"
             ],
             [
              0.1111111111111111,
              "#46039f"
             ],
             [
              0.2222222222222222,
              "#7201a8"
             ],
             [
              0.3333333333333333,
              "#9c179e"
             ],
             [
              0.4444444444444444,
              "#bd3786"
             ],
             [
              0.5555555555555556,
              "#d8576b"
             ],
             [
              0.6666666666666666,
              "#ed7953"
             ],
             [
              0.7777777777777778,
              "#fb9f3a"
             ],
             [
              0.8888888888888888,
              "#fdca26"
             ],
             [
              1,
              "#f0f921"
             ]
            ],
            "type": "contour"
           }
          ],
          "contourcarpet": [
           {
            "colorbar": {
             "outlinewidth": 0,
             "ticks": ""
            },
            "type": "contourcarpet"
           }
          ],
          "heatmap": [
           {
            "colorbar": {
             "outlinewidth": 0,
             "ticks": ""
            },
            "colorscale": [
             [
              0,
              "#0d0887"
             ],
             [
              0.1111111111111111,
              "#46039f"
             ],
             [
              0.2222222222222222,
              "#7201a8"
             ],
             [
              0.3333333333333333,
              "#9c179e"
             ],
             [
              0.4444444444444444,
              "#bd3786"
             ],
             [
              0.5555555555555556,
              "#d8576b"
             ],
             [
              0.6666666666666666,
              "#ed7953"
             ],
             [
              0.7777777777777778,
              "#fb9f3a"
             ],
             [
              0.8888888888888888,
              "#fdca26"
             ],
             [
              1,
              "#f0f921"
             ]
            ],
            "type": "heatmap"
           }
          ],
          "heatmapgl": [
           {
            "colorbar": {
             "outlinewidth": 0,
             "ticks": ""
            },
            "colorscale": [
             [
              0,
              "#0d0887"
             ],
             [
              0.1111111111111111,
              "#46039f"
             ],
             [
              0.2222222222222222,
              "#7201a8"
             ],
             [
              0.3333333333333333,
              "#9c179e"
             ],
             [
              0.4444444444444444,
              "#bd3786"
             ],
             [
              0.5555555555555556,
              "#d8576b"
             ],
             [
              0.6666666666666666,
              "#ed7953"
             ],
             [
              0.7777777777777778,
              "#fb9f3a"
             ],
             [
              0.8888888888888888,
              "#fdca26"
             ],
             [
              1,
              "#f0f921"
             ]
            ],
            "type": "heatmapgl"
           }
          ],
          "histogram": [
           {
            "marker": {
             "pattern": {
              "fillmode": "overlay",
              "size": 10,
              "solidity": 0.2
             }
            },
            "type": "histogram"
           }
          ],
          "histogram2d": [
           {
            "colorbar": {
             "outlinewidth": 0,
             "ticks": ""
            },
            "colorscale": [
             [
              0,
              "#0d0887"
             ],
             [
              0.1111111111111111,
              "#46039f"
             ],
             [
              0.2222222222222222,
              "#7201a8"
             ],
             [
              0.3333333333333333,
              "#9c179e"
             ],
             [
              0.4444444444444444,
              "#bd3786"
             ],
             [
              0.5555555555555556,
              "#d8576b"
             ],
             [
              0.6666666666666666,
              "#ed7953"
             ],
             [
              0.7777777777777778,
              "#fb9f3a"
             ],
             [
              0.8888888888888888,
              "#fdca26"
             ],
             [
              1,
              "#f0f921"
             ]
            ],
            "type": "histogram2d"
           }
          ],
          "histogram2dcontour": [
           {
            "colorbar": {
             "outlinewidth": 0,
             "ticks": ""
            },
            "colorscale": [
             [
              0,
              "#0d0887"
             ],
             [
              0.1111111111111111,
              "#46039f"
             ],
             [
              0.2222222222222222,
              "#7201a8"
             ],
             [
              0.3333333333333333,
              "#9c179e"
             ],
             [
              0.4444444444444444,
              "#bd3786"
             ],
             [
              0.5555555555555556,
              "#d8576b"
             ],
             [
              0.6666666666666666,
              "#ed7953"
             ],
             [
              0.7777777777777778,
              "#fb9f3a"
             ],
             [
              0.8888888888888888,
              "#fdca26"
             ],
             [
              1,
              "#f0f921"
             ]
            ],
            "type": "histogram2dcontour"
           }
          ],
          "mesh3d": [
           {
            "colorbar": {
             "outlinewidth": 0,
             "ticks": ""
            },
            "type": "mesh3d"
           }
          ],
          "parcoords": [
           {
            "line": {
             "colorbar": {
              "outlinewidth": 0,
              "ticks": ""
             }
            },
            "type": "parcoords"
           }
          ],
          "pie": [
           {
            "automargin": true,
            "type": "pie"
           }
          ],
          "scatter": [
           {
            "fillpattern": {
             "fillmode": "overlay",
             "size": 10,
             "solidity": 0.2
            },
            "type": "scatter"
           }
          ],
          "scatter3d": [
           {
            "line": {
             "colorbar": {
              "outlinewidth": 0,
              "ticks": ""
             }
            },
            "marker": {
             "colorbar": {
              "outlinewidth": 0,
              "ticks": ""
             }
            },
            "type": "scatter3d"
           }
          ],
          "scattercarpet": [
           {
            "marker": {
             "colorbar": {
              "outlinewidth": 0,
              "ticks": ""
             }
            },
            "type": "scattercarpet"
           }
          ],
          "scattergeo": [
           {
            "marker": {
             "colorbar": {
              "outlinewidth": 0,
              "ticks": ""
             }
            },
            "type": "scattergeo"
           }
          ],
          "scattergl": [
           {
            "marker": {
             "colorbar": {
              "outlinewidth": 0,
              "ticks": ""
             }
            },
            "type": "scattergl"
           }
          ],
          "scattermapbox": [
           {
            "marker": {
             "colorbar": {
              "outlinewidth": 0,
              "ticks": ""
             }
            },
            "type": "scattermapbox"
           }
          ],
          "scatterpolar": [
           {
            "marker": {
             "colorbar": {
              "outlinewidth": 0,
              "ticks": ""
             }
            },
            "type": "scatterpolar"
           }
          ],
          "scatterpolargl": [
           {
            "marker": {
             "colorbar": {
              "outlinewidth": 0,
              "ticks": ""
             }
            },
            "type": "scatterpolargl"
           }
          ],
          "scatterternary": [
           {
            "marker": {
             "colorbar": {
              "outlinewidth": 0,
              "ticks": ""
             }
            },
            "type": "scatterternary"
           }
          ],
          "surface": [
           {
            "colorbar": {
             "outlinewidth": 0,
             "ticks": ""
            },
            "colorscale": [
             [
              0,
              "#0d0887"
             ],
             [
              0.1111111111111111,
              "#46039f"
             ],
             [
              0.2222222222222222,
              "#7201a8"
             ],
             [
              0.3333333333333333,
              "#9c179e"
             ],
             [
              0.4444444444444444,
              "#bd3786"
             ],
             [
              0.5555555555555556,
              "#d8576b"
             ],
             [
              0.6666666666666666,
              "#ed7953"
             ],
             [
              0.7777777777777778,
              "#fb9f3a"
             ],
             [
              0.8888888888888888,
              "#fdca26"
             ],
             [
              1,
              "#f0f921"
             ]
            ],
            "type": "surface"
           }
          ],
          "table": [
           {
            "cells": {
             "fill": {
              "color": "#EBF0F8"
             },
             "line": {
              "color": "white"
             }
            },
            "header": {
             "fill": {
              "color": "#C8D4E3"
             },
             "line": {
              "color": "white"
             }
            },
            "type": "table"
           }
          ]
         },
         "layout": {
          "annotationdefaults": {
           "arrowcolor": "#2a3f5f",
           "arrowhead": 0,
           "arrowwidth": 1
          },
          "autotypenumbers": "strict",
          "coloraxis": {
           "colorbar": {
            "outlinewidth": 0,
            "ticks": ""
           }
          },
          "colorscale": {
           "diverging": [
            [
             0,
             "#8e0152"
            ],
            [
             0.1,
             "#c51b7d"
            ],
            [
             0.2,
             "#de77ae"
            ],
            [
             0.3,
             "#f1b6da"
            ],
            [
             0.4,
             "#fde0ef"
            ],
            [
             0.5,
             "#f7f7f7"
            ],
            [
             0.6,
             "#e6f5d0"
            ],
            [
             0.7,
             "#b8e186"
            ],
            [
             0.8,
             "#7fbc41"
            ],
            [
             0.9,
             "#4d9221"
            ],
            [
             1,
             "#276419"
            ]
           ],
           "sequential": [
            [
             0,
             "#0d0887"
            ],
            [
             0.1111111111111111,
             "#46039f"
            ],
            [
             0.2222222222222222,
             "#7201a8"
            ],
            [
             0.3333333333333333,
             "#9c179e"
            ],
            [
             0.4444444444444444,
             "#bd3786"
            ],
            [
             0.5555555555555556,
             "#d8576b"
            ],
            [
             0.6666666666666666,
             "#ed7953"
            ],
            [
             0.7777777777777778,
             "#fb9f3a"
            ],
            [
             0.8888888888888888,
             "#fdca26"
            ],
            [
             1,
             "#f0f921"
            ]
           ],
           "sequentialminus": [
            [
             0,
             "#0d0887"
            ],
            [
             0.1111111111111111,
             "#46039f"
            ],
            [
             0.2222222222222222,
             "#7201a8"
            ],
            [
             0.3333333333333333,
             "#9c179e"
            ],
            [
             0.4444444444444444,
             "#bd3786"
            ],
            [
             0.5555555555555556,
             "#d8576b"
            ],
            [
             0.6666666666666666,
             "#ed7953"
            ],
            [
             0.7777777777777778,
             "#fb9f3a"
            ],
            [
             0.8888888888888888,
             "#fdca26"
            ],
            [
             1,
             "#f0f921"
            ]
           ]
          },
          "colorway": [
           "#636efa",
           "#EF553B",
           "#00cc96",
           "#ab63fa",
           "#FFA15A",
           "#19d3f3",
           "#FF6692",
           "#B6E880",
           "#FF97FF",
           "#FECB52"
          ],
          "font": {
           "color": "#2a3f5f"
          },
          "geo": {
           "bgcolor": "white",
           "lakecolor": "white",
           "landcolor": "#E5ECF6",
           "showlakes": true,
           "showland": true,
           "subunitcolor": "white"
          },
          "hoverlabel": {
           "align": "left"
          },
          "hovermode": "closest",
          "mapbox": {
           "style": "light"
          },
          "paper_bgcolor": "white",
          "plot_bgcolor": "#E5ECF6",
          "polar": {
           "angularaxis": {
            "gridcolor": "white",
            "linecolor": "white",
            "ticks": ""
           },
           "bgcolor": "#E5ECF6",
           "radialaxis": {
            "gridcolor": "white",
            "linecolor": "white",
            "ticks": ""
           }
          },
          "scene": {
           "xaxis": {
            "backgroundcolor": "#E5ECF6",
            "gridcolor": "white",
            "gridwidth": 2,
            "linecolor": "white",
            "showbackground": true,
            "ticks": "",
            "zerolinecolor": "white"
           },
           "yaxis": {
            "backgroundcolor": "#E5ECF6",
            "gridcolor": "white",
            "gridwidth": 2,
            "linecolor": "white",
            "showbackground": true,
            "ticks": "",
            "zerolinecolor": "white"
           },
           "zaxis": {
            "backgroundcolor": "#E5ECF6",
            "gridcolor": "white",
            "gridwidth": 2,
            "linecolor": "white",
            "showbackground": true,
            "ticks": "",
            "zerolinecolor": "white"
           }
          },
          "shapedefaults": {
           "line": {
            "color": "#2a3f5f"
           }
          },
          "ternary": {
           "aaxis": {
            "gridcolor": "white",
            "linecolor": "white",
            "ticks": ""
           },
           "baxis": {
            "gridcolor": "white",
            "linecolor": "white",
            "ticks": ""
           },
           "bgcolor": "#E5ECF6",
           "caxis": {
            "gridcolor": "white",
            "linecolor": "white",
            "ticks": ""
           }
          },
          "title": {
           "x": 0.05
          },
          "xaxis": {
           "automargin": true,
           "gridcolor": "white",
           "linecolor": "white",
           "ticks": "",
           "title": {
            "standoff": 15
           },
           "zerolinecolor": "white",
           "zerolinewidth": 2
          },
          "yaxis": {
           "automargin": true,
           "gridcolor": "white",
           "linecolor": "white",
           "ticks": "",
           "title": {
            "standoff": 15
           },
           "zerolinecolor": "white",
           "zerolinewidth": 2
          }
         }
        },
        "title": {
         "text": "Uncertainty comparison between kmeans and random"
        },
        "xaxis": {
         "anchor": "y",
         "domain": [
          0,
          1
         ],
         "title": {
          "text": "rule"
         }
        },
        "yaxis": {
         "anchor": "x",
         "domain": [
          0,
          1
         ],
         "title": {
          "text": "value"
         }
        }
       }
      }
     },
     "metadata": {},
     "output_type": "display_data"
    }
   ],
   "source": [
    "px.bar(merged, x='rule', y=['uncertainty_kmeans', 'uncertainty_random'], \n",
    "       title='Uncertainty comparison between kmeans and random', # put bars next to each other\n",
    "       barmode='group')"
   ]
  },
  {
   "cell_type": "code",
   "execution_count": null,
   "metadata": {},
   "outputs": [],
   "source": []
  }
 ],
 "metadata": {
  "kernelspec": {
   "display_name": "thesis",
   "language": "python",
   "name": "python3"
  },
  "language_info": {
   "codemirror_mode": {
    "name": "ipython",
    "version": 3
   },
   "file_extension": ".py",
   "mimetype": "text/x-python",
   "name": "python",
   "nbconvert_exporter": "python",
   "pygments_lexer": "ipython3",
   "version": "3.10.14"
  }
 },
 "nbformat": 4,
 "nbformat_minor": 2
}
