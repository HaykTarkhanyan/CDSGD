{
 "cells": [
  {
   "cell_type": "markdown",
   "metadata": {},
   "source": [
    "# Imports and variable setup"
   ]
  },
  {
   "cell_type": "code",
   "execution_count": 1,
   "metadata": {},
   "outputs": [
    {
     "name": "stderr",
     "output_type": "stream",
     "text": [
      "c:\\Users\\hayk_\\.conda\\envs\\thesis\\lib\\site-packages\\tqdm\\auto.py:21: TqdmWarning: IProgress not found. Please update jupyter and ipywidgets. See https://ipywidgets.readthedocs.io/en/stable/user_install.html\n",
      "  from .autonotebook import tqdm as notebook_tqdm\n"
     ]
    }
   ],
   "source": [
    "from sklearn.cluster import KMeans, AgglomerativeClustering, DBSCAN\n",
    "from sklearn.metrics import silhouette_score, calinski_harabasz_score\n",
    "import plotly.express as px\n",
    "import pandas as pd\n",
    "import numpy as np\n",
    "import os\n",
    "\n",
    "import datetime \n",
    "\n",
    "from sklearn.metrics import accuracy_score, f1_score\n",
    "from sklearn.metrics import confusion_matrix\n",
    "from sklearn.model_selection import cross_validate, cross_val_score\n",
    "from sklearn.model_selection import train_test_split\n",
    "from sklearn.preprocessing import StandardScaler\n",
    "\n",
    "from utils import filter_by_rule, detect_outliers_z_score, report_results\n",
    "from config import *\n",
    "import pickle\n",
    "\n",
    "\n",
    "import warnings\n",
    "from pandas.errors import SettingWithCopyWarning\n",
    "warnings.simplefilter(action='ignore', category=(SettingWithCopyWarning, FutureWarning))\n",
    "\n",
    "from DSClassifierMultiQ import DSClassifierMultiQ\n",
    "\n"
   ]
  },
  {
   "cell_type": "code",
   "execution_count": 2,
   "metadata": {},
   "outputs": [],
   "source": [
    "import logging\n",
    "\n",
    "\n",
    "if not os.path.exists(\"logs\"):\n",
    "    os.mkdir(\"logs\")\n",
    "\n",
    "log_file = os.path.join(\"logs\", \"api.log\")\n",
    "\n",
    "rfh = logging.handlers.RotatingFileHandler(\n",
    "    filename=log_file,\n",
    "    mode='a',\n",
    "    maxBytes=LOGGING_MAX_SIZE_MB*1024*1024,\n",
    "    backupCount=LOGGING_BACKUP_COUNT,\n",
    "    encoding=None,\n",
    "    delay=0\n",
    ")\n",
    "\n",
    "console_handler = logging.StreamHandler()\n",
    "\n",
    "logging.basicConfig(\n",
    "    level=logging.DEBUG,\n",
    "    format=\"%(asctime)s [%(levelname)s] %(message)s\",\n",
    "    datefmt=\"%y-%m-%d %H:%M:%S\",\n",
    "    handlers=[\n",
    "        rfh,\n",
    "        console_handler\n",
    "    ],\n",
    ")\n",
    "\n",
    "logger = logging.getLogger(__name__)"
   ]
  },
  {
   "cell_type": "code",
   "execution_count": 3,
   "metadata": {},
   "outputs": [
    {
     "name": "stderr",
     "output_type": "stream",
     "text": [
      "24-04-26 20:47:26 [INFO] Found 1 datasets\n"
     ]
    }
   ],
   "source": [
    "#  https://www.kaggle.com/datasets/jakeshbohaju/brain-tumor/data\n",
    "DATASET_FOLDER = \"datasets\" \n",
    "\n",
    "assert os.path.exists(DATASET_FOLDER), \"Dataset folder not found\"\n",
    "\n",
    "datasets = os.listdir(DATASET_FOLDER)\n",
    "logging.info(f\"Found {len(datasets)} datasets\")"
   ]
  },
  {
   "cell_type": "markdown",
   "metadata": {},
   "source": [
    "# Reading the data"
   ]
  },
  {
   "cell_type": "markdown",
   "metadata": {},
   "source": [
    "## Load the dataset, make checks"
   ]
  },
  {
   "cell_type": "code",
   "execution_count": 4,
   "metadata": {},
   "outputs": [
    {
     "name": "stderr",
     "output_type": "stream",
     "text": [
      "24-04-26 20:47:26 [INFO] ------ Dataset: Brain Tumor | Shape: (3762, 14) | Label ratio: 0.55 -------\n"
     ]
    }
   ],
   "source": [
    "dataset = datasets[0]\n",
    "dataset_name = dataset.split(\".\")[0]\n",
    "\n",
    "data = pd.read_csv(os.path.join(DATASET_FOLDER, dataset))\n",
    "\n",
    "assert data.isna().sum().sum() == 0, \"Dataset contains missing values\"\n",
    "assert \"labels\" in data.columns, \"Dataset does not contain `labels` column\"\n",
    "assert data.labels.nunique() == 2, \"Dataset labels are not binary\"\n",
    "\n",
    "label_ratio = data.labels.value_counts(normalize=True).iloc[0]\n",
    "assert 0.4 < label_ratio < 0.6, \"Label ratio is not balanced\"\n",
    "\n",
    "# move labels column to the end \n",
    "data = data[[col for col in data.columns if col != \"labels\"] + [\"labels\"]]\n",
    "\n",
    "logging.info(f\"------ Dataset: {dataset_name} | Shape: {data.shape} | Label ratio: {label_ratio:.2f} -------\")"
   ]
  },
  {
   "cell_type": "markdown",
   "metadata": {},
   "source": [
    "## Train test split"
   ]
  },
  {
   "cell_type": "code",
   "execution_count": 5,
   "metadata": {},
   "outputs": [
    {
     "name": "stderr",
     "output_type": "stream",
     "text": [
      "24-04-26 20:47:26 [INFO] Step 0: Data split done | 2633 - 1129\n"
     ]
    }
   ],
   "source": [
    "data = data.sample(frac=1).reset_index(drop=True)\n",
    "data = data.apply(pd.to_numeric)\n",
    "cut = int(train_set_size*len(data))\n",
    "\n",
    "train_data_df = data.iloc[:cut]\n",
    "test_data_df = data.iloc[cut:]\n",
    "\n",
    "X_train = data.iloc[:cut, :-1].values\n",
    "y_train = data.iloc[:cut, -1].values\n",
    "X_test = data.iloc[cut:, :-1].values\n",
    "y_test = data.iloc[cut:, -1].values\n",
    "\n",
    "logging.info(f\"Step 0: Data split done | {len(X_train)} - {len(X_test)}\")\n"
   ]
  },
  {
   "cell_type": "markdown",
   "metadata": {},
   "source": [
    "## Scaling"
   ]
  },
  {
   "cell_type": "code",
   "execution_count": 6,
   "metadata": {},
   "outputs": [
    {
     "name": "stderr",
     "output_type": "stream",
     "text": [
      "24-04-26 20:47:26 [DEBUG] Step 1: Standard scaling complete\n"
     ]
    }
   ],
   "source": [
    "st_scaler = StandardScaler().fit(train_data_df)\n",
    "# break\n",
    "scale = st_scaler.scale_\n",
    "mean = st_scaler.mean_\n",
    "var = st_scaler.var_ \n",
    "\n",
    "X_train_scaled = st_scaler.transform(train_data_df)\n",
    "X_test_scaled = st_scaler.transform(test_data_df)  #! during inference we won't have this\n",
    "\n",
    "logging.debug(\"Step 1: Standard scaling complete\")"
   ]
  },
  {
   "cell_type": "markdown",
   "metadata": {},
   "source": [
    "## KMeans"
   ]
  },
  {
   "cell_type": "code",
   "execution_count": 7,
   "metadata": {},
   "outputs": [
    {
     "name": "stderr",
     "output_type": "stream",
     "text": [
      "24-04-26 20:47:26 [INFO] Step 2: Performing clustering\n",
      "Exception in thread Thread-7 (_readerthread):\n",
      "Traceback (most recent call last):\n",
      "  File \"c:\\Users\\hayk_\\.conda\\envs\\thesis\\lib\\threading.py\", line 1016, in _bootstrap_inner\n",
      "    self.run()\n",
      "  File \"c:\\Users\\hayk_\\.conda\\envs\\thesis\\lib\\threading.py\", line 953, in run\n",
      "    self._target(*self._args, **self._kwargs)\n",
      "  File \"c:\\Users\\hayk_\\.conda\\envs\\thesis\\lib\\subprocess.py\", line 1515, in _readerthread\n",
      "    buffer.append(fh.read())\n",
      "  File \"c:\\Users\\hayk_\\.conda\\envs\\thesis\\lib\\codecs.py\", line 322, in decode\n",
      "    (result, consumed) = self._buffer_decode(data, self.errors, final)\n",
      "UnicodeDecodeError: 'utf-8' codec can't decode byte 0x81 in position 3: invalid start byte\n",
      "c:\\Users\\hayk_\\.conda\\envs\\thesis\\lib\\site-packages\\joblib\\externals\\loky\\backend\\context.py:136: UserWarning: Could not find the number of physical cores for the following reason:\n",
      "found 0 physical cores < 1\n",
      "Returning the number of logical cores instead. You can silence this warning by setting LOKY_MAX_CPU_COUNT to the number of cores you want to use.\n",
      "  warnings.warn(\n",
      "  File \"c:\\Users\\hayk_\\.conda\\envs\\thesis\\lib\\site-packages\\joblib\\externals\\loky\\backend\\context.py\", line 282, in _count_physical_cores\n",
      "    raise ValueError(f\"found {cpu_count_physical} physical cores < 1\")\n",
      "24-04-26 20:47:27 [DEBUG] Evaluation on train\n",
      "24-04-26 20:47:27 [DEBUG] \tsilhouette = 0.584\n",
      "24-04-26 20:47:27 [DEBUG] \tcalinski_harabasz = 4166.937\n",
      "24-04-26 20:47:27 [DEBUG] \tinertia = 245834624.664\n",
      "24-04-26 20:47:27 [DEBUG] Evaluation on test\n",
      "24-04-26 20:47:27 [DEBUG] \tsilhouette = 0.584\n",
      "24-04-26 20:47:27 [DEBUG] \tcalinski_harabasz = 1978.185\n",
      "24-04-26 20:47:27 [INFO] Step 2: Clustering done\n"
     ]
    }
   ],
   "source": [
    "logging.info(\"Step 2: Performing clustering\")\n",
    "\n",
    "CLUSTERING_ALG = \"kmeans\" # in future we'll add DBSCAN\n",
    "\n",
    "clustering_model = KMeans(n_clusters=2, random_state=42, n_init=\"auto\")      \n",
    "clustering_model.fit(X_train)  \n",
    "\n",
    "clustering_labels_train = clustering_model.predict(X_train)\n",
    "clustering_labels_test = clustering_model.predict(X_test)\n",
    "\n",
    "train_data_df[\"labels_clustering\"] = clustering_labels_train\n",
    "test_data_df[\"labels_clustering\"] = clustering_labels_test\n",
    "\n",
    "def evaluate_clustering(df, labels, model=None, alg=\"kmeans\", round_digits=3, \n",
    "                        print_results=False, dataset=\"train\"):\n",
    "    silhouette = silhouette_score(df, labels).round(round_digits)\n",
    "    calinski_harabasz = calinski_harabasz_score(df, labels).round(round_digits)\n",
    "    \n",
    "    if alg == \"kmeans\" and dataset==\"train\":\n",
    "        inertia = round(model.inertia_,round_digits)\n",
    "        \n",
    "    \n",
    "    if print_results:\n",
    "        logging.debug(f\"Evaluation on {dataset}\")\n",
    "        logging.debug(f\"\\t{silhouette = }\")\n",
    "        logging.debug(f\"\\t{calinski_harabasz = }\")\n",
    "        if alg == \"kmeans\" and dataset==\"train\":\n",
    "            logging.debug(f\"\\t{inertia = }\")\n",
    "    \n",
    "evaluate_clustering(X_train, clustering_labels_train, clustering_model, \n",
    "                    CLUSTERING_ALG, print_results=True)\n",
    "evaluate_clustering(X_test, clustering_labels_test, clustering_model, \n",
    "                    CLUSTERING_ALG, print_results=True, dataset=\"test\")\n",
    "\n",
    "logging.info(\"Step 2: Clustering done\")"
   ]
  },
  {
   "cell_type": "markdown",
   "metadata": {},
   "source": [
    "## KMeans evaluation"
   ]
  },
  {
   "cell_type": "code",
   "execution_count": 8,
   "metadata": {},
   "outputs": [],
   "source": [
    "\n",
    "def evaluate_classifier(*, y_actual, y_clust, dataset=\"train\", print_results=False,\n",
    "                        purpose=\"clustering_eval\"):    \n",
    "    accuracy = accuracy_score(y_actual, y_clust)\n",
    "    if purpose == \"clustering_eval\":\n",
    "        if accuracy < 0.5: # swap 1's and 0's\n",
    "            y_clust = [1 if label == 0 else 0 for label in y_clust]\n",
    "            accuracy = accuracy_score(y_actual, y_clust)\n",
    "\n",
    "    f1 = f1_score(y_actual, y_clust)\n",
    "    conf_matrix = confusion_matrix(y_actual, y_clust)\n",
    "    \n",
    "    if print_results:\n",
    "        logging.debug(f\"Evaluation on {dataset}\")\n",
    "        logging.debug(f\"\\tAccuracy:  {accuracy:.2f}\")\n",
    "        logging.debug(f\"\\tF1 Score: {f1:.2f}\")\n",
    "        logging.debug(f\"\\tConfusion Matrix: \\n{conf_matrix}\")\n",
    "    \n",
    "    return {\"accuracy\": accuracy, \"f1\": f1, \"confusion_matrix\": conf_matrix}"
   ]
  },
  {
   "cell_type": "code",
   "execution_count": 9,
   "metadata": {},
   "outputs": [
    {
     "name": "stderr",
     "output_type": "stream",
     "text": [
      "24-04-26 20:47:27 [DEBUG] Evaluation on train\n",
      "24-04-26 20:47:27 [DEBUG] \tAccuracy:  0.66\n",
      "24-04-26 20:47:27 [DEBUG] \tF1 Score: 0.54\n",
      "24-04-26 20:47:27 [DEBUG] \tConfusion Matrix: \n",
      "[[1213  222]\n",
      " [ 667  531]]\n",
      "24-04-26 20:47:27 [DEBUG] Evaluation on test\n",
      "24-04-26 20:47:27 [DEBUG] \tAccuracy:  0.66\n",
      "24-04-26 20:47:27 [DEBUG] \tF1 Score: 0.51\n",
      "24-04-26 20:47:27 [DEBUG] \tConfusion Matrix: \n",
      "[[543 101]\n",
      " [287 198]]\n",
      "24-04-26 20:47:27 [INFO] Step 3: Clustering as a classifier, evaluation done\n"
     ]
    }
   ],
   "source": [
    "evaluate_classifier(y_actual=y_train, y_clust=clustering_labels_train, \n",
    "                    dataset=\"train\", print_results=True)\n",
    "evaluate_classifier(y_actual=y_test, y_clust=clustering_labels_test, \n",
    "                    dataset=\"test\", print_results=True)\n",
    "\n",
    "logger.info(\"Step 3: Clustering as a classifier, evaluation done\")"
   ]
  },
  {
   "cell_type": "markdown",
   "metadata": {},
   "source": [
    "## Distance calculation"
   ]
  },
  {
   "cell_type": "code",
   "execution_count": 10,
   "metadata": {},
   "outputs": [],
   "source": [
    "def get_distance(df, model, alg=\"kmeans\"):#, remove_outliers=True, normalize=True):\n",
    "    if alg == \"kmeans\":\n",
    "        distances = np.min(\n",
    "            np.linalg.norm(df[:, np.newaxis] - model.cluster_centers_, axis=2), axis=1) \n",
    "    else:\n",
    "        raise NotImplementedError(\"Only KMeans is supported\")    \n",
    "    \n",
    "    return distances\n",
    "    "
   ]
  },
  {
   "cell_type": "code",
   "execution_count": 11,
   "metadata": {},
   "outputs": [],
   "source": [
    "def remove_outliers_and_normalize(df, distance_column=\"distance\", label_column=\"labels\"):\n",
    "    outliers = detect_outliers_z_score(df[\"distance\"])\n",
    "    df[\"outlier\"] = df[distance_column].apply(lambda x: x in outliers)\n",
    "    df_no_outliers = df[~df[\"outlier\"]]\n",
    "    \n",
    "    # min max scale the df. dont use outliers\n",
    "    min_val = df_no_outliers.groupby(label_column)[distance_column].apply('min')\n",
    "    max_val = df_no_outliers.groupby(label_column)[distance_column].apply('max')\n",
    "    \n",
    "    def scale(x, label):\n",
    "        return (x - min_val[label]) / (max_val[label] - min_val[label]) if max_val[label] > min_val[label] else 0\n",
    "        \n",
    "    dist_norm = df.apply(lambda row: scale(row[distance_column], row[label_column]), axis=1)\n",
    "    \n",
    "    return dist_norm"
   ]
  },
  {
   "cell_type": "code",
   "execution_count": 12,
   "metadata": {},
   "outputs": [],
   "source": [
    "train_data_df[\"distance\"] = get_distance(X_train, clustering_model)\n",
    "test_data_df[\"distance\"] = get_distance(X_test, clustering_model)"
   ]
  },
  {
   "cell_type": "code",
   "execution_count": 13,
   "metadata": {},
   "outputs": [
    {
     "name": "stderr",
     "output_type": "stream",
     "text": [
      "24-04-26 20:47:28 [INFO] Step 4: Distance calculation done\n"
     ]
    }
   ],
   "source": [
    "train_data_df[\"distance_norm\"] = remove_outliers_and_normalize(train_data_df) \n",
    "test_data_df[\"distance_norm\"] = remove_outliers_and_normalize(test_data_df)\n",
    "\n",
    "assert train_data_df.isna().sum().sum() == 0, \"Train data contains NaNs\"\n",
    "assert test_data_df.isna().sum().sum() == 0, \"Train data contains NaNs\"\n",
    "\n",
    "logger.info(f\"Step 4: Distance calculation done\")"
   ]
  },
  {
   "cell_type": "markdown",
   "metadata": {},
   "source": [
    "## DST"
   ]
  },
  {
   "cell_type": "code",
   "execution_count": 14,
   "metadata": {},
   "outputs": [
    {
     "name": "stdout",
     "output_type": "stream",
     "text": [
      "1\n"
     ]
    }
   ],
   "source": [
    "# !pip install -U kaleido\n",
    "print(1)"
   ]
  },
  {
   "cell_type": "code",
   "execution_count": 32,
   "metadata": {},
   "outputs": [
    {
     "name": "stderr",
     "output_type": "stream",
     "text": [
      "24-04-26 21:19:03 [DEBUG] Train: 2633\n",
      "24-04-26 21:19:03 [INFO] Step 5: Run DST (dataset=Brain Tumor, breaks=3, add_mult_rules=False, maf_method=kmeans)\n",
      "24-04-26 21:19:03 [DEBUG] \tModel init done\n"
     ]
    },
    {
     "name": "stdout",
     "output_type": "stream",
     "text": [
      "Optimization started\n",
      "Processing epoch\t66\t0.0382\t"
     ]
    },
    {
     "name": "stderr",
     "output_type": "stream",
     "text": [
      "24-04-26 21:24:14 [DEBUG] \tModel fit done\n"
     ]
    },
    {
     "name": "stdout",
     "output_type": "stream",
     "text": [
      "\n",
      "Training time: 288.09s, epochs: 69\n",
      "\n",
      "Least training loss reached: 0.033\n",
      "DSModelMultiQ(\n",
      "  DS Classifier using 49 rules\n",
      "  \n",
      "  Rule 1: Mean < 5.696\n",
      "  \tC1: 0.459\tC2: 0.182\tUnc: 0.359\n",
      "  \n",
      "  Rule 2: 5.696 < Mean < 9.586\n",
      "  \tC1: 0.381\tC2: 0.266\tUnc: 0.354\n",
      "  \n",
      "  Rule 3: 9.586 < Mean < 13.475\n",
      "  \tC1: 0.389\tC2: 0.258\tUnc: 0.354\n",
      "  \n",
      "  Rule 4: Mean > 13.475\n",
      "  \tC1: 0.878\tC2: 0.008\tUnc: 0.114\n",
      "  \n",
      "  Rule 5: Variance < 400.038\n",
      "  \tC1: 0.517\tC2: 0.138\tUnc: 0.346\n",
      "  \n",
      "  Rule 6: 400.038 < Variance < 718.473\n",
      "  \tC1: 0.385\tC2: 0.261\tUnc: 0.354\n",
      "  \n",
      "  Rule 7: 718.473 < Variance < 1036.907\n",
      "  \tC1: 0.430\tC2: 0.210\tUnc: 0.360\n",
      "  \n",
      "  Rule 8: Variance > 1036.907\n",
      "  \tC1: 0.596\tC2: 0.124\tUnc: 0.280\n",
      "  \n",
      "  Rule 9: Standard Deviation < 19.398\n",
      "  \tC1: 0.534\tC2: 0.122\tUnc: 0.344\n",
      "  \n",
      "  Rule 10: 19.398 < Standard Deviation < 25.324\n",
      "  \tC1: 0.367\tC2: 0.287\tUnc: 0.346\n",
      "  \n",
      "  Rule 11: 25.324 < Standard Deviation < 31.249\n",
      "  \tC1: 0.479\tC2: 0.172\tUnc: 0.349\n",
      "  \n",
      "  Rule 12: Standard Deviation > 31.249\n",
      "  \tC1: 0.599\tC2: 0.118\tUnc: 0.283\n",
      "  \n",
      "  Rule 13: Entropy < 0.026\n",
      "  \tC1: 0.000\tC2: 1.000\tUnc: 0.000\n",
      "  \n",
      "  Rule 14: 0.026 < Entropy < 0.073\n",
      "  \tC1: 0.313\tC2: 0.354\tUnc: 0.332\n",
      "  \n",
      "  Rule 15: 0.073 < Entropy < 0.121\n",
      "  \tC1: 0.438\tC2: 0.211\tUnc: 0.352\n",
      "  \n",
      "  Rule 16: Entropy > 0.121\n",
      "  \tC1: 0.463\tC2: 0.187\tUnc: 0.351\n",
      "  \n",
      "  Rule 17: Skewness < 2.339\n",
      "  \tC1: 0.382\tC2: 0.279\tUnc: 0.339\n",
      "  \n",
      "  Rule 18: 2.339 < Skewness < 4.097\n",
      "  \tC1: 0.389\tC2: 0.260\tUnc: 0.351\n",
      "  \n",
      "  Rule 19: 4.097 < Skewness < 5.854\n",
      "  \tC1: 0.339\tC2: 0.324\tUnc: 0.336\n",
      "  \n",
      "  Rule 20: Skewness > 5.854\n",
      "  \tC1: 0.263\tC2: 0.311\tUnc: 0.426\n",
      "  \n",
      "  Rule 21: Kurtosis < -15.863\n",
      "  \tC1: 0.000\tC2: 0.000\tUnc: 1.000\n",
      "  \n",
      "  Rule 22: -15.863 < Kurtosis < 24.581\n",
      "  \tC1: 0.386\tC2: 0.267\tUnc: 0.348\n",
      "  \n",
      "  Rule 23: 24.581 < Kurtosis < 65.024\n",
      "  \tC1: 0.306\tC2: 0.365\tUnc: 0.329\n",
      "  \n",
      "  Rule 24: Kurtosis > 65.024\n",
      "  \tC1: 0.220\tC2: 0.327\tUnc: 0.453\n",
      "  \n",
      "  Rule 25: Contrast < 48.638\n",
      "  \tC1: 0.514\tC2: 0.139\tUnc: 0.346\n",
      "  \n",
      "  Rule 26: 48.638 < Contrast < 130.232\n",
      "  \tC1: 0.399\tC2: 0.246\tUnc: 0.355\n",
      "  \n",
      "  Rule 27: 130.232 < Contrast < 211.826\n",
      "  \tC1: 0.892\tC2: 0.038\tUnc: 0.070\n",
      "  \n",
      "  Rule 28: Contrast > 211.826\n",
      "  \tC1: 0.418\tC2: 0.204\tUnc: 0.378\n",
      "  \n",
      "  Rule 29: Energy < 0.117\n",
      "  \tC1: 0.000\tC2: 1.000\tUnc: 0.000\n",
      "  \n",
      "  Rule 30: 0.117 < Energy < 0.204\n",
      "  \tC1: 0.006\tC2: 0.989\tUnc: 0.006\n",
      "  \n",
      "  Rule 31: 0.204 < Energy < 0.292\n",
      "  \tC1: 0.419\tC2: 0.234\tUnc: 0.347\n",
      "  \n",
      "  Rule 32: Energy > 0.292\n",
      "  \tC1: 0.458\tC2: 0.190\tUnc: 0.352\n",
      "  \n",
      "  Rule 33: ASM < 0.019\n",
      "  \tC1: 0.000\tC2: 1.000\tUnc: 0.000\n",
      "  \n",
      "  Rule 34: 0.019 < ASM < 0.058\n",
      "  \tC1: 0.339\tC2: 0.317\tUnc: 0.343\n",
      "  \n",
      "  Rule 35: 0.058 < ASM < 0.098\n",
      "  \tC1: 0.443\tC2: 0.205\tUnc: 0.352\n",
      "  \n",
      "  Rule 36: ASM > 0.098\n",
      "  \tC1: 0.461\tC2: 0.189\tUnc: 0.350\n",
      "  \n",
      "  Rule 37: Homogeneity < 0.393\n",
      "  \tC1: 0.000\tC2: 1.000\tUnc: 0.000\n",
      "  \n",
      "  Rule 38: 0.393 < Homogeneity < 0.479\n",
      "  \tC1: 0.345\tC2: 0.329\tUnc: 0.326\n",
      "  \n",
      "  Rule 39: 0.479 < Homogeneity < 0.565\n",
      "  \tC1: 0.406\tC2: 0.248\tUnc: 0.346\n",
      "  \n",
      "  Rule 40: Homogeneity > 0.565\n",
      "  \tC1: 0.461\tC2: 0.187\tUnc: 0.351\n",
      "  \n",
      "  Rule 41: Dissimilarity < 3.433\n",
      "  \tC1: 0.450\tC2: 0.196\tUnc: 0.353\n",
      "  \n",
      "  Rule 42: 3.433 < Dissimilarity < 4.715\n",
      "  \tC1: 0.402\tC2: 0.253\tUnc: 0.345\n",
      "  \n",
      "  Rule 43: 4.715 < Dissimilarity < 5.998\n",
      "  \tC1: 0.304\tC2: 0.400\tUnc: 0.296\n",
      "  \n",
      "  Rule 44: Dissimilarity > 5.998\n",
      "  \tC1: 0.324\tC2: 0.318\tUnc: 0.358\n",
      "  \n",
      "  Rule 45: Correlation < 0.938\n",
      "  \tC1: 0.498\tC2: 0.152\tUnc: 0.350\n",
      "  \n",
      "  Rule 46: 0.938 < Correlation < 0.956\n",
      "  \tC1: 0.404\tC2: 0.247\tUnc: 0.349\n",
      "  \n",
      "  Rule 47: 0.956 < Correlation < 0.973\n",
      "  \tC1: 0.375\tC2: 0.279\tUnc: 0.346\n",
      "  \n",
      "  Rule 48: Correlation > 0.973\n",
      "  \tC1: 0.378\tC2: 0.275\tUnc: 0.347\n",
      "  \n",
      "  Rule 49: Coarseness = 7.46e-155\n",
      "  \tC1: 0.144\tC2: 0.711\tUnc: 0.144\n",
      ")\n",
      "\n",
      "\n",
      "Most important rules for class 0\n",
      "\n",
      "\t[0.911] R26: 130.232 < Contrast < 211.826\n",
      "\t\t\t0: 0.892\t1: 0.038\tUnc: 0.070\n",
      "\n",
      "\t[0.882] R3: Mean > 13.475\n",
      "\t\t\t0: 0.878\t1: 0.008\tUnc: 0.114\n",
      "\n",
      "\t[0.655] R11: Standard Deviation > 31.249\n",
      "\t\t\t0: 0.599\t1: 0.118\tUnc: 0.283\n",
      "\n",
      "\t[0.655] R7: Variance > 1036.907\n",
      "\t\t\t0: 0.596\t1: 0.124\tUnc: 0.280\n",
      "\n",
      "\t[0.592] R8: Standard Deviation < 19.398\n",
      "\t\t\t0: 0.534\t1: 0.122\tUnc: 0.344\n",
      "\n",
      "\t[0.581] R4: Variance < 400.038\n",
      "\t\t\t0: 0.517\t1: 0.138\tUnc: 0.346\n",
      "\n",
      "\t[0.580] R24: Contrast < 48.638\n",
      "\t\t\t0: 0.514\t1: 0.139\tUnc: 0.346\n",
      "\n",
      "\t[0.569] R44: Correlation < 0.938\n",
      "\t\t\t0: 0.498\t1: 0.152\tUnc: 0.350\n",
      "\n",
      "\t[0.559] R10: 25.324 < Standard Deviation < 31.249\n",
      "\t\t\t0: 0.479\t1: 0.172\tUnc: 0.349\n",
      "\n",
      "\t[0.548] R15: Entropy > 0.121\n",
      "\t\t\t0: 0.463\t1: 0.187\tUnc: 0.351\n",
      "\n",
      "\t[0.547] R35: ASM > 0.098\n",
      "\t\t\t0: 0.461\t1: 0.189\tUnc: 0.350\n",
      "\n",
      "\t[0.547] R39: Homogeneity > 0.565\n",
      "\t\t\t0: 0.461\t1: 0.187\tUnc: 0.351\n",
      "\n",
      "\t[0.545] R31: Energy > 0.292\n",
      "\t\t\t0: 0.458\t1: 0.190\tUnc: 0.352\n",
      "\n",
      "\t[0.542] R0: Mean < 5.696\n",
      "\t\t\t0: 0.459\t1: 0.182\tUnc: 0.359\n",
      "\n",
      "\t[0.540] R40: Dissimilarity < 3.433\n",
      "\t\t\t0: 0.450\t1: 0.196\tUnc: 0.353\n",
      "\n",
      "\t[0.535] R34: 0.058 < ASM < 0.098\n",
      "\t\t\t0: 0.443\t1: 0.205\tUnc: 0.352\n",
      "\n",
      "\t[0.533] R14: 0.073 < Entropy < 0.121\n",
      "\t\t\t0: 0.438\t1: 0.211\tUnc: 0.352\n",
      "\n",
      "\t[0.524] R6: 718.473 < Variance < 1036.907\n",
      "\t\t\t0: 0.430\t1: 0.210\tUnc: 0.360\n",
      "\n",
      "\t[0.523] R30: 0.204 < Energy < 0.292\n",
      "\t\t\t0: 0.419\t1: 0.234\tUnc: 0.347\n",
      "\n",
      "\t[0.515] R38: 0.479 < Homogeneity < 0.565\n",
      "\t\t\t0: 0.406\t1: 0.248\tUnc: 0.346\n",
      "\n",
      "\t[0.513] R45: 0.938 < Correlation < 0.956\n",
      "\t\t\t0: 0.404\t1: 0.247\tUnc: 0.349\n",
      "\n",
      "\t[0.513] R41: 3.433 < Dissimilarity < 4.715\n",
      "\t\t\t0: 0.402\t1: 0.253\tUnc: 0.345\n",
      "\n",
      "\t[0.510] R27: Contrast > 211.826\n",
      "\t\t\t0: 0.418\t1: 0.204\tUnc: 0.378\n",
      "\n",
      "\t[0.507] R25: 48.638 < Contrast < 130.232\n",
      "\t\t\t0: 0.399\t1: 0.246\tUnc: 0.355\n",
      "\n",
      "\t[0.502] R17: 2.339 < Skewness < 4.097\n",
      "\t\t\t0: 0.389\t1: 0.260\tUnc: 0.351\n",
      "\n",
      "\t[0.502] R16: Skewness < 2.339\n",
      "\t\t\t0: 0.382\t1: 0.279\tUnc: 0.339\n",
      "\n",
      "\t[0.501] R21: -15.863 < Kurtosis < 24.581\n",
      "\t\t\t0: 0.386\t1: 0.267\tUnc: 0.348\n",
      "\n",
      "\t[0.501] R2: 9.586 < Mean < 13.475\n",
      "\t\t\t0: 0.389\t1: 0.258\tUnc: 0.354\n",
      "\n",
      "\t[0.498] R5: 400.038 < Variance < 718.473\n",
      "\t\t\t0: 0.385\t1: 0.261\tUnc: 0.354\n",
      "\n",
      "\t[0.497] R47: Correlation > 0.973\n",
      "\t\t\t0: 0.378\t1: 0.275\tUnc: 0.347\n",
      "\n",
      "\t[0.496] R1: 5.696 < Mean < 9.586\n",
      "\t\t\t0: 0.381\t1: 0.266\tUnc: 0.354\n",
      "\n",
      "\t[0.495] R46: 0.956 < Correlation < 0.973\n",
      "\t\t\t0: 0.375\t1: 0.279\tUnc: 0.346\n",
      "\n",
      "\t[0.490] R9: 19.398 < Standard Deviation < 25.324\n",
      "\t\t\t0: 0.367\t1: 0.287\tUnc: 0.346\n",
      "\n",
      "\t[0.482] R37: 0.393 < Homogeneity < 0.479\n",
      "\t\t\t0: 0.345\t1: 0.329\tUnc: 0.326\n",
      "\n",
      "\t[0.475] R18: 4.097 < Skewness < 5.854\n",
      "\t\t\t0: 0.339\t1: 0.324\tUnc: 0.336\n",
      "\n",
      "\t[0.472] R33: 0.019 < ASM < 0.058\n",
      "\t\t\t0: 0.339\t1: 0.317\tUnc: 0.343\n",
      "\n",
      "\t[0.463] R42: 4.715 < Dissimilarity < 5.998\n",
      "\t\t\t0: 0.304\t1: 0.400\tUnc: 0.296\n",
      "\n",
      "\t[0.457] R13: 0.026 < Entropy < 0.073\n",
      "\t\t\t0: 0.313\t1: 0.354\tUnc: 0.332\n",
      "\n",
      "\t[0.456] R43: Dissimilarity > 5.998\n",
      "\t\t\t0: 0.324\t1: 0.318\tUnc: 0.358\n",
      "\n",
      "\t[0.453] R22: 24.581 < Kurtosis < 65.024\n",
      "\t\t\t0: 0.306\t1: 0.365\tUnc: 0.329\n",
      "\n",
      "\t[0.389] R19: Skewness > 5.854\n",
      "\t\t\t0: 0.263\t1: 0.311\tUnc: 0.426\n",
      "\n",
      "\t[0.351] R48: Coarseness = 7.46e-155\n",
      "\t\t\t0: 0.144\t1: 0.711\tUnc: 0.144\n",
      "\n",
      "\t[0.346] R23: Kurtosis > 65.024\n",
      "\t\t\t0: 0.220\t1: 0.327\tUnc: 0.453\n",
      "\n",
      "Most important rules for class 1\n",
      "\n",
      "\t[1.000] R36: Homogeneity < 0.393\n",
      "\t\t\t0: 0.000\t1: 1.000\tUnc: 0.000\n",
      "\n",
      "\t[1.000] R32: ASM < 0.019\n",
      "\t\t\t0: 0.000\t1: 1.000\tUnc: 0.000\n",
      "\n",
      "\t[1.000] R28: Energy < 0.117\n",
      "\t\t\t0: 0.000\t1: 1.000\tUnc: 0.000\n",
      "\n",
      "\t[1.000] R12: Entropy < 0.026\n",
      "\t\t\t0: 0.000\t1: 1.000\tUnc: 0.000\n",
      "\n",
      "\t[0.991] R29: 0.117 < Energy < 0.204\n",
      "\t\t\t0: 0.006\t1: 0.989\tUnc: 0.006\n",
      "\n",
      "\t[0.780] R48: Coarseness = 7.46e-155\n",
      "\t\t\t0: 0.144\t1: 0.711\tUnc: 0.144\n",
      "\n",
      "\t[0.531] R42: 4.715 < Dissimilarity < 5.998\n",
      "\t\t\t0: 0.304\t1: 0.400\tUnc: 0.296\n",
      "\n",
      "\t[0.494] R22: 24.581 < Kurtosis < 65.024\n",
      "\t\t\t0: 0.306\t1: 0.365\tUnc: 0.329\n",
      "\n",
      "\t[0.486] R13: 0.026 < Entropy < 0.073\n",
      "\t\t\t0: 0.313\t1: 0.354\tUnc: 0.332\n",
      "\n",
      "\t[0.471] R37: 0.393 < Homogeneity < 0.479\n",
      "\t\t\t0: 0.345\t1: 0.329\tUnc: 0.326\n",
      "\n",
      "\t[0.464] R18: 4.097 < Skewness < 5.854\n",
      "\t\t\t0: 0.339\t1: 0.324\tUnc: 0.336\n",
      "\n",
      "\t[0.456] R33: 0.019 < ASM < 0.058\n",
      "\t\t\t0: 0.339\t1: 0.317\tUnc: 0.343\n",
      "\n",
      "\t[0.452] R43: Dissimilarity > 5.998\n",
      "\t\t\t0: 0.324\t1: 0.318\tUnc: 0.358\n",
      "\n",
      "\t[0.433] R9: 19.398 < Standard Deviation < 25.324\n",
      "\t\t\t0: 0.367\t1: 0.287\tUnc: 0.346\n",
      "\n",
      "\t[0.429] R16: Skewness < 2.339\n",
      "\t\t\t0: 0.382\t1: 0.279\tUnc: 0.339\n",
      "\n",
      "\t[0.427] R46: 0.956 < Correlation < 0.973\n",
      "\t\t\t0: 0.375\t1: 0.279\tUnc: 0.346\n",
      "\n",
      "\t[0.424] R47: Correlation > 0.973\n",
      "\t\t\t0: 0.378\t1: 0.275\tUnc: 0.347\n",
      "\n",
      "\t[0.423] R23: Kurtosis > 65.024\n",
      "\t\t\t0: 0.220\t1: 0.327\tUnc: 0.453\n",
      "\n",
      "\t[0.422] R19: Skewness > 5.854\n",
      "\t\t\t0: 0.263\t1: 0.311\tUnc: 0.426\n",
      "\n",
      "\t[0.417] R21: -15.863 < Kurtosis < 24.581\n",
      "\t\t\t0: 0.386\t1: 0.267\tUnc: 0.348\n",
      "\n",
      "\t[0.414] R1: 5.696 < Mean < 9.586\n",
      "\t\t\t0: 0.381\t1: 0.266\tUnc: 0.354\n",
      "\n",
      "\t[0.411] R5: 400.038 < Variance < 718.473\n",
      "\t\t\t0: 0.385\t1: 0.261\tUnc: 0.354\n",
      "\n",
      "\t[0.410] R17: 2.339 < Skewness < 4.097\n",
      "\t\t\t0: 0.389\t1: 0.260\tUnc: 0.351\n",
      "\n",
      "\t[0.408] R2: 9.586 < Mean < 13.475\n",
      "\t\t\t0: 0.389\t1: 0.258\tUnc: 0.354\n",
      "\n",
      "\t[0.407] R41: 3.433 < Dissimilarity < 4.715\n",
      "\t\t\t0: 0.402\t1: 0.253\tUnc: 0.345\n",
      "\n",
      "\t[0.402] R38: 0.479 < Homogeneity < 0.565\n",
      "\t\t\t0: 0.406\t1: 0.248\tUnc: 0.346\n",
      "\n",
      "\t[0.401] R45: 0.938 < Correlation < 0.956\n",
      "\t\t\t0: 0.404\t1: 0.247\tUnc: 0.349\n",
      "\n",
      "\t[0.398] R25: 48.638 < Contrast < 130.232\n",
      "\t\t\t0: 0.399\t1: 0.246\tUnc: 0.355\n",
      "\n",
      "\t[0.391] R30: 0.204 < Energy < 0.292\n",
      "\t\t\t0: 0.419\t1: 0.234\tUnc: 0.347\n",
      "\n",
      "\t[0.369] R14: 0.073 < Entropy < 0.121\n",
      "\t\t\t0: 0.438\t1: 0.211\tUnc: 0.352\n",
      "\n",
      "\t[0.366] R6: 718.473 < Variance < 1036.907\n",
      "\t\t\t0: 0.430\t1: 0.210\tUnc: 0.360\n",
      "\n",
      "\t[0.365] R34: 0.058 < ASM < 0.098\n",
      "\t\t\t0: 0.443\t1: 0.205\tUnc: 0.352\n",
      "\n",
      "\t[0.356] R40: Dissimilarity < 3.433\n",
      "\t\t\t0: 0.450\t1: 0.196\tUnc: 0.353\n",
      "\n",
      "\t[0.356] R27: Contrast > 211.826\n",
      "\t\t\t0: 0.418\t1: 0.204\tUnc: 0.378\n",
      "\n",
      "\t[0.351] R31: Energy > 0.292\n",
      "\t\t\t0: 0.458\t1: 0.190\tUnc: 0.352\n",
      "\n",
      "\t[0.350] R35: ASM > 0.098\n",
      "\t\t\t0: 0.461\t1: 0.189\tUnc: 0.350\n",
      "\n",
      "\t[0.349] R39: Homogeneity > 0.565\n",
      "\t\t\t0: 0.461\t1: 0.187\tUnc: 0.351\n",
      "\n",
      "\t[0.348] R15: Entropy > 0.121\n",
      "\t\t\t0: 0.463\t1: 0.187\tUnc: 0.351\n",
      "\n",
      "\t[0.342] R0: Mean < 5.696\n",
      "\t\t\t0: 0.459\t1: 0.182\tUnc: 0.359\n",
      "\n",
      "\t[0.334] R10: 25.324 < Standard Deviation < 31.249\n",
      "\t\t\t0: 0.479\t1: 0.172\tUnc: 0.349\n",
      "\n",
      "\t[0.314] R44: Correlation < 0.938\n",
      "\t\t\t0: 0.498\t1: 0.152\tUnc: 0.350\n",
      "\n",
      "\t[0.302] R24: Contrast < 48.638\n",
      "\t\t\t0: 0.514\t1: 0.139\tUnc: 0.346\n",
      "\n",
      "\t[0.300] R4: Variance < 400.038\n",
      "\t\t\t0: 0.517\t1: 0.138\tUnc: 0.346\n",
      "\n",
      "\t[0.299] R7: Variance > 1036.907\n",
      "\t\t\t0: 0.596\t1: 0.124\tUnc: 0.280\n",
      "\n",
      "\t[0.291] R11: Standard Deviation > 31.249\n",
      "\t\t\t0: 0.599\t1: 0.118\tUnc: 0.283\n",
      "\n",
      "\t[0.283] R8: Standard Deviation < 19.398\n",
      "\t\t\t0: 0.534\t1: 0.122\tUnc: 0.344\n"
     ]
    },
    {
     "name": "stderr",
     "output_type": "stream",
     "text": [
      "24-04-26 21:24:14 [INFO] Step 6: Inference done\n",
      "24-04-26 21:24:14 [DEBUG] Training Time: 288.09s\n",
      "24-04-26 21:24:14 [DEBUG] Epochs: 69\n",
      "24-04-26 21:24:14 [DEBUG] Min Loss: 0.033\n"
     ]
    },
    {
     "data": {
      "application/vnd.plotly.v1+json": {
       "config": {
        "plotlyServerURL": "https://plot.ly"
       },
       "data": [
        {
         "hovertemplate": "variable=0<br>index=%{x}<br>value=%{y}<extra></extra>",
         "legendgroup": "0",
         "line": {
          "color": "#636efa",
          "dash": "solid"
         },
         "marker": {
          "symbol": "circle"
         },
         "mode": "lines+markers",
         "name": "0",
         "orientation": "v",
         "showlegend": true,
         "type": "scatter",
         "x": [
          0,
          1,
          2,
          3,
          4,
          5,
          6,
          7,
          8,
          9,
          10,
          11,
          12,
          13,
          14,
          15,
          16,
          17,
          18,
          19,
          20,
          21,
          22,
          23,
          24,
          25,
          26,
          27,
          28,
          29,
          30,
          31,
          32,
          33,
          34,
          35,
          36,
          37,
          38,
          39,
          40,
          41,
          42,
          43,
          44,
          45,
          46,
          47,
          48,
          49,
          50,
          51,
          52,
          53,
          54,
          55,
          56,
          57,
          58,
          59,
          60,
          61,
          62,
          63,
          64,
          65,
          66,
          67,
          68
         ],
         "xaxis": "x",
         "y": [
          0.5446465015411377,
          0.5444968342781067,
          0.5442922115325928,
          0.5440161228179932,
          0.5436485409736633,
          0.5431652665138245,
          0.5425379872322083,
          0.5417331457138062,
          0.5407110452651978,
          0.5394283533096313,
          0.5378372669219971,
          0.5358854532241821,
          0.53351229429245,
          0.5306451916694641,
          0.5272052884101868,
          0.5231360793113708,
          0.5184141993522644,
          0.5130469799041748,
          0.5070610046386719,
          0.5004796385765076,
          0.4932951331138611,
          0.4854508638381958,
          0.47684577107429504,
          0.46734991669654846,
          0.45687898993492126,
          0.4452519416809082,
          0.432316392660141,
          0.4179378151893616,
          0.401996910572052,
          0.3844147026538849,
          0.36519157886505127,
          0.34444108605384827,
          0.3224025070667267,
          0.29941654205322266,
          0.2759236693382263,
          0.25235530734062195,
          0.22900241613388062,
          0.20619405806064606,
          0.18422167003154755,
          0.16337065398693085,
          0.14390821754932404,
          0.1260989010334015,
          0.11020652204751968,
          0.09645987302064896,
          0.08498013019561768,
          0.07575985789299011,
          0.06860601902008057,
          0.06319132447242737,
          0.05918174237012863,
          0.05624997988343239,
          0.05410798639059067,
          0.05252152308821678,
          0.051309917122125626,
          0.05033816024661064,
          0.04950609430670738,
          0.04874100163578987,
          0.04798830300569534,
          0.04720624163746834,
          0.04636061564087868,
          0.045421261340379715,
          0.04435710236430168,
          0.043137360364198685,
          0.04173007607460022,
          0.040100857615470886,
          0.03821343183517456,
          0.03601863235235214,
          0.03324029967188835,
          0.030904512852430344,
          0.03307764604687691
         ],
         "yaxis": "y"
        }
       ],
       "layout": {
        "legend": {
         "title": {
          "text": "variable"
         },
         "tracegroupgap": 0
        },
        "template": {
         "data": {
          "bar": [
           {
            "error_x": {
             "color": "#2a3f5f"
            },
            "error_y": {
             "color": "#2a3f5f"
            },
            "marker": {
             "line": {
              "color": "#E5ECF6",
              "width": 0.5
             },
             "pattern": {
              "fillmode": "overlay",
              "size": 10,
              "solidity": 0.2
             }
            },
            "type": "bar"
           }
          ],
          "barpolar": [
           {
            "marker": {
             "line": {
              "color": "#E5ECF6",
              "width": 0.5
             },
             "pattern": {
              "fillmode": "overlay",
              "size": 10,
              "solidity": 0.2
             }
            },
            "type": "barpolar"
           }
          ],
          "carpet": [
           {
            "aaxis": {
             "endlinecolor": "#2a3f5f",
             "gridcolor": "white",
             "linecolor": "white",
             "minorgridcolor": "white",
             "startlinecolor": "#2a3f5f"
            },
            "baxis": {
             "endlinecolor": "#2a3f5f",
             "gridcolor": "white",
             "linecolor": "white",
             "minorgridcolor": "white",
             "startlinecolor": "#2a3f5f"
            },
            "type": "carpet"
           }
          ],
          "choropleth": [
           {
            "colorbar": {
             "outlinewidth": 0,
             "ticks": ""
            },
            "type": "choropleth"
           }
          ],
          "contour": [
           {
            "colorbar": {
             "outlinewidth": 0,
             "ticks": ""
            },
            "colorscale": [
             [
              0,
              "#0d0887"
             ],
             [
              0.1111111111111111,
              "#46039f"
             ],
             [
              0.2222222222222222,
              "#7201a8"
             ],
             [
              0.3333333333333333,
              "#9c179e"
             ],
             [
              0.4444444444444444,
              "#bd3786"
             ],
             [
              0.5555555555555556,
              "#d8576b"
             ],
             [
              0.6666666666666666,
              "#ed7953"
             ],
             [
              0.7777777777777778,
              "#fb9f3a"
             ],
             [
              0.8888888888888888,
              "#fdca26"
             ],
             [
              1,
              "#f0f921"
             ]
            ],
            "type": "contour"
           }
          ],
          "contourcarpet": [
           {
            "colorbar": {
             "outlinewidth": 0,
             "ticks": ""
            },
            "type": "contourcarpet"
           }
          ],
          "heatmap": [
           {
            "colorbar": {
             "outlinewidth": 0,
             "ticks": ""
            },
            "colorscale": [
             [
              0,
              "#0d0887"
             ],
             [
              0.1111111111111111,
              "#46039f"
             ],
             [
              0.2222222222222222,
              "#7201a8"
             ],
             [
              0.3333333333333333,
              "#9c179e"
             ],
             [
              0.4444444444444444,
              "#bd3786"
             ],
             [
              0.5555555555555556,
              "#d8576b"
             ],
             [
              0.6666666666666666,
              "#ed7953"
             ],
             [
              0.7777777777777778,
              "#fb9f3a"
             ],
             [
              0.8888888888888888,
              "#fdca26"
             ],
             [
              1,
              "#f0f921"
             ]
            ],
            "type": "heatmap"
           }
          ],
          "heatmapgl": [
           {
            "colorbar": {
             "outlinewidth": 0,
             "ticks": ""
            },
            "colorscale": [
             [
              0,
              "#0d0887"
             ],
             [
              0.1111111111111111,
              "#46039f"
             ],
             [
              0.2222222222222222,
              "#7201a8"
             ],
             [
              0.3333333333333333,
              "#9c179e"
             ],
             [
              0.4444444444444444,
              "#bd3786"
             ],
             [
              0.5555555555555556,
              "#d8576b"
             ],
             [
              0.6666666666666666,
              "#ed7953"
             ],
             [
              0.7777777777777778,
              "#fb9f3a"
             ],
             [
              0.8888888888888888,
              "#fdca26"
             ],
             [
              1,
              "#f0f921"
             ]
            ],
            "type": "heatmapgl"
           }
          ],
          "histogram": [
           {
            "marker": {
             "pattern": {
              "fillmode": "overlay",
              "size": 10,
              "solidity": 0.2
             }
            },
            "type": "histogram"
           }
          ],
          "histogram2d": [
           {
            "colorbar": {
             "outlinewidth": 0,
             "ticks": ""
            },
            "colorscale": [
             [
              0,
              "#0d0887"
             ],
             [
              0.1111111111111111,
              "#46039f"
             ],
             [
              0.2222222222222222,
              "#7201a8"
             ],
             [
              0.3333333333333333,
              "#9c179e"
             ],
             [
              0.4444444444444444,
              "#bd3786"
             ],
             [
              0.5555555555555556,
              "#d8576b"
             ],
             [
              0.6666666666666666,
              "#ed7953"
             ],
             [
              0.7777777777777778,
              "#fb9f3a"
             ],
             [
              0.8888888888888888,
              "#fdca26"
             ],
             [
              1,
              "#f0f921"
             ]
            ],
            "type": "histogram2d"
           }
          ],
          "histogram2dcontour": [
           {
            "colorbar": {
             "outlinewidth": 0,
             "ticks": ""
            },
            "colorscale": [
             [
              0,
              "#0d0887"
             ],
             [
              0.1111111111111111,
              "#46039f"
             ],
             [
              0.2222222222222222,
              "#7201a8"
             ],
             [
              0.3333333333333333,
              "#9c179e"
             ],
             [
              0.4444444444444444,
              "#bd3786"
             ],
             [
              0.5555555555555556,
              "#d8576b"
             ],
             [
              0.6666666666666666,
              "#ed7953"
             ],
             [
              0.7777777777777778,
              "#fb9f3a"
             ],
             [
              0.8888888888888888,
              "#fdca26"
             ],
             [
              1,
              "#f0f921"
             ]
            ],
            "type": "histogram2dcontour"
           }
          ],
          "mesh3d": [
           {
            "colorbar": {
             "outlinewidth": 0,
             "ticks": ""
            },
            "type": "mesh3d"
           }
          ],
          "parcoords": [
           {
            "line": {
             "colorbar": {
              "outlinewidth": 0,
              "ticks": ""
             }
            },
            "type": "parcoords"
           }
          ],
          "pie": [
           {
            "automargin": true,
            "type": "pie"
           }
          ],
          "scatter": [
           {
            "fillpattern": {
             "fillmode": "overlay",
             "size": 10,
             "solidity": 0.2
            },
            "type": "scatter"
           }
          ],
          "scatter3d": [
           {
            "line": {
             "colorbar": {
              "outlinewidth": 0,
              "ticks": ""
             }
            },
            "marker": {
             "colorbar": {
              "outlinewidth": 0,
              "ticks": ""
             }
            },
            "type": "scatter3d"
           }
          ],
          "scattercarpet": [
           {
            "marker": {
             "colorbar": {
              "outlinewidth": 0,
              "ticks": ""
             }
            },
            "type": "scattercarpet"
           }
          ],
          "scattergeo": [
           {
            "marker": {
             "colorbar": {
              "outlinewidth": 0,
              "ticks": ""
             }
            },
            "type": "scattergeo"
           }
          ],
          "scattergl": [
           {
            "marker": {
             "colorbar": {
              "outlinewidth": 0,
              "ticks": ""
             }
            },
            "type": "scattergl"
           }
          ],
          "scattermapbox": [
           {
            "marker": {
             "colorbar": {
              "outlinewidth": 0,
              "ticks": ""
             }
            },
            "type": "scattermapbox"
           }
          ],
          "scatterpolar": [
           {
            "marker": {
             "colorbar": {
              "outlinewidth": 0,
              "ticks": ""
             }
            },
            "type": "scatterpolar"
           }
          ],
          "scatterpolargl": [
           {
            "marker": {
             "colorbar": {
              "outlinewidth": 0,
              "ticks": ""
             }
            },
            "type": "scatterpolargl"
           }
          ],
          "scatterternary": [
           {
            "marker": {
             "colorbar": {
              "outlinewidth": 0,
              "ticks": ""
             }
            },
            "type": "scatterternary"
           }
          ],
          "surface": [
           {
            "colorbar": {
             "outlinewidth": 0,
             "ticks": ""
            },
            "colorscale": [
             [
              0,
              "#0d0887"
             ],
             [
              0.1111111111111111,
              "#46039f"
             ],
             [
              0.2222222222222222,
              "#7201a8"
             ],
             [
              0.3333333333333333,
              "#9c179e"
             ],
             [
              0.4444444444444444,
              "#bd3786"
             ],
             [
              0.5555555555555556,
              "#d8576b"
             ],
             [
              0.6666666666666666,
              "#ed7953"
             ],
             [
              0.7777777777777778,
              "#fb9f3a"
             ],
             [
              0.8888888888888888,
              "#fdca26"
             ],
             [
              1,
              "#f0f921"
             ]
            ],
            "type": "surface"
           }
          ],
          "table": [
           {
            "cells": {
             "fill": {
              "color": "#EBF0F8"
             },
             "line": {
              "color": "white"
             }
            },
            "header": {
             "fill": {
              "color": "#C8D4E3"
             },
             "line": {
              "color": "white"
             }
            },
            "type": "table"
           }
          ]
         },
         "layout": {
          "annotationdefaults": {
           "arrowcolor": "#2a3f5f",
           "arrowhead": 0,
           "arrowwidth": 1
          },
          "autotypenumbers": "strict",
          "coloraxis": {
           "colorbar": {
            "outlinewidth": 0,
            "ticks": ""
           }
          },
          "colorscale": {
           "diverging": [
            [
             0,
             "#8e0152"
            ],
            [
             0.1,
             "#c51b7d"
            ],
            [
             0.2,
             "#de77ae"
            ],
            [
             0.3,
             "#f1b6da"
            ],
            [
             0.4,
             "#fde0ef"
            ],
            [
             0.5,
             "#f7f7f7"
            ],
            [
             0.6,
             "#e6f5d0"
            ],
            [
             0.7,
             "#b8e186"
            ],
            [
             0.8,
             "#7fbc41"
            ],
            [
             0.9,
             "#4d9221"
            ],
            [
             1,
             "#276419"
            ]
           ],
           "sequential": [
            [
             0,
             "#0d0887"
            ],
            [
             0.1111111111111111,
             "#46039f"
            ],
            [
             0.2222222222222222,
             "#7201a8"
            ],
            [
             0.3333333333333333,
             "#9c179e"
            ],
            [
             0.4444444444444444,
             "#bd3786"
            ],
            [
             0.5555555555555556,
             "#d8576b"
            ],
            [
             0.6666666666666666,
             "#ed7953"
            ],
            [
             0.7777777777777778,
             "#fb9f3a"
            ],
            [
             0.8888888888888888,
             "#fdca26"
            ],
            [
             1,
             "#f0f921"
            ]
           ],
           "sequentialminus": [
            [
             0,
             "#0d0887"
            ],
            [
             0.1111111111111111,
             "#46039f"
            ],
            [
             0.2222222222222222,
             "#7201a8"
            ],
            [
             0.3333333333333333,
             "#9c179e"
            ],
            [
             0.4444444444444444,
             "#bd3786"
            ],
            [
             0.5555555555555556,
             "#d8576b"
            ],
            [
             0.6666666666666666,
             "#ed7953"
            ],
            [
             0.7777777777777778,
             "#fb9f3a"
            ],
            [
             0.8888888888888888,
             "#fdca26"
            ],
            [
             1,
             "#f0f921"
            ]
           ]
          },
          "colorway": [
           "#636efa",
           "#EF553B",
           "#00cc96",
           "#ab63fa",
           "#FFA15A",
           "#19d3f3",
           "#FF6692",
           "#B6E880",
           "#FF97FF",
           "#FECB52"
          ],
          "font": {
           "color": "#2a3f5f"
          },
          "geo": {
           "bgcolor": "white",
           "lakecolor": "white",
           "landcolor": "#E5ECF6",
           "showlakes": true,
           "showland": true,
           "subunitcolor": "white"
          },
          "hoverlabel": {
           "align": "left"
          },
          "hovermode": "closest",
          "mapbox": {
           "style": "light"
          },
          "paper_bgcolor": "white",
          "plot_bgcolor": "#E5ECF6",
          "polar": {
           "angularaxis": {
            "gridcolor": "white",
            "linecolor": "white",
            "ticks": ""
           },
           "bgcolor": "#E5ECF6",
           "radialaxis": {
            "gridcolor": "white",
            "linecolor": "white",
            "ticks": ""
           }
          },
          "scene": {
           "xaxis": {
            "backgroundcolor": "#E5ECF6",
            "gridcolor": "white",
            "gridwidth": 2,
            "linecolor": "white",
            "showbackground": true,
            "ticks": "",
            "zerolinecolor": "white"
           },
           "yaxis": {
            "backgroundcolor": "#E5ECF6",
            "gridcolor": "white",
            "gridwidth": 2,
            "linecolor": "white",
            "showbackground": true,
            "ticks": "",
            "zerolinecolor": "white"
           },
           "zaxis": {
            "backgroundcolor": "#E5ECF6",
            "gridcolor": "white",
            "gridwidth": 2,
            "linecolor": "white",
            "showbackground": true,
            "ticks": "",
            "zerolinecolor": "white"
           }
          },
          "shapedefaults": {
           "line": {
            "color": "#2a3f5f"
           }
          },
          "ternary": {
           "aaxis": {
            "gridcolor": "white",
            "linecolor": "white",
            "ticks": ""
           },
           "baxis": {
            "gridcolor": "white",
            "linecolor": "white",
            "ticks": ""
           },
           "bgcolor": "#E5ECF6",
           "caxis": {
            "gridcolor": "white",
            "linecolor": "white",
            "ticks": ""
           }
          },
          "title": {
           "x": 0.05
          },
          "xaxis": {
           "automargin": true,
           "gridcolor": "white",
           "linecolor": "white",
           "ticks": "",
           "title": {
            "standoff": 15
           },
           "zerolinecolor": "white",
           "zerolinewidth": 2
          },
          "yaxis": {
           "automargin": true,
           "gridcolor": "white",
           "linecolor": "white",
           "ticks": "",
           "title": {
            "standoff": 15
           },
           "zerolinecolor": "white",
           "zerolinewidth": 2
          }
         }
        },
        "title": {
         "text": "Loss over epochs (dataset=Brain Tumor, breaks=3, add_mult_rules=False, maf_method=kmeans)"
        },
        "xaxis": {
         "anchor": "y",
         "domain": [
          0,
          1
         ],
         "title": {
          "text": "index"
         }
        },
        "yaxis": {
         "anchor": "x",
         "domain": [
          0,
          1
         ],
         "title": {
          "text": "value"
         }
        }
       }
      }
     },
     "metadata": {},
     "output_type": "display_data"
    },
    {
     "name": "stderr",
     "output_type": "stream",
     "text": [
      "24-04-26 21:24:14 [DEBUG] Accuracy:  0.98\n",
      "24-04-26 21:24:14 [DEBUG] F1 Score: 0.97\n",
      "24-04-26 21:24:14 [DEBUG] Confusion Matrix: \n",
      "[[635   9]\n",
      " [ 19 466]]\n",
      "24-04-26 21:24:14 [INFO] ------------------------------\n",
      "24-04-26 21:24:14 [INFO] Step 5: Run DST (dataset=Brain Tumor, breaks=3, add_mult_rules=False, maf_method=random)\n",
      "24-04-26 21:24:14 [DEBUG] \tModel init done\n"
     ]
    },
    {
     "name": "stdout",
     "output_type": "stream",
     "text": [
      "Optimization started\n",
      "Processing epoch\t136\t0.0266\t"
     ]
    },
    {
     "name": "stderr",
     "output_type": "stream",
     "text": [
      "24-04-26 21:30:49 [DEBUG] \tModel fit done\n"
     ]
    },
    {
     "name": "stdout",
     "output_type": "stream",
     "text": [
      "\n",
      "Training time: 394.81s, epochs: 137\n",
      "\n",
      "Least training loss reached: 0.026\n",
      "DSModelMultiQ(\n",
      "  DS Classifier using 49 rules\n",
      "  \n",
      "  Rule 1: Mean < 5.696\n",
      "  \tC1: 0.000\tC2: 0.300\tUnc: 0.700\n",
      "  \n",
      "  Rule 2: 5.696 < Mean < 9.586\n",
      "  \tC1: 0.000\tC2: 0.278\tUnc: 0.722\n",
      "  \n",
      "  Rule 3: 9.586 < Mean < 13.475\n",
      "  \tC1: 0.109\tC2: 0.079\tUnc: 0.812\n",
      "  \n",
      "  Rule 4: Mean > 13.475\n",
      "  \tC1: 0.320\tC2: 0.000\tUnc: 0.680\n",
      "  \n",
      "  Rule 5: Variance < 400.038\n",
      "  \tC1: 0.289\tC2: 0.000\tUnc: 0.711\n",
      "  \n",
      "  Rule 6: 400.038 < Variance < 718.473\n",
      "  \tC1: 0.176\tC2: 0.019\tUnc: 0.805\n",
      "  \n",
      "  Rule 7: 718.473 < Variance < 1036.907\n",
      "  \tC1: 0.125\tC2: 0.061\tUnc: 0.814\n",
      "  \n",
      "  Rule 8: Variance > 1036.907\n",
      "  \tC1: 0.000\tC2: 0.307\tUnc: 0.693\n",
      "  \n",
      "  Rule 9: Standard Deviation < 19.398\n",
      "  \tC1: 0.288\tC2: 0.000\tUnc: 0.712\n",
      "  \n",
      "  Rule 10: 19.398 < Standard Deviation < 25.324\n",
      "  \tC1: 0.296\tC2: 0.000\tUnc: 0.704\n",
      "  \n",
      "  Rule 11: 25.324 < Standard Deviation < 31.249\n",
      "  \tC1: 0.083\tC2: 0.104\tUnc: 0.813\n",
      "  \n",
      "  Rule 12: Standard Deviation > 31.249\n",
      "  \tC1: 0.000\tC2: 0.339\tUnc: 0.661\n",
      "  \n",
      "  Rule 13: Entropy < 0.026\n",
      "  \tC1: 0.000\tC2: 0.375\tUnc: 0.625\n",
      "  \n",
      "  Rule 14: 0.026 < Entropy < 0.073\n",
      "  \tC1: 0.000\tC2: 0.240\tUnc: 0.760\n",
      "  \n",
      "  Rule 15: 0.073 < Entropy < 0.121\n",
      "  \tC1: 0.476\tC2: 0.000\tUnc: 0.524\n",
      "  \n",
      "  Rule 16: Entropy > 0.121\n",
      "  \tC1: 0.455\tC2: 0.000\tUnc: 0.545\n",
      "  \n",
      "  Rule 17: Skewness < 2.339\n",
      "  \tC1: 0.522\tC2: 0.000\tUnc: 0.478\n",
      "  \n",
      "  Rule 18: 2.339 < Skewness < 4.097\n",
      "  \tC1: 0.096\tC2: 0.070\tUnc: 0.834\n",
      "  \n",
      "  Rule 19: 4.097 < Skewness < 5.854\n",
      "  \tC1: 0.000\tC2: 0.276\tUnc: 0.724\n",
      "  \n",
      "  Rule 20: Skewness > 5.854\n",
      "  \tC1: 0.000\tC2: 0.315\tUnc: 0.685\n",
      "  \n",
      "  Rule 21: Kurtosis < -15.863\n",
      "  \tC1: 0.104\tC2: 0.096\tUnc: 0.800\n",
      "  \n",
      "  Rule 22: -15.863 < Kurtosis < 24.581\n",
      "  \tC1: 0.303\tC2: 0.000\tUnc: 0.697\n",
      "  \n",
      "  Rule 23: 24.581 < Kurtosis < 65.024\n",
      "  \tC1: 0.000\tC2: 0.311\tUnc: 0.689\n",
      "  \n",
      "  Rule 24: Kurtosis > 65.024\n",
      "  \tC1: 0.000\tC2: 0.461\tUnc: 0.539\n",
      "  \n",
      "  Rule 25: Contrast < 48.638\n",
      "  \tC1: 0.000\tC2: 0.280\tUnc: 0.720\n",
      "  \n",
      "  Rule 26: 48.638 < Contrast < 130.232\n",
      "  \tC1: 0.005\tC2: 0.188\tUnc: 0.807\n",
      "  \n",
      "  Rule 27: 130.232 < Contrast < 211.826\n",
      "  \tC1: 0.086\tC2: 0.093\tUnc: 0.822\n",
      "  \n",
      "  Rule 28: Contrast > 211.826\n",
      "  \tC1: 0.104\tC2: 0.099\tUnc: 0.797\n",
      "  \n",
      "  Rule 29: Energy < 0.117\n",
      "  \tC1: 0.000\tC2: 0.350\tUnc: 0.650\n",
      "  \n",
      "  Rule 30: 0.117 < Energy < 0.204\n",
      "  \tC1: 0.000\tC2: 0.533\tUnc: 0.467\n",
      "  \n",
      "  Rule 31: 0.204 < Energy < 0.292\n",
      "  \tC1: 0.463\tC2: 0.000\tUnc: 0.537\n",
      "  \n",
      "  Rule 32: Energy > 0.292\n",
      "  \tC1: 0.398\tC2: 0.000\tUnc: 0.602\n",
      "  \n",
      "  Rule 33: ASM < 0.019\n",
      "  \tC1: 0.000\tC2: 0.333\tUnc: 0.667\n",
      "  \n",
      "  Rule 34: 0.019 < ASM < 0.058\n",
      "  \tC1: 0.130\tC2: 0.056\tUnc: 0.814\n",
      "  \n",
      "  Rule 35: 0.058 < ASM < 0.098\n",
      "  \tC1: 0.308\tC2: 0.000\tUnc: 0.692\n",
      "  \n",
      "  Rule 36: ASM > 0.098\n",
      "  \tC1: 0.327\tC2: 0.000\tUnc: 0.673\n",
      "  \n",
      "  Rule 37: Homogeneity < 0.393\n",
      "  \tC1: 0.000\tC2: 0.369\tUnc: 0.631\n",
      "  \n",
      "  Rule 38: 0.393 < Homogeneity < 0.479\n",
      "  \tC1: 0.000\tC2: 0.492\tUnc: 0.508\n",
      "  \n",
      "  Rule 39: 0.479 < Homogeneity < 0.565\n",
      "  \tC1: 0.336\tC2: 0.000\tUnc: 0.664\n",
      "  \n",
      "  Rule 40: Homogeneity > 0.565\n",
      "  \tC1: 0.422\tC2: 0.000\tUnc: 0.578\n",
      "  \n",
      "  Rule 41: Dissimilarity < 3.433\n",
      "  \tC1: 0.259\tC2: 0.001\tUnc: 0.740\n",
      "  \n",
      "  Rule 42: 3.433 < Dissimilarity < 4.715\n",
      "  \tC1: 0.225\tC2: 0.000\tUnc: 0.775\n",
      "  \n",
      "  Rule 43: 4.715 < Dissimilarity < 5.998\n",
      "  \tC1: 0.017\tC2: 0.208\tUnc: 0.774\n",
      "  \n",
      "  Rule 44: Dissimilarity > 5.998\n",
      "  \tC1: 0.000\tC2: 0.326\tUnc: 0.674\n",
      "  \n",
      "  Rule 45: Correlation < 0.938\n",
      "  \tC1: 0.152\tC2: 0.021\tUnc: 0.827\n",
      "  \n",
      "  Rule 46: 0.938 < Correlation < 0.956\n",
      "  \tC1: 0.069\tC2: 0.103\tUnc: 0.828\n",
      "  \n",
      "  Rule 47: 0.956 < Correlation < 0.973\n",
      "  \tC1: 0.000\tC2: 0.323\tUnc: 0.677\n",
      "  \n",
      "  Rule 48: Correlation > 0.973\n",
      "  \tC1: 0.048\tC2: 0.140\tUnc: 0.811\n",
      "  \n",
      "  Rule 49: Coarseness = 7.46e-155\n",
      "  \tC1: 0.150\tC2: 0.050\tUnc: 0.800\n",
      ")\n",
      "\n",
      "\n",
      "Most important rules for class 0\n",
      "\n",
      "\t[0.522] R16: Skewness < 2.339\n",
      "\t\t\t0: 0.522\t1: 0.000\tUnc: 0.478\n",
      "\n",
      "\t[0.476] R14: 0.073 < Entropy < 0.121\n",
      "\t\t\t0: 0.476\t1: 0.000\tUnc: 0.524\n",
      "\n",
      "\t[0.463] R30: 0.204 < Energy < 0.292\n",
      "\t\t\t0: 0.463\t1: 0.000\tUnc: 0.537\n",
      "\n",
      "\t[0.455] R15: Entropy > 0.121\n",
      "\t\t\t0: 0.455\t1: 0.000\tUnc: 0.545\n",
      "\n",
      "\t[0.422] R39: Homogeneity > 0.565\n",
      "\t\t\t0: 0.422\t1: 0.000\tUnc: 0.578\n",
      "\n",
      "\t[0.398] R31: Energy > 0.292\n",
      "\t\t\t0: 0.398\t1: 0.000\tUnc: 0.602\n",
      "\n",
      "\t[0.336] R38: 0.479 < Homogeneity < 0.565\n",
      "\t\t\t0: 0.336\t1: 0.000\tUnc: 0.664\n",
      "\n",
      "\t[0.327] R35: ASM > 0.098\n",
      "\t\t\t0: 0.327\t1: 0.000\tUnc: 0.673\n",
      "\n",
      "\t[0.320] R3: Mean > 13.475\n",
      "\t\t\t0: 0.320\t1: 0.000\tUnc: 0.680\n",
      "\n",
      "\t[0.308] R34: 0.058 < ASM < 0.098\n",
      "\t\t\t0: 0.308\t1: 0.000\tUnc: 0.692\n",
      "\n",
      "\t[0.303] R21: -15.863 < Kurtosis < 24.581\n",
      "\t\t\t0: 0.303\t1: 0.000\tUnc: 0.697\n",
      "\n",
      "\t[0.296] R9: 19.398 < Standard Deviation < 25.324\n",
      "\t\t\t0: 0.296\t1: 0.000\tUnc: 0.704\n",
      "\n",
      "\t[0.289] R4: Variance < 400.038\n",
      "\t\t\t0: 0.289\t1: 0.000\tUnc: 0.711\n",
      "\n",
      "\t[0.288] R8: Standard Deviation < 19.398\n",
      "\t\t\t0: 0.288\t1: 0.000\tUnc: 0.712\n",
      "\n",
      "\t[0.260] R40: Dissimilarity < 3.433\n",
      "\t\t\t0: 0.259\t1: 0.001\tUnc: 0.740\n",
      "\n",
      "\t[0.225] R41: 3.433 < Dissimilarity < 4.715\n",
      "\t\t\t0: 0.225\t1: 0.000\tUnc: 0.775\n",
      "\n",
      "Most important rules for class 1\n",
      "\n",
      "\t[0.533] R29: 0.117 < Energy < 0.204\n",
      "\t\t\t0: 0.000\t1: 0.533\tUnc: 0.467\n",
      "\n",
      "\t[0.492] R37: 0.393 < Homogeneity < 0.479\n",
      "\t\t\t0: 0.000\t1: 0.492\tUnc: 0.508\n",
      "\n",
      "\t[0.461] R23: Kurtosis > 65.024\n",
      "\t\t\t0: 0.000\t1: 0.461\tUnc: 0.539\n",
      "\n",
      "\t[0.375] R12: Entropy < 0.026\n",
      "\t\t\t0: 0.000\t1: 0.375\tUnc: 0.625\n",
      "\n",
      "\t[0.369] R36: Homogeneity < 0.393\n",
      "\t\t\t0: 0.000\t1: 0.369\tUnc: 0.631\n",
      "\n",
      "\t[0.350] R28: Energy < 0.117\n",
      "\t\t\t0: 0.000\t1: 0.350\tUnc: 0.650\n",
      "\n",
      "\t[0.339] R11: Standard Deviation > 31.249\n",
      "\t\t\t0: 0.000\t1: 0.339\tUnc: 0.661\n",
      "\n",
      "\t[0.333] R32: ASM < 0.019\n",
      "\t\t\t0: 0.000\t1: 0.333\tUnc: 0.667\n",
      "\n",
      "\t[0.326] R43: Dissimilarity > 5.998\n",
      "\t\t\t0: 0.000\t1: 0.326\tUnc: 0.674\n",
      "\n",
      "\t[0.323] R46: 0.956 < Correlation < 0.973\n",
      "\t\t\t0: 0.000\t1: 0.323\tUnc: 0.677\n",
      "\n",
      "\t[0.315] R19: Skewness > 5.854\n",
      "\t\t\t0: 0.000\t1: 0.315\tUnc: 0.685\n",
      "\n",
      "\t[0.311] R22: 24.581 < Kurtosis < 65.024\n",
      "\t\t\t0: 0.000\t1: 0.311\tUnc: 0.689\n",
      "\n",
      "\t[0.307] R7: Variance > 1036.907\n",
      "\t\t\t0: 0.000\t1: 0.307\tUnc: 0.693\n",
      "\n",
      "\t[0.300] R0: Mean < 5.696\n",
      "\t\t\t0: 0.000\t1: 0.300\tUnc: 0.700\n",
      "\n",
      "\t[0.280] R24: Contrast < 48.638\n",
      "\t\t\t0: 0.000\t1: 0.280\tUnc: 0.720\n",
      "\n",
      "\t[0.278] R1: 5.696 < Mean < 9.586\n",
      "\t\t\t0: 0.000\t1: 0.278\tUnc: 0.722\n",
      "\n",
      "\t[0.276] R18: 4.097 < Skewness < 5.854\n",
      "\t\t\t0: 0.000\t1: 0.276\tUnc: 0.724\n",
      "\n",
      "\t[0.240] R13: 0.026 < Entropy < 0.073\n",
      "\t\t\t0: 0.000\t1: 0.240\tUnc: 0.760\n",
      "\n",
      "\t[0.217] R42: 4.715 < Dissimilarity < 5.998\n",
      "\t\t\t0: 0.017\t1: 0.208\tUnc: 0.774\n"
     ]
    },
    {
     "name": "stderr",
     "output_type": "stream",
     "text": [
      "24-04-26 21:30:50 [INFO] Step 6: Inference done\n",
      "24-04-26 21:30:50 [DEBUG] Training Time: 394.81s\n",
      "24-04-26 21:30:50 [DEBUG] Epochs: 137\n",
      "24-04-26 21:30:50 [DEBUG] Min Loss: 0.026\n"
     ]
    },
    {
     "data": {
      "application/vnd.plotly.v1+json": {
       "config": {
        "plotlyServerURL": "https://plot.ly"
       },
       "data": [
        {
         "hovertemplate": "variable=0<br>index=%{x}<br>value=%{y}<extra></extra>",
         "legendgroup": "0",
         "line": {
          "color": "#636efa",
          "dash": "solid"
         },
         "marker": {
          "symbol": "circle"
         },
         "mode": "lines+markers",
         "name": "0",
         "orientation": "v",
         "showlegend": true,
         "type": "scatter",
         "x": [
          0,
          1,
          2,
          3,
          4,
          5,
          6,
          7,
          8,
          9,
          10,
          11,
          12,
          13,
          14,
          15,
          16,
          17,
          18,
          19,
          20,
          21,
          22,
          23,
          24,
          25,
          26,
          27,
          28,
          29,
          30,
          31,
          32,
          33,
          34,
          35,
          36,
          37,
          38,
          39,
          40,
          41,
          42,
          43,
          44,
          45,
          46,
          47,
          48,
          49,
          50,
          51,
          52,
          53,
          54,
          55,
          56,
          57,
          58,
          59,
          60,
          61,
          62,
          63,
          64,
          65,
          66,
          67,
          68,
          69,
          70,
          71,
          72,
          73,
          74,
          75,
          76,
          77,
          78,
          79,
          80,
          81,
          82,
          83,
          84,
          85,
          86,
          87,
          88,
          89,
          90,
          91,
          92,
          93,
          94,
          95,
          96,
          97,
          98,
          99,
          100,
          101,
          102,
          103,
          104,
          105,
          106,
          107,
          108,
          109,
          110,
          111,
          112,
          113,
          114,
          115,
          116,
          117,
          118,
          119,
          120,
          121,
          122,
          123,
          124,
          125,
          126,
          127,
          128,
          129,
          130,
          131,
          132,
          133,
          134,
          135,
          136
         ],
         "xaxis": "x",
         "y": [
          0.26618871092796326,
          0.24906869232654572,
          0.23306022584438324,
          0.21819593012332916,
          0.2044607549905777,
          0.19178669154644012,
          0.1801394522190094,
          0.16945932805538177,
          0.15961429476737976,
          0.15048211812973022,
          0.14198929071426392,
          0.13407766819000244,
          0.12672169506549835,
          0.11995039880275726,
          0.11377722769975662,
          0.10820344090461731,
          0.10310333967208862,
          0.09853174537420273,
          0.09444744139909744,
          0.09069988876581192,
          0.08724278211593628,
          0.08408435434103012,
          0.08127059787511826,
          0.07863333076238632,
          0.07614917308092117,
          0.07387848943471909,
          0.07181022316217422,
          0.06993328779935837,
          0.06815581023693085,
          0.06647079437971115,
          0.06494572758674622,
          0.06355560570955276,
          0.0622330941259861,
          0.06097500026226044,
          0.05977841839194298,
          0.058656394481658936,
          0.0576484352350235,
          0.056682512164115906,
          0.055755242705345154,
          0.05486355721950531,
          0.05400487035512924,
          0.05318426713347435,
          0.05243901163339615,
          0.051722630858421326,
          0.051029354333877563,
          0.05035838484764099,
          0.04970947280526161,
          0.04908226802945137,
          0.04847706854343414,
          0.04789101704955101,
          0.04732273519039154,
          0.046771224588155746,
          0.04623553156852722,
          0.04571475088596344,
          0.04520803689956665,
          0.04471462219953537,
          0.044233862310647964,
          0.04376520216464996,
          0.043308187276124954,
          0.0428624227643013,
          0.04242757707834244,
          0.042003363370895386,
          0.04158952087163925,
          0.04118579998612404,
          0.04079192876815796,
          0.04040763899683952,
          0.04003264755010605,
          0.03966664895415306,
          0.03930935263633728,
          0.03896044194698334,
          0.03861964866518974,
          0.038286663591861725,
          0.037961240857839584,
          0.03764311596751213,
          0.03733206167817116,
          0.03702786937355995,
          0.036730337888002396,
          0.036439284682273865,
          0.03615594655275345,
          0.035880036652088165,
          0.03560994938015938,
          0.035345934331417084,
          0.03508754447102547,
          0.03483448177576065,
          0.034586627036333084,
          0.034343816339969635,
          0.03410591930150986,
          0.0338728092610836,
          0.03364434465765953,
          0.03342041000723839,
          0.033200886100530624,
          0.03298564627766609,
          0.03277459368109703,
          0.032567597925662994,
          0.03236456960439682,
          0.03216540440917015,
          0.03196999803185463,
          0.03177826106548309,
          0.03159010037779808,
          0.03140542283654213,
          0.031224140897393227,
          0.031046181917190552,
          0.030871450901031494,
          0.030699878931045532,
          0.0305313877761364,
          0.030365899205207825,
          0.03020334243774414,
          0.030043642967939377,
          0.029886741191148758,
          0.02973257377743721,
          0.029581066220998764,
          0.029432158917188644,
          0.029285797849297523,
          0.02914191409945488,
          0.029000453650951385,
          0.02886136807501316,
          0.028724592179059982,
          0.02859007939696312,
          0.028457777574658394,
          0.028327638283371925,
          0.028199613094329834,
          0.02807365357875824,
          0.027949709445238113,
          0.02782774344086647,
          0.027707703411579132,
          0.027589553967118263,
          0.027473246678709984,
          0.027358753606677055,
          0.02724602445960045,
          0.027135027572512627,
          0.027025723829865456,
          0.0269180741161108,
          0.026812048628926277,
          0.0267076063901186,
          0.02660471573472023,
          0.02650335244834423,
          0.026403477415442467
         ],
         "yaxis": "y"
        }
       ],
       "layout": {
        "legend": {
         "title": {
          "text": "variable"
         },
         "tracegroupgap": 0
        },
        "template": {
         "data": {
          "bar": [
           {
            "error_x": {
             "color": "#2a3f5f"
            },
            "error_y": {
             "color": "#2a3f5f"
            },
            "marker": {
             "line": {
              "color": "#E5ECF6",
              "width": 0.5
             },
             "pattern": {
              "fillmode": "overlay",
              "size": 10,
              "solidity": 0.2
             }
            },
            "type": "bar"
           }
          ],
          "barpolar": [
           {
            "marker": {
             "line": {
              "color": "#E5ECF6",
              "width": 0.5
             },
             "pattern": {
              "fillmode": "overlay",
              "size": 10,
              "solidity": 0.2
             }
            },
            "type": "barpolar"
           }
          ],
          "carpet": [
           {
            "aaxis": {
             "endlinecolor": "#2a3f5f",
             "gridcolor": "white",
             "linecolor": "white",
             "minorgridcolor": "white",
             "startlinecolor": "#2a3f5f"
            },
            "baxis": {
             "endlinecolor": "#2a3f5f",
             "gridcolor": "white",
             "linecolor": "white",
             "minorgridcolor": "white",
             "startlinecolor": "#2a3f5f"
            },
            "type": "carpet"
           }
          ],
          "choropleth": [
           {
            "colorbar": {
             "outlinewidth": 0,
             "ticks": ""
            },
            "type": "choropleth"
           }
          ],
          "contour": [
           {
            "colorbar": {
             "outlinewidth": 0,
             "ticks": ""
            },
            "colorscale": [
             [
              0,
              "#0d0887"
             ],
             [
              0.1111111111111111,
              "#46039f"
             ],
             [
              0.2222222222222222,
              "#7201a8"
             ],
             [
              0.3333333333333333,
              "#9c179e"
             ],
             [
              0.4444444444444444,
              "#bd3786"
             ],
             [
              0.5555555555555556,
              "#d8576b"
             ],
             [
              0.6666666666666666,
              "#ed7953"
             ],
             [
              0.7777777777777778,
              "#fb9f3a"
             ],
             [
              0.8888888888888888,
              "#fdca26"
             ],
             [
              1,
              "#f0f921"
             ]
            ],
            "type": "contour"
           }
          ],
          "contourcarpet": [
           {
            "colorbar": {
             "outlinewidth": 0,
             "ticks": ""
            },
            "type": "contourcarpet"
           }
          ],
          "heatmap": [
           {
            "colorbar": {
             "outlinewidth": 0,
             "ticks": ""
            },
            "colorscale": [
             [
              0,
              "#0d0887"
             ],
             [
              0.1111111111111111,
              "#46039f"
             ],
             [
              0.2222222222222222,
              "#7201a8"
             ],
             [
              0.3333333333333333,
              "#9c179e"
             ],
             [
              0.4444444444444444,
              "#bd3786"
             ],
             [
              0.5555555555555556,
              "#d8576b"
             ],
             [
              0.6666666666666666,
              "#ed7953"
             ],
             [
              0.7777777777777778,
              "#fb9f3a"
             ],
             [
              0.8888888888888888,
              "#fdca26"
             ],
             [
              1,
              "#f0f921"
             ]
            ],
            "type": "heatmap"
           }
          ],
          "heatmapgl": [
           {
            "colorbar": {
             "outlinewidth": 0,
             "ticks": ""
            },
            "colorscale": [
             [
              0,
              "#0d0887"
             ],
             [
              0.1111111111111111,
              "#46039f"
             ],
             [
              0.2222222222222222,
              "#7201a8"
             ],
             [
              0.3333333333333333,
              "#9c179e"
             ],
             [
              0.4444444444444444,
              "#bd3786"
             ],
             [
              0.5555555555555556,
              "#d8576b"
             ],
             [
              0.6666666666666666,
              "#ed7953"
             ],
             [
              0.7777777777777778,
              "#fb9f3a"
             ],
             [
              0.8888888888888888,
              "#fdca26"
             ],
             [
              1,
              "#f0f921"
             ]
            ],
            "type": "heatmapgl"
           }
          ],
          "histogram": [
           {
            "marker": {
             "pattern": {
              "fillmode": "overlay",
              "size": 10,
              "solidity": 0.2
             }
            },
            "type": "histogram"
           }
          ],
          "histogram2d": [
           {
            "colorbar": {
             "outlinewidth": 0,
             "ticks": ""
            },
            "colorscale": [
             [
              0,
              "#0d0887"
             ],
             [
              0.1111111111111111,
              "#46039f"
             ],
             [
              0.2222222222222222,
              "#7201a8"
             ],
             [
              0.3333333333333333,
              "#9c179e"
             ],
             [
              0.4444444444444444,
              "#bd3786"
             ],
             [
              0.5555555555555556,
              "#d8576b"
             ],
             [
              0.6666666666666666,
              "#ed7953"
             ],
             [
              0.7777777777777778,
              "#fb9f3a"
             ],
             [
              0.8888888888888888,
              "#fdca26"
             ],
             [
              1,
              "#f0f921"
             ]
            ],
            "type": "histogram2d"
           }
          ],
          "histogram2dcontour": [
           {
            "colorbar": {
             "outlinewidth": 0,
             "ticks": ""
            },
            "colorscale": [
             [
              0,
              "#0d0887"
             ],
             [
              0.1111111111111111,
              "#46039f"
             ],
             [
              0.2222222222222222,
              "#7201a8"
             ],
             [
              0.3333333333333333,
              "#9c179e"
             ],
             [
              0.4444444444444444,
              "#bd3786"
             ],
             [
              0.5555555555555556,
              "#d8576b"
             ],
             [
              0.6666666666666666,
              "#ed7953"
             ],
             [
              0.7777777777777778,
              "#fb9f3a"
             ],
             [
              0.8888888888888888,
              "#fdca26"
             ],
             [
              1,
              "#f0f921"
             ]
            ],
            "type": "histogram2dcontour"
           }
          ],
          "mesh3d": [
           {
            "colorbar": {
             "outlinewidth": 0,
             "ticks": ""
            },
            "type": "mesh3d"
           }
          ],
          "parcoords": [
           {
            "line": {
             "colorbar": {
              "outlinewidth": 0,
              "ticks": ""
             }
            },
            "type": "parcoords"
           }
          ],
          "pie": [
           {
            "automargin": true,
            "type": "pie"
           }
          ],
          "scatter": [
           {
            "fillpattern": {
             "fillmode": "overlay",
             "size": 10,
             "solidity": 0.2
            },
            "type": "scatter"
           }
          ],
          "scatter3d": [
           {
            "line": {
             "colorbar": {
              "outlinewidth": 0,
              "ticks": ""
             }
            },
            "marker": {
             "colorbar": {
              "outlinewidth": 0,
              "ticks": ""
             }
            },
            "type": "scatter3d"
           }
          ],
          "scattercarpet": [
           {
            "marker": {
             "colorbar": {
              "outlinewidth": 0,
              "ticks": ""
             }
            },
            "type": "scattercarpet"
           }
          ],
          "scattergeo": [
           {
            "marker": {
             "colorbar": {
              "outlinewidth": 0,
              "ticks": ""
             }
            },
            "type": "scattergeo"
           }
          ],
          "scattergl": [
           {
            "marker": {
             "colorbar": {
              "outlinewidth": 0,
              "ticks": ""
             }
            },
            "type": "scattergl"
           }
          ],
          "scattermapbox": [
           {
            "marker": {
             "colorbar": {
              "outlinewidth": 0,
              "ticks": ""
             }
            },
            "type": "scattermapbox"
           }
          ],
          "scatterpolar": [
           {
            "marker": {
             "colorbar": {
              "outlinewidth": 0,
              "ticks": ""
             }
            },
            "type": "scatterpolar"
           }
          ],
          "scatterpolargl": [
           {
            "marker": {
             "colorbar": {
              "outlinewidth": 0,
              "ticks": ""
             }
            },
            "type": "scatterpolargl"
           }
          ],
          "scatterternary": [
           {
            "marker": {
             "colorbar": {
              "outlinewidth": 0,
              "ticks": ""
             }
            },
            "type": "scatterternary"
           }
          ],
          "surface": [
           {
            "colorbar": {
             "outlinewidth": 0,
             "ticks": ""
            },
            "colorscale": [
             [
              0,
              "#0d0887"
             ],
             [
              0.1111111111111111,
              "#46039f"
             ],
             [
              0.2222222222222222,
              "#7201a8"
             ],
             [
              0.3333333333333333,
              "#9c179e"
             ],
             [
              0.4444444444444444,
              "#bd3786"
             ],
             [
              0.5555555555555556,
              "#d8576b"
             ],
             [
              0.6666666666666666,
              "#ed7953"
             ],
             [
              0.7777777777777778,
              "#fb9f3a"
             ],
             [
              0.8888888888888888,
              "#fdca26"
             ],
             [
              1,
              "#f0f921"
             ]
            ],
            "type": "surface"
           }
          ],
          "table": [
           {
            "cells": {
             "fill": {
              "color": "#EBF0F8"
             },
             "line": {
              "color": "white"
             }
            },
            "header": {
             "fill": {
              "color": "#C8D4E3"
             },
             "line": {
              "color": "white"
             }
            },
            "type": "table"
           }
          ]
         },
         "layout": {
          "annotationdefaults": {
           "arrowcolor": "#2a3f5f",
           "arrowhead": 0,
           "arrowwidth": 1
          },
          "autotypenumbers": "strict",
          "coloraxis": {
           "colorbar": {
            "outlinewidth": 0,
            "ticks": ""
           }
          },
          "colorscale": {
           "diverging": [
            [
             0,
             "#8e0152"
            ],
            [
             0.1,
             "#c51b7d"
            ],
            [
             0.2,
             "#de77ae"
            ],
            [
             0.3,
             "#f1b6da"
            ],
            [
             0.4,
             "#fde0ef"
            ],
            [
             0.5,
             "#f7f7f7"
            ],
            [
             0.6,
             "#e6f5d0"
            ],
            [
             0.7,
             "#b8e186"
            ],
            [
             0.8,
             "#7fbc41"
            ],
            [
             0.9,
             "#4d9221"
            ],
            [
             1,
             "#276419"
            ]
           ],
           "sequential": [
            [
             0,
             "#0d0887"
            ],
            [
             0.1111111111111111,
             "#46039f"
            ],
            [
             0.2222222222222222,
             "#7201a8"
            ],
            [
             0.3333333333333333,
             "#9c179e"
            ],
            [
             0.4444444444444444,
             "#bd3786"
            ],
            [
             0.5555555555555556,
             "#d8576b"
            ],
            [
             0.6666666666666666,
             "#ed7953"
            ],
            [
             0.7777777777777778,
             "#fb9f3a"
            ],
            [
             0.8888888888888888,
             "#fdca26"
            ],
            [
             1,
             "#f0f921"
            ]
           ],
           "sequentialminus": [
            [
             0,
             "#0d0887"
            ],
            [
             0.1111111111111111,
             "#46039f"
            ],
            [
             0.2222222222222222,
             "#7201a8"
            ],
            [
             0.3333333333333333,
             "#9c179e"
            ],
            [
             0.4444444444444444,
             "#bd3786"
            ],
            [
             0.5555555555555556,
             "#d8576b"
            ],
            [
             0.6666666666666666,
             "#ed7953"
            ],
            [
             0.7777777777777778,
             "#fb9f3a"
            ],
            [
             0.8888888888888888,
             "#fdca26"
            ],
            [
             1,
             "#f0f921"
            ]
           ]
          },
          "colorway": [
           "#636efa",
           "#EF553B",
           "#00cc96",
           "#ab63fa",
           "#FFA15A",
           "#19d3f3",
           "#FF6692",
           "#B6E880",
           "#FF97FF",
           "#FECB52"
          ],
          "font": {
           "color": "#2a3f5f"
          },
          "geo": {
           "bgcolor": "white",
           "lakecolor": "white",
           "landcolor": "#E5ECF6",
           "showlakes": true,
           "showland": true,
           "subunitcolor": "white"
          },
          "hoverlabel": {
           "align": "left"
          },
          "hovermode": "closest",
          "mapbox": {
           "style": "light"
          },
          "paper_bgcolor": "white",
          "plot_bgcolor": "#E5ECF6",
          "polar": {
           "angularaxis": {
            "gridcolor": "white",
            "linecolor": "white",
            "ticks": ""
           },
           "bgcolor": "#E5ECF6",
           "radialaxis": {
            "gridcolor": "white",
            "linecolor": "white",
            "ticks": ""
           }
          },
          "scene": {
           "xaxis": {
            "backgroundcolor": "#E5ECF6",
            "gridcolor": "white",
            "gridwidth": 2,
            "linecolor": "white",
            "showbackground": true,
            "ticks": "",
            "zerolinecolor": "white"
           },
           "yaxis": {
            "backgroundcolor": "#E5ECF6",
            "gridcolor": "white",
            "gridwidth": 2,
            "linecolor": "white",
            "showbackground": true,
            "ticks": "",
            "zerolinecolor": "white"
           },
           "zaxis": {
            "backgroundcolor": "#E5ECF6",
            "gridcolor": "white",
            "gridwidth": 2,
            "linecolor": "white",
            "showbackground": true,
            "ticks": "",
            "zerolinecolor": "white"
           }
          },
          "shapedefaults": {
           "line": {
            "color": "#2a3f5f"
           }
          },
          "ternary": {
           "aaxis": {
            "gridcolor": "white",
            "linecolor": "white",
            "ticks": ""
           },
           "baxis": {
            "gridcolor": "white",
            "linecolor": "white",
            "ticks": ""
           },
           "bgcolor": "#E5ECF6",
           "caxis": {
            "gridcolor": "white",
            "linecolor": "white",
            "ticks": ""
           }
          },
          "title": {
           "x": 0.05
          },
          "xaxis": {
           "automargin": true,
           "gridcolor": "white",
           "linecolor": "white",
           "ticks": "",
           "title": {
            "standoff": 15
           },
           "zerolinecolor": "white",
           "zerolinewidth": 2
          },
          "yaxis": {
           "automargin": true,
           "gridcolor": "white",
           "linecolor": "white",
           "ticks": "",
           "title": {
            "standoff": 15
           },
           "zerolinecolor": "white",
           "zerolinewidth": 2
          }
         }
        },
        "title": {
         "text": "Loss over epochs (dataset=Brain Tumor, breaks=3, add_mult_rules=False, maf_method=random)"
        },
        "xaxis": {
         "anchor": "y",
         "domain": [
          0,
          1
         ],
         "title": {
          "text": "index"
         }
        },
        "yaxis": {
         "anchor": "x",
         "domain": [
          0,
          1
         ],
         "title": {
          "text": "value"
         }
        }
       }
      }
     },
     "metadata": {},
     "output_type": "display_data"
    },
    {
     "name": "stderr",
     "output_type": "stream",
     "text": [
      "24-04-26 21:30:50 [DEBUG] Accuracy:  0.98\n",
      "24-04-26 21:30:50 [DEBUG] F1 Score: 0.98\n",
      "24-04-26 21:30:50 [DEBUG] Confusion Matrix: \n",
      "[[635   9]\n",
      " [ 11 474]]\n",
      "24-04-26 21:30:50 [INFO] ------------------------------\n"
     ]
    }
   ],
   "source": [
    "num_breaks = 3\n",
    "mult_rules = False\n",
    "debug_mode = True\n",
    "print_final_model = True\n",
    "num_workers = 0\n",
    "\n",
    "RULE_FOLDER = \"rules_saved_clean\"\n",
    "\n",
    "ignore_for_training = [\"labels_clustering\", \"distance_norm\"]\n",
    "df_cols = [i for i in list(data.columns) if i not in ignore_for_training]\n",
    "\n",
    "rows_use = None\n",
    "if rows_use:\n",
    "    train_data_df_use = train_data_df.head(rows_use)\n",
    "    X_train_use = X_train[:rows_use]\n",
    "    y_train_use = y_train[:rows_use]\n",
    "else:\n",
    "    train_data_df_use = train_data_df\n",
    "    X_train_use = X_train\n",
    "    y_train_use = y_train\n",
    "logger.debug(f\"Train: {len(X_train_use)}\")\n",
    "for method in [\"kmeans\", \"random\"]:\n",
    "    name = f\"dataset={dataset_name}, breaks={num_breaks}, add_mult_rules={mult_rules}, maf_method={method}\"\n",
    "    logger.info(f\"Step 5: Run DST ({name})\")\n",
    "    DSC = DSClassifierMultiQ(2, debug_mode=debug_mode, num_workers=num_workers, maf_method=method,\n",
    "                            data=train_data_df_use)#.head(rows_use))\n",
    "    logger.debug(f\"\\tModel init done\")    \n",
    "    res = DSC.fit(X_train_use, y_train_use, \n",
    "            add_single_rules=True, single_rules_breaks=num_breaks, add_mult_rules=mult_rules,\n",
    "            column_names=df_cols, print_every_epochs=5, print_final_model=print_final_model)\n",
    "    losses, epoch, dt = res\n",
    "    logger.debug(f\"\\tModel fit done\")\n",
    "\n",
    "    DSC.model.save_rules_bin(os.path.join(RULE_FOLDER, f\"{name}.dsb\"))\n",
    "#     most_important_rules = DSC.model.find_most_important_rules()\n",
    "#     print(most_important_rules)\n",
    "    DSC.model.print_most_important_rules()\n",
    "    y_pred = DSC.predict(X_test)\n",
    "\n",
    "    logger.info(f\"Step 6: Inference done\")\n",
    "\n",
    "    report_results(y_test, y_pred, dataset=dataset_name, method=method,\n",
    "                epoch=epoch, dt=dt, losses=losses, \n",
    "                save_results=True, name=name, print_results=True,\n",
    "                breaks=num_breaks, mult_rules=mult_rules)\n",
    "    \n",
    "    logging.info(\"-\"*30)\n",
    "    \n",
    "    "
   ]
  },
  {
   "cell_type": "code",
   "execution_count": 33,
   "metadata": {},
   "outputs": [
    {
     "data": {
      "text/html": [
       "<div>\n",
       "<style scoped>\n",
       "    .dataframe tbody tr th:only-of-type {\n",
       "        vertical-align: middle;\n",
       "    }\n",
       "\n",
       "    .dataframe tbody tr th {\n",
       "        vertical-align: top;\n",
       "    }\n",
       "\n",
       "    .dataframe thead th {\n",
       "        text-align: right;\n",
       "    }\n",
       "</style>\n",
       "<table border=\"1\" class=\"dataframe\">\n",
       "  <thead>\n",
       "    <tr style=\"text-align: right;\">\n",
       "      <th></th>\n",
       "      <th>name</th>\n",
       "      <th>accuracy</th>\n",
       "      <th>f1</th>\n",
       "      <th>confusion_matrix</th>\n",
       "      <th>training_time</th>\n",
       "      <th>epochs</th>\n",
       "      <th>min_loss</th>\n",
       "      <th>datetime</th>\n",
       "      <th>MAF method</th>\n",
       "      <th>dataset</th>\n",
       "      <th>breaks</th>\n",
       "      <th>mult_rules</th>\n",
       "    </tr>\n",
       "  </thead>\n",
       "  <tbody>\n",
       "    <tr>\n",
       "      <th>84</th>\n",
       "      <td>dataset=Brain Tumor, breaks=3, add_mult_rules=...</td>\n",
       "      <td>0.975199</td>\n",
       "      <td>0.970833</td>\n",
       "      <td>[[635   9]\\n [ 19 466]]</td>\n",
       "      <td>288.094734</td>\n",
       "      <td>69</td>\n",
       "      <td>0.033078</td>\n",
       "      <td>26-04-2024 21:24:14</td>\n",
       "      <td>kmeans</td>\n",
       "      <td>Brain Tumor</td>\n",
       "      <td>3.0</td>\n",
       "      <td>False</td>\n",
       "    </tr>\n",
       "    <tr>\n",
       "      <th>85</th>\n",
       "      <td>dataset=Brain Tumor, breaks=3, add_mult_rules=...</td>\n",
       "      <td>0.982285</td>\n",
       "      <td>0.979339</td>\n",
       "      <td>[[635   9]\\n [ 11 474]]</td>\n",
       "      <td>394.811531</td>\n",
       "      <td>137</td>\n",
       "      <td>0.026403</td>\n",
       "      <td>26-04-2024 21:30:50</td>\n",
       "      <td>random</td>\n",
       "      <td>Brain Tumor</td>\n",
       "      <td>3.0</td>\n",
       "      <td>False</td>\n",
       "    </tr>\n",
       "  </tbody>\n",
       "</table>\n",
       "</div>"
      ],
      "text/plain": [
       "                                                 name  accuracy        f1  \\\n",
       "84  dataset=Brain Tumor, breaks=3, add_mult_rules=...  0.975199  0.970833   \n",
       "85  dataset=Brain Tumor, breaks=3, add_mult_rules=...  0.982285  0.979339   \n",
       "\n",
       "           confusion_matrix  training_time  epochs  min_loss  \\\n",
       "84  [[635   9]\\n [ 19 466]]     288.094734      69  0.033078   \n",
       "85  [[635   9]\\n [ 11 474]]     394.811531     137  0.026403   \n",
       "\n",
       "               datetime MAF method      dataset  breaks mult_rules  \n",
       "84  26-04-2024 21:24:14     kmeans  Brain Tumor     3.0      False  \n",
       "85  26-04-2024 21:30:50     random  Brain Tumor     3.0      False  "
      ]
     },
     "execution_count": 33,
     "metadata": {},
     "output_type": "execute_result"
    }
   ],
   "source": [
    "experiments = pd.read_csv(\"experiments.csv\")\n",
    "\n",
    "experiments.tail(2)"
   ]
  },
  {
   "cell_type": "markdown",
   "metadata": {},
   "source": [
    "## Rules"
   ]
  },
  {
   "cell_type": "code",
   "execution_count": 34,
   "metadata": {},
   "outputs": [
    {
     "name": "stderr",
     "output_type": "stream",
     "text": [
      "24-04-26 21:41:45 [INFO] Found 4 rules\n"
     ]
    }
   ],
   "source": [
    "RULE_FOLDER = \"rules_saved_clean\"\n",
    "\n",
    "assert os.path.exists(RULE_FOLDER), f\"Folder {RULE_FOLDER} does not exist\"\n",
    "\n",
    "rules = os.listdir(RULE_FOLDER)\n",
    "logging.info(f\"Found {len(rules)} rules\")"
   ]
  },
  {
   "cell_type": "code",
   "execution_count": 35,
   "metadata": {},
   "outputs": [],
   "source": [
    "def get_pairs(rules):\n",
    "    pairs = []\n",
    "    for rule1 in rules:\n",
    "        if 'maf_method' in rule1:\n",
    "            for rule2 in rules:\n",
    "                if rule1 == rule2 or (rule2, rule1) in pairs:\n",
    "                    continue\n",
    "                if rule2.startswith(rule1.split('maf_method')[0]):\n",
    "                    pairs.append((rule1, rule2))\n",
    "    return pairs"
   ]
  },
  {
   "cell_type": "code",
   "execution_count": 36,
   "metadata": {},
   "outputs": [],
   "source": [
    "def extract_res(rules_info):\n",
    "    rules = rules_info[\"preds\"]\n",
    "    mafs = rules_info[\"masses\"]\n",
    "    \n",
    "    rule_names = [str(i) for i in rules]\n",
    "    mass_first = [float(i[0]) for i in mafs]\n",
    "    mass_second = [float(i[1]) for i in mafs]\n",
    "    uncertainty = [float(i[2]) for i in mafs]\n",
    "    \n",
    "    res = {\"rule\": rule_names, \"mass_first\": mass_first, \"mass_second\": mass_second, \"uncertainty\": uncertainty}\n",
    "    return res"
   ]
  },
  {
   "cell_type": "code",
   "execution_count": 39,
   "metadata": {},
   "outputs": [
    {
     "name": "stdout",
     "output_type": "stream",
     "text": [
      "Num rules 49\n"
     ]
    },
    {
     "data": {
      "application/vnd.plotly.v1+json": {
       "config": {
        "plotlyServerURL": "https://plot.ly"
       },
       "data": [
        {
         "alignmentgroup": "True",
         "hovertemplate": "variable=uncertainty_kmeans<br>rule=%{x}<br>value=%{y}<extra></extra>",
         "legendgroup": "uncertainty_kmeans",
         "marker": {
          "color": "#636efa",
          "pattern": {
           "shape": ""
          }
         },
         "name": "uncertainty_kmeans",
         "offsetgroup": "uncertainty_kmeans",
         "orientation": "v",
         "showlegend": true,
         "textposition": "auto",
         "type": "bar",
         "x": [
          "Mean < 5.696",
          "5.696 < Mean < 9.586",
          "9.586 < Mean < 13.475",
          "Mean > 13.475",
          "Variance < 400.038",
          "400.038 < Variance < 718.473",
          "718.473 < Variance < 1036.907",
          "Variance > 1036.907",
          "Standard Deviation < 19.398",
          "19.398 < Standard Deviation < 25.324",
          "25.324 < Standard Deviation < 31.249",
          "Standard Deviation > 31.249",
          "Entropy < 0.026",
          "0.026 < Entropy < 0.073",
          "0.073 < Entropy < 0.121",
          "Entropy > 0.121",
          "Skewness < 2.339",
          "2.339 < Skewness < 4.097",
          "4.097 < Skewness < 5.854",
          "Skewness > 5.854",
          "Kurtosis < -15.863",
          "-15.863 < Kurtosis < 24.581",
          "24.581 < Kurtosis < 65.024",
          "Kurtosis > 65.024",
          "Contrast < 48.638",
          "48.638 < Contrast < 130.232",
          "130.232 < Contrast < 211.826",
          "Contrast > 211.826",
          "Energy < 0.117",
          "0.117 < Energy < 0.204",
          "0.204 < Energy < 0.292",
          "Energy > 0.292",
          "ASM < 0.019",
          "0.019 < ASM < 0.058",
          "0.058 < ASM < 0.098",
          "ASM > 0.098",
          "Homogeneity < 0.393",
          "0.393 < Homogeneity < 0.479",
          "0.479 < Homogeneity < 0.565",
          "Homogeneity > 0.565",
          "Dissimilarity < 3.433",
          "3.433 < Dissimilarity < 4.715",
          "4.715 < Dissimilarity < 5.998",
          "Dissimilarity > 5.998",
          "Correlation < 0.938",
          "0.938 < Correlation < 0.956",
          "0.956 < Correlation < 0.973",
          "Correlation > 0.973",
          "Coarseness = 7.46e-155"
         ],
         "xaxis": "x",
         "y": [
          0.35902997851371765,
          0.35371121764183044,
          0.3535148501396179,
          0.11403286457061768,
          0.3457629680633545,
          0.3541017472743988,
          0.3604022264480591,
          0.2799464166164398,
          0.34427714347839355,
          0.34599995613098145,
          0.348989874124527,
          0.28305062651634216,
          0,
          0.3324712812900543,
          0.35169321298599243,
          0.3505061864852905,
          0.33938390016555786,
          0.35123229026794434,
          0.33636975288391113,
          0.4258043169975281,
          1,
          0.347834974527359,
          0.3294721245765686,
          0.4534047842025757,
          0.3463470935821533,
          0.35546401143074036,
          0.06974294036626816,
          0.37804511189460754,
          0,
          0.005702354945242405,
          0.34720757603645325,
          0.35158050060272217,
          0,
          0.34333884716033936,
          0.35206687450408936,
          0.35029923915863037,
          0,
          0.3261181712150574,
          0.3464929163455963,
          0.35131359100341797,
          0.35332244634628296,
          0.345443993806839,
          0.2959885597229004,
          0.35773390531539917,
          0.3500620722770691,
          0.3491513729095459,
          0.34621527791023254,
          0.34674593806266785,
          0.14425958693027496
         ],
         "yaxis": "y"
        },
        {
         "alignmentgroup": "True",
         "hovertemplate": "variable=uncertainty_random<br>rule=%{x}<br>value=%{y}<extra></extra>",
         "legendgroup": "uncertainty_random",
         "marker": {
          "color": "#EF553B",
          "pattern": {
           "shape": ""
          }
         },
         "name": "uncertainty_random",
         "offsetgroup": "uncertainty_random",
         "orientation": "v",
         "showlegend": true,
         "textposition": "auto",
         "type": "bar",
         "x": [
          "Mean < 5.696",
          "5.696 < Mean < 9.586",
          "9.586 < Mean < 13.475",
          "Mean > 13.475",
          "Variance < 400.038",
          "400.038 < Variance < 718.473",
          "718.473 < Variance < 1036.907",
          "Variance > 1036.907",
          "Standard Deviation < 19.398",
          "19.398 < Standard Deviation < 25.324",
          "25.324 < Standard Deviation < 31.249",
          "Standard Deviation > 31.249",
          "Entropy < 0.026",
          "0.026 < Entropy < 0.073",
          "0.073 < Entropy < 0.121",
          "Entropy > 0.121",
          "Skewness < 2.339",
          "2.339 < Skewness < 4.097",
          "4.097 < Skewness < 5.854",
          "Skewness > 5.854",
          "Kurtosis < -15.863",
          "-15.863 < Kurtosis < 24.581",
          "24.581 < Kurtosis < 65.024",
          "Kurtosis > 65.024",
          "Contrast < 48.638",
          "48.638 < Contrast < 130.232",
          "130.232 < Contrast < 211.826",
          "Contrast > 211.826",
          "Energy < 0.117",
          "0.117 < Energy < 0.204",
          "0.204 < Energy < 0.292",
          "Energy > 0.292",
          "ASM < 0.019",
          "0.019 < ASM < 0.058",
          "0.058 < ASM < 0.098",
          "ASM > 0.098",
          "Homogeneity < 0.393",
          "0.393 < Homogeneity < 0.479",
          "0.479 < Homogeneity < 0.565",
          "Homogeneity > 0.565",
          "Dissimilarity < 3.433",
          "3.433 < Dissimilarity < 4.715",
          "4.715 < Dissimilarity < 5.998",
          "Dissimilarity > 5.998",
          "Correlation < 0.938",
          "0.938 < Correlation < 0.956",
          "0.956 < Correlation < 0.973",
          "Correlation > 0.973",
          "Coarseness = 7.46e-155"
         ],
         "xaxis": "x",
         "y": [
          0.7004663944244385,
          0.7215700149536133,
          0.8118210434913635,
          0.6799001693725586,
          0.7106898427009583,
          0.8045098781585693,
          0.8136598467826843,
          0.6930350661277771,
          0.7120225429534912,
          0.7042485475540161,
          0.8125894069671631,
          0.6611723303794861,
          0.6253372430801392,
          0.7604109048843384,
          0.5237234830856323,
          0.5451507568359375,
          0.47775939106941223,
          0.8335415124893188,
          0.7236005663871765,
          0.6846064925193787,
          0.800000011920929,
          0.6965020298957825,
          0.6886522769927979,
          0.5391080379486084,
          0.7197531461715698,
          0.8074196577072144,
          0.821923553943634,
          0.7970395088195801,
          0.6495963931083679,
          0.46669209003448486,
          0.537104606628418,
          0.6021444797515869,
          0.6667618155479431,
          0.8138716816902161,
          0.6922138333320618,
          0.6731656789779663,
          0.6312034130096436,
          0.5079805850982666,
          0.6637513637542725,
          0.5779818892478943,
          0.7400628924369812,
          0.7751337289810181,
          0.7741119265556335,
          0.6744024157524109,
          0.8267221450805664,
          0.8275570273399353,
          0.677071750164032,
          0.8113342523574829,
          0.800000011920929
         ],
         "yaxis": "y"
        }
       ],
       "layout": {
        "barmode": "group",
        "legend": {
         "title": {
          "text": "variable"
         },
         "tracegroupgap": 0
        },
        "template": {
         "data": {
          "bar": [
           {
            "error_x": {
             "color": "#2a3f5f"
            },
            "error_y": {
             "color": "#2a3f5f"
            },
            "marker": {
             "line": {
              "color": "#E5ECF6",
              "width": 0.5
             },
             "pattern": {
              "fillmode": "overlay",
              "size": 10,
              "solidity": 0.2
             }
            },
            "type": "bar"
           }
          ],
          "barpolar": [
           {
            "marker": {
             "line": {
              "color": "#E5ECF6",
              "width": 0.5
             },
             "pattern": {
              "fillmode": "overlay",
              "size": 10,
              "solidity": 0.2
             }
            },
            "type": "barpolar"
           }
          ],
          "carpet": [
           {
            "aaxis": {
             "endlinecolor": "#2a3f5f",
             "gridcolor": "white",
             "linecolor": "white",
             "minorgridcolor": "white",
             "startlinecolor": "#2a3f5f"
            },
            "baxis": {
             "endlinecolor": "#2a3f5f",
             "gridcolor": "white",
             "linecolor": "white",
             "minorgridcolor": "white",
             "startlinecolor": "#2a3f5f"
            },
            "type": "carpet"
           }
          ],
          "choropleth": [
           {
            "colorbar": {
             "outlinewidth": 0,
             "ticks": ""
            },
            "type": "choropleth"
           }
          ],
          "contour": [
           {
            "colorbar": {
             "outlinewidth": 0,
             "ticks": ""
            },
            "colorscale": [
             [
              0,
              "#0d0887"
             ],
             [
              0.1111111111111111,
              "#46039f"
             ],
             [
              0.2222222222222222,
              "#7201a8"
             ],
             [
              0.3333333333333333,
              "#9c179e"
             ],
             [
              0.4444444444444444,
              "#bd3786"
             ],
             [
              0.5555555555555556,
              "#d8576b"
             ],
             [
              0.6666666666666666,
              "#ed7953"
             ],
             [
              0.7777777777777778,
              "#fb9f3a"
             ],
             [
              0.8888888888888888,
              "#fdca26"
             ],
             [
              1,
              "#f0f921"
             ]
            ],
            "type": "contour"
           }
          ],
          "contourcarpet": [
           {
            "colorbar": {
             "outlinewidth": 0,
             "ticks": ""
            },
            "type": "contourcarpet"
           }
          ],
          "heatmap": [
           {
            "colorbar": {
             "outlinewidth": 0,
             "ticks": ""
            },
            "colorscale": [
             [
              0,
              "#0d0887"
             ],
             [
              0.1111111111111111,
              "#46039f"
             ],
             [
              0.2222222222222222,
              "#7201a8"
             ],
             [
              0.3333333333333333,
              "#9c179e"
             ],
             [
              0.4444444444444444,
              "#bd3786"
             ],
             [
              0.5555555555555556,
              "#d8576b"
             ],
             [
              0.6666666666666666,
              "#ed7953"
             ],
             [
              0.7777777777777778,
              "#fb9f3a"
             ],
             [
              0.8888888888888888,
              "#fdca26"
             ],
             [
              1,
              "#f0f921"
             ]
            ],
            "type": "heatmap"
           }
          ],
          "heatmapgl": [
           {
            "colorbar": {
             "outlinewidth": 0,
             "ticks": ""
            },
            "colorscale": [
             [
              0,
              "#0d0887"
             ],
             [
              0.1111111111111111,
              "#46039f"
             ],
             [
              0.2222222222222222,
              "#7201a8"
             ],
             [
              0.3333333333333333,
              "#9c179e"
             ],
             [
              0.4444444444444444,
              "#bd3786"
             ],
             [
              0.5555555555555556,
              "#d8576b"
             ],
             [
              0.6666666666666666,
              "#ed7953"
             ],
             [
              0.7777777777777778,
              "#fb9f3a"
             ],
             [
              0.8888888888888888,
              "#fdca26"
             ],
             [
              1,
              "#f0f921"
             ]
            ],
            "type": "heatmapgl"
           }
          ],
          "histogram": [
           {
            "marker": {
             "pattern": {
              "fillmode": "overlay",
              "size": 10,
              "solidity": 0.2
             }
            },
            "type": "histogram"
           }
          ],
          "histogram2d": [
           {
            "colorbar": {
             "outlinewidth": 0,
             "ticks": ""
            },
            "colorscale": [
             [
              0,
              "#0d0887"
             ],
             [
              0.1111111111111111,
              "#46039f"
             ],
             [
              0.2222222222222222,
              "#7201a8"
             ],
             [
              0.3333333333333333,
              "#9c179e"
             ],
             [
              0.4444444444444444,
              "#bd3786"
             ],
             [
              0.5555555555555556,
              "#d8576b"
             ],
             [
              0.6666666666666666,
              "#ed7953"
             ],
             [
              0.7777777777777778,
              "#fb9f3a"
             ],
             [
              0.8888888888888888,
              "#fdca26"
             ],
             [
              1,
              "#f0f921"
             ]
            ],
            "type": "histogram2d"
           }
          ],
          "histogram2dcontour": [
           {
            "colorbar": {
             "outlinewidth": 0,
             "ticks": ""
            },
            "colorscale": [
             [
              0,
              "#0d0887"
             ],
             [
              0.1111111111111111,
              "#46039f"
             ],
             [
              0.2222222222222222,
              "#7201a8"
             ],
             [
              0.3333333333333333,
              "#9c179e"
             ],
             [
              0.4444444444444444,
              "#bd3786"
             ],
             [
              0.5555555555555556,
              "#d8576b"
             ],
             [
              0.6666666666666666,
              "#ed7953"
             ],
             [
              0.7777777777777778,
              "#fb9f3a"
             ],
             [
              0.8888888888888888,
              "#fdca26"
             ],
             [
              1,
              "#f0f921"
             ]
            ],
            "type": "histogram2dcontour"
           }
          ],
          "mesh3d": [
           {
            "colorbar": {
             "outlinewidth": 0,
             "ticks": ""
            },
            "type": "mesh3d"
           }
          ],
          "parcoords": [
           {
            "line": {
             "colorbar": {
              "outlinewidth": 0,
              "ticks": ""
             }
            },
            "type": "parcoords"
           }
          ],
          "pie": [
           {
            "automargin": true,
            "type": "pie"
           }
          ],
          "scatter": [
           {
            "fillpattern": {
             "fillmode": "overlay",
             "size": 10,
             "solidity": 0.2
            },
            "type": "scatter"
           }
          ],
          "scatter3d": [
           {
            "line": {
             "colorbar": {
              "outlinewidth": 0,
              "ticks": ""
             }
            },
            "marker": {
             "colorbar": {
              "outlinewidth": 0,
              "ticks": ""
             }
            },
            "type": "scatter3d"
           }
          ],
          "scattercarpet": [
           {
            "marker": {
             "colorbar": {
              "outlinewidth": 0,
              "ticks": ""
             }
            },
            "type": "scattercarpet"
           }
          ],
          "scattergeo": [
           {
            "marker": {
             "colorbar": {
              "outlinewidth": 0,
              "ticks": ""
             }
            },
            "type": "scattergeo"
           }
          ],
          "scattergl": [
           {
            "marker": {
             "colorbar": {
              "outlinewidth": 0,
              "ticks": ""
             }
            },
            "type": "scattergl"
           }
          ],
          "scattermapbox": [
           {
            "marker": {
             "colorbar": {
              "outlinewidth": 0,
              "ticks": ""
             }
            },
            "type": "scattermapbox"
           }
          ],
          "scatterpolar": [
           {
            "marker": {
             "colorbar": {
              "outlinewidth": 0,
              "ticks": ""
             }
            },
            "type": "scatterpolar"
           }
          ],
          "scatterpolargl": [
           {
            "marker": {
             "colorbar": {
              "outlinewidth": 0,
              "ticks": ""
             }
            },
            "type": "scatterpolargl"
           }
          ],
          "scatterternary": [
           {
            "marker": {
             "colorbar": {
              "outlinewidth": 0,
              "ticks": ""
             }
            },
            "type": "scatterternary"
           }
          ],
          "surface": [
           {
            "colorbar": {
             "outlinewidth": 0,
             "ticks": ""
            },
            "colorscale": [
             [
              0,
              "#0d0887"
             ],
             [
              0.1111111111111111,
              "#46039f"
             ],
             [
              0.2222222222222222,
              "#7201a8"
             ],
             [
              0.3333333333333333,
              "#9c179e"
             ],
             [
              0.4444444444444444,
              "#bd3786"
             ],
             [
              0.5555555555555556,
              "#d8576b"
             ],
             [
              0.6666666666666666,
              "#ed7953"
             ],
             [
              0.7777777777777778,
              "#fb9f3a"
             ],
             [
              0.8888888888888888,
              "#fdca26"
             ],
             [
              1,
              "#f0f921"
             ]
            ],
            "type": "surface"
           }
          ],
          "table": [
           {
            "cells": {
             "fill": {
              "color": "#EBF0F8"
             },
             "line": {
              "color": "white"
             }
            },
            "header": {
             "fill": {
              "color": "#C8D4E3"
             },
             "line": {
              "color": "white"
             }
            },
            "type": "table"
           }
          ]
         },
         "layout": {
          "annotationdefaults": {
           "arrowcolor": "#2a3f5f",
           "arrowhead": 0,
           "arrowwidth": 1
          },
          "autotypenumbers": "strict",
          "coloraxis": {
           "colorbar": {
            "outlinewidth": 0,
            "ticks": ""
           }
          },
          "colorscale": {
           "diverging": [
            [
             0,
             "#8e0152"
            ],
            [
             0.1,
             "#c51b7d"
            ],
            [
             0.2,
             "#de77ae"
            ],
            [
             0.3,
             "#f1b6da"
            ],
            [
             0.4,
             "#fde0ef"
            ],
            [
             0.5,
             "#f7f7f7"
            ],
            [
             0.6,
             "#e6f5d0"
            ],
            [
             0.7,
             "#b8e186"
            ],
            [
             0.8,
             "#7fbc41"
            ],
            [
             0.9,
             "#4d9221"
            ],
            [
             1,
             "#276419"
            ]
           ],
           "sequential": [
            [
             0,
             "#0d0887"
            ],
            [
             0.1111111111111111,
             "#46039f"
            ],
            [
             0.2222222222222222,
             "#7201a8"
            ],
            [
             0.3333333333333333,
             "#9c179e"
            ],
            [
             0.4444444444444444,
             "#bd3786"
            ],
            [
             0.5555555555555556,
             "#d8576b"
            ],
            [
             0.6666666666666666,
             "#ed7953"
            ],
            [
             0.7777777777777778,
             "#fb9f3a"
            ],
            [
             0.8888888888888888,
             "#fdca26"
            ],
            [
             1,
             "#f0f921"
            ]
           ],
           "sequentialminus": [
            [
             0,
             "#0d0887"
            ],
            [
             0.1111111111111111,
             "#46039f"
            ],
            [
             0.2222222222222222,
             "#7201a8"
            ],
            [
             0.3333333333333333,
             "#9c179e"
            ],
            [
             0.4444444444444444,
             "#bd3786"
            ],
            [
             0.5555555555555556,
             "#d8576b"
            ],
            [
             0.6666666666666666,
             "#ed7953"
            ],
            [
             0.7777777777777778,
             "#fb9f3a"
            ],
            [
             0.8888888888888888,
             "#fdca26"
            ],
            [
             1,
             "#f0f921"
            ]
           ]
          },
          "colorway": [
           "#636efa",
           "#EF553B",
           "#00cc96",
           "#ab63fa",
           "#FFA15A",
           "#19d3f3",
           "#FF6692",
           "#B6E880",
           "#FF97FF",
           "#FECB52"
          ],
          "font": {
           "color": "#2a3f5f"
          },
          "geo": {
           "bgcolor": "white",
           "lakecolor": "white",
           "landcolor": "#E5ECF6",
           "showlakes": true,
           "showland": true,
           "subunitcolor": "white"
          },
          "hoverlabel": {
           "align": "left"
          },
          "hovermode": "closest",
          "mapbox": {
           "style": "light"
          },
          "paper_bgcolor": "white",
          "plot_bgcolor": "#E5ECF6",
          "polar": {
           "angularaxis": {
            "gridcolor": "white",
            "linecolor": "white",
            "ticks": ""
           },
           "bgcolor": "#E5ECF6",
           "radialaxis": {
            "gridcolor": "white",
            "linecolor": "white",
            "ticks": ""
           }
          },
          "scene": {
           "xaxis": {
            "backgroundcolor": "#E5ECF6",
            "gridcolor": "white",
            "gridwidth": 2,
            "linecolor": "white",
            "showbackground": true,
            "ticks": "",
            "zerolinecolor": "white"
           },
           "yaxis": {
            "backgroundcolor": "#E5ECF6",
            "gridcolor": "white",
            "gridwidth": 2,
            "linecolor": "white",
            "showbackground": true,
            "ticks": "",
            "zerolinecolor": "white"
           },
           "zaxis": {
            "backgroundcolor": "#E5ECF6",
            "gridcolor": "white",
            "gridwidth": 2,
            "linecolor": "white",
            "showbackground": true,
            "ticks": "",
            "zerolinecolor": "white"
           }
          },
          "shapedefaults": {
           "line": {
            "color": "#2a3f5f"
           }
          },
          "ternary": {
           "aaxis": {
            "gridcolor": "white",
            "linecolor": "white",
            "ticks": ""
           },
           "baxis": {
            "gridcolor": "white",
            "linecolor": "white",
            "ticks": ""
           },
           "bgcolor": "#E5ECF6",
           "caxis": {
            "gridcolor": "white",
            "linecolor": "white",
            "ticks": ""
           }
          },
          "title": {
           "x": 0.05
          },
          "xaxis": {
           "automargin": true,
           "gridcolor": "white",
           "linecolor": "white",
           "ticks": "",
           "title": {
            "standoff": 15
           },
           "zerolinecolor": "white",
           "zerolinewidth": 2
          },
          "yaxis": {
           "automargin": true,
           "gridcolor": "white",
           "linecolor": "white",
           "ticks": "",
           "title": {
            "standoff": 15
           },
           "zerolinecolor": "white",
           "zerolinewidth": 2
          }
         }
        },
        "title": {
         "text": "Uncertainty comparison between kmeans and random"
        },
        "xaxis": {
         "anchor": "y",
         "domain": [
          0,
          1
         ],
         "title": {
          "text": "rule"
         }
        },
        "yaxis": {
         "anchor": "x",
         "domain": [
          0,
          1
         ],
         "title": {
          "text": "value"
         }
        }
       }
      }
     },
     "metadata": {},
     "output_type": "display_data"
    },
    {
     "name": "stdout",
     "output_type": "stream",
     "text": [
      "Num rules 205\n"
     ]
    },
    {
     "data": {
      "application/vnd.plotly.v1+json": {
       "config": {
        "plotlyServerURL": "https://plot.ly"
       },
       "data": [
        {
         "alignmentgroup": "True",
         "hovertemplate": "variable=uncertainty_kmeans<br>rule=%{x}<br>value=%{y}<extra></extra>",
         "legendgroup": "uncertainty_kmeans",
         "marker": {
          "color": "#636efa",
          "pattern": {
           "shape": ""
          }
         },
         "name": "uncertainty_kmeans",
         "offsetgroup": "uncertainty_kmeans",
         "orientation": "v",
         "showlegend": true,
         "textposition": "auto",
         "type": "bar",
         "x": [
          "Mean < 5.696",
          "5.696 < Mean < 9.586",
          "9.586 < Mean < 13.475",
          "Mean > 13.475",
          "Variance < 400.038",
          "400.038 < Variance < 718.473",
          "718.473 < Variance < 1036.907",
          "Variance > 1036.907",
          "Standard Deviation < 19.398",
          "19.398 < Standard Deviation < 25.324",
          "25.324 < Standard Deviation < 31.249",
          "Standard Deviation > 31.249",
          "Entropy < 0.026",
          "0.026 < Entropy < 0.073",
          "0.073 < Entropy < 0.121",
          "Entropy > 0.121",
          "Skewness < 2.339",
          "2.339 < Skewness < 4.097",
          "4.097 < Skewness < 5.854",
          "Skewness > 5.854",
          "Kurtosis < -15.863",
          "-15.863 < Kurtosis < 24.581",
          "24.581 < Kurtosis < 65.024",
          "Kurtosis > 65.024",
          "Contrast < 48.638",
          "48.638 < Contrast < 130.232",
          "130.232 < Contrast < 211.826",
          "Contrast > 211.826",
          "Energy < 0.117",
          "0.117 < Energy < 0.204",
          "0.204 < Energy < 0.292",
          "Energy > 0.292",
          "ASM < 0.019",
          "0.019 < ASM < 0.058",
          "0.058 < ASM < 0.098",
          "ASM > 0.098",
          "Homogeneity < 0.393",
          "0.393 < Homogeneity < 0.479",
          "0.479 < Homogeneity < 0.565",
          "Homogeneity > 0.565",
          "Dissimilarity < 3.433",
          "3.433 < Dissimilarity < 4.715",
          "4.715 < Dissimilarity < 5.998",
          "Dissimilarity > 5.998",
          "Correlation < 0.938",
          "0.938 < Correlation < 0.956",
          "0.956 < Correlation < 0.973",
          "Correlation > 0.973",
          "Coarseness = 7.46e-155",
          "Positive Mean - 9.586, Variance - 718.473",
          "Negative Mean - 9.586, Variance - 718.473",
          "Positive Mean - 9.586, Standard Deviation - 25.324",
          "Negative Mean - 9.586, Standard Deviation - 25.324",
          "Positive Mean - 9.586, Entropy - 0.073",
          "Negative Mean - 9.586, Entropy - 0.073",
          "Positive Mean - 9.586, Skewness - 4.097",
          "Negative Mean - 9.586, Skewness - 4.097",
          "Positive Mean - 9.586, Kurtosis - 24.581",
          "Negative Mean - 9.586, Kurtosis - 24.581",
          "Positive Mean - 9.586, Contrast - 130.232",
          "Negative Mean - 9.586, Contrast - 130.232",
          "Positive Mean - 9.586, Energy - 0.204",
          "Negative Mean - 9.586, Energy - 0.204",
          "Positive Mean - 9.586, ASM - 0.058",
          "Negative Mean - 9.586, ASM - 0.058",
          "Positive Mean - 9.586, Homogeneity - 0.479",
          "Negative Mean - 9.586, Homogeneity - 0.479",
          "Positive Mean - 9.586, Dissimilarity - 4.715",
          "Negative Mean - 9.586, Dissimilarity - 4.715",
          "Positive Mean - 9.586, Correlation - 0.956",
          "Negative Mean - 9.586, Correlation - 0.956",
          "Positive Mean - 9.586, Coarseness - 0.000",
          "Negative Mean - 9.586, Coarseness - 0.000",
          "Positive Variance - 718.473, Standard Deviation - 25.324",
          "Negative Variance - 718.473, Standard Deviation - 25.324",
          "Positive Variance - 718.473, Entropy - 0.073",
          "Negative Variance - 718.473, Entropy - 0.073",
          "Positive Variance - 718.473, Skewness - 4.097",
          "Negative Variance - 718.473, Skewness - 4.097",
          "Positive Variance - 718.473, Kurtosis - 24.581",
          "Negative Variance - 718.473, Kurtosis - 24.581",
          "Positive Variance - 718.473, Contrast - 130.232",
          "Negative Variance - 718.473, Contrast - 130.232",
          "Positive Variance - 718.473, Energy - 0.204",
          "Negative Variance - 718.473, Energy - 0.204",
          "Positive Variance - 718.473, ASM - 0.058",
          "Negative Variance - 718.473, ASM - 0.058",
          "Positive Variance - 718.473, Homogeneity - 0.479",
          "Negative Variance - 718.473, Homogeneity - 0.479",
          "Positive Variance - 718.473, Dissimilarity - 4.715",
          "Negative Variance - 718.473, Dissimilarity - 4.715",
          "Positive Variance - 718.473, Correlation - 0.956",
          "Negative Variance - 718.473, Correlation - 0.956",
          "Positive Variance - 718.473, Coarseness - 0.000",
          "Negative Variance - 718.473, Coarseness - 0.000",
          "Positive Standard Deviation - 25.324, Entropy - 0.073",
          "Negative Standard Deviation - 25.324, Entropy - 0.073",
          "Positive Standard Deviation - 25.324, Skewness - 4.097",
          "Negative Standard Deviation - 25.324, Skewness - 4.097",
          "Positive Standard Deviation - 25.324, Kurtosis - 24.581",
          "Negative Standard Deviation - 25.324, Kurtosis - 24.581",
          "Positive Standard Deviation - 25.324, Contrast - 130.232",
          "Negative Standard Deviation - 25.324, Contrast - 130.232",
          "Positive Standard Deviation - 25.324, Energy - 0.204",
          "Negative Standard Deviation - 25.324, Energy - 0.204",
          "Positive Standard Deviation - 25.324, ASM - 0.058",
          "Negative Standard Deviation - 25.324, ASM - 0.058",
          "Positive Standard Deviation - 25.324, Homogeneity - 0.479",
          "Negative Standard Deviation - 25.324, Homogeneity - 0.479",
          "Positive Standard Deviation - 25.324, Dissimilarity - 4.715",
          "Negative Standard Deviation - 25.324, Dissimilarity - 4.715",
          "Positive Standard Deviation - 25.324, Correlation - 0.956",
          "Negative Standard Deviation - 25.324, Correlation - 0.956",
          "Positive Standard Deviation - 25.324, Coarseness - 0.000",
          "Negative Standard Deviation - 25.324, Coarseness - 0.000",
          "Positive Entropy - 0.073, Skewness - 4.097",
          "Negative Entropy - 0.073, Skewness - 4.097",
          "Positive Entropy - 0.073, Kurtosis - 24.581",
          "Negative Entropy - 0.073, Kurtosis - 24.581",
          "Positive Entropy - 0.073, Contrast - 130.232",
          "Negative Entropy - 0.073, Contrast - 130.232",
          "Positive Entropy - 0.073, Energy - 0.204",
          "Negative Entropy - 0.073, Energy - 0.204",
          "Positive Entropy - 0.073, ASM - 0.058",
          "Negative Entropy - 0.073, ASM - 0.058",
          "Positive Entropy - 0.073, Homogeneity - 0.479",
          "Negative Entropy - 0.073, Homogeneity - 0.479",
          "Positive Entropy - 0.073, Dissimilarity - 4.715",
          "Negative Entropy - 0.073, Dissimilarity - 4.715",
          "Positive Entropy - 0.073, Correlation - 0.956",
          "Negative Entropy - 0.073, Correlation - 0.956",
          "Positive Entropy - 0.073, Coarseness - 0.000",
          "Negative Entropy - 0.073, Coarseness - 0.000",
          "Positive Skewness - 4.097, Kurtosis - 24.581",
          "Negative Skewness - 4.097, Kurtosis - 24.581",
          "Positive Skewness - 4.097, Contrast - 130.232",
          "Negative Skewness - 4.097, Contrast - 130.232",
          "Positive Skewness - 4.097, Energy - 0.204",
          "Negative Skewness - 4.097, Energy - 0.204",
          "Positive Skewness - 4.097, ASM - 0.058",
          "Negative Skewness - 4.097, ASM - 0.058",
          "Positive Skewness - 4.097, Homogeneity - 0.479",
          "Negative Skewness - 4.097, Homogeneity - 0.479",
          "Positive Skewness - 4.097, Dissimilarity - 4.715",
          "Negative Skewness - 4.097, Dissimilarity - 4.715",
          "Positive Skewness - 4.097, Correlation - 0.956",
          "Negative Skewness - 4.097, Correlation - 0.956",
          "Positive Skewness - 4.097, Coarseness - 0.000",
          "Negative Skewness - 4.097, Coarseness - 0.000",
          "Positive Kurtosis - 24.581, Contrast - 130.232",
          "Negative Kurtosis - 24.581, Contrast - 130.232",
          "Positive Kurtosis - 24.581, Energy - 0.204",
          "Negative Kurtosis - 24.581, Energy - 0.204",
          "Positive Kurtosis - 24.581, ASM - 0.058",
          "Negative Kurtosis - 24.581, ASM - 0.058",
          "Positive Kurtosis - 24.581, Homogeneity - 0.479",
          "Negative Kurtosis - 24.581, Homogeneity - 0.479",
          "Positive Kurtosis - 24.581, Dissimilarity - 4.715",
          "Negative Kurtosis - 24.581, Dissimilarity - 4.715",
          "Positive Kurtosis - 24.581, Correlation - 0.956",
          "Negative Kurtosis - 24.581, Correlation - 0.956",
          "Positive Kurtosis - 24.581, Coarseness - 0.000",
          "Negative Kurtosis - 24.581, Coarseness - 0.000",
          "Positive Contrast - 130.232, Energy - 0.204",
          "Negative Contrast - 130.232, Energy - 0.204",
          "Positive Contrast - 130.232, ASM - 0.058",
          "Negative Contrast - 130.232, ASM - 0.058",
          "Positive Contrast - 130.232, Homogeneity - 0.479",
          "Negative Contrast - 130.232, Homogeneity - 0.479",
          "Positive Contrast - 130.232, Dissimilarity - 4.715",
          "Negative Contrast - 130.232, Dissimilarity - 4.715",
          "Positive Contrast - 130.232, Correlation - 0.956",
          "Negative Contrast - 130.232, Correlation - 0.956",
          "Positive Contrast - 130.232, Coarseness - 0.000",
          "Negative Contrast - 130.232, Coarseness - 0.000",
          "Positive Energy - 0.204, ASM - 0.058",
          "Negative Energy - 0.204, ASM - 0.058",
          "Positive Energy - 0.204, Homogeneity - 0.479",
          "Negative Energy - 0.204, Homogeneity - 0.479",
          "Positive Energy - 0.204, Dissimilarity - 4.715",
          "Negative Energy - 0.204, Dissimilarity - 4.715",
          "Positive Energy - 0.204, Correlation - 0.956",
          "Negative Energy - 0.204, Correlation - 0.956",
          "Positive Energy - 0.204, Coarseness - 0.000",
          "Negative Energy - 0.204, Coarseness - 0.000",
          "Positive ASM - 0.058, Homogeneity - 0.479",
          "Negative ASM - 0.058, Homogeneity - 0.479",
          "Positive ASM - 0.058, Dissimilarity - 4.715",
          "Negative ASM - 0.058, Dissimilarity - 4.715",
          "Positive ASM - 0.058, Correlation - 0.956",
          "Negative ASM - 0.058, Correlation - 0.956",
          "Positive ASM - 0.058, Coarseness - 0.000",
          "Negative ASM - 0.058, Coarseness - 0.000",
          "Positive Homogeneity - 0.479, Dissimilarity - 4.715",
          "Negative Homogeneity - 0.479, Dissimilarity - 4.715",
          "Positive Homogeneity - 0.479, Correlation - 0.956",
          "Negative Homogeneity - 0.479, Correlation - 0.956",
          "Positive Homogeneity - 0.479, Coarseness - 0.000",
          "Negative Homogeneity - 0.479, Coarseness - 0.000",
          "Positive Dissimilarity - 4.715, Correlation - 0.956",
          "Negative Dissimilarity - 4.715, Correlation - 0.956",
          "Positive Dissimilarity - 4.715, Coarseness - 0.000",
          "Negative Dissimilarity - 4.715, Coarseness - 0.000",
          "Positive Correlation - 0.956, Coarseness - 0.000",
          "Negative Correlation - 0.956, Coarseness - 0.000"
         ],
         "xaxis": "x",
         "y": [
          0.283877968788147,
          0.20523276925086975,
          0.2203463762998581,
          0.2488853633403778,
          0.3079928159713745,
          0.22437983751296997,
          0.2850109338760376,
          0.317187637090683,
          0.3217575252056122,
          0.20410533249378204,
          0.3087846636772156,
          0.32155755162239075,
          0.0520336739718914,
          0.20394524931907654,
          0.2782055735588074,
          0.2907054126262665,
          0.2368246465921402,
          0.19950486719608307,
          0.1991976648569107,
          0.28999513387680054,
          1,
          0.20601220428943634,
          0.2096797376871109,
          0.4102158546447754,
          0.30951595306396484,
          0.22808924317359924,
          0.20256461203098297,
          0.3000422716140747,
          0.05430695414543152,
          0.10161646455526352,
          0.2614733874797821,
          0.28891095519065857,
          0.0520336739718914,
          0.2018364667892456,
          0.2820625305175781,
          0.28884249925613403,
          0.1002528965473175,
          0.2687515616416931,
          0.2586592137813568,
          0.2859824597835541,
          0.265829473733902,
          0.23262128233909607,
          0.15418162941932678,
          0.17754396796226501,
          0.3280687928199768,
          0.22684967517852783,
          0.17631231248378754,
          0.18547429144382477,
          0.14425958693027496,
          0.8020300269126892,
          0.8025219440460205,
          0.7682153582572937,
          0.782685399055481,
          0.816670298576355,
          0.8141350746154785,
          0.7072237133979797,
          0.8224440217018127,
          0.690822422504425,
          0.8157724738121033,
          0.8034014701843262,
          0.7602131366729736,
          0.8096628189086914,
          0.8173322677612305,
          0.8157323002815247,
          0.7938487529754639,
          0.7799662947654724,
          0.7370032668113708,
          0.8156742453575134,
          0.8165280818939209,
          0.8094274401664734,
          0.8196386098861694,
          0.8027212619781494,
          0.8045521378517151,
          0.8115950226783752,
          0.7760186791419983,
          0.7679917216300964,
          0.7741087079048157,
          0.8041915893554688,
          0.778579831123352,
          0.7146506905555725,
          0.8162988424301147,
          0.7763457298278809,
          0.8068228363990784,
          0.8079272508621216,
          0.8093583583831787,
          0.804327666759491,
          0.8252556920051575,
          0.821812629699707,
          0.7447671294212341,
          0.8051098585128784,
          0.8177753686904907,
          0.8076052069664001,
          0.7570927143096924,
          0.8119651675224304,
          0.8163609504699707,
          0.7597141265869141,
          0.8088089227676392,
          0.694750189781189,
          0.779708206653595,
          0.7720950841903687,
          0.8154867887496948,
          0.8037633299827576,
          0.8061136603355408,
          0.8172430992126465,
          0.8212108016014099,
          0.8138664960861206,
          0.817156195640564,
          0.8091701865196228,
          0.7905318737030029,
          0.7715177536010742,
          0.783649206161499,
          0.8277150392532349,
          0.8067971467971802,
          0.8217008709907532,
          0.8140171766281128,
          0.7899853587150574,
          0.82053142786026,
          0.8185679912567139,
          0.8134339451789856,
          0.7444890141487122,
          0.8238193392753601,
          0.8166627883911133,
          0.8227904438972473,
          0.8214586973190308,
          0.8221254348754883,
          0.8165861368179321,
          0.7260738015174866,
          0.7683521509170532,
          0.8056656718254089,
          0.802085280418396,
          0.8144547343254089,
          0.8033466935157776,
          0.7725980877876282,
          0.8035462498664856,
          0.8056247234344482,
          0.8166884779930115,
          0.8257131576538086,
          0.8183619976043701,
          0.7617607116699219,
          0.826048731803894,
          0.8034712076187134,
          0.8174248337745667,
          0.7844198346138,
          0.8153936266899109,
          0.8177720308303833,
          0.803513765335083,
          0.8041995763778687,
          0.8200320601463318,
          0.8210440278053284,
          0.8014421463012695,
          0.8217331767082214,
          0.789450466632843,
          0.820840060710907,
          0.8217664361000061,
          0.8067890405654907,
          0.8056173920631409,
          0.8202155828475952,
          0.8047211170196533,
          0.8135049939155579,
          0.8141253590583801,
          0.8083997964859009,
          0.8083272576332092,
          0.8114220499992371,
          0.8118783235549927,
          0.8052463531494141,
          0.8202553987503052,
          0.8212820291519165,
          0.81546950340271,
          0.8097555637359619,
          0.8086636066436768,
          0.8121992349624634,
          0.8123443722724915,
          0.8213461637496948,
          0.7655794620513916,
          0.8157589435577393,
          0.8210374712944031,
          0.7154666781425476,
          0.8041795492172241,
          0.8205667734146118,
          0.8310037851333618,
          0.7606058120727539,
          0.8105561137199402,
          0.8096490502357483,
          0.6629026532173157,
          0.8108535408973694,
          0.7646582722663879,
          0.7659801244735718,
          0.7608400583267212,
          0.819032609462738,
          0.8016946315765381,
          0.8170450925827026,
          0.7635669708251953,
          0.7240084409713745,
          0.7083843946456909,
          0.7416282892227173,
          0.8140878081321716,
          0.8217583894729614,
          0.7876511812210083,
          0.7935706973075867,
          0.8235138058662415,
          0.8092437982559204,
          0.8210023045539856,
          0.8174143433570862,
          0.8039246201515198,
          0.8269574642181396
         ],
         "yaxis": "y"
        },
        {
         "alignmentgroup": "True",
         "hovertemplate": "variable=uncertainty_random<br>rule=%{x}<br>value=%{y}<extra></extra>",
         "legendgroup": "uncertainty_random",
         "marker": {
          "color": "#EF553B",
          "pattern": {
           "shape": ""
          }
         },
         "name": "uncertainty_random",
         "offsetgroup": "uncertainty_random",
         "orientation": "v",
         "showlegend": true,
         "textposition": "auto",
         "type": "bar",
         "x": [
          "Mean < 5.696",
          "5.696 < Mean < 9.586",
          "9.586 < Mean < 13.475",
          "Mean > 13.475",
          "Variance < 400.038",
          "400.038 < Variance < 718.473",
          "718.473 < Variance < 1036.907",
          "Variance > 1036.907",
          "Standard Deviation < 19.398",
          "19.398 < Standard Deviation < 25.324",
          "25.324 < Standard Deviation < 31.249",
          "Standard Deviation > 31.249",
          "Entropy < 0.026",
          "0.026 < Entropy < 0.073",
          "0.073 < Entropy < 0.121",
          "Entropy > 0.121",
          "Skewness < 2.339",
          "2.339 < Skewness < 4.097",
          "4.097 < Skewness < 5.854",
          "Skewness > 5.854",
          "Kurtosis < -15.863",
          "-15.863 < Kurtosis < 24.581",
          "24.581 < Kurtosis < 65.024",
          "Kurtosis > 65.024",
          "Contrast < 48.638",
          "48.638 < Contrast < 130.232",
          "130.232 < Contrast < 211.826",
          "Contrast > 211.826",
          "Energy < 0.117",
          "0.117 < Energy < 0.204",
          "0.204 < Energy < 0.292",
          "Energy > 0.292",
          "ASM < 0.019",
          "0.019 < ASM < 0.058",
          "0.058 < ASM < 0.098",
          "ASM > 0.098",
          "Homogeneity < 0.393",
          "0.393 < Homogeneity < 0.479",
          "0.479 < Homogeneity < 0.565",
          "Homogeneity > 0.565",
          "Dissimilarity < 3.433",
          "3.433 < Dissimilarity < 4.715",
          "4.715 < Dissimilarity < 5.998",
          "Dissimilarity > 5.998",
          "Correlation < 0.938",
          "0.938 < Correlation < 0.956",
          "0.956 < Correlation < 0.973",
          "Correlation > 0.973",
          "Coarseness = 7.46e-155",
          "Positive Mean - 9.586, Variance - 718.473",
          "Negative Mean - 9.586, Variance - 718.473",
          "Positive Mean - 9.586, Standard Deviation - 25.324",
          "Negative Mean - 9.586, Standard Deviation - 25.324",
          "Positive Mean - 9.586, Entropy - 0.073",
          "Negative Mean - 9.586, Entropy - 0.073",
          "Positive Mean - 9.586, Skewness - 4.097",
          "Negative Mean - 9.586, Skewness - 4.097",
          "Positive Mean - 9.586, Kurtosis - 24.581",
          "Negative Mean - 9.586, Kurtosis - 24.581",
          "Positive Mean - 9.586, Contrast - 130.232",
          "Negative Mean - 9.586, Contrast - 130.232",
          "Positive Mean - 9.586, Energy - 0.204",
          "Negative Mean - 9.586, Energy - 0.204",
          "Positive Mean - 9.586, ASM - 0.058",
          "Negative Mean - 9.586, ASM - 0.058",
          "Positive Mean - 9.586, Homogeneity - 0.479",
          "Negative Mean - 9.586, Homogeneity - 0.479",
          "Positive Mean - 9.586, Dissimilarity - 4.715",
          "Negative Mean - 9.586, Dissimilarity - 4.715",
          "Positive Mean - 9.586, Correlation - 0.956",
          "Negative Mean - 9.586, Correlation - 0.956",
          "Positive Mean - 9.586, Coarseness - 0.000",
          "Negative Mean - 9.586, Coarseness - 0.000",
          "Positive Variance - 718.473, Standard Deviation - 25.324",
          "Negative Variance - 718.473, Standard Deviation - 25.324",
          "Positive Variance - 718.473, Entropy - 0.073",
          "Negative Variance - 718.473, Entropy - 0.073",
          "Positive Variance - 718.473, Skewness - 4.097",
          "Negative Variance - 718.473, Skewness - 4.097",
          "Positive Variance - 718.473, Kurtosis - 24.581",
          "Negative Variance - 718.473, Kurtosis - 24.581",
          "Positive Variance - 718.473, Contrast - 130.232",
          "Negative Variance - 718.473, Contrast - 130.232",
          "Positive Variance - 718.473, Energy - 0.204",
          "Negative Variance - 718.473, Energy - 0.204",
          "Positive Variance - 718.473, ASM - 0.058",
          "Negative Variance - 718.473, ASM - 0.058",
          "Positive Variance - 718.473, Homogeneity - 0.479",
          "Negative Variance - 718.473, Homogeneity - 0.479",
          "Positive Variance - 718.473, Dissimilarity - 4.715",
          "Negative Variance - 718.473, Dissimilarity - 4.715",
          "Positive Variance - 718.473, Correlation - 0.956",
          "Negative Variance - 718.473, Correlation - 0.956",
          "Positive Variance - 718.473, Coarseness - 0.000",
          "Negative Variance - 718.473, Coarseness - 0.000",
          "Positive Standard Deviation - 25.324, Entropy - 0.073",
          "Negative Standard Deviation - 25.324, Entropy - 0.073",
          "Positive Standard Deviation - 25.324, Skewness - 4.097",
          "Negative Standard Deviation - 25.324, Skewness - 4.097",
          "Positive Standard Deviation - 25.324, Kurtosis - 24.581",
          "Negative Standard Deviation - 25.324, Kurtosis - 24.581",
          "Positive Standard Deviation - 25.324, Contrast - 130.232",
          "Negative Standard Deviation - 25.324, Contrast - 130.232",
          "Positive Standard Deviation - 25.324, Energy - 0.204",
          "Negative Standard Deviation - 25.324, Energy - 0.204",
          "Positive Standard Deviation - 25.324, ASM - 0.058",
          "Negative Standard Deviation - 25.324, ASM - 0.058",
          "Positive Standard Deviation - 25.324, Homogeneity - 0.479",
          "Negative Standard Deviation - 25.324, Homogeneity - 0.479",
          "Positive Standard Deviation - 25.324, Dissimilarity - 4.715",
          "Negative Standard Deviation - 25.324, Dissimilarity - 4.715",
          "Positive Standard Deviation - 25.324, Correlation - 0.956",
          "Negative Standard Deviation - 25.324, Correlation - 0.956",
          "Positive Standard Deviation - 25.324, Coarseness - 0.000",
          "Negative Standard Deviation - 25.324, Coarseness - 0.000",
          "Positive Entropy - 0.073, Skewness - 4.097",
          "Negative Entropy - 0.073, Skewness - 4.097",
          "Positive Entropy - 0.073, Kurtosis - 24.581",
          "Negative Entropy - 0.073, Kurtosis - 24.581",
          "Positive Entropy - 0.073, Contrast - 130.232",
          "Negative Entropy - 0.073, Contrast - 130.232",
          "Positive Entropy - 0.073, Energy - 0.204",
          "Negative Entropy - 0.073, Energy - 0.204",
          "Positive Entropy - 0.073, ASM - 0.058",
          "Negative Entropy - 0.073, ASM - 0.058",
          "Positive Entropy - 0.073, Homogeneity - 0.479",
          "Negative Entropy - 0.073, Homogeneity - 0.479",
          "Positive Entropy - 0.073, Dissimilarity - 4.715",
          "Negative Entropy - 0.073, Dissimilarity - 4.715",
          "Positive Entropy - 0.073, Correlation - 0.956",
          "Negative Entropy - 0.073, Correlation - 0.956",
          "Positive Entropy - 0.073, Coarseness - 0.000",
          "Negative Entropy - 0.073, Coarseness - 0.000",
          "Positive Skewness - 4.097, Kurtosis - 24.581",
          "Negative Skewness - 4.097, Kurtosis - 24.581",
          "Positive Skewness - 4.097, Contrast - 130.232",
          "Negative Skewness - 4.097, Contrast - 130.232",
          "Positive Skewness - 4.097, Energy - 0.204",
          "Negative Skewness - 4.097, Energy - 0.204",
          "Positive Skewness - 4.097, ASM - 0.058",
          "Negative Skewness - 4.097, ASM - 0.058",
          "Positive Skewness - 4.097, Homogeneity - 0.479",
          "Negative Skewness - 4.097, Homogeneity - 0.479",
          "Positive Skewness - 4.097, Dissimilarity - 4.715",
          "Negative Skewness - 4.097, Dissimilarity - 4.715",
          "Positive Skewness - 4.097, Correlation - 0.956",
          "Negative Skewness - 4.097, Correlation - 0.956",
          "Positive Skewness - 4.097, Coarseness - 0.000",
          "Negative Skewness - 4.097, Coarseness - 0.000",
          "Positive Kurtosis - 24.581, Contrast - 130.232",
          "Negative Kurtosis - 24.581, Contrast - 130.232",
          "Positive Kurtosis - 24.581, Energy - 0.204",
          "Negative Kurtosis - 24.581, Energy - 0.204",
          "Positive Kurtosis - 24.581, ASM - 0.058",
          "Negative Kurtosis - 24.581, ASM - 0.058",
          "Positive Kurtosis - 24.581, Homogeneity - 0.479",
          "Negative Kurtosis - 24.581, Homogeneity - 0.479",
          "Positive Kurtosis - 24.581, Dissimilarity - 4.715",
          "Negative Kurtosis - 24.581, Dissimilarity - 4.715",
          "Positive Kurtosis - 24.581, Correlation - 0.956",
          "Negative Kurtosis - 24.581, Correlation - 0.956",
          "Positive Kurtosis - 24.581, Coarseness - 0.000",
          "Negative Kurtosis - 24.581, Coarseness - 0.000",
          "Positive Contrast - 130.232, Energy - 0.204",
          "Negative Contrast - 130.232, Energy - 0.204",
          "Positive Contrast - 130.232, ASM - 0.058",
          "Negative Contrast - 130.232, ASM - 0.058",
          "Positive Contrast - 130.232, Homogeneity - 0.479",
          "Negative Contrast - 130.232, Homogeneity - 0.479",
          "Positive Contrast - 130.232, Dissimilarity - 4.715",
          "Negative Contrast - 130.232, Dissimilarity - 4.715",
          "Positive Contrast - 130.232, Correlation - 0.956",
          "Negative Contrast - 130.232, Correlation - 0.956",
          "Positive Contrast - 130.232, Coarseness - 0.000",
          "Negative Contrast - 130.232, Coarseness - 0.000",
          "Positive Energy - 0.204, ASM - 0.058",
          "Negative Energy - 0.204, ASM - 0.058",
          "Positive Energy - 0.204, Homogeneity - 0.479",
          "Negative Energy - 0.204, Homogeneity - 0.479",
          "Positive Energy - 0.204, Dissimilarity - 4.715",
          "Negative Energy - 0.204, Dissimilarity - 4.715",
          "Positive Energy - 0.204, Correlation - 0.956",
          "Negative Energy - 0.204, Correlation - 0.956",
          "Positive Energy - 0.204, Coarseness - 0.000",
          "Negative Energy - 0.204, Coarseness - 0.000",
          "Positive ASM - 0.058, Homogeneity - 0.479",
          "Negative ASM - 0.058, Homogeneity - 0.479",
          "Positive ASM - 0.058, Dissimilarity - 4.715",
          "Negative ASM - 0.058, Dissimilarity - 4.715",
          "Positive ASM - 0.058, Correlation - 0.956",
          "Negative ASM - 0.058, Correlation - 0.956",
          "Positive ASM - 0.058, Coarseness - 0.000",
          "Negative ASM - 0.058, Coarseness - 0.000",
          "Positive Homogeneity - 0.479, Dissimilarity - 4.715",
          "Negative Homogeneity - 0.479, Dissimilarity - 4.715",
          "Positive Homogeneity - 0.479, Correlation - 0.956",
          "Negative Homogeneity - 0.479, Correlation - 0.956",
          "Positive Homogeneity - 0.479, Coarseness - 0.000",
          "Negative Homogeneity - 0.479, Coarseness - 0.000",
          "Positive Dissimilarity - 4.715, Correlation - 0.956",
          "Negative Dissimilarity - 4.715, Correlation - 0.956",
          "Positive Dissimilarity - 4.715, Coarseness - 0.000",
          "Negative Dissimilarity - 4.715, Coarseness - 0.000",
          "Positive Correlation - 0.956, Coarseness - 0.000",
          "Negative Correlation - 0.956, Coarseness - 0.000"
         ],
         "xaxis": "x",
         "y": [
          0.7512232661247253,
          0.8032599091529846,
          0.8101842403411865,
          0.817780077457428,
          0.7756344676017761,
          0.8058266639709473,
          0.8110731840133667,
          0.8109139800071716,
          0.8154142498970032,
          0.8081430792808533,
          0.7899333834648132,
          0.7497521042823792,
          0.7023833394050598,
          0.8078893423080444,
          0.7908082604408264,
          0.7248556017875671,
          0.6673495769500732,
          0.8119741082191467,
          0.794053852558136,
          0.7505179643630981,
          0.800000011920929,
          0.8109078407287598,
          0.8066467046737671,
          0.7015992403030396,
          0.7880074381828308,
          0.8235849142074585,
          0.816544771194458,
          0.8097763061523438,
          0.8079978823661804,
          0.7375776171684265,
          0.7769443988800049,
          0.8237440586090088,
          0.6810999512672424,
          0.8092400431632996,
          0.7496668100357056,
          0.6629044413566589,
          0.7868749499320984,
          0.7883539795875549,
          0.8199931383132935,
          0.8241375684738159,
          0.8035140037536621,
          0.8090190291404724,
          0.8061608672142029,
          0.7694435119628906,
          0.7731375694274902,
          0.805253267288208,
          0.8021332621574402,
          0.8054974675178528,
          0.800000011920929,
          0.8068186640739441,
          0.7935592532157898,
          0.8049198389053345,
          0.8120124936103821,
          0.8128790855407715,
          0.8077216148376465,
          0.809762179851532,
          0.8057077527046204,
          0.8066952228546143,
          0.8019686341285706,
          0.8053776621818542,
          0.8038649559020996,
          0.8098471164703369,
          0.8014310598373413,
          0.7871274352073669,
          0.7988654375076294,
          0.8015561103820801,
          0.8102386593818665,
          0.8056128621101379,
          0.802364706993103,
          0.8061022758483887,
          0.8010485768318176,
          0.7926563620567322,
          0.7982046604156494,
          0.8090704083442688,
          0.8107064962387085,
          0.8134422898292542,
          0.8023914098739624,
          0.8173860311508179,
          0.8131368160247803,
          0.8056997656822205,
          0.8102394938468933,
          0.8058477640151978,
          0.804929256439209,
          0.8103998899459839,
          0.8033020496368408,
          0.8134844899177551,
          0.80257648229599,
          0.811916708946228,
          0.8120039701461792,
          0.8037898540496826,
          0.8057934045791626,
          0.8027950525283813,
          0.8087873458862305,
          0.8009459972381592,
          0.8013036847114563,
          0.8101562261581421,
          0.8044748902320862,
          0.8064959645271301,
          0.8058611154556274,
          0.8018465638160706,
          0.8092206120491028,
          0.8016712069511414,
          0.8063555955886841,
          0.810342013835907,
          0.803026556968689,
          0.8084107637405396,
          0.8034911751747131,
          0.8106145858764648,
          0.8056182861328125,
          0.8023163080215454,
          0.8037934303283691,
          0.8054758310317993,
          0.8060838580131531,
          0.8080366849899292,
          0.76706862449646,
          0.8062325119972229,
          0.8039581775665283,
          0.7655882239341736,
          0.7519280910491943,
          0.8046156764030457,
          0.8052037954330444,
          0.8107548952102661,
          0.8023633360862732,
          0.8024563193321228,
          0.7705562114715576,
          0.8025990128517151,
          0.8109143376350403,
          0.8192364573478699,
          0.8061322569847107,
          0.8048587441444397,
          0.8018000721931458,
          0.7856443524360657,
          0.761810839176178,
          0.8100410103797913,
          0.8032384514808655,
          0.8056736588478088,
          0.8039966821670532,
          0.8190359473228455,
          0.8077245950698853,
          0.8051707148551941,
          0.8011993169784546,
          0.8096237182617188,
          0.8092849254608154,
          0.8057016730308533,
          0.808456301689148,
          0.8021514415740967,
          0.8143064379692078,
          0.7691169381141663,
          0.8094276785850525,
          0.8099231719970703,
          0.8111315369606018,
          0.7779875993728638,
          0.7708349227905273,
          0.8026483058929443,
          0.7459486126899719,
          0.8101014494895935,
          0.8107993006706238,
          0.8056311011314392,
          0.8050457239151001,
          0.8059911727905273,
          0.8051401376724243,
          0.8106520771980286,
          0.8135173916816711,
          0.8036956787109375,
          0.8158473372459412,
          0.8082979321479797,
          0.804669201374054,
          0.8049124479293823,
          0.8086281418800354,
          0.8064742088317871,
          0.8146987557411194,
          0.8099036812782288,
          0.8073344826698303,
          0.811052680015564,
          0.8107866048812866,
          0.805855929851532,
          0.8106489777565002,
          0.8065793514251709,
          0.8050128221511841,
          0.8123149275779724,
          0.8036794662475586,
          0.808266818523407,
          0.8111668825149536,
          0.7457779049873352,
          0.7155449390411377,
          0.8065891861915588,
          0.7823246121406555,
          0.807050883769989,
          0.8064727783203125,
          0.8039247393608093,
          0.8069530725479126,
          0.7708712816238403,
          0.8237380981445312,
          0.7485768795013428,
          0.8048096299171448,
          0.7790353894233704,
          0.8109501600265503,
          0.8233626484870911,
          0.7095743417739868,
          0.8080229163169861,
          0.8076230883598328,
          0.8130399584770203,
          0.8117486834526062,
          0.8051116466522217,
          0.8017334938049316
         ],
         "yaxis": "y"
        }
       ],
       "layout": {
        "barmode": "group",
        "legend": {
         "title": {
          "text": "variable"
         },
         "tracegroupgap": 0
        },
        "template": {
         "data": {
          "bar": [
           {
            "error_x": {
             "color": "#2a3f5f"
            },
            "error_y": {
             "color": "#2a3f5f"
            },
            "marker": {
             "line": {
              "color": "#E5ECF6",
              "width": 0.5
             },
             "pattern": {
              "fillmode": "overlay",
              "size": 10,
              "solidity": 0.2
             }
            },
            "type": "bar"
           }
          ],
          "barpolar": [
           {
            "marker": {
             "line": {
              "color": "#E5ECF6",
              "width": 0.5
             },
             "pattern": {
              "fillmode": "overlay",
              "size": 10,
              "solidity": 0.2
             }
            },
            "type": "barpolar"
           }
          ],
          "carpet": [
           {
            "aaxis": {
             "endlinecolor": "#2a3f5f",
             "gridcolor": "white",
             "linecolor": "white",
             "minorgridcolor": "white",
             "startlinecolor": "#2a3f5f"
            },
            "baxis": {
             "endlinecolor": "#2a3f5f",
             "gridcolor": "white",
             "linecolor": "white",
             "minorgridcolor": "white",
             "startlinecolor": "#2a3f5f"
            },
            "type": "carpet"
           }
          ],
          "choropleth": [
           {
            "colorbar": {
             "outlinewidth": 0,
             "ticks": ""
            },
            "type": "choropleth"
           }
          ],
          "contour": [
           {
            "colorbar": {
             "outlinewidth": 0,
             "ticks": ""
            },
            "colorscale": [
             [
              0,
              "#0d0887"
             ],
             [
              0.1111111111111111,
              "#46039f"
             ],
             [
              0.2222222222222222,
              "#7201a8"
             ],
             [
              0.3333333333333333,
              "#9c179e"
             ],
             [
              0.4444444444444444,
              "#bd3786"
             ],
             [
              0.5555555555555556,
              "#d8576b"
             ],
             [
              0.6666666666666666,
              "#ed7953"
             ],
             [
              0.7777777777777778,
              "#fb9f3a"
             ],
             [
              0.8888888888888888,
              "#fdca26"
             ],
             [
              1,
              "#f0f921"
             ]
            ],
            "type": "contour"
           }
          ],
          "contourcarpet": [
           {
            "colorbar": {
             "outlinewidth": 0,
             "ticks": ""
            },
            "type": "contourcarpet"
           }
          ],
          "heatmap": [
           {
            "colorbar": {
             "outlinewidth": 0,
             "ticks": ""
            },
            "colorscale": [
             [
              0,
              "#0d0887"
             ],
             [
              0.1111111111111111,
              "#46039f"
             ],
             [
              0.2222222222222222,
              "#7201a8"
             ],
             [
              0.3333333333333333,
              "#9c179e"
             ],
             [
              0.4444444444444444,
              "#bd3786"
             ],
             [
              0.5555555555555556,
              "#d8576b"
             ],
             [
              0.6666666666666666,
              "#ed7953"
             ],
             [
              0.7777777777777778,
              "#fb9f3a"
             ],
             [
              0.8888888888888888,
              "#fdca26"
             ],
             [
              1,
              "#f0f921"
             ]
            ],
            "type": "heatmap"
           }
          ],
          "heatmapgl": [
           {
            "colorbar": {
             "outlinewidth": 0,
             "ticks": ""
            },
            "colorscale": [
             [
              0,
              "#0d0887"
             ],
             [
              0.1111111111111111,
              "#46039f"
             ],
             [
              0.2222222222222222,
              "#7201a8"
             ],
             [
              0.3333333333333333,
              "#9c179e"
             ],
             [
              0.4444444444444444,
              "#bd3786"
             ],
             [
              0.5555555555555556,
              "#d8576b"
             ],
             [
              0.6666666666666666,
              "#ed7953"
             ],
             [
              0.7777777777777778,
              "#fb9f3a"
             ],
             [
              0.8888888888888888,
              "#fdca26"
             ],
             [
              1,
              "#f0f921"
             ]
            ],
            "type": "heatmapgl"
           }
          ],
          "histogram": [
           {
            "marker": {
             "pattern": {
              "fillmode": "overlay",
              "size": 10,
              "solidity": 0.2
             }
            },
            "type": "histogram"
           }
          ],
          "histogram2d": [
           {
            "colorbar": {
             "outlinewidth": 0,
             "ticks": ""
            },
            "colorscale": [
             [
              0,
              "#0d0887"
             ],
             [
              0.1111111111111111,
              "#46039f"
             ],
             [
              0.2222222222222222,
              "#7201a8"
             ],
             [
              0.3333333333333333,
              "#9c179e"
             ],
             [
              0.4444444444444444,
              "#bd3786"
             ],
             [
              0.5555555555555556,
              "#d8576b"
             ],
             [
              0.6666666666666666,
              "#ed7953"
             ],
             [
              0.7777777777777778,
              "#fb9f3a"
             ],
             [
              0.8888888888888888,
              "#fdca26"
             ],
             [
              1,
              "#f0f921"
             ]
            ],
            "type": "histogram2d"
           }
          ],
          "histogram2dcontour": [
           {
            "colorbar": {
             "outlinewidth": 0,
             "ticks": ""
            },
            "colorscale": [
             [
              0,
              "#0d0887"
             ],
             [
              0.1111111111111111,
              "#46039f"
             ],
             [
              0.2222222222222222,
              "#7201a8"
             ],
             [
              0.3333333333333333,
              "#9c179e"
             ],
             [
              0.4444444444444444,
              "#bd3786"
             ],
             [
              0.5555555555555556,
              "#d8576b"
             ],
             [
              0.6666666666666666,
              "#ed7953"
             ],
             [
              0.7777777777777778,
              "#fb9f3a"
             ],
             [
              0.8888888888888888,
              "#fdca26"
             ],
             [
              1,
              "#f0f921"
             ]
            ],
            "type": "histogram2dcontour"
           }
          ],
          "mesh3d": [
           {
            "colorbar": {
             "outlinewidth": 0,
             "ticks": ""
            },
            "type": "mesh3d"
           }
          ],
          "parcoords": [
           {
            "line": {
             "colorbar": {
              "outlinewidth": 0,
              "ticks": ""
             }
            },
            "type": "parcoords"
           }
          ],
          "pie": [
           {
            "automargin": true,
            "type": "pie"
           }
          ],
          "scatter": [
           {
            "fillpattern": {
             "fillmode": "overlay",
             "size": 10,
             "solidity": 0.2
            },
            "type": "scatter"
           }
          ],
          "scatter3d": [
           {
            "line": {
             "colorbar": {
              "outlinewidth": 0,
              "ticks": ""
             }
            },
            "marker": {
             "colorbar": {
              "outlinewidth": 0,
              "ticks": ""
             }
            },
            "type": "scatter3d"
           }
          ],
          "scattercarpet": [
           {
            "marker": {
             "colorbar": {
              "outlinewidth": 0,
              "ticks": ""
             }
            },
            "type": "scattercarpet"
           }
          ],
          "scattergeo": [
           {
            "marker": {
             "colorbar": {
              "outlinewidth": 0,
              "ticks": ""
             }
            },
            "type": "scattergeo"
           }
          ],
          "scattergl": [
           {
            "marker": {
             "colorbar": {
              "outlinewidth": 0,
              "ticks": ""
             }
            },
            "type": "scattergl"
           }
          ],
          "scattermapbox": [
           {
            "marker": {
             "colorbar": {
              "outlinewidth": 0,
              "ticks": ""
             }
            },
            "type": "scattermapbox"
           }
          ],
          "scatterpolar": [
           {
            "marker": {
             "colorbar": {
              "outlinewidth": 0,
              "ticks": ""
             }
            },
            "type": "scatterpolar"
           }
          ],
          "scatterpolargl": [
           {
            "marker": {
             "colorbar": {
              "outlinewidth": 0,
              "ticks": ""
             }
            },
            "type": "scatterpolargl"
           }
          ],
          "scatterternary": [
           {
            "marker": {
             "colorbar": {
              "outlinewidth": 0,
              "ticks": ""
             }
            },
            "type": "scatterternary"
           }
          ],
          "surface": [
           {
            "colorbar": {
             "outlinewidth": 0,
             "ticks": ""
            },
            "colorscale": [
             [
              0,
              "#0d0887"
             ],
             [
              0.1111111111111111,
              "#46039f"
             ],
             [
              0.2222222222222222,
              "#7201a8"
             ],
             [
              0.3333333333333333,
              "#9c179e"
             ],
             [
              0.4444444444444444,
              "#bd3786"
             ],
             [
              0.5555555555555556,
              "#d8576b"
             ],
             [
              0.6666666666666666,
              "#ed7953"
             ],
             [
              0.7777777777777778,
              "#fb9f3a"
             ],
             [
              0.8888888888888888,
              "#fdca26"
             ],
             [
              1,
              "#f0f921"
             ]
            ],
            "type": "surface"
           }
          ],
          "table": [
           {
            "cells": {
             "fill": {
              "color": "#EBF0F8"
             },
             "line": {
              "color": "white"
             }
            },
            "header": {
             "fill": {
              "color": "#C8D4E3"
             },
             "line": {
              "color": "white"
             }
            },
            "type": "table"
           }
          ]
         },
         "layout": {
          "annotationdefaults": {
           "arrowcolor": "#2a3f5f",
           "arrowhead": 0,
           "arrowwidth": 1
          },
          "autotypenumbers": "strict",
          "coloraxis": {
           "colorbar": {
            "outlinewidth": 0,
            "ticks": ""
           }
          },
          "colorscale": {
           "diverging": [
            [
             0,
             "#8e0152"
            ],
            [
             0.1,
             "#c51b7d"
            ],
            [
             0.2,
             "#de77ae"
            ],
            [
             0.3,
             "#f1b6da"
            ],
            [
             0.4,
             "#fde0ef"
            ],
            [
             0.5,
             "#f7f7f7"
            ],
            [
             0.6,
             "#e6f5d0"
            ],
            [
             0.7,
             "#b8e186"
            ],
            [
             0.8,
             "#7fbc41"
            ],
            [
             0.9,
             "#4d9221"
            ],
            [
             1,
             "#276419"
            ]
           ],
           "sequential": [
            [
             0,
             "#0d0887"
            ],
            [
             0.1111111111111111,
             "#46039f"
            ],
            [
             0.2222222222222222,
             "#7201a8"
            ],
            [
             0.3333333333333333,
             "#9c179e"
            ],
            [
             0.4444444444444444,
             "#bd3786"
            ],
            [
             0.5555555555555556,
             "#d8576b"
            ],
            [
             0.6666666666666666,
             "#ed7953"
            ],
            [
             0.7777777777777778,
             "#fb9f3a"
            ],
            [
             0.8888888888888888,
             "#fdca26"
            ],
            [
             1,
             "#f0f921"
            ]
           ],
           "sequentialminus": [
            [
             0,
             "#0d0887"
            ],
            [
             0.1111111111111111,
             "#46039f"
            ],
            [
             0.2222222222222222,
             "#7201a8"
            ],
            [
             0.3333333333333333,
             "#9c179e"
            ],
            [
             0.4444444444444444,
             "#bd3786"
            ],
            [
             0.5555555555555556,
             "#d8576b"
            ],
            [
             0.6666666666666666,
             "#ed7953"
            ],
            [
             0.7777777777777778,
             "#fb9f3a"
            ],
            [
             0.8888888888888888,
             "#fdca26"
            ],
            [
             1,
             "#f0f921"
            ]
           ]
          },
          "colorway": [
           "#636efa",
           "#EF553B",
           "#00cc96",
           "#ab63fa",
           "#FFA15A",
           "#19d3f3",
           "#FF6692",
           "#B6E880",
           "#FF97FF",
           "#FECB52"
          ],
          "font": {
           "color": "#2a3f5f"
          },
          "geo": {
           "bgcolor": "white",
           "lakecolor": "white",
           "landcolor": "#E5ECF6",
           "showlakes": true,
           "showland": true,
           "subunitcolor": "white"
          },
          "hoverlabel": {
           "align": "left"
          },
          "hovermode": "closest",
          "mapbox": {
           "style": "light"
          },
          "paper_bgcolor": "white",
          "plot_bgcolor": "#E5ECF6",
          "polar": {
           "angularaxis": {
            "gridcolor": "white",
            "linecolor": "white",
            "ticks": ""
           },
           "bgcolor": "#E5ECF6",
           "radialaxis": {
            "gridcolor": "white",
            "linecolor": "white",
            "ticks": ""
           }
          },
          "scene": {
           "xaxis": {
            "backgroundcolor": "#E5ECF6",
            "gridcolor": "white",
            "gridwidth": 2,
            "linecolor": "white",
            "showbackground": true,
            "ticks": "",
            "zerolinecolor": "white"
           },
           "yaxis": {
            "backgroundcolor": "#E5ECF6",
            "gridcolor": "white",
            "gridwidth": 2,
            "linecolor": "white",
            "showbackground": true,
            "ticks": "",
            "zerolinecolor": "white"
           },
           "zaxis": {
            "backgroundcolor": "#E5ECF6",
            "gridcolor": "white",
            "gridwidth": 2,
            "linecolor": "white",
            "showbackground": true,
            "ticks": "",
            "zerolinecolor": "white"
           }
          },
          "shapedefaults": {
           "line": {
            "color": "#2a3f5f"
           }
          },
          "ternary": {
           "aaxis": {
            "gridcolor": "white",
            "linecolor": "white",
            "ticks": ""
           },
           "baxis": {
            "gridcolor": "white",
            "linecolor": "white",
            "ticks": ""
           },
           "bgcolor": "#E5ECF6",
           "caxis": {
            "gridcolor": "white",
            "linecolor": "white",
            "ticks": ""
           }
          },
          "title": {
           "x": 0.05
          },
          "xaxis": {
           "automargin": true,
           "gridcolor": "white",
           "linecolor": "white",
           "ticks": "",
           "title": {
            "standoff": 15
           },
           "zerolinecolor": "white",
           "zerolinewidth": 2
          },
          "yaxis": {
           "automargin": true,
           "gridcolor": "white",
           "linecolor": "white",
           "ticks": "",
           "title": {
            "standoff": 15
           },
           "zerolinecolor": "white",
           "zerolinewidth": 2
          }
         }
        },
        "title": {
         "text": "Uncertainty comparison between kmeans and random"
        },
        "xaxis": {
         "anchor": "y",
         "domain": [
          0,
          1
         ],
         "title": {
          "text": "rule"
         }
        },
        "yaxis": {
         "anchor": "x",
         "domain": [
          0,
          1
         ],
         "title": {
          "text": "value"
         }
        }
       }
      }
     },
     "metadata": {},
     "output_type": "display_data"
    }
   ],
   "source": [
    "pairs = get_pairs(rules)\n",
    "\n",
    "dfs = {}\n",
    "\n",
    "for r1, r2 in pairs:\n",
    "    r1_info = pickle.load(open(os.path.join(RULE_FOLDER, r1), \"rb\"))\n",
    "    r2_info = pickle.load(open(os.path.join(RULE_FOLDER, r2), \"rb\"))\n",
    "    \n",
    "    r1_df = pd.DataFrame(extract_res(r1_info))\n",
    "    r2_df = pd.DataFrame(extract_res(r2_info))\n",
    "    \n",
    "    \n",
    "    merged = pd.merge(r1_df, r2_df, on=\"rule\", suffixes=('_kmeans', '_random'))\n",
    "    merged.to_csv(f\"rules_{r1}_{r2}.csv\", index=False)\n",
    "\n",
    "    print(f\"Num rules {len(merged)}\")\n",
    "    fig = px.bar(merged, x='rule', y=['uncertainty_kmeans', 'uncertainty_random'], \n",
    "        title='Uncertainty comparison between kmeans and random', # put bars next to each other\n",
    "        barmode='group')\n",
    "    fig.write_html(f\"{r1}_{r2}.html\")\n",
    "    dfs[r1] = merged \n",
    "    fig.show()"
   ]
  },
  {
   "cell_type": "code",
   "execution_count": 55,
   "metadata": {},
   "outputs": [
    {
     "name": "stdout",
     "output_type": "stream",
     "text": [
      "['dataset=Brain Tumor, breaks=3, add_mult_rules=False, maf_method=kmeans.dsb', 'dataset=Brain Tumor, breaks=3, add_mult_rules=True, maf_method=kmeans.dsb']\n"
     ]
    }
   ],
   "source": [
    "ks = list(dfs.keys())\n",
    "print(ks)\n",
    "a = dfs[ks[1]]\n",
    "\n",
    "\n",
    "a[\"Uncertainty ratio\"]  = a[\"uncertainty_random\"] / a[\"uncertainty_kmeans\"]\n",
    "\n",
    "# remove inf\n",
    "res = a[\"Uncertainty ratio\"] \n",
    "res.replace([np.inf, -np.inf, \"\"], np.nan, inplace=True)\n",
    "\n",
    "res = a[\"Uncertainty ratio\"].dropna()\n",
    "\n",
    "res.describe().round(3).to_clipboard()"
   ]
  },
  {
   "cell_type": "code",
   "execution_count": 47,
   "metadata": {},
   "outputs": [
    {
     "data": {
      "text/plain": [
       "0      1.950997\n",
       "1      2.039998\n",
       "2      2.296427\n",
       "3      5.962318\n",
       "4      2.055425\n",
       "5      2.271974\n",
       "6      2.257644\n",
       "7      2.475599\n",
       "8      2.068167\n",
       "9      2.035401\n",
       "10     2.328404\n",
       "11     2.335880\n",
       "12          inf\n",
       "13     2.287148\n",
       "14     1.489149\n",
       "15     1.555324\n",
       "16     1.407726\n",
       "17     2.373192\n",
       "18     2.151206\n",
       "19     1.607796\n",
       "20     0.800000\n",
       "21     2.002392\n",
       "22     2.090169\n",
       "23     1.189022\n",
       "24     2.078127\n",
       "25     2.271453\n",
       "26    11.785043\n",
       "27     2.108319\n",
       "28          inf\n",
       "29    81.841992\n",
       "30     1.546927\n",
       "31     1.712679\n",
       "32          inf\n",
       "33     2.370462\n",
       "34     1.966143\n",
       "35     1.921688\n",
       "36          inf\n",
       "37     1.557658\n",
       "38     1.915628\n",
       "39     1.645202\n",
       "40     2.094582\n",
       "41     2.243877\n",
       "42     2.615344\n",
       "43     1.885207\n",
       "44     2.361644\n",
       "45     2.370196\n",
       "46     1.955638\n",
       "47     2.339852\n",
       "48     5.545559\n",
       "Name: Uncertainty ratio, dtype: float64"
      ]
     },
     "execution_count": 47,
     "metadata": {},
     "output_type": "execute_result"
    }
   ],
   "source": [
    "a[\"Uncertainty ratio\"].dropna()"
   ]
  },
  {
   "cell_type": "code",
   "execution_count": 31,
   "metadata": {},
   "outputs": [
    {
     "name": "stdout",
     "output_type": "stream",
     "text": [
      "Num rules 205\n"
     ]
    }
   ],
   "source": [
    "\n",
    "print(f\"Num rules {len(merged)}\")"
   ]
  },
  {
   "cell_type": "code",
   "execution_count": 71,
   "metadata": {},
   "outputs": [
    {
     "data": {
      "application/vnd.plotly.v1+json": {
       "config": {
        "plotlyServerURL": "https://plot.ly"
       },
       "data": [
        {
         "alignmentgroup": "True",
         "hovertemplate": "variable=uncertainty_kmeans<br>rule=%{x}<br>value=%{y}<extra></extra>",
         "legendgroup": "uncertainty_kmeans",
         "marker": {
          "color": "#636efa",
          "pattern": {
           "shape": ""
          }
         },
         "name": "uncertainty_kmeans",
         "offsetgroup": "uncertainty_kmeans",
         "orientation": "v",
         "showlegend": true,
         "textposition": "auto",
         "type": "bar",
         "x": [
          "Mean < 5.742",
          "5.742 < Mean < 9.608",
          "9.608 < Mean < 13.473",
          "Mean > 13.473",
          "Variance < 404.360",
          "404.360 < Variance < 715.446",
          "715.446 < Variance < 1026.532",
          "Variance > 1026.532",
          "Standard Deviation < 19.429",
          "19.429 < Standard Deviation < 25.295",
          "25.295 < Standard Deviation < 31.160",
          "Standard Deviation > 31.160",
          "Entropy < 0.026",
          "0.026 < Entropy < 0.073",
          "0.073 < Entropy < 0.120",
          "Entropy > 0.120",
          "Skewness < 2.351",
          "2.351 < Skewness < 4.068",
          "4.068 < Skewness < 5.784",
          "Skewness > 5.784",
          "Kurtosis < -14.806",
          "-14.806 < Kurtosis < 24.023",
          "24.023 < Kurtosis < 62.852",
          "Kurtosis > 62.852",
          "Contrast < 53.367",
          "53.367 < Contrast < 127.456",
          "127.456 < Contrast < 201.545",
          "Contrast > 201.545",
          "Energy < 0.117",
          "0.117 < Energy < 0.204",
          "0.204 < Energy < 0.290",
          "Energy > 0.290",
          "ASM < 0.019",
          "0.019 < ASM < 0.058",
          "0.058 < ASM < 0.097",
          "ASM > 0.097",
          "Homogeneity < 0.394",
          "0.394 < Homogeneity < 0.480",
          "0.480 < Homogeneity < 0.566",
          "Homogeneity > 0.566",
          "Dissimilarity < 3.439",
          "3.439 < Dissimilarity < 4.685",
          "4.685 < Dissimilarity < 5.932",
          "Dissimilarity > 5.932",
          "Correlation < 0.939",
          "0.939 < Correlation < 0.956",
          "0.956 < Correlation < 0.974",
          "Correlation > 0.974",
          "Coarseness = 7.46e-155"
         ],
         "xaxis": "x",
         "y": [
          0.3638245165348053,
          0.34522944688796997,
          0.32669562101364136,
          0.2797314524650574,
          0.3639086186885834,
          0.3539421856403351,
          0.36934101581573486,
          0.26130780577659607,
          0.36167657375335693,
          0.3460475504398346,
          0.3677767515182495,
          0.2600453197956085,
          0.3332318067550659,
          0.23810866475105286,
          0.1461596041917801,
          0.09179238975048065,
          0.12417963892221451,
          0.32519784569740295,
          0.3471229672431946,
          0.3607805669307709,
          1,
          0.3158538043498993,
          0.3558201789855957,
          0.3410537540912628,
          0.37143364548683167,
          0.355337917804718,
          0.10977672785520554,
          0.35635751485824585,
          0.33422741293907166,
          0.34733617305755615,
          0.05438433215022087,
          0.07056523859500885,
          0.3332318067550659,
          0.2400248646736145,
          0.14724284410476685,
          0.09188301861286163,
          0.3424234688282013,
          0.1017780750989914,
          0.26033592224121094,
          0.10329174250364304,
          0.394893616437912,
          0.35230186581611633,
          0.3145311176776886,
          0.3407725691795349,
          0.358727365732193,
          0.33264097571372986,
          0.34253647923469543,
          0.33338308334350586,
          0.13859030604362488
         ],
         "yaxis": "y"
        },
        {
         "alignmentgroup": "True",
         "hovertemplate": "variable=uncertainty_random<br>rule=%{x}<br>value=%{y}<extra></extra>",
         "legendgroup": "uncertainty_random",
         "marker": {
          "color": "#EF553B",
          "pattern": {
           "shape": ""
          }
         },
         "name": "uncertainty_random",
         "offsetgroup": "uncertainty_random",
         "orientation": "v",
         "showlegend": true,
         "textposition": "auto",
         "type": "bar",
         "x": [
          "Mean < 5.742",
          "5.742 < Mean < 9.608",
          "9.608 < Mean < 13.473",
          "Mean > 13.473",
          "Variance < 404.360",
          "404.360 < Variance < 715.446",
          "715.446 < Variance < 1026.532",
          "Variance > 1026.532",
          "Standard Deviation < 19.429",
          "19.429 < Standard Deviation < 25.295",
          "25.295 < Standard Deviation < 31.160",
          "Standard Deviation > 31.160",
          "Entropy < 0.026",
          "0.026 < Entropy < 0.073",
          "0.073 < Entropy < 0.120",
          "Entropy > 0.120",
          "Skewness < 2.351",
          "2.351 < Skewness < 4.068",
          "4.068 < Skewness < 5.784",
          "Skewness > 5.784",
          "Kurtosis < -14.806",
          "-14.806 < Kurtosis < 24.023",
          "24.023 < Kurtosis < 62.852",
          "Kurtosis > 62.852",
          "Contrast < 53.367",
          "53.367 < Contrast < 127.456",
          "127.456 < Contrast < 201.545",
          "Contrast > 201.545",
          "Energy < 0.117",
          "0.117 < Energy < 0.204",
          "0.204 < Energy < 0.290",
          "Energy > 0.290",
          "ASM < 0.019",
          "0.019 < ASM < 0.058",
          "0.058 < ASM < 0.097",
          "ASM > 0.097",
          "Homogeneity < 0.394",
          "0.394 < Homogeneity < 0.480",
          "0.480 < Homogeneity < 0.566",
          "Homogeneity > 0.566",
          "Dissimilarity < 3.439",
          "3.439 < Dissimilarity < 4.685",
          "4.685 < Dissimilarity < 5.932",
          "Dissimilarity > 5.932",
          "Correlation < 0.939",
          "0.939 < Correlation < 0.956",
          "0.956 < Correlation < 0.974",
          "Correlation > 0.974",
          "Coarseness = 7.46e-155"
         ],
         "xaxis": "x",
         "y": [
          0.7825606465339661,
          0.8068097233772278,
          0.8055654168128967,
          0.6296613812446594,
          0.7350934743881226,
          0.8118234276771545,
          0.8232328295707703,
          0.6014939546585083,
          0.7532809376716614,
          0.8203833699226379,
          0.8133733868598938,
          0.7320668697357178,
          0.542273759841919,
          0.7939141392707825,
          0.5696961283683777,
          0.5903870463371277,
          0.4687789976596832,
          0.8260321617126465,
          0.8111227750778198,
          0.7194591164588928,
          0.800000011920929,
          0.6747491359710693,
          0.7318594455718994,
          0.6177775263786316,
          0.7344076633453369,
          0.8134694695472717,
          0.7657608389854431,
          0.826356053352356,
          0.615536630153656,
          0.4569513201713562,
          0.5697113871574402,
          0.6537286639213562,
          0.6503544449806213,
          0.8193784356117249,
          0.6772457361221313,
          0.5067388415336609,
          0.5631459355354309,
          0.5114434361457825,
          0.7005720138549805,
          0.6062989234924316,
          0.7662860751152039,
          0.8007113933563232,
          0.8108881115913391,
          0.6890829205513,
          0.8207050561904907,
          0.8168548345565796,
          0.7386121153831482,
          0.8191681504249573,
          0.800000011920929
         ],
         "yaxis": "y"
        }
       ],
       "layout": {
        "barmode": "group",
        "legend": {
         "title": {
          "text": "variable"
         },
         "tracegroupgap": 0
        },
        "template": {
         "data": {
          "bar": [
           {
            "error_x": {
             "color": "#2a3f5f"
            },
            "error_y": {
             "color": "#2a3f5f"
            },
            "marker": {
             "line": {
              "color": "#E5ECF6",
              "width": 0.5
             },
             "pattern": {
              "fillmode": "overlay",
              "size": 10,
              "solidity": 0.2
             }
            },
            "type": "bar"
           }
          ],
          "barpolar": [
           {
            "marker": {
             "line": {
              "color": "#E5ECF6",
              "width": 0.5
             },
             "pattern": {
              "fillmode": "overlay",
              "size": 10,
              "solidity": 0.2
             }
            },
            "type": "barpolar"
           }
          ],
          "carpet": [
           {
            "aaxis": {
             "endlinecolor": "#2a3f5f",
             "gridcolor": "white",
             "linecolor": "white",
             "minorgridcolor": "white",
             "startlinecolor": "#2a3f5f"
            },
            "baxis": {
             "endlinecolor": "#2a3f5f",
             "gridcolor": "white",
             "linecolor": "white",
             "minorgridcolor": "white",
             "startlinecolor": "#2a3f5f"
            },
            "type": "carpet"
           }
          ],
          "choropleth": [
           {
            "colorbar": {
             "outlinewidth": 0,
             "ticks": ""
            },
            "type": "choropleth"
           }
          ],
          "contour": [
           {
            "colorbar": {
             "outlinewidth": 0,
             "ticks": ""
            },
            "colorscale": [
             [
              0,
              "#0d0887"
             ],
             [
              0.1111111111111111,
              "#46039f"
             ],
             [
              0.2222222222222222,
              "#7201a8"
             ],
             [
              0.3333333333333333,
              "#9c179e"
             ],
             [
              0.4444444444444444,
              "#bd3786"
             ],
             [
              0.5555555555555556,
              "#d8576b"
             ],
             [
              0.6666666666666666,
              "#ed7953"
             ],
             [
              0.7777777777777778,
              "#fb9f3a"
             ],
             [
              0.8888888888888888,
              "#fdca26"
             ],
             [
              1,
              "#f0f921"
             ]
            ],
            "type": "contour"
           }
          ],
          "contourcarpet": [
           {
            "colorbar": {
             "outlinewidth": 0,
             "ticks": ""
            },
            "type": "contourcarpet"
           }
          ],
          "heatmap": [
           {
            "colorbar": {
             "outlinewidth": 0,
             "ticks": ""
            },
            "colorscale": [
             [
              0,
              "#0d0887"
             ],
             [
              0.1111111111111111,
              "#46039f"
             ],
             [
              0.2222222222222222,
              "#7201a8"
             ],
             [
              0.3333333333333333,
              "#9c179e"
             ],
             [
              0.4444444444444444,
              "#bd3786"
             ],
             [
              0.5555555555555556,
              "#d8576b"
             ],
             [
              0.6666666666666666,
              "#ed7953"
             ],
             [
              0.7777777777777778,
              "#fb9f3a"
             ],
             [
              0.8888888888888888,
              "#fdca26"
             ],
             [
              1,
              "#f0f921"
             ]
            ],
            "type": "heatmap"
           }
          ],
          "heatmapgl": [
           {
            "colorbar": {
             "outlinewidth": 0,
             "ticks": ""
            },
            "colorscale": [
             [
              0,
              "#0d0887"
             ],
             [
              0.1111111111111111,
              "#46039f"
             ],
             [
              0.2222222222222222,
              "#7201a8"
             ],
             [
              0.3333333333333333,
              "#9c179e"
             ],
             [
              0.4444444444444444,
              "#bd3786"
             ],
             [
              0.5555555555555556,
              "#d8576b"
             ],
             [
              0.6666666666666666,
              "#ed7953"
             ],
             [
              0.7777777777777778,
              "#fb9f3a"
             ],
             [
              0.8888888888888888,
              "#fdca26"
             ],
             [
              1,
              "#f0f921"
             ]
            ],
            "type": "heatmapgl"
           }
          ],
          "histogram": [
           {
            "marker": {
             "pattern": {
              "fillmode": "overlay",
              "size": 10,
              "solidity": 0.2
             }
            },
            "type": "histogram"
           }
          ],
          "histogram2d": [
           {
            "colorbar": {
             "outlinewidth": 0,
             "ticks": ""
            },
            "colorscale": [
             [
              0,
              "#0d0887"
             ],
             [
              0.1111111111111111,
              "#46039f"
             ],
             [
              0.2222222222222222,
              "#7201a8"
             ],
             [
              0.3333333333333333,
              "#9c179e"
             ],
             [
              0.4444444444444444,
              "#bd3786"
             ],
             [
              0.5555555555555556,
              "#d8576b"
             ],
             [
              0.6666666666666666,
              "#ed7953"
             ],
             [
              0.7777777777777778,
              "#fb9f3a"
             ],
             [
              0.8888888888888888,
              "#fdca26"
             ],
             [
              1,
              "#f0f921"
             ]
            ],
            "type": "histogram2d"
           }
          ],
          "histogram2dcontour": [
           {
            "colorbar": {
             "outlinewidth": 0,
             "ticks": ""
            },
            "colorscale": [
             [
              0,
              "#0d0887"
             ],
             [
              0.1111111111111111,
              "#46039f"
             ],
             [
              0.2222222222222222,
              "#7201a8"
             ],
             [
              0.3333333333333333,
              "#9c179e"
             ],
             [
              0.4444444444444444,
              "#bd3786"
             ],
             [
              0.5555555555555556,
              "#d8576b"
             ],
             [
              0.6666666666666666,
              "#ed7953"
             ],
             [
              0.7777777777777778,
              "#fb9f3a"
             ],
             [
              0.8888888888888888,
              "#fdca26"
             ],
             [
              1,
              "#f0f921"
             ]
            ],
            "type": "histogram2dcontour"
           }
          ],
          "mesh3d": [
           {
            "colorbar": {
             "outlinewidth": 0,
             "ticks": ""
            },
            "type": "mesh3d"
           }
          ],
          "parcoords": [
           {
            "line": {
             "colorbar": {
              "outlinewidth": 0,
              "ticks": ""
             }
            },
            "type": "parcoords"
           }
          ],
          "pie": [
           {
            "automargin": true,
            "type": "pie"
           }
          ],
          "scatter": [
           {
            "fillpattern": {
             "fillmode": "overlay",
             "size": 10,
             "solidity": 0.2
            },
            "type": "scatter"
           }
          ],
          "scatter3d": [
           {
            "line": {
             "colorbar": {
              "outlinewidth": 0,
              "ticks": ""
             }
            },
            "marker": {
             "colorbar": {
              "outlinewidth": 0,
              "ticks": ""
             }
            },
            "type": "scatter3d"
           }
          ],
          "scattercarpet": [
           {
            "marker": {
             "colorbar": {
              "outlinewidth": 0,
              "ticks": ""
             }
            },
            "type": "scattercarpet"
           }
          ],
          "scattergeo": [
           {
            "marker": {
             "colorbar": {
              "outlinewidth": 0,
              "ticks": ""
             }
            },
            "type": "scattergeo"
           }
          ],
          "scattergl": [
           {
            "marker": {
             "colorbar": {
              "outlinewidth": 0,
              "ticks": ""
             }
            },
            "type": "scattergl"
           }
          ],
          "scattermapbox": [
           {
            "marker": {
             "colorbar": {
              "outlinewidth": 0,
              "ticks": ""
             }
            },
            "type": "scattermapbox"
           }
          ],
          "scatterpolar": [
           {
            "marker": {
             "colorbar": {
              "outlinewidth": 0,
              "ticks": ""
             }
            },
            "type": "scatterpolar"
           }
          ],
          "scatterpolargl": [
           {
            "marker": {
             "colorbar": {
              "outlinewidth": 0,
              "ticks": ""
             }
            },
            "type": "scatterpolargl"
           }
          ],
          "scatterternary": [
           {
            "marker": {
             "colorbar": {
              "outlinewidth": 0,
              "ticks": ""
             }
            },
            "type": "scatterternary"
           }
          ],
          "surface": [
           {
            "colorbar": {
             "outlinewidth": 0,
             "ticks": ""
            },
            "colorscale": [
             [
              0,
              "#0d0887"
             ],
             [
              0.1111111111111111,
              "#46039f"
             ],
             [
              0.2222222222222222,
              "#7201a8"
             ],
             [
              0.3333333333333333,
              "#9c179e"
             ],
             [
              0.4444444444444444,
              "#bd3786"
             ],
             [
              0.5555555555555556,
              "#d8576b"
             ],
             [
              0.6666666666666666,
              "#ed7953"
             ],
             [
              0.7777777777777778,
              "#fb9f3a"
             ],
             [
              0.8888888888888888,
              "#fdca26"
             ],
             [
              1,
              "#f0f921"
             ]
            ],
            "type": "surface"
           }
          ],
          "table": [
           {
            "cells": {
             "fill": {
              "color": "#EBF0F8"
             },
             "line": {
              "color": "white"
             }
            },
            "header": {
             "fill": {
              "color": "#C8D4E3"
             },
             "line": {
              "color": "white"
             }
            },
            "type": "table"
           }
          ]
         },
         "layout": {
          "annotationdefaults": {
           "arrowcolor": "#2a3f5f",
           "arrowhead": 0,
           "arrowwidth": 1
          },
          "autotypenumbers": "strict",
          "coloraxis": {
           "colorbar": {
            "outlinewidth": 0,
            "ticks": ""
           }
          },
          "colorscale": {
           "diverging": [
            [
             0,
             "#8e0152"
            ],
            [
             0.1,
             "#c51b7d"
            ],
            [
             0.2,
             "#de77ae"
            ],
            [
             0.3,
             "#f1b6da"
            ],
            [
             0.4,
             "#fde0ef"
            ],
            [
             0.5,
             "#f7f7f7"
            ],
            [
             0.6,
             "#e6f5d0"
            ],
            [
             0.7,
             "#b8e186"
            ],
            [
             0.8,
             "#7fbc41"
            ],
            [
             0.9,
             "#4d9221"
            ],
            [
             1,
             "#276419"
            ]
           ],
           "sequential": [
            [
             0,
             "#0d0887"
            ],
            [
             0.1111111111111111,
             "#46039f"
            ],
            [
             0.2222222222222222,
             "#7201a8"
            ],
            [
             0.3333333333333333,
             "#9c179e"
            ],
            [
             0.4444444444444444,
             "#bd3786"
            ],
            [
             0.5555555555555556,
             "#d8576b"
            ],
            [
             0.6666666666666666,
             "#ed7953"
            ],
            [
             0.7777777777777778,
             "#fb9f3a"
            ],
            [
             0.8888888888888888,
             "#fdca26"
            ],
            [
             1,
             "#f0f921"
            ]
           ],
           "sequentialminus": [
            [
             0,
             "#0d0887"
            ],
            [
             0.1111111111111111,
             "#46039f"
            ],
            [
             0.2222222222222222,
             "#7201a8"
            ],
            [
             0.3333333333333333,
             "#9c179e"
            ],
            [
             0.4444444444444444,
             "#bd3786"
            ],
            [
             0.5555555555555556,
             "#d8576b"
            ],
            [
             0.6666666666666666,
             "#ed7953"
            ],
            [
             0.7777777777777778,
             "#fb9f3a"
            ],
            [
             0.8888888888888888,
             "#fdca26"
            ],
            [
             1,
             "#f0f921"
            ]
           ]
          },
          "colorway": [
           "#636efa",
           "#EF553B",
           "#00cc96",
           "#ab63fa",
           "#FFA15A",
           "#19d3f3",
           "#FF6692",
           "#B6E880",
           "#FF97FF",
           "#FECB52"
          ],
          "font": {
           "color": "#2a3f5f"
          },
          "geo": {
           "bgcolor": "white",
           "lakecolor": "white",
           "landcolor": "#E5ECF6",
           "showlakes": true,
           "showland": true,
           "subunitcolor": "white"
          },
          "hoverlabel": {
           "align": "left"
          },
          "hovermode": "closest",
          "mapbox": {
           "style": "light"
          },
          "paper_bgcolor": "white",
          "plot_bgcolor": "#E5ECF6",
          "polar": {
           "angularaxis": {
            "gridcolor": "white",
            "linecolor": "white",
            "ticks": ""
           },
           "bgcolor": "#E5ECF6",
           "radialaxis": {
            "gridcolor": "white",
            "linecolor": "white",
            "ticks": ""
           }
          },
          "scene": {
           "xaxis": {
            "backgroundcolor": "#E5ECF6",
            "gridcolor": "white",
            "gridwidth": 2,
            "linecolor": "white",
            "showbackground": true,
            "ticks": "",
            "zerolinecolor": "white"
           },
           "yaxis": {
            "backgroundcolor": "#E5ECF6",
            "gridcolor": "white",
            "gridwidth": 2,
            "linecolor": "white",
            "showbackground": true,
            "ticks": "",
            "zerolinecolor": "white"
           },
           "zaxis": {
            "backgroundcolor": "#E5ECF6",
            "gridcolor": "white",
            "gridwidth": 2,
            "linecolor": "white",
            "showbackground": true,
            "ticks": "",
            "zerolinecolor": "white"
           }
          },
          "shapedefaults": {
           "line": {
            "color": "#2a3f5f"
           }
          },
          "ternary": {
           "aaxis": {
            "gridcolor": "white",
            "linecolor": "white",
            "ticks": ""
           },
           "baxis": {
            "gridcolor": "white",
            "linecolor": "white",
            "ticks": ""
           },
           "bgcolor": "#E5ECF6",
           "caxis": {
            "gridcolor": "white",
            "linecolor": "white",
            "ticks": ""
           }
          },
          "title": {
           "x": 0.05
          },
          "xaxis": {
           "automargin": true,
           "gridcolor": "white",
           "linecolor": "white",
           "ticks": "",
           "title": {
            "standoff": 15
           },
           "zerolinecolor": "white",
           "zerolinewidth": 2
          },
          "yaxis": {
           "automargin": true,
           "gridcolor": "white",
           "linecolor": "white",
           "ticks": "",
           "title": {
            "standoff": 15
           },
           "zerolinecolor": "white",
           "zerolinewidth": 2
          }
         }
        },
        "title": {
         "text": "Uncertainty comparison between kmeans and random"
        },
        "xaxis": {
         "anchor": "y",
         "domain": [
          0,
          1
         ],
         "title": {
          "text": "rule"
         }
        },
        "yaxis": {
         "anchor": "x",
         "domain": [
          0,
          1
         ],
         "title": {
          "text": "value"
         }
        }
       }
      }
     },
     "metadata": {},
     "output_type": "display_data"
    }
   ],
   "source": [
    "px.bar(merged, x='rule', y=['uncertainty_kmeans', 'uncertainty_random'], \n",
    "       title='Uncertainty comparison between kmeans and random', # put bars next to each other\n",
    "       barmode='group')"
   ]
  },
  {
   "cell_type": "code",
   "execution_count": null,
   "metadata": {},
   "outputs": [],
   "source": []
  }
 ],
 "metadata": {
  "kernelspec": {
   "display_name": "thesis",
   "language": "python",
   "name": "python3"
  },
  "language_info": {
   "codemirror_mode": {
    "name": "ipython",
    "version": 3
   },
   "file_extension": ".py",
   "mimetype": "text/x-python",
   "name": "python",
   "nbconvert_exporter": "python",
   "pygments_lexer": "ipython3",
   "version": "3.10.14"
  }
 },
 "nbformat": 4,
 "nbformat_minor": 2
}
