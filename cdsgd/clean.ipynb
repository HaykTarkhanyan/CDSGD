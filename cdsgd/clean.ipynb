{
 "cells": [
  {
   "cell_type": "markdown",
   "metadata": {},
   "source": [
    "# Imports and variable setup"
   ]
  },
  {
   "cell_type": "code",
   "execution_count": 1,
   "metadata": {},
   "outputs": [
    {
     "name": "stderr",
     "output_type": "stream",
     "text": [
      "c:\\Users\\hayk_\\.conda\\envs\\thesis\\lib\\site-packages\\tqdm\\auto.py:21: TqdmWarning: IProgress not found. Please update jupyter and ipywidgets. See https://ipywidgets.readthedocs.io/en/stable/user_install.html\n",
      "  from .autonotebook import tqdm as notebook_tqdm\n"
     ]
    }
   ],
   "source": [
    "from sklearn.cluster import KMeans, AgglomerativeClustering, DBSCAN\n",
    "from sklearn.metrics import silhouette_score, calinski_harabasz_score\n",
    "import plotly.express as px\n",
    "import pandas as pd\n",
    "import numpy as np\n",
    "import os\n",
    "\n",
    "import datetime \n",
    "\n",
    "from sklearn.metrics import accuracy_score, f1_score\n",
    "from sklearn.metrics import confusion_matrix\n",
    "from sklearn.model_selection import cross_validate, cross_val_score\n",
    "from sklearn.model_selection import train_test_split\n",
    "from sklearn.preprocessing import StandardScaler\n",
    "\n",
    "from utils import filter_by_rule, detect_outliers_z_score, report_results, run_dbscan, \\\n",
    "    get_kdist_plot, dbscan_predict, calculate_adjusted_density, evaluate_classifier, \\\n",
    "    get_distance, remove_outliers_and_normalize, evaluate_clustering\n",
    "from config import *\n",
    "import pickle\n",
    "\n",
    "\n",
    "import warnings\n",
    "from pandas.errors import SettingWithCopyWarning\n",
    "warnings.simplefilter(action='ignore', category=(SettingWithCopyWarning, FutureWarning, UserWarning))\n",
    "\n",
    "from DSClassifierMultiQ import DSClassifierMultiQ\n",
    "\n",
    "import pickle"
   ]
  },
  {
   "cell_type": "code",
   "execution_count": 2,
   "metadata": {},
   "outputs": [],
   "source": [
    "import logging\n",
    "\n",
    "\n",
    "if not os.path.exists(\"logs\"):\n",
    "    os.mkdir(\"logs\")\n",
    "\n",
    "log_file = os.path.join(\"logs\", \"api.log\")\n",
    "\n",
    "rfh = logging.handlers.RotatingFileHandler(\n",
    "    filename=log_file,\n",
    "    mode='a',\n",
    "    maxBytes=LOGGING_MAX_SIZE_MB*1024*1024,\n",
    "    backupCount=LOGGING_BACKUP_COUNT,\n",
    "    encoding=None,\n",
    "    delay=0\n",
    ")\n",
    "\n",
    "logging.getLogger('matplotlib.font_manager').disabled = True\n",
    "\n",
    "console_handler = logging.StreamHandler()\n",
    "\n",
    "logging.basicConfig(\n",
    "    level=logging.DEBUG,\n",
    "    format=\"%(asctime)s [%(levelname)s] %(message)s\",\n",
    "    datefmt=\"%y-%m-%d %H:%M:%S\",\n",
    "    handlers=[\n",
    "        rfh,\n",
    "        console_handler\n",
    "    ],\n",
    ")\n",
    "\n",
    "logger = logging.getLogger(__name__)"
   ]
  },
  {
   "cell_type": "code",
   "execution_count": 3,
   "metadata": {},
   "outputs": [
    {
     "name": "stderr",
     "output_type": "stream",
     "text": [
      "24-04-28 02:42:03 [INFO] Found 6 datasets\n"
     ]
    }
   ],
   "source": [
    "#  https://www.kaggle.com/datasets/jakeshbohaju/brain-tumor/data\n",
    "DATASET_FOLDER = \"datasets\" \n",
    "\n",
    "assert os.path.exists(DATASET_FOLDER), \"Dataset folder not found\"\n",
    "\n",
    "datasets = os.listdir(DATASET_FOLDER)\n",
    "logging.info(f\"Found {len(datasets)} datasets\")"
   ]
  },
  {
   "cell_type": "markdown",
   "metadata": {},
   "source": [
    "# All in one cell"
   ]
  },
  {
   "cell_type": "code",
   "execution_count": 6,
   "metadata": {},
   "outputs": [],
   "source": [
    "def do_all_for_dataset(dataset, nrows=None, ratio_deviation=0.1, label_col_for_dist=LABEL_COL_FOR_DIST):\n",
    "    dataset_name = dataset.split(\".\")[0]\n",
    "    if nrows:\n",
    "        data = pd.read_csv(os.path.join(DATASET_FOLDER, dataset)).sample(nrows)\n",
    "    else:\n",
    "        data = pd.read_csv(os.path.join(DATASET_FOLDER, dataset))    \n",
    "    \n",
    "    data.head(2)\n",
    "\n",
    "    logger.debug(f\"Dataset: {dataset_name} | Shape: {data.shape}\")\n",
    "    # if missing more than 20% of the data, drop the column\n",
    "    missing_threshold = 0.2\n",
    "    data = data.dropna(thresh=len(data) * (1 - missing_threshold), axis=1)\n",
    "    logger.debug(f\"{data.shape} droped columns with more than {missing_threshold*100:.0f}% missing values\")\n",
    "    # drop rows with missing values\n",
    "    data = data.dropna()\n",
    "    logger.debug(f\"{data.shape} drop rows with missing values\")\n",
    "\n",
    "    assert data.isna().sum().sum() == 0, \"Dataset contains missing values\"\n",
    "    assert \"labels\" in data.columns, \"Dataset does not contain `labels` column\"\n",
    "    assert data.labels.nunique() == 2, f\"Dataset labels are not binary ({data.labels.unique()})\"\n",
    "\n",
    "    label_ratio = data.labels.value_counts(normalize=True).iloc[0]\n",
    "    assert abs(label_ratio -0.5) < ratio_deviation, f\"Label ratio is not balanced ({label_ratio})\"\n",
    "\n",
    "    # leave only numeric columns\n",
    "    data = data.select_dtypes(include=[np.number])\n",
    "    logger.debug(f\"{data.shape} drop non-numeric columns\")\n",
    "\n",
    "    # move labels column to the end \n",
    "    data = data[[col for col in data.columns if col != \"labels\"] + [\"labels\"]]\n",
    "\n",
    "    logging.info(f\"------ Dataset: {dataset_name} | Shape: {data.shape} | Label ratio: {label_ratio:.2f} -------\")\n",
    "\n",
    "    data = data.sample(frac=1, random_state=42).reset_index(drop=True)\n",
    "    data = data.apply(pd.to_numeric)\n",
    "    cut = int(train_set_size*len(data))\n",
    "\n",
    "    train_data_df = data.iloc[:cut]\n",
    "    test_data_df = data.iloc[cut:]\n",
    "\n",
    "    X_train = data.iloc[:cut, :-1].values\n",
    "    y_train = data.iloc[:cut, -1].values\n",
    "    X_test = data.iloc[cut:, :-1].values\n",
    "    y_test = data.iloc[cut:, -1].values\n",
    "\n",
    "    logging.info(f\"Step 0: Data split done | {len(X_train)} - {len(X_test)}\")\n",
    "\n",
    "\n",
    "    st_scaler = StandardScaler().fit(train_data_df)\n",
    "    # break\n",
    "    scale = st_scaler.scale_\n",
    "    mean = st_scaler.mean_\n",
    "    var = st_scaler.var_ \n",
    "\n",
    "    X_train_scaled = st_scaler.transform(train_data_df)\n",
    "    X_test_scaled = st_scaler.transform(test_data_df)  #! during inference we won't have this\n",
    "\n",
    "    logging.debug(\"Step 1: Standard scaling complete\")\n",
    "\n",
    "    CLUSTERING_ALG = \"dbscan\" # in future we'll add DBSCAN\n",
    "    # CLUSTERING_ALG = \"kmeans\" # in future we'll add DBSCAN\n",
    "\n",
    "    logging.info(f\"Step 2.1: Performing {CLUSTERING_ALG} clustering\")\n",
    "\n",
    "\n",
    "    db_eps = None # if DBSCAN then will get overriden\n",
    "    if CLUSTERING_ALG == \"kmeans\":\n",
    "        clustering_model = KMeans(n_clusters=2, random_state=42, n_init=\"auto\")      \n",
    "        clustering_model.fit(X_train_scaled)  \n",
    "        \n",
    "        clustering_labels_train = clustering_model.predict(X_train_scaled)\n",
    "        clustering_labels_test = clustering_model.predict(X_test_scaled)\n",
    "    else:\n",
    "        clustering_model = run_dbscan(X_train_scaled, eps=0.01, max_eps=20, min_samples=2, step=0.05) #*X_train.shape[1] - 1)\n",
    "        if clustering_model is None:\n",
    "            logging.warning(f\"Could not find the desired number of clusters for {dataset_name}\")\n",
    "            raise Exception(\"Clustering failed\")\n",
    "        \n",
    "        clustering_labels_train = dbscan_predict(clustering_model, X_train_scaled)\n",
    "        clustering_labels_test = dbscan_predict(clustering_model, X_test_scaled)\n",
    "        \n",
    "        db_eps = clustering_model.eps\n",
    "        \n",
    "\n",
    "\n",
    "    train_data_df[\"labels_clustering\"] = clustering_labels_train\n",
    "    test_data_df[\"labels_clustering\"] = clustering_labels_test\n",
    "\n",
    "    logger.info(f\"Step 2.1: Clustering and inference done\")\n",
    "        \n",
    "    evaluate_clustering(X_train_scaled, clustering_labels_train, clustering_model, \n",
    "                        CLUSTERING_ALG, print_results=True)\n",
    "    evaluate_clustering(X_test_scaled, clustering_labels_test, clustering_model, \n",
    "                        CLUSTERING_ALG, print_results=True, dataset=\"test\")\n",
    "\n",
    "    logging.info(\"Step 2.2: Clustering evaluation done\")\n",
    "\n",
    "    evaluate_classifier(y_actual=y_train, y_clust=clustering_labels_train, \n",
    "                        dataset=\"train\", print_results=True)\n",
    "    evaluate_classifier(y_actual=y_test, y_clust=clustering_labels_test, \n",
    "                        dataset=\"test\", print_results=True)\n",
    "\n",
    "    logger.info(\"Step 3: Clustering as a classifier, evaluation done\")\n",
    "\n",
    "    train_data_df[\"distance\"] = get_distance(X_train_scaled, clustering_model, CLUSTERING_ALG, density_radius=db_eps)\n",
    "    test_data_df[\"distance\"] = get_distance(X_test_scaled, clustering_model, CLUSTERING_ALG, density_radius=db_eps)\n",
    "\n",
    "    train_data_df[\"distance_norm\"] = remove_outliers_and_normalize(train_data_df, label_column=\"labels_clustering\") \n",
    "    test_data_df[\"distance_norm\"] = remove_outliers_and_normalize(test_data_df, label_column=\"labels_clustering\")\n",
    "\n",
    "    assert train_data_df.isna().sum().sum() == 0, \"Train data contains NaNs\"\n",
    "    assert test_data_df.isna().sum().sum() == 0, \"Train data contains NaNs\"\n",
    "\n",
    "    logger.info(f\"Step 4: Distance calculation done\")\n",
    "\n",
    "    num_breaks = 3\n",
    "    mult_rules = False\n",
    "    debug_mode = True\n",
    "    print_final_model = True\n",
    "    num_workers = 0\n",
    "\n",
    "    RULE_FOLDER = \"rules_saved_clean\"\n",
    "\n",
    "    ignore_for_training = [\"labels_clustering\", \"distance_norm\"]\n",
    "    df_cols = [i for i in list(data.columns) if i not in ignore_for_training]\n",
    "\n",
    "    rows_use = None\n",
    "    if rows_use:\n",
    "        train_data_df_use = train_data_df.head(rows_use)\n",
    "        X_train_use = X_train[:rows_use]\n",
    "        y_train_use = y_train[:rows_use]\n",
    "    else:\n",
    "        train_data_df_use = train_data_df\n",
    "        X_train_use = X_train\n",
    "        y_train_use = y_train\n",
    "    logger.debug(f\"Train: {len(X_train_use)}\")\n",
    "    for method in [\"clustering\", \"random\"]:\n",
    "        name = f\"dataset={dataset_name}, label_for_dist={LABEL_COL_FOR_DIST}, clust={CLUSTERING_ALG}, breaks={num_breaks}, add_mult_rules={mult_rules}, maf_method={method}\"\n",
    "        logger.info(f\"Step 5: Run DST ({name})\")\n",
    "        DSC = DSClassifierMultiQ(2, debug_mode=debug_mode, num_workers=num_workers, maf_method=method,\n",
    "                                data=train_data_df_use, precompute_rules=True, )#.head(rows_use))\n",
    "        logger.debug(f\"\\tModel init done\")    \n",
    "        res = DSC.fit(X_train_use, y_train_use, \n",
    "                add_single_rules=True, single_rules_breaks=num_breaks, add_mult_rules=mult_rules,\n",
    "                column_names=df_cols, print_every_epochs=1, print_final_model=print_final_model)\n",
    "        losses, epoch, dt = res\n",
    "        logger.debug(f\"\\tModel fit done\")\n",
    "\n",
    "        DSC.model.save_rules_bin(os.path.join(RULE_FOLDER, f\"{name}.dsb\"))\n",
    "    #     most_important_rules = DSC.model.find_most_important_rules()\n",
    "    #     print(most_important_rules)\n",
    "        DSC.model.print_most_important_rules()\n",
    "        y_pred = DSC.predict(X_test)\n",
    "\n",
    "        logger.info(f\"Step 6: Inference done\")\n",
    "\n",
    "        report_results(y_test, y_pred, dataset=dataset_name, method=method,\n",
    "                    epoch=epoch, dt=dt, losses=losses, \n",
    "                    save_results=True, name=name, print_results=True,\n",
    "                    breaks=num_breaks, mult_rules=mult_rules, clustering_alg=CLUSTERING_ALG, label_for_dist=LABEL_COL_FOR_DIST)\n",
    "        logging.info(\"-\"*30)\n",
    "        \n",
    "        "
   ]
  },
  {
   "cell_type": "code",
   "execution_count": 7,
   "metadata": {},
   "outputs": [
    {
     "name": "stderr",
     "output_type": "stream",
     "text": [
      "24-04-28 02:56:20 [DEBUG] Dataset: C:\\Users\\hayk_\\OneDrive\\Desktop\\Thesis\\CDSGD\\cdsgd\\datasets_all\\Telecom_customer churn | Shape: (100000, 99)\n",
      "24-04-28 02:56:20 [DEBUG] (100000, 90) droped columns with more than 20% missing values\n",
      "24-04-28 02:56:20 [DEBUG] (78334, 90) drop rows with missing values\n",
      "24-04-28 02:56:20 [DEBUG] (78334, 74) drop non-numeric columns\n",
      "24-04-28 02:56:20 [INFO] ------ Dataset: C:\\Users\\hayk_\\OneDrive\\Desktop\\Thesis\\CDSGD\\cdsgd\\datasets_all\\Telecom_customer churn | Shape: (78334, 74) | Label ratio: 0.52 -------\n",
      "24-04-28 02:56:20 [INFO] Step 0: Data split done | 54833 - 23501\n",
      "24-04-28 02:56:20 [DEBUG] Step 1: Standard scaling complete\n",
      "24-04-28 02:56:20 [INFO] Step 2.1: Performing dbscan clustering\n",
      "Exception in thread Thread-12 (_readerthread):\n",
      "Traceback (most recent call last):\n",
      "  File \"c:\\Users\\hayk_\\.conda\\envs\\thesis\\lib\\threading.py\", line 1016, in _bootstrap_inner\n",
      "    self.run()\n",
      "  File \"c:\\Users\\hayk_\\.conda\\envs\\thesis\\lib\\threading.py\", line 953, in run\n",
      "    self._target(*self._args, **self._kwargs)\n",
      "  File \"c:\\Users\\hayk_\\.conda\\envs\\thesis\\lib\\subprocess.py\", line 1515, in _readerthread\n",
      "    buffer.append(fh.read())\n",
      "  File \"c:\\Users\\hayk_\\.conda\\envs\\thesis\\lib\\codecs.py\", line 322, in decode\n",
      "    (result, consumed) = self._buffer_decode(data, self.errors, final)\n",
      "UnicodeDecodeError: 'utf-8' codec can't decode byte 0x81 in position 3: invalid start byte\n",
      "  File \"c:\\Users\\hayk_\\.conda\\envs\\thesis\\lib\\site-packages\\joblib\\externals\\loky\\backend\\context.py\", line 282, in _count_physical_cores\n",
      "    raise ValueError(f\"found {cpu_count_physical} physical cores < 1\")\n"
     ]
    },
    {
     "ename": "KeyboardInterrupt",
     "evalue": "",
     "output_type": "error",
     "traceback": [
      "\u001b[1;31m---------------------------------------------------------------------------\u001b[0m",
      "\u001b[1;31mKeyboardInterrupt\u001b[0m                         Traceback (most recent call last)",
      "Cell \u001b[1;32mIn[7], line 7\u001b[0m\n\u001b[0;32m      5\u001b[0m \u001b[38;5;28;01mfor\u001b[39;00m dataset \u001b[38;5;129;01min\u001b[39;00m [\u001b[38;5;124mr\u001b[39m\u001b[38;5;124m\"\u001b[39m\u001b[38;5;124mC:\u001b[39m\u001b[38;5;124m\\\u001b[39m\u001b[38;5;124mUsers\u001b[39m\u001b[38;5;124m\\\u001b[39m\u001b[38;5;124mhayk_\u001b[39m\u001b[38;5;124m\\\u001b[39m\u001b[38;5;124mOneDrive\u001b[39m\u001b[38;5;124m\\\u001b[39m\u001b[38;5;124mDesktop\u001b[39m\u001b[38;5;124m\\\u001b[39m\u001b[38;5;124mThesis\u001b[39m\u001b[38;5;124m\\\u001b[39m\u001b[38;5;124mCDSGD\u001b[39m\u001b[38;5;124m\\\u001b[39m\u001b[38;5;124mcdsgd\u001b[39m\u001b[38;5;124m\\\u001b[39m\u001b[38;5;124mdatasets_all\u001b[39m\u001b[38;5;124m\\\u001b[39m\u001b[38;5;124mTelecom_customer churn.csv\u001b[39m\u001b[38;5;124m\"\u001b[39m]:\n\u001b[0;32m      6\u001b[0m     \u001b[38;5;28;01mtry\u001b[39;00m:\n\u001b[1;32m----> 7\u001b[0m         \u001b[43mdo_all_for_dataset\u001b[49m\u001b[43m(\u001b[49m\u001b[43mdataset\u001b[49m\u001b[43m,\u001b[49m\u001b[43m \u001b[49m\u001b[43mnrows\u001b[49m\u001b[38;5;241;43m=\u001b[39;49m\u001b[38;5;28;43;01mNone\u001b[39;49;00m\u001b[43m,\u001b[49m\u001b[43m \u001b[49m\u001b[43mratio_deviation\u001b[49m\u001b[38;5;241;43m=\u001b[39;49m\u001b[38;5;241;43m0.4\u001b[39;49m\u001b[43m)\u001b[49m\n\u001b[0;32m      8\u001b[0m     \u001b[38;5;28;01mexcept\u001b[39;00m \u001b[38;5;167;01mException\u001b[39;00m \u001b[38;5;28;01mas\u001b[39;00m e:\n\u001b[0;32m      9\u001b[0m         logging\u001b[38;5;241m.\u001b[39minfo(\u001b[38;5;124m\"\u001b[39m\u001b[38;5;124m#\u001b[39m\u001b[38;5;124m\"\u001b[39m\u001b[38;5;241m*\u001b[39m\u001b[38;5;241m80\u001b[39m)\n",
      "Cell \u001b[1;32mIn[6], line 75\u001b[0m, in \u001b[0;36mdo_all_for_dataset\u001b[1;34m(dataset, nrows, ratio_deviation, label_col_for_dist)\u001b[0m\n\u001b[0;32m     73\u001b[0m     clustering_labels_test \u001b[38;5;241m=\u001b[39m clustering_model\u001b[38;5;241m.\u001b[39mpredict(X_test_scaled)\n\u001b[0;32m     74\u001b[0m \u001b[38;5;28;01melse\u001b[39;00m:\n\u001b[1;32m---> 75\u001b[0m     clustering_model \u001b[38;5;241m=\u001b[39m \u001b[43mrun_dbscan\u001b[49m\u001b[43m(\u001b[49m\u001b[43mX_train_scaled\u001b[49m\u001b[43m,\u001b[49m\u001b[43m \u001b[49m\u001b[43meps\u001b[49m\u001b[38;5;241;43m=\u001b[39;49m\u001b[38;5;241;43m0.01\u001b[39;49m\u001b[43m,\u001b[49m\u001b[43m \u001b[49m\u001b[43mmax_eps\u001b[49m\u001b[38;5;241;43m=\u001b[39;49m\u001b[38;5;241;43m20\u001b[39;49m\u001b[43m,\u001b[49m\u001b[43m \u001b[49m\u001b[43mmin_samples\u001b[49m\u001b[38;5;241;43m=\u001b[39;49m\u001b[38;5;241;43m2\u001b[39;49m\u001b[43m,\u001b[49m\u001b[43m \u001b[49m\u001b[43mstep\u001b[49m\u001b[38;5;241;43m=\u001b[39;49m\u001b[38;5;241;43m0.05\u001b[39;49m\u001b[43m)\u001b[49m \u001b[38;5;66;03m#*X_train.shape[1] - 1)\u001b[39;00m\n\u001b[0;32m     76\u001b[0m     \u001b[38;5;28;01mif\u001b[39;00m clustering_model \u001b[38;5;129;01mis\u001b[39;00m \u001b[38;5;28;01mNone\u001b[39;00m:\n\u001b[0;32m     77\u001b[0m         logging\u001b[38;5;241m.\u001b[39mwarning(\u001b[38;5;124mf\u001b[39m\u001b[38;5;124m\"\u001b[39m\u001b[38;5;124mCould not find the desired number of clusters for \u001b[39m\u001b[38;5;132;01m{\u001b[39;00mdataset_name\u001b[38;5;132;01m}\u001b[39;00m\u001b[38;5;124m\"\u001b[39m)\n",
      "File \u001b[1;32mc:\\Users\\hayk_\\OneDrive\\Desktop\\Thesis\\CDSGD\\cdsgd\\utils.py:178\u001b[0m, in \u001b[0;36mrun_dbscan\u001b[1;34m(X_scaled, target_clusters, eps, min_samples, step, max_eps)\u001b[0m\n\u001b[0;32m    175\u001b[0m current_clusters \u001b[38;5;241m=\u001b[39m \u001b[38;5;241m0\u001b[39m\n\u001b[0;32m    176\u001b[0m \u001b[38;5;28;01mwhile\u001b[39;00m current_clusters \u001b[38;5;241m!=\u001b[39m target_clusters \u001b[38;5;129;01mand\u001b[39;00m eps \u001b[38;5;241m<\u001b[39m\u001b[38;5;241m=\u001b[39m max_eps:\n\u001b[0;32m    177\u001b[0m     \u001b[38;5;66;03m# DBSCAN with current eps and min_samples\u001b[39;00m\n\u001b[1;32m--> 178\u001b[0m     db \u001b[38;5;241m=\u001b[39m \u001b[43mDBSCAN\u001b[49m\u001b[43m(\u001b[49m\u001b[43meps\u001b[49m\u001b[38;5;241;43m=\u001b[39;49m\u001b[43meps\u001b[49m\u001b[43m,\u001b[49m\u001b[43m \u001b[49m\u001b[43mmin_samples\u001b[49m\u001b[38;5;241;43m=\u001b[39;49m\u001b[43mmin_samples\u001b[49m\u001b[43m)\u001b[49m\u001b[38;5;241;43m.\u001b[39;49m\u001b[43mfit\u001b[49m\u001b[43m(\u001b[49m\u001b[43mX_scaled\u001b[49m\u001b[43m)\u001b[49m\n\u001b[0;32m    179\u001b[0m     labels \u001b[38;5;241m=\u001b[39m db\u001b[38;5;241m.\u001b[39mlabels_\n\u001b[0;32m    181\u001b[0m     \u001b[38;5;66;03m# Exclude noise labels and count unique clusters\u001b[39;00m\n",
      "File \u001b[1;32mc:\\Users\\hayk_\\.conda\\envs\\thesis\\lib\\site-packages\\sklearn\\base.py:1152\u001b[0m, in \u001b[0;36m_fit_context.<locals>.decorator.<locals>.wrapper\u001b[1;34m(estimator, *args, **kwargs)\u001b[0m\n\u001b[0;32m   1145\u001b[0m     estimator\u001b[38;5;241m.\u001b[39m_validate_params()\n\u001b[0;32m   1147\u001b[0m \u001b[38;5;28;01mwith\u001b[39;00m config_context(\n\u001b[0;32m   1148\u001b[0m     skip_parameter_validation\u001b[38;5;241m=\u001b[39m(\n\u001b[0;32m   1149\u001b[0m         prefer_skip_nested_validation \u001b[38;5;129;01mor\u001b[39;00m global_skip_validation\n\u001b[0;32m   1150\u001b[0m     )\n\u001b[0;32m   1151\u001b[0m ):\n\u001b[1;32m-> 1152\u001b[0m     \u001b[38;5;28;01mreturn\u001b[39;00m fit_method(estimator, \u001b[38;5;241m*\u001b[39margs, \u001b[38;5;241m*\u001b[39m\u001b[38;5;241m*\u001b[39mkwargs)\n",
      "File \u001b[1;32mc:\\Users\\hayk_\\.conda\\envs\\thesis\\lib\\site-packages\\sklearn\\cluster\\_dbscan.py:376\u001b[0m, in \u001b[0;36mDBSCAN.fit\u001b[1;34m(self, X, y, sample_weight)\u001b[0m\n\u001b[0;32m    347\u001b[0m \u001b[38;5;129m@_fit_context\u001b[39m(\n\u001b[0;32m    348\u001b[0m     \u001b[38;5;66;03m# DBSCAN.metric is not validated yet\u001b[39;00m\n\u001b[0;32m    349\u001b[0m     prefer_skip_nested_validation\u001b[38;5;241m=\u001b[39m\u001b[38;5;28;01mFalse\u001b[39;00m\n\u001b[0;32m    350\u001b[0m )\n\u001b[0;32m    351\u001b[0m \u001b[38;5;28;01mdef\u001b[39;00m \u001b[38;5;21mfit\u001b[39m(\u001b[38;5;28mself\u001b[39m, X, y\u001b[38;5;241m=\u001b[39m\u001b[38;5;28;01mNone\u001b[39;00m, sample_weight\u001b[38;5;241m=\u001b[39m\u001b[38;5;28;01mNone\u001b[39;00m):\n\u001b[0;32m    352\u001b[0m \u001b[38;5;250m    \u001b[39m\u001b[38;5;124;03m\"\"\"Perform DBSCAN clustering from features, or distance matrix.\u001b[39;00m\n\u001b[0;32m    353\u001b[0m \n\u001b[0;32m    354\u001b[0m \u001b[38;5;124;03m    Parameters\u001b[39;00m\n\u001b[1;32m   (...)\u001b[0m\n\u001b[0;32m    374\u001b[0m \u001b[38;5;124;03m        Returns a fitted instance of self.\u001b[39;00m\n\u001b[0;32m    375\u001b[0m \u001b[38;5;124;03m    \"\"\"\u001b[39;00m\n\u001b[1;32m--> 376\u001b[0m     X \u001b[38;5;241m=\u001b[39m \u001b[38;5;28;43mself\u001b[39;49m\u001b[38;5;241;43m.\u001b[39;49m\u001b[43m_validate_data\u001b[49m\u001b[43m(\u001b[49m\u001b[43mX\u001b[49m\u001b[43m,\u001b[49m\u001b[43m \u001b[49m\u001b[43maccept_sparse\u001b[49m\u001b[38;5;241;43m=\u001b[39;49m\u001b[38;5;124;43m\"\u001b[39;49m\u001b[38;5;124;43mcsr\u001b[39;49m\u001b[38;5;124;43m\"\u001b[39;49m\u001b[43m)\u001b[49m\n\u001b[0;32m    378\u001b[0m     \u001b[38;5;28;01mif\u001b[39;00m sample_weight \u001b[38;5;129;01mis\u001b[39;00m \u001b[38;5;129;01mnot\u001b[39;00m \u001b[38;5;28;01mNone\u001b[39;00m:\n\u001b[0;32m    379\u001b[0m         sample_weight \u001b[38;5;241m=\u001b[39m _check_sample_weight(sample_weight, X)\n",
      "File \u001b[1;32mc:\\Users\\hayk_\\.conda\\envs\\thesis\\lib\\site-packages\\sklearn\\base.py:605\u001b[0m, in \u001b[0;36mBaseEstimator._validate_data\u001b[1;34m(self, X, y, reset, validate_separately, cast_to_ndarray, **check_params)\u001b[0m\n\u001b[0;32m    603\u001b[0m         out \u001b[38;5;241m=\u001b[39m X, y\n\u001b[0;32m    604\u001b[0m \u001b[38;5;28;01melif\u001b[39;00m \u001b[38;5;129;01mnot\u001b[39;00m no_val_X \u001b[38;5;129;01mand\u001b[39;00m no_val_y:\n\u001b[1;32m--> 605\u001b[0m     out \u001b[38;5;241m=\u001b[39m check_array(X, input_name\u001b[38;5;241m=\u001b[39m\u001b[38;5;124m\"\u001b[39m\u001b[38;5;124mX\u001b[39m\u001b[38;5;124m\"\u001b[39m, \u001b[38;5;241m*\u001b[39m\u001b[38;5;241m*\u001b[39mcheck_params)\n\u001b[0;32m    606\u001b[0m \u001b[38;5;28;01melif\u001b[39;00m no_val_X \u001b[38;5;129;01mand\u001b[39;00m \u001b[38;5;129;01mnot\u001b[39;00m no_val_y:\n\u001b[0;32m    607\u001b[0m     out \u001b[38;5;241m=\u001b[39m _check_y(y, \u001b[38;5;241m*\u001b[39m\u001b[38;5;241m*\u001b[39mcheck_params)\n",
      "File \u001b[1;32mc:\\Users\\hayk_\\.conda\\envs\\thesis\\lib\\site-packages\\sklearn\\utils\\validation.py:957\u001b[0m, in \u001b[0;36mcheck_array\u001b[1;34m(array, accept_sparse, accept_large_sparse, dtype, order, copy, force_all_finite, ensure_2d, allow_nd, ensure_min_samples, ensure_min_features, estimator, input_name)\u001b[0m\n\u001b[0;32m    951\u001b[0m         \u001b[38;5;28;01mraise\u001b[39;00m \u001b[38;5;167;01mValueError\u001b[39;00m(\n\u001b[0;32m    952\u001b[0m             \u001b[38;5;124m\"\u001b[39m\u001b[38;5;124mFound array with dim \u001b[39m\u001b[38;5;132;01m%d\u001b[39;00m\u001b[38;5;124m. \u001b[39m\u001b[38;5;132;01m%s\u001b[39;00m\u001b[38;5;124m expected <= 2.\u001b[39m\u001b[38;5;124m\"\u001b[39m\n\u001b[0;32m    953\u001b[0m             \u001b[38;5;241m%\u001b[39m (array\u001b[38;5;241m.\u001b[39mndim, estimator_name)\n\u001b[0;32m    954\u001b[0m         )\n\u001b[0;32m    956\u001b[0m     \u001b[38;5;28;01mif\u001b[39;00m force_all_finite:\n\u001b[1;32m--> 957\u001b[0m         \u001b[43m_assert_all_finite\u001b[49m\u001b[43m(\u001b[49m\n\u001b[0;32m    958\u001b[0m \u001b[43m            \u001b[49m\u001b[43marray\u001b[49m\u001b[43m,\u001b[49m\n\u001b[0;32m    959\u001b[0m \u001b[43m            \u001b[49m\u001b[43minput_name\u001b[49m\u001b[38;5;241;43m=\u001b[39;49m\u001b[43minput_name\u001b[49m\u001b[43m,\u001b[49m\n\u001b[0;32m    960\u001b[0m \u001b[43m            \u001b[49m\u001b[43mestimator_name\u001b[49m\u001b[38;5;241;43m=\u001b[39;49m\u001b[43mestimator_name\u001b[49m\u001b[43m,\u001b[49m\n\u001b[0;32m    961\u001b[0m \u001b[43m            \u001b[49m\u001b[43mallow_nan\u001b[49m\u001b[38;5;241;43m=\u001b[39;49m\u001b[43mforce_all_finite\u001b[49m\u001b[43m \u001b[49m\u001b[38;5;241;43m==\u001b[39;49m\u001b[43m \u001b[49m\u001b[38;5;124;43m\"\u001b[39;49m\u001b[38;5;124;43mallow-nan\u001b[39;49m\u001b[38;5;124;43m\"\u001b[39;49m\u001b[43m,\u001b[49m\n\u001b[0;32m    962\u001b[0m \u001b[43m        \u001b[49m\u001b[43m)\u001b[49m\n\u001b[0;32m    964\u001b[0m \u001b[38;5;28;01mif\u001b[39;00m ensure_min_samples \u001b[38;5;241m>\u001b[39m \u001b[38;5;241m0\u001b[39m:\n\u001b[0;32m    965\u001b[0m     n_samples \u001b[38;5;241m=\u001b[39m _num_samples(array)\n",
      "File \u001b[1;32mc:\\Users\\hayk_\\.conda\\envs\\thesis\\lib\\site-packages\\sklearn\\utils\\validation.py:118\u001b[0m, in \u001b[0;36m_assert_all_finite\u001b[1;34m(X, allow_nan, msg_dtype, estimator_name, input_name)\u001b[0m\n\u001b[0;32m    113\u001b[0m \u001b[38;5;66;03m# First try an O(n) time, O(1) space solution for the common case that\u001b[39;00m\n\u001b[0;32m    114\u001b[0m \u001b[38;5;66;03m# everything is finite; fall back to O(n) space `np.isinf/isnan` or custom\u001b[39;00m\n\u001b[0;32m    115\u001b[0m \u001b[38;5;66;03m# Cython implementation to prevent false positives and provide a detailed\u001b[39;00m\n\u001b[0;32m    116\u001b[0m \u001b[38;5;66;03m# error message.\u001b[39;00m\n\u001b[0;32m    117\u001b[0m \u001b[38;5;28;01mwith\u001b[39;00m np\u001b[38;5;241m.\u001b[39merrstate(over\u001b[38;5;241m=\u001b[39m\u001b[38;5;124m\"\u001b[39m\u001b[38;5;124mignore\u001b[39m\u001b[38;5;124m\"\u001b[39m):\n\u001b[1;32m--> 118\u001b[0m     first_pass_isfinite \u001b[38;5;241m=\u001b[39m xp\u001b[38;5;241m.\u001b[39misfinite(\u001b[43mxp\u001b[49m\u001b[38;5;241;43m.\u001b[39;49m\u001b[43msum\u001b[49m\u001b[43m(\u001b[49m\u001b[43mX\u001b[49m\u001b[43m)\u001b[49m)\n\u001b[0;32m    119\u001b[0m \u001b[38;5;28;01mif\u001b[39;00m first_pass_isfinite:\n\u001b[0;32m    120\u001b[0m     \u001b[38;5;28;01mreturn\u001b[39;00m\n",
      "File \u001b[1;32mc:\\Users\\hayk_\\.conda\\envs\\thesis\\lib\\site-packages\\numpy\\core\\fromnumeric.py:2313\u001b[0m, in \u001b[0;36msum\u001b[1;34m(a, axis, dtype, out, keepdims, initial, where)\u001b[0m\n\u001b[0;32m   2310\u001b[0m         \u001b[38;5;28;01mreturn\u001b[39;00m out\n\u001b[0;32m   2311\u001b[0m     \u001b[38;5;28;01mreturn\u001b[39;00m res\n\u001b[1;32m-> 2313\u001b[0m \u001b[38;5;28;01mreturn\u001b[39;00m \u001b[43m_wrapreduction\u001b[49m\u001b[43m(\u001b[49m\u001b[43ma\u001b[49m\u001b[43m,\u001b[49m\u001b[43m \u001b[49m\u001b[43mnp\u001b[49m\u001b[38;5;241;43m.\u001b[39;49m\u001b[43madd\u001b[49m\u001b[43m,\u001b[49m\u001b[43m \u001b[49m\u001b[38;5;124;43m'\u001b[39;49m\u001b[38;5;124;43msum\u001b[39;49m\u001b[38;5;124;43m'\u001b[39;49m\u001b[43m,\u001b[49m\u001b[43m \u001b[49m\u001b[43maxis\u001b[49m\u001b[43m,\u001b[49m\u001b[43m \u001b[49m\u001b[43mdtype\u001b[49m\u001b[43m,\u001b[49m\u001b[43m \u001b[49m\u001b[43mout\u001b[49m\u001b[43m,\u001b[49m\u001b[43m \u001b[49m\u001b[43mkeepdims\u001b[49m\u001b[38;5;241;43m=\u001b[39;49m\u001b[43mkeepdims\u001b[49m\u001b[43m,\u001b[49m\n\u001b[0;32m   2314\u001b[0m \u001b[43m                      \u001b[49m\u001b[43minitial\u001b[49m\u001b[38;5;241;43m=\u001b[39;49m\u001b[43minitial\u001b[49m\u001b[43m,\u001b[49m\u001b[43m \u001b[49m\u001b[43mwhere\u001b[49m\u001b[38;5;241;43m=\u001b[39;49m\u001b[43mwhere\u001b[49m\u001b[43m)\u001b[49m\n",
      "File \u001b[1;32mc:\\Users\\hayk_\\.conda\\envs\\thesis\\lib\\site-packages\\numpy\\core\\fromnumeric.py:88\u001b[0m, in \u001b[0;36m_wrapreduction\u001b[1;34m(obj, ufunc, method, axis, dtype, out, **kwargs)\u001b[0m\n\u001b[0;32m     85\u001b[0m         \u001b[38;5;28;01melse\u001b[39;00m:\n\u001b[0;32m     86\u001b[0m             \u001b[38;5;28;01mreturn\u001b[39;00m reduction(axis\u001b[38;5;241m=\u001b[39maxis, out\u001b[38;5;241m=\u001b[39mout, \u001b[38;5;241m*\u001b[39m\u001b[38;5;241m*\u001b[39mpasskwargs)\n\u001b[1;32m---> 88\u001b[0m \u001b[38;5;28;01mreturn\u001b[39;00m ufunc\u001b[38;5;241m.\u001b[39mreduce(obj, axis, dtype, out, \u001b[38;5;241m*\u001b[39m\u001b[38;5;241m*\u001b[39mpasskwargs)\n",
      "\u001b[1;31mKeyboardInterrupt\u001b[0m: "
     ]
    }
   ],
   "source": [
    "from tqdm import tqdm\n",
    "import traceback\n",
    "\n",
    "# for dataset in tqdm(datasets):\n",
    "for dataset in [r\"C:\\Users\\hayk_\\OneDrive\\Desktop\\Thesis\\CDSGD\\cdsgd\\datasets_all\\Telecom_customer churn.csv\"]:\n",
    "    try:\n",
    "        do_all_for_dataset(dataset, nrows=None, ratio_deviation=0.4)\n",
    "    except Exception as e:\n",
    "        logging.info(\"#\"*80)\n",
    "        logging.error(f\"Error for dataset {dataset}: {e}\")\n",
    "        logging.error(traceback.format_exc())\n",
    "        logging.info(\"#\"*80)\n",
    "        continue"
   ]
  },
  {
   "cell_type": "markdown",
   "metadata": {},
   "source": [
    "# Reading the data"
   ]
  },
  {
   "cell_type": "markdown",
   "metadata": {},
   "source": [
    "## Load the dataset, make checks"
   ]
  },
  {
   "cell_type": "code",
   "execution_count": 4,
   "metadata": {},
   "outputs": [
    {
     "name": "stderr",
     "output_type": "stream",
     "text": [
      "24-04-27 21:39:53 [DEBUG] Dataset: Telecom_customer churn | Shape: (100000, 99)\n",
      "24-04-27 21:39:54 [DEBUG] (100000, 90) droped columns with more than 20% missing values\n",
      "24-04-27 21:39:55 [DEBUG] (78334, 90) drop rows with missing values\n",
      "24-04-27 21:39:55 [DEBUG] (78334, 74) drop non-numeric columns\n",
      "24-04-27 21:39:56 [INFO] ------ Dataset: Telecom_customer churn | Shape: (78334, 74) | Label ratio: 0.52 -------\n"
     ]
    }
   ],
   "source": [
    "dataset = datasets[1]\n",
    "dataset_name = dataset.split(\".\")[0]\n",
    "\n",
    "data = pd.read_csv(os.path.join(DATASET_FOLDER, dataset))#.head(2000)\n",
    "\n",
    "logger.debug(f\"Dataset: {dataset_name} | Shape: {data.shape}\")\n",
    "# if missing more than 20% of the data, drop the column\n",
    "missing_threshold = 0.2\n",
    "data = data.dropna(thresh=len(data) * (1 - missing_threshold), axis=1)\n",
    "logger.debug(f\"{data.shape} droped columns with more than {missing_threshold*100:.0f}% missing values\")\n",
    "# drop rows with missing values\n",
    "data = data.dropna()\n",
    "logger.debug(f\"{data.shape} drop rows with missing values\")\n",
    "\n",
    "assert data.isna().sum().sum() == 0, \"Dataset contains missing values\"\n",
    "assert \"labels\" in data.columns, \"Dataset does not contain `labels` column\"\n",
    "assert data.labels.nunique() == 2, \"Dataset labels are not binary\"\n",
    "\n",
    "label_ratio = data.labels.value_counts(normalize=True).iloc[0]\n",
    "assert 0.4 < label_ratio < 0.6, \"Label ratio is not balanced\"\n",
    "\n",
    "\n",
    "# leave only numeric columns\n",
    "data = data.select_dtypes(include=[np.number])\n",
    "logger.debug(f\"{data.shape} drop non-numeric columns\")\n",
    "\n",
    "# move labels column to the end \n",
    "data = data[[col for col in data.columns if col != \"labels\"] + [\"labels\"]]\n",
    "\n",
    "logging.info(f\"------ Dataset: {dataset_name} | Shape: {data.shape} | Label ratio: {label_ratio:.2f} -------\")"
   ]
  },
  {
   "cell_type": "markdown",
   "metadata": {},
   "source": [
    "## Train test split"
   ]
  },
  {
   "cell_type": "code",
   "execution_count": 5,
   "metadata": {},
   "outputs": [
    {
     "name": "stderr",
     "output_type": "stream",
     "text": [
      "24-04-27 21:39:56 [INFO] Step 0: Data split done | 54833 - 23501\n"
     ]
    }
   ],
   "source": [
    "data = data.sample(frac=1, random_state=42).reset_index(drop=True)\n",
    "data = data.apply(pd.to_numeric)\n",
    "cut = int(train_set_size*len(data))\n",
    "\n",
    "train_data_df = data.iloc[:cut]\n",
    "test_data_df = data.iloc[cut:]\n",
    "\n",
    "X_train = data.iloc[:cut, :-1].values\n",
    "y_train = data.iloc[:cut, -1].values\n",
    "X_test = data.iloc[cut:, :-1].values\n",
    "y_test = data.iloc[cut:, -1].values\n",
    "\n",
    "logging.info(f\"Step 0: Data split done | {len(X_train)} - {len(X_test)}\")\n"
   ]
  },
  {
   "cell_type": "markdown",
   "metadata": {},
   "source": [
    "## Scaling"
   ]
  },
  {
   "cell_type": "code",
   "execution_count": 6,
   "metadata": {},
   "outputs": [
    {
     "name": "stderr",
     "output_type": "stream",
     "text": [
      "24-04-27 21:39:57 [DEBUG] Step 1: Standard scaling complete\n"
     ]
    }
   ],
   "source": [
    "st_scaler = StandardScaler().fit(train_data_df)\n",
    "# break\n",
    "scale = st_scaler.scale_\n",
    "mean = st_scaler.mean_\n",
    "var = st_scaler.var_ \n",
    "\n",
    "X_train_scaled = st_scaler.transform(train_data_df)\n",
    "X_test_scaled = st_scaler.transform(test_data_df)  #! during inference we won't have this\n",
    "\n",
    "logging.debug(\"Step 1: Standard scaling complete\")"
   ]
  },
  {
   "cell_type": "markdown",
   "metadata": {},
   "source": [
    "## Clustering"
   ]
  },
  {
   "cell_type": "markdown",
   "metadata": {},
   "source": [
    "### Fitting and Inference"
   ]
  },
  {
   "cell_type": "code",
   "execution_count": 8,
   "metadata": {},
   "outputs": [
    {
     "name": "stderr",
     "output_type": "stream",
     "text": [
      "24-04-27 23:58:02 [INFO] Step 2.1: Performing dbscan clustering\n"
     ]
    },
    {
     "ename": "NameError",
     "evalue": "name 'X_train_scaled' is not defined",
     "output_type": "error",
     "traceback": [
      "\u001b[1;31m---------------------------------------------------------------------------\u001b[0m",
      "\u001b[1;31mNameError\u001b[0m                                 Traceback (most recent call last)",
      "Cell \u001b[1;32mIn[8], line 15\u001b[0m\n\u001b[0;32m     13\u001b[0m     clustering_labels_test \u001b[38;5;241m=\u001b[39m clustering_model\u001b[38;5;241m.\u001b[39mpredict(X_test_scaled)\n\u001b[0;32m     14\u001b[0m \u001b[38;5;28;01melse\u001b[39;00m:\n\u001b[1;32m---> 15\u001b[0m     clustering_model \u001b[38;5;241m=\u001b[39m run_dbscan(\u001b[43mX_train_scaled\u001b[49m, eps\u001b[38;5;241m=\u001b[39m\u001b[38;5;241m0.01\u001b[39m, max_eps\u001b[38;5;241m=\u001b[39m\u001b[38;5;241m20\u001b[39m, min_samples\u001b[38;5;241m=\u001b[39m\u001b[38;5;241m2\u001b[39m, step\u001b[38;5;241m=\u001b[39m\u001b[38;5;241m0.05\u001b[39m) \u001b[38;5;66;03m#*X_train.shape[1] - 1)\u001b[39;00m\n\u001b[0;32m     16\u001b[0m     \u001b[38;5;28;01mif\u001b[39;00m clustering_model \u001b[38;5;129;01mis\u001b[39;00m \u001b[38;5;28;01mNone\u001b[39;00m:\n\u001b[0;32m     17\u001b[0m         logging\u001b[38;5;241m.\u001b[39mwarning(\u001b[38;5;124mf\u001b[39m\u001b[38;5;124m\"\u001b[39m\u001b[38;5;124mCould not find the desired number of clusters for \u001b[39m\u001b[38;5;132;01m{\u001b[39;00mdataset_name\u001b[38;5;132;01m}\u001b[39;00m\u001b[38;5;124m\"\u001b[39m)\n",
      "\u001b[1;31mNameError\u001b[0m: name 'X_train_scaled' is not defined"
     ]
    }
   ],
   "source": [
    "\n",
    "CLUSTERING_ALG = \"dbscan\" # in future we'll add DBSCAN\n",
    "# CLUSTERING_ALG = \"kmeans\" # in future we'll add DBSCAN\n",
    "\n",
    "logging.info(f\"Step 2.1: Performing {CLUSTERING_ALG} clustering\")\n",
    "\n",
    "\n",
    "\n",
    "if CLUSTERING_ALG == \"kmeans\":\n",
    "    clustering_model = KMeans(n_clusters=2, random_state=42, n_init=\"auto\")      \n",
    "    clustering_model.fit(X_train_scaled)  \n",
    "    \n",
    "    clustering_labels_train = clustering_model.predict(X_train_scaled)\n",
    "    clustering_labels_test = clustering_model.predict(X_test_scaled)\n",
    "else:\n",
    "    clustering_model = run_dbscan(X_train_scaled, eps=0.01, max_eps=20, min_samples=2, step=0.05) #*X_train.shape[1] - 1)\n",
    "    if clustering_model is None:\n",
    "        logging.warning(f\"Could not find the desired number of clusters for {dataset_name}\")\n",
    "        raise Exception(\"Clustering failed\")\n",
    "    \n",
    "    clustering_labels_train = dbscan_predict(clustering_model, X_train_scaled)\n",
    "    clustering_labels_test = dbscan_predict(clustering_model, X_test_scaled)\n",
    "    \n",
    "    db_eps = clustering_model.eps\n",
    "    \n",
    "\n",
    "\n",
    "train_data_df[\"labels_clustering\"] = clustering_labels_train\n",
    "test_data_df[\"labels_clustering\"] = clustering_labels_test\n",
    "\n",
    "logger.info(f\"Step 2.1: Clustering and inference done\")"
   ]
  },
  {
   "cell_type": "markdown",
   "metadata": {},
   "source": [
    "## Evaluation (silhouette, ...)"
   ]
  },
  {
   "cell_type": "code",
   "execution_count": null,
   "metadata": {},
   "outputs": [
    {
     "name": "stderr",
     "output_type": "stream",
     "text": [
      "24-04-27 20:02:40 [DEBUG] Evaluation on train\n",
      "24-04-27 20:02:40 [DEBUG] \tsilhouette = 0.46\n",
      "24-04-27 20:02:40 [DEBUG] \tcalinski_harabasz = 127.522\n",
      "24-04-27 20:02:40 [DEBUG] Evaluation on test\n",
      "24-04-27 20:02:40 [DEBUG] \tsilhouette = 0.567\n",
      "24-04-27 20:02:40 [DEBUG] \tcalinski_harabasz = 139.743\n",
      "24-04-27 20:02:40 [INFO] Step 2.2: Clustering evaluation done\n"
     ]
    }
   ],
   "source": [
    "evaluate_clustering(X_train_scaled, clustering_labels_train, clustering_model, \n",
    "                    CLUSTERING_ALG, print_results=True)\n",
    "evaluate_clustering(X_test_scaled, clustering_labels_test, clustering_model, \n",
    "                    CLUSTERING_ALG, print_results=True, dataset=\"test\")\n",
    "\n",
    "logging.info(\"Step 2.2: Clustering evaluation done\")"
   ]
  },
  {
   "cell_type": "markdown",
   "metadata": {},
   "source": [
    "## Clustering evaluation (as pseudo clsassifier)"
   ]
  },
  {
   "cell_type": "code",
   "execution_count": null,
   "metadata": {},
   "outputs": [],
   "source": [
    "\n"
   ]
  },
  {
   "cell_type": "code",
   "execution_count": null,
   "metadata": {},
   "outputs": [
    {
     "name": "stderr",
     "output_type": "stream",
     "text": [
      "24-04-27 20:02:40 [DEBUG] Evaluation on train\n",
      "24-04-27 20:02:40 [DEBUG] \tAccuracy:  0.51\n",
      "24-04-27 20:02:40 [DEBUG] \tF1 Score: 0.65\n",
      "24-04-27 20:02:40 [DEBUG] \tConfusion Matrix: \n",
      "[[ 66 487]\n",
      " [ 38 489]]\n",
      "24-04-27 20:02:40 [DEBUG] Evaluation on test\n",
      "24-04-27 20:02:40 [DEBUG] \tAccuracy:  0.51\n",
      "24-04-27 20:02:40 [DEBUG] \tF1 Score: 0.64\n",
      "24-04-27 20:02:40 [DEBUG] \tConfusion Matrix: \n",
      "[[ 33 213]\n",
      " [ 16 201]]\n",
      "24-04-27 20:02:40 [INFO] Step 3: Clustering as a classifier, evaluation done\n"
     ]
    }
   ],
   "source": [
    "evaluate_classifier(y_actual=y_train, y_clust=clustering_labels_train, \n",
    "                    dataset=\"train\", print_results=True)\n",
    "evaluate_classifier(y_actual=y_test, y_clust=clustering_labels_test, \n",
    "                    dataset=\"test\", print_results=True)\n",
    "\n",
    "logger.info(\"Step 3: Clustering as a classifier, evaluation done\")"
   ]
  },
  {
   "cell_type": "markdown",
   "metadata": {},
   "source": [
    "## Distance calculation"
   ]
  },
  {
   "cell_type": "code",
   "execution_count": null,
   "metadata": {},
   "outputs": [],
   "source": []
  },
  {
   "cell_type": "code",
   "execution_count": null,
   "metadata": {},
   "outputs": [],
   "source": []
  },
  {
   "cell_type": "code",
   "execution_count": null,
   "metadata": {},
   "outputs": [
    {
     "data": {
      "text/plain": [
       "7.95999999999998"
      ]
     },
     "execution_count": 29,
     "metadata": {},
     "output_type": "execute_result"
    }
   ],
   "source": [
    "db_eps"
   ]
  },
  {
   "cell_type": "code",
   "execution_count": null,
   "metadata": {},
   "outputs": [],
   "source": [
    "train_data_df[\"distance\"] = get_distance(X_train_scaled, clustering_model, CLUSTERING_ALG, density_radius=db_eps)\n",
    "test_data_df[\"distance\"] = get_distance(X_test_scaled, clustering_model, CLUSTERING_ALG, density_radius=db_eps)"
   ]
  },
  {
   "cell_type": "code",
   "execution_count": null,
   "metadata": {},
   "outputs": [
    {
     "name": "stderr",
     "output_type": "stream",
     "text": [
      "24-04-27 20:02:41 [INFO] Step 4: Distance calculation done\n"
     ]
    }
   ],
   "source": [
    "train_data_df[\"distance_norm\"] = remove_outliers_and_normalize(train_data_df, label_column=\"labels_clustering\") \n",
    "test_data_df[\"distance_norm\"] = remove_outliers_and_normalize(test_data_df, label_column=\"labels_clustering\")\n",
    "\n",
    "assert train_data_df.isna().sum().sum() == 0, \"Train data contains NaNs\"\n",
    "assert test_data_df.isna().sum().sum() == 0, \"Train data contains NaNs\"\n",
    "\n",
    "logger.info(f\"Step 4: Distance calculation done\")"
   ]
  },
  {
   "cell_type": "markdown",
   "metadata": {},
   "source": [
    "## DST"
   ]
  },
  {
   "cell_type": "code",
   "execution_count": null,
   "metadata": {},
   "outputs": [
    {
     "name": "stdout",
     "output_type": "stream",
     "text": [
      "1\n"
     ]
    }
   ],
   "source": [
    "# !pip install -U kaleido\n",
    "print(1)"
   ]
  },
  {
   "cell_type": "code",
   "execution_count": null,
   "metadata": {},
   "outputs": [
    {
     "name": "stderr",
     "output_type": "stream",
     "text": [
      "24-04-27 20:03:06 [DEBUG] Train: 1080\n",
      "24-04-27 20:03:06 [INFO] Step 5: Run DST (dataset=Telecom_customer churn, clust=dbscan breaks=3, add_mult_rules=False, maf_method=clustering)\n",
      "24-04-27 20:03:06 [DEBUG] \tModel init done\n"
     ]
    },
    {
     "name": "stdout",
     "output_type": "stream",
     "text": [
      "Optimization started\n",
      "Processing epoch\t9\t0.3493\t"
     ]
    },
    {
     "name": "stderr",
     "output_type": "stream",
     "text": [
      "24-04-27 20:03:25 [DEBUG] \tModel fit done\n"
     ]
    },
    {
     "name": "stdout",
     "output_type": "stream",
     "text": [
      "\n",
      "Training time: 4.52s, epochs: 9\n",
      "\n",
      "Least training loss reached: 0.352\n",
      "DSModelMultiQ(\n",
      "  DS Classifier using 302 rules\n",
      "  \n",
      "  Rule 1: rev_Mean < 32.278\n",
      "  \tC1: 0.191\tC2: 0.571\tUnc: 0.238\n",
      "  \n",
      "  Rule 2: 32.278 < rev_Mean < 67.108\n",
      "  \tC1: 0.570\tC2: 0.233\tUnc: 0.197\n",
      "  \n",
      "  Rule 3: 67.108 < rev_Mean < 101.937\n",
      "  \tC1: 0.745\tC2: 0.116\tUnc: 0.139\n",
      "  \n",
      "  Rule 4: rev_Mean > 101.937\n",
      "  \tC1: 0.934\tC2: 0.020\tUnc: 0.046\n",
      "  \n",
      "  Rule 5: mou_Mean < 137.502\n",
      "  \tC1: 0.194\tC2: 0.563\tUnc: 0.243\n",
      "  \n",
      "  Rule 6: 137.502 < mou_Mean < 588.828\n",
      "  \tC1: 0.157\tC2: 0.606\tUnc: 0.237\n",
      "  \n",
      "  Rule 7: 588.828 < mou_Mean < 1040.153\n",
      "  \tC1: 0.725\tC2: 0.116\tUnc: 0.159\n",
      "  \n",
      "  Rule 8: mou_Mean > 1040.153\n",
      "  \tC1: 0.949\tC2: 0.014\tUnc: 0.037\n",
      "  \n",
      "  Rule 9: totmrc_Mean < 29.970\n",
      "  \tC1: 0.181\tC2: 0.569\tUnc: 0.250\n",
      "  \n",
      "  Rule 10: 29.970 < totmrc_Mean < 51.264\n",
      "  \tC1: 0.151\tC2: 0.655\tUnc: 0.194\n",
      "  \n",
      "  Rule 11: 51.264 < totmrc_Mean < 72.558\n",
      "  \tC1: 0.674\tC2: 0.184\tUnc: 0.143\n",
      "  \n",
      "  Rule 12: totmrc_Mean > 72.558\n",
      "  \tC1: 0.870\tC2: 0.055\tUnc: 0.075\n",
      "  \n",
      "  Rule 13: da_Mean < -0.994\n",
      "  \tC1: 0.000\tC2: 0.000\tUnc: 1.000\n",
      "  \n",
      "  Rule 14: -0.994 < da_Mean < 1.321\n",
      "  \tC1: 0.127\tC2: 0.693\tUnc: 0.180\n",
      "  \n",
      "  Rule 15: 1.321 < da_Mean < 3.637\n",
      "  \tC1: 0.772\tC2: 0.132\tUnc: 0.097\n",
      "  \n",
      "  Rule 16: da_Mean > 3.637\n",
      "  \tC1: 0.837\tC2: 0.082\tUnc: 0.080\n",
      "  \n",
      "  Rule 17: ovrmou_Mean < -43.219\n",
      "  \tC1: 0.000\tC2: 0.000\tUnc: 1.000\n",
      "  \n",
      "  Rule 18: -43.219 < ovrmou_Mean < 56.675\n",
      "  \tC1: 0.641\tC2: 0.194\tUnc: 0.166\n",
      "  \n",
      "  Rule 19: 56.675 < ovrmou_Mean < 156.568\n",
      "  \tC1: 0.690\tC2: 0.138\tUnc: 0.171\n",
      "  \n",
      "  Rule 20: ovrmou_Mean > 156.568\n",
      "  \tC1: 0.942\tC2: 0.013\tUnc: 0.045\n",
      "  \n",
      "  Rule 21: ovrrev_Mean < -6.139\n",
      "  \tC1: 0.000\tC2: 0.000\tUnc: 1.000\n",
      "  \n",
      "  Rule 22: -6.139 < ovrrev_Mean < 12.813\n",
      "  \tC1: 0.644\tC2: 0.191\tUnc: 0.165\n",
      "  \n",
      "  Rule 23: 12.813 < ovrrev_Mean < 31.765\n",
      "  \tC1: 0.670\tC2: 0.182\tUnc: 0.148\n",
      "  \n",
      "  Rule 24: ovrrev_Mean > 31.765\n",
      "  \tC1: 0.873\tC2: 0.054\tUnc: 0.074\n",
      "  \n",
      "  Rule 25: vceovr_Mean < -6.220\n",
      "  \tC1: 0.000\tC2: 0.000\tUnc: 1.000\n",
      "  \n",
      "  Rule 26: -6.220 < vceovr_Mean < 12.668\n",
      "  \tC1: 0.644\tC2: 0.191\tUnc: 0.164\n",
      "  \n",
      "  Rule 27: 12.668 < vceovr_Mean < 31.556\n",
      "  \tC1: 0.677\tC2: 0.178\tUnc: 0.144\n",
      "  \n",
      "  Rule 28: vceovr_Mean > 31.556\n",
      "  \tC1: 0.866\tC2: 0.057\tUnc: 0.077\n",
      "  \n",
      "  Rule 29: datovr_Mean < -0.633\n",
      "  \tC1: 0.000\tC2: 0.000\tUnc: 1.000\n",
      "  \n",
      "  Rule 30: -0.633 < datovr_Mean < 0.145\n",
      "  \tC1: 0.666\tC2: 0.181\tUnc: 0.153\n",
      "  \n",
      "  Rule 31: 0.145 < datovr_Mean < 0.923\n",
      "  \tC1: 0.781\tC2: 0.072\tUnc: 0.147\n",
      "  \n",
      "  Rule 32: datovr_Mean > 0.923\n",
      "  \tC1: 0.868\tC2: 0.052\tUnc: 0.079\n",
      "  \n",
      "  Rule 33: roam_Mean < -1.483\n",
      "  \tC1: 0.000\tC2: 0.000\tUnc: 1.000\n",
      "  \n",
      "  Rule 34: -1.483 < roam_Mean < 0.748\n",
      "  \tC1: 0.663\tC2: 0.180\tUnc: 0.158\n",
      "  \n",
      "  Rule 35: 0.748 < roam_Mean < 2.980\n",
      "  \tC1: 0.111\tC2: 0.764\tUnc: 0.125\n",
      "  \n",
      "  Rule 36: roam_Mean > 2.980\n",
      "  \tC1: 0.773\tC2: 0.121\tUnc: 0.105\n",
      "  \n",
      "  Rule 37: change_mou < -211.081\n",
      "  \tC1: 0.064\tC2: 0.825\tUnc: 0.111\n",
      "  \n",
      "  Rule 38: -211.081 < change_mou < -36.540\n",
      "  \tC1: 0.666\tC2: 0.186\tUnc: 0.148\n",
      "  \n",
      "  Rule 39: -36.540 < change_mou < 138.002\n",
      "  \tC1: 0.605\tC2: 0.210\tUnc: 0.185\n",
      "  \n",
      "  Rule 40: change_mou > 138.002\n",
      "  \tC1: 0.825\tC2: 0.051\tUnc: 0.124\n",
      "  \n",
      "  Rule 41: change_rev < -24.334\n",
      "  \tC1: 0.828\tC2: 0.106\tUnc: 0.066\n",
      "  \n",
      "  Rule 42: -24.334 < change_rev < -2.522\n",
      "  \tC1: 0.665\tC2: 0.106\tUnc: 0.228\n",
      "  \n",
      "  Rule 43: -2.522 < change_rev < 19.290\n",
      "  \tC1: 0.144\tC2: 0.663\tUnc: 0.193\n",
      "  \n",
      "  Rule 44: change_rev > 19.290\n",
      "  \tC1: 0.807\tC2: 0.041\tUnc: 0.152\n",
      "  \n",
      "  Rule 45: drop_vce_Mean < 0.196\n",
      "  \tC1: 0.192\tC2: 0.594\tUnc: 0.214\n",
      "  \n",
      "  Rule 46: 0.196 < drop_vce_Mean < 5.978\n",
      "  \tC1: 0.606\tC2: 0.217\tUnc: 0.177\n",
      "  \n",
      "  Rule 47: 5.978 < drop_vce_Mean < 11.760\n",
      "  \tC1: 0.740\tC2: 0.130\tUnc: 0.130\n",
      "  \n",
      "  Rule 48: drop_vce_Mean > 11.760\n",
      "  \tC1: 0.914\tC2: 0.037\tUnc: 0.049\n",
      "  \n",
      "  Rule 49: drop_dat_Mean < -0.632\n",
      "  \tC1: 0.000\tC2: 0.000\tUnc: 1.000\n",
      "  \n",
      "  Rule 50: -0.632 < drop_dat_Mean < 0.050\n",
      "  \tC1: 0.672\tC2: 0.178\tUnc: 0.151\n",
      "  \n",
      "  Rule 51: 0.050 < drop_dat_Mean < 0.732\n",
      "  \tC1: 0.851\tC2: 0.058\tUnc: 0.091\n",
      "  \n",
      "  Rule 52: drop_dat_Mean > 0.732\n",
      "  \tC1: 0.775\tC2: 0.113\tUnc: 0.113\n",
      "  \n",
      "  Rule 53: blck_vce_Mean < -0.634\n",
      "  \tC1: 0.000\tC2: 0.000\tUnc: 1.000\n",
      "  \n",
      "  Rule 54: -0.634 < blck_vce_Mean < 3.294\n",
      "  \tC1: 0.138\tC2: 0.671\tUnc: 0.190\n",
      "  \n",
      "  Rule 55: 3.294 < blck_vce_Mean < 7.222\n",
      "  \tC1: 0.693\tC2: 0.120\tUnc: 0.187\n",
      "  \n",
      "  Rule 56: blck_vce_Mean > 7.222\n",
      "  \tC1: 0.856\tC2: 0.068\tUnc: 0.075\n",
      "  \n",
      "  Rule 57: blck_dat_Mean = 0.0\n",
      "  \tC1: 0.673\tC2: 0.177\tUnc: 0.150\n",
      "  \n",
      "  Rule 58: blck_dat_Mean = 0.333333333\n",
      "  \tC1: 0.919\tC2: 0.041\tUnc: 0.041\n",
      "  \n",
      "  Rule 59: blck_dat_Mean = 1.0\n",
      "  \tC1: 1.000\tC2: 0.000\tUnc: 0.000\n",
      "  \n",
      "  Rule 60: blck_dat_Mean = 1.333333333\n",
      "  \tC1: 1.000\tC2: 0.000\tUnc: 0.000\n",
      "  \n",
      "  Rule 61: unan_vce_Mean < 3.175\n",
      "  \tC1: 0.181\tC2: 0.588\tUnc: 0.232\n",
      "  \n",
      "  Rule 62: 3.175 < unan_vce_Mean < 29.245\n",
      "  \tC1: 0.587\tC2: 0.226\tUnc: 0.187\n",
      "  \n",
      "  Rule 63: 29.245 < unan_vce_Mean < 55.316\n",
      "  \tC1: 0.734\tC2: 0.146\tUnc: 0.120\n",
      "  \n",
      "  Rule 64: unan_vce_Mean > 55.316\n",
      "  \tC1: 0.913\tC2: 0.028\tUnc: 0.059\n",
      "  \n",
      "  Rule 65: unan_dat_Mean < -0.090\n",
      "  \tC1: 0.000\tC2: 0.000\tUnc: 1.000\n",
      "  \n",
      "  Rule 66: -0.090 < unan_dat_Mean < 0.025\n",
      "  \tC1: 0.670\tC2: 0.179\tUnc: 0.151\n",
      "  \n",
      "  Rule 67: 0.025 < unan_dat_Mean < 0.139\n",
      "  \tC1: 0.000\tC2: 0.000\tUnc: 1.000\n",
      "  \n",
      "  Rule 68: unan_dat_Mean > 0.139\n",
      "  \tC1: 0.797\tC2: 0.051\tUnc: 0.152\n",
      "  \n",
      "  Rule 69: plcd_vce_Mean < 40.242\n",
      "  \tC1: 0.189\tC2: 0.573\tUnc: 0.238\n",
      "  \n",
      "  Rule 70: 40.242 < plcd_vce_Mean < 167.570\n",
      "  \tC1: 0.561\tC2: 0.237\tUnc: 0.202\n",
      "  \n",
      "  Rule 71: 167.570 < plcd_vce_Mean < 294.898\n",
      "  \tC1: 0.722\tC2: 0.136\tUnc: 0.142\n",
      "  \n",
      "  Rule 72: plcd_vce_Mean > 294.898\n",
      "  \tC1: 0.969\tC2: 0.015\tUnc: 0.016\n",
      "  \n",
      "  Rule 73: plcd_dat_Mean < -5.336\n",
      "  \tC1: 0.000\tC2: 0.000\tUnc: 1.000\n",
      "  \n",
      "  Rule 74: -5.336 < plcd_dat_Mean < 0.643\n",
      "  \tC1: 0.117\tC2: 0.714\tUnc: 0.169\n",
      "  \n",
      "  Rule 75: 0.643 < plcd_dat_Mean < 6.622\n",
      "  \tC1: 0.826\tC2: 0.052\tUnc: 0.122\n",
      "  \n",
      "  Rule 76: plcd_dat_Mean > 6.622\n",
      "  \tC1: 0.972\tC2: 0.014\tUnc: 0.014\n",
      "  \n",
      "  Rule 77: recv_vce_Mean < 0.622\n",
      "  \tC1: 0.192\tC2: 0.574\tUnc: 0.234\n",
      "  \n",
      "  Rule 78: 0.622 < recv_vce_Mean < 73.522\n",
      "  \tC1: 0.151\tC2: 0.653\tUnc: 0.196\n",
      "  \n",
      "  Rule 79: 73.522 < recv_vce_Mean < 146.422\n",
      "  \tC1: 0.762\tC2: 0.111\tUnc: 0.127\n",
      "  \n",
      "  Rule 80: recv_vce_Mean > 146.422\n",
      "  \tC1: 0.954\tC2: 0.023\tUnc: 0.023\n",
      "  \n",
      "  Rule 81: recv_sms_Mean < -0.200\n",
      "  \tC1: 0.000\tC2: 0.000\tUnc: 1.000\n",
      "  \n",
      "  Rule 82: -0.200 < recv_sms_Mean < 0.027\n",
      "  \tC1: 0.671\tC2: 0.178\tUnc: 0.151\n",
      "  \n",
      "  Rule 83: 0.027 < recv_sms_Mean < 0.254\n",
      "  \tC1: 0.000\tC2: 0.000\tUnc: 1.000\n",
      "  \n",
      "  Rule 84: recv_sms_Mean > 0.254\n",
      "  \tC1: 0.957\tC2: 0.005\tUnc: 0.038\n",
      "  \n",
      "  Rule 85: comp_vce_Mean < 29.425\n",
      "  \tC1: 0.187\tC2: 0.581\tUnc: 0.232\n",
      "  \n",
      "  Rule 86: 29.425 < comp_vce_Mean < 130.975\n",
      "  \tC1: 0.565\tC2: 0.226\tUnc: 0.209\n",
      "  \n",
      "  Rule 87: 130.975 < comp_vce_Mean < 232.525\n",
      "  \tC1: 0.729\tC2: 0.128\tUnc: 0.144\n",
      "  \n",
      "  Rule 88: comp_vce_Mean > 232.525\n",
      "  \tC1: 0.970\tC2: 0.014\tUnc: 0.016\n",
      "  \n",
      "  Rule 89: comp_dat_Mean < -4.741\n",
      "  \tC1: 0.000\tC2: 0.000\tUnc: 1.000\n",
      "  \n",
      "  Rule 90: -4.741 < comp_dat_Mean < 0.565\n",
      "  \tC1: 0.115\tC2: 0.717\tUnc: 0.168\n",
      "  \n",
      "  Rule 91: 0.565 < comp_dat_Mean < 5.871\n",
      "  \tC1: 0.792\tC2: 0.082\tUnc: 0.126\n",
      "  \n",
      "  Rule 92: comp_dat_Mean > 5.871\n",
      "  \tC1: 0.974\tC2: 0.013\tUnc: 0.013\n",
      "  \n",
      "  Rule 93: custcare_Mean < -0.812\n",
      "  \tC1: 0.000\tC2: 0.000\tUnc: 1.000\n",
      "  \n",
      "  Rule 94: -0.812 < custcare_Mean < 0.864\n",
      "  \tC1: 0.647\tC2: 0.193\tUnc: 0.160\n",
      "  \n",
      "  Rule 95: 0.864 < custcare_Mean < 2.540\n",
      "  \tC1: 0.068\tC2: 0.745\tUnc: 0.187\n",
      "  \n",
      "  Rule 96: custcare_Mean > 2.540\n",
      "  \tC1: 0.850\tC2: 0.068\tUnc: 0.082\n",
      "  \n",
      "  Rule 97: ccrndmou_Mean < -2.480\n",
      "  \tC1: 0.000\tC2: 0.000\tUnc: 1.000\n",
      "  \n",
      "  Rule 98: -2.480 < ccrndmou_Mean < 2.718\n",
      "  \tC1: 0.642\tC2: 0.194\tUnc: 0.164\n",
      "  \n",
      "  Rule 99: 2.718 < ccrndmou_Mean < 7.916\n",
      "  \tC1: 0.741\tC2: 0.073\tUnc: 0.186\n",
      "  \n",
      "  Rule 100: ccrndmou_Mean > 7.916\n",
      "  \tC1: 0.884\tC2: 0.071\tUnc: 0.045\n",
      "  \n",
      "  Rule 101: cc_mou_Mean < -2.330\n",
      "  \tC1: 0.000\tC2: 0.000\tUnc: 1.000\n",
      "  \n",
      "  Rule 102: -2.330 < cc_mou_Mean < 2.265\n",
      "  \tC1: 0.129\tC2: 0.691\tUnc: 0.180\n",
      "  \n",
      "  Rule 103: 2.265 < cc_mou_Mean < 6.860\n",
      "  \tC1: 0.759\tC2: 0.061\tUnc: 0.179\n",
      "  \n",
      "  Rule 104: cc_mou_Mean > 6.860\n",
      "  \tC1: 0.885\tC2: 0.071\tUnc: 0.044\n",
      "  \n",
      "  Rule 105: inonemin_Mean < -3.483\n",
      "  \tC1: 0.000\tC2: 0.000\tUnc: 1.000\n",
      "  \n",
      "  Rule 106: -3.483 < inonemin_Mean < 37.737\n",
      "  \tC1: 0.149\tC2: 0.651\tUnc: 0.201\n",
      "  \n",
      "  Rule 107: 37.737 < inonemin_Mean < 78.958\n",
      "  \tC1: 0.781\tC2: 0.089\tUnc: 0.129\n",
      "  \n",
      "  Rule 108: inonemin_Mean > 78.958\n",
      "  \tC1: 0.919\tC2: 0.037\tUnc: 0.044\n",
      "  \n",
      "  Rule 109: threeway_Mean < -0.305\n",
      "  \tC1: 0.000\tC2: 0.000\tUnc: 1.000\n",
      "  \n",
      "  Rule 110: -0.305 < threeway_Mean < 0.175\n",
      "  \tC1: 0.124\tC2: 0.699\tUnc: 0.177\n",
      "  \n",
      "  Rule 111: 0.175 < threeway_Mean < 0.654\n",
      "  \tC1: 0.710\tC2: 0.167\tUnc: 0.124\n",
      "  \n",
      "  Rule 112: threeway_Mean > 0.654\n",
      "  \tC1: 0.809\tC2: 0.115\tUnc: 0.076\n",
      "  \n",
      "  Rule 113: mou_cvce_Mean < 49.825\n",
      "  \tC1: 0.188\tC2: 0.580\tUnc: 0.232\n",
      "  \n",
      "  Rule 114: 49.825 < mou_cvce_Mean < 242.332\n",
      "  \tC1: 0.580\tC2: 0.226\tUnc: 0.194\n",
      "  \n",
      "  Rule 115: 242.332 < mou_cvce_Mean < 434.840\n",
      "  \tC1: 0.686\tC2: 0.136\tUnc: 0.178\n",
      "  \n",
      "  Rule 116: mou_cvce_Mean > 434.840\n",
      "  \tC1: 0.935\tC2: 0.032\tUnc: 0.033\n",
      "  \n",
      "  Rule 117: mou_cdat_Mean < -7.094\n",
      "  \tC1: 0.000\tC2: 0.000\tUnc: 1.000\n",
      "  \n",
      "  Rule 118: -7.094 < mou_cdat_Mean < 1.129\n",
      "  \tC1: 0.666\tC2: 0.180\tUnc: 0.153\n",
      "  \n",
      "  Rule 119: 1.129 < mou_cdat_Mean < 9.352\n",
      "  \tC1: 0.883\tC2: 0.026\tUnc: 0.092\n",
      "  \n",
      "  Rule 120: mou_cdat_Mean > 9.352\n",
      "  \tC1: 0.874\tC2: 0.063\tUnc: 0.063\n",
      "  \n",
      "  Rule 121: mou_rvce_Mean < 1.352\n",
      "  \tC1: 0.184\tC2: 0.585\tUnc: 0.230\n",
      "  \n",
      "  Rule 122: 1.352 < mou_rvce_Mean < 146.851\n",
      "  \tC1: 0.153\tC2: 0.649\tUnc: 0.198\n",
      "  \n",
      "  Rule 123: 146.851 < mou_rvce_Mean < 292.351\n",
      "  \tC1: 0.750\tC2: 0.110\tUnc: 0.139\n",
      "  \n",
      "  Rule 124: mou_rvce_Mean > 292.351\n",
      "  \tC1: 0.945\tC2: 0.027\tUnc: 0.028\n",
      "  \n",
      "  Rule 125: owylis_vce_Mean < 0.634\n",
      "  \tC1: 0.180\tC2: 0.603\tUnc: 0.216\n",
      "  \n",
      "  Rule 126: 0.634 < owylis_vce_Mean < 27.455\n",
      "  \tC1: 0.146\tC2: 0.663\tUnc: 0.192\n",
      "  \n",
      "  Rule 127: 27.455 < owylis_vce_Mean < 54.276\n",
      "  \tC1: 0.761\tC2: 0.110\tUnc: 0.129\n",
      "  \n",
      "  Rule 128: owylis_vce_Mean > 54.276\n",
      "  \tC1: 0.908\tC2: 0.037\tUnc: 0.055\n",
      "  \n",
      "  Rule 129: mouowylisv_Mean < -3.493\n",
      "  \tC1: 0.000\tC2: 0.000\tUnc: 1.000\n",
      "  \n",
      "  Rule 130: -3.493 < mouowylisv_Mean < 29.542\n",
      "  \tC1: 0.147\tC2: 0.653\tUnc: 0.200\n",
      "  \n",
      "  Rule 131: 29.542 < mouowylisv_Mean < 62.577\n",
      "  \tC1: 0.762\tC2: 0.111\tUnc: 0.127\n",
      "  \n",
      "  Rule 132: mouowylisv_Mean > 62.577\n",
      "  \tC1: 0.939\tC2: 0.030\tUnc: 0.031\n",
      "  \n",
      "  Rule 133: iwylis_vce_Mean < -4.018\n",
      "  \tC1: 0.000\tC2: 0.000\tUnc: 1.000\n",
      "  \n",
      "  Rule 134: -4.018 < iwylis_vce_Mean < 9.283\n",
      "  \tC1: 0.139\tC2: 0.670\tUnc: 0.191\n",
      "  \n",
      "  Rule 135: 9.283 < iwylis_vce_Mean < 22.584\n",
      "  \tC1: 0.700\tC2: 0.134\tUnc: 0.166\n",
      "  \n",
      "  Rule 136: iwylis_vce_Mean > 22.584\n",
      "  \tC1: 0.943\tC2: 0.025\tUnc: 0.032\n",
      "  \n",
      "  Rule 137: mouiwylisv_Mean < -11.549\n",
      "  \tC1: 0.000\tC2: 0.000\tUnc: 1.000\n",
      "  \n",
      "  Rule 138: -11.549 < mouiwylisv_Mean < 19.797\n",
      "  \tC1: 0.138\tC2: 0.673\tUnc: 0.189\n",
      "  \n",
      "  Rule 139: 19.797 < mouiwylisv_Mean < 51.143\n",
      "  \tC1: 0.747\tC2: 0.106\tUnc: 0.147\n",
      "  \n",
      "  Rule 140: mouiwylisv_Mean > 51.143\n",
      "  \tC1: 0.950\tC2: 0.025\tUnc: 0.026\n",
      "  \n",
      "  Rule 141: peak_vce_Mean < 17.451\n",
      "  \tC1: 0.188\tC2: 0.580\tUnc: 0.232\n",
      "  \n",
      "  Rule 142: 17.451 < peak_vce_Mean < 139.827\n",
      "  \tC1: 0.577\tC2: 0.219\tUnc: 0.205\n",
      "  \n",
      "  Rule 143: 139.827 < peak_vce_Mean < 262.204\n",
      "  \tC1: 0.741\tC2: 0.121\tUnc: 0.138\n",
      "  \n",
      "  Rule 144: peak_vce_Mean > 262.204\n",
      "  \tC1: 0.968\tC2: 0.016\tUnc: 0.017\n",
      "  \n",
      "  Rule 145: peak_dat_Mean < -4.005\n",
      "  \tC1: 0.000\tC2: 0.000\tUnc: 1.000\n",
      "  \n",
      "  Rule 146: -4.005 < peak_dat_Mean < 0.413\n",
      "  \tC1: 0.669\tC2: 0.179\tUnc: 0.152\n",
      "  \n",
      "  Rule 147: 0.413 < peak_dat_Mean < 4.832\n",
      "  \tC1: 0.775\tC2: 0.090\tUnc: 0.134\n",
      "  \n",
      "  Rule 148: peak_dat_Mean > 4.832\n",
      "  \tC1: 1.000\tC2: 0.000\tUnc: 0.000\n",
      "  \n",
      "  Rule 149: mou_peav_Mean < 32.236\n",
      "  \tC1: 0.182\tC2: 0.586\tUnc: 0.232\n",
      "  \n",
      "  Rule 150: 32.236 < mou_peav_Mean < 269.735\n",
      "  \tC1: 0.578\tC2: 0.229\tUnc: 0.193\n",
      "  \n",
      "  Rule 151: 269.735 < mou_peav_Mean < 507.234\n",
      "  \tC1: 0.726\tC2: 0.120\tUnc: 0.154\n",
      "  \n",
      "  Rule 152: mou_peav_Mean > 507.234\n",
      "  \tC1: 0.965\tC2: 0.017\tUnc: 0.018\n",
      "  \n",
      "  Rule 153: mou_pead_Mean < -5.077\n",
      "  \tC1: 0.000\tC2: 0.000\tUnc: 1.000\n",
      "  \n",
      "  Rule 154: -5.077 < mou_pead_Mean < 0.732\n",
      "  \tC1: 0.669\tC2: 0.179\tUnc: 0.152\n",
      "  \n",
      "  Rule 155: 0.732 < mou_pead_Mean < 6.541\n",
      "  \tC1: 0.767\tC2: 0.095\tUnc: 0.138\n",
      "  \n",
      "  Rule 156: mou_pead_Mean > 6.541\n",
      "  \tC1: 0.922\tC2: 0.039\tUnc: 0.039\n",
      "  \n",
      "  Rule 157: opk_vce_Mean < 6.597\n",
      "  \tC1: 0.193\tC2: 0.584\tUnc: 0.223\n",
      "  \n",
      "  Rule 158: 6.597 < opk_vce_Mean < 54.994\n",
      "  \tC1: 0.146\tC2: 0.662\tUnc: 0.192\n",
      "  \n",
      "  Rule 159: 54.994 < opk_vce_Mean < 103.391\n",
      "  \tC1: 0.692\tC2: 0.140\tUnc: 0.168\n",
      "  \n",
      "  Rule 160: opk_vce_Mean > 103.391\n",
      "  \tC1: 0.934\tC2: 0.032\tUnc: 0.033\n",
      "  \n",
      "  Rule 161: opk_dat_Mean < -0.923\n",
      "  \tC1: 0.000\tC2: 0.000\tUnc: 1.000\n",
      "  \n",
      "  Rule 162: -0.923 < opk_dat_Mean < 0.152\n",
      "  \tC1: 0.667\tC2: 0.180\tUnc: 0.153\n",
      "  \n",
      "  Rule 163: 0.152 < opk_dat_Mean < 1.226\n",
      "  \tC1: 0.776\tC2: 0.075\tUnc: 0.149\n",
      "  \n",
      "  Rule 164: opk_dat_Mean > 1.226\n",
      "  \tC1: 0.893\tC2: 0.051\tUnc: 0.056\n",
      "  \n",
      "  Rule 165: mou_opkv_Mean < 3.518\n",
      "  \tC1: 0.192\tC2: 0.581\tUnc: 0.227\n",
      "  \n",
      "  Rule 166: 3.518 < mou_opkv_Mean < 119.374\n",
      "  \tC1: 0.141\tC2: 0.640\tUnc: 0.219\n",
      "  \n",
      "  Rule 167: 119.374 < mou_opkv_Mean < 235.230\n",
      "  \tC1: 0.740\tC2: 0.122\tUnc: 0.138\n",
      "  \n",
      "  Rule 168: mou_opkv_Mean > 235.230\n",
      "  \tC1: 0.876\tC2: 0.053\tUnc: 0.071\n",
      "  \n",
      "  Rule 169: mou_opkd_Mean < -2.583\n",
      "  \tC1: 0.000\tC2: 0.000\tUnc: 1.000\n",
      "  \n",
      "  Rule 170: -2.583 < mou_opkd_Mean < 0.398\n",
      "  \tC1: 0.667\tC2: 0.180\tUnc: 0.153\n",
      "  \n",
      "  Rule 171: 0.398 < mou_opkd_Mean < 3.378\n",
      "  \tC1: 0.915\tC2: 0.007\tUnc: 0.079\n",
      "  \n",
      "  Rule 172: mou_opkd_Mean > 3.378\n",
      "  \tC1: 0.838\tC2: 0.081\tUnc: 0.081\n",
      "  \n",
      "  Rule 173: drop_blk_Mean < 1.292\n",
      "  \tC1: 0.184\tC2: 0.575\tUnc: 0.241\n",
      "  \n",
      "  Rule 174: 1.292 < drop_blk_Mean < 9.326\n",
      "  \tC1: 0.595\tC2: 0.223\tUnc: 0.182\n",
      "  \n",
      "  Rule 175: 9.326 < drop_blk_Mean < 17.359\n",
      "  \tC1: 0.730\tC2: 0.120\tUnc: 0.150\n",
      "  \n",
      "  Rule 176: drop_blk_Mean > 17.359\n",
      "  \tC1: 0.921\tC2: 0.034\tUnc: 0.045\n",
      "  \n",
      "  Rule 177: attempt_Mean < 40.457\n",
      "  \tC1: 0.190\tC2: 0.571\tUnc: 0.239\n",
      "  \n",
      "  Rule 178: 40.457 < attempt_Mean < 168.213\n",
      "  \tC1: 0.557\tC2: 0.239\tUnc: 0.204\n",
      "  \n",
      "  Rule 179: 168.213 < attempt_Mean < 295.969\n",
      "  \tC1: 0.721\tC2: 0.135\tUnc: 0.144\n",
      "  \n",
      "  Rule 180: attempt_Mean > 295.969\n",
      "  \tC1: 0.970\tC2: 0.014\tUnc: 0.016\n",
      "  \n",
      "  Rule 181: complete_Mean < 29.606\n",
      "  \tC1: 0.187\tC2: 0.581\tUnc: 0.232\n",
      "  \n",
      "  Rule 182: 29.606 < complete_Mean < 131.540\n",
      "  \tC1: 0.567\tC2: 0.225\tUnc: 0.208\n",
      "  \n",
      "  Rule 183: 131.540 < complete_Mean < 233.474\n",
      "  \tC1: 0.725\tC2: 0.130\tUnc: 0.146\n",
      "  \n",
      "  Rule 184: complete_Mean > 233.474\n",
      "  \tC1: 0.970\tC2: 0.014\tUnc: 0.016\n",
      "  \n",
      "  Rule 185: callfwdv_Mean < -0.084\n",
      "  \tC1: 0.000\tC2: 0.000\tUnc: 1.000\n",
      "  \n",
      "  Rule 186: -0.084 < callfwdv_Mean < 0.011\n",
      "  \tC1: 0.674\tC2: 0.177\tUnc: 0.149\n",
      "  \n",
      "  Rule 187: 0.011 < callfwdv_Mean < 0.107\n",
      "  \tC1: 0.000\tC2: 0.000\tUnc: 1.000\n",
      "  \n",
      "  Rule 188: callfwdv_Mean > 0.107\n",
      "  \tC1: 0.736\tC2: 0.126\tUnc: 0.138\n",
      "  \n",
      "  Rule 189: callwait_Mean < -2.369\n",
      "  \tC1: 0.000\tC2: 0.000\tUnc: 1.000\n",
      "  \n",
      "  Rule 190: -2.369 < callwait_Mean < 3.349\n",
      "  \tC1: 0.139\tC2: 0.669\tUnc: 0.192\n",
      "  \n",
      "  Rule 191: 3.349 < callwait_Mean < 9.068\n",
      "  \tC1: 0.878\tC2: 0.061\tUnc: 0.061\n",
      "  \n",
      "  Rule 192: callwait_Mean > 9.068\n",
      "  \tC1: 0.979\tC2: 0.010\tUnc: 0.011\n",
      "  \n",
      "  Rule 193: months < 45.386\n",
      "  \tC1: 0.602\tC2: 0.206\tUnc: 0.192\n",
      "  \n",
      "  Rule 194: 45.386 < months < 47.857\n",
      "  \tC1: 0.137\tC2: 0.677\tUnc: 0.186\n",
      "  \n",
      "  Rule 195: 47.857 < months < 50.329\n",
      "  \tC1: 0.677\tC2: 0.169\tUnc: 0.154\n",
      "  \n",
      "  Rule 196: months > 50.329\n",
      "  \tC1: 0.100\tC2: 0.753\tUnc: 0.147\n",
      "  \n",
      "  Rule 197: uniqsubs < 0.948\n",
      "  \tC1: 0.000\tC2: 0.000\tUnc: 1.000\n",
      "  \n",
      "  Rule 198: 0.948 < uniqsubs < 1.553\n",
      "  \tC1: 0.124\tC2: 0.705\tUnc: 0.171\n",
      "  \n",
      "  Rule 199: 1.553 < uniqsubs < 2.158\n",
      "  \tC1: 0.670\tC2: 0.104\tUnc: 0.225\n",
      "  \n",
      "  Rule 200: uniqsubs > 2.158\n",
      "  \tC1: 0.793\tC2: 0.123\tUnc: 0.084\n",
      "  \n",
      "  Rule 201: actvsubs = 0.0\n",
      "  \tC1: 0.641\tC2: 0.142\tUnc: 0.217\n",
      "  \n",
      "  Rule 202: actvsubs = 1.0\n",
      "  \tC1: 0.122\tC2: 0.711\tUnc: 0.167\n",
      "  \n",
      "  Rule 203: actvsubs = 2.0\n",
      "  \tC1: 0.645\tC2: 0.116\tUnc: 0.239\n",
      "  \n",
      "  Rule 204: actvsubs = 3.0\n",
      "  \tC1: 0.790\tC2: 0.126\tUnc: 0.084\n",
      "  \n",
      "  Rule 205: actvsubs = 4.0\n",
      "  \tC1: 0.012\tC2: 0.900\tUnc: 0.088\n",
      "  \n",
      "  Rule 206: actvsubs = 5.0\n",
      "  \tC1: 0.979\tC2: 0.011\tUnc: 0.011\n",
      "  \n",
      "  Rule 207: totcalls < 2375.753\n",
      "  \tC1: 0.228\tC2: 0.544\tUnc: 0.228\n",
      "  \n",
      "  Rule 208: 2375.753 < totcalls < 11210.030\n",
      "  \tC1: 0.593\tC2: 0.220\tUnc: 0.187\n",
      "  \n",
      "  Rule 209: 11210.030 < totcalls < 20044.306\n",
      "  \tC1: 0.776\tC2: 0.113\tUnc: 0.110\n",
      "  \n",
      "  Rule 210: totcalls > 20044.306\n",
      "  \tC1: 0.926\tC2: 0.020\tUnc: 0.054\n",
      "  \n",
      "  Rule 211: totmou < 6937.046\n",
      "  \tC1: 0.196\tC2: 0.583\tUnc: 0.222\n",
      "  \n",
      "  Rule 212: 6937.046 < totmou < 25519.534\n",
      "  \tC1: 0.565\tC2: 0.235\tUnc: 0.200\n",
      "  \n",
      "  Rule 213: 25519.534 < totmou < 44102.022\n",
      "  \tC1: 0.789\tC2: 0.097\tUnc: 0.114\n",
      "  \n",
      "  Rule 214: totmou > 44102.022\n",
      "  \tC1: 0.941\tC2: 0.021\tUnc: 0.038\n",
      "  \n",
      "  Rule 215: totrev < 1727.668\n",
      "  \tC1: 0.165\tC2: 0.609\tUnc: 0.226\n",
      "  \n",
      "  Rule 216: 1727.668 < totrev < 3009.300\n",
      "  \tC1: 0.154\tC2: 0.651\tUnc: 0.195\n",
      "  \n",
      "  Rule 217: 3009.300 < totrev < 4290.932\n",
      "  \tC1: 0.734\tC2: 0.149\tUnc: 0.117\n",
      "  \n",
      "  Rule 218: totrev > 4290.932\n",
      "  \tC1: 0.900\tC2: 0.029\tUnc: 0.071\n",
      "  \n",
      "  Rule 219: adjrev < 1650.454\n",
      "  \tC1: 0.164\tC2: 0.606\tUnc: 0.230\n",
      "  \n",
      "  Rule 220: 1650.454 < adjrev < 2912.426\n",
      "  \tC1: 0.153\tC2: 0.650\tUnc: 0.197\n",
      "  \n",
      "  Rule 221: 2912.426 < adjrev < 4174.398\n",
      "  \tC1: 0.738\tC2: 0.147\tUnc: 0.114\n",
      "  \n",
      "  Rule 222: adjrev > 4174.398\n",
      "  \tC1: 0.900\tC2: 0.029\tUnc: 0.071\n",
      "  \n",
      "  Rule 223: adjmou < 6836.606\n",
      "  \tC1: 0.196\tC2: 0.583\tUnc: 0.222\n",
      "  \n",
      "  Rule 224: 6836.606 < adjmou < 25312.606\n",
      "  \tC1: 0.565\tC2: 0.235\tUnc: 0.200\n",
      "  \n",
      "  Rule 225: 25312.606 < adjmou < 43788.607\n",
      "  \tC1: 0.786\tC2: 0.098\tUnc: 0.115\n",
      "  \n",
      "  Rule 226: adjmou > 43788.607\n",
      "  \tC1: 0.932\tC2: 0.020\tUnc: 0.048\n",
      "  \n",
      "  Rule 227: adjqty < 2330.029\n",
      "  \tC1: 0.226\tC2: 0.549\tUnc: 0.225\n",
      "  \n",
      "  Rule 228: 2330.029 < adjqty < 11115.883\n",
      "  \tC1: 0.593\tC2: 0.221\tUnc: 0.187\n",
      "  \n",
      "  Rule 229: 11115.883 < adjqty < 19901.738\n",
      "  \tC1: 0.779\tC2: 0.112\tUnc: 0.109\n",
      "  \n",
      "  Rule 230: adjqty > 19901.738\n",
      "  \tC1: 0.926\tC2: 0.020\tUnc: 0.054\n",
      "  \n",
      "  Rule 231: avgrev < 38.174\n",
      "  \tC1: 0.173\tC2: 0.595\tUnc: 0.231\n",
      "  \n",
      "  Rule 232: 38.174 < avgrev < 64.958\n",
      "  \tC1: 0.575\tC2: 0.232\tUnc: 0.193\n",
      "  \n",
      "  Rule 233: 64.958 < avgrev < 91.743\n",
      "  \tC1: 0.735\tC2: 0.138\tUnc: 0.127\n",
      "  \n",
      "  Rule 234: avgrev > 91.743\n",
      "  \tC1: 0.906\tC2: 0.025\tUnc: 0.069\n",
      "  \n",
      "  Rule 235: avgmou < 169.913\n",
      "  \tC1: 0.194\tC2: 0.576\tUnc: 0.230\n",
      "  \n",
      "  Rule 236: 169.913 < avgmou < 556.576\n",
      "  \tC1: 0.558\tC2: 0.239\tUnc: 0.203\n",
      "  \n",
      "  Rule 237: 556.576 < avgmou < 943.238\n",
      "  \tC1: 0.771\tC2: 0.106\tUnc: 0.123\n",
      "  \n",
      "  Rule 238: avgmou > 943.238\n",
      "  \tC1: 0.930\tC2: 0.018\tUnc: 0.052\n",
      "  \n",
      "  Rule 239: avgqty < 60.540\n",
      "  \tC1: 0.231\tC2: 0.540\tUnc: 0.229\n",
      "  \n",
      "  Rule 240: 60.540 < avgqty < 243.738\n",
      "  \tC1: 0.584\tC2: 0.225\tUnc: 0.191\n",
      "  \n",
      "  Rule 241: 243.738 < avgqty < 426.937\n",
      "  \tC1: 0.077\tC2: 0.768\tUnc: 0.155\n",
      "  \n",
      "  Rule 242: avgqty > 426.937\n",
      "  \tC1: 0.925\tC2: 0.021\tUnc: 0.054\n",
      "  \n",
      "  Rule 243: avg3mou < 139.821\n",
      "  \tC1: 0.200\tC2: 0.558\tUnc: 0.242\n",
      "  \n",
      "  Rule 244: 139.821 < avg3mou < 602.032\n",
      "  \tC1: 0.550\tC2: 0.219\tUnc: 0.231\n",
      "  \n",
      "  Rule 245: 602.032 < avg3mou < 1064.244\n",
      "  \tC1: 0.736\tC2: 0.111\tUnc: 0.153\n",
      "  \n",
      "  Rule 246: avg3mou > 1064.244\n",
      "  \tC1: 0.969\tC2: 0.012\tUnc: 0.019\n",
      "  \n",
      "  Rule 247: avg3qty < 48.036\n",
      "  \tC1: 0.195\tC2: 0.566\tUnc: 0.239\n",
      "  \n",
      "  Rule 248: 48.036 < avg3qty < 244.980\n",
      "  \tC1: 0.570\tC2: 0.233\tUnc: 0.197\n",
      "  \n",
      "  Rule 249: 244.980 < avg3qty < 441.924\n",
      "  \tC1: 0.754\tC2: 0.108\tUnc: 0.137\n",
      "  \n",
      "  Rule 250: avg3qty > 441.924\n",
      "  \tC1: 0.948\tC2: 0.014\tUnc: 0.038\n",
      "  \n",
      "  Rule 251: avg3rev < 32.522\n",
      "  \tC1: 0.198\tC2: 0.552\tUnc: 0.250\n",
      "  \n",
      "  Rule 252: 32.522 < avg3rev < 67.945\n",
      "  \tC1: 0.553\tC2: 0.242\tUnc: 0.205\n",
      "  \n",
      "  Rule 253: 67.945 < avg3rev < 103.369\n",
      "  \tC1: 0.740\tC2: 0.099\tUnc: 0.162\n",
      "  \n",
      "  Rule 254: avg3rev > 103.369\n",
      "  \tC1: 0.917\tC2: 0.026\tUnc: 0.058\n",
      "  \n",
      "  Rule 255: avg6mou < 154.438\n",
      "  \tC1: 0.202\tC2: 0.560\tUnc: 0.237\n",
      "  \n",
      "  Rule 256: 154.438 < avg6mou < 607.368\n",
      "  \tC1: 0.549\tC2: 0.177\tUnc: 0.274\n",
      "  \n",
      "  Rule 257: 607.368 < avg6mou < 1060.297\n",
      "  \tC1: 0.757\tC2: 0.101\tUnc: 0.142\n",
      "  \n",
      "  Rule 258: avg6mou > 1060.297\n",
      "  \tC1: 0.944\tC2: 0.014\tUnc: 0.043\n",
      "  \n",
      "  Rule 259: avg6qty < 53.300\n",
      "  \tC1: 0.210\tC2: 0.553\tUnc: 0.237\n",
      "  \n",
      "  Rule 260: 53.300 < avg6qty < 249.287\n",
      "  \tC1: 0.573\tC2: 0.157\tUnc: 0.270\n",
      "  \n",
      "  Rule 261: 249.287 < avg6qty < 445.274\n",
      "  \tC1: 0.725\tC2: 0.118\tUnc: 0.157\n",
      "  \n",
      "  Rule 262: avg6qty > 445.274\n",
      "  \tC1: 0.952\tC2: 0.012\tUnc: 0.035\n",
      "  \n",
      "  Rule 263: avg6rev < 34.359\n",
      "  \tC1: 0.189\tC2: 0.572\tUnc: 0.239\n",
      "  \n",
      "  Rule 264: 34.359 < avg6rev < 68.306\n",
      "  \tC1: 0.565\tC2: 0.235\tUnc: 0.200\n",
      "  \n",
      "  Rule 265: 68.306 < avg6rev < 102.254\n",
      "  \tC1: 0.765\tC2: 0.133\tUnc: 0.102\n",
      "  \n",
      "  Rule 266: avg6rev > 102.254\n",
      "  \tC1: 0.901\tC2: 0.038\tUnc: 0.061\n",
      "  \n",
      "  Rule 267: hnd_price < 40.243\n",
      "  \tC1: 0.173\tC2: 0.605\tUnc: 0.222\n",
      "  \n",
      "  Rule 268: 40.243 < hnd_price < 85.934\n",
      "  \tC1: 0.653\tC2: 0.114\tUnc: 0.233\n",
      "  \n",
      "  Rule 269: 85.934 < hnd_price < 131.625\n",
      "  \tC1: 0.699\tC2: 0.095\tUnc: 0.207\n",
      "  \n",
      "  Rule 270: hnd_price > 131.625\n",
      "  \tC1: 0.702\tC2: 0.105\tUnc: 0.193\n",
      "  \n",
      "  Rule 271: phones < 1.947\n",
      "  \tC1: 0.209\tC2: 0.536\tUnc: 0.255\n",
      "  \n",
      "  Rule 272: 1.947 < phones < 3.870\n",
      "  \tC1: 0.600\tC2: 0.208\tUnc: 0.192\n",
      "  \n",
      "  Rule 273: 3.870 < phones < 5.794\n",
      "  \tC1: 0.687\tC2: 0.176\tUnc: 0.137\n",
      "  \n",
      "  Rule 274: phones > 5.794\n",
      "  \tC1: 0.825\tC2: 0.029\tUnc: 0.145\n",
      "  \n",
      "  Rule 275: models < 1.771\n",
      "  \tC1: 0.209\tC2: 0.538\tUnc: 0.253\n",
      "  \n",
      "  Rule 276: 1.771 < models < 2.894\n",
      "  \tC1: 0.602\tC2: 0.147\tUnc: 0.251\n",
      "  \n",
      "  Rule 277: 2.894 < models < 4.016\n",
      "  \tC1: 0.685\tC2: 0.176\tUnc: 0.139\n",
      "  \n",
      "  Rule 278: models > 4.016\n",
      "  \tC1: 0.835\tC2: 0.098\tUnc: 0.067\n",
      "  \n",
      "  Rule 279: truck = 0.0\n",
      "  \tC1: 0.665\tC2: 0.189\tUnc: 0.146\n",
      "  \n",
      "  Rule 280: truck = 1.0\n",
      "  \tC1: 0.696\tC2: 0.141\tUnc: 0.163\n",
      "  \n",
      "  Rule 281: rv = 0.0\n",
      "  \tC1: 0.669\tC2: 0.181\tUnc: 0.150\n",
      "  \n",
      "  Rule 282: rv = 1.0\n",
      "  \tC1: 0.707\tC2: 0.157\tUnc: 0.136\n",
      "  \n",
      "  Rule 283: lor < 3.583\n",
      "  \tC1: 0.683\tC2: 0.180\tUnc: 0.137\n",
      "  \n",
      "  Rule 284: 3.583 < lor < 6.739\n",
      "  \tC1: 0.685\tC2: 0.180\tUnc: 0.135\n",
      "  \n",
      "  Rule 285: 6.739 < lor < 9.895\n",
      "  \tC1: 0.650\tC2: 0.184\tUnc: 0.165\n",
      "  \n",
      "  Rule 286: lor > 9.895\n",
      "  \tC1: 0.130\tC2: 0.692\tUnc: 0.178\n",
      "  \n",
      "  Rule 287: adults = 1.0\n",
      "  \tC1: 0.706\tC2: 0.166\tUnc: 0.128\n",
      "  \n",
      "  Rule 288: adults = 2.0\n",
      "  \tC1: 0.658\tC2: 0.109\tUnc: 0.233\n",
      "  \n",
      "  Rule 289: adults = 3.0\n",
      "  \tC1: 0.646\tC2: 0.197\tUnc: 0.157\n",
      "  \n",
      "  Rule 290: adults = 4.0\n",
      "  \tC1: 0.656\tC2: 0.183\tUnc: 0.161\n",
      "  \n",
      "  Rule 291: adults = 5.0\n",
      "  \tC1: 0.176\tC2: 0.602\tUnc: 0.222\n",
      "  \n",
      "  Rule 292: adults = 6.0\n",
      "  \tC1: 0.718\tC2: 0.157\tUnc: 0.125\n",
      "  \n",
      "  Rule 293: income < 4.735\n",
      "  \tC1: 0.680\tC2: 0.100\tUnc: 0.220\n",
      "  \n",
      "  Rule 294: 4.735 < income < 6.151\n",
      "  \tC1: 0.661\tC2: 0.154\tUnc: 0.185\n",
      "  \n",
      "  Rule 295: 6.151 < income < 7.567\n",
      "  \tC1: 0.135\tC2: 0.683\tUnc: 0.182\n",
      "  \n",
      "  Rule 296: income > 7.567\n",
      "  \tC1: 0.669\tC2: 0.185\tUnc: 0.146\n",
      "  \n",
      "  Rule 297: forgntvl = 0.0\n",
      "  \tC1: 0.672\tC2: 0.175\tUnc: 0.153\n",
      "  \n",
      "  Rule 298: forgntvl = 1.0\n",
      "  \tC1: 0.137\tC2: 0.672\tUnc: 0.191\n",
      "  \n",
      "  Rule 299: eqpdays < 280.188\n",
      "  \tC1: 0.712\tC2: 0.096\tUnc: 0.192\n",
      "  \n",
      "  Rule 300: 280.188 < eqpdays < 600.208\n",
      "  \tC1: 0.109\tC2: 0.747\tUnc: 0.144\n",
      "  \n",
      "  Rule 301: 600.208 < eqpdays < 920.229\n",
      "  \tC1: 0.661\tC2: 0.187\tUnc: 0.152\n",
      "  \n",
      "  Rule 302: eqpdays > 920.229\n",
      "  \tC1: 0.213\tC2: 0.522\tUnc: 0.264\n",
      ")\n",
      "\n",
      "\n",
      "Most important rules for class 0\n",
      "\n",
      "\t[1.000] R59: blck_dat_Mean = 1.333333333\n",
      "\t\t\t0: 1.000\t1: 0.000\tUnc: 0.000\n",
      "\n",
      "\t[1.000] R58: blck_dat_Mean = 1.0\n",
      "\t\t\t0: 1.000\t1: 0.000\tUnc: 0.000\n",
      "\n",
      "\t[1.000] R147: peak_dat_Mean > 4.832\n",
      "\t\t\t0: 1.000\t1: 0.000\tUnc: 0.000\n",
      "\n",
      "\t[0.984] R205: actvsubs = 5.0\n",
      "\t\t\t0: 0.979\t1: 0.011\tUnc: 0.011\n",
      "\n",
      "\t[0.984] R191: callwait_Mean > 9.068\n",
      "\t\t\t0: 0.979\t1: 0.010\tUnc: 0.011\n",
      "\n",
      "\t[0.981] R91: comp_dat_Mean > 5.871\n",
      "\t\t\t0: 0.974\t1: 0.013\tUnc: 0.013\n",
      "\n",
      "\t[0.979] R75: plcd_dat_Mean > 6.622\n",
      "\t\t\t0: 0.972\t1: 0.014\tUnc: 0.014\n",
      "\n",
      "\t[0.977] R183: complete_Mean > 233.474\n",
      "\t\t\t0: 0.970\t1: 0.014\tUnc: 0.016\n",
      "\n",
      "\t[0.977] R87: comp_vce_Mean > 232.525\n",
      "\t\t\t0: 0.970\t1: 0.014\tUnc: 0.016\n",
      "\n",
      "\t[0.977] R179: attempt_Mean > 295.969\n",
      "\t\t\t0: 0.970\t1: 0.014\tUnc: 0.016\n",
      "\n",
      "\t[0.976] R71: plcd_vce_Mean > 294.898\n",
      "\t\t\t0: 0.969\t1: 0.015\tUnc: 0.016\n",
      "\n",
      "\t[0.975] R245: avg3mou > 1064.244\n",
      "\t\t\t0: 0.969\t1: 0.012\tUnc: 0.019\n",
      "\n",
      "\t[0.975] R143: peak_vce_Mean > 262.204\n",
      "\t\t\t0: 0.968\t1: 0.016\tUnc: 0.017\n",
      "\n",
      "\t[0.974] R151: mou_peav_Mean > 507.234\n",
      "\t\t\t0: 0.965\t1: 0.017\tUnc: 0.018\n",
      "\n",
      "\t[0.965] R79: recv_vce_Mean > 146.422\n",
      "\t\t\t0: 0.954\t1: 0.023\tUnc: 0.023\n",
      "\n",
      "\t[0.962] R139: mouiwylisv_Mean > 51.143\n",
      "\t\t\t0: 0.950\t1: 0.025\tUnc: 0.026\n",
      "\n",
      "\t[0.959] R83: recv_sms_Mean > 0.254\n",
      "\t\t\t0: 0.957\t1: 0.005\tUnc: 0.038\n",
      "\n",
      "\t[0.959] R261: avg6qty > 445.274\n",
      "\t\t\t0: 0.952\t1: 0.012\tUnc: 0.035\n",
      "\n",
      "\t[0.958] R123: mou_rvce_Mean > 292.351\n",
      "\t\t\t0: 0.945\t1: 0.027\tUnc: 0.028\n",
      "\n",
      "\t[0.956] R7: mou_Mean > 1040.153\n",
      "\t\t\t0: 0.949\t1: 0.014\tUnc: 0.037\n",
      "\n",
      "\t[0.955] R249: avg3qty > 441.924\n",
      "\t\t\t0: 0.948\t1: 0.014\tUnc: 0.038\n",
      "\n",
      "\t[0.955] R135: iwylis_vce_Mean > 22.584\n",
      "\t\t\t0: 0.943\t1: 0.025\tUnc: 0.032\n",
      "\n",
      "\t[0.954] R131: mouowylisv_Mean > 62.577\n",
      "\t\t\t0: 0.939\t1: 0.030\tUnc: 0.031\n",
      "\n",
      "\t[0.951] R213: totmou > 44102.022\n",
      "\t\t\t0: 0.941\t1: 0.021\tUnc: 0.038\n",
      "\n",
      "\t[0.951] R115: mou_cvce_Mean > 434.840\n",
      "\t\t\t0: 0.935\t1: 0.032\tUnc: 0.033\n",
      "\n",
      "\t[0.950] R159: opk_vce_Mean > 103.391\n",
      "\t\t\t0: 0.934\t1: 0.032\tUnc: 0.033\n",
      "\n",
      "\t[0.950] R257: avg6mou > 1060.297\n",
      "\t\t\t0: 0.944\t1: 0.014\tUnc: 0.043\n",
      "\n",
      "\t[0.949] R19: ovrmou_Mean > 156.568\n",
      "\t\t\t0: 0.942\t1: 0.013\tUnc: 0.045\n",
      "\n",
      "\t[0.944] R3: rev_Mean > 101.937\n",
      "\t\t\t0: 0.934\t1: 0.020\tUnc: 0.046\n",
      "\n",
      "\t[0.942] R225: adjmou > 43788.607\n",
      "\t\t\t0: 0.932\t1: 0.020\tUnc: 0.048\n",
      "\n",
      "\t[0.941] R155: mou_pead_Mean > 6.541\n",
      "\t\t\t0: 0.922\t1: 0.039\tUnc: 0.039\n",
      "\n",
      "\t[0.939] R237: avgmou > 943.238\n",
      "\t\t\t0: 0.930\t1: 0.018\tUnc: 0.052\n",
      "\n",
      "\t[0.939] R57: blck_dat_Mean = 0.333333333\n",
      "\t\t\t0: 0.919\t1: 0.041\tUnc: 0.041\n",
      "\n",
      "\t[0.938] R175: drop_blk_Mean > 17.359\n",
      "\t\t\t0: 0.921\t1: 0.034\tUnc: 0.045\n",
      "\n",
      "\t[0.937] R107: inonemin_Mean > 78.958\n",
      "\t\t\t0: 0.919\t1: 0.037\tUnc: 0.044\n",
      "\n",
      "\t[0.936] R229: adjqty > 19901.738\n",
      "\t\t\t0: 0.926\t1: 0.020\tUnc: 0.054\n",
      "\n",
      "\t[0.936] R209: totcalls > 20044.306\n",
      "\t\t\t0: 0.926\t1: 0.020\tUnc: 0.054\n",
      "\n",
      "\t[0.936] R241: avgqty > 426.937\n",
      "\t\t\t0: 0.925\t1: 0.021\tUnc: 0.054\n",
      "\n",
      "\t[0.932] R47: drop_vce_Mean > 11.760\n",
      "\t\t\t0: 0.914\t1: 0.037\tUnc: 0.049\n",
      "\n",
      "\t[0.929] R253: avg3rev > 103.369\n",
      "\t\t\t0: 0.917\t1: 0.026\tUnc: 0.058\n",
      "\n",
      "\t[0.927] R63: unan_vce_Mean > 55.316\n",
      "\t\t\t0: 0.913\t1: 0.028\tUnc: 0.059\n",
      "\n",
      "\t[0.926] R127: owylis_vce_Mean > 54.276\n",
      "\t\t\t0: 0.908\t1: 0.037\tUnc: 0.055\n",
      "\n",
      "\t[0.920] R103: cc_mou_Mean > 6.860\n",
      "\t\t\t0: 0.885\t1: 0.071\tUnc: 0.044\n",
      "\n",
      "\t[0.920] R265: avg6rev > 102.254\n",
      "\t\t\t0: 0.901\t1: 0.038\tUnc: 0.061\n",
      "\n",
      "\t[0.919] R99: ccrndmou_Mean > 7.916\n",
      "\t\t\t0: 0.884\t1: 0.071\tUnc: 0.045\n",
      "\n",
      "\t[0.919] R233: avgrev > 91.743\n",
      "\t\t\t0: 0.906\t1: 0.025\tUnc: 0.069\n",
      "\n",
      "\t[0.918] R170: 0.398 < mou_opkd_Mean < 3.378\n",
      "\t\t\t0: 0.915\t1: 0.007\tUnc: 0.079\n",
      "\n",
      "\t[0.918] R163: opk_dat_Mean > 1.226\n",
      "\t\t\t0: 0.893\t1: 0.051\tUnc: 0.056\n",
      "\n",
      "\t[0.915] R221: adjrev > 4174.398\n",
      "\t\t\t0: 0.900\t1: 0.029\tUnc: 0.071\n",
      "\n",
      "\t[0.914] R217: totrev > 4290.932\n",
      "\t\t\t0: 0.900\t1: 0.029\tUnc: 0.071\n",
      "\n",
      "\t[0.908] R190: 3.349 < callwait_Mean < 9.068\n",
      "\t\t\t0: 0.878\t1: 0.061\tUnc: 0.061\n",
      "\n",
      "\t[0.905] R119: mou_cdat_Mean > 9.352\n",
      "\t\t\t0: 0.874\t1: 0.063\tUnc: 0.063\n",
      "\n",
      "\t[0.902] R167: mou_opkv_Mean > 235.230\n",
      "\t\t\t0: 0.876\t1: 0.053\tUnc: 0.071\n",
      "\n",
      "\t[0.899] R23: ovrrev_Mean > 31.765\n",
      "\t\t\t0: 0.873\t1: 0.054\tUnc: 0.074\n",
      "\n",
      "\t[0.897] R11: totmrc_Mean > 72.558\n",
      "\t\t\t0: 0.870\t1: 0.055\tUnc: 0.075\n",
      "\n",
      "\t[0.895] R118: 1.129 < mou_cdat_Mean < 9.352\n",
      "\t\t\t0: 0.883\t1: 0.026\tUnc: 0.092\n",
      "\n",
      "\t[0.894] R31: datovr_Mean > 0.923\n",
      "\t\t\t0: 0.868\t1: 0.052\tUnc: 0.079\n",
      "\n",
      "\t[0.894] R27: vceovr_Mean > 31.556\n",
      "\t\t\t0: 0.866\t1: 0.057\tUnc: 0.077\n",
      "\n",
      "\t[0.890] R55: blck_vce_Mean > 7.222\n",
      "\t\t\t0: 0.856\t1: 0.068\tUnc: 0.075\n",
      "\n",
      "\t[0.883] R95: custcare_Mean > 2.540\n",
      "\t\t\t0: 0.850\t1: 0.068\tUnc: 0.082\n",
      "\n",
      "\t[0.882] R277: models > 4.016\n",
      "\t\t\t0: 0.835\t1: 0.098\tUnc: 0.067\n",
      "\n",
      "\t[0.880] R50: 0.050 < drop_dat_Mean < 0.732\n",
      "\t\t\t0: 0.851\t1: 0.058\tUnc: 0.091\n",
      "\n",
      "\t[0.879] R40: change_rev < -24.334\n",
      "\t\t\t0: 0.828\t1: 0.106\tUnc: 0.066\n",
      "\n",
      "\t[0.878] R15: da_Mean > 3.637\n",
      "\t\t\t0: 0.837\t1: 0.082\tUnc: 0.080\n",
      "\n",
      "\t[0.877] R171: mou_opkd_Mean > 3.378\n",
      "\t\t\t0: 0.838\t1: 0.081\tUnc: 0.081\n",
      "\n",
      "\t[0.864] R111: threeway_Mean > 0.654\n",
      "\t\t\t0: 0.809\t1: 0.115\tUnc: 0.076\n",
      "\n",
      "\t[0.852] R199: uniqsubs > 2.158\n",
      "\t\t\t0: 0.793\t1: 0.123\tUnc: 0.084\n",
      "\n",
      "\t[0.852] R74: 0.643 < plcd_dat_Mean < 6.622\n",
      "\t\t\t0: 0.826\t1: 0.052\tUnc: 0.122\n",
      "\n",
      "\t[0.851] R203: actvsubs = 3.0\n",
      "\t\t\t0: 0.790\t1: 0.126\tUnc: 0.084\n",
      "\n",
      "\t[0.850] R39: change_mou > 138.002\n",
      "\t\t\t0: 0.825\t1: 0.051\tUnc: 0.124\n",
      "\n",
      "\t[0.840] R273: phones > 5.794\n",
      "\t\t\t0: 0.825\t1: 0.029\tUnc: 0.145\n",
      "\n",
      "\t[0.836] R212: 25519.534 < totmou < 44102.022\n",
      "\t\t\t0: 0.789\t1: 0.097\tUnc: 0.114\n",
      "\n",
      "\t[0.835] R14: 1.321 < da_Mean < 3.637\n",
      "\t\t\t0: 0.772\t1: 0.132\tUnc: 0.097\n",
      "\n",
      "\t[0.834] R224: 25312.606 < adjmou < 43788.607\n",
      "\t\t\t0: 0.786\t1: 0.098\tUnc: 0.115\n",
      "\n",
      "\t[0.833] R228: 11115.883 < adjqty < 19901.738\n",
      "\t\t\t0: 0.779\t1: 0.112\tUnc: 0.109\n",
      "\n",
      "\t[0.832] R90: 0.565 < comp_dat_Mean < 5.871\n",
      "\t\t\t0: 0.792\t1: 0.082\tUnc: 0.126\n",
      "\n",
      "\t[0.832] R35: roam_Mean > 2.980\n",
      "\t\t\t0: 0.773\t1: 0.121\tUnc: 0.105\n",
      "\n",
      "\t[0.831] R208: 11210.030 < totcalls < 20044.306\n",
      "\t\t\t0: 0.776\t1: 0.113\tUnc: 0.110\n",
      "\n",
      "\t[0.829] R51: drop_dat_Mean > 0.732\n",
      "\t\t\t0: 0.775\t1: 0.113\tUnc: 0.113\n",
      "\n",
      "\t[0.829] R264: 68.306 < avg6rev < 102.254\n",
      "\t\t\t0: 0.765\t1: 0.133\tUnc: 0.102\n",
      "\n",
      "\t[0.827] R43: change_rev > 19.290\n",
      "\t\t\t0: 0.807\t1: 0.041\tUnc: 0.152\n",
      "\n",
      "\t[0.825] R106: 37.737 < inonemin_Mean < 78.958\n",
      "\t\t\t0: 0.781\t1: 0.089\tUnc: 0.129\n",
      "\n",
      "\t[0.822] R236: 556.576 < avgmou < 943.238\n",
      "\t\t\t0: 0.771\t1: 0.106\tUnc: 0.123\n",
      "\n",
      "\t[0.822] R67: unan_dat_Mean > 0.139\n",
      "\t\t\t0: 0.797\t1: 0.051\tUnc: 0.152\n",
      "\n",
      "\t[0.819] R146: 0.413 < peak_dat_Mean < 4.832\n",
      "\t\t\t0: 0.775\t1: 0.090\tUnc: 0.134\n",
      "\n",
      "\t[0.817] R30: 0.145 < datovr_Mean < 0.923\n",
      "\t\t\t0: 0.781\t1: 0.072\tUnc: 0.147\n",
      "\n",
      "\t[0.815] R130: 29.542 < mouowylisv_Mean < 62.577\n",
      "\t\t\t0: 0.762\t1: 0.111\tUnc: 0.127\n",
      "\n",
      "\t[0.815] R78: 73.522 < recv_vce_Mean < 146.422\n",
      "\t\t\t0: 0.762\t1: 0.111\tUnc: 0.127\n",
      "\n",
      "\t[0.814] R126: 27.455 < owylis_vce_Mean < 54.276\n",
      "\t\t\t0: 0.761\t1: 0.110\tUnc: 0.129\n",
      "\n",
      "\t[0.813] R154: 0.732 < mou_pead_Mean < 6.541\n",
      "\t\t\t0: 0.767\t1: 0.095\tUnc: 0.138\n",
      "\n",
      "\t[0.813] R162: 0.152 < opk_dat_Mean < 1.226\n",
      "\t\t\t0: 0.776\t1: 0.075\tUnc: 0.149\n",
      "\n",
      "\t[0.809] R220: 2912.426 < adjrev < 4174.398\n",
      "\t\t\t0: 0.738\t1: 0.147\tUnc: 0.114\n",
      "\n",
      "\t[0.807] R248: 244.980 < avg3qty < 441.924\n",
      "\t\t\t0: 0.754\t1: 0.108\tUnc: 0.137\n",
      "\n",
      "\t[0.806] R256: 607.368 < avg6mou < 1060.297\n",
      "\t\t\t0: 0.757\t1: 0.101\tUnc: 0.142\n",
      "\n",
      "\t[0.805] R216: 3009.300 < totrev < 4290.932\n",
      "\t\t\t0: 0.734\t1: 0.149\tUnc: 0.117\n",
      "\n",
      "\t[0.804] R62: 29.245 < unan_vce_Mean < 55.316\n",
      "\t\t\t0: 0.734\t1: 0.146\tUnc: 0.120\n",
      "\n",
      "\t[0.804] R122: 146.851 < mou_rvce_Mean < 292.351\n",
      "\t\t\t0: 0.750\t1: 0.110\tUnc: 0.139\n",
      "\n",
      "\t[0.802] R46: 5.978 < drop_vce_Mean < 11.760\n",
      "\t\t\t0: 0.740\t1: 0.130\tUnc: 0.130\n",
      "\n",
      "\t[0.801] R2: 67.108 < rev_Mean < 101.937\n",
      "\t\t\t0: 0.745\t1: 0.116\tUnc: 0.139\n",
      "\n",
      "\t[0.801] R232: 64.958 < avgrev < 91.743\n",
      "\t\t\t0: 0.735\t1: 0.138\tUnc: 0.127\n",
      "\n",
      "\t[0.799] R142: 139.827 < peak_vce_Mean < 262.204\n",
      "\t\t\t0: 0.741\t1: 0.121\tUnc: 0.138\n",
      "\n",
      "\t[0.799] R166: 119.374 < mou_opkv_Mean < 235.230\n",
      "\t\t\t0: 0.740\t1: 0.122\tUnc: 0.138\n",
      "\n",
      "\t[0.798] R138: 19.797 < mouiwylisv_Mean < 51.143\n",
      "\t\t\t0: 0.747\t1: 0.106\tUnc: 0.147\n",
      "\n",
      "\t[0.796] R187: callfwdv_Mean > 0.107\n",
      "\t\t\t0: 0.736\t1: 0.126\tUnc: 0.138\n",
      "\n",
      "\t[0.793] R291: adults = 6.0\n",
      "\t\t\t0: 0.718\t1: 0.157\tUnc: 0.125\n",
      "\n",
      "\t[0.790] R86: 130.975 < comp_vce_Mean < 232.525\n",
      "\t\t\t0: 0.729\t1: 0.128\tUnc: 0.144\n",
      "\n",
      "\t[0.789] R244: 602.032 < avg3mou < 1064.244\n",
      "\t\t\t0: 0.736\t1: 0.111\tUnc: 0.153\n",
      "\n",
      "\t[0.789] R102: 2.265 < cc_mou_Mean < 6.860\n",
      "\t\t\t0: 0.759\t1: 0.061\tUnc: 0.179\n",
      "\n",
      "\t[0.789] R110: 0.175 < threeway_Mean < 0.654\n",
      "\t\t\t0: 0.710\t1: 0.167\tUnc: 0.124\n",
      "\n",
      "\t[0.788] R174: 9.326 < drop_blk_Mean < 17.359\n",
      "\t\t\t0: 0.730\t1: 0.120\tUnc: 0.150\n",
      "\n",
      "\t[0.788] R252: 67.945 < avg3rev < 103.369\n",
      "\t\t\t0: 0.740\t1: 0.099\tUnc: 0.162\n",
      "\n",
      "\t[0.787] R70: 167.570 < plcd_vce_Mean < 294.898\n",
      "\t\t\t0: 0.722\t1: 0.136\tUnc: 0.142\n",
      "\n",
      "\t[0.787] R182: 131.540 < complete_Mean < 233.474\n",
      "\t\t\t0: 0.725\t1: 0.130\tUnc: 0.146\n",
      "\n",
      "\t[0.786] R178: 168.213 < attempt_Mean < 295.969\n",
      "\t\t\t0: 0.721\t1: 0.135\tUnc: 0.144\n",
      "\n",
      "\t[0.785] R286: adults = 1.0\n",
      "\t\t\t0: 0.706\t1: 0.166\tUnc: 0.128\n",
      "\n",
      "\t[0.784] R150: 269.735 < mou_peav_Mean < 507.234\n",
      "\t\t\t0: 0.726\t1: 0.120\tUnc: 0.154\n",
      "\n",
      "\t[0.782] R260: 249.287 < avg6qty < 445.274\n",
      "\t\t\t0: 0.725\t1: 0.118\tUnc: 0.157\n",
      "\n",
      "\t[0.781] R281: rv = 1.0\n",
      "\t\t\t0: 0.707\t1: 0.157\tUnc: 0.136\n",
      "\n",
      "\t[0.781] R6: 588.828 < mou_Mean < 1040.153\n",
      "\t\t\t0: 0.725\t1: 0.116\tUnc: 0.159\n",
      "\n",
      "\t[0.777] R98: 2.718 < ccrndmou_Mean < 7.916\n",
      "\t\t\t0: 0.741\t1: 0.073\tUnc: 0.186\n",
      "\n",
      "\t[0.770] R272: 3.870 < phones < 5.794\n",
      "\t\t\t0: 0.687\t1: 0.176\tUnc: 0.137\n",
      "\n",
      "\t[0.770] R283: 3.583 < lor < 6.739\n",
      "\t\t\t0: 0.685\t1: 0.180\tUnc: 0.135\n",
      "\n",
      "\t[0.768] R276: 2.894 < models < 4.016\n",
      "\t\t\t0: 0.685\t1: 0.176\tUnc: 0.139\n",
      "\n",
      "\t[0.768] R282: lor < 3.583\n",
      "\t\t\t0: 0.683\t1: 0.180\tUnc: 0.137\n",
      "\n",
      "\t[0.764] R134: 9.283 < iwylis_vce_Mean < 22.584\n",
      "\t\t\t0: 0.700\t1: 0.134\tUnc: 0.166\n",
      "\n",
      "\t[0.763] R279: truck = 1.0\n",
      "\t\t\t0: 0.696\t1: 0.141\tUnc: 0.163\n",
      "\n",
      "\t[0.761] R26: 12.668 < vceovr_Mean < 31.556\n",
      "\t\t\t0: 0.677\t1: 0.178\tUnc: 0.144\n",
      "\n",
      "\t[0.760] R10: 51.264 < totmrc_Mean < 72.558\n",
      "\t\t\t0: 0.674\t1: 0.184\tUnc: 0.143\n",
      "\n",
      "\t[0.759] R158: 54.994 < opk_vce_Mean < 103.391\n",
      "\t\t\t0: 0.692\t1: 0.140\tUnc: 0.168\n",
      "\n",
      "\t[0.758] R298: eqpdays < 280.188\n",
      "\t\t\t0: 0.712\t1: 0.096\tUnc: 0.192\n",
      "\n",
      "\t[0.757] R194: 47.857 < months < 50.329\n",
      "\t\t\t0: 0.677\t1: 0.169\tUnc: 0.154\n",
      "\n",
      "\t[0.757] R185: -0.084 < callfwdv_Mean < 0.011\n",
      "\t\t\t0: 0.674\t1: 0.177\tUnc: 0.149\n",
      "\n",
      "\t[0.756] R18: 56.675 < ovrmou_Mean < 156.568\n",
      "\t\t\t0: 0.690\t1: 0.138\tUnc: 0.171\n",
      "\n",
      "\t[0.756] R56: blck_dat_Mean = 0.0\n",
      "\t\t\t0: 0.673\t1: 0.177\tUnc: 0.150\n",
      "\n",
      "\t[0.756] R295: income > 7.567\n",
      "\t\t\t0: 0.669\t1: 0.185\tUnc: 0.146\n",
      "\n",
      "\t[0.755] R49: -0.632 < drop_dat_Mean < 0.050\n",
      "\t\t\t0: 0.672\t1: 0.178\tUnc: 0.151\n",
      "\n",
      "\t[0.755] R22: 12.813 < ovrrev_Mean < 31.765\n",
      "\t\t\t0: 0.670\t1: 0.182\tUnc: 0.148\n",
      "\n",
      "\t[0.755] R81: -0.200 < recv_sms_Mean < 0.027\n",
      "\t\t\t0: 0.671\t1: 0.178\tUnc: 0.151\n",
      "\n",
      "\t[0.755] R296: forgntvl = 0.0\n",
      "\t\t\t0: 0.672\t1: 0.175\tUnc: 0.153\n",
      "\n",
      "\t[0.754] R65: -0.090 < unan_dat_Mean < 0.025\n",
      "\t\t\t0: 0.670\t1: 0.179\tUnc: 0.151\n",
      "\n",
      "\t[0.754] R280: rv = 0.0\n",
      "\t\t\t0: 0.669\t1: 0.181\tUnc: 0.150\n",
      "\n",
      "\t[0.754] R278: truck = 0.0\n",
      "\t\t\t0: 0.665\t1: 0.189\tUnc: 0.146\n",
      "\n",
      "\t[0.753] R145: -4.005 < peak_dat_Mean < 0.413\n",
      "\t\t\t0: 0.669\t1: 0.179\tUnc: 0.152\n",
      "\n",
      "\t[0.753] R37: -211.081 < change_mou < -36.540\n",
      "\t\t\t0: 0.666\t1: 0.186\tUnc: 0.148\n",
      "\n",
      "\t[0.753] R153: -5.077 < mou_pead_Mean < 0.732\n",
      "\t\t\t0: 0.669\t1: 0.179\tUnc: 0.152\n",
      "\n",
      "\t[0.752] R269: hnd_price > 131.625\n",
      "\t\t\t0: 0.702\t1: 0.105\tUnc: 0.193\n",
      "\n",
      "\t[0.752] R161: -0.923 < opk_dat_Mean < 0.152\n",
      "\t\t\t0: 0.667\t1: 0.180\tUnc: 0.153\n",
      "\n",
      "\t[0.751] R169: -2.583 < mou_opkd_Mean < 0.398\n",
      "\t\t\t0: 0.667\t1: 0.180\tUnc: 0.153\n",
      "\n",
      "\t[0.751] R117: -7.094 < mou_cdat_Mean < 1.129\n",
      "\t\t\t0: 0.666\t1: 0.180\tUnc: 0.153\n",
      "\n",
      "\t[0.751] R29: -0.633 < datovr_Mean < 0.145\n",
      "\t\t\t0: 0.666\t1: 0.181\tUnc: 0.153\n",
      "\n",
      "\t[0.751] R54: 3.294 < blck_vce_Mean < 7.222\n",
      "\t\t\t0: 0.693\t1: 0.120\tUnc: 0.187\n",
      "\n",
      "\t[0.751] R114: 242.332 < mou_cvce_Mean < 434.840\n",
      "\t\t\t0: 0.686\t1: 0.136\tUnc: 0.178\n",
      "\n",
      "\t[0.749] R300: 600.208 < eqpdays < 920.229\n",
      "\t\t\t0: 0.661\t1: 0.187\tUnc: 0.152\n",
      "\n",
      "\t[0.747] R33: -1.483 < roam_Mean < 0.748\n",
      "\t\t\t0: 0.663\t1: 0.180\tUnc: 0.158\n",
      "\n",
      "\t[0.745] R268: 85.934 < hnd_price < 131.625\n",
      "\t\t\t0: 0.699\t1: 0.095\tUnc: 0.207\n",
      "\n",
      "\t[0.742] R289: adults = 4.0\n",
      "\t\t\t0: 0.656\t1: 0.183\tUnc: 0.161\n",
      "\n",
      "\t[0.738] R288: adults = 3.0\n",
      "\t\t\t0: 0.646\t1: 0.197\tUnc: 0.157\n",
      "\n",
      "\t[0.737] R93: -0.812 < custcare_Mean < 0.864\n",
      "\t\t\t0: 0.647\t1: 0.193\tUnc: 0.160\n",
      "\n",
      "\t[0.737] R284: 6.739 < lor < 9.895\n",
      "\t\t\t0: 0.650\t1: 0.184\tUnc: 0.165\n",
      "\n",
      "\t[0.734] R25: -6.220 < vceovr_Mean < 12.668\n",
      "\t\t\t0: 0.644\t1: 0.191\tUnc: 0.164\n",
      "\n",
      "\t[0.734] R293: 4.735 < income < 6.151\n",
      "\t\t\t0: 0.661\t1: 0.154\tUnc: 0.185\n",
      "\n",
      "\t[0.734] R21: -6.139 < ovrrev_Mean < 12.813\n",
      "\t\t\t0: 0.644\t1: 0.191\tUnc: 0.165\n",
      "\n",
      "\t[0.733] R97: -2.480 < ccrndmou_Mean < 2.718\n",
      "\t\t\t0: 0.642\t1: 0.194\tUnc: 0.164\n",
      "\n",
      "\t[0.731] R17: -43.219 < ovrmou_Mean < 56.675\n",
      "\t\t\t0: 0.641\t1: 0.194\tUnc: 0.166\n",
      "\n",
      "\t[0.728] R292: income < 4.735\n",
      "\t\t\t0: 0.680\t1: 0.100\tUnc: 0.220\n",
      "\n",
      "\t[0.721] R198: 1.553 < uniqsubs < 2.158\n",
      "\t\t\t0: 0.670\t1: 0.104\tUnc: 0.225\n",
      "\n",
      "\t[0.717] R41: -24.334 < change_rev < -2.522\n",
      "\t\t\t0: 0.665\t1: 0.106\tUnc: 0.228\n",
      "\n",
      "\t[0.710] R287: adults = 2.0\n",
      "\t\t\t0: 0.658\t1: 0.109\tUnc: 0.233\n",
      "\n",
      "\t[0.709] R200: actvsubs = 0.0\n",
      "\t\t\t0: 0.641\t1: 0.142\tUnc: 0.217\n",
      "\n",
      "\t[0.708] R267: 40.243 < hnd_price < 85.934\n",
      "\t\t\t0: 0.653\t1: 0.114\tUnc: 0.233\n",
      "\n",
      "\t[0.706] R45: 0.196 < drop_vce_Mean < 5.978\n",
      "\t\t\t0: 0.606\t1: 0.217\tUnc: 0.177\n",
      "\n",
      "\t[0.702] R38: -36.540 < change_mou < 138.002\n",
      "\t\t\t0: 0.605\t1: 0.210\tUnc: 0.185\n",
      "\n",
      "\t[0.700] R202: actvsubs = 2.0\n",
      "\t\t\t0: 0.645\t1: 0.116\tUnc: 0.239\n",
      "\n",
      "\t[0.698] R173: 1.292 < drop_blk_Mean < 9.326\n",
      "\t\t\t0: 0.595\t1: 0.223\tUnc: 0.182\n",
      "\n",
      "\t[0.698] R192: months < 45.386\n",
      "\t\t\t0: 0.602\t1: 0.206\tUnc: 0.192\n",
      "\n",
      "\t[0.696] R271: 1.947 < phones < 3.870\n",
      "\t\t\t0: 0.600\t1: 0.208\tUnc: 0.192\n",
      "\n",
      "\t[0.695] R207: 2375.753 < totcalls < 11210.030\n",
      "\t\t\t0: 0.593\t1: 0.220\tUnc: 0.187\n",
      "\n",
      "\t[0.694] R227: 2330.029 < adjqty < 11115.883\n",
      "\t\t\t0: 0.593\t1: 0.221\tUnc: 0.187\n",
      "\n",
      "\t[0.691] R61: 3.175 < unan_vce_Mean < 29.245\n",
      "\t\t\t0: 0.587\t1: 0.226\tUnc: 0.187\n",
      "\n",
      "\t[0.688] R239: 60.540 < avgqty < 243.738\n",
      "\t\t\t0: 0.584\t1: 0.225\tUnc: 0.191\n",
      "\n",
      "\t[0.683] R113: 49.825 < mou_cvce_Mean < 242.332\n",
      "\t\t\t0: 0.580\t1: 0.226\tUnc: 0.194\n",
      "\n",
      "\t[0.683] R149: 32.236 < mou_peav_Mean < 269.735\n",
      "\t\t\t0: 0.578\t1: 0.229\tUnc: 0.193\n",
      "\n",
      "\t[0.681] R231: 38.174 < avgrev < 64.958\n",
      "\t\t\t0: 0.575\t1: 0.232\tUnc: 0.193\n",
      "\n",
      "\t[0.677] R141: 17.451 < peak_vce_Mean < 139.827\n",
      "\t\t\t0: 0.577\t1: 0.219\tUnc: 0.205\n",
      "\n",
      "\t[0.676] R1: 32.278 < rev_Mean < 67.108\n",
      "\t\t\t0: 0.570\t1: 0.233\tUnc: 0.197\n",
      "\n",
      "\t[0.676] R247: 48.036 < avg3qty < 244.980\n",
      "\t\t\t0: 0.570\t1: 0.233\tUnc: 0.197\n",
      "\n",
      "\t[0.673] R263: 34.359 < avg6rev < 68.306\n",
      "\t\t\t0: 0.565\t1: 0.235\tUnc: 0.200\n",
      "\n",
      "\t[0.672] R223: 6836.606 < adjmou < 25312.606\n",
      "\t\t\t0: 0.565\t1: 0.235\tUnc: 0.200\n",
      "\n",
      "\t[0.672] R211: 6937.046 < totmou < 25519.534\n",
      "\t\t\t0: 0.565\t1: 0.235\tUnc: 0.200\n",
      "\n",
      "\t[0.671] R275: 1.771 < models < 2.894\n",
      "\t\t\t0: 0.602\t1: 0.147\tUnc: 0.251\n",
      "\n",
      "\t[0.670] R181: 29.606 < complete_Mean < 131.540\n",
      "\t\t\t0: 0.567\t1: 0.225\tUnc: 0.208\n",
      "\n",
      "\t[0.669] R69: 40.242 < plcd_vce_Mean < 167.570\n",
      "\t\t\t0: 0.561\t1: 0.237\tUnc: 0.202\n",
      "\n",
      "\t[0.669] R85: 29.425 < comp_vce_Mean < 130.975\n",
      "\t\t\t0: 0.565\t1: 0.226\tUnc: 0.209\n",
      "\n",
      "\t[0.667] R235: 169.913 < avgmou < 556.576\n",
      "\t\t\t0: 0.558\t1: 0.239\tUnc: 0.203\n",
      "\n",
      "\t[0.666] R177: 40.457 < attempt_Mean < 168.213\n",
      "\t\t\t0: 0.557\t1: 0.239\tUnc: 0.204\n",
      "\n",
      "\t[0.663] R251: 32.522 < avg3rev < 67.945\n",
      "\t\t\t0: 0.553\t1: 0.242\tUnc: 0.205\n",
      "\n",
      "\t[0.651] R243: 139.821 < avg3mou < 602.032\n",
      "\t\t\t0: 0.550\t1: 0.219\tUnc: 0.231\n",
      "\n",
      "\t[0.647] R259: 53.300 < avg6qty < 249.287\n",
      "\t\t\t0: 0.573\t1: 0.157\tUnc: 0.270\n",
      "\n",
      "\t[0.631] R255: 154.438 < avg6mou < 607.368\n",
      "\t\t\t0: 0.549\t1: 0.177\tUnc: 0.274\n",
      "\n",
      "\t[0.422] R238: avgqty < 60.540\n",
      "\t\t\t0: 0.231\t1: 0.540\tUnc: 0.229\n",
      "\n",
      "\t[0.420] R206: totcalls < 2375.753\n",
      "\t\t\t0: 0.228\t1: 0.544\tUnc: 0.228\n",
      "\n",
      "\t[0.418] R226: adjqty < 2330.029\n",
      "\t\t\t0: 0.226\t1: 0.549\tUnc: 0.225\n",
      "\n",
      "\t[0.400] R258: avg6qty < 53.300\n",
      "\t\t\t0: 0.210\t1: 0.553\tUnc: 0.237\n",
      "\n",
      "\t[0.396] R301: eqpdays > 920.229\n",
      "\t\t\t0: 0.213\t1: 0.522\tUnc: 0.264\n",
      "\n",
      "\t[0.396] R274: models < 1.771\n",
      "\t\t\t0: 0.209\t1: 0.538\tUnc: 0.253\n",
      "\n",
      "\t[0.395] R270: phones < 1.947\n",
      "\t\t\t0: 0.209\t1: 0.536\tUnc: 0.255\n",
      "\n",
      "\t[0.393] R254: avg6mou < 154.438\n",
      "\t\t\t0: 0.202\t1: 0.560\tUnc: 0.237\n",
      "\n",
      "\t[0.390] R222: adjmou < 6836.606\n",
      "\t\t\t0: 0.196\t1: 0.583\tUnc: 0.222\n",
      "\n",
      "\t[0.390] R210: totmou < 6937.046\n",
      "\t\t\t0: 0.196\t1: 0.583\tUnc: 0.222\n",
      "\n",
      "\t[0.389] R242: avg3mou < 139.821\n",
      "\t\t\t0: 0.200\t1: 0.558\tUnc: 0.242\n",
      "\n",
      "\t[0.388] R44: drop_vce_Mean < 0.196\n",
      "\t\t\t0: 0.192\t1: 0.594\tUnc: 0.214\n",
      "\n",
      "\t[0.387] R156: opk_vce_Mean < 6.597\n",
      "\t\t\t0: 0.193\t1: 0.584\tUnc: 0.223\n",
      "\n",
      "\t[0.387] R234: avgmou < 169.913\n",
      "\t\t\t0: 0.194\t1: 0.576\tUnc: 0.230\n",
      "\n",
      "\t[0.386] R246: avg3qty < 48.036\n",
      "\t\t\t0: 0.195\t1: 0.566\tUnc: 0.239\n",
      "\n",
      "\t[0.385] R164: mou_opkv_Mean < 3.518\n",
      "\t\t\t0: 0.192\t1: 0.581\tUnc: 0.227\n",
      "\n",
      "\t[0.385] R250: avg3rev < 32.522\n",
      "\t\t\t0: 0.198\t1: 0.552\tUnc: 0.250\n",
      "\n",
      "\t[0.383] R76: recv_vce_Mean < 0.622\n",
      "\t\t\t0: 0.192\t1: 0.574\tUnc: 0.234\n",
      "\n",
      "\t[0.383] R4: mou_Mean < 137.502\n",
      "\t\t\t0: 0.194\t1: 0.563\tUnc: 0.243\n",
      "\n",
      "\t[0.381] R0: rev_Mean < 32.278\n",
      "\t\t\t0: 0.191\t1: 0.571\tUnc: 0.238\n",
      "\n",
      "\t[0.380] R176: attempt_Mean < 40.457\n",
      "\t\t\t0: 0.190\t1: 0.571\tUnc: 0.239\n",
      "\n",
      "\t[0.380] R112: mou_cvce_Mean < 49.825\n",
      "\t\t\t0: 0.188\t1: 0.580\tUnc: 0.232\n",
      "\n",
      "\t[0.380] R68: plcd_vce_Mean < 40.242\n",
      "\t\t\t0: 0.189\t1: 0.573\tUnc: 0.238\n",
      "\n",
      "\t[0.380] R262: avg6rev < 34.359\n",
      "\t\t\t0: 0.189\t1: 0.572\tUnc: 0.239\n",
      "\n",
      "\t[0.380] R140: peak_vce_Mean < 17.451\n",
      "\t\t\t0: 0.188\t1: 0.580\tUnc: 0.232\n",
      "\n",
      "\t[0.379] R180: complete_Mean < 29.606\n",
      "\t\t\t0: 0.187\t1: 0.581\tUnc: 0.232\n",
      "\n",
      "\t[0.379] R84: comp_vce_Mean < 29.425\n",
      "\t\t\t0: 0.187\t1: 0.581\tUnc: 0.232\n",
      "\n",
      "\t[0.377] R120: mou_rvce_Mean < 1.352\n",
      "\t\t\t0: 0.184\t1: 0.585\tUnc: 0.230\n",
      "\n",
      "\t[0.376] R124: owylis_vce_Mean < 0.634\n",
      "\t\t\t0: 0.180\t1: 0.603\tUnc: 0.216\n",
      "\n",
      "\t[0.374] R148: mou_peav_Mean < 32.236\n",
      "\t\t\t0: 0.182\t1: 0.586\tUnc: 0.232\n",
      "\n",
      "\t[0.374] R172: drop_blk_Mean < 1.292\n",
      "\t\t\t0: 0.184\t1: 0.575\tUnc: 0.241\n",
      "\n",
      "\t[0.373] R60: unan_vce_Mean < 3.175\n",
      "\t\t\t0: 0.181\t1: 0.588\tUnc: 0.232\n",
      "\n",
      "\t[0.370] R290: adults = 5.0\n",
      "\t\t\t0: 0.176\t1: 0.602\tUnc: 0.222\n",
      "\n",
      "\t[0.368] R8: totmrc_Mean < 29.970\n",
      "\t\t\t0: 0.181\t1: 0.569\tUnc: 0.250\n",
      "\n",
      "\t[0.367] R266: hnd_price < 40.243\n",
      "\t\t\t0: 0.173\t1: 0.605\tUnc: 0.222\n",
      "\n",
      "\t[0.365] R230: avgrev < 38.174\n",
      "\t\t\t0: 0.173\t1: 0.595\tUnc: 0.231\n",
      "\n",
      "\t[0.357] R214: totrev < 1727.668\n",
      "\t\t\t0: 0.165\t1: 0.609\tUnc: 0.226\n",
      "\n",
      "\t[0.356] R218: adjrev < 1650.454\n",
      "\t\t\t0: 0.164\t1: 0.606\tUnc: 0.230\n",
      "\n",
      "\t[0.352] R215: 1727.668 < totrev < 3009.300\n",
      "\t\t\t0: 0.154\t1: 0.651\tUnc: 0.195\n",
      "\n",
      "\t[0.351] R219: 1650.454 < adjrev < 2912.426\n",
      "\t\t\t0: 0.153\t1: 0.650\tUnc: 0.197\n",
      "\n",
      "\t[0.351] R121: 1.352 < mou_rvce_Mean < 146.851\n",
      "\t\t\t0: 0.153\t1: 0.649\tUnc: 0.198\n",
      "\n",
      "\t[0.349] R9: 29.970 < totmrc_Mean < 51.264\n",
      "\t\t\t0: 0.151\t1: 0.655\tUnc: 0.194\n",
      "\n",
      "\t[0.348] R77: 0.622 < recv_vce_Mean < 73.522\n",
      "\t\t\t0: 0.151\t1: 0.653\tUnc: 0.196\n",
      "\n",
      "\t[0.346] R5: 137.502 < mou_Mean < 588.828\n",
      "\t\t\t0: 0.157\t1: 0.606\tUnc: 0.237\n",
      "\n",
      "\t[0.345] R105: -3.483 < inonemin_Mean < 37.737\n",
      "\t\t\t0: 0.149\t1: 0.651\tUnc: 0.201\n",
      "\n",
      "\t[0.344] R157: 6.597 < opk_vce_Mean < 54.994\n",
      "\t\t\t0: 0.146\t1: 0.662\tUnc: 0.192\n",
      "\n",
      "\t[0.343] R125: 0.634 < owylis_vce_Mean < 27.455\n",
      "\t\t\t0: 0.146\t1: 0.663\tUnc: 0.192\n",
      "\n",
      "\t[0.343] R129: -3.493 < mouowylisv_Mean < 29.542\n",
      "\t\t\t0: 0.147\t1: 0.653\tUnc: 0.200\n",
      "\n",
      "\t[0.341] R42: -2.522 < change_rev < 19.290\n",
      "\t\t\t0: 0.144\t1: 0.663\tUnc: 0.193\n",
      "\n",
      "\t[0.336] R189: -2.369 < callwait_Mean < 3.349\n",
      "\t\t\t0: 0.139\t1: 0.669\tUnc: 0.192\n",
      "\n",
      "\t[0.335] R133: -4.018 < iwylis_vce_Mean < 9.283\n",
      "\t\t\t0: 0.139\t1: 0.670\tUnc: 0.191\n",
      "\n",
      "\t[0.335] R53: -0.634 < blck_vce_Mean < 3.294\n",
      "\t\t\t0: 0.138\t1: 0.671\tUnc: 0.190\n",
      "\n",
      "\t[0.334] R193: 45.386 < months < 47.857\n",
      "\t\t\t0: 0.137\t1: 0.677\tUnc: 0.186\n",
      "\n",
      "\t[0.334] R137: -11.549 < mouiwylisv_Mean < 19.797\n",
      "\t\t\t0: 0.138\t1: 0.673\tUnc: 0.189\n",
      "\n",
      "\t[0.333] R297: forgntvl = 1.0\n",
      "\t\t\t0: 0.137\t1: 0.672\tUnc: 0.191\n",
      "\n",
      "\t[0.332] R294: 6.151 < income < 7.567\n",
      "\t\t\t0: 0.135\t1: 0.683\tUnc: 0.182\n",
      "\n",
      "\t[0.332] R165: 3.518 < mou_opkv_Mean < 119.374\n",
      "\t\t\t0: 0.141\t1: 0.640\tUnc: 0.219\n",
      "\n",
      "\t[0.326] R285: lor > 9.895\n",
      "\t\t\t0: 0.130\t1: 0.692\tUnc: 0.178\n",
      "\n",
      "\t[0.325] R101: -2.330 < cc_mou_Mean < 2.265\n",
      "\t\t\t0: 0.129\t1: 0.691\tUnc: 0.180\n",
      "\n",
      "\t[0.322] R13: -0.994 < da_Mean < 1.321\n",
      "\t\t\t0: 0.127\t1: 0.693\tUnc: 0.180\n",
      "\n",
      "\t[0.321] R197: 0.948 < uniqsubs < 1.553\n",
      "\t\t\t0: 0.124\t1: 0.705\tUnc: 0.171\n",
      "\n",
      "\t[0.319] R201: actvsubs = 1.0\n",
      "\t\t\t0: 0.122\t1: 0.711\tUnc: 0.167\n",
      "\n",
      "\t[0.319] R109: -0.305 < threeway_Mean < 0.175\n",
      "\t\t\t0: 0.124\t1: 0.699\tUnc: 0.177\n",
      "\n",
      "\t[0.311] R73: -5.336 < plcd_dat_Mean < 0.643\n",
      "\t\t\t0: 0.117\t1: 0.714\tUnc: 0.169\n",
      "\n",
      "\t[0.311] R34: 0.748 < roam_Mean < 2.980\n",
      "\t\t\t0: 0.111\t1: 0.764\tUnc: 0.125\n",
      "\n",
      "\t[0.310] R89: -4.741 < comp_dat_Mean < 0.565\n",
      "\t\t\t0: 0.115\t1: 0.717\tUnc: 0.168\n",
      "\n",
      "\t[0.305] R299: 280.188 < eqpdays < 600.208\n",
      "\t\t\t0: 0.109\t1: 0.747\tUnc: 0.144\n",
      "\n",
      "\t[0.293] R195: months > 50.329\n",
      "\t\t\t0: 0.100\t1: 0.753\tUnc: 0.147\n",
      "\n",
      "\t[0.255] R240: 243.738 < avgqty < 426.937\n",
      "\t\t\t0: 0.077\t1: 0.768\tUnc: 0.155\n",
      "\n",
      "\t[0.238] R36: change_mou < -211.081\n",
      "\t\t\t0: 0.064\t1: 0.825\tUnc: 0.111\n",
      "\n",
      "\t[0.235] R94: 0.864 < custcare_Mean < 2.540\n",
      "\t\t\t0: 0.068\t1: 0.745\tUnc: 0.187\n",
      "\n",
      "Most important rules for class 1\n",
      "\n",
      "\t[0.906] R204: actvsubs = 4.0\n",
      "\t\t\t0: 0.012\t1: 0.900\tUnc: 0.088\n",
      "\n",
      "\t[0.856] R36: change_mou < -211.081\n",
      "\t\t\t0: 0.064\t1: 0.825\tUnc: 0.111\n",
      "\n",
      "\t[0.818] R34: 0.748 < roam_Mean < 2.980\n",
      "\t\t\t0: 0.111\t1: 0.764\tUnc: 0.125\n",
      "\n",
      "\t[0.806] R240: 243.738 < avgqty < 426.937\n",
      "\t\t\t0: 0.077\t1: 0.768\tUnc: 0.155\n",
      "\n",
      "\t[0.801] R195: months > 50.329\n",
      "\t\t\t0: 0.100\t1: 0.753\tUnc: 0.147\n",
      "\n",
      "\t[0.800] R299: 280.188 < eqpdays < 600.208\n",
      "\t\t\t0: 0.109\t1: 0.747\tUnc: 0.144\n",
      "\n",
      "\t[0.778] R94: 0.864 < custcare_Mean < 2.540\n",
      "\t\t\t0: 0.068\t1: 0.745\tUnc: 0.187\n",
      "\n",
      "\t[0.772] R89: -4.741 < comp_dat_Mean < 0.565\n",
      "\t\t\t0: 0.115\t1: 0.717\tUnc: 0.168\n",
      "\n",
      "\t[0.770] R73: -5.336 < plcd_dat_Mean < 0.643\n",
      "\t\t\t0: 0.117\t1: 0.714\tUnc: 0.169\n",
      "\n",
      "\t[0.769] R201: actvsubs = 1.0\n",
      "\t\t\t0: 0.122\t1: 0.711\tUnc: 0.167\n",
      "\n",
      "\t[0.765] R197: 0.948 < uniqsubs < 1.553\n",
      "\t\t\t0: 0.124\t1: 0.705\tUnc: 0.171\n",
      "\n",
      "\t[0.759] R109: -0.305 < threeway_Mean < 0.175\n",
      "\t\t\t0: 0.124\t1: 0.699\tUnc: 0.177\n",
      "\n",
      "\t[0.754] R285: lor > 9.895\n",
      "\t\t\t0: 0.130\t1: 0.692\tUnc: 0.178\n",
      "\n",
      "\t[0.754] R13: -0.994 < da_Mean < 1.321\n",
      "\t\t\t0: 0.127\t1: 0.693\tUnc: 0.180\n",
      "\n",
      "\t[0.753] R101: -2.330 < cc_mou_Mean < 2.265\n",
      "\t\t\t0: 0.129\t1: 0.691\tUnc: 0.180\n",
      "\n",
      "\t[0.748] R294: 6.151 < income < 7.567\n",
      "\t\t\t0: 0.135\t1: 0.683\tUnc: 0.182\n",
      "\n",
      "\t[0.742] R193: 45.386 < months < 47.857\n",
      "\t\t\t0: 0.137\t1: 0.677\tUnc: 0.186\n",
      "\n",
      "\t[0.739] R137: -11.549 < mouiwylisv_Mean < 19.797\n",
      "\t\t\t0: 0.138\t1: 0.673\tUnc: 0.189\n",
      "\n",
      "\t[0.737] R297: forgntvl = 1.0\n",
      "\t\t\t0: 0.137\t1: 0.672\tUnc: 0.191\n",
      "\n",
      "\t[0.737] R53: -0.634 < blck_vce_Mean < 3.294\n",
      "\t\t\t0: 0.138\t1: 0.671\tUnc: 0.190\n",
      "\n",
      "\t[0.736] R133: -4.018 < iwylis_vce_Mean < 9.283\n",
      "\t\t\t0: 0.139\t1: 0.670\tUnc: 0.191\n",
      "\n",
      "\t[0.735] R189: -2.369 < callwait_Mean < 3.349\n",
      "\t\t\t0: 0.139\t1: 0.669\tUnc: 0.192\n",
      "\n",
      "\t[0.732] R125: 0.634 < owylis_vce_Mean < 27.455\n",
      "\t\t\t0: 0.146\t1: 0.663\tUnc: 0.192\n",
      "\n",
      "\t[0.731] R42: -2.522 < change_rev < 19.290\n",
      "\t\t\t0: 0.144\t1: 0.663\tUnc: 0.193\n",
      "\n",
      "\t[0.731] R157: 6.597 < opk_vce_Mean < 54.994\n",
      "\t\t\t0: 0.146\t1: 0.662\tUnc: 0.192\n",
      "\n",
      "\t[0.726] R9: 29.970 < totmrc_Mean < 51.264\n",
      "\t\t\t0: 0.151\t1: 0.655\tUnc: 0.194\n",
      "\n",
      "\t[0.725] R77: 0.622 < recv_vce_Mean < 73.522\n",
      "\t\t\t0: 0.151\t1: 0.653\tUnc: 0.196\n",
      "\n",
      "\t[0.724] R215: 1727.668 < totrev < 3009.300\n",
      "\t\t\t0: 0.154\t1: 0.651\tUnc: 0.195\n",
      "\n",
      "\t[0.723] R129: -3.493 < mouowylisv_Mean < 29.542\n",
      "\t\t\t0: 0.147\t1: 0.653\tUnc: 0.200\n",
      "\n",
      "\t[0.723] R219: 1650.454 < adjrev < 2912.426\n",
      "\t\t\t0: 0.153\t1: 0.650\tUnc: 0.197\n",
      "\n",
      "\t[0.721] R121: 1.352 < mou_rvce_Mean < 146.851\n",
      "\t\t\t0: 0.153\t1: 0.649\tUnc: 0.198\n",
      "\n",
      "\t[0.721] R105: -3.483 < inonemin_Mean < 37.737\n",
      "\t\t\t0: 0.149\t1: 0.651\tUnc: 0.201\n",
      "\n",
      "\t[0.707] R165: 3.518 < mou_opkv_Mean < 119.374\n",
      "\t\t\t0: 0.141\t1: 0.640\tUnc: 0.219\n",
      "\n",
      "\t[0.688] R124: owylis_vce_Mean < 0.634\n",
      "\t\t\t0: 0.180\t1: 0.603\tUnc: 0.216\n",
      "\n",
      "\t[0.686] R266: hnd_price < 40.243\n",
      "\t\t\t0: 0.173\t1: 0.605\tUnc: 0.222\n",
      "\n",
      "\t[0.686] R214: totrev < 1727.668\n",
      "\t\t\t0: 0.165\t1: 0.609\tUnc: 0.226\n",
      "\n",
      "\t[0.684] R290: adults = 5.0\n",
      "\t\t\t0: 0.176\t1: 0.602\tUnc: 0.222\n",
      "\n",
      "\t[0.684] R44: drop_vce_Mean < 0.196\n",
      "\t\t\t0: 0.192\t1: 0.594\tUnc: 0.214\n",
      "\n",
      "\t[0.683] R218: adjrev < 1650.454\n",
      "\t\t\t0: 0.164\t1: 0.606\tUnc: 0.230\n",
      "\n",
      "\t[0.680] R5: 137.502 < mou_Mean < 588.828\n",
      "\t\t\t0: 0.157\t1: 0.606\tUnc: 0.237\n",
      "\n",
      "\t[0.676] R230: avgrev < 38.174\n",
      "\t\t\t0: 0.173\t1: 0.595\tUnc: 0.231\n",
      "\n",
      "\t[0.674] R156: opk_vce_Mean < 6.597\n",
      "\t\t\t0: 0.193\t1: 0.584\tUnc: 0.223\n",
      "\n",
      "\t[0.673] R222: adjmou < 6836.606\n",
      "\t\t\t0: 0.196\t1: 0.583\tUnc: 0.222\n",
      "\n",
      "\t[0.673] R210: totmou < 6937.046\n",
      "\t\t\t0: 0.196\t1: 0.583\tUnc: 0.222\n",
      "\n",
      "\t[0.672] R60: unan_vce_Mean < 3.175\n",
      "\t\t\t0: 0.181\t1: 0.588\tUnc: 0.232\n",
      "\n",
      "\t[0.671] R120: mou_rvce_Mean < 1.352\n",
      "\t\t\t0: 0.184\t1: 0.585\tUnc: 0.230\n",
      "\n",
      "\t[0.670] R148: mou_peav_Mean < 32.236\n",
      "\t\t\t0: 0.182\t1: 0.586\tUnc: 0.232\n",
      "\n",
      "\t[0.670] R164: mou_opkv_Mean < 3.518\n",
      "\t\t\t0: 0.192\t1: 0.581\tUnc: 0.227\n",
      "\n",
      "\t[0.668] R112: mou_cvce_Mean < 49.825\n",
      "\t\t\t0: 0.188\t1: 0.580\tUnc: 0.232\n",
      "\n",
      "\t[0.668] R180: complete_Mean < 29.606\n",
      "\t\t\t0: 0.187\t1: 0.581\tUnc: 0.232\n",
      "\n",
      "\t[0.668] R84: comp_vce_Mean < 29.425\n",
      "\t\t\t0: 0.187\t1: 0.581\tUnc: 0.232\n",
      "\n",
      "\t[0.667] R140: peak_vce_Mean < 17.451\n",
      "\t\t\t0: 0.188\t1: 0.580\tUnc: 0.232\n",
      "\n",
      "\t[0.666] R234: avgmou < 169.913\n",
      "\t\t\t0: 0.194\t1: 0.576\tUnc: 0.230\n",
      "\n",
      "\t[0.663] R76: recv_vce_Mean < 0.622\n",
      "\t\t\t0: 0.192\t1: 0.574\tUnc: 0.234\n",
      "\n",
      "\t[0.661] R172: drop_blk_Mean < 1.292\n",
      "\t\t\t0: 0.184\t1: 0.575\tUnc: 0.241\n",
      "\n",
      "\t[0.661] R68: plcd_vce_Mean < 40.242\n",
      "\t\t\t0: 0.189\t1: 0.573\tUnc: 0.238\n",
      "\n",
      "\t[0.660] R262: avg6rev < 34.359\n",
      "\t\t\t0: 0.189\t1: 0.572\tUnc: 0.239\n",
      "\n",
      "\t[0.660] R0: rev_Mean < 32.278\n",
      "\t\t\t0: 0.191\t1: 0.571\tUnc: 0.238\n",
      "\n",
      "\t[0.659] R176: attempt_Mean < 40.457\n",
      "\t\t\t0: 0.190\t1: 0.571\tUnc: 0.239\n",
      "\n",
      "\t[0.656] R246: avg3qty < 48.036\n",
      "\t\t\t0: 0.195\t1: 0.566\tUnc: 0.239\n",
      "\n",
      "\t[0.654] R254: avg6mou < 154.438\n",
      "\t\t\t0: 0.202\t1: 0.560\tUnc: 0.237\n",
      "\n",
      "\t[0.653] R8: totmrc_Mean < 29.970\n",
      "\t\t\t0: 0.181\t1: 0.569\tUnc: 0.250\n",
      "\n",
      "\t[0.653] R4: mou_Mean < 137.502\n",
      "\t\t\t0: 0.194\t1: 0.563\tUnc: 0.243\n",
      "\n",
      "\t[0.652] R226: adjqty < 2330.029\n",
      "\t\t\t0: 0.226\t1: 0.549\tUnc: 0.225\n",
      "\n",
      "\t[0.651] R242: avg3mou < 139.821\n",
      "\t\t\t0: 0.200\t1: 0.558\tUnc: 0.242\n",
      "\n",
      "\t[0.649] R258: avg6qty < 53.300\n",
      "\t\t\t0: 0.210\t1: 0.553\tUnc: 0.237\n",
      "\n",
      "\t[0.648] R206: totcalls < 2375.753\n",
      "\t\t\t0: 0.228\t1: 0.544\tUnc: 0.228\n",
      "\n",
      "\t[0.645] R238: avgqty < 60.540\n",
      "\t\t\t0: 0.231\t1: 0.540\tUnc: 0.229\n",
      "\n",
      "\t[0.643] R250: avg3rev < 32.522\n",
      "\t\t\t0: 0.198\t1: 0.552\tUnc: 0.250\n",
      "\n",
      "\t[0.634] R274: models < 1.771\n",
      "\t\t\t0: 0.209\t1: 0.538\tUnc: 0.253\n",
      "\n",
      "\t[0.632] R270: phones < 1.947\n",
      "\t\t\t0: 0.209\t1: 0.536\tUnc: 0.255\n",
      "\n",
      "\t[0.620] R301: eqpdays > 920.229\n",
      "\t\t\t0: 0.213\t1: 0.522\tUnc: 0.264\n",
      "\n",
      "\t[0.439] R251: 32.522 < avg3rev < 67.945\n",
      "\t\t\t0: 0.553\t1: 0.242\tUnc: 0.205\n",
      "\n",
      "\t[0.436] R235: 169.913 < avgmou < 556.576\n",
      "\t\t\t0: 0.558\t1: 0.239\tUnc: 0.203\n",
      "\n",
      "\t[0.436] R177: 40.457 < attempt_Mean < 168.213\n",
      "\t\t\t0: 0.557\t1: 0.239\tUnc: 0.204\n",
      "\n",
      "\t[0.435] R69: 40.242 < plcd_vce_Mean < 167.570\n",
      "\t\t\t0: 0.561\t1: 0.237\tUnc: 0.202\n",
      "\n",
      "\t[0.434] R263: 34.359 < avg6rev < 68.306\n",
      "\t\t\t0: 0.565\t1: 0.235\tUnc: 0.200\n",
      "\n",
      "\t[0.433] R223: 6836.606 < adjmou < 25312.606\n",
      "\t\t\t0: 0.565\t1: 0.235\tUnc: 0.200\n",
      "\n",
      "\t[0.433] R211: 6937.046 < totmou < 25519.534\n",
      "\t\t\t0: 0.565\t1: 0.235\tUnc: 0.200\n",
      "\n",
      "\t[0.433] R1: 32.278 < rev_Mean < 67.108\n",
      "\t\t\t0: 0.570\t1: 0.233\tUnc: 0.197\n",
      "\n",
      "\t[0.433] R231: 38.174 < avgrev < 64.958\n",
      "\t\t\t0: 0.575\t1: 0.232\tUnc: 0.193\n",
      "\n",
      "\t[0.433] R247: 48.036 < avg3qty < 244.980\n",
      "\t\t\t0: 0.570\t1: 0.233\tUnc: 0.197\n",
      "\n",
      "\t[0.430] R149: 32.236 < mou_peav_Mean < 269.735\n",
      "\t\t\t0: 0.578\t1: 0.229\tUnc: 0.193\n",
      "\n",
      "\t[0.429] R61: 3.175 < unan_vce_Mean < 29.245\n",
      "\t\t\t0: 0.587\t1: 0.226\tUnc: 0.187\n",
      "\n",
      "\t[0.427] R173: 1.292 < drop_blk_Mean < 9.326\n",
      "\t\t\t0: 0.595\t1: 0.223\tUnc: 0.182\n",
      "\n",
      "\t[0.427] R113: 49.825 < mou_cvce_Mean < 242.332\n",
      "\t\t\t0: 0.580\t1: 0.226\tUnc: 0.194\n",
      "\n",
      "\t[0.426] R239: 60.540 < avgqty < 243.738\n",
      "\t\t\t0: 0.584\t1: 0.225\tUnc: 0.191\n",
      "\n",
      "\t[0.424] R227: 2330.029 < adjqty < 11115.883\n",
      "\t\t\t0: 0.593\t1: 0.221\tUnc: 0.187\n",
      "\n",
      "\t[0.423] R207: 2375.753 < totcalls < 11210.030\n",
      "\t\t\t0: 0.593\t1: 0.220\tUnc: 0.187\n",
      "\n",
      "\t[0.423] R85: 29.425 < comp_vce_Mean < 130.975\n",
      "\t\t\t0: 0.565\t1: 0.226\tUnc: 0.209\n",
      "\n",
      "\t[0.423] R45: 0.196 < drop_vce_Mean < 5.978\n",
      "\t\t\t0: 0.606\t1: 0.217\tUnc: 0.177\n",
      "\n",
      "\t[0.423] R181: 29.606 < complete_Mean < 131.540\n",
      "\t\t\t0: 0.567\t1: 0.225\tUnc: 0.208\n",
      "\n",
      "\t[0.417] R141: 17.451 < peak_vce_Mean < 139.827\n",
      "\t\t\t0: 0.577\t1: 0.219\tUnc: 0.205\n",
      "\n",
      "\t[0.414] R38: -36.540 < change_mou < 138.002\n",
      "\t\t\t0: 0.605\t1: 0.210\tUnc: 0.185\n",
      "\n",
      "\t[0.411] R243: 139.821 < avg3mou < 602.032\n",
      "\t\t\t0: 0.550\t1: 0.219\tUnc: 0.231\n",
      "\n",
      "\t[0.410] R271: 1.947 < phones < 3.870\n",
      "\t\t\t0: 0.600\t1: 0.208\tUnc: 0.192\n",
      "\n",
      "\t[0.408] R192: months < 45.386\n",
      "\t\t\t0: 0.602\t1: 0.206\tUnc: 0.192\n",
      "\n",
      "\t[0.407] R288: adults = 3.0\n",
      "\t\t\t0: 0.646\t1: 0.197\tUnc: 0.157\n",
      "\n",
      "\t[0.403] R93: -0.812 < custcare_Mean < 0.864\n",
      "\t\t\t0: 0.647\t1: 0.193\tUnc: 0.160\n",
      "\n",
      "\t[0.403] R97: -2.480 < ccrndmou_Mean < 2.718\n",
      "\t\t\t0: 0.642\t1: 0.194\tUnc: 0.164\n",
      "\n",
      "\t[0.402] R278: truck = 0.0\n",
      "\t\t\t0: 0.665\t1: 0.189\tUnc: 0.146\n",
      "\n",
      "\t[0.402] R17: -43.219 < ovrmou_Mean < 56.675\n",
      "\t\t\t0: 0.641\t1: 0.194\tUnc: 0.166\n",
      "\n",
      "\t[0.400] R21: -6.139 < ovrrev_Mean < 12.813\n",
      "\t\t\t0: 0.644\t1: 0.191\tUnc: 0.165\n",
      "\n",
      "\t[0.400] R25: -6.220 < vceovr_Mean < 12.668\n",
      "\t\t\t0: 0.644\t1: 0.191\tUnc: 0.164\n",
      "\n",
      "\t[0.398] R300: 600.208 < eqpdays < 920.229\n",
      "\t\t\t0: 0.661\t1: 0.187\tUnc: 0.152\n",
      "\n",
      "\t[0.398] R37: -211.081 < change_mou < -36.540\n",
      "\t\t\t0: 0.666\t1: 0.186\tUnc: 0.148\n",
      "\n",
      "\t[0.397] R295: income > 7.567\n",
      "\t\t\t0: 0.669\t1: 0.185\tUnc: 0.146\n",
      "\n",
      "\t[0.397] R10: 51.264 < totmrc_Mean < 72.558\n",
      "\t\t\t0: 0.674\t1: 0.184\tUnc: 0.143\n",
      "\n",
      "\t[0.395] R283: 3.583 < lor < 6.739\n",
      "\t\t\t0: 0.685\t1: 0.180\tUnc: 0.135\n",
      "\n",
      "\t[0.394] R282: lor < 3.583\n",
      "\t\t\t0: 0.683\t1: 0.180\tUnc: 0.137\n",
      "\n",
      "\t[0.394] R22: 12.813 < ovrrev_Mean < 31.765\n",
      "\t\t\t0: 0.670\t1: 0.182\tUnc: 0.148\n",
      "\n",
      "\t[0.392] R284: 6.739 < lor < 9.895\n",
      "\t\t\t0: 0.650\t1: 0.184\tUnc: 0.165\n",
      "\n",
      "\t[0.392] R289: adults = 4.0\n",
      "\t\t\t0: 0.656\t1: 0.183\tUnc: 0.161\n",
      "\n",
      "\t[0.392] R280: rv = 0.0\n",
      "\t\t\t0: 0.669\t1: 0.181\tUnc: 0.150\n",
      "\n",
      "\t[0.391] R29: -0.633 < datovr_Mean < 0.145\n",
      "\t\t\t0: 0.666\t1: 0.181\tUnc: 0.153\n",
      "\n",
      "\t[0.391] R169: -2.583 < mou_opkd_Mean < 0.398\n",
      "\t\t\t0: 0.667\t1: 0.180\tUnc: 0.153\n",
      "\n",
      "\t[0.391] R117: -7.094 < mou_cdat_Mean < 1.129\n",
      "\t\t\t0: 0.666\t1: 0.180\tUnc: 0.153\n",
      "\n",
      "\t[0.391] R26: 12.668 < vceovr_Mean < 31.556\n",
      "\t\t\t0: 0.677\t1: 0.178\tUnc: 0.144\n",
      "\n",
      "\t[0.391] R161: -0.923 < opk_dat_Mean < 0.152\n",
      "\t\t\t0: 0.667\t1: 0.180\tUnc: 0.153\n",
      "\n",
      "\t[0.390] R272: 3.870 < phones < 5.794\n",
      "\t\t\t0: 0.687\t1: 0.176\tUnc: 0.137\n",
      "\n",
      "\t[0.390] R153: -5.077 < mou_pead_Mean < 0.732\n",
      "\t\t\t0: 0.669\t1: 0.179\tUnc: 0.152\n",
      "\n",
      "\t[0.390] R145: -4.005 < peak_dat_Mean < 0.413\n",
      "\t\t\t0: 0.669\t1: 0.179\tUnc: 0.152\n",
      "\n",
      "\t[0.390] R276: 2.894 < models < 4.016\n",
      "\t\t\t0: 0.685\t1: 0.176\tUnc: 0.139\n",
      "\n",
      "\t[0.389] R65: -0.090 < unan_dat_Mean < 0.025\n",
      "\t\t\t0: 0.670\t1: 0.179\tUnc: 0.151\n",
      "\n",
      "\t[0.389] R33: -1.483 < roam_Mean < 0.748\n",
      "\t\t\t0: 0.663\t1: 0.180\tUnc: 0.158\n",
      "\n",
      "\t[0.389] R81: -0.200 < recv_sms_Mean < 0.027\n",
      "\t\t\t0: 0.671\t1: 0.178\tUnc: 0.151\n",
      "\n",
      "\t[0.389] R49: -0.632 < drop_dat_Mean < 0.050\n",
      "\t\t\t0: 0.672\t1: 0.178\tUnc: 0.151\n",
      "\n",
      "\t[0.388] R56: blck_dat_Mean = 0.0\n",
      "\t\t\t0: 0.673\t1: 0.177\tUnc: 0.150\n",
      "\n",
      "\t[0.388] R185: -0.084 < callfwdv_Mean < 0.011\n",
      "\t\t\t0: 0.674\t1: 0.177\tUnc: 0.149\n",
      "\n",
      "\t[0.385] R296: forgntvl = 0.0\n",
      "\t\t\t0: 0.672\t1: 0.175\tUnc: 0.153\n",
      "\n",
      "\t[0.382] R110: 0.175 < threeway_Mean < 0.654\n",
      "\t\t\t0: 0.710\t1: 0.167\tUnc: 0.124\n",
      "\n",
      "\t[0.381] R286: adults = 1.0\n",
      "\t\t\t0: 0.706\t1: 0.166\tUnc: 0.128\n",
      "\n",
      "\t[0.378] R194: 47.857 < months < 50.329\n",
      "\t\t\t0: 0.677\t1: 0.169\tUnc: 0.154\n",
      "\n",
      "\t[0.370] R291: adults = 6.0\n",
      "\t\t\t0: 0.718\t1: 0.157\tUnc: 0.125\n",
      "\n",
      "\t[0.368] R281: rv = 1.0\n",
      "\t\t\t0: 0.707\t1: 0.157\tUnc: 0.136\n",
      "\n",
      "\t[0.363] R216: 3009.300 < totrev < 4290.932\n",
      "\t\t\t0: 0.734\t1: 0.149\tUnc: 0.117\n",
      "\n",
      "\t[0.361] R220: 2912.426 < adjrev < 4174.398\n",
      "\t\t\t0: 0.738\t1: 0.147\tUnc: 0.114\n",
      "\n",
      "\t[0.359] R62: 29.245 < unan_vce_Mean < 55.316\n",
      "\t\t\t0: 0.734\t1: 0.146\tUnc: 0.120\n",
      "\n",
      "\t[0.359] R255: 154.438 < avg6mou < 607.368\n",
      "\t\t\t0: 0.549\t1: 0.177\tUnc: 0.274\n",
      "\n",
      "\t[0.354] R293: 4.735 < income < 6.151\n",
      "\t\t\t0: 0.661\t1: 0.154\tUnc: 0.185\n",
      "\n",
      "\t[0.347] R232: 64.958 < avgrev < 91.743\n",
      "\t\t\t0: 0.735\t1: 0.138\tUnc: 0.127\n",
      "\n",
      "\t[0.346] R264: 68.306 < avg6rev < 102.254\n",
      "\t\t\t0: 0.765\t1: 0.133\tUnc: 0.102\n",
      "\n",
      "\t[0.345] R14: 1.321 < da_Mean < 3.637\n",
      "\t\t\t0: 0.772\t1: 0.132\tUnc: 0.097\n",
      "\n",
      "\t[0.343] R279: truck = 1.0\n",
      "\t\t\t0: 0.696\t1: 0.141\tUnc: 0.163\n",
      "\n",
      "\t[0.342] R70: 167.570 < plcd_vce_Mean < 294.898\n",
      "\t\t\t0: 0.722\t1: 0.136\tUnc: 0.142\n",
      "\n",
      "\t[0.341] R158: 54.994 < opk_vce_Mean < 103.391\n",
      "\t\t\t0: 0.692\t1: 0.140\tUnc: 0.168\n",
      "\n",
      "\t[0.340] R178: 168.213 < attempt_Mean < 295.969\n",
      "\t\t\t0: 0.721\t1: 0.135\tUnc: 0.144\n",
      "\n",
      "\t[0.339] R203: actvsubs = 3.0\n",
      "\t\t\t0: 0.790\t1: 0.126\tUnc: 0.084\n",
      "\n",
      "\t[0.339] R259: 53.300 < avg6qty < 249.287\n",
      "\t\t\t0: 0.573\t1: 0.157\tUnc: 0.270\n",
      "\n",
      "\t[0.338] R18: 56.675 < ovrmou_Mean < 156.568\n",
      "\t\t\t0: 0.690\t1: 0.138\tUnc: 0.171\n",
      "\n",
      "\t[0.336] R46: 5.978 < drop_vce_Mean < 11.760\n",
      "\t\t\t0: 0.740\t1: 0.130\tUnc: 0.130\n",
      "\n",
      "\t[0.336] R199: uniqsubs > 2.158\n",
      "\t\t\t0: 0.793\t1: 0.123\tUnc: 0.084\n",
      "\n",
      "\t[0.334] R134: 9.283 < iwylis_vce_Mean < 22.584\n",
      "\t\t\t0: 0.700\t1: 0.134\tUnc: 0.166\n",
      "\n",
      "\t[0.334] R114: 242.332 < mou_cvce_Mean < 434.840\n",
      "\t\t\t0: 0.686\t1: 0.136\tUnc: 0.178\n",
      "\n",
      "\t[0.333] R200: actvsubs = 0.0\n",
      "\t\t\t0: 0.641\t1: 0.142\tUnc: 0.217\n",
      "\n",
      "\t[0.333] R182: 131.540 < complete_Mean < 233.474\n",
      "\t\t\t0: 0.725\t1: 0.130\tUnc: 0.146\n",
      "\n",
      "\t[0.332] R275: 1.771 < models < 2.894\n",
      "\t\t\t0: 0.602\t1: 0.147\tUnc: 0.251\n",
      "\n",
      "\t[0.331] R86: 130.975 < comp_vce_Mean < 232.525\n",
      "\t\t\t0: 0.729\t1: 0.128\tUnc: 0.144\n",
      "\n",
      "\t[0.330] R35: roam_Mean > 2.980\n",
      "\t\t\t0: 0.773\t1: 0.121\tUnc: 0.105\n",
      "\n",
      "\t[0.329] R187: callfwdv_Mean > 0.107\n",
      "\t\t\t0: 0.736\t1: 0.126\tUnc: 0.138\n",
      "\n",
      "\t[0.326] R111: threeway_Mean > 0.654\n",
      "\t\t\t0: 0.809\t1: 0.115\tUnc: 0.076\n",
      "\n",
      "\t[0.324] R166: 119.374 < mou_opkv_Mean < 235.230\n",
      "\t\t\t0: 0.740\t1: 0.122\tUnc: 0.138\n",
      "\n",
      "\t[0.322] R142: 139.827 < peak_vce_Mean < 262.204\n",
      "\t\t\t0: 0.741\t1: 0.121\tUnc: 0.138\n",
      "\n",
      "\t[0.319] R150: 269.735 < mou_peav_Mean < 507.234\n",
      "\t\t\t0: 0.726\t1: 0.120\tUnc: 0.154\n",
      "\n",
      "\t[0.319] R174: 9.326 < drop_blk_Mean < 17.359\n",
      "\t\t\t0: 0.730\t1: 0.120\tUnc: 0.150\n",
      "\n",
      "\t[0.317] R208: 11210.030 < totcalls < 20044.306\n",
      "\t\t\t0: 0.776\t1: 0.113\tUnc: 0.110\n",
      "\n",
      "\t[0.316] R2: 67.108 < rev_Mean < 101.937\n",
      "\t\t\t0: 0.745\t1: 0.116\tUnc: 0.139\n",
      "\n",
      "\t[0.316] R228: 11115.883 < adjqty < 19901.738\n",
      "\t\t\t0: 0.779\t1: 0.112\tUnc: 0.109\n",
      "\n",
      "\t[0.316] R51: drop_dat_Mean > 0.732\n",
      "\t\t\t0: 0.775\t1: 0.113\tUnc: 0.113\n",
      "\n",
      "\t[0.316] R260: 249.287 < avg6qty < 445.274\n",
      "\t\t\t0: 0.725\t1: 0.118\tUnc: 0.157\n",
      "\n",
      "\t[0.315] R40: change_rev < -24.334\n",
      "\t\t\t0: 0.828\t1: 0.106\tUnc: 0.066\n",
      "\n",
      "\t[0.312] R6: 588.828 < mou_Mean < 1040.153\n",
      "\t\t\t0: 0.725\t1: 0.116\tUnc: 0.159\n",
      "\n",
      "\t[0.312] R54: 3.294 < blck_vce_Mean < 7.222\n",
      "\t\t\t0: 0.693\t1: 0.120\tUnc: 0.187\n",
      "\n",
      "\t[0.312] R130: 29.542 < mouowylisv_Mean < 62.577\n",
      "\t\t\t0: 0.762\t1: 0.111\tUnc: 0.127\n",
      "\n",
      "\t[0.311] R78: 73.522 < recv_vce_Mean < 146.422\n",
      "\t\t\t0: 0.762\t1: 0.111\tUnc: 0.127\n",
      "\n",
      "\t[0.310] R126: 27.455 < owylis_vce_Mean < 54.276\n",
      "\t\t\t0: 0.761\t1: 0.110\tUnc: 0.129\n",
      "\n",
      "\t[0.308] R122: 146.851 < mou_rvce_Mean < 292.351\n",
      "\t\t\t0: 0.750\t1: 0.110\tUnc: 0.139\n",
      "\n",
      "\t[0.307] R244: 602.032 < avg3mou < 1064.244\n",
      "\t\t\t0: 0.736\t1: 0.111\tUnc: 0.153\n",
      "\n",
      "\t[0.306] R248: 244.980 < avg3qty < 441.924\n",
      "\t\t\t0: 0.754\t1: 0.108\tUnc: 0.137\n",
      "\n",
      "\t[0.305] R236: 556.576 < avgmou < 943.238\n",
      "\t\t\t0: 0.771\t1: 0.106\tUnc: 0.123\n",
      "\n",
      "\t[0.302] R277: models > 4.016\n",
      "\t\t\t0: 0.835\t1: 0.098\tUnc: 0.067\n",
      "\n",
      "\t[0.301] R138: 19.797 < mouiwylisv_Mean < 51.143\n",
      "\t\t\t0: 0.747\t1: 0.106\tUnc: 0.147\n",
      "\n",
      "\t[0.297] R202: actvsubs = 2.0\n",
      "\t\t\t0: 0.645\t1: 0.116\tUnc: 0.239\n",
      "\n",
      "\t[0.296] R267: 40.243 < hnd_price < 85.934\n",
      "\t\t\t0: 0.653\t1: 0.114\tUnc: 0.233\n",
      "\n",
      "\t[0.295] R224: 25312.606 < adjmou < 43788.607\n",
      "\t\t\t0: 0.786\t1: 0.098\tUnc: 0.115\n",
      "\n",
      "\t[0.295] R256: 607.368 < avg6mou < 1060.297\n",
      "\t\t\t0: 0.757\t1: 0.101\tUnc: 0.142\n",
      "\n",
      "\t[0.293] R212: 25519.534 < totmou < 44102.022\n",
      "\t\t\t0: 0.789\t1: 0.097\tUnc: 0.114\n",
      "\n",
      "\t[0.291] R269: hnd_price > 131.625\n",
      "\t\t\t0: 0.702\t1: 0.105\tUnc: 0.193\n",
      "\n",
      "\t[0.290] R287: adults = 2.0\n",
      "\t\t\t0: 0.658\t1: 0.109\tUnc: 0.233\n",
      "\n",
      "\t[0.288] R252: 67.945 < avg3rev < 103.369\n",
      "\t\t\t0: 0.740\t1: 0.099\tUnc: 0.162\n",
      "\n",
      "\t[0.286] R41: -24.334 < change_rev < -2.522\n",
      "\t\t\t0: 0.665\t1: 0.106\tUnc: 0.228\n",
      "\n",
      "\t[0.286] R154: 0.732 < mou_pead_Mean < 6.541\n",
      "\t\t\t0: 0.767\t1: 0.095\tUnc: 0.138\n",
      "\n",
      "\t[0.284] R198: 1.553 < uniqsubs < 2.158\n",
      "\t\t\t0: 0.670\t1: 0.104\tUnc: 0.225\n",
      "\n",
      "\t[0.280] R146: 0.413 < peak_dat_Mean < 4.832\n",
      "\t\t\t0: 0.775\t1: 0.090\tUnc: 0.134\n",
      "\n",
      "\t[0.279] R106: 37.737 < inonemin_Mean < 78.958\n",
      "\t\t\t0: 0.781\t1: 0.089\tUnc: 0.129\n",
      "\n",
      "\t[0.279] R292: income < 4.735\n",
      "\t\t\t0: 0.680\t1: 0.100\tUnc: 0.220\n",
      "\n",
      "\t[0.278] R298: eqpdays < 280.188\n",
      "\t\t\t0: 0.712\t1: 0.096\tUnc: 0.192\n",
      "\n",
      "\t[0.275] R15: da_Mean > 3.637\n",
      "\t\t\t0: 0.837\t1: 0.082\tUnc: 0.080\n",
      "\n",
      "\t[0.274] R268: 85.934 < hnd_price < 131.625\n",
      "\t\t\t0: 0.699\t1: 0.095\tUnc: 0.207\n",
      "\n",
      "\t[0.273] R171: mou_opkd_Mean > 3.378\n",
      "\t\t\t0: 0.838\t1: 0.081\tUnc: 0.081\n",
      "\n",
      "\t[0.267] R90: 0.565 < comp_dat_Mean < 5.871\n",
      "\t\t\t0: 0.792\t1: 0.082\tUnc: 0.126\n",
      "\n",
      "\t[0.261] R103: cc_mou_Mean > 6.860\n",
      "\t\t\t0: 0.885\t1: 0.071\tUnc: 0.044\n",
      "\n",
      "\t[0.260] R99: ccrndmou_Mean > 7.916\n",
      "\t\t\t0: 0.884\t1: 0.071\tUnc: 0.045\n",
      "\n",
      "\t[0.252] R162: 0.152 < opk_dat_Mean < 1.226\n",
      "\t\t\t0: 0.776\t1: 0.075\tUnc: 0.149\n",
      "\n",
      "\t[0.251] R55: blck_vce_Mean > 7.222\n",
      "\t\t\t0: 0.856\t1: 0.068\tUnc: 0.075\n",
      "\n",
      "\t[0.251] R95: custcare_Mean > 2.540\n",
      "\t\t\t0: 0.850\t1: 0.068\tUnc: 0.082\n",
      "\n",
      "\t[0.247] R30: 0.145 < datovr_Mean < 0.923\n",
      "\t\t\t0: 0.781\t1: 0.072\tUnc: 0.147\n",
      "\n",
      "\t[0.244] R98: 2.718 < ccrndmou_Mean < 7.916\n",
      "\t\t\t0: 0.741\t1: 0.073\tUnc: 0.186\n",
      "\n",
      "\t[0.243] R119: mou_cdat_Mean > 9.352\n",
      "\t\t\t0: 0.874\t1: 0.063\tUnc: 0.063\n",
      "\n",
      "\t[0.238] R190: 3.349 < callwait_Mean < 9.068\n",
      "\t\t\t0: 0.878\t1: 0.061\tUnc: 0.061\n",
      "\n",
      "\t[0.229] R50: 0.050 < drop_dat_Mean < 0.732\n",
      "\t\t\t0: 0.851\t1: 0.058\tUnc: 0.091\n",
      "\n",
      "\t[0.229] R27: vceovr_Mean > 31.556\n",
      "\t\t\t0: 0.866\t1: 0.057\tUnc: 0.077\n",
      "\n",
      "\t[0.225] R11: totmrc_Mean > 72.558\n",
      "\t\t\t0: 0.870\t1: 0.055\tUnc: 0.075\n",
      "\n",
      "\t[0.225] R102: 2.265 < cc_mou_Mean < 6.860\n",
      "\t\t\t0: 0.759\t1: 0.061\tUnc: 0.179\n",
      "\n",
      "\t[0.223] R23: ovrrev_Mean > 31.765\n",
      "\t\t\t0: 0.873\t1: 0.054\tUnc: 0.074\n",
      "\n",
      "\t[0.222] R167: mou_opkv_Mean > 235.230\n",
      "\t\t\t0: 0.876\t1: 0.053\tUnc: 0.071\n",
      "\n",
      "\t[0.220] R31: datovr_Mean > 0.923\n",
      "\t\t\t0: 0.868\t1: 0.052\tUnc: 0.079\n",
      "\n",
      "\t[0.219] R163: opk_dat_Mean > 1.226\n",
      "\t\t\t0: 0.893\t1: 0.051\tUnc: 0.056\n",
      "\n",
      "\t[0.213] R74: 0.643 < plcd_dat_Mean < 6.622\n",
      "\t\t\t0: 0.826\t1: 0.052\tUnc: 0.122\n",
      "\n",
      "\t[0.211] R39: change_mou > 138.002\n",
      "\t\t\t0: 0.825\t1: 0.051\tUnc: 0.124\n",
      "\n",
      "\t[0.208] R67: unan_dat_Mean > 0.139\n",
      "\t\t\t0: 0.797\t1: 0.051\tUnc: 0.152\n"
     ]
    },
    {
     "name": "stderr",
     "output_type": "stream",
     "text": [
      "24-04-27 20:03:26 [INFO] Step 6: Inference done\n",
      "24-04-27 20:03:26 [DEBUG] Training Time: 4.52s\n",
      "24-04-27 20:03:26 [DEBUG] Epochs: 9\n",
      "24-04-27 20:03:26 [DEBUG] Min Loss: 0.352\n",
      "24-04-27 20:03:26 [DEBUG] Loaded backend module://matplotlib_inline.backend_inline version unknown.\n",
      "24-04-27 20:03:26 [DEBUG] Loaded backend module://matplotlib_inline.backend_inline version unknown.\n"
     ]
    },
    {
     "data": {
      "image/png": "[encoded data removed]",
      "text/plain": [
       "<Figure size 640x480 with 1 Axes>"
      ]
     },
     "metadata": {},
     "output_type": "display_data"
    },
    {
     "name": "stderr",
     "output_type": "stream",
     "text": [
      "24-04-27 20:03:26 [DEBUG] Accuracy:  0.57\n",
      "24-04-27 20:03:26 [DEBUG] F1 Score: 0.37\n",
      "24-04-27 20:03:26 [DEBUG] Confusion Matrix: \n",
      "[[204  42]\n",
      " [159  58]]\n",
      "24-04-27 20:03:26 [INFO] ------------------------------\n",
      "24-04-27 20:03:26 [INFO] Step 5: Run DST (dataset=Telecom_customer churn, clust=dbscan breaks=3, add_mult_rules=False, maf_method=random)\n",
      "24-04-27 20:03:26 [DEBUG] \tModel init done\n"
     ]
    },
    {
     "name": "stdout",
     "output_type": "stream",
     "text": [
      "Optimization started\n",
      "Processing epoch\t127\t0.1849\t"
     ]
    },
    {
     "name": "stderr",
     "output_type": "stream",
     "text": [
      "24-04-27 20:04:28 [DEBUG] \tModel fit done\n"
     ]
    },
    {
     "name": "stdout",
     "output_type": "stream",
     "text": [
      "\n",
      "Training time: 61.70s, epochs: 127\n",
      "\n",
      "Least training loss reached: 0.185\n",
      "DSModelMultiQ(\n",
      "  DS Classifier using 302 rules\n",
      "  \n",
      "  Rule 1: rev_Mean < 32.278\n",
      "  \tC1: 0.139\tC2: 0.045\tUnc: 0.816\n",
      "  \n",
      "  Rule 2: 32.278 < rev_Mean < 67.108\n",
      "  \tC1: 0.056\tC2: 0.138\tUnc: 0.806\n",
      "  \n",
      "  Rule 3: 67.108 < rev_Mean < 101.937\n",
      "  \tC1: 0.171\tC2: 0.020\tUnc: 0.809\n",
      "  \n",
      "  Rule 4: rev_Mean > 101.937\n",
      "  \tC1: 0.000\tC2: 0.234\tUnc: 0.766\n",
      "  \n",
      "  Rule 5: mou_Mean < 137.502\n",
      "  \tC1: 0.000\tC2: 0.210\tUnc: 0.790\n",
      "  \n",
      "  Rule 6: 137.502 < mou_Mean < 588.828\n",
      "  \tC1: 0.000\tC2: 0.235\tUnc: 0.765\n",
      "  \n",
      "  Rule 7: 588.828 < mou_Mean < 1040.153\n",
      "  \tC1: 0.380\tC2: 0.000\tUnc: 0.620\n",
      "  \n",
      "  Rule 8: mou_Mean > 1040.153\n",
      "  \tC1: 0.361\tC2: 0.000\tUnc: 0.639\n",
      "  \n",
      "  Rule 9: totmrc_Mean < 29.970\n",
      "  \tC1: 0.000\tC2: 0.271\tUnc: 0.729\n",
      "  \n",
      "  Rule 10: 29.970 < totmrc_Mean < 51.264\n",
      "  \tC1: 0.014\tC2: 0.179\tUnc: 0.807\n",
      "  \n",
      "  Rule 11: 51.264 < totmrc_Mean < 72.558\n",
      "  \tC1: 0.025\tC2: 0.159\tUnc: 0.816\n",
      "  \n",
      "  Rule 12: totmrc_Mean > 72.558\n",
      "  \tC1: 0.340\tC2: 0.000\tUnc: 0.660\n",
      "  \n",
      "  Rule 13: da_Mean < -0.994\n",
      "  \tC1: 0.077\tC2: 0.123\tUnc: 0.800\n",
      "  \n",
      "  Rule 14: -0.994 < da_Mean < 1.321\n",
      "  \tC1: 0.118\tC2: 0.078\tUnc: 0.805\n",
      "  \n",
      "  Rule 15: 1.321 < da_Mean < 3.637\n",
      "  \tC1: 0.000\tC2: 0.209\tUnc: 0.791\n",
      "  \n",
      "  Rule 16: da_Mean > 3.637\n",
      "  \tC1: 0.265\tC2: 0.000\tUnc: 0.735\n",
      "  \n",
      "  Rule 17: ovrmou_Mean < -43.219\n",
      "  \tC1: 0.049\tC2: 0.151\tUnc: 0.800\n",
      "  \n",
      "  Rule 18: -43.219 < ovrmou_Mean < 56.675\n",
      "  \tC1: 0.167\tC2: 0.030\tUnc: 0.803\n",
      "  \n",
      "  Rule 19: 56.675 < ovrmou_Mean < 156.568\n",
      "  \tC1: 0.140\tC2: 0.046\tUnc: 0.813\n",
      "  \n",
      "  Rule 20: ovrmou_Mean > 156.568\n",
      "  \tC1: 0.017\tC2: 0.172\tUnc: 0.811\n",
      "  \n",
      "  Rule 21: ovrrev_Mean < -6.139\n",
      "  \tC1: 0.066\tC2: 0.134\tUnc: 0.800\n",
      "  \n",
      "  Rule 22: -6.139 < ovrrev_Mean < 12.813\n",
      "  \tC1: 0.116\tC2: 0.080\tUnc: 0.805\n",
      "  \n",
      "  Rule 23: 12.813 < ovrrev_Mean < 31.765\n",
      "  \tC1: 0.159\tC2: 0.029\tUnc: 0.812\n",
      "  \n",
      "  Rule 24: ovrrev_Mean > 31.765\n",
      "  \tC1: 0.016\tC2: 0.165\tUnc: 0.819\n",
      "  \n",
      "  Rule 25: vceovr_Mean < -6.220\n",
      "  \tC1: 0.136\tC2: 0.064\tUnc: 0.800\n",
      "  \n",
      "  Rule 26: -6.220 < vceovr_Mean < 12.668\n",
      "  \tC1: 0.135\tC2: 0.062\tUnc: 0.803\n",
      "  \n",
      "  Rule 27: 12.668 < vceovr_Mean < 31.556\n",
      "  \tC1: 0.108\tC2: 0.081\tUnc: 0.810\n",
      "  \n",
      "  Rule 28: vceovr_Mean > 31.556\n",
      "  \tC1: 0.082\tC2: 0.101\tUnc: 0.817\n",
      "  \n",
      "  Rule 29: datovr_Mean < -0.633\n",
      "  \tC1: 0.033\tC2: 0.167\tUnc: 0.800\n",
      "  \n",
      "  Rule 30: -0.633 < datovr_Mean < 0.145\n",
      "  \tC1: 0.073\tC2: 0.122\tUnc: 0.805\n",
      "  \n",
      "  Rule 31: 0.145 < datovr_Mean < 0.923\n",
      "  \tC1: 0.000\tC2: 0.215\tUnc: 0.785\n",
      "  \n",
      "  Rule 32: datovr_Mean > 0.923\n",
      "  \tC1: 0.000\tC2: 0.216\tUnc: 0.784\n",
      "  \n",
      "  Rule 33: roam_Mean < -1.483\n",
      "  \tC1: 0.172\tC2: 0.028\tUnc: 0.800\n",
      "  \n",
      "  Rule 34: -1.483 < roam_Mean < 0.748\n",
      "  \tC1: 0.116\tC2: 0.074\tUnc: 0.809\n",
      "  \n",
      "  Rule 35: 0.748 < roam_Mean < 2.980\n",
      "  \tC1: 0.000\tC2: 0.379\tUnc: 0.621\n",
      "  \n",
      "  Rule 36: roam_Mean > 2.980\n",
      "  \tC1: 0.093\tC2: 0.093\tUnc: 0.814\n",
      "  \n",
      "  Rule 37: change_mou < -211.081\n",
      "  \tC1: 0.000\tC2: 0.474\tUnc: 0.526\n",
      "  \n",
      "  Rule 38: -211.081 < change_mou < -36.540\n",
      "  \tC1: 0.126\tC2: 0.058\tUnc: 0.816\n",
      "  \n",
      "  Rule 39: -36.540 < change_mou < 138.002\n",
      "  \tC1: 0.281\tC2: 0.000\tUnc: 0.719\n",
      "  \n",
      "  Rule 40: change_mou > 138.002\n",
      "  \tC1: 0.237\tC2: 0.000\tUnc: 0.763\n",
      "  \n",
      "  Rule 41: change_rev < -24.334\n",
      "  \tC1: 0.104\tC2: 0.083\tUnc: 0.813\n",
      "  \n",
      "  Rule 42: -24.334 < change_rev < -2.522\n",
      "  \tC1: 0.031\tC2: 0.166\tUnc: 0.803\n",
      "  \n",
      "  Rule 43: -2.522 < change_rev < 19.290\n",
      "  \tC1: 0.060\tC2: 0.134\tUnc: 0.807\n",
      "  \n",
      "  Rule 44: change_rev > 19.290\n",
      "  \tC1: 0.038\tC2: 0.142\tUnc: 0.820\n",
      "  \n",
      "  Rule 45: drop_vce_Mean < 0.196\n",
      "  \tC1: 0.275\tC2: 0.000\tUnc: 0.725\n",
      "  \n",
      "  Rule 46: 0.196 < drop_vce_Mean < 5.978\n",
      "  \tC1: 0.119\tC2: 0.074\tUnc: 0.807\n",
      "  \n",
      "  Rule 47: 5.978 < drop_vce_Mean < 11.760\n",
      "  \tC1: 0.000\tC2: 0.223\tUnc: 0.777\n",
      "  \n",
      "  Rule 48: drop_vce_Mean > 11.760\n",
      "  \tC1: 0.000\tC2: 0.354\tUnc: 0.646\n",
      "  \n",
      "  Rule 49: drop_dat_Mean < -0.632\n",
      "  \tC1: 0.113\tC2: 0.087\tUnc: 0.800\n",
      "  \n",
      "  Rule 50: -0.632 < drop_dat_Mean < 0.050\n",
      "  \tC1: 0.053\tC2: 0.143\tUnc: 0.804\n",
      "  \n",
      "  Rule 51: 0.050 < drop_dat_Mean < 0.732\n",
      "  \tC1: 0.000\tC2: 0.213\tUnc: 0.787\n",
      "  \n",
      "  Rule 52: drop_dat_Mean > 0.732\n",
      "  \tC1: 0.013\tC2: 0.173\tUnc: 0.814\n",
      "  \n",
      "  Rule 53: blck_vce_Mean < -0.634\n",
      "  \tC1: 0.173\tC2: 0.027\tUnc: 0.800\n",
      "  \n",
      "  Rule 54: -0.634 < blck_vce_Mean < 3.294\n",
      "  \tC1: 0.130\tC2: 0.067\tUnc: 0.803\n",
      "  \n",
      "  Rule 55: 3.294 < blck_vce_Mean < 7.222\n",
      "  \tC1: 0.050\tC2: 0.136\tUnc: 0.815\n",
      "  \n",
      "  Rule 56: blck_vce_Mean > 7.222\n",
      "  \tC1: 0.114\tC2: 0.070\tUnc: 0.816\n",
      "  \n",
      "  Rule 57: blck_dat_Mean = 0.0\n",
      "  \tC1: 0.084\tC2: 0.109\tUnc: 0.807\n",
      "  \n",
      "  Rule 58: blck_dat_Mean = 0.333333333\n",
      "  \tC1: 0.076\tC2: 0.124\tUnc: 0.800\n",
      "  \n",
      "  Rule 59: blck_dat_Mean = 1.0\n",
      "  \tC1: 0.610\tC2: 0.000\tUnc: 0.390\n",
      "  \n",
      "  Rule 60: blck_dat_Mean = 1.333333333\n",
      "  \tC1: 0.139\tC2: 0.061\tUnc: 0.800\n",
      "  \n",
      "  Rule 61: unan_vce_Mean < 3.175\n",
      "  \tC1: 0.177\tC2: 0.004\tUnc: 0.819\n",
      "  \n",
      "  Rule 62: 3.175 < unan_vce_Mean < 29.245\n",
      "  \tC1: 0.077\tC2: 0.116\tUnc: 0.807\n",
      "  \n",
      "  Rule 63: 29.245 < unan_vce_Mean < 55.316\n",
      "  \tC1: 0.066\tC2: 0.115\tUnc: 0.818\n",
      "  \n",
      "  Rule 64: unan_vce_Mean > 55.316\n",
      "  \tC1: 0.130\tC2: 0.062\tUnc: 0.807\n",
      "  \n",
      "  Rule 65: unan_dat_Mean < -0.090\n",
      "  \tC1: 0.059\tC2: 0.141\tUnc: 0.800\n",
      "  \n",
      "  Rule 66: -0.090 < unan_dat_Mean < 0.025\n",
      "  \tC1: 0.042\tC2: 0.155\tUnc: 0.803\n",
      "  \n",
      "  Rule 67: 0.025 < unan_dat_Mean < 0.139\n",
      "  \tC1: 0.116\tC2: 0.084\tUnc: 0.800\n",
      "  \n",
      "  Rule 68: unan_dat_Mean > 0.139\n",
      "  \tC1: 0.184\tC2: 0.047\tUnc: 0.769\n",
      "  \n",
      "  Rule 69: plcd_vce_Mean < 40.242\n",
      "  \tC1: 0.000\tC2: 0.197\tUnc: 0.803\n",
      "  \n",
      "  Rule 70: 40.242 < plcd_vce_Mean < 167.570\n",
      "  \tC1: 0.044\tC2: 0.148\tUnc: 0.808\n",
      "  \n",
      "  Rule 71: 167.570 < plcd_vce_Mean < 294.898\n",
      "  \tC1: 0.200\tC2: 0.000\tUnc: 0.800\n",
      "  \n",
      "  Rule 72: plcd_vce_Mean > 294.898\n",
      "  \tC1: 0.106\tC2: 0.081\tUnc: 0.813\n",
      "  \n",
      "  Rule 73: plcd_dat_Mean < -5.336\n",
      "  \tC1: 0.015\tC2: 0.185\tUnc: 0.800\n",
      "  \n",
      "  Rule 74: -5.336 < plcd_dat_Mean < 0.643\n",
      "  \tC1: 0.038\tC2: 0.159\tUnc: 0.802\n",
      "  \n",
      "  Rule 75: 0.643 < plcd_dat_Mean < 6.622\n",
      "  \tC1: 0.347\tC2: 0.000\tUnc: 0.653\n",
      "  \n",
      "  Rule 76: plcd_dat_Mean > 6.622\n",
      "  \tC1: 0.000\tC2: 0.380\tUnc: 0.620\n",
      "  \n",
      "  Rule 77: recv_vce_Mean < 0.622\n",
      "  \tC1: 0.000\tC2: 0.245\tUnc: 0.755\n",
      "  \n",
      "  Rule 78: 0.622 < recv_vce_Mean < 73.522\n",
      "  \tC1: 0.117\tC2: 0.071\tUnc: 0.811\n",
      "  \n",
      "  Rule 79: 73.522 < recv_vce_Mean < 146.422\n",
      "  \tC1: 0.401\tC2: 0.000\tUnc: 0.599\n",
      "  \n",
      "  Rule 80: recv_vce_Mean > 146.422\n",
      "  \tC1: 0.000\tC2: 0.187\tUnc: 0.813\n",
      "  \n",
      "  Rule 81: recv_sms_Mean < -0.200\n",
      "  \tC1: 0.055\tC2: 0.145\tUnc: 0.800\n",
      "  \n",
      "  Rule 82: -0.200 < recv_sms_Mean < 0.027\n",
      "  \tC1: 0.166\tC2: 0.031\tUnc: 0.803\n",
      "  \n",
      "  Rule 83: 0.027 < recv_sms_Mean < 0.254\n",
      "  \tC1: 0.009\tC2: 0.191\tUnc: 0.800\n",
      "  \n",
      "  Rule 84: recv_sms_Mean > 0.254\n",
      "  \tC1: 0.302\tC2: 0.043\tUnc: 0.655\n",
      "  \n",
      "  Rule 85: comp_vce_Mean < 29.425\n",
      "  \tC1: 0.138\tC2: 0.051\tUnc: 0.811\n",
      "  \n",
      "  Rule 86: 29.425 < comp_vce_Mean < 130.975\n",
      "  \tC1: 0.194\tC2: 0.001\tUnc: 0.805\n",
      "  \n",
      "  Rule 87: 130.975 < comp_vce_Mean < 232.525\n",
      "  \tC1: 0.000\tC2: 0.300\tUnc: 0.700\n",
      "  \n",
      "  Rule 88: comp_vce_Mean > 232.525\n",
      "  \tC1: 0.000\tC2: 0.208\tUnc: 0.792\n",
      "  \n",
      "  Rule 89: comp_dat_Mean < -4.741\n",
      "  \tC1: 0.124\tC2: 0.076\tUnc: 0.800\n",
      "  \n",
      "  Rule 90: -4.741 < comp_dat_Mean < 0.565\n",
      "  \tC1: 0.093\tC2: 0.096\tUnc: 0.811\n",
      "  \n",
      "  Rule 91: 0.565 < comp_dat_Mean < 5.871\n",
      "  \tC1: 0.445\tC2: 0.000\tUnc: 0.555\n",
      "  \n",
      "  Rule 92: comp_dat_Mean > 5.871\n",
      "  \tC1: 0.000\tC2: 0.367\tUnc: 0.633\n",
      "  \n",
      "  Rule 93: custcare_Mean < -0.812\n",
      "  \tC1: 0.109\tC2: 0.091\tUnc: 0.800\n",
      "  \n",
      "  Rule 94: -0.812 < custcare_Mean < 0.864\n",
      "  \tC1: 0.124\tC2: 0.068\tUnc: 0.808\n",
      "  \n",
      "  Rule 95: 0.864 < custcare_Mean < 2.540\n",
      "  \tC1: 0.000\tC2: 0.351\tUnc: 0.649\n",
      "  \n",
      "  Rule 96: custcare_Mean > 2.540\n",
      "  \tC1: 0.174\tC2: 0.018\tUnc: 0.807\n",
      "  \n",
      "  Rule 97: ccrndmou_Mean < -2.480\n",
      "  \tC1: 0.048\tC2: 0.152\tUnc: 0.800\n",
      "  \n",
      "  Rule 98: -2.480 < ccrndmou_Mean < 2.718\n",
      "  \tC1: 0.158\tC2: 0.030\tUnc: 0.812\n",
      "  \n",
      "  Rule 99: 2.718 < ccrndmou_Mean < 7.916\n",
      "  \tC1: 0.072\tC2: 0.120\tUnc: 0.808\n",
      "  \n",
      "  Rule 100: ccrndmou_Mean > 7.916\n",
      "  \tC1: 0.000\tC2: 0.275\tUnc: 0.725\n",
      "  \n",
      "  Rule 101: cc_mou_Mean < -2.330\n",
      "  \tC1: 0.092\tC2: 0.108\tUnc: 0.800\n",
      "  \n",
      "  Rule 102: -2.330 < cc_mou_Mean < 2.265\n",
      "  \tC1: 0.041\tC2: 0.154\tUnc: 0.805\n",
      "  \n",
      "  Rule 103: 2.265 < cc_mou_Mean < 6.860\n",
      "  \tC1: 0.127\tC2: 0.061\tUnc: 0.812\n",
      "  \n",
      "  Rule 104: cc_mou_Mean > 6.860\n",
      "  \tC1: 0.065\tC2: 0.146\tUnc: 0.789\n",
      "  \n",
      "  Rule 105: inonemin_Mean < -3.483\n",
      "  \tC1: 0.176\tC2: 0.024\tUnc: 0.800\n",
      "  \n",
      "  Rule 106: -3.483 < inonemin_Mean < 37.737\n",
      "  \tC1: 0.088\tC2: 0.101\tUnc: 0.811\n",
      "  \n",
      "  Rule 107: 37.737 < inonemin_Mean < 78.958\n",
      "  \tC1: 0.090\tC2: 0.093\tUnc: 0.817\n",
      "  \n",
      "  Rule 108: inonemin_Mean > 78.958\n",
      "  \tC1: 0.231\tC2: 0.002\tUnc: 0.767\n",
      "  \n",
      "  Rule 109: threeway_Mean < -0.305\n",
      "  \tC1: 0.151\tC2: 0.049\tUnc: 0.800\n",
      "  \n",
      "  Rule 110: -0.305 < threeway_Mean < 0.175\n",
      "  \tC1: 0.065\tC2: 0.132\tUnc: 0.803\n",
      "  \n",
      "  Rule 111: 0.175 < threeway_Mean < 0.654\n",
      "  \tC1: 0.259\tC2: 0.000\tUnc: 0.741\n",
      "  \n",
      "  Rule 112: threeway_Mean > 0.654\n",
      "  \tC1: 0.000\tC2: 0.288\tUnc: 0.712\n",
      "  \n",
      "  Rule 113: mou_cvce_Mean < 49.825\n",
      "  \tC1: 0.027\tC2: 0.159\tUnc: 0.814\n",
      "  \n",
      "  Rule 114: 49.825 < mou_cvce_Mean < 242.332\n",
      "  \tC1: 0.006\tC2: 0.187\tUnc: 0.806\n",
      "  \n",
      "  Rule 115: 242.332 < mou_cvce_Mean < 434.840\n",
      "  \tC1: 0.182\tC2: 0.007\tUnc: 0.811\n",
      "  \n",
      "  Rule 116: mou_cvce_Mean > 434.840\n",
      "  \tC1: 0.216\tC2: 0.000\tUnc: 0.784\n",
      "  \n",
      "  Rule 117: mou_cdat_Mean < -7.094\n",
      "  \tC1: 0.163\tC2: 0.037\tUnc: 0.800\n",
      "  \n",
      "  Rule 118: -7.094 < mou_cdat_Mean < 1.129\n",
      "  \tC1: 0.143\tC2: 0.052\tUnc: 0.805\n",
      "  \n",
      "  Rule 119: 1.129 < mou_cdat_Mean < 9.352\n",
      "  \tC1: 0.243\tC2: 0.000\tUnc: 0.757\n",
      "  \n",
      "  Rule 120: mou_cdat_Mean > 9.352\n",
      "  \tC1: 0.178\tC2: 0.003\tUnc: 0.818\n",
      "  \n",
      "  Rule 121: mou_rvce_Mean < 1.352\n",
      "  \tC1: 0.084\tC2: 0.103\tUnc: 0.813\n",
      "  \n",
      "  Rule 122: 1.352 < mou_rvce_Mean < 146.851\n",
      "  \tC1: 0.000\tC2: 0.252\tUnc: 0.748\n",
      "  \n",
      "  Rule 123: 146.851 < mou_rvce_Mean < 292.351\n",
      "  \tC1: 0.101\tC2: 0.084\tUnc: 0.814\n",
      "  \n",
      "  Rule 124: mou_rvce_Mean > 292.351\n",
      "  \tC1: 0.294\tC2: 0.000\tUnc: 0.706\n",
      "  \n",
      "  Rule 125: owylis_vce_Mean < 0.634\n",
      "  \tC1: 0.243\tC2: 0.000\tUnc: 0.757\n",
      "  \n",
      "  Rule 126: 0.634 < owylis_vce_Mean < 27.455\n",
      "  \tC1: 0.001\tC2: 0.195\tUnc: 0.804\n",
      "  \n",
      "  Rule 127: 27.455 < owylis_vce_Mean < 54.276\n",
      "  \tC1: 0.000\tC2: 0.406\tUnc: 0.594\n",
      "  \n",
      "  Rule 128: owylis_vce_Mean > 54.276\n",
      "  \tC1: 0.428\tC2: 0.000\tUnc: 0.572\n",
      "  \n",
      "  Rule 129: mouowylisv_Mean < -3.493\n",
      "  \tC1: 0.026\tC2: 0.174\tUnc: 0.800\n",
      "  \n",
      "  Rule 130: -3.493 < mouowylisv_Mean < 29.542\n",
      "  \tC1: 0.133\tC2: 0.059\tUnc: 0.809\n",
      "  \n",
      "  Rule 131: 29.542 < mouowylisv_Mean < 62.577\n",
      "  \tC1: 0.089\tC2: 0.094\tUnc: 0.817\n",
      "  \n",
      "  Rule 132: mouowylisv_Mean > 62.577\n",
      "  \tC1: 0.000\tC2: 0.189\tUnc: 0.811\n",
      "  \n",
      "  Rule 133: iwylis_vce_Mean < -4.018\n",
      "  \tC1: 0.085\tC2: 0.115\tUnc: 0.800\n",
      "  \n",
      "  Rule 134: -4.018 < iwylis_vce_Mean < 9.283\n",
      "  \tC1: 0.114\tC2: 0.081\tUnc: 0.805\n",
      "  \n",
      "  Rule 135: 9.283 < iwylis_vce_Mean < 22.584\n",
      "  \tC1: 0.093\tC2: 0.097\tUnc: 0.810\n",
      "  \n",
      "  Rule 136: iwylis_vce_Mean > 22.584\n",
      "  \tC1: 0.158\tC2: 0.026\tUnc: 0.816\n",
      "  \n",
      "  Rule 137: mouiwylisv_Mean < -11.549\n",
      "  \tC1: 0.140\tC2: 0.060\tUnc: 0.800\n",
      "  \n",
      "  Rule 138: -11.549 < mouiwylisv_Mean < 19.797\n",
      "  \tC1: 0.187\tC2: 0.005\tUnc: 0.807\n",
      "  \n",
      "  Rule 139: 19.797 < mouiwylisv_Mean < 51.143\n",
      "  \tC1: 0.000\tC2: 0.186\tUnc: 0.814\n",
      "  \n",
      "  Rule 140: mouiwylisv_Mean > 51.143\n",
      "  \tC1: 0.000\tC2: 0.373\tUnc: 0.627\n",
      "  \n",
      "  Rule 141: peak_vce_Mean < 17.451\n",
      "  \tC1: 0.002\tC2: 0.197\tUnc: 0.801\n",
      "  \n",
      "  Rule 142: 17.451 < peak_vce_Mean < 139.827\n",
      "  \tC1: 0.254\tC2: 0.000\tUnc: 0.746\n",
      "  \n",
      "  Rule 143: 139.827 < peak_vce_Mean < 262.204\n",
      "  \tC1: 0.445\tC2: 0.000\tUnc: 0.555\n",
      "  \n",
      "  Rule 144: peak_vce_Mean > 262.204\n",
      "  \tC1: 0.000\tC2: 0.461\tUnc: 0.539\n",
      "  \n",
      "  Rule 145: peak_dat_Mean < -4.005\n",
      "  \tC1: 0.095\tC2: 0.105\tUnc: 0.800\n",
      "  \n",
      "  Rule 146: -4.005 < peak_dat_Mean < 0.413\n",
      "  \tC1: 0.091\tC2: 0.104\tUnc: 0.805\n",
      "  \n",
      "  Rule 147: 0.413 < peak_dat_Mean < 4.832\n",
      "  \tC1: 0.040\tC2: 0.136\tUnc: 0.824\n",
      "  \n",
      "  Rule 148: peak_dat_Mean > 4.832\n",
      "  \tC1: 0.604\tC2: 0.000\tUnc: 0.396\n",
      "  \n",
      "  Rule 149: mou_peav_Mean < 32.236\n",
      "  \tC1: 0.109\tC2: 0.083\tUnc: 0.808\n",
      "  \n",
      "  Rule 150: 32.236 < mou_peav_Mean < 269.735\n",
      "  \tC1: 0.050\tC2: 0.143\tUnc: 0.807\n",
      "  \n",
      "  Rule 151: 269.735 < mou_peav_Mean < 507.234\n",
      "  \tC1: 0.000\tC2: 0.285\tUnc: 0.715\n",
      "  \n",
      "  Rule 152: mou_peav_Mean > 507.234\n",
      "  \tC1: 0.190\tC2: 0.007\tUnc: 0.803\n",
      "  \n",
      "  Rule 153: mou_pead_Mean < -5.077\n",
      "  \tC1: 0.151\tC2: 0.049\tUnc: 0.800\n",
      "  \n",
      "  Rule 154: -5.077 < mou_pead_Mean < 0.732\n",
      "  \tC1: 0.114\tC2: 0.083\tUnc: 0.804\n",
      "  \n",
      "  Rule 155: 0.732 < mou_pead_Mean < 6.541\n",
      "  \tC1: 0.292\tC2: 0.000\tUnc: 0.708\n",
      "  \n",
      "  Rule 156: mou_pead_Mean > 6.541\n",
      "  \tC1: 0.118\tC2: 0.064\tUnc: 0.818\n",
      "  \n",
      "  Rule 157: opk_vce_Mean < 6.597\n",
      "  \tC1: 0.160\tC2: 0.015\tUnc: 0.825\n",
      "  \n",
      "  Rule 158: 6.597 < opk_vce_Mean < 54.994\n",
      "  \tC1: 0.000\tC2: 0.189\tUnc: 0.811\n",
      "  \n",
      "  Rule 159: 54.994 < opk_vce_Mean < 103.391\n",
      "  \tC1: 0.336\tC2: 0.000\tUnc: 0.664\n",
      "  \n",
      "  Rule 160: opk_vce_Mean > 103.391\n",
      "  \tC1: 0.000\tC2: 0.269\tUnc: 0.731\n",
      "  \n",
      "  Rule 161: opk_dat_Mean < -0.923\n",
      "  \tC1: 0.147\tC2: 0.053\tUnc: 0.800\n",
      "  \n",
      "  Rule 162: -0.923 < opk_dat_Mean < 0.152\n",
      "  \tC1: 0.133\tC2: 0.065\tUnc: 0.803\n",
      "  \n",
      "  Rule 163: 0.152 < opk_dat_Mean < 1.226\n",
      "  \tC1: 0.000\tC2: 0.324\tUnc: 0.676\n",
      "  \n",
      "  Rule 164: opk_dat_Mean > 1.226\n",
      "  \tC1: 0.338\tC2: 0.000\tUnc: 0.662\n",
      "  \n",
      "  Rule 165: mou_opkv_Mean < 3.518\n",
      "  \tC1: 0.000\tC2: 0.300\tUnc: 0.700\n",
      "  \n",
      "  Rule 166: 3.518 < mou_opkv_Mean < 119.374\n",
      "  \tC1: 0.180\tC2: 0.011\tUnc: 0.809\n",
      "  \n",
      "  Rule 167: 119.374 < mou_opkv_Mean < 235.230\n",
      "  \tC1: 0.127\tC2: 0.065\tUnc: 0.809\n",
      "  \n",
      "  Rule 168: mou_opkv_Mean > 235.230\n",
      "  \tC1: 0.314\tC2: 0.000\tUnc: 0.686\n",
      "  \n",
      "  Rule 169: mou_opkd_Mean < -2.583\n",
      "  \tC1: 0.120\tC2: 0.080\tUnc: 0.800\n",
      "  \n",
      "  Rule 170: -2.583 < mou_opkd_Mean < 0.398\n",
      "  \tC1: 0.115\tC2: 0.079\tUnc: 0.806\n",
      "  \n",
      "  Rule 171: 0.398 < mou_opkd_Mean < 3.378\n",
      "  \tC1: 0.000\tC2: 0.558\tUnc: 0.442\n",
      "  \n",
      "  Rule 172: mou_opkd_Mean > 3.378\n",
      "  \tC1: 0.125\tC2: 0.067\tUnc: 0.807\n",
      "  \n",
      "  Rule 173: drop_blk_Mean < 1.292\n",
      "  \tC1: 0.018\tC2: 0.166\tUnc: 0.816\n",
      "  \n",
      "  Rule 174: 1.292 < drop_blk_Mean < 9.326\n",
      "  \tC1: 0.056\tC2: 0.140\tUnc: 0.804\n",
      "  \n",
      "  Rule 175: 9.326 < drop_blk_Mean < 17.359\n",
      "  \tC1: 0.208\tC2: 0.000\tUnc: 0.792\n",
      "  \n",
      "  Rule 176: drop_blk_Mean > 17.359\n",
      "  \tC1: 0.098\tC2: 0.085\tUnc: 0.816\n",
      "  \n",
      "  Rule 177: attempt_Mean < 40.457\n",
      "  \tC1: 0.000\tC2: 0.245\tUnc: 0.755\n",
      "  \n",
      "  Rule 178: 40.457 < attempt_Mean < 168.213\n",
      "  \tC1: 0.085\tC2: 0.107\tUnc: 0.808\n",
      "  \n",
      "  Rule 179: 168.213 < attempt_Mean < 295.969\n",
      "  \tC1: 0.313\tC2: 0.000\tUnc: 0.687\n",
      "  \n",
      "  Rule 180: attempt_Mean > 295.969\n",
      "  \tC1: 0.011\tC2: 0.214\tUnc: 0.775\n",
      "  \n",
      "  Rule 181: complete_Mean < 29.606\n",
      "  \tC1: 0.240\tC2: 0.000\tUnc: 0.760\n",
      "  \n",
      "  Rule 182: 29.606 < complete_Mean < 131.540\n",
      "  \tC1: 0.220\tC2: 0.007\tUnc: 0.773\n",
      "  \n",
      "  Rule 183: 131.540 < complete_Mean < 233.474\n",
      "  \tC1: 0.020\tC2: 0.162\tUnc: 0.818\n",
      "  \n",
      "  Rule 184: complete_Mean > 233.474\n",
      "  \tC1: 0.071\tC2: 0.113\tUnc: 0.817\n",
      "  \n",
      "  Rule 185: callfwdv_Mean < -0.084\n",
      "  \tC1: 0.094\tC2: 0.106\tUnc: 0.800\n",
      "  \n",
      "  Rule 186: -0.084 < callfwdv_Mean < 0.011\n",
      "  \tC1: 0.084\tC2: 0.111\tUnc: 0.804\n",
      "  \n",
      "  Rule 187: 0.011 < callfwdv_Mean < 0.107\n",
      "  \tC1: 0.125\tC2: 0.075\tUnc: 0.800\n",
      "  \n",
      "  Rule 188: callfwdv_Mean > 0.107\n",
      "  \tC1: 0.365\tC2: 0.000\tUnc: 0.635\n",
      "  \n",
      "  Rule 189: callwait_Mean < -2.369\n",
      "  \tC1: 0.112\tC2: 0.088\tUnc: 0.800\n",
      "  \n",
      "  Rule 190: -2.369 < callwait_Mean < 3.349\n",
      "  \tC1: 0.100\tC2: 0.094\tUnc: 0.806\n",
      "  \n",
      "  Rule 191: 3.349 < callwait_Mean < 9.068\n",
      "  \tC1: 0.009\tC2: 0.186\tUnc: 0.804\n",
      "  \n",
      "  Rule 192: callwait_Mean > 9.068\n",
      "  \tC1: 0.000\tC2: 0.208\tUnc: 0.792\n",
      "  \n",
      "  Rule 193: months < 45.386\n",
      "  \tC1: 0.252\tC2: 0.000\tUnc: 0.748\n",
      "  \n",
      "  Rule 194: 45.386 < months < 47.857\n",
      "  \tC1: 0.066\tC2: 0.114\tUnc: 0.820\n",
      "  \n",
      "  Rule 195: 47.857 < months < 50.329\n",
      "  \tC1: 0.152\tC2: 0.045\tUnc: 0.803\n",
      "  \n",
      "  Rule 196: months > 50.329\n",
      "  \tC1: 0.000\tC2: 0.333\tUnc: 0.667\n",
      "  \n",
      "  Rule 197: uniqsubs < 0.948\n",
      "  \tC1: 0.079\tC2: 0.121\tUnc: 0.800\n",
      "  \n",
      "  Rule 198: 0.948 < uniqsubs < 1.553\n",
      "  \tC1: 0.176\tC2: 0.018\tUnc: 0.806\n",
      "  \n",
      "  Rule 199: 1.553 < uniqsubs < 2.158\n",
      "  \tC1: 0.071\tC2: 0.112\tUnc: 0.817\n",
      "  \n",
      "  Rule 200: uniqsubs > 2.158\n",
      "  \tC1: 0.236\tC2: 0.000\tUnc: 0.764\n",
      "  \n",
      "  Rule 201: actvsubs = 0.0\n",
      "  \tC1: 0.605\tC2: 0.000\tUnc: 0.395\n",
      "  \n",
      "  Rule 202: actvsubs = 1.0\n",
      "  \tC1: 0.069\tC2: 0.114\tUnc: 0.817\n",
      "  \n",
      "  Rule 203: actvsubs = 2.0\n",
      "  \tC1: 0.243\tC2: 0.000\tUnc: 0.757\n",
      "  \n",
      "  Rule 204: actvsubs = 3.0\n",
      "  \tC1: 0.000\tC2: 0.197\tUnc: 0.803\n",
      "  \n",
      "  Rule 205: actvsubs = 4.0\n",
      "  \tC1: 0.000\tC2: 0.515\tUnc: 0.485\n",
      "  \n",
      "  Rule 206: actvsubs = 5.0\n",
      "  \tC1: 0.550\tC2: 0.000\tUnc: 0.450\n",
      "  \n",
      "  Rule 207: totcalls < 2375.753\n",
      "  \tC1: 0.116\tC2: 0.071\tUnc: 0.813\n",
      "  \n",
      "  Rule 208: 2375.753 < totcalls < 11210.030\n",
      "  \tC1: 0.070\tC2: 0.118\tUnc: 0.812\n",
      "  \n",
      "  Rule 209: 11210.030 < totcalls < 20044.306\n",
      "  \tC1: 0.106\tC2: 0.080\tUnc: 0.814\n",
      "  \n",
      "  Rule 210: totcalls > 20044.306\n",
      "  \tC1: 0.011\tC2: 0.197\tUnc: 0.793\n",
      "  \n",
      "  Rule 211: totmou < 6937.046\n",
      "  \tC1: 0.078\tC2: 0.116\tUnc: 0.806\n",
      "  \n",
      "  Rule 212: 6937.046 < totmou < 25519.534\n",
      "  \tC1: 0.204\tC2: 0.000\tUnc: 0.796\n",
      "  \n",
      "  Rule 213: 25519.534 < totmou < 44102.022\n",
      "  \tC1: 0.000\tC2: 0.217\tUnc: 0.783\n",
      "  \n",
      "  Rule 214: totmou > 44102.022\n",
      "  \tC1: 0.000\tC2: 0.266\tUnc: 0.734\n",
      "  \n",
      "  Rule 215: totrev < 1727.668\n",
      "  \tC1: 0.072\tC2: 0.107\tUnc: 0.821\n",
      "  \n",
      "  Rule 216: 1727.668 < totrev < 3009.300\n",
      "  \tC1: 0.010\tC2: 0.194\tUnc: 0.796\n",
      "  \n",
      "  Rule 217: 3009.300 < totrev < 4290.932\n",
      "  \tC1: 0.095\tC2: 0.093\tUnc: 0.811\n",
      "  \n",
      "  Rule 218: totrev > 4290.932\n",
      "  \tC1: 0.275\tC2: 0.000\tUnc: 0.725\n",
      "  \n",
      "  Rule 219: adjrev < 1650.454\n",
      "  \tC1: 0.010\tC2: 0.184\tUnc: 0.806\n",
      "  \n",
      "  Rule 220: 1650.454 < adjrev < 2912.426\n",
      "  \tC1: 0.026\tC2: 0.161\tUnc: 0.813\n",
      "  \n",
      "  Rule 221: 2912.426 < adjrev < 4174.398\n",
      "  \tC1: 0.217\tC2: 0.000\tUnc: 0.783\n",
      "  \n",
      "  Rule 222: adjrev > 4174.398\n",
      "  \tC1: 0.120\tC2: 0.069\tUnc: 0.810\n",
      "  \n",
      "  Rule 223: adjmou < 6836.606\n",
      "  \tC1: 0.115\tC2: 0.077\tUnc: 0.808\n",
      "  \n",
      "  Rule 224: 6836.606 < adjmou < 25312.606\n",
      "  \tC1: 0.084\tC2: 0.102\tUnc: 0.814\n",
      "  \n",
      "  Rule 225: 25312.606 < adjmou < 43788.607\n",
      "  \tC1: 0.025\tC2: 0.191\tUnc: 0.784\n",
      "  \n",
      "  Rule 226: adjmou > 43788.607\n",
      "  \tC1: 0.000\tC2: 0.295\tUnc: 0.705\n",
      "  \n",
      "  Rule 227: adjqty < 2330.029\n",
      "  \tC1: 0.217\tC2: 0.024\tUnc: 0.759\n",
      "  \n",
      "  Rule 228: 2330.029 < adjqty < 11115.883\n",
      "  \tC1: 0.022\tC2: 0.172\tUnc: 0.805\n",
      "  \n",
      "  Rule 229: 11115.883 < adjqty < 19901.738\n",
      "  \tC1: 0.091\tC2: 0.097\tUnc: 0.811\n",
      "  \n",
      "  Rule 230: adjqty > 19901.738\n",
      "  \tC1: 0.097\tC2: 0.093\tUnc: 0.810\n",
      "  \n",
      "  Rule 231: avgrev < 38.174\n",
      "  \tC1: 0.129\tC2: 0.050\tUnc: 0.820\n",
      "  \n",
      "  Rule 232: 38.174 < avgrev < 64.958\n",
      "  \tC1: 0.138\tC2: 0.054\tUnc: 0.808\n",
      "  \n",
      "  Rule 233: 64.958 < avgrev < 91.743\n",
      "  \tC1: 0.075\tC2: 0.113\tUnc: 0.812\n",
      "  \n",
      "  Rule 234: avgrev > 91.743\n",
      "  \tC1: 0.000\tC2: 0.284\tUnc: 0.716\n",
      "  \n",
      "  Rule 235: avgmou < 169.913\n",
      "  \tC1: 0.031\tC2: 0.165\tUnc: 0.804\n",
      "  \n",
      "  Rule 236: 169.913 < avgmou < 556.576\n",
      "  \tC1: 0.143\tC2: 0.033\tUnc: 0.824\n",
      "  \n",
      "  Rule 237: 556.576 < avgmou < 943.238\n",
      "  \tC1: 0.000\tC2: 0.260\tUnc: 0.740\n",
      "  \n",
      "  Rule 238: avgmou > 943.238\n",
      "  \tC1: 0.045\tC2: 0.141\tUnc: 0.814\n",
      "  \n",
      "  Rule 239: avgqty < 60.540\n",
      "  \tC1: 0.234\tC2: 0.000\tUnc: 0.766\n",
      "  \n",
      "  Rule 240: 60.540 < avgqty < 243.738\n",
      "  \tC1: 0.054\tC2: 0.142\tUnc: 0.804\n",
      "  \n",
      "  Rule 241: 243.738 < avgqty < 426.937\n",
      "  \tC1: 0.000\tC2: 0.379\tUnc: 0.621\n",
      "  \n",
      "  Rule 242: avgqty > 426.937\n",
      "  \tC1: 0.133\tC2: 0.053\tUnc: 0.813\n",
      "  \n",
      "  Rule 243: avg3mou < 139.821\n",
      "  \tC1: 0.000\tC2: 0.259\tUnc: 0.741\n",
      "  \n",
      "  Rule 244: 139.821 < avg3mou < 602.032\n",
      "  \tC1: 0.129\tC2: 0.067\tUnc: 0.804\n",
      "  \n",
      "  Rule 245: 602.032 < avg3mou < 1064.244\n",
      "  \tC1: 0.220\tC2: 0.003\tUnc: 0.777\n",
      "  \n",
      "  Rule 246: avg3mou > 1064.244\n",
      "  \tC1: 0.219\tC2: 0.000\tUnc: 0.781\n",
      "  \n",
      "  Rule 247: avg3qty < 48.036\n",
      "  \tC1: 0.055\tC2: 0.139\tUnc: 0.806\n",
      "  \n",
      "  Rule 248: 48.036 < avg3qty < 244.980\n",
      "  \tC1: 0.000\tC2: 0.202\tUnc: 0.798\n",
      "  \n",
      "  Rule 249: 244.980 < avg3qty < 441.924\n",
      "  \tC1: 0.000\tC2: 0.275\tUnc: 0.725\n",
      "  \n",
      "  Rule 250: avg3qty > 441.924\n",
      "  \tC1: 0.313\tC2: 0.000\tUnc: 0.687\n",
      "  \n",
      "  Rule 251: avg3rev < 32.522\n",
      "  \tC1: 0.000\tC2: 0.263\tUnc: 0.737\n",
      "  \n",
      "  Rule 252: 32.522 < avg3rev < 67.945\n",
      "  \tC1: 0.196\tC2: 0.000\tUnc: 0.804\n",
      "  \n",
      "  Rule 253: 67.945 < avg3rev < 103.369\n",
      "  \tC1: 0.039\tC2: 0.153\tUnc: 0.807\n",
      "  \n",
      "  Rule 254: avg3rev > 103.369\n",
      "  \tC1: 0.240\tC2: 0.000\tUnc: 0.760\n",
      "  \n",
      "  Rule 255: avg6mou < 154.438\n",
      "  \tC1: 0.059\tC2: 0.131\tUnc: 0.810\n",
      "  \n",
      "  Rule 256: 154.438 < avg6mou < 607.368\n",
      "  \tC1: 0.139\tC2: 0.045\tUnc: 0.816\n",
      "  \n",
      "  Rule 257: 607.368 < avg6mou < 1060.297\n",
      "  \tC1: 0.079\tC2: 0.101\tUnc: 0.819\n",
      "  \n",
      "  Rule 258: avg6mou > 1060.297\n",
      "  \tC1: 0.161\tC2: 0.031\tUnc: 0.809\n",
      "  \n",
      "  Rule 259: avg6qty < 53.300\n",
      "  \tC1: 0.145\tC2: 0.044\tUnc: 0.812\n",
      "  \n",
      "  Rule 260: 53.300 < avg6qty < 249.287\n",
      "  \tC1: 0.090\tC2: 0.093\tUnc: 0.817\n",
      "  \n",
      "  Rule 261: 249.287 < avg6qty < 445.274\n",
      "  \tC1: 0.169\tC2: 0.008\tUnc: 0.823\n",
      "  \n",
      "  Rule 262: avg6qty > 445.274\n",
      "  \tC1: 0.040\tC2: 0.146\tUnc: 0.814\n",
      "  \n",
      "  Rule 263: avg6rev < 34.359\n",
      "  \tC1: 0.187\tC2: 0.000\tUnc: 0.813\n",
      "  \n",
      "  Rule 264: 34.359 < avg6rev < 68.306\n",
      "  \tC1: 0.047\tC2: 0.147\tUnc: 0.806\n",
      "  \n",
      "  Rule 265: 68.306 < avg6rev < 102.254\n",
      "  \tC1: 0.000\tC2: 0.364\tUnc: 0.636\n",
      "  \n",
      "  Rule 266: avg6rev > 102.254\n",
      "  \tC1: 0.241\tC2: 0.000\tUnc: 0.759\n",
      "  \n",
      "  Rule 267: hnd_price < 40.243\n",
      "  \tC1: 0.000\tC2: 0.195\tUnc: 0.805\n",
      "  \n",
      "  Rule 268: 40.243 < hnd_price < 85.934\n",
      "  \tC1: 0.118\tC2: 0.069\tUnc: 0.813\n",
      "  \n",
      "  Rule 269: 85.934 < hnd_price < 131.625\n",
      "  \tC1: 0.260\tC2: 0.000\tUnc: 0.740\n",
      "  \n",
      "  Rule 270: hnd_price > 131.625\n",
      "  \tC1: 0.230\tC2: 0.000\tUnc: 0.770\n",
      "  \n",
      "  Rule 271: phones < 1.947\n",
      "  \tC1: 0.226\tC2: 0.000\tUnc: 0.774\n",
      "  \n",
      "  Rule 272: 1.947 < phones < 3.870\n",
      "  \tC1: 0.108\tC2: 0.080\tUnc: 0.811\n",
      "  \n",
      "  Rule 273: 3.870 < phones < 5.794\n",
      "  \tC1: 0.090\tC2: 0.099\tUnc: 0.810\n",
      "  \n",
      "  Rule 274: phones > 5.794\n",
      "  \tC1: 0.086\tC2: 0.103\tUnc: 0.811\n",
      "  \n",
      "  Rule 275: models < 1.771\n",
      "  \tC1: 0.000\tC2: 0.253\tUnc: 0.747\n",
      "  \n",
      "  Rule 276: 1.771 < models < 2.894\n",
      "  \tC1: 0.182\tC2: 0.005\tUnc: 0.812\n",
      "  \n",
      "  Rule 277: 2.894 < models < 4.016\n",
      "  \tC1: 0.148\tC2: 0.043\tUnc: 0.809\n",
      "  \n",
      "  Rule 278: models > 4.016\n",
      "  \tC1: 0.000\tC2: 0.265\tUnc: 0.735\n",
      "  \n",
      "  Rule 279: truck = 0.0\n",
      "  \tC1: 0.123\tC2: 0.074\tUnc: 0.803\n",
      "  \n",
      "  Rule 280: truck = 1.0\n",
      "  \tC1: 0.065\tC2: 0.131\tUnc: 0.804\n",
      "  \n",
      "  Rule 281: rv = 0.0\n",
      "  \tC1: 0.080\tC2: 0.116\tUnc: 0.804\n",
      "  \n",
      "  Rule 282: rv = 1.0\n",
      "  \tC1: 0.116\tC2: 0.076\tUnc: 0.807\n",
      "  \n",
      "  Rule 283: lor < 3.583\n",
      "  \tC1: 0.051\tC2: 0.145\tUnc: 0.803\n",
      "  \n",
      "  Rule 284: 3.583 < lor < 6.739\n",
      "  \tC1: 0.073\tC2: 0.122\tUnc: 0.805\n",
      "  \n",
      "  Rule 285: 6.739 < lor < 9.895\n",
      "  \tC1: 0.197\tC2: 0.006\tUnc: 0.797\n",
      "  \n",
      "  Rule 286: lor > 9.895\n",
      "  \tC1: 0.121\tC2: 0.072\tUnc: 0.807\n",
      "  \n",
      "  Rule 287: adults = 1.0\n",
      "  \tC1: 0.194\tC2: 0.003\tUnc: 0.804\n",
      "  \n",
      "  Rule 288: adults = 2.0\n",
      "  \tC1: 0.150\tC2: 0.042\tUnc: 0.808\n",
      "  \n",
      "  Rule 289: adults = 3.0\n",
      "  \tC1: 0.253\tC2: 0.000\tUnc: 0.747\n",
      "  \n",
      "  Rule 290: adults = 4.0\n",
      "  \tC1: 0.223\tC2: 0.000\tUnc: 0.777\n",
      "  \n",
      "  Rule 291: adults = 5.0\n",
      "  \tC1: 0.000\tC2: 0.444\tUnc: 0.556\n",
      "  \n",
      "  Rule 292: adults = 6.0\n",
      "  \tC1: 0.106\tC2: 0.074\tUnc: 0.820\n",
      "  \n",
      "  Rule 293: income < 4.735\n",
      "  \tC1: 0.233\tC2: 0.000\tUnc: 0.767\n",
      "  \n",
      "  Rule 294: 4.735 < income < 6.151\n",
      "  \tC1: 0.167\tC2: 0.022\tUnc: 0.811\n",
      "  \n",
      "  Rule 295: 6.151 < income < 7.567\n",
      "  \tC1: 0.000\tC2: 0.254\tUnc: 0.746\n",
      "  \n",
      "  Rule 296: income > 7.567\n",
      "  \tC1: 0.039\tC2: 0.140\tUnc: 0.820\n",
      "  \n",
      "  Rule 297: forgntvl = 0.0\n",
      "  \tC1: 0.119\tC2: 0.076\tUnc: 0.805\n",
      "  \n",
      "  Rule 298: forgntvl = 1.0\n",
      "  \tC1: 0.000\tC2: 0.215\tUnc: 0.785\n",
      "  \n",
      "  Rule 299: eqpdays < 280.188\n",
      "  \tC1: 0.324\tC2: 0.000\tUnc: 0.676\n",
      "  \n",
      "  Rule 300: 280.188 < eqpdays < 600.208\n",
      "  \tC1: 0.000\tC2: 0.226\tUnc: 0.774\n",
      "  \n",
      "  Rule 301: 600.208 < eqpdays < 920.229\n",
      "  \tC1: 0.062\tC2: 0.121\tUnc: 0.817\n",
      "  \n",
      "  Rule 302: eqpdays > 920.229\n",
      "  \tC1: 0.000\tC2: 0.411\tUnc: 0.589\n",
      ")\n",
      "\n",
      "\n",
      "Most important rules for class 0\n",
      "\n",
      "\t[0.610] R58: blck_dat_Mean = 1.0\n",
      "\t\t\t0: 0.610\t1: 0.000\tUnc: 0.390\n",
      "\n",
      "\t[0.605] R200: actvsubs = 0.0\n",
      "\t\t\t0: 0.605\t1: 0.000\tUnc: 0.395\n",
      "\n",
      "\t[0.604] R147: peak_dat_Mean > 4.832\n",
      "\t\t\t0: 0.604\t1: 0.000\tUnc: 0.396\n",
      "\n",
      "\t[0.550] R205: actvsubs = 5.0\n",
      "\t\t\t0: 0.550\t1: 0.000\tUnc: 0.450\n",
      "\n",
      "\t[0.445] R90: 0.565 < comp_dat_Mean < 5.871\n",
      "\t\t\t0: 0.445\t1: 0.000\tUnc: 0.555\n",
      "\n",
      "\t[0.445] R142: 139.827 < peak_vce_Mean < 262.204\n",
      "\t\t\t0: 0.445\t1: 0.000\tUnc: 0.555\n",
      "\n",
      "\t[0.428] R127: owylis_vce_Mean > 54.276\n",
      "\t\t\t0: 0.428\t1: 0.000\tUnc: 0.572\n",
      "\n",
      "\t[0.401] R78: 73.522 < recv_vce_Mean < 146.422\n",
      "\t\t\t0: 0.401\t1: 0.000\tUnc: 0.599\n",
      "\n",
      "\t[0.380] R6: 588.828 < mou_Mean < 1040.153\n",
      "\t\t\t0: 0.380\t1: 0.000\tUnc: 0.620\n",
      "\n",
      "\t[0.365] R187: callfwdv_Mean > 0.107\n",
      "\t\t\t0: 0.365\t1: 0.000\tUnc: 0.635\n",
      "\n",
      "\t[0.361] R7: mou_Mean > 1040.153\n",
      "\t\t\t0: 0.361\t1: 0.000\tUnc: 0.639\n",
      "\n",
      "\t[0.347] R74: 0.643 < plcd_dat_Mean < 6.622\n",
      "\t\t\t0: 0.347\t1: 0.000\tUnc: 0.653\n",
      "\n",
      "\t[0.340] R11: totmrc_Mean > 72.558\n",
      "\t\t\t0: 0.340\t1: 0.000\tUnc: 0.660\n",
      "\n",
      "\t[0.338] R163: opk_dat_Mean > 1.226\n",
      "\t\t\t0: 0.338\t1: 0.000\tUnc: 0.662\n",
      "\n",
      "\t[0.336] R158: 54.994 < opk_vce_Mean < 103.391\n",
      "\t\t\t0: 0.336\t1: 0.000\tUnc: 0.664\n",
      "\n",
      "\t[0.324] R298: eqpdays < 280.188\n",
      "\t\t\t0: 0.324\t1: 0.000\tUnc: 0.676\n",
      "\n",
      "\t[0.323] R83: recv_sms_Mean > 0.254\n",
      "\t\t\t0: 0.302\t1: 0.043\tUnc: 0.655\n",
      "\n",
      "\t[0.314] R167: mou_opkv_Mean > 235.230\n",
      "\t\t\t0: 0.314\t1: 0.000\tUnc: 0.686\n",
      "\n",
      "\t[0.313] R249: avg3qty > 441.924\n",
      "\t\t\t0: 0.313\t1: 0.000\tUnc: 0.687\n",
      "\n",
      "\t[0.313] R178: 168.213 < attempt_Mean < 295.969\n",
      "\t\t\t0: 0.313\t1: 0.000\tUnc: 0.687\n",
      "\n",
      "\t[0.294] R123: mou_rvce_Mean > 292.351\n",
      "\t\t\t0: 0.294\t1: 0.000\tUnc: 0.706\n",
      "\n",
      "\t[0.292] R154: 0.732 < mou_pead_Mean < 6.541\n",
      "\t\t\t0: 0.292\t1: 0.000\tUnc: 0.708\n",
      "\n",
      "\t[0.281] R38: -36.540 < change_mou < 138.002\n",
      "\t\t\t0: 0.281\t1: 0.000\tUnc: 0.719\n",
      "\n",
      "\t[0.275] R44: drop_vce_Mean < 0.196\n",
      "\t\t\t0: 0.275\t1: 0.000\tUnc: 0.725\n",
      "\n",
      "\t[0.275] R217: totrev > 4290.932\n",
      "\t\t\t0: 0.275\t1: 0.000\tUnc: 0.725\n",
      "\n",
      "\t[0.265] R15: da_Mean > 3.637\n",
      "\t\t\t0: 0.265\t1: 0.000\tUnc: 0.735\n",
      "\n",
      "\t[0.260] R268: 85.934 < hnd_price < 131.625\n",
      "\t\t\t0: 0.260\t1: 0.000\tUnc: 0.740\n",
      "\n",
      "\t[0.259] R110: 0.175 < threeway_Mean < 0.654\n",
      "\t\t\t0: 0.259\t1: 0.000\tUnc: 0.741\n",
      "\n",
      "\t[0.254] R141: 17.451 < peak_vce_Mean < 139.827\n",
      "\t\t\t0: 0.254\t1: 0.000\tUnc: 0.746\n",
      "\n",
      "\t[0.253] R288: adults = 3.0\n",
      "\t\t\t0: 0.253\t1: 0.000\tUnc: 0.747\n",
      "\n",
      "\t[0.252] R192: months < 45.386\n",
      "\t\t\t0: 0.252\t1: 0.000\tUnc: 0.748\n",
      "\n",
      "\t[0.243] R118: 1.129 < mou_cdat_Mean < 9.352\n",
      "\t\t\t0: 0.243\t1: 0.000\tUnc: 0.757\n",
      "\n",
      "\t[0.243] R202: actvsubs = 2.0\n",
      "\t\t\t0: 0.243\t1: 0.000\tUnc: 0.757\n",
      "\n",
      "\t[0.243] R124: owylis_vce_Mean < 0.634\n",
      "\t\t\t0: 0.243\t1: 0.000\tUnc: 0.757\n",
      "\n",
      "\t[0.241] R265: avg6rev > 102.254\n",
      "\t\t\t0: 0.241\t1: 0.000\tUnc: 0.759\n",
      "\n",
      "\t[0.240] R180: complete_Mean < 29.606\n",
      "\t\t\t0: 0.240\t1: 0.000\tUnc: 0.760\n",
      "\n",
      "\t[0.240] R253: avg3rev > 103.369\n",
      "\t\t\t0: 0.240\t1: 0.000\tUnc: 0.760\n",
      "\n",
      "\t[0.237] R39: change_mou > 138.002\n",
      "\t\t\t0: 0.237\t1: 0.000\tUnc: 0.763\n",
      "\n",
      "\t[0.236] R199: uniqsubs > 2.158\n",
      "\t\t\t0: 0.236\t1: 0.000\tUnc: 0.764\n",
      "\n",
      "\t[0.234] R238: avgqty < 60.540\n",
      "\t\t\t0: 0.234\t1: 0.000\tUnc: 0.766\n",
      "\n",
      "\t[0.233] R292: income < 4.735\n",
      "\t\t\t0: 0.233\t1: 0.000\tUnc: 0.767\n",
      "\n",
      "\t[0.232] R107: inonemin_Mean > 78.958\n",
      "\t\t\t0: 0.231\t1: 0.002\tUnc: 0.767\n",
      "\n",
      "\t[0.230] R269: hnd_price > 131.625\n",
      "\t\t\t0: 0.230\t1: 0.000\tUnc: 0.770\n",
      "\n",
      "\t[0.229] R226: adjqty < 2330.029\n",
      "\t\t\t0: 0.217\t1: 0.024\tUnc: 0.759\n",
      "\n",
      "\t[0.226] R270: phones < 1.947\n",
      "\t\t\t0: 0.226\t1: 0.000\tUnc: 0.774\n",
      "\n",
      "\t[0.223] R181: 29.606 < complete_Mean < 131.540\n",
      "\t\t\t0: 0.220\t1: 0.007\tUnc: 0.773\n",
      "\n",
      "\t[0.223] R289: adults = 4.0\n",
      "\t\t\t0: 0.223\t1: 0.000\tUnc: 0.777\n",
      "\n",
      "\t[0.222] R244: 602.032 < avg3mou < 1064.244\n",
      "\t\t\t0: 0.220\t1: 0.003\tUnc: 0.777\n",
      "\n",
      "\t[0.219] R245: avg3mou > 1064.244\n",
      "\t\t\t0: 0.219\t1: 0.000\tUnc: 0.781\n",
      "\n",
      "\t[0.217] R220: 2912.426 < adjrev < 4174.398\n",
      "\t\t\t0: 0.217\t1: 0.000\tUnc: 0.783\n",
      "\n",
      "\t[0.216] R115: mou_cvce_Mean > 434.840\n",
      "\t\t\t0: 0.216\t1: 0.000\tUnc: 0.784\n",
      "\n",
      "\t[0.208] R174: 9.326 < drop_blk_Mean < 17.359\n",
      "\t\t\t0: 0.208\t1: 0.000\tUnc: 0.792\n",
      "\n",
      "\t[0.206] R67: unan_dat_Mean > 0.139\n",
      "\t\t\t0: 0.184\t1: 0.047\tUnc: 0.769\n",
      "\n",
      "\t[0.204] R211: 6937.046 < totmou < 25519.534\n",
      "\t\t\t0: 0.204\t1: 0.000\tUnc: 0.796\n",
      "\n",
      "\t[0.200] R284: 6.739 < lor < 9.895\n",
      "\t\t\t0: 0.197\t1: 0.006\tUnc: 0.797\n",
      "\n",
      "Most important rules for class 1\n",
      "\n",
      "\t[0.558] R170: 0.398 < mou_opkd_Mean < 3.378\n",
      "\t\t\t0: 0.000\t1: 0.558\tUnc: 0.442\n",
      "\n",
      "\t[0.515] R204: actvsubs = 4.0\n",
      "\t\t\t0: 0.000\t1: 0.515\tUnc: 0.485\n",
      "\n",
      "\t[0.474] R36: change_mou < -211.081\n",
      "\t\t\t0: 0.000\t1: 0.474\tUnc: 0.526\n",
      "\n",
      "\t[0.461] R143: peak_vce_Mean > 262.204\n",
      "\t\t\t0: 0.000\t1: 0.461\tUnc: 0.539\n",
      "\n",
      "\t[0.444] R290: adults = 5.0\n",
      "\t\t\t0: 0.000\t1: 0.444\tUnc: 0.556\n",
      "\n",
      "\t[0.411] R301: eqpdays > 920.229\n",
      "\t\t\t0: 0.000\t1: 0.411\tUnc: 0.589\n",
      "\n",
      "\t[0.406] R126: 27.455 < owylis_vce_Mean < 54.276\n",
      "\t\t\t0: 0.000\t1: 0.406\tUnc: 0.594\n",
      "\n",
      "\t[0.380] R75: plcd_dat_Mean > 6.622\n",
      "\t\t\t0: 0.000\t1: 0.380\tUnc: 0.620\n",
      "\n",
      "\t[0.379] R34: 0.748 < roam_Mean < 2.980\n",
      "\t\t\t0: 0.000\t1: 0.379\tUnc: 0.621\n",
      "\n",
      "\t[0.379] R240: 243.738 < avgqty < 426.937\n",
      "\t\t\t0: 0.000\t1: 0.379\tUnc: 0.621\n",
      "\n",
      "\t[0.373] R139: mouiwylisv_Mean > 51.143\n",
      "\t\t\t0: 0.000\t1: 0.373\tUnc: 0.627\n",
      "\n",
      "\t[0.367] R91: comp_dat_Mean > 5.871\n",
      "\t\t\t0: 0.000\t1: 0.367\tUnc: 0.633\n",
      "\n",
      "\t[0.364] R264: 68.306 < avg6rev < 102.254\n",
      "\t\t\t0: 0.000\t1: 0.364\tUnc: 0.636\n",
      "\n",
      "\t[0.354] R47: drop_vce_Mean > 11.760\n",
      "\t\t\t0: 0.000\t1: 0.354\tUnc: 0.646\n",
      "\n",
      "\t[0.351] R94: 0.864 < custcare_Mean < 2.540\n",
      "\t\t\t0: 0.000\t1: 0.351\tUnc: 0.649\n",
      "\n",
      "\t[0.333] R195: months > 50.329\n",
      "\t\t\t0: 0.000\t1: 0.333\tUnc: 0.667\n",
      "\n",
      "\t[0.324] R162: 0.152 < opk_dat_Mean < 1.226\n",
      "\t\t\t0: 0.000\t1: 0.324\tUnc: 0.676\n",
      "\n",
      "\t[0.300] R86: 130.975 < comp_vce_Mean < 232.525\n",
      "\t\t\t0: 0.000\t1: 0.300\tUnc: 0.700\n",
      "\n",
      "\t[0.300] R164: mou_opkv_Mean < 3.518\n",
      "\t\t\t0: 0.000\t1: 0.300\tUnc: 0.700\n",
      "\n",
      "\t[0.295] R225: adjmou > 43788.607\n",
      "\t\t\t0: 0.000\t1: 0.295\tUnc: 0.705\n",
      "\n",
      "\t[0.288] R111: threeway_Mean > 0.654\n",
      "\t\t\t0: 0.000\t1: 0.288\tUnc: 0.712\n",
      "\n",
      "\t[0.285] R150: 269.735 < mou_peav_Mean < 507.234\n",
      "\t\t\t0: 0.000\t1: 0.285\tUnc: 0.715\n",
      "\n",
      "\t[0.284] R233: avgrev > 91.743\n",
      "\t\t\t0: 0.000\t1: 0.284\tUnc: 0.716\n",
      "\n",
      "\t[0.275] R248: 244.980 < avg3qty < 441.924\n",
      "\t\t\t0: 0.000\t1: 0.275\tUnc: 0.725\n",
      "\n",
      "\t[0.275] R99: ccrndmou_Mean > 7.916\n",
      "\t\t\t0: 0.000\t1: 0.275\tUnc: 0.725\n",
      "\n",
      "\t[0.271] R8: totmrc_Mean < 29.970\n",
      "\t\t\t0: 0.000\t1: 0.271\tUnc: 0.729\n",
      "\n",
      "\t[0.269] R159: opk_vce_Mean > 103.391\n",
      "\t\t\t0: 0.000\t1: 0.269\tUnc: 0.731\n",
      "\n",
      "\t[0.266] R213: totmou > 44102.022\n",
      "\t\t\t0: 0.000\t1: 0.266\tUnc: 0.734\n",
      "\n",
      "\t[0.265] R277: models > 4.016\n",
      "\t\t\t0: 0.000\t1: 0.265\tUnc: 0.735\n",
      "\n",
      "\t[0.263] R250: avg3rev < 32.522\n",
      "\t\t\t0: 0.000\t1: 0.263\tUnc: 0.737\n",
      "\n",
      "\t[0.260] R236: 556.576 < avgmou < 943.238\n",
      "\t\t\t0: 0.000\t1: 0.260\tUnc: 0.740\n",
      "\n",
      "\t[0.259] R242: avg3mou < 139.821\n",
      "\t\t\t0: 0.000\t1: 0.259\tUnc: 0.741\n",
      "\n",
      "\t[0.254] R294: 6.151 < income < 7.567\n",
      "\t\t\t0: 0.000\t1: 0.254\tUnc: 0.746\n",
      "\n",
      "\t[0.253] R274: models < 1.771\n",
      "\t\t\t0: 0.000\t1: 0.253\tUnc: 0.747\n",
      "\n",
      "\t[0.252] R121: 1.352 < mou_rvce_Mean < 146.851\n",
      "\t\t\t0: 0.000\t1: 0.252\tUnc: 0.748\n",
      "\n",
      "\t[0.245] R176: attempt_Mean < 40.457\n",
      "\t\t\t0: 0.000\t1: 0.245\tUnc: 0.755\n",
      "\n",
      "\t[0.245] R76: recv_vce_Mean < 0.622\n",
      "\t\t\t0: 0.000\t1: 0.245\tUnc: 0.755\n",
      "\n",
      "\t[0.235] R5: 137.502 < mou_Mean < 588.828\n",
      "\t\t\t0: 0.000\t1: 0.235\tUnc: 0.765\n",
      "\n",
      "\t[0.234] R3: rev_Mean > 101.937\n",
      "\t\t\t0: 0.000\t1: 0.234\tUnc: 0.766\n",
      "\n",
      "\t[0.226] R299: 280.188 < eqpdays < 600.208\n",
      "\t\t\t0: 0.000\t1: 0.226\tUnc: 0.774\n",
      "\n",
      "\t[0.223] R46: 5.978 < drop_vce_Mean < 11.760\n",
      "\t\t\t0: 0.000\t1: 0.223\tUnc: 0.777\n",
      "\n",
      "\t[0.220] R179: attempt_Mean > 295.969\n",
      "\t\t\t0: 0.011\t1: 0.214\tUnc: 0.775\n",
      "\n",
      "\t[0.217] R212: 25519.534 < totmou < 44102.022\n",
      "\t\t\t0: 0.000\t1: 0.217\tUnc: 0.783\n",
      "\n",
      "\t[0.216] R31: datovr_Mean > 0.923\n",
      "\t\t\t0: 0.000\t1: 0.216\tUnc: 0.784\n",
      "\n",
      "\t[0.215] R297: forgntvl = 1.0\n",
      "\t\t\t0: 0.000\t1: 0.215\tUnc: 0.785\n",
      "\n",
      "\t[0.215] R30: 0.145 < datovr_Mean < 0.923\n",
      "\t\t\t0: 0.000\t1: 0.215\tUnc: 0.785\n",
      "\n",
      "\t[0.213] R50: 0.050 < drop_dat_Mean < 0.732\n",
      "\t\t\t0: 0.000\t1: 0.213\tUnc: 0.787\n",
      "\n",
      "\t[0.210] R4: mou_Mean < 137.502\n",
      "\t\t\t0: 0.000\t1: 0.210\tUnc: 0.790\n",
      "\n",
      "\t[0.209] R14: 1.321 < da_Mean < 3.637\n",
      "\t\t\t0: 0.000\t1: 0.209\tUnc: 0.791\n",
      "\n",
      "\t[0.208] R87: comp_vce_Mean > 232.525\n",
      "\t\t\t0: 0.000\t1: 0.208\tUnc: 0.792\n",
      "\n",
      "\t[0.208] R191: callwait_Mean > 9.068\n",
      "\t\t\t0: 0.000\t1: 0.208\tUnc: 0.792\n",
      "\n",
      "\t[0.203] R224: 25312.606 < adjmou < 43788.607\n",
      "\t\t\t0: 0.025\t1: 0.191\tUnc: 0.784\n",
      "\n",
      "\t[0.202] R209: totcalls > 20044.306\n",
      "\t\t\t0: 0.011\t1: 0.197\tUnc: 0.793\n",
      "\n",
      "\t[0.202] R247: 48.036 < avg3qty < 244.980\n",
      "\t\t\t0: 0.000\t1: 0.202\tUnc: 0.798\n"
     ]
    },
    {
     "name": "stderr",
     "output_type": "stream",
     "text": [
      "24-04-27 20:04:29 [INFO] Step 6: Inference done\n",
      "24-04-27 20:04:29 [DEBUG] Training Time: 61.70s\n",
      "24-04-27 20:04:29 [DEBUG] Epochs: 127\n",
      "24-04-27 20:04:29 [DEBUG] Min Loss: 0.185\n"
     ]
    },
    {
     "data": {
      "image/png": "[encoded data removed]",
      "text/plain": [
       "<Figure size 640x480 with 1 Axes>"
      ]
     },
     "metadata": {},
     "output_type": "display_data"
    },
    {
     "name": "stderr",
     "output_type": "stream",
     "text": [
      "24-04-27 20:04:29 [DEBUG] Accuracy:  0.61\n",
      "24-04-27 20:04:29 [DEBUG] F1 Score: 0.59\n",
      "24-04-27 20:04:29 [DEBUG] Confusion Matrix: \n",
      "[[150  96]\n",
      " [ 85 132]]\n",
      "24-04-27 20:04:29 [INFO] ------------------------------\n"
     ]
    }
   ],
   "source": [
    "num_breaks = 3\n",
    "mult_rules = False\n",
    "debug_mode = True\n",
    "print_final_model = True\n",
    "num_workers = 0\n",
    "\n",
    "RULE_FOLDER = \"rules_saved_clean\"\n",
    "\n",
    "ignore_for_training = [\"labels_clustering\", \"distance_norm\"]\n",
    "df_cols = [i for i in list(data.columns) if i not in ignore_for_training]\n",
    "\n",
    "rows_use = None\n",
    "if rows_use:\n",
    "    train_data_df_use = train_data_df.head(rows_use)\n",
    "    X_train_use = X_train[:rows_use]\n",
    "    y_train_use = y_train[:rows_use]\n",
    "else:\n",
    "    train_data_df_use = train_data_df\n",
    "    X_train_use = X_train\n",
    "    y_train_use = y_train\n",
    "logger.debug(f\"Train: {len(X_train_use)}\")\n",
    "for method in [\"clustering\", \"random\"]:\n",
    "    name = f\"dataset={dataset_name}, clust={CLUSTERING_ALG} breaks={num_breaks}, add_mult_rules={mult_rules}, maf_method={method}\"\n",
    "    logger.info(f\"Step 5: Run DST ({name})\")\n",
    "    DSC = DSClassifierMultiQ(2, debug_mode=debug_mode, num_workers=num_workers, maf_method=method,\n",
    "                            data=train_data_df_use, precompute_rules=True, )#.head(rows_use))\n",
    "    logger.debug(f\"\\tModel init done\")    \n",
    "    res = DSC.fit(X_train_use, y_train_use, \n",
    "            add_single_rules=True, single_rules_breaks=num_breaks, add_mult_rules=mult_rules,\n",
    "            column_names=df_cols, print_every_epochs=1, print_final_model=print_final_model)\n",
    "    losses, epoch, dt = res\n",
    "    logger.debug(f\"\\tModel fit done\")\n",
    "\n",
    "    DSC.model.save_rules_bin(os.path.join(RULE_FOLDER, f\"{name}.dsb\"))\n",
    "#     most_important_rules = DSC.model.find_most_important_rules()\n",
    "#     print(most_important_rules)\n",
    "    DSC.model.print_most_important_rules()\n",
    "    y_pred = DSC.predict(X_test)\n",
    "\n",
    "    logger.info(f\"Step 6: Inference done\")\n",
    "\n",
    "    report_results(y_test, y_pred, dataset=dataset_name, method=method,\n",
    "                epoch=epoch, dt=dt, losses=losses, \n",
    "                save_results=True, name=name, print_results=True,\n",
    "                breaks=num_breaks, mult_rules=mult_rules, )\n",
    "    \n",
    "    logging.info(\"-\"*30)\n",
    "    \n",
    "    "
   ]
  },
  {
   "cell_type": "code",
   "execution_count": null,
   "metadata": {},
   "outputs": [
    {
     "name": "stderr",
     "output_type": "stream",
     "text": [
      "24-04-27 19:58:28 [DEBUG] Number of data points left after filtering: 262\n",
      "24-04-27 19:58:28 [DEBUG] Number of clusters left after filtering: 2\n",
      "24-04-27 19:58:28 [DEBUG] Most common cluster: 1\n",
      "24-04-27 19:58:28 [DEBUG] Data points belong to different clusters\n",
      "24-04-27 19:58:28 [DEBUG] Confidence: 0.21651189312479646\n",
      "24-04-27 19:58:28 [DEBUG] Confidence after lowering based on proportion: 0.5364860436425323\n"
     ]
    },
    {
     "data": {
      "text/plain": [
       "(0.2317569781787339, 0.5364860436425323, 0.2317569781787339)"
      ]
     },
     "execution_count": 51,
     "metadata": {},
     "output_type": "execute_result"
    }
   ],
   "source": [
    "filter_by_rule(train_data_df_use, lambda x: x[\"rev_Mean\"] < 32.278, print_results=True)"
   ]
  },
  {
   "cell_type": "code",
   "execution_count": null,
   "metadata": {},
   "outputs": [
    {
     "ename": "AttributeError",
     "evalue": "'Axes' object has no attribute 'isna'",
     "output_type": "error",
     "traceback": [
      "\u001b[1;31m---------------------------------------------------------------------------\u001b[0m",
      "\u001b[1;31mAttributeError\u001b[0m                            Traceback (most recent call last)",
      "Cell \u001b[1;32mIn[45], line 1\u001b[0m\n\u001b[1;32m----> 1\u001b[0m \u001b[43mtrain_data_df_use\u001b[49m\u001b[38;5;241;43m.\u001b[39;49m\u001b[43mquery\u001b[49m\u001b[43m(\u001b[49m\u001b[38;5;124;43m\"\u001b[39;49m\u001b[38;5;124;43mrev_Mean < 32.278\u001b[39;49m\u001b[38;5;124;43m\"\u001b[39;49m\u001b[43m)\u001b[49m\u001b[38;5;241;43m.\u001b[39;49m\u001b[43mdistance_norm\u001b[49m\u001b[38;5;241;43m.\u001b[39;49m\u001b[43mplot\u001b[49m\u001b[43m(\u001b[49m\u001b[43m)\u001b[49m\u001b[38;5;241;43m.\u001b[39;49m\u001b[43misna\u001b[49m()\u001b[38;5;241m.\u001b[39msum()\n",
      "\u001b[1;31mAttributeError\u001b[0m: 'Axes' object has no attribute 'isna'"
     ]
    },
    {
     "data": {
      "image/png": "[encoded data removed]",
      "text/plain": [
       "<Figure size 640x480 with 1 Axes>"
      ]
     },
     "metadata": {},
     "output_type": "display_data"
    }
   ],
   "source": [
    "train_data_df_use.query(\"rev_Mean < 32.278\").distance_norm.plot().isna().sum()"
   ]
  },
  {
   "cell_type": "code",
   "execution_count": null,
   "metadata": {},
   "outputs": [
    {
     "data": {
      "text/html": [
       "<div>\n",
       "<style scoped>\n",
       "    .dataframe tbody tr th:only-of-type {\n",
       "        vertical-align: middle;\n",
       "    }\n",
       "\n",
       "    .dataframe tbody tr th {\n",
       "        vertical-align: top;\n",
       "    }\n",
       "\n",
       "    .dataframe thead th {\n",
       "        text-align: right;\n",
       "    }\n",
       "</style>\n",
       "<table border=\"1\" class=\"dataframe\">\n",
       "  <thead>\n",
       "    <tr style=\"text-align: right;\">\n",
       "      <th></th>\n",
       "      <th>name</th>\n",
       "      <th>accuracy</th>\n",
       "      <th>f1</th>\n",
       "      <th>confusion_matrix</th>\n",
       "      <th>training_time</th>\n",
       "      <th>epochs</th>\n",
       "      <th>min_loss</th>\n",
       "      <th>datetime</th>\n",
       "      <th>MAF method</th>\n",
       "      <th>dataset</th>\n",
       "      <th>breaks</th>\n",
       "      <th>mult_rules</th>\n",
       "    </tr>\n",
       "  </thead>\n",
       "  <tbody>\n",
       "    <tr>\n",
       "      <th>84</th>\n",
       "      <td>dataset=Brain Tumor, breaks=3, add_mult_rules=...</td>\n",
       "      <td>0.975199</td>\n",
       "      <td>0.970833</td>\n",
       "      <td>[[635   9]\\n [ 19 466]]</td>\n",
       "      <td>288.094734</td>\n",
       "      <td>69</td>\n",
       "      <td>0.033078</td>\n",
       "      <td>26-04-2024 21:24:14</td>\n",
       "      <td>kmeans</td>\n",
       "      <td>Brain Tumor</td>\n",
       "      <td>3.0</td>\n",
       "      <td>False</td>\n",
       "    </tr>\n",
       "    <tr>\n",
       "      <th>85</th>\n",
       "      <td>dataset=Brain Tumor, breaks=3, add_mult_rules=...</td>\n",
       "      <td>0.982285</td>\n",
       "      <td>0.979339</td>\n",
       "      <td>[[635   9]\\n [ 11 474]]</td>\n",
       "      <td>394.811531</td>\n",
       "      <td>137</td>\n",
       "      <td>0.026403</td>\n",
       "      <td>26-04-2024 21:30:50</td>\n",
       "      <td>random</td>\n",
       "      <td>Brain Tumor</td>\n",
       "      <td>3.0</td>\n",
       "      <td>False</td>\n",
       "    </tr>\n",
       "  </tbody>\n",
       "</table>\n",
       "</div>"
      ],
      "text/plain": [
       "                                                 name  accuracy        f1  \\\n",
       "84  dataset=Brain Tumor, breaks=3, add_mult_rules=...  0.975199  0.970833   \n",
       "85  dataset=Brain Tumor, breaks=3, add_mult_rules=...  0.982285  0.979339   \n",
       "\n",
       "           confusion_matrix  training_time  epochs  min_loss  \\\n",
       "84  [[635   9]\\n [ 19 466]]     288.094734      69  0.033078   \n",
       "85  [[635   9]\\n [ 11 474]]     394.811531     137  0.026403   \n",
       "\n",
       "               datetime MAF method      dataset  breaks mult_rules  \n",
       "84  26-04-2024 21:24:14     kmeans  Brain Tumor     3.0      False  \n",
       "85  26-04-2024 21:30:50     random  Brain Tumor     3.0      False  "
      ]
     },
     "execution_count": 33,
     "metadata": {},
     "output_type": "execute_result"
    }
   ],
   "source": [
    "experiments = pd.read_csv(\"experiments.csv\")\n",
    "\n",
    "experiments.tail(2)"
   ]
  },
  {
   "cell_type": "markdown",
   "metadata": {},
   "source": [
    "## Rules"
   ]
  },
  {
   "cell_type": "code",
   "execution_count": 34,
   "metadata": {},
   "outputs": [
    {
     "name": "stderr",
     "output_type": "stream",
     "text": [
      "24-04-26 21:41:45 [INFO] Found 4 rules\n"
     ]
    }
   ],
   "source": [
    "RULE_FOLDER = \"rules_saved_clean\"\n",
    "\n",
    "assert os.path.exists(RULE_FOLDER), f\"Folder {RULE_FOLDER} does not exist\"\n",
    "\n",
    "rules = os.listdir(RULE_FOLDER)\n",
    "logging.info(f\"Found {len(rules)} rules\")"
   ]
  },
  {
   "cell_type": "code",
   "execution_count": 35,
   "metadata": {},
   "outputs": [],
   "source": [
    "def get_pairs(rules):\n",
    "    pairs = []\n",
    "    for rule1 in rules:\n",
    "        if 'maf_method' in rule1:\n",
    "            for rule2 in rules:\n",
    "                if rule1 == rule2 or (rule2, rule1) in pairs:\n",
    "                    continue\n",
    "                if rule2.startswith(rule1.split('maf_method')[0]):\n",
    "                    pairs.append((rule1, rule2))\n",
    "    return pairs"
   ]
  },
  {
   "cell_type": "code",
   "execution_count": 36,
   "metadata": {},
   "outputs": [],
   "source": [
    "def extract_res(rules_info):\n",
    "    rules = rules_info[\"preds\"]\n",
    "    mafs = rules_info[\"masses\"]\n",
    "    \n",
    "    rule_names = [str(i) for i in rules]\n",
    "    mass_first = [float(i[0]) for i in mafs]\n",
    "    mass_second = [float(i[1]) for i in mafs]\n",
    "    uncertainty = [float(i[2]) for i in mafs]\n",
    "    \n",
    "    res = {\"rule\": rule_names, \"mass_first\": mass_first, \"mass_second\": mass_second, \"uncertainty\": uncertainty}\n",
    "    return res"
   ]
  },
  {
   "cell_type": "code",
   "execution_count": 39,
   "metadata": {},
   "outputs": [
    {
     "name": "stdout",
     "output_type": "stream",
     "text": [
      "Num rules 49\n"
     ]
    },
    {
     "data": {
      "application/vnd.plotly.v1+json": {
       "config": {
        "plotlyServerURL": "https://plot.ly"
       },
       "data": [
        {
         "alignmentgroup": "True",
         "hovertemplate": "variable=uncertainty_kmeans<br>rule=%{x}<br>value=%{y}<extra></extra>",
         "legendgroup": "uncertainty_kmeans",
         "marker": {
          "color": "#636efa",
          "pattern": {
           "shape": ""
          }
         },
         "name": "uncertainty_kmeans",
         "offsetgroup": "uncertainty_kmeans",
         "orientation": "v",
         "showlegend": true,
         "textposition": "auto",
         "type": "bar",
         "x": [
          "Mean < 5.696",
          "5.696 < Mean < 9.586",
          "9.586 < Mean < 13.475",
          "Mean > 13.475",
          "Variance < 400.038",
          "400.038 < Variance < 718.473",
          "718.473 < Variance < 1036.907",
          "Variance > 1036.907",
          "Standard Deviation < 19.398",
          "19.398 < Standard Deviation < 25.324",
          "25.324 < Standard Deviation < 31.249",
          "Standard Deviation > 31.249",
          "Entropy < 0.026",
          "0.026 < Entropy < 0.073",
          "0.073 < Entropy < 0.121",
          "Entropy > 0.121",
          "Skewness < 2.339",
          "2.339 < Skewness < 4.097",
          "4.097 < Skewness < 5.854",
          "Skewness > 5.854",
          "Kurtosis < -15.863",
          "-15.863 < Kurtosis < 24.581",
          "24.581 < Kurtosis < 65.024",
          "Kurtosis > 65.024",
          "Contrast < 48.638",
          "48.638 < Contrast < 130.232",
          "130.232 < Contrast < 211.826",
          "Contrast > 211.826",
          "Energy < 0.117",
          "0.117 < Energy < 0.204",
          "0.204 < Energy < 0.292",
          "Energy > 0.292",
          "ASM < 0.019",
          "0.019 < ASM < 0.058",
          "0.058 < ASM < 0.098",
          "ASM > 0.098",
          "Homogeneity < 0.393",
          "0.393 < Homogeneity < 0.479",
          "0.479 < Homogeneity < 0.565",
          "Homogeneity > 0.565",
          "Dissimilarity < 3.433",
          "3.433 < Dissimilarity < 4.715",
          "4.715 < Dissimilarity < 5.998",
          "Dissimilarity > 5.998",
          "Correlation < 0.938",
          "0.938 < Correlation < 0.956",
          "0.956 < Correlation < 0.973",
          "Correlation > 0.973",
          "Coarseness = 7.46e-155"
         ],
         "xaxis": "x",
         "y": [
          0.35902997851371765,
          0.35371121764183044,
          0.3535148501396179,
          0.11403286457061768,
          0.3457629680633545,
          0.3541017472743988,
          0.3604022264480591,
          0.2799464166164398,
          0.34427714347839355,
          0.34599995613098145,
          0.348989874124527,
          0.28305062651634216,
          0,
          0.3324712812900543,
          0.35169321298599243,
          0.3505061864852905,
          0.33938390016555786,
          0.35123229026794434,
          0.33636975288391113,
          0.4258043169975281,
          1,
          0.347834974527359,
          0.3294721245765686,
          0.4534047842025757,
          0.3463470935821533,
          0.35546401143074036,
          0.06974294036626816,
          0.37804511189460754,
          0,
          0.005702354945242405,
          0.34720757603645325,
          0.35158050060272217,
          0,
          0.34333884716033936,
          0.35206687450408936,
          0.35029923915863037,
          0,
          0.3261181712150574,
          0.3464929163455963,
          0.35131359100341797,
          0.35332244634628296,
          0.345443993806839,
          0.2959885597229004,
          0.35773390531539917,
          0.3500620722770691,
          0.3491513729095459,
          0.34621527791023254,
          0.34674593806266785,
          0.14425958693027496
         ],
         "yaxis": "y"
        },
        {
         "alignmentgroup": "True",
         "hovertemplate": "variable=uncertainty_random<br>rule=%{x}<br>value=%{y}<extra></extra>",
         "legendgroup": "uncertainty_random",
         "marker": {
          "color": "#EF553B",
          "pattern": {
           "shape": ""
          }
         },
         "name": "uncertainty_random",
         "offsetgroup": "uncertainty_random",
         "orientation": "v",
         "showlegend": true,
         "textposition": "auto",
         "type": "bar",
         "x": [
          "Mean < 5.696",
          "5.696 < Mean < 9.586",
          "9.586 < Mean < 13.475",
          "Mean > 13.475",
          "Variance < 400.038",
          "400.038 < Variance < 718.473",
          "718.473 < Variance < 1036.907",
          "Variance > 1036.907",
          "Standard Deviation < 19.398",
          "19.398 < Standard Deviation < 25.324",
          "25.324 < Standard Deviation < 31.249",
          "Standard Deviation > 31.249",
          "Entropy < 0.026",
          "0.026 < Entropy < 0.073",
          "0.073 < Entropy < 0.121",
          "Entropy > 0.121",
          "Skewness < 2.339",
          "2.339 < Skewness < 4.097",
          "4.097 < Skewness < 5.854",
          "Skewness > 5.854",
          "Kurtosis < -15.863",
          "-15.863 < Kurtosis < 24.581",
          "24.581 < Kurtosis < 65.024",
          "Kurtosis > 65.024",
          "Contrast < 48.638",
          "48.638 < Contrast < 130.232",
          "130.232 < Contrast < 211.826",
          "Contrast > 211.826",
          "Energy < 0.117",
          "0.117 < Energy < 0.204",
          "0.204 < Energy < 0.292",
          "Energy > 0.292",
          "ASM < 0.019",
          "0.019 < ASM < 0.058",
          "0.058 < ASM < 0.098",
          "ASM > 0.098",
          "Homogeneity < 0.393",
          "0.393 < Homogeneity < 0.479",
          "0.479 < Homogeneity < 0.565",
          "Homogeneity > 0.565",
          "Dissimilarity < 3.433",
          "3.433 < Dissimilarity < 4.715",
          "4.715 < Dissimilarity < 5.998",
          "Dissimilarity > 5.998",
          "Correlation < 0.938",
          "0.938 < Correlation < 0.956",
          "0.956 < Correlation < 0.973",
          "Correlation > 0.973",
          "Coarseness = 7.46e-155"
         ],
         "xaxis": "x",
         "y": [
          0.7004663944244385,
          0.7215700149536133,
          0.8118210434913635,
          0.6799001693725586,
          0.7106898427009583,
          0.8045098781585693,
          0.8136598467826843,
          0.6930350661277771,
          0.7120225429534912,
          0.7042485475540161,
          0.8125894069671631,
          0.6611723303794861,
          0.6253372430801392,
          0.7604109048843384,
          0.5237234830856323,
          0.5451507568359375,
          0.47775939106941223,
          0.8335415124893188,
          0.7236005663871765,
          0.6846064925193787,
          0.800000011920929,
          0.6965020298957825,
          0.6886522769927979,
          0.5391080379486084,
          0.7197531461715698,
          0.8074196577072144,
          0.821923553943634,
          0.7970395088195801,
          0.6495963931083679,
          0.46669209003448486,
          0.537104606628418,
          0.6021444797515869,
          0.6667618155479431,
          0.8138716816902161,
          0.6922138333320618,
          0.6731656789779663,
          0.6312034130096436,
          0.5079805850982666,
          0.6637513637542725,
          0.5779818892478943,
          0.7400628924369812,
          0.7751337289810181,
          0.7741119265556335,
          0.6744024157524109,
          0.8267221450805664,
          0.8275570273399353,
          0.677071750164032,
          0.8113342523574829,
          0.800000011920929
         ],
         "yaxis": "y"
        }
       ],
       "layout": {
        "barmode": "group",
        "legend": {
         "title": {
          "text": "variable"
         },
         "tracegroupgap": 0
        },
        "template": {
         "data": {
          "bar": [
           {
            "error_x": {
             "color": "#2a3f5f"
            },
            "error_y": {
             "color": "#2a3f5f"
            },
            "marker": {
             "line": {
              "color": "#E5ECF6",
              "width": 0.5
             },
             "pattern": {
              "fillmode": "overlay",
              "size": 10,
              "solidity": 0.2
             }
            },
            "type": "bar"
           }
          ],
          "barpolar": [
           {
            "marker": {
             "line": {
              "color": "#E5ECF6",
              "width": 0.5
             },
             "pattern": {
              "fillmode": "overlay",
              "size": 10,
              "solidity": 0.2
             }
            },
            "type": "barpolar"
           }
          ],
          "carpet": [
           {
            "aaxis": {
             "endlinecolor": "#2a3f5f",
             "gridcolor": "white",
             "linecolor": "white",
             "minorgridcolor": "white",
             "startlinecolor": "#2a3f5f"
            },
            "baxis": {
             "endlinecolor": "#2a3f5f",
             "gridcolor": "white",
             "linecolor": "white",
             "minorgridcolor": "white",
             "startlinecolor": "#2a3f5f"
            },
            "type": "carpet"
           }
          ],
          "choropleth": [
           {
            "colorbar": {
             "outlinewidth": 0,
             "ticks": ""
            },
            "type": "choropleth"
           }
          ],
          "contour": [
           {
            "colorbar": {
             "outlinewidth": 0,
             "ticks": ""
            },
            "colorscale": [
             [
              0,
              "#0d0887"
             ],
             [
              0.1111111111111111,
              "#46039f"
             ],
             [
              0.2222222222222222,
              "#7201a8"
             ],
             [
              0.3333333333333333,
              "#9c179e"
             ],
             [
              0.4444444444444444,
              "#bd3786"
             ],
             [
              0.5555555555555556,
              "#d8576b"
             ],
             [
              0.6666666666666666,
              "#ed7953"
             ],
             [
              0.7777777777777778,
              "#fb9f3a"
             ],
             [
              0.8888888888888888,
              "#fdca26"
             ],
             [
              1,
              "#f0f921"
             ]
            ],
            "type": "contour"
           }
          ],
          "contourcarpet": [
           {
            "colorbar": {
             "outlinewidth": 0,
             "ticks": ""
            },
            "type": "contourcarpet"
           }
          ],
          "heatmap": [
           {
            "colorbar": {
             "outlinewidth": 0,
             "ticks": ""
            },
            "colorscale": [
             [
              0,
              "#0d0887"
             ],
             [
              0.1111111111111111,
              "#46039f"
             ],
             [
              0.2222222222222222,
              "#7201a8"
             ],
             [
              0.3333333333333333,
              "#9c179e"
             ],
             [
              0.4444444444444444,
              "#bd3786"
             ],
             [
              0.5555555555555556,
              "#d8576b"
             ],
             [
              0.6666666666666666,
              "#ed7953"
             ],
             [
              0.7777777777777778,
              "#fb9f3a"
             ],
             [
              0.8888888888888888,
              "#fdca26"
             ],
             [
              1,
              "#f0f921"
             ]
            ],
            "type": "heatmap"
           }
          ],
          "heatmapgl": [
           {
            "colorbar": {
             "outlinewidth": 0,
             "ticks": ""
            },
            "colorscale": [
             [
              0,
              "#0d0887"
             ],
             [
              0.1111111111111111,
              "#46039f"
             ],
             [
              0.2222222222222222,
              "#7201a8"
             ],
             [
              0.3333333333333333,
              "#9c179e"
             ],
             [
              0.4444444444444444,
              "#bd3786"
             ],
             [
              0.5555555555555556,
              "#d8576b"
             ],
             [
              0.6666666666666666,
              "#ed7953"
             ],
             [
              0.7777777777777778,
              "#fb9f3a"
             ],
             [
              0.8888888888888888,
              "#fdca26"
             ],
             [
              1,
              "#f0f921"
             ]
            ],
            "type": "heatmapgl"
           }
          ],
          "histogram": [
           {
            "marker": {
             "pattern": {
              "fillmode": "overlay",
              "size": 10,
              "solidity": 0.2
             }
            },
            "type": "histogram"
           }
          ],
          "histogram2d": [
           {
            "colorbar": {
             "outlinewidth": 0,
             "ticks": ""
            },
            "colorscale": [
             [
              0,
              "#0d0887"
             ],
             [
              0.1111111111111111,
              "#46039f"
             ],
             [
              0.2222222222222222,
              "#7201a8"
             ],
             [
              0.3333333333333333,
              "#9c179e"
             ],
             [
              0.4444444444444444,
              "#bd3786"
             ],
             [
              0.5555555555555556,
              "#d8576b"
             ],
             [
              0.6666666666666666,
              "#ed7953"
             ],
             [
              0.7777777777777778,
              "#fb9f3a"
             ],
             [
              0.8888888888888888,
              "#fdca26"
             ],
             [
              1,
              "#f0f921"
             ]
            ],
            "type": "histogram2d"
           }
          ],
          "histogram2dcontour": [
           {
            "colorbar": {
             "outlinewidth": 0,
             "ticks": ""
            },
            "colorscale": [
             [
              0,
              "#0d0887"
             ],
             [
              0.1111111111111111,
              "#46039f"
             ],
             [
              0.2222222222222222,
              "#7201a8"
             ],
             [
              0.3333333333333333,
              "#9c179e"
             ],
             [
              0.4444444444444444,
              "#bd3786"
             ],
             [
              0.5555555555555556,
              "#d8576b"
             ],
             [
              0.6666666666666666,
              "#ed7953"
             ],
             [
              0.7777777777777778,
              "#fb9f3a"
             ],
             [
              0.8888888888888888,
              "#fdca26"
             ],
             [
              1,
              "#f0f921"
             ]
            ],
            "type": "histogram2dcontour"
           }
          ],
          "mesh3d": [
           {
            "colorbar": {
             "outlinewidth": 0,
             "ticks": ""
            },
            "type": "mesh3d"
           }
          ],
          "parcoords": [
           {
            "line": {
             "colorbar": {
              "outlinewidth": 0,
              "ticks": ""
             }
            },
            "type": "parcoords"
           }
          ],
          "pie": [
           {
            "automargin": true,
            "type": "pie"
           }
          ],
          "scatter": [
           {
            "fillpattern": {
             "fillmode": "overlay",
             "size": 10,
             "solidity": 0.2
            },
            "type": "scatter"
           }
          ],
          "scatter3d": [
           {
            "line": {
             "colorbar": {
              "outlinewidth": 0,
              "ticks": ""
             }
            },
            "marker": {
             "colorbar": {
              "outlinewidth": 0,
              "ticks": ""
             }
            },
            "type": "scatter3d"
           }
          ],
          "scattercarpet": [
           {
            "marker": {
             "colorbar": {
              "outlinewidth": 0,
              "ticks": ""
             }
            },
            "type": "scattercarpet"
           }
          ],
          "scattergeo": [
           {
            "marker": {
             "colorbar": {
              "outlinewidth": 0,
              "ticks": ""
             }
            },
            "type": "scattergeo"
           }
          ],
          "scattergl": [
           {
            "marker": {
             "colorbar": {
              "outlinewidth": 0,
              "ticks": ""
             }
            },
            "type": "scattergl"
           }
          ],
          "scattermapbox": [
           {
            "marker": {
             "colorbar": {
              "outlinewidth": 0,
              "ticks": ""
             }
            },
            "type": "scattermapbox"
           }
          ],
          "scatterpolar": [
           {
            "marker": {
             "colorbar": {
              "outlinewidth": 0,
              "ticks": ""
             }
            },
            "type": "scatterpolar"
           }
          ],
          "scatterpolargl": [
           {
            "marker": {
             "colorbar": {
              "outlinewidth": 0,
              "ticks": ""
             }
            },
            "type": "scatterpolargl"
           }
          ],
          "scatterternary": [
           {
            "marker": {
             "colorbar": {
              "outlinewidth": 0,
              "ticks": ""
             }
            },
            "type": "scatterternary"
           }
          ],
          "surface": [
           {
            "colorbar": {
             "outlinewidth": 0,
             "ticks": ""
            },
            "colorscale": [
             [
              0,
              "#0d0887"
             ],
             [
              0.1111111111111111,
              "#46039f"
             ],
             [
              0.2222222222222222,
              "#7201a8"
             ],
             [
              0.3333333333333333,
              "#9c179e"
             ],
             [
              0.4444444444444444,
              "#bd3786"
             ],
             [
              0.5555555555555556,
              "#d8576b"
             ],
             [
              0.6666666666666666,
              "#ed7953"
             ],
             [
              0.7777777777777778,
              "#fb9f3a"
             ],
             [
              0.8888888888888888,
              "#fdca26"
             ],
             [
              1,
              "#f0f921"
             ]
            ],
            "type": "surface"
           }
          ],
          "table": [
           {
            "cells": {
             "fill": {
              "color": "#EBF0F8"
             },
             "line": {
              "color": "white"
             }
            },
            "header": {
             "fill": {
              "color": "#C8D4E3"
             },
             "line": {
              "color": "white"
             }
            },
            "type": "table"
           }
          ]
         },
         "layout": {
          "annotationdefaults": {
           "arrowcolor": "#2a3f5f",
           "arrowhead": 0,
           "arrowwidth": 1
          },
          "autotypenumbers": "strict",
          "coloraxis": {
           "colorbar": {
            "outlinewidth": 0,
            "ticks": ""
           }
          },
          "colorscale": {
           "diverging": [
            [
             0,
             "#8e0152"
            ],
            [
             0.1,
             "#c51b7d"
            ],
            [
             0.2,
             "#de77ae"
            ],
            [
             0.3,
             "#f1b6da"
            ],
            [
             0.4,
             "#fde0ef"
            ],
            [
             0.5,
             "#f7f7f7"
            ],
            [
             0.6,
             "#e6f5d0"
            ],
            [
             0.7,
             "#b8e186"
            ],
            [
             0.8,
             "#7fbc41"
            ],
            [
             0.9,
             "#4d9221"
            ],
            [
             1,
             "#276419"
            ]
           ],
           "sequential": [
            [
             0,
             "#0d0887"
            ],
            [
             0.1111111111111111,
             "#46039f"
            ],
            [
             0.2222222222222222,
             "#7201a8"
            ],
            [
             0.3333333333333333,
             "#9c179e"
            ],
            [
             0.4444444444444444,
             "#bd3786"
            ],
            [
             0.5555555555555556,
             "#d8576b"
            ],
            [
             0.6666666666666666,
             "#ed7953"
            ],
            [
             0.7777777777777778,
             "#fb9f3a"
            ],
            [
             0.8888888888888888,
             "#fdca26"
            ],
            [
             1,
             "#f0f921"
            ]
           ],
           "sequentialminus": [
            [
             0,
             "#0d0887"
            ],
            [
             0.1111111111111111,
             "#46039f"
            ],
            [
             0.2222222222222222,
             "#7201a8"
            ],
            [
             0.3333333333333333,
             "#9c179e"
            ],
            [
             0.4444444444444444,
             "#bd3786"
            ],
            [
             0.5555555555555556,
             "#d8576b"
            ],
            [
             0.6666666666666666,
             "#ed7953"
            ],
            [
             0.7777777777777778,
             "#fb9f3a"
            ],
            [
             0.8888888888888888,
             "#fdca26"
            ],
            [
             1,
             "#f0f921"
            ]
           ]
          },
          "colorway": [
           "#636efa",
           "#EF553B",
           "#00cc96",
           "#ab63fa",
           "#FFA15A",
           "#19d3f3",
           "#FF6692",
           "#B6E880",
           "#FF97FF",
           "#FECB52"
          ],
          "font": {
           "color": "#2a3f5f"
          },
          "geo": {
           "bgcolor": "white",
           "lakecolor": "white",
           "landcolor": "#E5ECF6",
           "showlakes": true,
           "showland": true,
           "subunitcolor": "white"
          },
          "hoverlabel": {
           "align": "left"
          },
          "hovermode": "closest",
          "mapbox": {
           "style": "light"
          },
          "paper_bgcolor": "white",
          "plot_bgcolor": "#E5ECF6",
          "polar": {
           "angularaxis": {
            "gridcolor": "white",
            "linecolor": "white",
            "ticks": ""
           },
           "bgcolor": "#E5ECF6",
           "radialaxis": {
            "gridcolor": "white",
            "linecolor": "white",
            "ticks": ""
           }
          },
          "scene": {
           "xaxis": {
            "backgroundcolor": "#E5ECF6",
            "gridcolor": "white",
            "gridwidth": 2,
            "linecolor": "white",
            "showbackground": true,
            "ticks": "",
            "zerolinecolor": "white"
           },
           "yaxis": {
            "backgroundcolor": "#E5ECF6",
            "gridcolor": "white",
            "gridwidth": 2,
            "linecolor": "white",
            "showbackground": true,
            "ticks": "",
            "zerolinecolor": "white"
           },
           "zaxis": {
            "backgroundcolor": "#E5ECF6",
            "gridcolor": "white",
            "gridwidth": 2,
            "linecolor": "white",
            "showbackground": true,
            "ticks": "",
            "zerolinecolor": "white"
           }
          },
          "shapedefaults": {
           "line": {
            "color": "#2a3f5f"
           }
          },
          "ternary": {
           "aaxis": {
            "gridcolor": "white",
            "linecolor": "white",
            "ticks": ""
           },
           "baxis": {
            "gridcolor": "white",
            "linecolor": "white",
            "ticks": ""
           },
           "bgcolor": "#E5ECF6",
           "caxis": {
            "gridcolor": "white",
            "linecolor": "white",
            "ticks": ""
           }
          },
          "title": {
           "x": 0.05
          },
          "xaxis": {
           "automargin": true,
           "gridcolor": "white",
           "linecolor": "white",
           "ticks": "",
           "title": {
            "standoff": 15
           },
           "zerolinecolor": "white",
           "zerolinewidth": 2
          },
          "yaxis": {
           "automargin": true,
           "gridcolor": "white",
           "linecolor": "white",
           "ticks": "",
           "title": {
            "standoff": 15
           },
           "zerolinecolor": "white",
           "zerolinewidth": 2
          }
         }
        },
        "title": {
         "text": "Uncertainty comparison between kmeans and random"
        },
        "xaxis": {
         "anchor": "y",
         "domain": [
          0,
          1
         ],
         "title": {
          "text": "rule"
         }
        },
        "yaxis": {
         "anchor": "x",
         "domain": [
          0,
          1
         ],
         "title": {
          "text": "value"
         }
        }
       }
      }
     },
     "metadata": {},
     "output_type": "display_data"
    },
    {
     "name": "stdout",
     "output_type": "stream",
     "text": [
      "Num rules 205\n"
     ]
    },
    {
     "data": {
      "application/vnd.plotly.v1+json": {
       "config": {
        "plotlyServerURL": "https://plot.ly"
       },
       "data": [
        {
         "alignmentgroup": "True",
         "hovertemplate": "variable=uncertainty_kmeans<br>rule=%{x}<br>value=%{y}<extra></extra>",
         "legendgroup": "uncertainty_kmeans",
         "marker": {
          "color": "#636efa",
          "pattern": {
           "shape": ""
          }
         },
         "name": "uncertainty_kmeans",
         "offsetgroup": "uncertainty_kmeans",
         "orientation": "v",
         "showlegend": true,
         "textposition": "auto",
         "type": "bar",
         "x": [
          "Mean < 5.696",
          "5.696 < Mean < 9.586",
          "9.586 < Mean < 13.475",
          "Mean > 13.475",
          "Variance < 400.038",
          "400.038 < Variance < 718.473",
          "718.473 < Variance < 1036.907",
          "Variance > 1036.907",
          "Standard Deviation < 19.398",
          "19.398 < Standard Deviation < 25.324",
          "25.324 < Standard Deviation < 31.249",
          "Standard Deviation > 31.249",
          "Entropy < 0.026",
          "0.026 < Entropy < 0.073",
          "0.073 < Entropy < 0.121",
          "Entropy > 0.121",
          "Skewness < 2.339",
          "2.339 < Skewness < 4.097",
          "4.097 < Skewness < 5.854",
          "Skewness > 5.854",
          "Kurtosis < -15.863",
          "-15.863 < Kurtosis < 24.581",
          "24.581 < Kurtosis < 65.024",
          "Kurtosis > 65.024",
          "Contrast < 48.638",
          "48.638 < Contrast < 130.232",
          "130.232 < Contrast < 211.826",
          "Contrast > 211.826",
          "Energy < 0.117",
          "0.117 < Energy < 0.204",
          "0.204 < Energy < 0.292",
          "Energy > 0.292",
          "ASM < 0.019",
          "0.019 < ASM < 0.058",
          "0.058 < ASM < 0.098",
          "ASM > 0.098",
          "Homogeneity < 0.393",
          "0.393 < Homogeneity < 0.479",
          "0.479 < Homogeneity < 0.565",
          "Homogeneity > 0.565",
          "Dissimilarity < 3.433",
          "3.433 < Dissimilarity < 4.715",
          "4.715 < Dissimilarity < 5.998",
          "Dissimilarity > 5.998",
          "Correlation < 0.938",
          "0.938 < Correlation < 0.956",
          "0.956 < Correlation < 0.973",
          "Correlation > 0.973",
          "Coarseness = 7.46e-155",
          "Positive Mean - 9.586, Variance - 718.473",
          "Negative Mean - 9.586, Variance - 718.473",
          "Positive Mean - 9.586, Standard Deviation - 25.324",
          "Negative Mean - 9.586, Standard Deviation - 25.324",
          "Positive Mean - 9.586, Entropy - 0.073",
          "Negative Mean - 9.586, Entropy - 0.073",
          "Positive Mean - 9.586, Skewness - 4.097",
          "Negative Mean - 9.586, Skewness - 4.097",
          "Positive Mean - 9.586, Kurtosis - 24.581",
          "Negative Mean - 9.586, Kurtosis - 24.581",
          "Positive Mean - 9.586, Contrast - 130.232",
          "Negative Mean - 9.586, Contrast - 130.232",
          "Positive Mean - 9.586, Energy - 0.204",
          "Negative Mean - 9.586, Energy - 0.204",
          "Positive Mean - 9.586, ASM - 0.058",
          "Negative Mean - 9.586, ASM - 0.058",
          "Positive Mean - 9.586, Homogeneity - 0.479",
          "Negative Mean - 9.586, Homogeneity - 0.479",
          "Positive Mean - 9.586, Dissimilarity - 4.715",
          "Negative Mean - 9.586, Dissimilarity - 4.715",
          "Positive Mean - 9.586, Correlation - 0.956",
          "Negative Mean - 9.586, Correlation - 0.956",
          "Positive Mean - 9.586, Coarseness - 0.000",
          "Negative Mean - 9.586, Coarseness - 0.000",
          "Positive Variance - 718.473, Standard Deviation - 25.324",
          "Negative Variance - 718.473, Standard Deviation - 25.324",
          "Positive Variance - 718.473, Entropy - 0.073",
          "Negative Variance - 718.473, Entropy - 0.073",
          "Positive Variance - 718.473, Skewness - 4.097",
          "Negative Variance - 718.473, Skewness - 4.097",
          "Positive Variance - 718.473, Kurtosis - 24.581",
          "Negative Variance - 718.473, Kurtosis - 24.581",
          "Positive Variance - 718.473, Contrast - 130.232",
          "Negative Variance - 718.473, Contrast - 130.232",
          "Positive Variance - 718.473, Energy - 0.204",
          "Negative Variance - 718.473, Energy - 0.204",
          "Positive Variance - 718.473, ASM - 0.058",
          "Negative Variance - 718.473, ASM - 0.058",
          "Positive Variance - 718.473, Homogeneity - 0.479",
          "Negative Variance - 718.473, Homogeneity - 0.479",
          "Positive Variance - 718.473, Dissimilarity - 4.715",
          "Negative Variance - 718.473, Dissimilarity - 4.715",
          "Positive Variance - 718.473, Correlation - 0.956",
          "Negative Variance - 718.473, Correlation - 0.956",
          "Positive Variance - 718.473, Coarseness - 0.000",
          "Negative Variance - 718.473, Coarseness - 0.000",
          "Positive Standard Deviation - 25.324, Entropy - 0.073",
          "Negative Standard Deviation - 25.324, Entropy - 0.073",
          "Positive Standard Deviation - 25.324, Skewness - 4.097",
          "Negative Standard Deviation - 25.324, Skewness - 4.097",
          "Positive Standard Deviation - 25.324, Kurtosis - 24.581",
          "Negative Standard Deviation - 25.324, Kurtosis - 24.581",
          "Positive Standard Deviation - 25.324, Contrast - 130.232",
          "Negative Standard Deviation - 25.324, Contrast - 130.232",
          "Positive Standard Deviation - 25.324, Energy - 0.204",
          "Negative Standard Deviation - 25.324, Energy - 0.204",
          "Positive Standard Deviation - 25.324, ASM - 0.058",
          "Negative Standard Deviation - 25.324, ASM - 0.058",
          "Positive Standard Deviation - 25.324, Homogeneity - 0.479",
          "Negative Standard Deviation - 25.324, Homogeneity - 0.479",
          "Positive Standard Deviation - 25.324, Dissimilarity - 4.715",
          "Negative Standard Deviation - 25.324, Dissimilarity - 4.715",
          "Positive Standard Deviation - 25.324, Correlation - 0.956",
          "Negative Standard Deviation - 25.324, Correlation - 0.956",
          "Positive Standard Deviation - 25.324, Coarseness - 0.000",
          "Negative Standard Deviation - 25.324, Coarseness - 0.000",
          "Positive Entropy - 0.073, Skewness - 4.097",
          "Negative Entropy - 0.073, Skewness - 4.097",
          "Positive Entropy - 0.073, Kurtosis - 24.581",
          "Negative Entropy - 0.073, Kurtosis - 24.581",
          "Positive Entropy - 0.073, Contrast - 130.232",
          "Negative Entropy - 0.073, Contrast - 130.232",
          "Positive Entropy - 0.073, Energy - 0.204",
          "Negative Entropy - 0.073, Energy - 0.204",
          "Positive Entropy - 0.073, ASM - 0.058",
          "Negative Entropy - 0.073, ASM - 0.058",
          "Positive Entropy - 0.073, Homogeneity - 0.479",
          "Negative Entropy - 0.073, Homogeneity - 0.479",
          "Positive Entropy - 0.073, Dissimilarity - 4.715",
          "Negative Entropy - 0.073, Dissimilarity - 4.715",
          "Positive Entropy - 0.073, Correlation - 0.956",
          "Negative Entropy - 0.073, Correlation - 0.956",
          "Positive Entropy - 0.073, Coarseness - 0.000",
          "Negative Entropy - 0.073, Coarseness - 0.000",
          "Positive Skewness - 4.097, Kurtosis - 24.581",
          "Negative Skewness - 4.097, Kurtosis - 24.581",
          "Positive Skewness - 4.097, Contrast - 130.232",
          "Negative Skewness - 4.097, Contrast - 130.232",
          "Positive Skewness - 4.097, Energy - 0.204",
          "Negative Skewness - 4.097, Energy - 0.204",
          "Positive Skewness - 4.097, ASM - 0.058",
          "Negative Skewness - 4.097, ASM - 0.058",
          "Positive Skewness - 4.097, Homogeneity - 0.479",
          "Negative Skewness - 4.097, Homogeneity - 0.479",
          "Positive Skewness - 4.097, Dissimilarity - 4.715",
          "Negative Skewness - 4.097, Dissimilarity - 4.715",
          "Positive Skewness - 4.097, Correlation - 0.956",
          "Negative Skewness - 4.097, Correlation - 0.956",
          "Positive Skewness - 4.097, Coarseness - 0.000",
          "Negative Skewness - 4.097, Coarseness - 0.000",
          "Positive Kurtosis - 24.581, Contrast - 130.232",
          "Negative Kurtosis - 24.581, Contrast - 130.232",
          "Positive Kurtosis - 24.581, Energy - 0.204",
          "Negative Kurtosis - 24.581, Energy - 0.204",
          "Positive Kurtosis - 24.581, ASM - 0.058",
          "Negative Kurtosis - 24.581, ASM - 0.058",
          "Positive Kurtosis - 24.581, Homogeneity - 0.479",
          "Negative Kurtosis - 24.581, Homogeneity - 0.479",
          "Positive Kurtosis - 24.581, Dissimilarity - 4.715",
          "Negative Kurtosis - 24.581, Dissimilarity - 4.715",
          "Positive Kurtosis - 24.581, Correlation - 0.956",
          "Negative Kurtosis - 24.581, Correlation - 0.956",
          "Positive Kurtosis - 24.581, Coarseness - 0.000",
          "Negative Kurtosis - 24.581, Coarseness - 0.000",
          "Positive Contrast - 130.232, Energy - 0.204",
          "Negative Contrast - 130.232, Energy - 0.204",
          "Positive Contrast - 130.232, ASM - 0.058",
          "Negative Contrast - 130.232, ASM - 0.058",
          "Positive Contrast - 130.232, Homogeneity - 0.479",
          "Negative Contrast - 130.232, Homogeneity - 0.479",
          "Positive Contrast - 130.232, Dissimilarity - 4.715",
          "Negative Contrast - 130.232, Dissimilarity - 4.715",
          "Positive Contrast - 130.232, Correlation - 0.956",
          "Negative Contrast - 130.232, Correlation - 0.956",
          "Positive Contrast - 130.232, Coarseness - 0.000",
          "Negative Contrast - 130.232, Coarseness - 0.000",
          "Positive Energy - 0.204, ASM - 0.058",
          "Negative Energy - 0.204, ASM - 0.058",
          "Positive Energy - 0.204, Homogeneity - 0.479",
          "Negative Energy - 0.204, Homogeneity - 0.479",
          "Positive Energy - 0.204, Dissimilarity - 4.715",
          "Negative Energy - 0.204, Dissimilarity - 4.715",
          "Positive Energy - 0.204, Correlation - 0.956",
          "Negative Energy - 0.204, Correlation - 0.956",
          "Positive Energy - 0.204, Coarseness - 0.000",
          "Negative Energy - 0.204, Coarseness - 0.000",
          "Positive ASM - 0.058, Homogeneity - 0.479",
          "Negative ASM - 0.058, Homogeneity - 0.479",
          "Positive ASM - 0.058, Dissimilarity - 4.715",
          "Negative ASM - 0.058, Dissimilarity - 4.715",
          "Positive ASM - 0.058, Correlation - 0.956",
          "Negative ASM - 0.058, Correlation - 0.956",
          "Positive ASM - 0.058, Coarseness - 0.000",
          "Negative ASM - 0.058, Coarseness - 0.000",
          "Positive Homogeneity - 0.479, Dissimilarity - 4.715",
          "Negative Homogeneity - 0.479, Dissimilarity - 4.715",
          "Positive Homogeneity - 0.479, Correlation - 0.956",
          "Negative Homogeneity - 0.479, Correlation - 0.956",
          "Positive Homogeneity - 0.479, Coarseness - 0.000",
          "Negative Homogeneity - 0.479, Coarseness - 0.000",
          "Positive Dissimilarity - 4.715, Correlation - 0.956",
          "Negative Dissimilarity - 4.715, Correlation - 0.956",
          "Positive Dissimilarity - 4.715, Coarseness - 0.000",
          "Negative Dissimilarity - 4.715, Coarseness - 0.000",
          "Positive Correlation - 0.956, Coarseness - 0.000",
          "Negative Correlation - 0.956, Coarseness - 0.000"
         ],
         "xaxis": "x",
         "y": [
          0.283877968788147,
          0.20523276925086975,
          0.2203463762998581,
          0.2488853633403778,
          0.3079928159713745,
          0.22437983751296997,
          0.2850109338760376,
          0.317187637090683,
          0.3217575252056122,
          0.20410533249378204,
          0.3087846636772156,
          0.32155755162239075,
          0.0520336739718914,
          0.20394524931907654,
          0.2782055735588074,
          0.2907054126262665,
          0.2368246465921402,
          0.19950486719608307,
          0.1991976648569107,
          0.28999513387680054,
          1,
          0.20601220428943634,
          0.2096797376871109,
          0.4102158546447754,
          0.30951595306396484,
          0.22808924317359924,
          0.20256461203098297,
          0.3000422716140747,
          0.05430695414543152,
          0.10161646455526352,
          0.2614733874797821,
          0.28891095519065857,
          0.0520336739718914,
          0.2018364667892456,
          0.2820625305175781,
          0.28884249925613403,
          0.1002528965473175,
          0.2687515616416931,
          0.2586592137813568,
          0.2859824597835541,
          0.265829473733902,
          0.23262128233909607,
          0.15418162941932678,
          0.17754396796226501,
          0.3280687928199768,
          0.22684967517852783,
          0.17631231248378754,
          0.18547429144382477,
          0.14425958693027496,
          0.8020300269126892,
          0.8025219440460205,
          0.7682153582572937,
          0.782685399055481,
          0.816670298576355,
          0.8141350746154785,
          0.7072237133979797,
          0.8224440217018127,
          0.690822422504425,
          0.8157724738121033,
          0.8034014701843262,
          0.7602131366729736,
          0.8096628189086914,
          0.8173322677612305,
          0.8157323002815247,
          0.7938487529754639,
          0.7799662947654724,
          0.7370032668113708,
          0.8156742453575134,
          0.8165280818939209,
          0.8094274401664734,
          0.8196386098861694,
          0.8027212619781494,
          0.8045521378517151,
          0.8115950226783752,
          0.7760186791419983,
          0.7679917216300964,
          0.7741087079048157,
          0.8041915893554688,
          0.778579831123352,
          0.7146506905555725,
          0.8162988424301147,
          0.7763457298278809,
          0.8068228363990784,
          0.8079272508621216,
          0.8093583583831787,
          0.804327666759491,
          0.8252556920051575,
          0.821812629699707,
          0.7447671294212341,
          0.8051098585128784,
          0.8177753686904907,
          0.8076052069664001,
          0.7570927143096924,
          0.8119651675224304,
          0.8163609504699707,
          0.7597141265869141,
          0.8088089227676392,
          0.694750189781189,
          0.779708206653595,
          0.7720950841903687,
          0.8154867887496948,
          0.8037633299827576,
          0.8061136603355408,
          0.8172430992126465,
          0.8212108016014099,
          0.8138664960861206,
          0.817156195640564,
          0.8091701865196228,
          0.7905318737030029,
          0.7715177536010742,
          0.783649206161499,
          0.8277150392532349,
          0.8067971467971802,
          0.8217008709907532,
          0.8140171766281128,
          0.7899853587150574,
          0.82053142786026,
          0.8185679912567139,
          0.8134339451789856,
          0.7444890141487122,
          0.8238193392753601,
          0.8166627883911133,
          0.8227904438972473,
          0.8214586973190308,
          0.8221254348754883,
          0.8165861368179321,
          0.7260738015174866,
          0.7683521509170532,
          0.8056656718254089,
          0.802085280418396,
          0.8144547343254089,
          0.8033466935157776,
          0.7725980877876282,
          0.8035462498664856,
          0.8056247234344482,
          0.8166884779930115,
          0.8257131576538086,
          0.8183619976043701,
          0.7617607116699219,
          0.826048731803894,
          0.8034712076187134,
          0.8174248337745667,
          0.7844198346138,
          0.8153936266899109,
          0.8177720308303833,
          0.803513765335083,
          0.8041995763778687,
          0.8200320601463318,
          0.8210440278053284,
          0.8014421463012695,
          0.8217331767082214,
          0.789450466632843,
          0.820840060710907,
          0.8217664361000061,
          0.8067890405654907,
          0.8056173920631409,
          0.8202155828475952,
          0.8047211170196533,
          0.8135049939155579,
          0.8141253590583801,
          0.8083997964859009,
          0.8083272576332092,
          0.8114220499992371,
          0.8118783235549927,
          0.8052463531494141,
          0.8202553987503052,
          0.8212820291519165,
          0.81546950340271,
          0.8097555637359619,
          0.8086636066436768,
          0.8121992349624634,
          0.8123443722724915,
          0.8213461637496948,
          0.7655794620513916,
          0.8157589435577393,
          0.8210374712944031,
          0.7154666781425476,
          0.8041795492172241,
          0.8205667734146118,
          0.8310037851333618,
          0.7606058120727539,
          0.8105561137199402,
          0.8096490502357483,
          0.6629026532173157,
          0.8108535408973694,
          0.7646582722663879,
          0.7659801244735718,
          0.7608400583267212,
          0.819032609462738,
          0.8016946315765381,
          0.8170450925827026,
          0.7635669708251953,
          0.7240084409713745,
          0.7083843946456909,
          0.7416282892227173,
          0.8140878081321716,
          0.8217583894729614,
          0.7876511812210083,
          0.7935706973075867,
          0.8235138058662415,
          0.8092437982559204,
          0.8210023045539856,
          0.8174143433570862,
          0.8039246201515198,
          0.8269574642181396
         ],
         "yaxis": "y"
        },
        {
         "alignmentgroup": "True",
         "hovertemplate": "variable=uncertainty_random<br>rule=%{x}<br>value=%{y}<extra></extra>",
         "legendgroup": "uncertainty_random",
         "marker": {
          "color": "#EF553B",
          "pattern": {
           "shape": ""
          }
         },
         "name": "uncertainty_random",
         "offsetgroup": "uncertainty_random",
         "orientation": "v",
         "showlegend": true,
         "textposition": "auto",
         "type": "bar",
         "x": [
          "Mean < 5.696",
          "5.696 < Mean < 9.586",
          "9.586 < Mean < 13.475",
          "Mean > 13.475",
          "Variance < 400.038",
          "400.038 < Variance < 718.473",
          "718.473 < Variance < 1036.907",
          "Variance > 1036.907",
          "Standard Deviation < 19.398",
          "19.398 < Standard Deviation < 25.324",
          "25.324 < Standard Deviation < 31.249",
          "Standard Deviation > 31.249",
          "Entropy < 0.026",
          "0.026 < Entropy < 0.073",
          "0.073 < Entropy < 0.121",
          "Entropy > 0.121",
          "Skewness < 2.339",
          "2.339 < Skewness < 4.097",
          "4.097 < Skewness < 5.854",
          "Skewness > 5.854",
          "Kurtosis < -15.863",
          "-15.863 < Kurtosis < 24.581",
          "24.581 < Kurtosis < 65.024",
          "Kurtosis > 65.024",
          "Contrast < 48.638",
          "48.638 < Contrast < 130.232",
          "130.232 < Contrast < 211.826",
          "Contrast > 211.826",
          "Energy < 0.117",
          "0.117 < Energy < 0.204",
          "0.204 < Energy < 0.292",
          "Energy > 0.292",
          "ASM < 0.019",
          "0.019 < ASM < 0.058",
          "0.058 < ASM < 0.098",
          "ASM > 0.098",
          "Homogeneity < 0.393",
          "0.393 < Homogeneity < 0.479",
          "0.479 < Homogeneity < 0.565",
          "Homogeneity > 0.565",
          "Dissimilarity < 3.433",
          "3.433 < Dissimilarity < 4.715",
          "4.715 < Dissimilarity < 5.998",
          "Dissimilarity > 5.998",
          "Correlation < 0.938",
          "0.938 < Correlation < 0.956",
          "0.956 < Correlation < 0.973",
          "Correlation > 0.973",
          "Coarseness = 7.46e-155",
          "Positive Mean - 9.586, Variance - 718.473",
          "Negative Mean - 9.586, Variance - 718.473",
          "Positive Mean - 9.586, Standard Deviation - 25.324",
          "Negative Mean - 9.586, Standard Deviation - 25.324",
          "Positive Mean - 9.586, Entropy - 0.073",
          "Negative Mean - 9.586, Entropy - 0.073",
          "Positive Mean - 9.586, Skewness - 4.097",
          "Negative Mean - 9.586, Skewness - 4.097",
          "Positive Mean - 9.586, Kurtosis - 24.581",
          "Negative Mean - 9.586, Kurtosis - 24.581",
          "Positive Mean - 9.586, Contrast - 130.232",
          "Negative Mean - 9.586, Contrast - 130.232",
          "Positive Mean - 9.586, Energy - 0.204",
          "Negative Mean - 9.586, Energy - 0.204",
          "Positive Mean - 9.586, ASM - 0.058",
          "Negative Mean - 9.586, ASM - 0.058",
          "Positive Mean - 9.586, Homogeneity - 0.479",
          "Negative Mean - 9.586, Homogeneity - 0.479",
          "Positive Mean - 9.586, Dissimilarity - 4.715",
          "Negative Mean - 9.586, Dissimilarity - 4.715",
          "Positive Mean - 9.586, Correlation - 0.956",
          "Negative Mean - 9.586, Correlation - 0.956",
          "Positive Mean - 9.586, Coarseness - 0.000",
          "Negative Mean - 9.586, Coarseness - 0.000",
          "Positive Variance - 718.473, Standard Deviation - 25.324",
          "Negative Variance - 718.473, Standard Deviation - 25.324",
          "Positive Variance - 718.473, Entropy - 0.073",
          "Negative Variance - 718.473, Entropy - 0.073",
          "Positive Variance - 718.473, Skewness - 4.097",
          "Negative Variance - 718.473, Skewness - 4.097",
          "Positive Variance - 718.473, Kurtosis - 24.581",
          "Negative Variance - 718.473, Kurtosis - 24.581",
          "Positive Variance - 718.473, Contrast - 130.232",
          "Negative Variance - 718.473, Contrast - 130.232",
          "Positive Variance - 718.473, Energy - 0.204",
          "Negative Variance - 718.473, Energy - 0.204",
          "Positive Variance - 718.473, ASM - 0.058",
          "Negative Variance - 718.473, ASM - 0.058",
          "Positive Variance - 718.473, Homogeneity - 0.479",
          "Negative Variance - 718.473, Homogeneity - 0.479",
          "Positive Variance - 718.473, Dissimilarity - 4.715",
          "Negative Variance - 718.473, Dissimilarity - 4.715",
          "Positive Variance - 718.473, Correlation - 0.956",
          "Negative Variance - 718.473, Correlation - 0.956",
          "Positive Variance - 718.473, Coarseness - 0.000",
          "Negative Variance - 718.473, Coarseness - 0.000",
          "Positive Standard Deviation - 25.324, Entropy - 0.073",
          "Negative Standard Deviation - 25.324, Entropy - 0.073",
          "Positive Standard Deviation - 25.324, Skewness - 4.097",
          "Negative Standard Deviation - 25.324, Skewness - 4.097",
          "Positive Standard Deviation - 25.324, Kurtosis - 24.581",
          "Negative Standard Deviation - 25.324, Kurtosis - 24.581",
          "Positive Standard Deviation - 25.324, Contrast - 130.232",
          "Negative Standard Deviation - 25.324, Contrast - 130.232",
          "Positive Standard Deviation - 25.324, Energy - 0.204",
          "Negative Standard Deviation - 25.324, Energy - 0.204",
          "Positive Standard Deviation - 25.324, ASM - 0.058",
          "Negative Standard Deviation - 25.324, ASM - 0.058",
          "Positive Standard Deviation - 25.324, Homogeneity - 0.479",
          "Negative Standard Deviation - 25.324, Homogeneity - 0.479",
          "Positive Standard Deviation - 25.324, Dissimilarity - 4.715",
          "Negative Standard Deviation - 25.324, Dissimilarity - 4.715",
          "Positive Standard Deviation - 25.324, Correlation - 0.956",
          "Negative Standard Deviation - 25.324, Correlation - 0.956",
          "Positive Standard Deviation - 25.324, Coarseness - 0.000",
          "Negative Standard Deviation - 25.324, Coarseness - 0.000",
          "Positive Entropy - 0.073, Skewness - 4.097",
          "Negative Entropy - 0.073, Skewness - 4.097",
          "Positive Entropy - 0.073, Kurtosis - 24.581",
          "Negative Entropy - 0.073, Kurtosis - 24.581",
          "Positive Entropy - 0.073, Contrast - 130.232",
          "Negative Entropy - 0.073, Contrast - 130.232",
          "Positive Entropy - 0.073, Energy - 0.204",
          "Negative Entropy - 0.073, Energy - 0.204",
          "Positive Entropy - 0.073, ASM - 0.058",
          "Negative Entropy - 0.073, ASM - 0.058",
          "Positive Entropy - 0.073, Homogeneity - 0.479",
          "Negative Entropy - 0.073, Homogeneity - 0.479",
          "Positive Entropy - 0.073, Dissimilarity - 4.715",
          "Negative Entropy - 0.073, Dissimilarity - 4.715",
          "Positive Entropy - 0.073, Correlation - 0.956",
          "Negative Entropy - 0.073, Correlation - 0.956",
          "Positive Entropy - 0.073, Coarseness - 0.000",
          "Negative Entropy - 0.073, Coarseness - 0.000",
          "Positive Skewness - 4.097, Kurtosis - 24.581",
          "Negative Skewness - 4.097, Kurtosis - 24.581",
          "Positive Skewness - 4.097, Contrast - 130.232",
          "Negative Skewness - 4.097, Contrast - 130.232",
          "Positive Skewness - 4.097, Energy - 0.204",
          "Negative Skewness - 4.097, Energy - 0.204",
          "Positive Skewness - 4.097, ASM - 0.058",
          "Negative Skewness - 4.097, ASM - 0.058",
          "Positive Skewness - 4.097, Homogeneity - 0.479",
          "Negative Skewness - 4.097, Homogeneity - 0.479",
          "Positive Skewness - 4.097, Dissimilarity - 4.715",
          "Negative Skewness - 4.097, Dissimilarity - 4.715",
          "Positive Skewness - 4.097, Correlation - 0.956",
          "Negative Skewness - 4.097, Correlation - 0.956",
          "Positive Skewness - 4.097, Coarseness - 0.000",
          "Negative Skewness - 4.097, Coarseness - 0.000",
          "Positive Kurtosis - 24.581, Contrast - 130.232",
          "Negative Kurtosis - 24.581, Contrast - 130.232",
          "Positive Kurtosis - 24.581, Energy - 0.204",
          "Negative Kurtosis - 24.581, Energy - 0.204",
          "Positive Kurtosis - 24.581, ASM - 0.058",
          "Negative Kurtosis - 24.581, ASM - 0.058",
          "Positive Kurtosis - 24.581, Homogeneity - 0.479",
          "Negative Kurtosis - 24.581, Homogeneity - 0.479",
          "Positive Kurtosis - 24.581, Dissimilarity - 4.715",
          "Negative Kurtosis - 24.581, Dissimilarity - 4.715",
          "Positive Kurtosis - 24.581, Correlation - 0.956",
          "Negative Kurtosis - 24.581, Correlation - 0.956",
          "Positive Kurtosis - 24.581, Coarseness - 0.000",
          "Negative Kurtosis - 24.581, Coarseness - 0.000",
          "Positive Contrast - 130.232, Energy - 0.204",
          "Negative Contrast - 130.232, Energy - 0.204",
          "Positive Contrast - 130.232, ASM - 0.058",
          "Negative Contrast - 130.232, ASM - 0.058",
          "Positive Contrast - 130.232, Homogeneity - 0.479",
          "Negative Contrast - 130.232, Homogeneity - 0.479",
          "Positive Contrast - 130.232, Dissimilarity - 4.715",
          "Negative Contrast - 130.232, Dissimilarity - 4.715",
          "Positive Contrast - 130.232, Correlation - 0.956",
          "Negative Contrast - 130.232, Correlation - 0.956",
          "Positive Contrast - 130.232, Coarseness - 0.000",
          "Negative Contrast - 130.232, Coarseness - 0.000",
          "Positive Energy - 0.204, ASM - 0.058",
          "Negative Energy - 0.204, ASM - 0.058",
          "Positive Energy - 0.204, Homogeneity - 0.479",
          "Negative Energy - 0.204, Homogeneity - 0.479",
          "Positive Energy - 0.204, Dissimilarity - 4.715",
          "Negative Energy - 0.204, Dissimilarity - 4.715",
          "Positive Energy - 0.204, Correlation - 0.956",
          "Negative Energy - 0.204, Correlation - 0.956",
          "Positive Energy - 0.204, Coarseness - 0.000",
          "Negative Energy - 0.204, Coarseness - 0.000",
          "Positive ASM - 0.058, Homogeneity - 0.479",
          "Negative ASM - 0.058, Homogeneity - 0.479",
          "Positive ASM - 0.058, Dissimilarity - 4.715",
          "Negative ASM - 0.058, Dissimilarity - 4.715",
          "Positive ASM - 0.058, Correlation - 0.956",
          "Negative ASM - 0.058, Correlation - 0.956",
          "Positive ASM - 0.058, Coarseness - 0.000",
          "Negative ASM - 0.058, Coarseness - 0.000",
          "Positive Homogeneity - 0.479, Dissimilarity - 4.715",
          "Negative Homogeneity - 0.479, Dissimilarity - 4.715",
          "Positive Homogeneity - 0.479, Correlation - 0.956",
          "Negative Homogeneity - 0.479, Correlation - 0.956",
          "Positive Homogeneity - 0.479, Coarseness - 0.000",
          "Negative Homogeneity - 0.479, Coarseness - 0.000",
          "Positive Dissimilarity - 4.715, Correlation - 0.956",
          "Negative Dissimilarity - 4.715, Correlation - 0.956",
          "Positive Dissimilarity - 4.715, Coarseness - 0.000",
          "Negative Dissimilarity - 4.715, Coarseness - 0.000",
          "Positive Correlation - 0.956, Coarseness - 0.000",
          "Negative Correlation - 0.956, Coarseness - 0.000"
         ],
         "xaxis": "x",
         "y": [
          0.7512232661247253,
          0.8032599091529846,
          0.8101842403411865,
          0.817780077457428,
          0.7756344676017761,
          0.8058266639709473,
          0.8110731840133667,
          0.8109139800071716,
          0.8154142498970032,
          0.8081430792808533,
          0.7899333834648132,
          0.7497521042823792,
          0.7023833394050598,
          0.8078893423080444,
          0.7908082604408264,
          0.7248556017875671,
          0.6673495769500732,
          0.8119741082191467,
          0.794053852558136,
          0.7505179643630981,
          0.800000011920929,
          0.8109078407287598,
          0.8066467046737671,
          0.7015992403030396,
          0.7880074381828308,
          0.8235849142074585,
          0.816544771194458,
          0.8097763061523438,
          0.8079978823661804,
          0.7375776171684265,
          0.7769443988800049,
          0.8237440586090088,
          0.6810999512672424,
          0.8092400431632996,
          0.7496668100357056,
          0.6629044413566589,
          0.7868749499320984,
          0.7883539795875549,
          0.8199931383132935,
          0.8241375684738159,
          0.8035140037536621,
          0.8090190291404724,
          0.8061608672142029,
          0.7694435119628906,
          0.7731375694274902,
          0.805253267288208,
          0.8021332621574402,
          0.8054974675178528,
          0.800000011920929,
          0.8068186640739441,
          0.7935592532157898,
          0.8049198389053345,
          0.8120124936103821,
          0.8128790855407715,
          0.8077216148376465,
          0.809762179851532,
          0.8057077527046204,
          0.8066952228546143,
          0.8019686341285706,
          0.8053776621818542,
          0.8038649559020996,
          0.8098471164703369,
          0.8014310598373413,
          0.7871274352073669,
          0.7988654375076294,
          0.8015561103820801,
          0.8102386593818665,
          0.8056128621101379,
          0.802364706993103,
          0.8061022758483887,
          0.8010485768318176,
          0.7926563620567322,
          0.7982046604156494,
          0.8090704083442688,
          0.8107064962387085,
          0.8134422898292542,
          0.8023914098739624,
          0.8173860311508179,
          0.8131368160247803,
          0.8056997656822205,
          0.8102394938468933,
          0.8058477640151978,
          0.804929256439209,
          0.8103998899459839,
          0.8033020496368408,
          0.8134844899177551,
          0.80257648229599,
          0.811916708946228,
          0.8120039701461792,
          0.8037898540496826,
          0.8057934045791626,
          0.8027950525283813,
          0.8087873458862305,
          0.8009459972381592,
          0.8013036847114563,
          0.8101562261581421,
          0.8044748902320862,
          0.8064959645271301,
          0.8058611154556274,
          0.8018465638160706,
          0.8092206120491028,
          0.8016712069511414,
          0.8063555955886841,
          0.810342013835907,
          0.803026556968689,
          0.8084107637405396,
          0.8034911751747131,
          0.8106145858764648,
          0.8056182861328125,
          0.8023163080215454,
          0.8037934303283691,
          0.8054758310317993,
          0.8060838580131531,
          0.8080366849899292,
          0.76706862449646,
          0.8062325119972229,
          0.8039581775665283,
          0.7655882239341736,
          0.7519280910491943,
          0.8046156764030457,
          0.8052037954330444,
          0.8107548952102661,
          0.8023633360862732,
          0.8024563193321228,
          0.7705562114715576,
          0.8025990128517151,
          0.8109143376350403,
          0.8192364573478699,
          0.8061322569847107,
          0.8048587441444397,
          0.8018000721931458,
          0.7856443524360657,
          0.761810839176178,
          0.8100410103797913,
          0.8032384514808655,
          0.8056736588478088,
          0.8039966821670532,
          0.8190359473228455,
          0.8077245950698853,
          0.8051707148551941,
          0.8011993169784546,
          0.8096237182617188,
          0.8092849254608154,
          0.8057016730308533,
          0.808456301689148,
          0.8021514415740967,
          0.8143064379692078,
          0.7691169381141663,
          0.8094276785850525,
          0.8099231719970703,
          0.8111315369606018,
          0.7779875993728638,
          0.7708349227905273,
          0.8026483058929443,
          0.7459486126899719,
          0.8101014494895935,
          0.8107993006706238,
          0.8056311011314392,
          0.8050457239151001,
          0.8059911727905273,
          0.8051401376724243,
          0.8106520771980286,
          0.8135173916816711,
          0.8036956787109375,
          0.8158473372459412,
          0.8082979321479797,
          0.804669201374054,
          0.8049124479293823,
          0.8086281418800354,
          0.8064742088317871,
          0.8146987557411194,
          0.8099036812782288,
          0.8073344826698303,
          0.811052680015564,
          0.8107866048812866,
          0.805855929851532,
          0.8106489777565002,
          0.8065793514251709,
          0.8050128221511841,
          0.8123149275779724,
          0.8036794662475586,
          0.808266818523407,
          0.8111668825149536,
          0.7457779049873352,
          0.7155449390411377,
          0.8065891861915588,
          0.7823246121406555,
          0.807050883769989,
          0.8064727783203125,
          0.8039247393608093,
          0.8069530725479126,
          0.7708712816238403,
          0.8237380981445312,
          0.7485768795013428,
          0.8048096299171448,
          0.7790353894233704,
          0.8109501600265503,
          0.8233626484870911,
          0.7095743417739868,
          0.8080229163169861,
          0.8076230883598328,
          0.8130399584770203,
          0.8117486834526062,
          0.8051116466522217,
          0.8017334938049316
         ],
         "yaxis": "y"
        }
       ],
       "layout": {
        "barmode": "group",
        "legend": {
         "title": {
          "text": "variable"
         },
         "tracegroupgap": 0
        },
        "template": {
         "data": {
          "bar": [
           {
            "error_x": {
             "color": "#2a3f5f"
            },
            "error_y": {
             "color": "#2a3f5f"
            },
            "marker": {
             "line": {
              "color": "#E5ECF6",
              "width": 0.5
             },
             "pattern": {
              "fillmode": "overlay",
              "size": 10,
              "solidity": 0.2
             }
            },
            "type": "bar"
           }
          ],
          "barpolar": [
           {
            "marker": {
             "line": {
              "color": "#E5ECF6",
              "width": 0.5
             },
             "pattern": {
              "fillmode": "overlay",
              "size": 10,
              "solidity": 0.2
             }
            },
            "type": "barpolar"
           }
          ],
          "carpet": [
           {
            "aaxis": {
             "endlinecolor": "#2a3f5f",
             "gridcolor": "white",
             "linecolor": "white",
             "minorgridcolor": "white",
             "startlinecolor": "#2a3f5f"
            },
            "baxis": {
             "endlinecolor": "#2a3f5f",
             "gridcolor": "white",
             "linecolor": "white",
             "minorgridcolor": "white",
             "startlinecolor": "#2a3f5f"
            },
            "type": "carpet"
           }
          ],
          "choropleth": [
           {
            "colorbar": {
             "outlinewidth": 0,
             "ticks": ""
            },
            "type": "choropleth"
           }
          ],
          "contour": [
           {
            "colorbar": {
             "outlinewidth": 0,
             "ticks": ""
            },
            "colorscale": [
             [
              0,
              "#0d0887"
             ],
             [
              0.1111111111111111,
              "#46039f"
             ],
             [
              0.2222222222222222,
              "#7201a8"
             ],
             [
              0.3333333333333333,
              "#9c179e"
             ],
             [
              0.4444444444444444,
              "#bd3786"
             ],
             [
              0.5555555555555556,
              "#d8576b"
             ],
             [
              0.6666666666666666,
              "#ed7953"
             ],
             [
              0.7777777777777778,
              "#fb9f3a"
             ],
             [
              0.8888888888888888,
              "#fdca26"
             ],
             [
              1,
              "#f0f921"
             ]
            ],
            "type": "contour"
           }
          ],
          "contourcarpet": [
           {
            "colorbar": {
             "outlinewidth": 0,
             "ticks": ""
            },
            "type": "contourcarpet"
           }
          ],
          "heatmap": [
           {
            "colorbar": {
             "outlinewidth": 0,
             "ticks": ""
            },
            "colorscale": [
             [
              0,
              "#0d0887"
             ],
             [
              0.1111111111111111,
              "#46039f"
             ],
             [
              0.2222222222222222,
              "#7201a8"
             ],
             [
              0.3333333333333333,
              "#9c179e"
             ],
             [
              0.4444444444444444,
              "#bd3786"
             ],
             [
              0.5555555555555556,
              "#d8576b"
             ],
             [
              0.6666666666666666,
              "#ed7953"
             ],
             [
              0.7777777777777778,
              "#fb9f3a"
             ],
             [
              0.8888888888888888,
              "#fdca26"
             ],
             [
              1,
              "#f0f921"
             ]
            ],
            "type": "heatmap"
           }
          ],
          "heatmapgl": [
           {
            "colorbar": {
             "outlinewidth": 0,
             "ticks": ""
            },
            "colorscale": [
             [
              0,
              "#0d0887"
             ],
             [
              0.1111111111111111,
              "#46039f"
             ],
             [
              0.2222222222222222,
              "#7201a8"
             ],
             [
              0.3333333333333333,
              "#9c179e"
             ],
             [
              0.4444444444444444,
              "#bd3786"
             ],
             [
              0.5555555555555556,
              "#d8576b"
             ],
             [
              0.6666666666666666,
              "#ed7953"
             ],
             [
              0.7777777777777778,
              "#fb9f3a"
             ],
             [
              0.8888888888888888,
              "#fdca26"
             ],
             [
              1,
              "#f0f921"
             ]
            ],
            "type": "heatmapgl"
           }
          ],
          "histogram": [
           {
            "marker": {
             "pattern": {
              "fillmode": "overlay",
              "size": 10,
              "solidity": 0.2
             }
            },
            "type": "histogram"
           }
          ],
          "histogram2d": [
           {
            "colorbar": {
             "outlinewidth": 0,
             "ticks": ""
            },
            "colorscale": [
             [
              0,
              "#0d0887"
             ],
             [
              0.1111111111111111,
              "#46039f"
             ],
             [
              0.2222222222222222,
              "#7201a8"
             ],
             [
              0.3333333333333333,
              "#9c179e"
             ],
             [
              0.4444444444444444,
              "#bd3786"
             ],
             [
              0.5555555555555556,
              "#d8576b"
             ],
             [
              0.6666666666666666,
              "#ed7953"
             ],
             [
              0.7777777777777778,
              "#fb9f3a"
             ],
             [
              0.8888888888888888,
              "#fdca26"
             ],
             [
              1,
              "#f0f921"
             ]
            ],
            "type": "histogram2d"
           }
          ],
          "histogram2dcontour": [
           {
            "colorbar": {
             "outlinewidth": 0,
             "ticks": ""
            },
            "colorscale": [
             [
              0,
              "#0d0887"
             ],
             [
              0.1111111111111111,
              "#46039f"
             ],
             [
              0.2222222222222222,
              "#7201a8"
             ],
             [
              0.3333333333333333,
              "#9c179e"
             ],
             [
              0.4444444444444444,
              "#bd3786"
             ],
             [
              0.5555555555555556,
              "#d8576b"
             ],
             [
              0.6666666666666666,
              "#ed7953"
             ],
             [
              0.7777777777777778,
              "#fb9f3a"
             ],
             [
              0.8888888888888888,
              "#fdca26"
             ],
             [
              1,
              "#f0f921"
             ]
            ],
            "type": "histogram2dcontour"
           }
          ],
          "mesh3d": [
           {
            "colorbar": {
             "outlinewidth": 0,
             "ticks": ""
            },
            "type": "mesh3d"
           }
          ],
          "parcoords": [
           {
            "line": {
             "colorbar": {
              "outlinewidth": 0,
              "ticks": ""
             }
            },
            "type": "parcoords"
           }
          ],
          "pie": [
           {
            "automargin": true,
            "type": "pie"
           }
          ],
          "scatter": [
           {
            "fillpattern": {
             "fillmode": "overlay",
             "size": 10,
             "solidity": 0.2
            },
            "type": "scatter"
           }
          ],
          "scatter3d": [
           {
            "line": {
             "colorbar": {
              "outlinewidth": 0,
              "ticks": ""
             }
            },
            "marker": {
             "colorbar": {
              "outlinewidth": 0,
              "ticks": ""
             }
            },
            "type": "scatter3d"
           }
          ],
          "scattercarpet": [
           {
            "marker": {
             "colorbar": {
              "outlinewidth": 0,
              "ticks": ""
             }
            },
            "type": "scattercarpet"
           }
          ],
          "scattergeo": [
           {
            "marker": {
             "colorbar": {
              "outlinewidth": 0,
              "ticks": ""
             }
            },
            "type": "scattergeo"
           }
          ],
          "scattergl": [
           {
            "marker": {
             "colorbar": {
              "outlinewidth": 0,
              "ticks": ""
             }
            },
            "type": "scattergl"
           }
          ],
          "scattermapbox": [
           {
            "marker": {
             "colorbar": {
              "outlinewidth": 0,
              "ticks": ""
             }
            },
            "type": "scattermapbox"
           }
          ],
          "scatterpolar": [
           {
            "marker": {
             "colorbar": {
              "outlinewidth": 0,
              "ticks": ""
             }
            },
            "type": "scatterpolar"
           }
          ],
          "scatterpolargl": [
           {
            "marker": {
             "colorbar": {
              "outlinewidth": 0,
              "ticks": ""
             }
            },
            "type": "scatterpolargl"
           }
          ],
          "scatterternary": [
           {
            "marker": {
             "colorbar": {
              "outlinewidth": 0,
              "ticks": ""
             }
            },
            "type": "scatterternary"
           }
          ],
          "surface": [
           {
            "colorbar": {
             "outlinewidth": 0,
             "ticks": ""
            },
            "colorscale": [
             [
              0,
              "#0d0887"
             ],
             [
              0.1111111111111111,
              "#46039f"
             ],
             [
              0.2222222222222222,
              "#7201a8"
             ],
             [
              0.3333333333333333,
              "#9c179e"
             ],
             [
              0.4444444444444444,
              "#bd3786"
             ],
             [
              0.5555555555555556,
              "#d8576b"
             ],
             [
              0.6666666666666666,
              "#ed7953"
             ],
             [
              0.7777777777777778,
              "#fb9f3a"
             ],
             [
              0.8888888888888888,
              "#fdca26"
             ],
             [
              1,
              "#f0f921"
             ]
            ],
            "type": "surface"
           }
          ],
          "table": [
           {
            "cells": {
             "fill": {
              "color": "#EBF0F8"
             },
             "line": {
              "color": "white"
             }
            },
            "header": {
             "fill": {
              "color": "#C8D4E3"
             },
             "line": {
              "color": "white"
             }
            },
            "type": "table"
           }
          ]
         },
         "layout": {
          "annotationdefaults": {
           "arrowcolor": "#2a3f5f",
           "arrowhead": 0,
           "arrowwidth": 1
          },
          "autotypenumbers": "strict",
          "coloraxis": {
           "colorbar": {
            "outlinewidth": 0,
            "ticks": ""
           }
          },
          "colorscale": {
           "diverging": [
            [
             0,
             "#8e0152"
            ],
            [
             0.1,
             "#c51b7d"
            ],
            [
             0.2,
             "#de77ae"
            ],
            [
             0.3,
             "#f1b6da"
            ],
            [
             0.4,
             "#fde0ef"
            ],
            [
             0.5,
             "#f7f7f7"
            ],
            [
             0.6,
             "#e6f5d0"
            ],
            [
             0.7,
             "#b8e186"
            ],
            [
             0.8,
             "#7fbc41"
            ],
            [
             0.9,
             "#4d9221"
            ],
            [
             1,
             "#276419"
            ]
           ],
           "sequential": [
            [
             0,
             "#0d0887"
            ],
            [
             0.1111111111111111,
             "#46039f"
            ],
            [
             0.2222222222222222,
             "#7201a8"
            ],
            [
             0.3333333333333333,
             "#9c179e"
            ],
            [
             0.4444444444444444,
             "#bd3786"
            ],
            [
             0.5555555555555556,
             "#d8576b"
            ],
            [
             0.6666666666666666,
             "#ed7953"
            ],
            [
             0.7777777777777778,
             "#fb9f3a"
            ],
            [
             0.8888888888888888,
             "#fdca26"
            ],
            [
             1,
             "#f0f921"
            ]
           ],
           "sequentialminus": [
            [
             0,
             "#0d0887"
            ],
            [
             0.1111111111111111,
             "#46039f"
            ],
            [
             0.2222222222222222,
             "#7201a8"
            ],
            [
             0.3333333333333333,
             "#9c179e"
            ],
            [
             0.4444444444444444,
             "#bd3786"
            ],
            [
             0.5555555555555556,
             "#d8576b"
            ],
            [
             0.6666666666666666,
             "#ed7953"
            ],
            [
             0.7777777777777778,
             "#fb9f3a"
            ],
            [
             0.8888888888888888,
             "#fdca26"
            ],
            [
             1,
             "#f0f921"
            ]
           ]
          },
          "colorway": [
           "#636efa",
           "#EF553B",
           "#00cc96",
           "#ab63fa",
           "#FFA15A",
           "#19d3f3",
           "#FF6692",
           "#B6E880",
           "#FF97FF",
           "#FECB52"
          ],
          "font": {
           "color": "#2a3f5f"
          },
          "geo": {
           "bgcolor": "white",
           "lakecolor": "white",
           "landcolor": "#E5ECF6",
           "showlakes": true,
           "showland": true,
           "subunitcolor": "white"
          },
          "hoverlabel": {
           "align": "left"
          },
          "hovermode": "closest",
          "mapbox": {
           "style": "light"
          },
          "paper_bgcolor": "white",
          "plot_bgcolor": "#E5ECF6",
          "polar": {
           "angularaxis": {
            "gridcolor": "white",
            "linecolor": "white",
            "ticks": ""
           },
           "bgcolor": "#E5ECF6",
           "radialaxis": {
            "gridcolor": "white",
            "linecolor": "white",
            "ticks": ""
           }
          },
          "scene": {
           "xaxis": {
            "backgroundcolor": "#E5ECF6",
            "gridcolor": "white",
            "gridwidth": 2,
            "linecolor": "white",
            "showbackground": true,
            "ticks": "",
            "zerolinecolor": "white"
           },
           "yaxis": {
            "backgroundcolor": "#E5ECF6",
            "gridcolor": "white",
            "gridwidth": 2,
            "linecolor": "white",
            "showbackground": true,
            "ticks": "",
            "zerolinecolor": "white"
           },
           "zaxis": {
            "backgroundcolor": "#E5ECF6",
            "gridcolor": "white",
            "gridwidth": 2,
            "linecolor": "white",
            "showbackground": true,
            "ticks": "",
            "zerolinecolor": "white"
           }
          },
          "shapedefaults": {
           "line": {
            "color": "#2a3f5f"
           }
          },
          "ternary": {
           "aaxis": {
            "gridcolor": "white",
            "linecolor": "white",
            "ticks": ""
           },
           "baxis": {
            "gridcolor": "white",
            "linecolor": "white",
            "ticks": ""
           },
           "bgcolor": "#E5ECF6",
           "caxis": {
            "gridcolor": "white",
            "linecolor": "white",
            "ticks": ""
           }
          },
          "title": {
           "x": 0.05
          },
          "xaxis": {
           "automargin": true,
           "gridcolor": "white",
           "linecolor": "white",
           "ticks": "",
           "title": {
            "standoff": 15
           },
           "zerolinecolor": "white",
           "zerolinewidth": 2
          },
          "yaxis": {
           "automargin": true,
           "gridcolor": "white",
           "linecolor": "white",
           "ticks": "",
           "title": {
            "standoff": 15
           },
           "zerolinecolor": "white",
           "zerolinewidth": 2
          }
         }
        },
        "title": {
         "text": "Uncertainty comparison between kmeans and random"
        },
        "xaxis": {
         "anchor": "y",
         "domain": [
          0,
          1
         ],
         "title": {
          "text": "rule"
         }
        },
        "yaxis": {
         "anchor": "x",
         "domain": [
          0,
          1
         ],
         "title": {
          "text": "value"
         }
        }
       }
      }
     },
     "metadata": {},
     "output_type": "display_data"
    }
   ],
   "source": [
    "pairs = get_pairs(rules)\n",
    "\n",
    "dfs = {}\n",
    "\n",
    "for r1, r2 in pairs:\n",
    "    r1_info = pickle.load(open(os.path.join(RULE_FOLDER, r1), \"rb\"))\n",
    "    r2_info = pickle.load(open(os.path.join(RULE_FOLDER, r2), \"rb\"))\n",
    "    \n",
    "    r1_df = pd.DataFrame(extract_res(r1_info))\n",
    "    r2_df = pd.DataFrame(extract_res(r2_info))\n",
    "    \n",
    "    \n",
    "    merged = pd.merge(r1_df, r2_df, on=\"rule\", suffixes=('_kmeans', '_random'))\n",
    "    merged.to_csv(f\"rules_{r1}_{r2}.csv\", index=False)\n",
    "\n",
    "    print(f\"Num rules {len(merged)}\")\n",
    "    fig = px.bar(merged, x='rule', y=['uncertainty_kmeans', 'uncertainty_random'], \n",
    "        title='Uncertainty comparison between kmeans and random', # put bars next to each other\n",
    "        barmode='group')\n",
    "    fig.write_html(f\"{r1}_{r2}.html\")\n",
    "    dfs[r1] = merged \n",
    "    fig.show()"
   ]
  },
  {
   "cell_type": "code",
   "execution_count": 55,
   "metadata": {},
   "outputs": [
    {
     "name": "stdout",
     "output_type": "stream",
     "text": [
      "['dataset=Brain Tumor, breaks=3, add_mult_rules=False, maf_method=kmeans.dsb', 'dataset=Brain Tumor, breaks=3, add_mult_rules=True, maf_method=kmeans.dsb']\n"
     ]
    }
   ],
   "source": [
    "ks = list(dfs.keys())\n",
    "print(ks)\n",
    "a = dfs[ks[1]]\n",
    "\n",
    "\n",
    "a[\"Uncertainty ratio\"]  = a[\"uncertainty_random\"] / a[\"uncertainty_kmeans\"]\n",
    "\n",
    "# remove inf\n",
    "res = a[\"Uncertainty ratio\"] \n",
    "res.replace([np.inf, -np.inf, \"\"], np.nan, inplace=True)\n",
    "\n",
    "res = a[\"Uncertainty ratio\"].dropna()\n",
    "\n",
    "res.describe().round(3).to_clipboard()"
   ]
  },
  {
   "cell_type": "code",
   "execution_count": 47,
   "metadata": {},
   "outputs": [
    {
     "data": {
      "text/plain": [
       "0      1.950997\n",
       "1      2.039998\n",
       "2      2.296427\n",
       "3      5.962318\n",
       "4      2.055425\n",
       "5      2.271974\n",
       "6      2.257644\n",
       "7      2.475599\n",
       "8      2.068167\n",
       "9      2.035401\n",
       "10     2.328404\n",
       "11     2.335880\n",
       "12          inf\n",
       "13     2.287148\n",
       "14     1.489149\n",
       "15     1.555324\n",
       "16     1.407726\n",
       "17     2.373192\n",
       "18     2.151206\n",
       "19     1.607796\n",
       "20     0.800000\n",
       "21     2.002392\n",
       "22     2.090169\n",
       "23     1.189022\n",
       "24     2.078127\n",
       "25     2.271453\n",
       "26    11.785043\n",
       "27     2.108319\n",
       "28          inf\n",
       "29    81.841992\n",
       "30     1.546927\n",
       "31     1.712679\n",
       "32          inf\n",
       "33     2.370462\n",
       "34     1.966143\n",
       "35     1.921688\n",
       "36          inf\n",
       "37     1.557658\n",
       "38     1.915628\n",
       "39     1.645202\n",
       "40     2.094582\n",
       "41     2.243877\n",
       "42     2.615344\n",
       "43     1.885207\n",
       "44     2.361644\n",
       "45     2.370196\n",
       "46     1.955638\n",
       "47     2.339852\n",
       "48     5.545559\n",
       "Name: Uncertainty ratio, dtype: float64"
      ]
     },
     "execution_count": 47,
     "metadata": {},
     "output_type": "execute_result"
    }
   ],
   "source": [
    "a[\"Uncertainty ratio\"].dropna()"
   ]
  },
  {
   "cell_type": "code",
   "execution_count": 31,
   "metadata": {},
   "outputs": [
    {
     "name": "stdout",
     "output_type": "stream",
     "text": [
      "Num rules 205\n"
     ]
    }
   ],
   "source": [
    "\n",
    "print(f\"Num rules {len(merged)}\")"
   ]
  },
  {
   "cell_type": "code",
   "execution_count": 71,
   "metadata": {},
   "outputs": [
    {
     "data": {
      "application/vnd.plotly.v1+json": {
       "config": {
        "plotlyServerURL": "https://plot.ly"
       },
       "data": [
        {
         "alignmentgroup": "True",
         "hovertemplate": "variable=uncertainty_kmeans<br>rule=%{x}<br>value=%{y}<extra></extra>",
         "legendgroup": "uncertainty_kmeans",
         "marker": {
          "color": "#636efa",
          "pattern": {
           "shape": ""
          }
         },
         "name": "uncertainty_kmeans",
         "offsetgroup": "uncertainty_kmeans",
         "orientation": "v",
         "showlegend": true,
         "textposition": "auto",
         "type": "bar",
         "x": [
          "Mean < 5.742",
          "5.742 < Mean < 9.608",
          "9.608 < Mean < 13.473",
          "Mean > 13.473",
          "Variance < 404.360",
          "404.360 < Variance < 715.446",
          "715.446 < Variance < 1026.532",
          "Variance > 1026.532",
          "Standard Deviation < 19.429",
          "19.429 < Standard Deviation < 25.295",
          "25.295 < Standard Deviation < 31.160",
          "Standard Deviation > 31.160",
          "Entropy < 0.026",
          "0.026 < Entropy < 0.073",
          "0.073 < Entropy < 0.120",
          "Entropy > 0.120",
          "Skewness < 2.351",
          "2.351 < Skewness < 4.068",
          "4.068 < Skewness < 5.784",
          "Skewness > 5.784",
          "Kurtosis < -14.806",
          "-14.806 < Kurtosis < 24.023",
          "24.023 < Kurtosis < 62.852",
          "Kurtosis > 62.852",
          "Contrast < 53.367",
          "53.367 < Contrast < 127.456",
          "127.456 < Contrast < 201.545",
          "Contrast > 201.545",
          "Energy < 0.117",
          "0.117 < Energy < 0.204",
          "0.204 < Energy < 0.290",
          "Energy > 0.290",
          "ASM < 0.019",
          "0.019 < ASM < 0.058",
          "0.058 < ASM < 0.097",
          "ASM > 0.097",
          "Homogeneity < 0.394",
          "0.394 < Homogeneity < 0.480",
          "0.480 < Homogeneity < 0.566",
          "Homogeneity > 0.566",
          "Dissimilarity < 3.439",
          "3.439 < Dissimilarity < 4.685",
          "4.685 < Dissimilarity < 5.932",
          "Dissimilarity > 5.932",
          "Correlation < 0.939",
          "0.939 < Correlation < 0.956",
          "0.956 < Correlation < 0.974",
          "Correlation > 0.974",
          "Coarseness = 7.46e-155"
         ],
         "xaxis": "x",
         "y": [
          0.3638245165348053,
          0.34522944688796997,
          0.32669562101364136,
          0.2797314524650574,
          0.3639086186885834,
          0.3539421856403351,
          0.36934101581573486,
          0.26130780577659607,
          0.36167657375335693,
          0.3460475504398346,
          0.3677767515182495,
          0.2600453197956085,
          0.3332318067550659,
          0.23810866475105286,
          0.1461596041917801,
          0.09179238975048065,
          0.12417963892221451,
          0.32519784569740295,
          0.3471229672431946,
          0.3607805669307709,
          1,
          0.3158538043498993,
          0.3558201789855957,
          0.3410537540912628,
          0.37143364548683167,
          0.355337917804718,
          0.10977672785520554,
          0.35635751485824585,
          0.33422741293907166,
          0.34733617305755615,
          0.05438433215022087,
          0.07056523859500885,
          0.3332318067550659,
          0.2400248646736145,
          0.14724284410476685,
          0.09188301861286163,
          0.3424234688282013,
          0.1017780750989914,
          0.26033592224121094,
          0.10329174250364304,
          0.394893616437912,
          0.35230186581611633,
          0.3145311176776886,
          0.3407725691795349,
          0.358727365732193,
          0.33264097571372986,
          0.34253647923469543,
          0.33338308334350586,
          0.13859030604362488
         ],
         "yaxis": "y"
        },
        {
         "alignmentgroup": "True",
         "hovertemplate": "variable=uncertainty_random<br>rule=%{x}<br>value=%{y}<extra></extra>",
         "legendgroup": "uncertainty_random",
         "marker": {
          "color": "#EF553B",
          "pattern": {
           "shape": ""
          }
         },
         "name": "uncertainty_random",
         "offsetgroup": "uncertainty_random",
         "orientation": "v",
         "showlegend": true,
         "textposition": "auto",
         "type": "bar",
         "x": [
          "Mean < 5.742",
          "5.742 < Mean < 9.608",
          "9.608 < Mean < 13.473",
          "Mean > 13.473",
          "Variance < 404.360",
          "404.360 < Variance < 715.446",
          "715.446 < Variance < 1026.532",
          "Variance > 1026.532",
          "Standard Deviation < 19.429",
          "19.429 < Standard Deviation < 25.295",
          "25.295 < Standard Deviation < 31.160",
          "Standard Deviation > 31.160",
          "Entropy < 0.026",
          "0.026 < Entropy < 0.073",
          "0.073 < Entropy < 0.120",
          "Entropy > 0.120",
          "Skewness < 2.351",
          "2.351 < Skewness < 4.068",
          "4.068 < Skewness < 5.784",
          "Skewness > 5.784",
          "Kurtosis < -14.806",
          "-14.806 < Kurtosis < 24.023",
          "24.023 < Kurtosis < 62.852",
          "Kurtosis > 62.852",
          "Contrast < 53.367",
          "53.367 < Contrast < 127.456",
          "127.456 < Contrast < 201.545",
          "Contrast > 201.545",
          "Energy < 0.117",
          "0.117 < Energy < 0.204",
          "0.204 < Energy < 0.290",
          "Energy > 0.290",
          "ASM < 0.019",
          "0.019 < ASM < 0.058",
          "0.058 < ASM < 0.097",
          "ASM > 0.097",
          "Homogeneity < 0.394",
          "0.394 < Homogeneity < 0.480",
          "0.480 < Homogeneity < 0.566",
          "Homogeneity > 0.566",
          "Dissimilarity < 3.439",
          "3.439 < Dissimilarity < 4.685",
          "4.685 < Dissimilarity < 5.932",
          "Dissimilarity > 5.932",
          "Correlation < 0.939",
          "0.939 < Correlation < 0.956",
          "0.956 < Correlation < 0.974",
          "Correlation > 0.974",
          "Coarseness = 7.46e-155"
         ],
         "xaxis": "x",
         "y": [
          0.7825606465339661,
          0.8068097233772278,
          0.8055654168128967,
          0.6296613812446594,
          0.7350934743881226,
          0.8118234276771545,
          0.8232328295707703,
          0.6014939546585083,
          0.7532809376716614,
          0.8203833699226379,
          0.8133733868598938,
          0.7320668697357178,
          0.542273759841919,
          0.7939141392707825,
          0.5696961283683777,
          0.5903870463371277,
          0.4687789976596832,
          0.8260321617126465,
          0.8111227750778198,
          0.7194591164588928,
          0.800000011920929,
          0.6747491359710693,
          0.7318594455718994,
          0.6177775263786316,
          0.7344076633453369,
          0.8134694695472717,
          0.7657608389854431,
          0.826356053352356,
          0.615536630153656,
          0.4569513201713562,
          0.5697113871574402,
          0.6537286639213562,
          0.6503544449806213,
          0.8193784356117249,
          0.6772457361221313,
          0.5067388415336609,
          0.5631459355354309,
          0.5114434361457825,
          0.7005720138549805,
          0.6062989234924316,
          0.7662860751152039,
          0.8007113933563232,
          0.8108881115913391,
          0.6890829205513,
          0.8207050561904907,
          0.8168548345565796,
          0.7386121153831482,
          0.8191681504249573,
          0.800000011920929
         ],
         "yaxis": "y"
        }
       ],
       "layout": {
        "barmode": "group",
        "legend": {
         "title": {
          "text": "variable"
         },
         "tracegroupgap": 0
        },
        "template": {
         "data": {
          "bar": [
           {
            "error_x": {
             "color": "#2a3f5f"
            },
            "error_y": {
             "color": "#2a3f5f"
            },
            "marker": {
             "line": {
              "color": "#E5ECF6",
              "width": 0.5
             },
             "pattern": {
              "fillmode": "overlay",
              "size": 10,
              "solidity": 0.2
             }
            },
            "type": "bar"
           }
          ],
          "barpolar": [
           {
            "marker": {
             "line": {
              "color": "#E5ECF6",
              "width": 0.5
             },
             "pattern": {
              "fillmode": "overlay",
              "size": 10,
              "solidity": 0.2
             }
            },
            "type": "barpolar"
           }
          ],
          "carpet": [
           {
            "aaxis": {
             "endlinecolor": "#2a3f5f",
             "gridcolor": "white",
             "linecolor": "white",
             "minorgridcolor": "white",
             "startlinecolor": "#2a3f5f"
            },
            "baxis": {
             "endlinecolor": "#2a3f5f",
             "gridcolor": "white",
             "linecolor": "white",
             "minorgridcolor": "white",
             "startlinecolor": "#2a3f5f"
            },
            "type": "carpet"
           }
          ],
          "choropleth": [
           {
            "colorbar": {
             "outlinewidth": 0,
             "ticks": ""
            },
            "type": "choropleth"
           }
          ],
          "contour": [
           {
            "colorbar": {
             "outlinewidth": 0,
             "ticks": ""
            },
            "colorscale": [
             [
              0,
              "#0d0887"
             ],
             [
              0.1111111111111111,
              "#46039f"
             ],
             [
              0.2222222222222222,
              "#7201a8"
             ],
             [
              0.3333333333333333,
              "#9c179e"
             ],
             [
              0.4444444444444444,
              "#bd3786"
             ],
             [
              0.5555555555555556,
              "#d8576b"
             ],
             [
              0.6666666666666666,
              "#ed7953"
             ],
             [
              0.7777777777777778,
              "#fb9f3a"
             ],
             [
              0.8888888888888888,
              "#fdca26"
             ],
             [
              1,
              "#f0f921"
             ]
            ],
            "type": "contour"
           }
          ],
          "contourcarpet": [
           {
            "colorbar": {
             "outlinewidth": 0,
             "ticks": ""
            },
            "type": "contourcarpet"
           }
          ],
          "heatmap": [
           {
            "colorbar": {
             "outlinewidth": 0,
             "ticks": ""
            },
            "colorscale": [
             [
              0,
              "#0d0887"
             ],
             [
              0.1111111111111111,
              "#46039f"
             ],
             [
              0.2222222222222222,
              "#7201a8"
             ],
             [
              0.3333333333333333,
              "#9c179e"
             ],
             [
              0.4444444444444444,
              "#bd3786"
             ],
             [
              0.5555555555555556,
              "#d8576b"
             ],
             [
              0.6666666666666666,
              "#ed7953"
             ],
             [
              0.7777777777777778,
              "#fb9f3a"
             ],
             [
              0.8888888888888888,
              "#fdca26"
             ],
             [
              1,
              "#f0f921"
             ]
            ],
            "type": "heatmap"
           }
          ],
          "heatmapgl": [
           {
            "colorbar": {
             "outlinewidth": 0,
             "ticks": ""
            },
            "colorscale": [
             [
              0,
              "#0d0887"
             ],
             [
              0.1111111111111111,
              "#46039f"
             ],
             [
              0.2222222222222222,
              "#7201a8"
             ],
             [
              0.3333333333333333,
              "#9c179e"
             ],
             [
              0.4444444444444444,
              "#bd3786"
             ],
             [
              0.5555555555555556,
              "#d8576b"
             ],
             [
              0.6666666666666666,
              "#ed7953"
             ],
             [
              0.7777777777777778,
              "#fb9f3a"
             ],
             [
              0.8888888888888888,
              "#fdca26"
             ],
             [
              1,
              "#f0f921"
             ]
            ],
            "type": "heatmapgl"
           }
          ],
          "histogram": [
           {
            "marker": {
             "pattern": {
              "fillmode": "overlay",
              "size": 10,
              "solidity": 0.2
             }
            },
            "type": "histogram"
           }
          ],
          "histogram2d": [
           {
            "colorbar": {
             "outlinewidth": 0,
             "ticks": ""
            },
            "colorscale": [
             [
              0,
              "#0d0887"
             ],
             [
              0.1111111111111111,
              "#46039f"
             ],
             [
              0.2222222222222222,
              "#7201a8"
             ],
             [
              0.3333333333333333,
              "#9c179e"
             ],
             [
              0.4444444444444444,
              "#bd3786"
             ],
             [
              0.5555555555555556,
              "#d8576b"
             ],
             [
              0.6666666666666666,
              "#ed7953"
             ],
             [
              0.7777777777777778,
              "#fb9f3a"
             ],
             [
              0.8888888888888888,
              "#fdca26"
             ],
             [
              1,
              "#f0f921"
             ]
            ],
            "type": "histogram2d"
           }
          ],
          "histogram2dcontour": [
           {
            "colorbar": {
             "outlinewidth": 0,
             "ticks": ""
            },
            "colorscale": [
             [
              0,
              "#0d0887"
             ],
             [
              0.1111111111111111,
              "#46039f"
             ],
             [
              0.2222222222222222,
              "#7201a8"
             ],
             [
              0.3333333333333333,
              "#9c179e"
             ],
             [
              0.4444444444444444,
              "#bd3786"
             ],
             [
              0.5555555555555556,
              "#d8576b"
             ],
             [
              0.6666666666666666,
              "#ed7953"
             ],
             [
              0.7777777777777778,
              "#fb9f3a"
             ],
             [
              0.8888888888888888,
              "#fdca26"
             ],
             [
              1,
              "#f0f921"
             ]
            ],
            "type": "histogram2dcontour"
           }
          ],
          "mesh3d": [
           {
            "colorbar": {
             "outlinewidth": 0,
             "ticks": ""
            },
            "type": "mesh3d"
           }
          ],
          "parcoords": [
           {
            "line": {
             "colorbar": {
              "outlinewidth": 0,
              "ticks": ""
             }
            },
            "type": "parcoords"
           }
          ],
          "pie": [
           {
            "automargin": true,
            "type": "pie"
           }
          ],
          "scatter": [
           {
            "fillpattern": {
             "fillmode": "overlay",
             "size": 10,
             "solidity": 0.2
            },
            "type": "scatter"
           }
          ],
          "scatter3d": [
           {
            "line": {
             "colorbar": {
              "outlinewidth": 0,
              "ticks": ""
             }
            },
            "marker": {
             "colorbar": {
              "outlinewidth": 0,
              "ticks": ""
             }
            },
            "type": "scatter3d"
           }
          ],
          "scattercarpet": [
           {
            "marker": {
             "colorbar": {
              "outlinewidth": 0,
              "ticks": ""
             }
            },
            "type": "scattercarpet"
           }
          ],
          "scattergeo": [
           {
            "marker": {
             "colorbar": {
              "outlinewidth": 0,
              "ticks": ""
             }
            },
            "type": "scattergeo"
           }
          ],
          "scattergl": [
           {
            "marker": {
             "colorbar": {
              "outlinewidth": 0,
              "ticks": ""
             }
            },
            "type": "scattergl"
           }
          ],
          "scattermapbox": [
           {
            "marker": {
             "colorbar": {
              "outlinewidth": 0,
              "ticks": ""
             }
            },
            "type": "scattermapbox"
           }
          ],
          "scatterpolar": [
           {
            "marker": {
             "colorbar": {
              "outlinewidth": 0,
              "ticks": ""
             }
            },
            "type": "scatterpolar"
           }
          ],
          "scatterpolargl": [
           {
            "marker": {
             "colorbar": {
              "outlinewidth": 0,
              "ticks": ""
             }
            },
            "type": "scatterpolargl"
           }
          ],
          "scatterternary": [
           {
            "marker": {
             "colorbar": {
              "outlinewidth": 0,
              "ticks": ""
             }
            },
            "type": "scatterternary"
           }
          ],
          "surface": [
           {
            "colorbar": {
             "outlinewidth": 0,
             "ticks": ""
            },
            "colorscale": [
             [
              0,
              "#0d0887"
             ],
             [
              0.1111111111111111,
              "#46039f"
             ],
             [
              0.2222222222222222,
              "#7201a8"
             ],
             [
              0.3333333333333333,
              "#9c179e"
             ],
             [
              0.4444444444444444,
              "#bd3786"
             ],
             [
              0.5555555555555556,
              "#d8576b"
             ],
             [
              0.6666666666666666,
              "#ed7953"
             ],
             [
              0.7777777777777778,
              "#fb9f3a"
             ],
             [
              0.8888888888888888,
              "#fdca26"
             ],
             [
              1,
              "#f0f921"
             ]
            ],
            "type": "surface"
           }
          ],
          "table": [
           {
            "cells": {
             "fill": {
              "color": "#EBF0F8"
             },
             "line": {
              "color": "white"
             }
            },
            "header": {
             "fill": {
              "color": "#C8D4E3"
             },
             "line": {
              "color": "white"
             }
            },
            "type": "table"
           }
          ]
         },
         "layout": {
          "annotationdefaults": {
           "arrowcolor": "#2a3f5f",
           "arrowhead": 0,
           "arrowwidth": 1
          },
          "autotypenumbers": "strict",
          "coloraxis": {
           "colorbar": {
            "outlinewidth": 0,
            "ticks": ""
           }
          },
          "colorscale": {
           "diverging": [
            [
             0,
             "#8e0152"
            ],
            [
             0.1,
             "#c51b7d"
            ],
            [
             0.2,
             "#de77ae"
            ],
            [
             0.3,
             "#f1b6da"
            ],
            [
             0.4,
             "#fde0ef"
            ],
            [
             0.5,
             "#f7f7f7"
            ],
            [
             0.6,
             "#e6f5d0"
            ],
            [
             0.7,
             "#b8e186"
            ],
            [
             0.8,
             "#7fbc41"
            ],
            [
             0.9,
             "#4d9221"
            ],
            [
             1,
             "#276419"
            ]
           ],
           "sequential": [
            [
             0,
             "#0d0887"
            ],
            [
             0.1111111111111111,
             "#46039f"
            ],
            [
             0.2222222222222222,
             "#7201a8"
            ],
            [
             0.3333333333333333,
             "#9c179e"
            ],
            [
             0.4444444444444444,
             "#bd3786"
            ],
            [
             0.5555555555555556,
             "#d8576b"
            ],
            [
             0.6666666666666666,
             "#ed7953"
            ],
            [
             0.7777777777777778,
             "#fb9f3a"
            ],
            [
             0.8888888888888888,
             "#fdca26"
            ],
            [
             1,
             "#f0f921"
            ]
           ],
           "sequentialminus": [
            [
             0,
             "#0d0887"
            ],
            [
             0.1111111111111111,
             "#46039f"
            ],
            [
             0.2222222222222222,
             "#7201a8"
            ],
            [
             0.3333333333333333,
             "#9c179e"
            ],
            [
             0.4444444444444444,
             "#bd3786"
            ],
            [
             0.5555555555555556,
             "#d8576b"
            ],
            [
             0.6666666666666666,
             "#ed7953"
            ],
            [
             0.7777777777777778,
             "#fb9f3a"
            ],
            [
             0.8888888888888888,
             "#fdca26"
            ],
            [
             1,
             "#f0f921"
            ]
           ]
          },
          "colorway": [
           "#636efa",
           "#EF553B",
           "#00cc96",
           "#ab63fa",
           "#FFA15A",
           "#19d3f3",
           "#FF6692",
           "#B6E880",
           "#FF97FF",
           "#FECB52"
          ],
          "font": {
           "color": "#2a3f5f"
          },
          "geo": {
           "bgcolor": "white",
           "lakecolor": "white",
           "landcolor": "#E5ECF6",
           "showlakes": true,
           "showland": true,
           "subunitcolor": "white"
          },
          "hoverlabel": {
           "align": "left"
          },
          "hovermode": "closest",
          "mapbox": {
           "style": "light"
          },
          "paper_bgcolor": "white",
          "plot_bgcolor": "#E5ECF6",
          "polar": {
           "angularaxis": {
            "gridcolor": "white",
            "linecolor": "white",
            "ticks": ""
           },
           "bgcolor": "#E5ECF6",
           "radialaxis": {
            "gridcolor": "white",
            "linecolor": "white",
            "ticks": ""
           }
          },
          "scene": {
           "xaxis": {
            "backgroundcolor": "#E5ECF6",
            "gridcolor": "white",
            "gridwidth": 2,
            "linecolor": "white",
            "showbackground": true,
            "ticks": "",
            "zerolinecolor": "white"
           },
           "yaxis": {
            "backgroundcolor": "#E5ECF6",
            "gridcolor": "white",
            "gridwidth": 2,
            "linecolor": "white",
            "showbackground": true,
            "ticks": "",
            "zerolinecolor": "white"
           },
           "zaxis": {
            "backgroundcolor": "#E5ECF6",
            "gridcolor": "white",
            "gridwidth": 2,
            "linecolor": "white",
            "showbackground": true,
            "ticks": "",
            "zerolinecolor": "white"
           }
          },
          "shapedefaults": {
           "line": {
            "color": "#2a3f5f"
           }
          },
          "ternary": {
           "aaxis": {
            "gridcolor": "white",
            "linecolor": "white",
            "ticks": ""
           },
           "baxis": {
            "gridcolor": "white",
            "linecolor": "white",
            "ticks": ""
           },
           "bgcolor": "#E5ECF6",
           "caxis": {
            "gridcolor": "white",
            "linecolor": "white",
            "ticks": ""
           }
          },
          "title": {
           "x": 0.05
          },
          "xaxis": {
           "automargin": true,
           "gridcolor": "white",
           "linecolor": "white",
           "ticks": "",
           "title": {
            "standoff": 15
           },
           "zerolinecolor": "white",
           "zerolinewidth": 2
          },
          "yaxis": {
           "automargin": true,
           "gridcolor": "white",
           "linecolor": "white",
           "ticks": "",
           "title": {
            "standoff": 15
           },
           "zerolinecolor": "white",
           "zerolinewidth": 2
          }
         }
        },
        "title": {
         "text": "Uncertainty comparison between kmeans and random"
        },
        "xaxis": {
         "anchor": "y",
         "domain": [
          0,
          1
         ],
         "title": {
          "text": "rule"
         }
        },
        "yaxis": {
         "anchor": "x",
         "domain": [
          0,
          1
         ],
         "title": {
          "text": "value"
         }
        }
       }
      }
     },
     "metadata": {},
     "output_type": "display_data"
    }
   ],
   "source": [
    "px.bar(merged, x='rule', y=['uncertainty_kmeans', 'uncertainty_random'], \n",
    "       title='Uncertainty comparison between kmeans and random', # put bars next to each other\n",
    "       barmode='group')"
   ]
  },
  {
   "cell_type": "code",
   "execution_count": null,
   "metadata": {},
   "outputs": [],
   "source": []
  },
  {
   "cell_type": "markdown",
   "metadata": {},
   "source": [
    "# Misc"
   ]
  },
  {
   "cell_type": "code",
   "execution_count": 25,
   "metadata": {},
   "outputs": [],
   "source": [
    "df_  = pd.read_csv(r\"datasets\\breast-cancer-wisconsin.csv\")\n",
    "df_[\"labels\"] = df_[\"labels\"].replace({2: 0, 4: 1})\n",
    "df_.to_csv(r\"datasets\\breast-cancer-wisconsin.csv\", index=False)"
   ]
  },
  {
   "cell_type": "code",
   "execution_count": null,
   "metadata": {},
   "outputs": [],
   "source": []
  }
 ],
 "metadata": {
  "kernelspec": {
   "display_name": "thesis",
   "language": "python",
   "name": "python3"
  },
  "language_info": {
   "codemirror_mode": {
    "name": "ipython",
    "version": 3
   },
   "file_extension": ".py",
   "mimetype": "text/x-python",
   "name": "python",
   "nbconvert_exporter": "python",
   "pygments_lexer": "ipython3",
   "version": "3.10.14"
  }
 },
 "nbformat": 4,
 "nbformat_minor": 2
}
