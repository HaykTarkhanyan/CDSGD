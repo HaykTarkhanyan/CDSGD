{
 "cells": [
  {
   "cell_type": "code",
   "execution_count": 1,
   "metadata": {},
   "outputs": [],
   "source": [
    "import pickle \n",
    "import numpy as np\n",
    "import matplotlib.pyplot as plt\n",
    "\n",
    "import plotly.express as px\n",
    "import pandas as pd\n",
    "\n",
    "import os"
   ]
  },
  {
   "cell_type": "code",
   "execution_count": 2,
   "metadata": {},
   "outputs": [],
   "source": [
    "import logging\n",
    "logging.basicConfig(level=logging.DEBUG, format=\"%(asctime)s [%(levelname)s] %(message)s\", \n",
    "                    datefmt=\"%d-%b-%y %H:%M:%S\")"
   ]
  },
  {
   "cell_type": "code",
   "execution_count": 3,
   "metadata": {},
   "outputs": [
    {
     "name": "stderr",
     "output_type": "stream",
     "text": [
      "29-Apr-24 02:55:49 [INFO] Found 24 rules\n"
     ]
    }
   ],
   "source": [
    "RULE_FOLDER = \"rules_saved_clean\"\n",
    "PLOT_FOLDER = \"plots\"\n",
    "\n",
    "assert os.path.exists(RULE_FOLDER), f\"Folder {RULE_FOLDER} does not exist\"\n",
    "\n",
    "rules = os.listdir(RULE_FOLDER)\n",
    "logging.info(f\"Found {len(rules)} rules\")"
   ]
  },
  {
   "cell_type": "code",
   "execution_count": 4,
   "metadata": {},
   "outputs": [
    {
     "data": {
      "text/html": [
       "<div>\n",
       "<style scoped>\n",
       "    .dataframe tbody tr th:only-of-type {\n",
       "        vertical-align: middle;\n",
       "    }\n",
       "\n",
       "    .dataframe tbody tr th {\n",
       "        vertical-align: top;\n",
       "    }\n",
       "\n",
       "    .dataframe thead th {\n",
       "        text-align: right;\n",
       "    }\n",
       "</style>\n",
       "<table border=\"1\" class=\"dataframe\">\n",
       "  <thead>\n",
       "    <tr style=\"text-align: right;\">\n",
       "      <th></th>\n",
       "      <th>datetime</th>\n",
       "      <th>name</th>\n",
       "      <th>MAF method</th>\n",
       "      <th>dataset</th>\n",
       "      <th>breaks</th>\n",
       "      <th>mult_rules</th>\n",
       "      <th>accuracy</th>\n",
       "      <th>f1</th>\n",
       "      <th>confusion_matrix</th>\n",
       "      <th>training_time</th>\n",
       "      <th>epochs</th>\n",
       "      <th>min_loss</th>\n",
       "      <th>all_losses</th>\n",
       "      <th>clustering_alg</th>\n",
       "      <th>label_for_dist</th>\n",
       "    </tr>\n",
       "  </thead>\n",
       "  <tbody>\n",
       "    <tr>\n",
       "      <th>0</th>\n",
       "      <td>29-04-2024 01:29:37</td>\n",
       "      <td>dataset=Brain Tumor, label_for_dist=labels, cl...</td>\n",
       "      <td>clustering</td>\n",
       "      <td>Brain Tumor</td>\n",
       "      <td>3</td>\n",
       "      <td>False</td>\n",
       "      <td>0.981399</td>\n",
       "      <td>0.979512</td>\n",
       "      <td>[[606   5]\\n [ 16 502]]</td>\n",
       "      <td>138.469266</td>\n",
       "      <td>117</td>\n",
       "      <td>0.017742</td>\n",
       "      <td>[0.18103890120983124, 0.1676415055990219, 0.15...</td>\n",
       "      <td>kmeans</td>\n",
       "      <td>labels</td>\n",
       "    </tr>\n",
       "    <tr>\n",
       "      <th>1</th>\n",
       "      <td>29-04-2024 01:32:15</td>\n",
       "      <td>dataset=Brain Tumor, label_for_dist=labels, cl...</td>\n",
       "      <td>random</td>\n",
       "      <td>Brain Tumor</td>\n",
       "      <td>3</td>\n",
       "      <td>False</td>\n",
       "      <td>0.983171</td>\n",
       "      <td>0.981354</td>\n",
       "      <td>[[610   1]\\n [ 18 500]]</td>\n",
       "      <td>157.075140</td>\n",
       "      <td>132</td>\n",
       "      <td>0.025984</td>\n",
       "      <td>[0.24496003985404968, 0.22858241200447083, 0.2...</td>\n",
       "      <td>kmeans</td>\n",
       "      <td>labels</td>\n",
       "    </tr>\n",
       "    <tr>\n",
       "      <th>2</th>\n",
       "      <td>29-04-2024 01:33:19</td>\n",
       "      <td>dataset=Brain Tumor, label_for_dist=labels, cl...</td>\n",
       "      <td>clustering</td>\n",
       "      <td>Brain Tumor</td>\n",
       "      <td>3</td>\n",
       "      <td>False</td>\n",
       "      <td>0.976971</td>\n",
       "      <td>0.974609</td>\n",
       "      <td>[[604   7]\\n [ 19 499]]</td>\n",
       "      <td>57.864712</td>\n",
       "      <td>53</td>\n",
       "      <td>0.019212</td>\n",
       "      <td>[0.10689033567905426, 0.10017016530036926, 0.0...</td>\n",
       "      <td>dbscan</td>\n",
       "      <td>labels</td>\n",
       "    </tr>\n",
       "    <tr>\n",
       "      <th>3</th>\n",
       "      <td>29-04-2024 01:36:56</td>\n",
       "      <td>dataset=Brain Tumor, label_for_dist=labels, cl...</td>\n",
       "      <td>random</td>\n",
       "      <td>Brain Tumor</td>\n",
       "      <td>3</td>\n",
       "      <td>False</td>\n",
       "      <td>0.983171</td>\n",
       "      <td>0.981354</td>\n",
       "      <td>[[610   1]\\n [ 18 500]]</td>\n",
       "      <td>216.230863</td>\n",
       "      <td>140</td>\n",
       "      <td>0.026570</td>\n",
       "      <td>[0.2780771553516388, 0.2600518465042114, 0.243...</td>\n",
       "      <td>dbscan</td>\n",
       "      <td>labels</td>\n",
       "    </tr>\n",
       "    <tr>\n",
       "      <th>4</th>\n",
       "      <td>29-04-2024 01:37:15</td>\n",
       "      <td>dataset=breast-cancer-wisconsin, label_for_dis...</td>\n",
       "      <td>clustering</td>\n",
       "      <td>breast-cancer-wisconsin</td>\n",
       "      <td>3</td>\n",
       "      <td>False</td>\n",
       "      <td>0.975610</td>\n",
       "      <td>0.965986</td>\n",
       "      <td>[[129   3]\\n [  2  71]]</td>\n",
       "      <td>17.243015</td>\n",
       "      <td>73</td>\n",
       "      <td>0.022736</td>\n",
       "      <td>[0.22843290865421295, 0.21911616623401642, 0.2...</td>\n",
       "      <td>kmeans</td>\n",
       "      <td>labels</td>\n",
       "    </tr>\n",
       "    <tr>\n",
       "      <th>5</th>\n",
       "      <td>29-04-2024 01:37:35</td>\n",
       "      <td>dataset=breast-cancer-wisconsin, label_for_dis...</td>\n",
       "      <td>random</td>\n",
       "      <td>breast-cancer-wisconsin</td>\n",
       "      <td>3</td>\n",
       "      <td>False</td>\n",
       "      <td>0.975610</td>\n",
       "      <td>0.965986</td>\n",
       "      <td>[[129   3]\\n [  2  71]]</td>\n",
       "      <td>19.629939</td>\n",
       "      <td>117</td>\n",
       "      <td>0.030730</td>\n",
       "      <td>[0.3084924817085266, 0.2875896692276001, 0.267...</td>\n",
       "      <td>kmeans</td>\n",
       "      <td>labels</td>\n",
       "    </tr>\n",
       "    <tr>\n",
       "      <th>6</th>\n",
       "      <td>29-04-2024 01:37:57</td>\n",
       "      <td>dataset=breast-cancer-wisconsin, label_for_dis...</td>\n",
       "      <td>clustering</td>\n",
       "      <td>breast-cancer-wisconsin</td>\n",
       "      <td>3</td>\n",
       "      <td>False</td>\n",
       "      <td>0.960976</td>\n",
       "      <td>0.944444</td>\n",
       "      <td>[[129   3]\\n [  5  68]]</td>\n",
       "      <td>20.698811</td>\n",
       "      <td>88</td>\n",
       "      <td>0.025124</td>\n",
       "      <td>[0.5811095237731934, 0.5710375308990479, 0.559...</td>\n",
       "      <td>dbscan</td>\n",
       "      <td>labels</td>\n",
       "    </tr>\n",
       "    <tr>\n",
       "      <th>7</th>\n",
       "      <td>29-04-2024 01:38:23</td>\n",
       "      <td>dataset=breast-cancer-wisconsin, label_for_dis...</td>\n",
       "      <td>random</td>\n",
       "      <td>breast-cancer-wisconsin</td>\n",
       "      <td>3</td>\n",
       "      <td>False</td>\n",
       "      <td>0.970732</td>\n",
       "      <td>0.959459</td>\n",
       "      <td>[[128   4]\\n [  2  71]]</td>\n",
       "      <td>24.956167</td>\n",
       "      <td>112</td>\n",
       "      <td>0.029798</td>\n",
       "      <td>[0.25656089186668396, 0.23777367174625397, 0.2...</td>\n",
       "      <td>dbscan</td>\n",
       "      <td>labels</td>\n",
       "    </tr>\n",
       "    <tr>\n",
       "      <th>8</th>\n",
       "      <td>29-04-2024 01:38:40</td>\n",
       "      <td>dataset=gaussian_df, label_for_dist=labels, cl...</td>\n",
       "      <td>clustering</td>\n",
       "      <td>gaussian_df</td>\n",
       "      <td>3</td>\n",
       "      <td>False</td>\n",
       "      <td>0.986667</td>\n",
       "      <td>0.987500</td>\n",
       "      <td>[[69  2]\\n [ 0 79]]</td>\n",
       "      <td>15.792498</td>\n",
       "      <td>100</td>\n",
       "      <td>0.016695</td>\n",
       "      <td>[0.0826035887002945, 0.07975836843252182, 0.07...</td>\n",
       "      <td>kmeans</td>\n",
       "      <td>labels</td>\n",
       "    </tr>\n",
       "    <tr>\n",
       "      <th>9</th>\n",
       "      <td>29-04-2024 01:39:19</td>\n",
       "      <td>dataset=gaussian_df, label_for_dist=labels, cl...</td>\n",
       "      <td>random</td>\n",
       "      <td>gaussian_df</td>\n",
       "      <td>3</td>\n",
       "      <td>False</td>\n",
       "      <td>0.986667</td>\n",
       "      <td>0.987500</td>\n",
       "      <td>[[69  2]\\n [ 0 79]]</td>\n",
       "      <td>39.058897</td>\n",
       "      <td>264</td>\n",
       "      <td>0.023637</td>\n",
       "      <td>[0.2653946876525879, 0.2601081132888794, 0.254...</td>\n",
       "      <td>kmeans</td>\n",
       "      <td>labels</td>\n",
       "    </tr>\n",
       "    <tr>\n",
       "      <th>10</th>\n",
       "      <td>29-04-2024 01:39:40</td>\n",
       "      <td>dataset=gaussian_df, label_for_dist=labels, cl...</td>\n",
       "      <td>clustering</td>\n",
       "      <td>gaussian_df</td>\n",
       "      <td>3</td>\n",
       "      <td>False</td>\n",
       "      <td>0.986667</td>\n",
       "      <td>0.987500</td>\n",
       "      <td>[[69  2]\\n [ 0 79]]</td>\n",
       "      <td>20.060555</td>\n",
       "      <td>137</td>\n",
       "      <td>0.017341</td>\n",
       "      <td>[0.11276591569185257, 0.1090264767408371, 0.10...</td>\n",
       "      <td>dbscan</td>\n",
       "      <td>labels</td>\n",
       "    </tr>\n",
       "    <tr>\n",
       "      <th>11</th>\n",
       "      <td>29-04-2024 01:40:25</td>\n",
       "      <td>dataset=gaussian_df, label_for_dist=labels, cl...</td>\n",
       "      <td>random</td>\n",
       "      <td>gaussian_df</td>\n",
       "      <td>3</td>\n",
       "      <td>False</td>\n",
       "      <td>0.980000</td>\n",
       "      <td>0.981132</td>\n",
       "      <td>[[69  2]\\n [ 1 78]]</td>\n",
       "      <td>44.205608</td>\n",
       "      <td>256</td>\n",
       "      <td>0.022563</td>\n",
       "      <td>[0.265293151140213, 0.2599472999572754, 0.2546...</td>\n",
       "      <td>dbscan</td>\n",
       "      <td>labels</td>\n",
       "    </tr>\n",
       "    <tr>\n",
       "      <th>12</th>\n",
       "      <td>29-04-2024 01:41:27</td>\n",
       "      <td>dataset=rectangle_df, label_for_dist=labels, c...</td>\n",
       "      <td>clustering</td>\n",
       "      <td>rectangle_df</td>\n",
       "      <td>3</td>\n",
       "      <td>False</td>\n",
       "      <td>1.000000</td>\n",
       "      <td>1.000000</td>\n",
       "      <td>[[188   0]\\n [  0 191]]</td>\n",
       "      <td>61.031735</td>\n",
       "      <td>167</td>\n",
       "      <td>0.006148</td>\n",
       "      <td>[0.25244638323783875, 0.24525268375873566, 0.2...</td>\n",
       "      <td>kmeans</td>\n",
       "      <td>labels</td>\n",
       "    </tr>\n",
       "    <tr>\n",
       "      <th>13</th>\n",
       "      <td>29-04-2024 01:43:06</td>\n",
       "      <td>dataset=rectangle_df, label_for_dist=labels, c...</td>\n",
       "      <td>random</td>\n",
       "      <td>rectangle_df</td>\n",
       "      <td>3</td>\n",
       "      <td>False</td>\n",
       "      <td>1.000000</td>\n",
       "      <td>1.000000</td>\n",
       "      <td>[[188   0]\\n [  0 191]]</td>\n",
       "      <td>98.640162</td>\n",
       "      <td>275</td>\n",
       "      <td>0.007604</td>\n",
       "      <td>[0.23527874052524567, 0.23235896229743958, 0.2...</td>\n",
       "      <td>kmeans</td>\n",
       "      <td>labels</td>\n",
       "    </tr>\n",
       "    <tr>\n",
       "      <th>14</th>\n",
       "      <td>29-04-2024 01:44:03</td>\n",
       "      <td>dataset=rectangle_df, label_for_dist=labels, c...</td>\n",
       "      <td>clustering</td>\n",
       "      <td>rectangle_df</td>\n",
       "      <td>3</td>\n",
       "      <td>False</td>\n",
       "      <td>1.000000</td>\n",
       "      <td>1.000000</td>\n",
       "      <td>[[188   0]\\n [  0 191]]</td>\n",
       "      <td>55.945316</td>\n",
       "      <td>169</td>\n",
       "      <td>0.006266</td>\n",
       "      <td>[0.22856685519218445, 0.2217974215745926, 0.21...</td>\n",
       "      <td>dbscan</td>\n",
       "      <td>labels</td>\n",
       "    </tr>\n",
       "    <tr>\n",
       "      <th>15</th>\n",
       "      <td>29-04-2024 01:45:45</td>\n",
       "      <td>dataset=rectangle_df, label_for_dist=labels, c...</td>\n",
       "      <td>random</td>\n",
       "      <td>rectangle_df</td>\n",
       "      <td>3</td>\n",
       "      <td>False</td>\n",
       "      <td>1.000000</td>\n",
       "      <td>1.000000</td>\n",
       "      <td>[[188   0]\\n [  0 191]]</td>\n",
       "      <td>100.701972</td>\n",
       "      <td>279</td>\n",
       "      <td>0.007755</td>\n",
       "      <td>[0.24071601033210754, 0.23781025409698486, 0.2...</td>\n",
       "      <td>dbscan</td>\n",
       "      <td>labels</td>\n",
       "    </tr>\n",
       "    <tr>\n",
       "      <th>16</th>\n",
       "      <td>29-04-2024 01:46:06</td>\n",
       "      <td>dataset=uniform_df, label_for_dist=labels, clu...</td>\n",
       "      <td>clustering</td>\n",
       "      <td>uniform_df</td>\n",
       "      <td>3</td>\n",
       "      <td>False</td>\n",
       "      <td>0.973333</td>\n",
       "      <td>0.969697</td>\n",
       "      <td>[[82  0]\\n [ 4 64]]</td>\n",
       "      <td>20.683089</td>\n",
       "      <td>120</td>\n",
       "      <td>0.034655</td>\n",
       "      <td>[0.19738028943538666, 0.1909346729516983, 0.18...</td>\n",
       "      <td>kmeans</td>\n",
       "      <td>labels</td>\n",
       "    </tr>\n",
       "    <tr>\n",
       "      <th>17</th>\n",
       "      <td>29-04-2024 01:46:46</td>\n",
       "      <td>dataset=uniform_df, label_for_dist=labels, clu...</td>\n",
       "      <td>random</td>\n",
       "      <td>uniform_df</td>\n",
       "      <td>3</td>\n",
       "      <td>False</td>\n",
       "      <td>0.973333</td>\n",
       "      <td>0.969697</td>\n",
       "      <td>[[82  0]\\n [ 4 64]]</td>\n",
       "      <td>39.207926</td>\n",
       "      <td>273</td>\n",
       "      <td>0.037446</td>\n",
       "      <td>[0.25548678636550903, 0.25264304876327515, 0.2...</td>\n",
       "      <td>kmeans</td>\n",
       "      <td>labels</td>\n",
       "    </tr>\n",
       "    <tr>\n",
       "      <th>18</th>\n",
       "      <td>29-04-2024 01:47:12</td>\n",
       "      <td>dataset=uniform_df, label_for_dist=labels, clu...</td>\n",
       "      <td>clustering</td>\n",
       "      <td>uniform_df</td>\n",
       "      <td>3</td>\n",
       "      <td>False</td>\n",
       "      <td>0.973333</td>\n",
       "      <td>0.969697</td>\n",
       "      <td>[[82  0]\\n [ 4 64]]</td>\n",
       "      <td>25.484077</td>\n",
       "      <td>139</td>\n",
       "      <td>0.034062</td>\n",
       "      <td>[0.16751040518283844, 0.16334959864616394, 0.1...</td>\n",
       "      <td>dbscan</td>\n",
       "      <td>labels</td>\n",
       "    </tr>\n",
       "    <tr>\n",
       "      <th>19</th>\n",
       "      <td>29-04-2024 01:47:58</td>\n",
       "      <td>dataset=uniform_df, label_for_dist=labels, clu...</td>\n",
       "      <td>random</td>\n",
       "      <td>uniform_df</td>\n",
       "      <td>3</td>\n",
       "      <td>False</td>\n",
       "      <td>0.973333</td>\n",
       "      <td>0.969697</td>\n",
       "      <td>[[82  0]\\n [ 4 64]]</td>\n",
       "      <td>45.514819</td>\n",
       "      <td>271</td>\n",
       "      <td>0.037376</td>\n",
       "      <td>[0.2649640440940857, 0.2616409361362457, 0.258...</td>\n",
       "      <td>dbscan</td>\n",
       "      <td>labels</td>\n",
       "    </tr>\n",
       "    <tr>\n",
       "      <th>20</th>\n",
       "      <td>29-04-2024 01:48:24</td>\n",
       "      <td>dataset=wine, label_for_dist=labels, clust=kme...</td>\n",
       "      <td>clustering</td>\n",
       "      <td>wine</td>\n",
       "      <td>3</td>\n",
       "      <td>False</td>\n",
       "      <td>0.812308</td>\n",
       "      <td>0.000000</td>\n",
       "      <td>[[1584    0]\\n [ 366    0]]</td>\n",
       "      <td>8.767568</td>\n",
       "      <td>4</td>\n",
       "      <td>0.200222</td>\n",
       "      <td>[0.20033192664404503, 0.2003134857475666, 0.20...</td>\n",
       "      <td>kmeans</td>\n",
       "      <td>labels</td>\n",
       "    </tr>\n",
       "    <tr>\n",
       "      <th>21</th>\n",
       "      <td>29-04-2024 01:53:29</td>\n",
       "      <td>dataset=wine, label_for_dist=labels, clust=kme...</td>\n",
       "      <td>random</td>\n",
       "      <td>wine</td>\n",
       "      <td>3</td>\n",
       "      <td>False</td>\n",
       "      <td>1.000000</td>\n",
       "      <td>1.000000</td>\n",
       "      <td>[[1584    0]\\n [   0  366]]</td>\n",
       "      <td>304.204505</td>\n",
       "      <td>155</td>\n",
       "      <td>0.003065</td>\n",
       "      <td>[0.21269283826951013, 0.1866159661768661, 0.16...</td>\n",
       "      <td>kmeans</td>\n",
       "      <td>labels</td>\n",
       "    </tr>\n",
       "    <tr>\n",
       "      <th>22</th>\n",
       "      <td>29-04-2024 01:53:56</td>\n",
       "      <td>dataset=wine, label_for_dist=labels, clust=dbs...</td>\n",
       "      <td>clustering</td>\n",
       "      <td>wine</td>\n",
       "      <td>3</td>\n",
       "      <td>False</td>\n",
       "      <td>0.812308</td>\n",
       "      <td>0.000000</td>\n",
       "      <td>[[1584    0]\\n [ 366    0]]</td>\n",
       "      <td>9.696870</td>\n",
       "      <td>4</td>\n",
       "      <td>0.200350</td>\n",
       "      <td>[0.2003517868441751, 0.20035162113880572, 0.20...</td>\n",
       "      <td>dbscan</td>\n",
       "      <td>labels</td>\n",
       "    </tr>\n",
       "    <tr>\n",
       "      <th>23</th>\n",
       "      <td>29-04-2024 02:00:29</td>\n",
       "      <td>dataset=wine, label_for_dist=labels, clust=dbs...</td>\n",
       "      <td>random</td>\n",
       "      <td>wine</td>\n",
       "      <td>3</td>\n",
       "      <td>False</td>\n",
       "      <td>1.000000</td>\n",
       "      <td>1.000000</td>\n",
       "      <td>[[1584    0]\\n [   0  366]]</td>\n",
       "      <td>390.474706</td>\n",
       "      <td>141</td>\n",
       "      <td>0.003129</td>\n",
       "      <td>[0.19966578467195836, 0.1709617069423238, 0.15...</td>\n",
       "      <td>dbscan</td>\n",
       "      <td>labels</td>\n",
       "    </tr>\n",
       "  </tbody>\n",
       "</table>\n",
       "</div>"
      ],
      "text/plain": [
       "               datetime                                               name  \\\n",
       "0   29-04-2024 01:29:37  dataset=Brain Tumor, label_for_dist=labels, cl...   \n",
       "1   29-04-2024 01:32:15  dataset=Brain Tumor, label_for_dist=labels, cl...   \n",
       "2   29-04-2024 01:33:19  dataset=Brain Tumor, label_for_dist=labels, cl...   \n",
       "3   29-04-2024 01:36:56  dataset=Brain Tumor, label_for_dist=labels, cl...   \n",
       "4   29-04-2024 01:37:15  dataset=breast-cancer-wisconsin, label_for_dis...   \n",
       "5   29-04-2024 01:37:35  dataset=breast-cancer-wisconsin, label_for_dis...   \n",
       "6   29-04-2024 01:37:57  dataset=breast-cancer-wisconsin, label_for_dis...   \n",
       "7   29-04-2024 01:38:23  dataset=breast-cancer-wisconsin, label_for_dis...   \n",
       "8   29-04-2024 01:38:40  dataset=gaussian_df, label_for_dist=labels, cl...   \n",
       "9   29-04-2024 01:39:19  dataset=gaussian_df, label_for_dist=labels, cl...   \n",
       "10  29-04-2024 01:39:40  dataset=gaussian_df, label_for_dist=labels, cl...   \n",
       "11  29-04-2024 01:40:25  dataset=gaussian_df, label_for_dist=labels, cl...   \n",
       "12  29-04-2024 01:41:27  dataset=rectangle_df, label_for_dist=labels, c...   \n",
       "13  29-04-2024 01:43:06  dataset=rectangle_df, label_for_dist=labels, c...   \n",
       "14  29-04-2024 01:44:03  dataset=rectangle_df, label_for_dist=labels, c...   \n",
       "15  29-04-2024 01:45:45  dataset=rectangle_df, label_for_dist=labels, c...   \n",
       "16  29-04-2024 01:46:06  dataset=uniform_df, label_for_dist=labels, clu...   \n",
       "17  29-04-2024 01:46:46  dataset=uniform_df, label_for_dist=labels, clu...   \n",
       "18  29-04-2024 01:47:12  dataset=uniform_df, label_for_dist=labels, clu...   \n",
       "19  29-04-2024 01:47:58  dataset=uniform_df, label_for_dist=labels, clu...   \n",
       "20  29-04-2024 01:48:24  dataset=wine, label_for_dist=labels, clust=kme...   \n",
       "21  29-04-2024 01:53:29  dataset=wine, label_for_dist=labels, clust=kme...   \n",
       "22  29-04-2024 01:53:56  dataset=wine, label_for_dist=labels, clust=dbs...   \n",
       "23  29-04-2024 02:00:29  dataset=wine, label_for_dist=labels, clust=dbs...   \n",
       "\n",
       "    MAF method                  dataset  breaks  mult_rules  accuracy  \\\n",
       "0   clustering              Brain Tumor       3       False  0.981399   \n",
       "1       random              Brain Tumor       3       False  0.983171   \n",
       "2   clustering              Brain Tumor       3       False  0.976971   \n",
       "3       random              Brain Tumor       3       False  0.983171   \n",
       "4   clustering  breast-cancer-wisconsin       3       False  0.975610   \n",
       "5       random  breast-cancer-wisconsin       3       False  0.975610   \n",
       "6   clustering  breast-cancer-wisconsin       3       False  0.960976   \n",
       "7       random  breast-cancer-wisconsin       3       False  0.970732   \n",
       "8   clustering              gaussian_df       3       False  0.986667   \n",
       "9       random              gaussian_df       3       False  0.986667   \n",
       "10  clustering              gaussian_df       3       False  0.986667   \n",
       "11      random              gaussian_df       3       False  0.980000   \n",
       "12  clustering             rectangle_df       3       False  1.000000   \n",
       "13      random             rectangle_df       3       False  1.000000   \n",
       "14  clustering             rectangle_df       3       False  1.000000   \n",
       "15      random             rectangle_df       3       False  1.000000   \n",
       "16  clustering               uniform_df       3       False  0.973333   \n",
       "17      random               uniform_df       3       False  0.973333   \n",
       "18  clustering               uniform_df       3       False  0.973333   \n",
       "19      random               uniform_df       3       False  0.973333   \n",
       "20  clustering                     wine       3       False  0.812308   \n",
       "21      random                     wine       3       False  1.000000   \n",
       "22  clustering                     wine       3       False  0.812308   \n",
       "23      random                     wine       3       False  1.000000   \n",
       "\n",
       "          f1             confusion_matrix  training_time  epochs  min_loss  \\\n",
       "0   0.979512      [[606   5]\\n [ 16 502]]     138.469266     117  0.017742   \n",
       "1   0.981354      [[610   1]\\n [ 18 500]]     157.075140     132  0.025984   \n",
       "2   0.974609      [[604   7]\\n [ 19 499]]      57.864712      53  0.019212   \n",
       "3   0.981354      [[610   1]\\n [ 18 500]]     216.230863     140  0.026570   \n",
       "4   0.965986      [[129   3]\\n [  2  71]]      17.243015      73  0.022736   \n",
       "5   0.965986      [[129   3]\\n [  2  71]]      19.629939     117  0.030730   \n",
       "6   0.944444      [[129   3]\\n [  5  68]]      20.698811      88  0.025124   \n",
       "7   0.959459      [[128   4]\\n [  2  71]]      24.956167     112  0.029798   \n",
       "8   0.987500          [[69  2]\\n [ 0 79]]      15.792498     100  0.016695   \n",
       "9   0.987500          [[69  2]\\n [ 0 79]]      39.058897     264  0.023637   \n",
       "10  0.987500          [[69  2]\\n [ 0 79]]      20.060555     137  0.017341   \n",
       "11  0.981132          [[69  2]\\n [ 1 78]]      44.205608     256  0.022563   \n",
       "12  1.000000      [[188   0]\\n [  0 191]]      61.031735     167  0.006148   \n",
       "13  1.000000      [[188   0]\\n [  0 191]]      98.640162     275  0.007604   \n",
       "14  1.000000      [[188   0]\\n [  0 191]]      55.945316     169  0.006266   \n",
       "15  1.000000      [[188   0]\\n [  0 191]]     100.701972     279  0.007755   \n",
       "16  0.969697          [[82  0]\\n [ 4 64]]      20.683089     120  0.034655   \n",
       "17  0.969697          [[82  0]\\n [ 4 64]]      39.207926     273  0.037446   \n",
       "18  0.969697          [[82  0]\\n [ 4 64]]      25.484077     139  0.034062   \n",
       "19  0.969697          [[82  0]\\n [ 4 64]]      45.514819     271  0.037376   \n",
       "20  0.000000  [[1584    0]\\n [ 366    0]]       8.767568       4  0.200222   \n",
       "21  1.000000  [[1584    0]\\n [   0  366]]     304.204505     155  0.003065   \n",
       "22  0.000000  [[1584    0]\\n [ 366    0]]       9.696870       4  0.200350   \n",
       "23  1.000000  [[1584    0]\\n [   0  366]]     390.474706     141  0.003129   \n",
       "\n",
       "                                           all_losses clustering_alg  \\\n",
       "0   [0.18103890120983124, 0.1676415055990219, 0.15...         kmeans   \n",
       "1   [0.24496003985404968, 0.22858241200447083, 0.2...         kmeans   \n",
       "2   [0.10689033567905426, 0.10017016530036926, 0.0...         dbscan   \n",
       "3   [0.2780771553516388, 0.2600518465042114, 0.243...         dbscan   \n",
       "4   [0.22843290865421295, 0.21911616623401642, 0.2...         kmeans   \n",
       "5   [0.3084924817085266, 0.2875896692276001, 0.267...         kmeans   \n",
       "6   [0.5811095237731934, 0.5710375308990479, 0.559...         dbscan   \n",
       "7   [0.25656089186668396, 0.23777367174625397, 0.2...         dbscan   \n",
       "8   [0.0826035887002945, 0.07975836843252182, 0.07...         kmeans   \n",
       "9   [0.2653946876525879, 0.2601081132888794, 0.254...         kmeans   \n",
       "10  [0.11276591569185257, 0.1090264767408371, 0.10...         dbscan   \n",
       "11  [0.265293151140213, 0.2599472999572754, 0.2546...         dbscan   \n",
       "12  [0.25244638323783875, 0.24525268375873566, 0.2...         kmeans   \n",
       "13  [0.23527874052524567, 0.23235896229743958, 0.2...         kmeans   \n",
       "14  [0.22856685519218445, 0.2217974215745926, 0.21...         dbscan   \n",
       "15  [0.24071601033210754, 0.23781025409698486, 0.2...         dbscan   \n",
       "16  [0.19738028943538666, 0.1909346729516983, 0.18...         kmeans   \n",
       "17  [0.25548678636550903, 0.25264304876327515, 0.2...         kmeans   \n",
       "18  [0.16751040518283844, 0.16334959864616394, 0.1...         dbscan   \n",
       "19  [0.2649640440940857, 0.2616409361362457, 0.258...         dbscan   \n",
       "20  [0.20033192664404503, 0.2003134857475666, 0.20...         kmeans   \n",
       "21  [0.21269283826951013, 0.1866159661768661, 0.16...         kmeans   \n",
       "22  [0.2003517868441751, 0.20035162113880572, 0.20...         dbscan   \n",
       "23  [0.19966578467195836, 0.1709617069423238, 0.15...         dbscan   \n",
       "\n",
       "   label_for_dist  \n",
       "0          labels  \n",
       "1          labels  \n",
       "2          labels  \n",
       "3          labels  \n",
       "4          labels  \n",
       "5          labels  \n",
       "6          labels  \n",
       "7          labels  \n",
       "8          labels  \n",
       "9          labels  \n",
       "10         labels  \n",
       "11         labels  \n",
       "12         labels  \n",
       "13         labels  \n",
       "14         labels  \n",
       "15         labels  \n",
       "16         labels  \n",
       "17         labels  \n",
       "18         labels  \n",
       "19         labels  \n",
       "20         labels  \n",
       "21         labels  \n",
       "22         labels  \n",
       "23         labels  "
      ]
     },
     "execution_count": 4,
     "metadata": {},
     "output_type": "execute_result"
    }
   ],
   "source": [
    "df_exps_all = pd.read_csv(\"experiments.csv\")\n",
    "df_exps_all "
   ]
  },
  {
   "cell_type": "code",
   "execution_count": 5,
   "metadata": {},
   "outputs": [],
   "source": [
    "def get_pairs(rules):\n",
    "    pairs = []\n",
    "    for rule1 in rules:\n",
    "        if 'maf_method' in rule1:\n",
    "            for rule2 in rules:\n",
    "                if rule1 == rule2 or (rule2, rule1) in pairs:\n",
    "                    continue\n",
    "                if rule2.startswith(rule1.split('maf_method')[0]):\n",
    "                    pairs.append((rule1, rule2))\n",
    "    return pairs\n",
    "\n",
    "def extract_res(rules_info):\n",
    "    rules = rules_info[\"preds\"]\n",
    "    mafs = rules_info[\"masses\"]\n",
    "    \n",
    "    rule_names = [str(i) for i in rules]\n",
    "    mass_first = [float(i[0]) for i in mafs]\n",
    "    mass_second = [float(i[1]) for i in mafs]\n",
    "    uncertainty = [float(i[2]) for i in mafs]\n",
    "    \n",
    "    res = {\"rule\": rule_names, \"mass_first\": mass_first, \"mass_second\": mass_second, \"uncertainty\": uncertainty}\n",
    "    return res"
   ]
  },
  {
   "cell_type": "code",
   "execution_count": 6,
   "metadata": {},
   "outputs": [
    {
     "data": {
      "text/plain": [
       "24"
      ]
     },
     "execution_count": 6,
     "metadata": {},
     "output_type": "execute_result"
    }
   ],
   "source": [
    "lst = [\"dataset=Brain Tumor, label_for_dist=labels, clust=kmeans breaks=3, add_mult_rules=False, maf_method=clustering\", \n",
    "\"dataset=Brain Tumor, label_for_dist=labels, clust=kmeans breaks=3, add_mult_rules=False, maf_method=random\",\n",
    "\"dataset=breast-cancer-wisconsin, label_for_dist=labels, clust=kmeans breaks=3, add_mult_rules=False, maf_method=clustering\",\n",
    "\"dataset=breast-cancer-wisconsin, label_for_dist=labels, clust=kmeans breaks=3, add_mult_rules=False, maf_method=random\",\n",
    "\"dataset=gaussian_df, label_for_dist=labels, clust=kmeans breaks=3, add_mult_rules=False, maf_method=clustering\",\n",
    "\"dataset=gaussian_df, label_for_dist=labels, clust=kmeans breaks=3, add_mult_rules=False, maf_method=random\",\n",
    "\"dataset=rectangle_df, label_for_dist=labels, clust=kmeans breaks=3, add_mult_rules=False, maf_method=clustering\",\n",
    "\"dataset=rectangle_df, label_for_dist=labels, clust=kmeans breaks=3, add_mult_rules=False, maf_method=random\",\n",
    "\"dataset=uniform_df, label_for_dist=labels, clust=kmeans breaks=3, add_mult_rules=False, maf_method=clustering\",\n",
    "\"dataset=uniform_df, label_for_dist=labels, clust=kmeans breaks=3, add_mult_rules=False, maf_method=random\"]\n",
    "\n",
    "lst = df_exps_all.name.tail(42).to_list()\n",
    "len(lst)"
   ]
  },
  {
   "cell_type": "code",
   "execution_count": 7,
   "metadata": {},
   "outputs": [],
   "source": [
    "pairs = get_pairs(rules)"
   ]
  },
  {
   "cell_type": "code",
   "execution_count": 8,
   "metadata": {},
   "outputs": [
    {
     "data": {
      "text/plain": [
       "12"
      ]
     },
     "execution_count": 8,
     "metadata": {},
     "output_type": "execute_result"
    }
   ],
   "source": [
    "\n",
    "def filter_pairs(pairs, allowed_lst):\n",
    "    relevant = []\n",
    "    for i, j in pairs:\n",
    "        if i.split(\".\")[0] in allowed_lst and j.split(\".\")[0] in allowed_lst:\n",
    "            relevant.append((i, j)) \n",
    "            \n",
    "    return relevant\n",
    "\n",
    "\n",
    "pairs_new = filter_pairs(pairs,lst)\n",
    "len(pairs_new)\n"
   ]
  },
  {
   "cell_type": "code",
   "execution_count": 9,
   "metadata": {},
   "outputs": [
    {
     "name": "stdout",
     "output_type": "stream",
     "text": [
      "dataset=Brain Tumor, label_for_dist=labels, clust=dbscan, breaks=3, add_mult_rules=False, maf_method=clustering.dsb\n",
      "dataset=Brain Tumor, label_for_dist=labels, clust=dbscan, breaks=3, add_mult_rules=False, maf_method=random.dsb\n"
     ]
    },
    {
     "name": "stderr",
     "output_type": "stream",
     "text": [
      "c:\\Users\\hayk_\\.conda\\envs\\thesis\\lib\\site-packages\\tqdm\\auto.py:21: TqdmWarning: IProgress not found. Please update jupyter and ipywidgets. See https://ipywidgets.readthedocs.io/en/stable/user_install.html\n",
      "  from .autonotebook import tqdm as notebook_tqdm\n"
     ]
    },
    {
     "name": "stdout",
     "output_type": "stream",
     "text": [
      "dataset=Brain Tumor, label_for_dist=labels, clust=kmeans, breaks=3, add_mult_rules=False, maf_method=clustering.dsb\n",
      "dataset=Brain Tumor, label_for_dist=labels, clust=kmeans, breaks=3, add_mult_rules=False, maf_method=random.dsb\n",
      "dataset=breast-cancer-wisconsin, label_for_dist=labels, clust=dbscan, breaks=3, add_mult_rules=False, maf_method=clustering.dsb\n",
      "dataset=breast-cancer-wisconsin, label_for_dist=labels, clust=dbscan, breaks=3, add_mult_rules=False, maf_method=random.dsb\n",
      "dataset=breast-cancer-wisconsin, label_for_dist=labels, clust=kmeans, breaks=3, add_mult_rules=False, maf_method=clustering.dsb\n",
      "dataset=breast-cancer-wisconsin, label_for_dist=labels, clust=kmeans, breaks=3, add_mult_rules=False, maf_method=random.dsb\n",
      "dataset=gaussian_df, label_for_dist=labels, clust=dbscan, breaks=3, add_mult_rules=False, maf_method=clustering.dsb\n",
      "dataset=gaussian_df, label_for_dist=labels, clust=dbscan, breaks=3, add_mult_rules=False, maf_method=random.dsb\n",
      "dataset=gaussian_df, label_for_dist=labels, clust=kmeans, breaks=3, add_mult_rules=False, maf_method=clustering.dsb\n",
      "dataset=gaussian_df, label_for_dist=labels, clust=kmeans, breaks=3, add_mult_rules=False, maf_method=random.dsb\n",
      "dataset=rectangle_df, label_for_dist=labels, clust=dbscan, breaks=3, add_mult_rules=False, maf_method=clustering.dsb\n",
      "dataset=rectangle_df, label_for_dist=labels, clust=dbscan, breaks=3, add_mult_rules=False, maf_method=random.dsb\n",
      "dataset=rectangle_df, label_for_dist=labels, clust=kmeans, breaks=3, add_mult_rules=False, maf_method=clustering.dsb\n",
      "dataset=rectangle_df, label_for_dist=labels, clust=kmeans, breaks=3, add_mult_rules=False, maf_method=random.dsb\n",
      "dataset=uniform_df, label_for_dist=labels, clust=dbscan, breaks=3, add_mult_rules=False, maf_method=clustering.dsb\n",
      "dataset=uniform_df, label_for_dist=labels, clust=dbscan, breaks=3, add_mult_rules=False, maf_method=random.dsb\n",
      "dataset=uniform_df, label_for_dist=labels, clust=kmeans, breaks=3, add_mult_rules=False, maf_method=clustering.dsb\n",
      "dataset=uniform_df, label_for_dist=labels, clust=kmeans, breaks=3, add_mult_rules=False, maf_method=random.dsb\n",
      "dataset=wine, label_for_dist=labels, clust=dbscan, breaks=3, add_mult_rules=False, maf_method=clustering.dsb\n",
      "dataset=wine, label_for_dist=labels, clust=dbscan, breaks=3, add_mult_rules=False, maf_method=random.dsb\n",
      "dataset=wine, label_for_dist=labels, clust=kmeans, breaks=3, add_mult_rules=False, maf_method=clustering.dsb\n",
      "dataset=wine, label_for_dist=labels, clust=kmeans, breaks=3, add_mult_rules=False, maf_method=random.dsb\n"
     ]
    }
   ],
   "source": [
    "\n",
    "\n",
    "rule_dfs_all = {}\n",
    "\n",
    "for r1, r2 in pairs_new:\n",
    "    print(r1, r2, sep=\"\\n\")\n",
    "    r1_info = pickle.load(open(os.path.join(RULE_FOLDER, r1), \"rb\"))\n",
    "    r2_info = pickle.load(open(os.path.join(RULE_FOLDER, r2), \"rb\"))\n",
    "    \n",
    "    r1_df = pd.DataFrame(extract_res(r1_info))\n",
    "    r2_df = pd.DataFrame(extract_res(r2_info))\n",
    "    \n",
    "    \n",
    "    merged = pd.merge(r1_df, r2_df, on=\"rule\", suffixes=('_kmeans', '_random'))\n",
    "    # merged.to_csv(f\"rules_{r1}_{r2}.csv\", index=False)\n",
    "    # print(merged)\n",
    "    # print(f\"Num rules {len(merged)}\")\n",
    "    # fig = px.bar(merged, x='rule', y=['uncertainty_kmeans', 'uncertainty_random'], \n",
    "    #     title='Uncertainty comparison between kmeans and random', # put bars next to each other\n",
    "    #     barmode='group')\n",
    "    # fig.write_html(f\"{r1}_{r2}.html\")\n",
    "    rule_dfs_all[r1] = merged \n",
    "    # fig.show()"
   ]
  },
  {
   "cell_type": "code",
   "execution_count": 10,
   "metadata": {},
   "outputs": [
    {
     "data": {
      "text/html": [
       "<div>\n",
       "<style scoped>\n",
       "    .dataframe tbody tr th:only-of-type {\n",
       "        vertical-align: middle;\n",
       "    }\n",
       "\n",
       "    .dataframe tbody tr th {\n",
       "        vertical-align: top;\n",
       "    }\n",
       "\n",
       "    .dataframe thead th {\n",
       "        text-align: right;\n",
       "    }\n",
       "</style>\n",
       "<table border=\"1\" class=\"dataframe\">\n",
       "  <thead>\n",
       "    <tr style=\"text-align: right;\">\n",
       "      <th></th>\n",
       "      <th>datetime</th>\n",
       "      <th>name</th>\n",
       "      <th>MAF method</th>\n",
       "      <th>dataset</th>\n",
       "      <th>breaks</th>\n",
       "      <th>mult_rules</th>\n",
       "      <th>accuracy</th>\n",
       "      <th>f1</th>\n",
       "      <th>confusion_matrix</th>\n",
       "      <th>training_time</th>\n",
       "      <th>epochs</th>\n",
       "      <th>min_loss</th>\n",
       "      <th>all_losses</th>\n",
       "      <th>clustering_alg</th>\n",
       "      <th>label_for_dist</th>\n",
       "    </tr>\n",
       "  </thead>\n",
       "  <tbody>\n",
       "    <tr>\n",
       "      <th>0</th>\n",
       "      <td>29-04-2024 01:29:37</td>\n",
       "      <td>dataset=Brain Tumor, label_for_dist=labels, cl...</td>\n",
       "      <td>clustering</td>\n",
       "      <td>Brain Tumor</td>\n",
       "      <td>3</td>\n",
       "      <td>False</td>\n",
       "      <td>0.981399</td>\n",
       "      <td>0.979512</td>\n",
       "      <td>[[606   5]\\n [ 16 502]]</td>\n",
       "      <td>138.469266</td>\n",
       "      <td>117</td>\n",
       "      <td>0.017742</td>\n",
       "      <td>[0.18103890120983124, 0.1676415055990219, 0.15...</td>\n",
       "      <td>kmeans</td>\n",
       "      <td>labels</td>\n",
       "    </tr>\n",
       "    <tr>\n",
       "      <th>1</th>\n",
       "      <td>29-04-2024 01:32:15</td>\n",
       "      <td>dataset=Brain Tumor, label_for_dist=labels, cl...</td>\n",
       "      <td>random</td>\n",
       "      <td>Brain Tumor</td>\n",
       "      <td>3</td>\n",
       "      <td>False</td>\n",
       "      <td>0.983171</td>\n",
       "      <td>0.981354</td>\n",
       "      <td>[[610   1]\\n [ 18 500]]</td>\n",
       "      <td>157.075140</td>\n",
       "      <td>132</td>\n",
       "      <td>0.025984</td>\n",
       "      <td>[0.24496003985404968, 0.22858241200447083, 0.2...</td>\n",
       "      <td>kmeans</td>\n",
       "      <td>labels</td>\n",
       "    </tr>\n",
       "    <tr>\n",
       "      <th>2</th>\n",
       "      <td>29-04-2024 01:33:19</td>\n",
       "      <td>dataset=Brain Tumor, label_for_dist=labels, cl...</td>\n",
       "      <td>clustering</td>\n",
       "      <td>Brain Tumor</td>\n",
       "      <td>3</td>\n",
       "      <td>False</td>\n",
       "      <td>0.976971</td>\n",
       "      <td>0.974609</td>\n",
       "      <td>[[604   7]\\n [ 19 499]]</td>\n",
       "      <td>57.864712</td>\n",
       "      <td>53</td>\n",
       "      <td>0.019212</td>\n",
       "      <td>[0.10689033567905426, 0.10017016530036926, 0.0...</td>\n",
       "      <td>dbscan</td>\n",
       "      <td>labels</td>\n",
       "    </tr>\n",
       "    <tr>\n",
       "      <th>3</th>\n",
       "      <td>29-04-2024 01:36:56</td>\n",
       "      <td>dataset=Brain Tumor, label_for_dist=labels, cl...</td>\n",
       "      <td>random</td>\n",
       "      <td>Brain Tumor</td>\n",
       "      <td>3</td>\n",
       "      <td>False</td>\n",
       "      <td>0.983171</td>\n",
       "      <td>0.981354</td>\n",
       "      <td>[[610   1]\\n [ 18 500]]</td>\n",
       "      <td>216.230863</td>\n",
       "      <td>140</td>\n",
       "      <td>0.026570</td>\n",
       "      <td>[0.2780771553516388, 0.2600518465042114, 0.243...</td>\n",
       "      <td>dbscan</td>\n",
       "      <td>labels</td>\n",
       "    </tr>\n",
       "    <tr>\n",
       "      <th>4</th>\n",
       "      <td>29-04-2024 01:37:15</td>\n",
       "      <td>dataset=breast-cancer-wisconsin, label_for_dis...</td>\n",
       "      <td>clustering</td>\n",
       "      <td>breast-cancer-wisconsin</td>\n",
       "      <td>3</td>\n",
       "      <td>False</td>\n",
       "      <td>0.975610</td>\n",
       "      <td>0.965986</td>\n",
       "      <td>[[129   3]\\n [  2  71]]</td>\n",
       "      <td>17.243015</td>\n",
       "      <td>73</td>\n",
       "      <td>0.022736</td>\n",
       "      <td>[0.22843290865421295, 0.21911616623401642, 0.2...</td>\n",
       "      <td>kmeans</td>\n",
       "      <td>labels</td>\n",
       "    </tr>\n",
       "    <tr>\n",
       "      <th>5</th>\n",
       "      <td>29-04-2024 01:37:35</td>\n",
       "      <td>dataset=breast-cancer-wisconsin, label_for_dis...</td>\n",
       "      <td>random</td>\n",
       "      <td>breast-cancer-wisconsin</td>\n",
       "      <td>3</td>\n",
       "      <td>False</td>\n",
       "      <td>0.975610</td>\n",
       "      <td>0.965986</td>\n",
       "      <td>[[129   3]\\n [  2  71]]</td>\n",
       "      <td>19.629939</td>\n",
       "      <td>117</td>\n",
       "      <td>0.030730</td>\n",
       "      <td>[0.3084924817085266, 0.2875896692276001, 0.267...</td>\n",
       "      <td>kmeans</td>\n",
       "      <td>labels</td>\n",
       "    </tr>\n",
       "    <tr>\n",
       "      <th>6</th>\n",
       "      <td>29-04-2024 01:37:57</td>\n",
       "      <td>dataset=breast-cancer-wisconsin, label_for_dis...</td>\n",
       "      <td>clustering</td>\n",
       "      <td>breast-cancer-wisconsin</td>\n",
       "      <td>3</td>\n",
       "      <td>False</td>\n",
       "      <td>0.960976</td>\n",
       "      <td>0.944444</td>\n",
       "      <td>[[129   3]\\n [  5  68]]</td>\n",
       "      <td>20.698811</td>\n",
       "      <td>88</td>\n",
       "      <td>0.025124</td>\n",
       "      <td>[0.5811095237731934, 0.5710375308990479, 0.559...</td>\n",
       "      <td>dbscan</td>\n",
       "      <td>labels</td>\n",
       "    </tr>\n",
       "    <tr>\n",
       "      <th>7</th>\n",
       "      <td>29-04-2024 01:38:23</td>\n",
       "      <td>dataset=breast-cancer-wisconsin, label_for_dis...</td>\n",
       "      <td>random</td>\n",
       "      <td>breast-cancer-wisconsin</td>\n",
       "      <td>3</td>\n",
       "      <td>False</td>\n",
       "      <td>0.970732</td>\n",
       "      <td>0.959459</td>\n",
       "      <td>[[128   4]\\n [  2  71]]</td>\n",
       "      <td>24.956167</td>\n",
       "      <td>112</td>\n",
       "      <td>0.029798</td>\n",
       "      <td>[0.25656089186668396, 0.23777367174625397, 0.2...</td>\n",
       "      <td>dbscan</td>\n",
       "      <td>labels</td>\n",
       "    </tr>\n",
       "    <tr>\n",
       "      <th>8</th>\n",
       "      <td>29-04-2024 01:38:40</td>\n",
       "      <td>dataset=gaussian_df, label_for_dist=labels, cl...</td>\n",
       "      <td>clustering</td>\n",
       "      <td>gaussian_df</td>\n",
       "      <td>3</td>\n",
       "      <td>False</td>\n",
       "      <td>0.986667</td>\n",
       "      <td>0.987500</td>\n",
       "      <td>[[69  2]\\n [ 0 79]]</td>\n",
       "      <td>15.792498</td>\n",
       "      <td>100</td>\n",
       "      <td>0.016695</td>\n",
       "      <td>[0.0826035887002945, 0.07975836843252182, 0.07...</td>\n",
       "      <td>kmeans</td>\n",
       "      <td>labels</td>\n",
       "    </tr>\n",
       "    <tr>\n",
       "      <th>9</th>\n",
       "      <td>29-04-2024 01:39:19</td>\n",
       "      <td>dataset=gaussian_df, label_for_dist=labels, cl...</td>\n",
       "      <td>random</td>\n",
       "      <td>gaussian_df</td>\n",
       "      <td>3</td>\n",
       "      <td>False</td>\n",
       "      <td>0.986667</td>\n",
       "      <td>0.987500</td>\n",
       "      <td>[[69  2]\\n [ 0 79]]</td>\n",
       "      <td>39.058897</td>\n",
       "      <td>264</td>\n",
       "      <td>0.023637</td>\n",
       "      <td>[0.2653946876525879, 0.2601081132888794, 0.254...</td>\n",
       "      <td>kmeans</td>\n",
       "      <td>labels</td>\n",
       "    </tr>\n",
       "    <tr>\n",
       "      <th>10</th>\n",
       "      <td>29-04-2024 01:39:40</td>\n",
       "      <td>dataset=gaussian_df, label_for_dist=labels, cl...</td>\n",
       "      <td>clustering</td>\n",
       "      <td>gaussian_df</td>\n",
       "      <td>3</td>\n",
       "      <td>False</td>\n",
       "      <td>0.986667</td>\n",
       "      <td>0.987500</td>\n",
       "      <td>[[69  2]\\n [ 0 79]]</td>\n",
       "      <td>20.060555</td>\n",
       "      <td>137</td>\n",
       "      <td>0.017341</td>\n",
       "      <td>[0.11276591569185257, 0.1090264767408371, 0.10...</td>\n",
       "      <td>dbscan</td>\n",
       "      <td>labels</td>\n",
       "    </tr>\n",
       "    <tr>\n",
       "      <th>11</th>\n",
       "      <td>29-04-2024 01:40:25</td>\n",
       "      <td>dataset=gaussian_df, label_for_dist=labels, cl...</td>\n",
       "      <td>random</td>\n",
       "      <td>gaussian_df</td>\n",
       "      <td>3</td>\n",
       "      <td>False</td>\n",
       "      <td>0.980000</td>\n",
       "      <td>0.981132</td>\n",
       "      <td>[[69  2]\\n [ 1 78]]</td>\n",
       "      <td>44.205608</td>\n",
       "      <td>256</td>\n",
       "      <td>0.022563</td>\n",
       "      <td>[0.265293151140213, 0.2599472999572754, 0.2546...</td>\n",
       "      <td>dbscan</td>\n",
       "      <td>labels</td>\n",
       "    </tr>\n",
       "    <tr>\n",
       "      <th>12</th>\n",
       "      <td>29-04-2024 01:41:27</td>\n",
       "      <td>dataset=rectangle_df, label_for_dist=labels, c...</td>\n",
       "      <td>clustering</td>\n",
       "      <td>rectangle_df</td>\n",
       "      <td>3</td>\n",
       "      <td>False</td>\n",
       "      <td>1.000000</td>\n",
       "      <td>1.000000</td>\n",
       "      <td>[[188   0]\\n [  0 191]]</td>\n",
       "      <td>61.031735</td>\n",
       "      <td>167</td>\n",
       "      <td>0.006148</td>\n",
       "      <td>[0.25244638323783875, 0.24525268375873566, 0.2...</td>\n",
       "      <td>kmeans</td>\n",
       "      <td>labels</td>\n",
       "    </tr>\n",
       "    <tr>\n",
       "      <th>13</th>\n",
       "      <td>29-04-2024 01:43:06</td>\n",
       "      <td>dataset=rectangle_df, label_for_dist=labels, c...</td>\n",
       "      <td>random</td>\n",
       "      <td>rectangle_df</td>\n",
       "      <td>3</td>\n",
       "      <td>False</td>\n",
       "      <td>1.000000</td>\n",
       "      <td>1.000000</td>\n",
       "      <td>[[188   0]\\n [  0 191]]</td>\n",
       "      <td>98.640162</td>\n",
       "      <td>275</td>\n",
       "      <td>0.007604</td>\n",
       "      <td>[0.23527874052524567, 0.23235896229743958, 0.2...</td>\n",
       "      <td>kmeans</td>\n",
       "      <td>labels</td>\n",
       "    </tr>\n",
       "    <tr>\n",
       "      <th>14</th>\n",
       "      <td>29-04-2024 01:44:03</td>\n",
       "      <td>dataset=rectangle_df, label_for_dist=labels, c...</td>\n",
       "      <td>clustering</td>\n",
       "      <td>rectangle_df</td>\n",
       "      <td>3</td>\n",
       "      <td>False</td>\n",
       "      <td>1.000000</td>\n",
       "      <td>1.000000</td>\n",
       "      <td>[[188   0]\\n [  0 191]]</td>\n",
       "      <td>55.945316</td>\n",
       "      <td>169</td>\n",
       "      <td>0.006266</td>\n",
       "      <td>[0.22856685519218445, 0.2217974215745926, 0.21...</td>\n",
       "      <td>dbscan</td>\n",
       "      <td>labels</td>\n",
       "    </tr>\n",
       "    <tr>\n",
       "      <th>15</th>\n",
       "      <td>29-04-2024 01:45:45</td>\n",
       "      <td>dataset=rectangle_df, label_for_dist=labels, c...</td>\n",
       "      <td>random</td>\n",
       "      <td>rectangle_df</td>\n",
       "      <td>3</td>\n",
       "      <td>False</td>\n",
       "      <td>1.000000</td>\n",
       "      <td>1.000000</td>\n",
       "      <td>[[188   0]\\n [  0 191]]</td>\n",
       "      <td>100.701972</td>\n",
       "      <td>279</td>\n",
       "      <td>0.007755</td>\n",
       "      <td>[0.24071601033210754, 0.23781025409698486, 0.2...</td>\n",
       "      <td>dbscan</td>\n",
       "      <td>labels</td>\n",
       "    </tr>\n",
       "    <tr>\n",
       "      <th>16</th>\n",
       "      <td>29-04-2024 01:46:06</td>\n",
       "      <td>dataset=uniform_df, label_for_dist=labels, clu...</td>\n",
       "      <td>clustering</td>\n",
       "      <td>uniform_df</td>\n",
       "      <td>3</td>\n",
       "      <td>False</td>\n",
       "      <td>0.973333</td>\n",
       "      <td>0.969697</td>\n",
       "      <td>[[82  0]\\n [ 4 64]]</td>\n",
       "      <td>20.683089</td>\n",
       "      <td>120</td>\n",
       "      <td>0.034655</td>\n",
       "      <td>[0.19738028943538666, 0.1909346729516983, 0.18...</td>\n",
       "      <td>kmeans</td>\n",
       "      <td>labels</td>\n",
       "    </tr>\n",
       "    <tr>\n",
       "      <th>17</th>\n",
       "      <td>29-04-2024 01:46:46</td>\n",
       "      <td>dataset=uniform_df, label_for_dist=labels, clu...</td>\n",
       "      <td>random</td>\n",
       "      <td>uniform_df</td>\n",
       "      <td>3</td>\n",
       "      <td>False</td>\n",
       "      <td>0.973333</td>\n",
       "      <td>0.969697</td>\n",
       "      <td>[[82  0]\\n [ 4 64]]</td>\n",
       "      <td>39.207926</td>\n",
       "      <td>273</td>\n",
       "      <td>0.037446</td>\n",
       "      <td>[0.25548678636550903, 0.25264304876327515, 0.2...</td>\n",
       "      <td>kmeans</td>\n",
       "      <td>labels</td>\n",
       "    </tr>\n",
       "    <tr>\n",
       "      <th>18</th>\n",
       "      <td>29-04-2024 01:47:12</td>\n",
       "      <td>dataset=uniform_df, label_for_dist=labels, clu...</td>\n",
       "      <td>clustering</td>\n",
       "      <td>uniform_df</td>\n",
       "      <td>3</td>\n",
       "      <td>False</td>\n",
       "      <td>0.973333</td>\n",
       "      <td>0.969697</td>\n",
       "      <td>[[82  0]\\n [ 4 64]]</td>\n",
       "      <td>25.484077</td>\n",
       "      <td>139</td>\n",
       "      <td>0.034062</td>\n",
       "      <td>[0.16751040518283844, 0.16334959864616394, 0.1...</td>\n",
       "      <td>dbscan</td>\n",
       "      <td>labels</td>\n",
       "    </tr>\n",
       "    <tr>\n",
       "      <th>19</th>\n",
       "      <td>29-04-2024 01:47:58</td>\n",
       "      <td>dataset=uniform_df, label_for_dist=labels, clu...</td>\n",
       "      <td>random</td>\n",
       "      <td>uniform_df</td>\n",
       "      <td>3</td>\n",
       "      <td>False</td>\n",
       "      <td>0.973333</td>\n",
       "      <td>0.969697</td>\n",
       "      <td>[[82  0]\\n [ 4 64]]</td>\n",
       "      <td>45.514819</td>\n",
       "      <td>271</td>\n",
       "      <td>0.037376</td>\n",
       "      <td>[0.2649640440940857, 0.2616409361362457, 0.258...</td>\n",
       "      <td>dbscan</td>\n",
       "      <td>labels</td>\n",
       "    </tr>\n",
       "    <tr>\n",
       "      <th>20</th>\n",
       "      <td>29-04-2024 01:48:24</td>\n",
       "      <td>dataset=wine, label_for_dist=labels, clust=kme...</td>\n",
       "      <td>clustering</td>\n",
       "      <td>wine</td>\n",
       "      <td>3</td>\n",
       "      <td>False</td>\n",
       "      <td>0.812308</td>\n",
       "      <td>0.000000</td>\n",
       "      <td>[[1584    0]\\n [ 366    0]]</td>\n",
       "      <td>8.767568</td>\n",
       "      <td>4</td>\n",
       "      <td>0.200222</td>\n",
       "      <td>[0.20033192664404503, 0.2003134857475666, 0.20...</td>\n",
       "      <td>kmeans</td>\n",
       "      <td>labels</td>\n",
       "    </tr>\n",
       "    <tr>\n",
       "      <th>21</th>\n",
       "      <td>29-04-2024 01:53:29</td>\n",
       "      <td>dataset=wine, label_for_dist=labels, clust=kme...</td>\n",
       "      <td>random</td>\n",
       "      <td>wine</td>\n",
       "      <td>3</td>\n",
       "      <td>False</td>\n",
       "      <td>1.000000</td>\n",
       "      <td>1.000000</td>\n",
       "      <td>[[1584    0]\\n [   0  366]]</td>\n",
       "      <td>304.204505</td>\n",
       "      <td>155</td>\n",
       "      <td>0.003065</td>\n",
       "      <td>[0.21269283826951013, 0.1866159661768661, 0.16...</td>\n",
       "      <td>kmeans</td>\n",
       "      <td>labels</td>\n",
       "    </tr>\n",
       "    <tr>\n",
       "      <th>22</th>\n",
       "      <td>29-04-2024 01:53:56</td>\n",
       "      <td>dataset=wine, label_for_dist=labels, clust=dbs...</td>\n",
       "      <td>clustering</td>\n",
       "      <td>wine</td>\n",
       "      <td>3</td>\n",
       "      <td>False</td>\n",
       "      <td>0.812308</td>\n",
       "      <td>0.000000</td>\n",
       "      <td>[[1584    0]\\n [ 366    0]]</td>\n",
       "      <td>9.696870</td>\n",
       "      <td>4</td>\n",
       "      <td>0.200350</td>\n",
       "      <td>[0.2003517868441751, 0.20035162113880572, 0.20...</td>\n",
       "      <td>dbscan</td>\n",
       "      <td>labels</td>\n",
       "    </tr>\n",
       "    <tr>\n",
       "      <th>23</th>\n",
       "      <td>29-04-2024 02:00:29</td>\n",
       "      <td>dataset=wine, label_for_dist=labels, clust=dbs...</td>\n",
       "      <td>random</td>\n",
       "      <td>wine</td>\n",
       "      <td>3</td>\n",
       "      <td>False</td>\n",
       "      <td>1.000000</td>\n",
       "      <td>1.000000</td>\n",
       "      <td>[[1584    0]\\n [   0  366]]</td>\n",
       "      <td>390.474706</td>\n",
       "      <td>141</td>\n",
       "      <td>0.003129</td>\n",
       "      <td>[0.19966578467195836, 0.1709617069423238, 0.15...</td>\n",
       "      <td>dbscan</td>\n",
       "      <td>labels</td>\n",
       "    </tr>\n",
       "  </tbody>\n",
       "</table>\n",
       "</div>"
      ],
      "text/plain": [
       "               datetime                                               name  \\\n",
       "0   29-04-2024 01:29:37  dataset=Brain Tumor, label_for_dist=labels, cl...   \n",
       "1   29-04-2024 01:32:15  dataset=Brain Tumor, label_for_dist=labels, cl...   \n",
       "2   29-04-2024 01:33:19  dataset=Brain Tumor, label_for_dist=labels, cl...   \n",
       "3   29-04-2024 01:36:56  dataset=Brain Tumor, label_for_dist=labels, cl...   \n",
       "4   29-04-2024 01:37:15  dataset=breast-cancer-wisconsin, label_for_dis...   \n",
       "5   29-04-2024 01:37:35  dataset=breast-cancer-wisconsin, label_for_dis...   \n",
       "6   29-04-2024 01:37:57  dataset=breast-cancer-wisconsin, label_for_dis...   \n",
       "7   29-04-2024 01:38:23  dataset=breast-cancer-wisconsin, label_for_dis...   \n",
       "8   29-04-2024 01:38:40  dataset=gaussian_df, label_for_dist=labels, cl...   \n",
       "9   29-04-2024 01:39:19  dataset=gaussian_df, label_for_dist=labels, cl...   \n",
       "10  29-04-2024 01:39:40  dataset=gaussian_df, label_for_dist=labels, cl...   \n",
       "11  29-04-2024 01:40:25  dataset=gaussian_df, label_for_dist=labels, cl...   \n",
       "12  29-04-2024 01:41:27  dataset=rectangle_df, label_for_dist=labels, c...   \n",
       "13  29-04-2024 01:43:06  dataset=rectangle_df, label_for_dist=labels, c...   \n",
       "14  29-04-2024 01:44:03  dataset=rectangle_df, label_for_dist=labels, c...   \n",
       "15  29-04-2024 01:45:45  dataset=rectangle_df, label_for_dist=labels, c...   \n",
       "16  29-04-2024 01:46:06  dataset=uniform_df, label_for_dist=labels, clu...   \n",
       "17  29-04-2024 01:46:46  dataset=uniform_df, label_for_dist=labels, clu...   \n",
       "18  29-04-2024 01:47:12  dataset=uniform_df, label_for_dist=labels, clu...   \n",
       "19  29-04-2024 01:47:58  dataset=uniform_df, label_for_dist=labels, clu...   \n",
       "20  29-04-2024 01:48:24  dataset=wine, label_for_dist=labels, clust=kme...   \n",
       "21  29-04-2024 01:53:29  dataset=wine, label_for_dist=labels, clust=kme...   \n",
       "22  29-04-2024 01:53:56  dataset=wine, label_for_dist=labels, clust=dbs...   \n",
       "23  29-04-2024 02:00:29  dataset=wine, label_for_dist=labels, clust=dbs...   \n",
       "\n",
       "    MAF method                  dataset  breaks  mult_rules  accuracy  \\\n",
       "0   clustering              Brain Tumor       3       False  0.981399   \n",
       "1       random              Brain Tumor       3       False  0.983171   \n",
       "2   clustering              Brain Tumor       3       False  0.976971   \n",
       "3       random              Brain Tumor       3       False  0.983171   \n",
       "4   clustering  breast-cancer-wisconsin       3       False  0.975610   \n",
       "5       random  breast-cancer-wisconsin       3       False  0.975610   \n",
       "6   clustering  breast-cancer-wisconsin       3       False  0.960976   \n",
       "7       random  breast-cancer-wisconsin       3       False  0.970732   \n",
       "8   clustering              gaussian_df       3       False  0.986667   \n",
       "9       random              gaussian_df       3       False  0.986667   \n",
       "10  clustering              gaussian_df       3       False  0.986667   \n",
       "11      random              gaussian_df       3       False  0.980000   \n",
       "12  clustering             rectangle_df       3       False  1.000000   \n",
       "13      random             rectangle_df       3       False  1.000000   \n",
       "14  clustering             rectangle_df       3       False  1.000000   \n",
       "15      random             rectangle_df       3       False  1.000000   \n",
       "16  clustering               uniform_df       3       False  0.973333   \n",
       "17      random               uniform_df       3       False  0.973333   \n",
       "18  clustering               uniform_df       3       False  0.973333   \n",
       "19      random               uniform_df       3       False  0.973333   \n",
       "20  clustering                     wine       3       False  0.812308   \n",
       "21      random                     wine       3       False  1.000000   \n",
       "22  clustering                     wine       3       False  0.812308   \n",
       "23      random                     wine       3       False  1.000000   \n",
       "\n",
       "          f1             confusion_matrix  training_time  epochs  min_loss  \\\n",
       "0   0.979512      [[606   5]\\n [ 16 502]]     138.469266     117  0.017742   \n",
       "1   0.981354      [[610   1]\\n [ 18 500]]     157.075140     132  0.025984   \n",
       "2   0.974609      [[604   7]\\n [ 19 499]]      57.864712      53  0.019212   \n",
       "3   0.981354      [[610   1]\\n [ 18 500]]     216.230863     140  0.026570   \n",
       "4   0.965986      [[129   3]\\n [  2  71]]      17.243015      73  0.022736   \n",
       "5   0.965986      [[129   3]\\n [  2  71]]      19.629939     117  0.030730   \n",
       "6   0.944444      [[129   3]\\n [  5  68]]      20.698811      88  0.025124   \n",
       "7   0.959459      [[128   4]\\n [  2  71]]      24.956167     112  0.029798   \n",
       "8   0.987500          [[69  2]\\n [ 0 79]]      15.792498     100  0.016695   \n",
       "9   0.987500          [[69  2]\\n [ 0 79]]      39.058897     264  0.023637   \n",
       "10  0.987500          [[69  2]\\n [ 0 79]]      20.060555     137  0.017341   \n",
       "11  0.981132          [[69  2]\\n [ 1 78]]      44.205608     256  0.022563   \n",
       "12  1.000000      [[188   0]\\n [  0 191]]      61.031735     167  0.006148   \n",
       "13  1.000000      [[188   0]\\n [  0 191]]      98.640162     275  0.007604   \n",
       "14  1.000000      [[188   0]\\n [  0 191]]      55.945316     169  0.006266   \n",
       "15  1.000000      [[188   0]\\n [  0 191]]     100.701972     279  0.007755   \n",
       "16  0.969697          [[82  0]\\n [ 4 64]]      20.683089     120  0.034655   \n",
       "17  0.969697          [[82  0]\\n [ 4 64]]      39.207926     273  0.037446   \n",
       "18  0.969697          [[82  0]\\n [ 4 64]]      25.484077     139  0.034062   \n",
       "19  0.969697          [[82  0]\\n [ 4 64]]      45.514819     271  0.037376   \n",
       "20  0.000000  [[1584    0]\\n [ 366    0]]       8.767568       4  0.200222   \n",
       "21  1.000000  [[1584    0]\\n [   0  366]]     304.204505     155  0.003065   \n",
       "22  0.000000  [[1584    0]\\n [ 366    0]]       9.696870       4  0.200350   \n",
       "23  1.000000  [[1584    0]\\n [   0  366]]     390.474706     141  0.003129   \n",
       "\n",
       "                                           all_losses clustering_alg  \\\n",
       "0   [0.18103890120983124, 0.1676415055990219, 0.15...         kmeans   \n",
       "1   [0.24496003985404968, 0.22858241200447083, 0.2...         kmeans   \n",
       "2   [0.10689033567905426, 0.10017016530036926, 0.0...         dbscan   \n",
       "3   [0.2780771553516388, 0.2600518465042114, 0.243...         dbscan   \n",
       "4   [0.22843290865421295, 0.21911616623401642, 0.2...         kmeans   \n",
       "5   [0.3084924817085266, 0.2875896692276001, 0.267...         kmeans   \n",
       "6   [0.5811095237731934, 0.5710375308990479, 0.559...         dbscan   \n",
       "7   [0.25656089186668396, 0.23777367174625397, 0.2...         dbscan   \n",
       "8   [0.0826035887002945, 0.07975836843252182, 0.07...         kmeans   \n",
       "9   [0.2653946876525879, 0.2601081132888794, 0.254...         kmeans   \n",
       "10  [0.11276591569185257, 0.1090264767408371, 0.10...         dbscan   \n",
       "11  [0.265293151140213, 0.2599472999572754, 0.2546...         dbscan   \n",
       "12  [0.25244638323783875, 0.24525268375873566, 0.2...         kmeans   \n",
       "13  [0.23527874052524567, 0.23235896229743958, 0.2...         kmeans   \n",
       "14  [0.22856685519218445, 0.2217974215745926, 0.21...         dbscan   \n",
       "15  [0.24071601033210754, 0.23781025409698486, 0.2...         dbscan   \n",
       "16  [0.19738028943538666, 0.1909346729516983, 0.18...         kmeans   \n",
       "17  [0.25548678636550903, 0.25264304876327515, 0.2...         kmeans   \n",
       "18  [0.16751040518283844, 0.16334959864616394, 0.1...         dbscan   \n",
       "19  [0.2649640440940857, 0.2616409361362457, 0.258...         dbscan   \n",
       "20  [0.20033192664404503, 0.2003134857475666, 0.20...         kmeans   \n",
       "21  [0.21269283826951013, 0.1866159661768661, 0.16...         kmeans   \n",
       "22  [0.2003517868441751, 0.20035162113880572, 0.20...         dbscan   \n",
       "23  [0.19966578467195836, 0.1709617069423238, 0.15...         dbscan   \n",
       "\n",
       "   label_for_dist  \n",
       "0          labels  \n",
       "1          labels  \n",
       "2          labels  \n",
       "3          labels  \n",
       "4          labels  \n",
       "5          labels  \n",
       "6          labels  \n",
       "7          labels  \n",
       "8          labels  \n",
       "9          labels  \n",
       "10         labels  \n",
       "11         labels  \n",
       "12         labels  \n",
       "13         labels  \n",
       "14         labels  \n",
       "15         labels  \n",
       "16         labels  \n",
       "17         labels  \n",
       "18         labels  \n",
       "19         labels  \n",
       "20         labels  \n",
       "21         labels  \n",
       "22         labels  \n",
       "23         labels  "
      ]
     },
     "execution_count": 10,
     "metadata": {},
     "output_type": "execute_result"
    }
   ],
   "source": [
    "df_exps_all"
   ]
  },
  {
   "cell_type": "code",
   "execution_count": 46,
   "metadata": {},
   "outputs": [],
   "source": [
    "def perform_all_for_dataset(rule_dfs_all, df_exps_all, dataset, clust_alg=\"kmeans\"):\n",
    "    \n",
    "    \n",
    "    rule_dfs = {k: v for k, v in rule_dfs_all.items() if dataset in k and clust_alg in k}\n",
    "    print(f\"Found {len(rule_dfs) * 2} experiments for dataset {dataset}\")\n",
    "    \n",
    "    df_exps = df_exps_all[(df_exps_all.dataset == dataset) & (df_exps_all.clustering_alg == clust_alg)]\n",
    "    \n",
    "    plots_lst = os.listdir(PLOT_FOLDER)\n",
    "    plots_exp = [i for i in plots_lst if dataset in i and clust_alg in i]\n",
    "\n",
    "    assert len(rule_dfs) * 2 == len(df_exps) == len(plots_exp), f\"Lengths do not match {len(rule_dfs) * 2} {len(df_exps)} {len(plots_exp)}\"\n",
    "    \n",
    "    # all_losses = df_exps.all_losses\n",
    "    \n",
    "    losses_random = eval(df_exps[df_exps[\"MAF method\"] == \"random\"].all_losses.values[0])\n",
    "    epochs_random = list(range(1, len(losses_random)+1))\n",
    "    \n",
    "    \n",
    "    losses_kmeans = eval(df_exps[df_exps[\"MAF method\"] == \"clustering\"].all_losses.values[0])\n",
    "    epochs_kmeans = list(range(1, len(losses_kmeans)+1))\n",
    "    \n",
    "    plt.style.use('ggplot')\n",
    "    plt.plot(epochs_random, losses_random, label=\"Random\")\n",
    "    plt.plot(epochs_kmeans, losses_kmeans, label=\"Kmeans\")\n",
    "    plt.legend()\n",
    "\n",
    "    plt.xlabel('Epochs')\n",
    "    plt.ylabel('Loss')    \n",
    "    plt.title(f\"{dataset} dataset | Loss over epochs per MAF method\")\n",
    "    # plt.show()    \n",
    "    \n",
    "    cols = ['dataset', \"clustering_alg\", \"MAF method\", \"accuracy\", \"f1\", \"training_time\", \"epochs\", \"min_loss\"]\n",
    "    \n",
    "    rules_name = list(rule_dfs.keys()) \n",
    "    rules_df = rule_dfs[rules_name[0]]\n",
    "    return rules_df\n",
    "    # custom scoring\n",
    "    for method in [\"kmeans\", \"random\"]: \n",
    "        rules_df[f'ratio_{method}'] = np.where(rules_df[f'mass_first_{method}'] > rules_df[f'mass_second_{method}'],\n",
    "                            rules_df[f'mass_first_{method}'] / (d[f'mass_second_{method}'] + 1e-2),\n",
    "                            rules_df[f'mass_second_{method}'] / (d[f'mass_first_{method}'] + 1e-2))\n",
    "        rules_df[\"1_min_uncertainty\"] = 1 - rules_df[f\"uncertainty_{method}\"] \n",
    "        rules_df[f\"ratio_min_max_scaled_{method}\"] = (rules_df[f'ratio_{method}'] - rules_df[f'ratio_{method}'].min()) / (rules_df[f'ratio_{method}'].max() - rules_df[f'ratio_{method}'].min())\n",
    "        \n",
    "        # harmonic mean\n",
    "        rules_df[f\"score_{method}\"] = 2 / (1/rules_df[f\"1_min_uncertainty\"] + 1/rules_df[f\"ratio_min_max_scaled_{method}\"])\n",
    "        \n",
    "    \n",
    "    uncs = rules_df[[\"uncertainty_kmeans\", \"uncertainty_random\"]]\n",
    "    \n",
    "    uncs.plot()\n",
    "    # plt.show()\n",
    "    return rules_df\n",
    "    return uncs.describe()#, rules_df[\"uncertainty_random\"].describe()\n",
    "    \n",
    "    \n",
    "    return rules_df\n",
    "    \n",
    "    \n",
    "    return rules_df\n",
    "    \n",
    "    \n",
    "    \n",
    "    return df_exps[cols]\n",
    "    \n"
   ]
  },
  {
   "cell_type": "code",
   "execution_count": 47,
   "metadata": {},
   "outputs": [
    {
     "data": {
      "text/plain": [
       "{'Brain Tumor': {'random': 1.0}}"
      ]
     },
     "execution_count": 47,
     "metadata": {},
     "output_type": "execute_result"
    }
   ],
   "source": [
    "res"
   ]
  },
  {
   "cell_type": "code",
   "execution_count": 57,
   "metadata": {},
   "outputs": [
    {
     "name": "stdout",
     "output_type": "stream",
     "text": [
      "Found 2 experiments for dataset Brain Tumor\n",
      "9\n",
      "9\n",
      "Found 2 experiments for dataset breast-cancer-wisconsin\n",
      "7\n",
      "7\n",
      "Found 2 experiments for dataset gaussian_df\n",
      "1\n",
      "1\n",
      "Found 2 experiments for dataset rectangle_df\n",
      "1\n",
      "1\n",
      "Found 2 experiments for dataset uniform_df\n",
      "1\n",
      "1\n",
      "Found 2 experiments for dataset wine\n",
      "10\n",
      "10\n"
     ]
    },
    {
     "data": {
      "image/png": "[encoded data removed]",
      "text/plain": [
       "<Figure size 640x480 with 1 Axes>"
      ]
     },
     "metadata": {},
     "output_type": "display_data"
    }
   ],
   "source": [
    "res = {}\n",
    "for data in datasets:\n",
    "    data = data.split(\".\")[0]\n",
    "    d = perform_all_for_dataset(rule_dfs_all, df_exps_all, data)#.to_latex()\n",
    "\n",
    "    method = \"kmeans\"\n",
    "\n",
    "    # d[f\"raio_{method}\"] = d[f\"mass_second_{method}\"] / d[f\"mass_first_{method}\"]\n",
    "    for method in [\"kmeans\", \"random\"]: \n",
    "        d[f'ratio_{method}'] = np.where(d[f'mass_first_{method}'] > d[f'mass_second_{method}'],\n",
    "                            d[f'mass_first_{method}'] / (d[f'mass_second_{method}'] + 1e-2),\n",
    "                            d[f'mass_second_{method}'] / (d[f'mass_first_{method}'] + 1e-2))\n",
    "        d[\"1_min_uncertainty\"] = 1 - d[f\"uncertainty_{method}\"]\n",
    "        \n",
    "        d[f\"ratio_min_max_scaled_{method}\"] = (d[f'ratio_{method}'] - d[f'ratio_{method}'].min()) / (d[f'ratio_{method}'].max() - d[f'ratio_{method}'].min())\n",
    "        \n",
    "        # harmonic mean\n",
    "        d[f\"score_{method}\"] = 2 / (1/d[f\"1_min_uncertainty\"] + 1/d[f\"ratio_min_max_scaled_{method}\"]) \n",
    "        \n",
    "    def most_imp(d, alg, rules_percantage=0.2):\n",
    "        score = d.sort_values(by=f\"score_{alg}\", ascending=False)\n",
    "        unc = d.sort_values(f\"uncertainty_{alg}\")  \n",
    "        # num of rules in top 10 that \n",
    "        \n",
    "        num_rules = int(len(score) * rules_percantage)\n",
    "        print(num_rules)\n",
    "        score_top = set(score.rule.iloc[:num_rules].to_list()) \n",
    "        unc_top = set(unc.rule.iloc[:num_rules].to_list()) \n",
    "        return len(score_top & unc_top) / num_rules\n",
    "        \n",
    "    # for method in [\"kmeans\", \"random\"]: \n",
    "    res[data] = {}\n",
    "    res[data][\"kmeans\"] = most_imp(d, \"kmeans\")\n",
    "    res[data][\"random\"] = most_imp(d, \"random\")\n",
    "    \n",
    "        \n"
   ]
  },
  {
   "cell_type": "code",
   "execution_count": 64,
   "metadata": {},
   "outputs": [
    {
     "data": {
      "text/html": [
       "<div>\n",
       "<style scoped>\n",
       "    .dataframe tbody tr th:only-of-type {\n",
       "        vertical-align: middle;\n",
       "    }\n",
       "\n",
       "    .dataframe tbody tr th {\n",
       "        vertical-align: top;\n",
       "    }\n",
       "\n",
       "    .dataframe thead th {\n",
       "        text-align: right;\n",
       "    }\n",
       "</style>\n",
       "<table border=\"1\" class=\"dataframe\">\n",
       "  <thead>\n",
       "    <tr style=\"text-align: right;\">\n",
       "      <th></th>\n",
       "      <th>Brain Tumor</th>\n",
       "      <th>breast-cancer-wisconsin</th>\n",
       "      <th>gaussian_df</th>\n",
       "      <th>rectangle_df</th>\n",
       "      <th>uniform_df</th>\n",
       "      <th>wine</th>\n",
       "    </tr>\n",
       "  </thead>\n",
       "  <tbody>\n",
       "    <tr>\n",
       "      <th>clustering</th>\n",
       "      <td>0.56</td>\n",
       "      <td>0.43</td>\n",
       "      <td>1.0</td>\n",
       "      <td>1.0</td>\n",
       "      <td>1.0</td>\n",
       "      <td>1.0</td>\n",
       "    </tr>\n",
       "    <tr>\n",
       "      <th>random</th>\n",
       "      <td>1.00</td>\n",
       "      <td>1.00</td>\n",
       "      <td>1.0</td>\n",
       "      <td>1.0</td>\n",
       "      <td>1.0</td>\n",
       "      <td>0.5</td>\n",
       "    </tr>\n",
       "  </tbody>\n",
       "</table>\n",
       "</div>"
      ],
      "text/plain": [
       "            Brain Tumor  breast-cancer-wisconsin  gaussian_df  rectangle_df  \\\n",
       "clustering         0.56                     0.43          1.0           1.0   \n",
       "random             1.00                     1.00          1.0           1.0   \n",
       "\n",
       "            uniform_df  wine  \n",
       "clustering         1.0   1.0  \n",
       "random             1.0   0.5  "
      ]
     },
     "execution_count": 64,
     "metadata": {},
     "output_type": "execute_result"
    }
   ],
   "source": [
    "pd.DataFrame(res).round(2).rename({\"kmeans\":\"clustering\"})\n"
   ]
  },
  {
   "cell_type": "markdown",
   "metadata": {},
   "source": [
    "# new scoring method"
   ]
  },
  {
   "cell_type": "code",
   "execution_count": 15,
   "metadata": {},
   "outputs": [
    {
     "data": {
      "text/html": [
       "<div>\n",
       "<style scoped>\n",
       "    .dataframe tbody tr th:only-of-type {\n",
       "        vertical-align: middle;\n",
       "    }\n",
       "\n",
       "    .dataframe tbody tr th {\n",
       "        vertical-align: top;\n",
       "    }\n",
       "\n",
       "    .dataframe thead th {\n",
       "        text-align: right;\n",
       "    }\n",
       "</style>\n",
       "<table border=\"1\" class=\"dataframe\">\n",
       "  <thead>\n",
       "    <tr style=\"text-align: right;\">\n",
       "      <th></th>\n",
       "      <th>rule</th>\n",
       "      <th>mass_first_kmeans</th>\n",
       "      <th>mass_second_kmeans</th>\n",
       "      <th>uncertainty_kmeans</th>\n",
       "      <th>mass_first_random</th>\n",
       "      <th>mass_second_random</th>\n",
       "      <th>uncertainty_random</th>\n",
       "    </tr>\n",
       "  </thead>\n",
       "  <tbody>\n",
       "    <tr>\n",
       "      <th>0</th>\n",
       "      <td>clump_thickness &lt; 2.569</td>\n",
       "      <td>0.725134</td>\n",
       "      <td>0.111726</td>\n",
       "      <td>0.16314</td>\n",
       "      <td>0.336098</td>\n",
       "      <td>0.0</td>\n",
       "      <td>0.663902</td>\n",
       "    </tr>\n",
       "    <tr>\n",
       "      <th>1</th>\n",
       "      <td>2.569 &lt; clump_thickness &lt; 4.454</td>\n",
       "      <td>0.638576</td>\n",
       "      <td>0.183734</td>\n",
       "      <td>0.17769</td>\n",
       "      <td>0.367823</td>\n",
       "      <td>0.0</td>\n",
       "      <td>0.632177</td>\n",
       "    </tr>\n",
       "  </tbody>\n",
       "</table>\n",
       "</div>"
      ],
      "text/plain": [
       "                              rule  mass_first_kmeans  mass_second_kmeans  \\\n",
       "0          clump_thickness < 2.569           0.725134            0.111726   \n",
       "1  2.569 < clump_thickness < 4.454           0.638576            0.183734   \n",
       "\n",
       "   uncertainty_kmeans  mass_first_random  mass_second_random  \\\n",
       "0             0.16314           0.336098                 0.0   \n",
       "1             0.17769           0.367823                 0.0   \n",
       "\n",
       "   uncertainty_random  \n",
       "0            0.663902  \n",
       "1            0.632177  "
      ]
     },
     "execution_count": 15,
     "metadata": {},
     "output_type": "execute_result"
    }
   ],
   "source": [
    "d.head(2)"
   ]
  },
  {
   "cell_type": "code",
   "execution_count": 24,
   "metadata": {},
   "outputs": [],
   "source": [
    "method = \"kmeans\"\n",
    "\n",
    "\n",
    "\n",
    "# d[f\"raio_{method}\"] = d[f\"mass_second_{method}\"] / d[f\"mass_first_{method}\"]\n",
    "for method in [\"kmeans\", \"random\"]: \n",
    "    d[f'ratio_{method}'] = np.where(d[f'mass_first_{method}'] > d[f'mass_second_{method}'],\n",
    "                        d[f'mass_first_{method}'] / (d[f'mass_second_{method}'] + 1e-2),\n",
    "                        d[f'mass_second_{method}'] / (d[f'mass_first_{method}'] + 1e-2))\n",
    "    d[\"1_min_uncertainty\"] = 1 - d[f\"uncertainty_{method}\"]\n",
    "    \n",
    "    d[f\"ratio_min_max_scaled_{method}\"] = (d[f'ratio_{method}'] - d[f'ratio_{method}'].min()) / (d[f'ratio_{method}'].max() - d[f'ratio_{method}'].min())\n",
    "    \n",
    "    # harmonic mean\n",
    "    d[f\"score_{method}\"] = 2 / (1/d[f\"1_min_uncertainty\"] + 1/d[f\"ratio_min_max_scaled_{method}\"]) "
   ]
  },
  {
   "cell_type": "code",
   "execution_count": 31,
   "metadata": {},
   "outputs": [
    {
     "data": {
      "text/html": [
       "<div>\n",
       "<style scoped>\n",
       "    .dataframe tbody tr th:only-of-type {\n",
       "        vertical-align: middle;\n",
       "    }\n",
       "\n",
       "    .dataframe tbody tr th {\n",
       "        vertical-align: top;\n",
       "    }\n",
       "\n",
       "    .dataframe thead th {\n",
       "        text-align: right;\n",
       "    }\n",
       "</style>\n",
       "<table border=\"1\" class=\"dataframe\">\n",
       "  <thead>\n",
       "    <tr style=\"text-align: right;\">\n",
       "      <th></th>\n",
       "      <th>rule</th>\n",
       "      <th>mass_first_kmeans</th>\n",
       "      <th>mass_second_kmeans</th>\n",
       "      <th>uncertainty_kmeans</th>\n",
       "      <th>mass_first_random</th>\n",
       "      <th>mass_second_random</th>\n",
       "      <th>uncertainty_random</th>\n",
       "      <th>ratio_kmeans</th>\n",
       "      <th>ratio_random</th>\n",
       "      <th>1_min_uncertainty</th>\n",
       "      <th>ratio_min_max_scaled_kmeans</th>\n",
       "      <th>score_kmeans</th>\n",
       "      <th>ratio_min_max_scaled_random</th>\n",
       "      <th>score_random</th>\n",
       "    </tr>\n",
       "  </thead>\n",
       "  <tbody>\n",
       "    <tr>\n",
       "      <th>0</th>\n",
       "      <td>clump_thickness &lt; 2.569</td>\n",
       "      <td>0.725134</td>\n",
       "      <td>0.111726</td>\n",
       "      <td>0.16314</td>\n",
       "      <td>0.336098</td>\n",
       "      <td>0.0</td>\n",
       "      <td>0.663902</td>\n",
       "      <td>5.9571</td>\n",
       "      <td>33.60984</td>\n",
       "      <td>0.336098</td>\n",
       "      <td>0.059571</td>\n",
       "      <td>0.111225</td>\n",
       "      <td>0.760554</td>\n",
       "      <td>0.466184</td>\n",
       "    </tr>\n",
       "  </tbody>\n",
       "</table>\n",
       "</div>"
      ],
      "text/plain": [
       "                      rule  mass_first_kmeans  mass_second_kmeans  \\\n",
       "0  clump_thickness < 2.569           0.725134            0.111726   \n",
       "\n",
       "   uncertainty_kmeans  mass_first_random  mass_second_random  \\\n",
       "0             0.16314           0.336098                 0.0   \n",
       "\n",
       "   uncertainty_random  ratio_kmeans  ratio_random  1_min_uncertainty  \\\n",
       "0            0.663902        5.9571      33.60984           0.336098   \n",
       "\n",
       "   ratio_min_max_scaled_kmeans  score_kmeans  ratio_min_max_scaled_random  \\\n",
       "0                     0.059571      0.111225                     0.760554   \n",
       "\n",
       "   score_random  \n",
       "0      0.466184  "
      ]
     },
     "execution_count": 31,
     "metadata": {},
     "output_type": "execute_result"
    }
   ],
   "source": [
    "d.head(1)"
   ]
  },
  {
   "cell_type": "code",
   "execution_count": 41,
   "metadata": {},
   "outputs": [
    {
     "name": "stdout",
     "output_type": "stream",
     "text": [
      "0.3333333333333333\n"
     ]
    }
   ],
   "source": [
    "def most_imp(d, alg, rules_percantage=0.1):\n",
    "    score = d.sort_values(by=f\"score_{alg}\", ascending=False)\n",
    "    unc = d.sort_values(f\"uncertainty_{alg}\")  \n",
    "    # num of rules in top 10 that \n",
    "    \n",
    "    num_rules = int(len(score) * rules_percantage)\n",
    "    score_top = set(score.rule.iloc[:num_rules].to_list()) \n",
    "    unc_top = set(unc.rule.iloc[:num_rules].to_list()) \n",
    "    print(len(score_top & unc_top) / num_rules)\n",
    "    \n",
    "most_imp(d, \"kmeans\")"
   ]
  },
  {
   "cell_type": "code",
   "execution_count": 33,
   "metadata": {},
   "outputs": [
    {
     "data": {
      "text/plain": [
       "['Brain Tumor.csv',\n",
       " 'breast-cancer-wisconsin.csv',\n",
       " 'gaussian_df.csv',\n",
       " 'rectangle_df.csv',\n",
       " 'uniform_df.csv',\n",
       " 'wine.csv']"
      ]
     },
     "execution_count": 33,
     "metadata": {},
     "output_type": "execute_result"
    }
   ],
   "source": [
    "\n",
    "# d.to_latex()\n",
    "\n",
    "datasets = os.listdir(\"datasets\")\n",
    "datasets"
   ]
  },
  {
   "cell_type": "code",
   "execution_count": 173,
   "metadata": {},
   "outputs": [
    {
     "data": {
      "text/plain": [
       "Index(['datetime', 'name', 'MAF method', 'dataset', 'breaks', 'mult_rules',\n",
       "       'accuracy', 'f1', 'confusion_matrix', 'training_time', 'epochs',\n",
       "       'min_loss', 'all_losses', 'clustering_alg', 'label_for_dist'],\n",
       "      dtype='object')"
      ]
     },
     "execution_count": 173,
     "metadata": {},
     "output_type": "execute_result"
    }
   ],
   "source": [
    "df_exps_all.columns"
   ]
  },
  {
   "cell_type": "markdown",
   "metadata": {},
   "source": [
    "# Misc"
   ]
  },
  {
   "cell_type": "code",
   "execution_count": 30,
   "metadata": {},
   "outputs": [
    {
     "data": {
      "text/plain": [
       "[<matplotlib.lines.Line2D at 0x1c2b5ec41c0>]"
      ]
     },
     "execution_count": 30,
     "metadata": {},
     "output_type": "execute_result"
    },
    {
     "data": {
      "image/png": "[encoded data removed]",
      "text/plain": [
       "<Figure size 640x480 with 1 Axes>"
      ]
     },
     "metadata": {},
     "output_type": "display_data"
    }
   ],
   "source": [
    "a = plt.plot([1,2,3])\n",
    "\n",
    "# to latex\n"
   ]
  },
  {
   "cell_type": "code",
   "execution_count": 27,
   "metadata": {},
   "outputs": [
    {
     "ename": "NameError",
     "evalue": "name 'merged' is not defined",
     "output_type": "error",
     "traceback": [
      "\u001b[1;31m---------------------------------------------------------------------------\u001b[0m",
      "\u001b[1;31mNameError\u001b[0m                                 Traceback (most recent call last)",
      "Cell \u001b[1;32mIn[27], line 2\u001b[0m\n\u001b[0;32m      1\u001b[0m inds \u001b[38;5;241m=\u001b[39m [\u001b[38;5;241m3\u001b[39m, \u001b[38;5;241m31\u001b[39m, \u001b[38;5;241m18\u001b[39m, \u001b[38;5;241m7\u001b[39m, \u001b[38;5;241m15\u001b[39m, \u001b[38;5;241m34\u001b[39m, \u001b[38;5;241m18\u001b[39m]\n\u001b[1;32m----> 2\u001b[0m merged[\u001b[38;5;124m\"\u001b[39m\u001b[38;5;124mratio\u001b[39m\u001b[38;5;124m\"\u001b[39m] \u001b[38;5;241m=\u001b[39m \u001b[43mmerged\u001b[49m[\u001b[38;5;124m\"\u001b[39m\u001b[38;5;124mmass_second_kmeans\u001b[39m\u001b[38;5;124m\"\u001b[39m] \u001b[38;5;241m/\u001b[39m merged[\u001b[38;5;124m\"\u001b[39m\u001b[38;5;124mmass_first_kmeans\u001b[39m\u001b[38;5;124m\"\u001b[39m]\n\u001b[0;32m      3\u001b[0m m \u001b[38;5;241m=\u001b[39m merged\u001b[38;5;241m.\u001b[39msort_values(by\u001b[38;5;241m=\u001b[39m\u001b[38;5;124m\"\u001b[39m\u001b[38;5;124muncertainty_kmeans\u001b[39m\u001b[38;5;124m\"\u001b[39m, ascending\u001b[38;5;241m=\u001b[39m\u001b[38;5;28;01mTrue\u001b[39;00m)\n\u001b[0;32m      4\u001b[0m a \u001b[38;5;241m=\u001b[39m px\u001b[38;5;241m.\u001b[39mscatter(m\u001b[38;5;241m.\u001b[39mloc[inds], x\u001b[38;5;241m=\u001b[39m\u001b[38;5;124m\"\u001b[39m\u001b[38;5;124muncertainty_kmeans\u001b[39m\u001b[38;5;124m\"\u001b[39m, y\u001b[38;5;241m=\u001b[39m\u001b[38;5;124m\"\u001b[39m\u001b[38;5;124mratio\u001b[39m\u001b[38;5;124m\"\u001b[39m, hover_data\u001b[38;5;241m=\u001b[39m[\u001b[38;5;124m\"\u001b[39m\u001b[38;5;124mrule\u001b[39m\u001b[38;5;124m\"\u001b[39m])\n",
      "\u001b[1;31mNameError\u001b[0m: name 'merged' is not defined"
     ]
    }
   ],
   "source": [
    "inds = [3, 31, 18, 7, 15, 34, 18]\n",
    "merged[\"ratio\"] = merged[\"mass_second_kmeans\"] / merged[\"mass_first_kmeans\"]\n",
    "m = merged.sort_values(by=\"uncertainty_kmeans\", ascending=True)\n",
    "a = px.scatter(m.loc[inds], x=\"uncertainty_kmeans\", y=\"ratio\", hover_data=[\"rule\"])"
   ]
  },
  {
   "cell_type": "code",
   "execution_count": 60,
   "metadata": {},
   "outputs": [
    {
     "data": {
      "text/html": [
       "<div>\n",
       "<style scoped>\n",
       "    .dataframe tbody tr th:only-of-type {\n",
       "        vertical-align: middle;\n",
       "    }\n",
       "\n",
       "    .dataframe tbody tr th {\n",
       "        vertical-align: top;\n",
       "    }\n",
       "\n",
       "    .dataframe thead th {\n",
       "        text-align: right;\n",
       "    }\n",
       "</style>\n",
       "<table border=\"1\" class=\"dataframe\">\n",
       "  <thead>\n",
       "    <tr style=\"text-align: right;\">\n",
       "      <th></th>\n",
       "      <th>rule</th>\n",
       "      <th>mass_first_kmeans</th>\n",
       "      <th>mass_second_kmeans</th>\n",
       "      <th>uncertainty_kmeans</th>\n",
       "      <th>ratio</th>\n",
       "    </tr>\n",
       "  </thead>\n",
       "  <tbody>\n",
       "    <tr>\n",
       "      <th>7</th>\n",
       "      <td>size_uniformity &gt; 5.134</td>\n",
       "      <td>0.140512</td>\n",
       "      <td>0.534107</td>\n",
       "      <td>0.325381</td>\n",
       "      <td>3.801164</td>\n",
       "    </tr>\n",
       "    <tr>\n",
       "      <th>3</th>\n",
       "      <td>clump_thickness &gt; 6.339</td>\n",
       "      <td>0.074992</td>\n",
       "      <td>0.590052</td>\n",
       "      <td>0.334956</td>\n",
       "      <td>7.868188</td>\n",
       "    </tr>\n",
       "  </tbody>\n",
       "</table>\n",
       "</div>"
      ],
      "text/plain": [
       "                      rule  mass_first_kmeans  mass_second_kmeans  \\\n",
       "7  size_uniformity > 5.134           0.140512            0.534107   \n",
       "3  clump_thickness > 6.339           0.074992            0.590052   \n",
       "\n",
       "   uncertainty_kmeans     ratio  \n",
       "7            0.325381  3.801164  \n",
       "3            0.334956  7.868188  "
      ]
     },
     "execution_count": 60,
     "metadata": {},
     "output_type": "execute_result"
    }
   ],
   "source": [
    "m.loc[[7, 3]].drop([\"mass_first_random\", \"mass_second_random\",\t\"uncertainty_random\"],axis=1)"
   ]
  },
  {
   "cell_type": "code",
   "execution_count": 7,
   "metadata": {},
   "outputs": [
    {
     "name": "stderr",
     "output_type": "stream",
     "text": [
      "c:\\Users\\hayk_\\.conda\\envs\\thesis\\lib\\site-packages\\tqdm\\auto.py:21: TqdmWarning: IProgress not found. Please update jupyter and ipywidgets. See https://ipywidgets.readthedocs.io/en/stable/user_install.html\n",
      "  from .autonotebook import tqdm as notebook_tqdm\n"
     ]
    }
   ],
   "source": [
    "rules_info = pickle.load(open(f\"{RULE_FOLDER}/{rules[0]}\", \"rb\"))"
   ]
  },
  {
   "cell_type": "code",
   "execution_count": 12,
   "metadata": {},
   "outputs": [],
   "source": [
    "name_1 = \"kmeans_wine.csv, 3 single breaks, maf_method=random.dsb\"\n",
    "name_2 = \"kmeans_wine.csv, 3 single breaks, maf_method=kmeans.dsb\""
   ]
  },
  {
   "cell_type": "code",
   "execution_count": 13,
   "metadata": {},
   "outputs": [],
   "source": [
    "rules_info_random = pickle.load(open(f\"{RULE_FOLDER}/{name_1}\", \"rb\"))\n",
    "rules_info_kmeans = pickle.load(open(f\"{RULE_FOLDER}/{name_2}\", \"rb\"))"
   ]
  },
  {
   "cell_type": "code",
   "execution_count": 30,
   "metadata": {},
   "outputs": [],
   "source": [
    "def extract_res(rules_info):\n",
    "    rules = rules_info[\"preds\"]\n",
    "    mafs = rules_info[\"masses\"]\n",
    "    \n",
    "    rule_names = [str(i) for i in rules]\n",
    "    mass_first = [float(i[0]) for i in mafs]\n",
    "    mass_second = [float(i[1]) for i in mafs]\n",
    "    uncertainty = [float(i[2]) for i in mafs]\n",
    "    \n",
    "    res = {\"rule\": rule_names, \"mass_first\": mass_first, \"mass_second\": mass_second, \"uncertainty\": uncertainty}\n",
    "    return res"
   ]
  },
  {
   "cell_type": "code",
   "execution_count": 31,
   "metadata": {},
   "outputs": [],
   "source": [
    "kmeans = extract_res(rules_info_kmeans)\n",
    "random = extract_res(rules_info_random)"
   ]
  },
  {
   "cell_type": "code",
   "execution_count": 41,
   "metadata": {},
   "outputs": [
    {
     "data": {
      "text/html": [
       "<div>\n",
       "<style scoped>\n",
       "    .dataframe tbody tr th:only-of-type {\n",
       "        vertical-align: middle;\n",
       "    }\n",
       "\n",
       "    .dataframe tbody tr th {\n",
       "        vertical-align: top;\n",
       "    }\n",
       "\n",
       "    .dataframe thead th {\n",
       "        text-align: right;\n",
       "    }\n",
       "</style>\n",
       "<table border=\"1\" class=\"dataframe\">\n",
       "  <thead>\n",
       "    <tr style=\"text-align: right;\">\n",
       "      <th></th>\n",
       "      <th>rule</th>\n",
       "      <th>mass_first_kmeans</th>\n",
       "      <th>mass_second_kmeans</th>\n",
       "      <th>uncertainty_kmeans</th>\n",
       "      <th>mass_first_random</th>\n",
       "      <th>mass_second_random</th>\n",
       "      <th>uncertainty_random</th>\n",
       "    </tr>\n",
       "  </thead>\n",
       "  <tbody>\n",
       "    <tr>\n",
       "      <th>0</th>\n",
       "      <td>fixed acidity &lt; 6.350</td>\n",
       "      <td>0.231988</td>\n",
       "      <td>0.532523</td>\n",
       "      <td>0.23549</td>\n",
       "      <td>0.019433</td>\n",
       "      <td>0.287232</td>\n",
       "      <td>0.693334</td>\n",
       "    </tr>\n",
       "  </tbody>\n",
       "</table>\n",
       "</div>"
      ],
      "text/plain": [
       "                    rule  mass_first_kmeans  mass_second_kmeans  \\\n",
       "0  fixed acidity < 6.350           0.231988            0.532523   \n",
       "\n",
       "   uncertainty_kmeans  mass_first_random  mass_second_random  \\\n",
       "0             0.23549           0.019433            0.287232   \n",
       "\n",
       "   uncertainty_random  \n",
       "0            0.693334  "
      ]
     },
     "execution_count": 41,
     "metadata": {},
     "output_type": "execute_result"
    }
   ],
   "source": [
    "kmeans_df = pd.DataFrame(kmeans)\n",
    "random_df = pd.DataFrame(random)\n",
    "\n",
    "# merge on rule column\n",
    "merged = pd.merge(kmeans_df, random_df, on=\"rule\", suffixes=('_kmeans', '_random'))\n",
    "merged.head(1)"
   ]
  },
  {
   "cell_type": "code",
   "execution_count": 44,
   "metadata": {},
   "outputs": [
    {
     "data": {
      "application/vnd.plotly.v1+json": {
       "config": {
        "plotlyServerURL": "https://plot.ly"
       },
       "data": [
        {
         "alignmentgroup": "True",
         "hovertemplate": "variable=uncertainty_kmeans<br>rule=%{x}<br>value=%{y}<extra></extra>",
         "legendgroup": "uncertainty_kmeans",
         "marker": {
          "color": "#636efa",
          "pattern": {
           "shape": ""
          }
         },
         "name": "uncertainty_kmeans",
         "offsetgroup": "uncertainty_kmeans",
         "orientation": "v",
         "showlegend": true,
         "textposition": "auto",
         "type": "bar",
         "x": [
          "fixed acidity < 6.350",
          "6.350 < fixed acidity < 7.218",
          "7.218 < fixed acidity < 8.086",
          "fixed acidity > 8.086",
          "volatile acidity < 0.228",
          "0.228 < volatile acidity < 0.339",
          "0.339 < volatile acidity < 0.450",
          "volatile acidity > 0.450",
          "citric acid < 0.220",
          "0.220 < citric acid < 0.319",
          "0.319 < citric acid < 0.418",
          "citric acid > 0.418",
          "residual sugar < 2.281",
          "2.281 < residual sugar < 5.499",
          "5.499 < residual sugar < 8.716",
          "residual sugar > 8.716",
          "chlorides < 0.033",
          "0.033 < chlorides < 0.056",
          "0.056 < chlorides < 0.080",
          "chlorides > 0.080",
          "free sulfur dioxide < 18.630",
          "18.630 < free sulfur dioxide < 30.697",
          "30.697 < free sulfur dioxide < 42.764",
          "free sulfur dioxide > 42.764",
          "total sulfur dioxide < 78.172",
          "78.172 < total sulfur dioxide < 116.166",
          "116.166 < total sulfur dioxide < 154.160",
          "total sulfur dioxide > 154.160",
          "density < 0.993",
          "0.993 < density < 0.995",
          "0.995 < density < 0.997",
          "density > 0.997",
          "pH < 3.109",
          "3.109 < pH < 3.217",
          "3.217 < pH < 3.325",
          "pH > 3.325",
          "sulphates < 0.431",
          "0.431 < sulphates < 0.532",
          "0.532 < sulphates < 0.634",
          "sulphates > 0.634",
          "alcohol < 9.673",
          "9.673 < alcohol < 10.480",
          "10.480 < alcohol < 11.287",
          "alcohol > 11.287",
          "quality < 5.209",
          "5.209 < quality < 5.803",
          "5.803 < quality < 6.397",
          "quality > 6.397",
          "good = 0.0",
          "good = 1.0"
         ],
         "xaxis": "x",
         "y": [
          0.23548957705497742,
          0.28759029507637024,
          0.20650824904441833,
          0.2373899519443512,
          0.2867564857006073,
          0.27443453669548035,
          0.2357354462146759,
          0.2861595153808594,
          0.276885986328125,
          0.27835363149642944,
          0.28748267889022827,
          0.20947866141796112,
          0.19310632348060608,
          0.22775612771511078,
          0.4025651216506958,
          0.39370986819267273,
          0.2959885597229004,
          0.33066678047180176,
          0.20610164105892181,
          0.23439407348632812,
          0.2315986305475235,
          0.20757754147052765,
          0.2543029189109802,
          0.16413632035255432,
          0.20131757855415344,
          0.1809731423854828,
          0,
          0.027558201923966408,
          0.22718548774719238,
          0.23926161229610443,
          0.23752206563949585,
          0.20650668442249298,
          0.2709845304489136,
          0.2958550453186035,
          0.26247429847717285,
          0.2590872347354889,
          0.3856387734413147,
          0.28547367453575134,
          0.24893812835216522,
          0.2426583468914032,
          0.23628324270248413,
          0.2475648820400238,
          0.3219050467014313,
          0.24822570383548737,
          0.22120968997478485,
          1,
          0.23245948553085327,
          0.20871877670288086,
          0.22903086245059967,
          0.20871877670288086
         ],
         "yaxis": "y"
        },
        {
         "alignmentgroup": "True",
         "hovertemplate": "variable=uncertainty_random<br>rule=%{x}<br>value=%{y}<extra></extra>",
         "legendgroup": "uncertainty_random",
         "marker": {
          "color": "#EF553B",
          "pattern": {
           "shape": ""
          }
         },
         "name": "uncertainty_random",
         "offsetgroup": "uncertainty_random",
         "orientation": "v",
         "showlegend": true,
         "textposition": "auto",
         "type": "bar",
         "x": [
          "fixed acidity < 6.350",
          "6.350 < fixed acidity < 7.218",
          "7.218 < fixed acidity < 8.086",
          "fixed acidity > 8.086",
          "volatile acidity < 0.228",
          "0.228 < volatile acidity < 0.339",
          "0.339 < volatile acidity < 0.450",
          "volatile acidity > 0.450",
          "citric acid < 0.220",
          "0.220 < citric acid < 0.319",
          "0.319 < citric acid < 0.418",
          "citric acid > 0.418",
          "residual sugar < 2.281",
          "2.281 < residual sugar < 5.499",
          "5.499 < residual sugar < 8.716",
          "residual sugar > 8.716",
          "chlorides < 0.033",
          "0.033 < chlorides < 0.056",
          "0.056 < chlorides < 0.080",
          "chlorides > 0.080",
          "free sulfur dioxide < 18.630",
          "18.630 < free sulfur dioxide < 30.697",
          "30.697 < free sulfur dioxide < 42.764",
          "free sulfur dioxide > 42.764",
          "total sulfur dioxide < 78.172",
          "78.172 < total sulfur dioxide < 116.166",
          "116.166 < total sulfur dioxide < 154.160",
          "total sulfur dioxide > 154.160",
          "density < 0.993",
          "0.993 < density < 0.995",
          "0.995 < density < 0.997",
          "density > 0.997",
          "pH < 3.109",
          "3.109 < pH < 3.217",
          "3.217 < pH < 3.325",
          "pH > 3.325",
          "sulphates < 0.431",
          "0.431 < sulphates < 0.532",
          "0.532 < sulphates < 0.634",
          "sulphates > 0.634",
          "alcohol < 9.673",
          "9.673 < alcohol < 10.480",
          "10.480 < alcohol < 11.287",
          "alcohol > 11.287",
          "quality < 5.209",
          "5.209 < quality < 5.803",
          "5.803 < quality < 6.397",
          "quality > 6.397",
          "good = 0.0",
          "good = 1.0"
         ],
         "xaxis": "x",
         "y": [
          0.6933344602584839,
          0.7680202126502991,
          0.6023110747337341,
          0.7293949723243713,
          0.817430853843689,
          0.7995772361755371,
          0.8191539645195007,
          0.705909252166748,
          0.7974356412887573,
          0.8231233358383179,
          0.8082740306854248,
          0.7257689833641052,
          0.688813328742981,
          0.763904333114624,
          0.7726165652275085,
          0.7308440804481506,
          0.6554807424545288,
          0.6482237577438354,
          0.7847498655319214,
          0.6400558352470398,
          0.4692193269729614,
          0.8236754536628723,
          0.5476813316345215,
          0.36614125967025757,
          0.15844692289829254,
          0.18209253251552582,
          0.1170697808265686,
          0.23206309974193573,
          0.8125230073928833,
          0.8104133009910583,
          0.8221966028213501,
          0.8209362030029297,
          0.7409383654594421,
          0.7937777042388916,
          0.8168542981147766,
          0.8217002153396606,
          0.7458901405334473,
          0.8080141544342041,
          0.8011873364448547,
          0.7867428064346313,
          0.6533294916152954,
          0.8217717409133911,
          0.8260704278945923,
          0.6943047046661377,
          0.8072293400764465,
          0.800000011920929,
          0.8135345578193665,
          0.811633288860321,
          0.8031589984893799,
          0.8090121746063232
         ],
         "yaxis": "y"
        }
       ],
       "layout": {
        "barmode": "group",
        "legend": {
         "title": {
          "text": "variable"
         },
         "tracegroupgap": 0
        },
        "template": {
         "data": {
          "bar": [
           {
            "error_x": {
             "color": "#2a3f5f"
            },
            "error_y": {
             "color": "#2a3f5f"
            },
            "marker": {
             "line": {
              "color": "#E5ECF6",
              "width": 0.5
             },
             "pattern": {
              "fillmode": "overlay",
              "size": 10,
              "solidity": 0.2
             }
            },
            "type": "bar"
           }
          ],
          "barpolar": [
           {
            "marker": {
             "line": {
              "color": "#E5ECF6",
              "width": 0.5
             },
             "pattern": {
              "fillmode": "overlay",
              "size": 10,
              "solidity": 0.2
             }
            },
            "type": "barpolar"
           }
          ],
          "carpet": [
           {
            "aaxis": {
             "endlinecolor": "#2a3f5f",
             "gridcolor": "white",
             "linecolor": "white",
             "minorgridcolor": "white",
             "startlinecolor": "#2a3f5f"
            },
            "baxis": {
             "endlinecolor": "#2a3f5f",
             "gridcolor": "white",
             "linecolor": "white",
             "minorgridcolor": "white",
             "startlinecolor": "#2a3f5f"
            },
            "type": "carpet"
           }
          ],
          "choropleth": [
           {
            "colorbar": {
             "outlinewidth": 0,
             "ticks": ""
            },
            "type": "choropleth"
           }
          ],
          "contour": [
           {
            "colorbar": {
             "outlinewidth": 0,
             "ticks": ""
            },
            "colorscale": [
             [
              0,
              "#0d0887"
             ],
             [
              0.1111111111111111,
              "#46039f"
             ],
             [
              0.2222222222222222,
              "#7201a8"
             ],
             [
              0.3333333333333333,
              "#9c179e"
             ],
             [
              0.4444444444444444,
              "#bd3786"
             ],
             [
              0.5555555555555556,
              "#d8576b"
             ],
             [
              0.6666666666666666,
              "#ed7953"
             ],
             [
              0.7777777777777778,
              "#fb9f3a"
             ],
             [
              0.8888888888888888,
              "#fdca26"
             ],
             [
              1,
              "#f0f921"
             ]
            ],
            "type": "contour"
           }
          ],
          "contourcarpet": [
           {
            "colorbar": {
             "outlinewidth": 0,
             "ticks": ""
            },
            "type": "contourcarpet"
           }
          ],
          "heatmap": [
           {
            "colorbar": {
             "outlinewidth": 0,
             "ticks": ""
            },
            "colorscale": [
             [
              0,
              "#0d0887"
             ],
             [
              0.1111111111111111,
              "#46039f"
             ],
             [
              0.2222222222222222,
              "#7201a8"
             ],
             [
              0.3333333333333333,
              "#9c179e"
             ],
             [
              0.4444444444444444,
              "#bd3786"
             ],
             [
              0.5555555555555556,
              "#d8576b"
             ],
             [
              0.6666666666666666,
              "#ed7953"
             ],
             [
              0.7777777777777778,
              "#fb9f3a"
             ],
             [
              0.8888888888888888,
              "#fdca26"
             ],
             [
              1,
              "#f0f921"
             ]
            ],
            "type": "heatmap"
           }
          ],
          "heatmapgl": [
           {
            "colorbar": {
             "outlinewidth": 0,
             "ticks": ""
            },
            "colorscale": [
             [
              0,
              "#0d0887"
             ],
             [
              0.1111111111111111,
              "#46039f"
             ],
             [
              0.2222222222222222,
              "#7201a8"
             ],
             [
              0.3333333333333333,
              "#9c179e"
             ],
             [
              0.4444444444444444,
              "#bd3786"
             ],
             [
              0.5555555555555556,
              "#d8576b"
             ],
             [
              0.6666666666666666,
              "#ed7953"
             ],
             [
              0.7777777777777778,
              "#fb9f3a"
             ],
             [
              0.8888888888888888,
              "#fdca26"
             ],
             [
              1,
              "#f0f921"
             ]
            ],
            "type": "heatmapgl"
           }
          ],
          "histogram": [
           {
            "marker": {
             "pattern": {
              "fillmode": "overlay",
              "size": 10,
              "solidity": 0.2
             }
            },
            "type": "histogram"
           }
          ],
          "histogram2d": [
           {
            "colorbar": {
             "outlinewidth": 0,
             "ticks": ""
            },
            "colorscale": [
             [
              0,
              "#0d0887"
             ],
             [
              0.1111111111111111,
              "#46039f"
             ],
             [
              0.2222222222222222,
              "#7201a8"
             ],
             [
              0.3333333333333333,
              "#9c179e"
             ],
             [
              0.4444444444444444,
              "#bd3786"
             ],
             [
              0.5555555555555556,
              "#d8576b"
             ],
             [
              0.6666666666666666,
              "#ed7953"
             ],
             [
              0.7777777777777778,
              "#fb9f3a"
             ],
             [
              0.8888888888888888,
              "#fdca26"
             ],
             [
              1,
              "#f0f921"
             ]
            ],
            "type": "histogram2d"
           }
          ],
          "histogram2dcontour": [
           {
            "colorbar": {
             "outlinewidth": 0,
             "ticks": ""
            },
            "colorscale": [
             [
              0,
              "#0d0887"
             ],
             [
              0.1111111111111111,
              "#46039f"
             ],
             [
              0.2222222222222222,
              "#7201a8"
             ],
             [
              0.3333333333333333,
              "#9c179e"
             ],
             [
              0.4444444444444444,
              "#bd3786"
             ],
             [
              0.5555555555555556,
              "#d8576b"
             ],
             [
              0.6666666666666666,
              "#ed7953"
             ],
             [
              0.7777777777777778,
              "#fb9f3a"
             ],
             [
              0.8888888888888888,
              "#fdca26"
             ],
             [
              1,
              "#f0f921"
             ]
            ],
            "type": "histogram2dcontour"
           }
          ],
          "mesh3d": [
           {
            "colorbar": {
             "outlinewidth": 0,
             "ticks": ""
            },
            "type": "mesh3d"
           }
          ],
          "parcoords": [
           {
            "line": {
             "colorbar": {
              "outlinewidth": 0,
              "ticks": ""
             }
            },
            "type": "parcoords"
           }
          ],
          "pie": [
           {
            "automargin": true,
            "type": "pie"
           }
          ],
          "scatter": [
           {
            "fillpattern": {
             "fillmode": "overlay",
             "size": 10,
             "solidity": 0.2
            },
            "type": "scatter"
           }
          ],
          "scatter3d": [
           {
            "line": {
             "colorbar": {
              "outlinewidth": 0,
              "ticks": ""
             }
            },
            "marker": {
             "colorbar": {
              "outlinewidth": 0,
              "ticks": ""
             }
            },
            "type": "scatter3d"
           }
          ],
          "scattercarpet": [
           {
            "marker": {
             "colorbar": {
              "outlinewidth": 0,
              "ticks": ""
             }
            },
            "type": "scattercarpet"
           }
          ],
          "scattergeo": [
           {
            "marker": {
             "colorbar": {
              "outlinewidth": 0,
              "ticks": ""
             }
            },
            "type": "scattergeo"
           }
          ],
          "scattergl": [
           {
            "marker": {
             "colorbar": {
              "outlinewidth": 0,
              "ticks": ""
             }
            },
            "type": "scattergl"
           }
          ],
          "scattermapbox": [
           {
            "marker": {
             "colorbar": {
              "outlinewidth": 0,
              "ticks": ""
             }
            },
            "type": "scattermapbox"
           }
          ],
          "scatterpolar": [
           {
            "marker": {
             "colorbar": {
              "outlinewidth": 0,
              "ticks": ""
             }
            },
            "type": "scatterpolar"
           }
          ],
          "scatterpolargl": [
           {
            "marker": {
             "colorbar": {
              "outlinewidth": 0,
              "ticks": ""
             }
            },
            "type": "scatterpolargl"
           }
          ],
          "scatterternary": [
           {
            "marker": {
             "colorbar": {
              "outlinewidth": 0,
              "ticks": ""
             }
            },
            "type": "scatterternary"
           }
          ],
          "surface": [
           {
            "colorbar": {
             "outlinewidth": 0,
             "ticks": ""
            },
            "colorscale": [
             [
              0,
              "#0d0887"
             ],
             [
              0.1111111111111111,
              "#46039f"
             ],
             [
              0.2222222222222222,
              "#7201a8"
             ],
             [
              0.3333333333333333,
              "#9c179e"
             ],
             [
              0.4444444444444444,
              "#bd3786"
             ],
             [
              0.5555555555555556,
              "#d8576b"
             ],
             [
              0.6666666666666666,
              "#ed7953"
             ],
             [
              0.7777777777777778,
              "#fb9f3a"
             ],
             [
              0.8888888888888888,
              "#fdca26"
             ],
             [
              1,
              "#f0f921"
             ]
            ],
            "type": "surface"
           }
          ],
          "table": [
           {
            "cells": {
             "fill": {
              "color": "#EBF0F8"
             },
             "line": {
              "color": "white"
             }
            },
            "header": {
             "fill": {
              "color": "#C8D4E3"
             },
             "line": {
              "color": "white"
             }
            },
            "type": "table"
           }
          ]
         },
         "layout": {
          "annotationdefaults": {
           "arrowcolor": "#2a3f5f",
           "arrowhead": 0,
           "arrowwidth": 1
          },
          "autotypenumbers": "strict",
          "coloraxis": {
           "colorbar": {
            "outlinewidth": 0,
            "ticks": ""
           }
          },
          "colorscale": {
           "diverging": [
            [
             0,
             "#8e0152"
            ],
            [
             0.1,
             "#c51b7d"
            ],
            [
             0.2,
             "#de77ae"
            ],
            [
             0.3,
             "#f1b6da"
            ],
            [
             0.4,
             "#fde0ef"
            ],
            [
             0.5,
             "#f7f7f7"
            ],
            [
             0.6,
             "#e6f5d0"
            ],
            [
             0.7,
             "#b8e186"
            ],
            [
             0.8,
             "#7fbc41"
            ],
            [
             0.9,
             "#4d9221"
            ],
            [
             1,
             "#276419"
            ]
           ],
           "sequential": [
            [
             0,
             "#0d0887"
            ],
            [
             0.1111111111111111,
             "#46039f"
            ],
            [
             0.2222222222222222,
             "#7201a8"
            ],
            [
             0.3333333333333333,
             "#9c179e"
            ],
            [
             0.4444444444444444,
             "#bd3786"
            ],
            [
             0.5555555555555556,
             "#d8576b"
            ],
            [
             0.6666666666666666,
             "#ed7953"
            ],
            [
             0.7777777777777778,
             "#fb9f3a"
            ],
            [
             0.8888888888888888,
             "#fdca26"
            ],
            [
             1,
             "#f0f921"
            ]
           ],
           "sequentialminus": [
            [
             0,
             "#0d0887"
            ],
            [
             0.1111111111111111,
             "#46039f"
            ],
            [
             0.2222222222222222,
             "#7201a8"
            ],
            [
             0.3333333333333333,
             "#9c179e"
            ],
            [
             0.4444444444444444,
             "#bd3786"
            ],
            [
             0.5555555555555556,
             "#d8576b"
            ],
            [
             0.6666666666666666,
             "#ed7953"
            ],
            [
             0.7777777777777778,
             "#fb9f3a"
            ],
            [
             0.8888888888888888,
             "#fdca26"
            ],
            [
             1,
             "#f0f921"
            ]
           ]
          },
          "colorway": [
           "#636efa",
           "#EF553B",
           "#00cc96",
           "#ab63fa",
           "#FFA15A",
           "#19d3f3",
           "#FF6692",
           "#B6E880",
           "#FF97FF",
           "#FECB52"
          ],
          "font": {
           "color": "#2a3f5f"
          },
          "geo": {
           "bgcolor": "white",
           "lakecolor": "white",
           "landcolor": "#E5ECF6",
           "showlakes": true,
           "showland": true,
           "subunitcolor": "white"
          },
          "hoverlabel": {
           "align": "left"
          },
          "hovermode": "closest",
          "mapbox": {
           "style": "light"
          },
          "paper_bgcolor": "white",
          "plot_bgcolor": "#E5ECF6",
          "polar": {
           "angularaxis": {
            "gridcolor": "white",
            "linecolor": "white",
            "ticks": ""
           },
           "bgcolor": "#E5ECF6",
           "radialaxis": {
            "gridcolor": "white",
            "linecolor": "white",
            "ticks": ""
           }
          },
          "scene": {
           "xaxis": {
            "backgroundcolor": "#E5ECF6",
            "gridcolor": "white",
            "gridwidth": 2,
            "linecolor": "white",
            "showbackground": true,
            "ticks": "",
            "zerolinecolor": "white"
           },
           "yaxis": {
            "backgroundcolor": "#E5ECF6",
            "gridcolor": "white",
            "gridwidth": 2,
            "linecolor": "white",
            "showbackground": true,
            "ticks": "",
            "zerolinecolor": "white"
           },
           "zaxis": {
            "backgroundcolor": "#E5ECF6",
            "gridcolor": "white",
            "gridwidth": 2,
            "linecolor": "white",
            "showbackground": true,
            "ticks": "",
            "zerolinecolor": "white"
           }
          },
          "shapedefaults": {
           "line": {
            "color": "#2a3f5f"
           }
          },
          "ternary": {
           "aaxis": {
            "gridcolor": "white",
            "linecolor": "white",
            "ticks": ""
           },
           "baxis": {
            "gridcolor": "white",
            "linecolor": "white",
            "ticks": ""
           },
           "bgcolor": "#E5ECF6",
           "caxis": {
            "gridcolor": "white",
            "linecolor": "white",
            "ticks": ""
           }
          },
          "title": {
           "x": 0.05
          },
          "xaxis": {
           "automargin": true,
           "gridcolor": "white",
           "linecolor": "white",
           "ticks": "",
           "title": {
            "standoff": 15
           },
           "zerolinecolor": "white",
           "zerolinewidth": 2
          },
          "yaxis": {
           "automargin": true,
           "gridcolor": "white",
           "linecolor": "white",
           "ticks": "",
           "title": {
            "standoff": 15
           },
           "zerolinecolor": "white",
           "zerolinewidth": 2
          }
         }
        },
        "title": {
         "text": "Uncertainty comparison between kmeans and random"
        },
        "xaxis": {
         "anchor": "y",
         "domain": [
          0,
          1
         ],
         "title": {
          "text": "rule"
         }
        },
        "yaxis": {
         "anchor": "x",
         "domain": [
          0,
          1
         ],
         "title": {
          "text": "value"
         }
        }
       }
      }
     },
     "metadata": {},
     "output_type": "display_data"
    }
   ],
   "source": [
    "px.bar(merged, x='rule', y=['uncertainty_kmeans', 'uncertainty_random'], \n",
    "       title='Uncertainty comparison between kmeans and random', # put bars next to each other\n",
    "         barmode='group')"
   ]
  },
  {
   "cell_type": "code",
   "execution_count": null,
   "metadata": {},
   "outputs": [],
   "source": []
  }
 ],
 "metadata": {
  "kernelspec": {
   "display_name": "thesis",
   "language": "python",
   "name": "python3"
  },
  "language_info": {
   "codemirror_mode": {
    "name": "ipython",
    "version": 3
   },
   "file_extension": ".py",
   "mimetype": "text/x-python",
   "name": "python",
   "nbconvert_exporter": "python",
   "pygments_lexer": "ipython3",
   "version": "3.10.14"
  }
 },
 "nbformat": 4,
 "nbformat_minor": 2
}
