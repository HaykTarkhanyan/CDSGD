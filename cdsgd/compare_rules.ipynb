{
 "cells": [
  {
   "cell_type": "code",
   "execution_count": 1,
   "metadata": {},
   "outputs": [],
   "source": [
    "import pickle \n",
    "import numpy as np\n",
    "import matplotlib.pyplot as plt\n",
    "\n",
    "import plotly.express as px\n",
    "import pandas as pd\n",
    "\n",
    "import os"
   ]
  },
  {
   "cell_type": "code",
   "execution_count": 2,
   "metadata": {},
   "outputs": [],
   "source": [
    "import logging\n",
    "logging.basicConfig(level=logging.DEBUG, format=\"%(asctime)s [%(levelname)s] %(message)s\", \n",
    "                    datefmt=\"%d-%b-%y %H:%M:%S\")"
   ]
  },
  {
   "cell_type": "code",
   "execution_count": 3,
   "metadata": {},
   "outputs": [
    {
     "name": "stderr",
     "output_type": "stream",
     "text": [
      "28-Apr-24 00:38:58 [INFO] Found 25 rules\n"
     ]
    }
   ],
   "source": [
    "RULE_FOLDER = \"rules_saved_clean\"\n",
    "\n",
    "assert os.path.exists(RULE_FOLDER), f\"Folder {RULE_FOLDER} does not exist\"\n",
    "\n",
    "rules = os.listdir(RULE_FOLDER)\n",
    "logging.info(f\"Found {len(rules)} rules\")"
   ]
  },
  {
   "cell_type": "code",
   "execution_count": 4,
   "metadata": {},
   "outputs": [],
   "source": [
    "def get_pairs(rules):\n",
    "    pairs = []\n",
    "    for rule1 in rules:\n",
    "        if 'maf_method' in rule1:\n",
    "            for rule2 in rules:\n",
    "                if rule1 == rule2 or (rule2, rule1) in pairs:\n",
    "                    continue\n",
    "                if rule2.startswith(rule1.split('maf_method')[0]):\n",
    "                    pairs.append((rule1, rule2))\n",
    "    return pairs\n",
    "\n",
    "def extract_res(rules_info):\n",
    "    rules = rules_info[\"preds\"]\n",
    "    mafs = rules_info[\"masses\"]\n",
    "    \n",
    "    rule_names = [str(i) for i in rules]\n",
    "    mass_first = [float(i[0]) for i in mafs]\n",
    "    mass_second = [float(i[1]) for i in mafs]\n",
    "    uncertainty = [float(i[2]) for i in mafs]\n",
    "    \n",
    "    res = {\"rule\": rule_names, \"mass_first\": mass_first, \"mass_second\": mass_second, \"uncertainty\": uncertainty}\n",
    "    return res"
   ]
  },
  {
   "cell_type": "code",
   "execution_count": 10,
   "metadata": {},
   "outputs": [
    {
     "data": {
      "text/plain": [
       "10"
      ]
     },
     "execution_count": 10,
     "metadata": {},
     "output_type": "execute_result"
    }
   ],
   "source": [
    "lst = [\"dataset=Brain Tumor, label_for_dist=labels, clust=kmeans breaks=3, add_mult_rules=False, maf_method=clustering\", \n",
    "\"dataset=Brain Tumor, label_for_dist=labels, clust=kmeans breaks=3, add_mult_rules=False, maf_method=random\",\n",
    "\"dataset=breast-cancer-wisconsin, label_for_dist=labels, clust=kmeans breaks=3, add_mult_rules=False, maf_method=clustering\",\n",
    "\"dataset=breast-cancer-wisconsin, label_for_dist=labels, clust=kmeans breaks=3, add_mult_rules=False, maf_method=random\",\n",
    "\"dataset=gaussian_df, label_for_dist=labels, clust=kmeans breaks=3, add_mult_rules=False, maf_method=clustering\",\n",
    "\"dataset=gaussian_df, label_for_dist=labels, clust=kmeans breaks=3, add_mult_rules=False, maf_method=random\",\n",
    "\"dataset=rectangle_df, label_for_dist=labels, clust=kmeans breaks=3, add_mult_rules=False, maf_method=clustering\",\n",
    "\"dataset=rectangle_df, label_for_dist=labels, clust=kmeans breaks=3, add_mult_rules=False, maf_method=random\",\n",
    "\"dataset=uniform_df, label_for_dist=labels, clust=kmeans breaks=3, add_mult_rules=False, maf_method=clustering\",\n",
    "\"dataset=uniform_df, label_for_dist=labels, clust=kmeans breaks=3, add_mult_rules=False, maf_method=random\"]\n",
    "len(lst)"
   ]
  },
  {
   "cell_type": "code",
   "execution_count": 11,
   "metadata": {},
   "outputs": [],
   "source": [
    "pairs = get_pairs(rules)"
   ]
  },
  {
   "cell_type": "code",
   "execution_count": 21,
   "metadata": {},
   "outputs": [
    {
     "data": {
      "text/plain": [
       "[('dataset=Brain Tumor, label_for_dist=labels, clust=kmeans breaks=3, add_mult_rules=False, maf_method=clustering.dsb',\n",
       "  'dataset=Brain Tumor, label_for_dist=labels, clust=kmeans breaks=3, add_mult_rules=False, maf_method=random.dsb'),\n",
       " ('dataset=breast-cancer-wisconsin, label_for_dist=labels, clust=kmeans breaks=3, add_mult_rules=False, maf_method=clustering.dsb',\n",
       "  'dataset=breast-cancer-wisconsin, label_for_dist=labels, clust=kmeans breaks=3, add_mult_rules=False, maf_method=random.dsb'),\n",
       " ('dataset=gaussian_df, label_for_dist=labels, clust=kmeans breaks=3, add_mult_rules=False, maf_method=clustering.dsb',\n",
       "  'dataset=gaussian_df, label_for_dist=labels, clust=kmeans breaks=3, add_mult_rules=False, maf_method=random.dsb'),\n",
       " ('dataset=rectangle_df, label_for_dist=labels, clust=kmeans breaks=3, add_mult_rules=False, maf_method=clustering.dsb',\n",
       "  'dataset=rectangle_df, label_for_dist=labels, clust=kmeans breaks=3, add_mult_rules=False, maf_method=random.dsb'),\n",
       " ('dataset=uniform_df, label_for_dist=labels, clust=kmeans breaks=3, add_mult_rules=False, maf_method=clustering.dsb',\n",
       "  'dataset=uniform_df, label_for_dist=labels, clust=kmeans breaks=3, add_mult_rules=False, maf_method=random.dsb')]"
      ]
     },
     "execution_count": 21,
     "metadata": {},
     "output_type": "execute_result"
    }
   ],
   "source": [
    "\n",
    "def filter_pairs(pairs, allowed_lst):\n",
    "    relevant = []\n",
    "    for i, j in pairs:\n",
    "        if i.split(\".\")[0] in allowed_lst and j.split(\".\")[0] in allowed_lst:\n",
    "            relevant.append((i, j)) \n",
    "            \n",
    "    return relevant\n",
    "\n",
    "\n",
    "pairs_new = filter_pairs(pairs,lst)\n",
    "pairs_new"
   ]
  },
  {
   "cell_type": "code",
   "execution_count": 24,
   "metadata": {},
   "outputs": [
    {
     "name": "stdout",
     "output_type": "stream",
     "text": [
      "dataset=breast-cancer-wisconsin, label_for_dist=labels, clust=kmeans breaks=3, add_mult_rules=False, maf_method=clustering.dsb\n",
      "dataset=breast-cancer-wisconsin, label_for_dist=labels, clust=kmeans breaks=3, add_mult_rules=False, maf_method=random.dsb\n",
      "                                 rule  mass_first_kmeans  mass_second_kmeans  \\\n",
      "0             clump_thickness < 2.569           0.725134            0.111726   \n",
      "1     2.569 < clump_thickness < 4.454           0.638576            0.183734   \n",
      "2     4.454 < clump_thickness < 6.339           0.568323            0.221567   \n",
      "3             clump_thickness > 6.339           0.074992            0.590052   \n",
      "4             size_uniformity < 1.066           0.820435            0.020243   \n",
      "5     1.066 < size_uniformity < 3.100           0.369722            0.334375   \n",
      "6     3.100 < size_uniformity < 5.134           0.059759            0.662165   \n",
      "7             size_uniformity > 5.134           0.140512            0.534107   \n",
      "8            shape_uniformity < 1.176           0.777293            0.000000   \n",
      "9    1.176 < shape_uniformity < 3.136           0.446833            0.289614   \n",
      "10   3.136 < shape_uniformity < 5.096           0.000000            0.761812   \n",
      "11           shape_uniformity > 5.096           0.141602            0.545079   \n",
      "12          marginal_adhesion < 0.895           0.000000            0.000000   \n",
      "13  0.895 < marginal_adhesion < 2.774           0.454167            0.285542   \n",
      "14  2.774 < marginal_adhesion < 4.653           0.044594            0.752408   \n",
      "15          marginal_adhesion > 4.653           0.125762            0.563371   \n",
      "16            epithelial_size < 1.720           1.000000            0.000000   \n",
      "17    1.720 < epithelial_size < 3.176           0.506282            0.255241   \n",
      "18    3.176 < epithelial_size < 4.631           0.078527            0.703695   \n",
      "19            epithelial_size > 4.631           0.121856            0.536911   \n",
      "20              bare_nucleoli < 1.091           0.596322            0.201681   \n",
      "21      1.091 < bare_nucleoli < 3.536           0.466466            0.280107   \n",
      "22      3.536 < bare_nucleoli < 5.980           0.120782            0.603858   \n",
      "23              bare_nucleoli > 5.980           0.070856            0.607796   \n",
      "24            bland_chromatin < 1.781           0.646911            0.158676   \n",
      "25    1.781 < bland_chromatin < 3.456           0.507174            0.253037   \n",
      "26    3.456 < bland_chromatin < 5.131           0.058994            0.669096   \n",
      "27            bland_chromatin > 5.131           0.094190            0.600489   \n",
      "28            normal_nucleoli < 0.823           0.000000            0.000000   \n",
      "29    0.823 < normal_nucleoli < 2.925           0.482429            0.267345   \n",
      "30    2.925 < normal_nucleoli < 5.026           0.026899            0.707964   \n",
      "31            normal_nucleoli > 5.026           0.118375            0.570617   \n",
      "32                    mitoses < 0.411           0.000000            0.000000   \n",
      "33            0.411 < mitoses < 1.636           0.545979            0.235054   \n",
      "34            1.636 < mitoses < 2.861           0.077929            0.689892   \n",
      "35                    mitoses > 2.861           0.173302            0.413524   \n",
      "\n",
      "    uncertainty_kmeans  mass_first_random  mass_second_random  \\\n",
      "0             0.163140           0.373414            0.000000   \n",
      "1             0.177690           0.317813            0.000000   \n",
      "2             0.210110           0.148459            0.021009   \n",
      "3             0.334956           0.000000            0.405407   \n",
      "4             0.159322           0.230506            0.000000   \n",
      "5             0.295903           0.000000            0.250307   \n",
      "6             0.278076           0.000000            0.354007   \n",
      "7             0.325381           0.000000            0.344116   \n",
      "8             0.222707           0.378491            0.000000   \n",
      "9             0.263554           0.141265            0.040530   \n",
      "10            0.238188           0.000000            0.460068   \n",
      "11            0.313319           0.000000            0.333370   \n",
      "12            1.000000           0.002401            0.197599   \n",
      "13            0.260292           0.260787            0.000000   \n",
      "14            0.202998           0.042831            0.131501   \n",
      "15            0.310867           0.000000            0.274254   \n",
      "16            0.000000           0.415801            0.000000   \n",
      "17            0.238477           0.241531            0.000000   \n",
      "18            0.217778           0.000000            0.284780   \n",
      "19            0.341232           0.000000            0.321224   \n",
      "20            0.201997           0.316102            0.000000   \n",
      "21            0.253427           0.090181            0.089931   \n",
      "22            0.275359           0.067930            0.208330   \n",
      "23            0.321349           0.000000            0.414031   \n",
      "24            0.194413           0.372300            0.000000   \n",
      "25            0.239788           0.259042            0.000000   \n",
      "26            0.271911           0.000000            0.248121   \n",
      "27            0.305321           0.000000            0.374928   \n",
      "28            1.000000           0.045692            0.154308   \n",
      "29            0.250226           0.273314            0.000000   \n",
      "30            0.265137           0.000000            0.409550   \n",
      "31            0.311008           0.000000            0.306650   \n",
      "32            1.000000           0.190638            0.009362   \n",
      "33            0.218967           0.256615            0.007626   \n",
      "34            0.232179           0.004056            0.255605   \n",
      "35            0.413174           0.000000            0.284398   \n",
      "\n",
      "    uncertainty_random  \n",
      "0             0.626586  \n",
      "1             0.682187  \n",
      "2             0.830531  \n",
      "3             0.594593  \n",
      "4             0.769494  \n",
      "5             0.749693  \n",
      "6             0.645993  \n",
      "7             0.655884  \n",
      "8             0.621509  \n",
      "9             0.818205  \n",
      "10            0.539932  \n",
      "11            0.666630  \n",
      "12            0.800000  \n",
      "13            0.739213  \n",
      "14            0.825669  \n",
      "15            0.725746  \n",
      "16            0.584199  \n",
      "17            0.758469  \n",
      "18            0.715220  \n",
      "19            0.678776  \n",
      "20            0.683898  \n",
      "21            0.819888  \n",
      "22            0.723739  \n",
      "23            0.585969  \n",
      "24            0.627700  \n",
      "25            0.740958  \n",
      "26            0.751879  \n",
      "27            0.625072  \n",
      "28            0.800000  \n",
      "29            0.726686  \n",
      "30            0.590450  \n",
      "31            0.693350  \n",
      "32            0.800000  \n",
      "33            0.735759  \n",
      "34            0.740339  \n",
      "35            0.715602  \n",
      "Num rules 36\n"
     ]
    },
    {
     "data": {
      "application/vnd.plotly.v1+json": {
       "config": {
        "plotlyServerURL": "https://plot.ly"
       },
       "data": [
        {
         "alignmentgroup": "True",
         "hovertemplate": "variable=uncertainty_kmeans<br>rule=%{x}<br>value=%{y}<extra></extra>",
         "legendgroup": "uncertainty_kmeans",
         "marker": {
          "color": "#636efa",
          "pattern": {
           "shape": ""
          }
         },
         "name": "uncertainty_kmeans",
         "offsetgroup": "uncertainty_kmeans",
         "orientation": "v",
         "showlegend": true,
         "textposition": "auto",
         "type": "bar",
         "x": [
          "clump_thickness < 2.569",
          "2.569 < clump_thickness < 4.454",
          "4.454 < clump_thickness < 6.339",
          "clump_thickness > 6.339",
          "size_uniformity < 1.066",
          "1.066 < size_uniformity < 3.100",
          "3.100 < size_uniformity < 5.134",
          "size_uniformity > 5.134",
          "shape_uniformity < 1.176",
          "1.176 < shape_uniformity < 3.136",
          "3.136 < shape_uniformity < 5.096",
          "shape_uniformity > 5.096",
          "marginal_adhesion < 0.895",
          "0.895 < marginal_adhesion < 2.774",
          "2.774 < marginal_adhesion < 4.653",
          "marginal_adhesion > 4.653",
          "epithelial_size < 1.720",
          "1.720 < epithelial_size < 3.176",
          "3.176 < epithelial_size < 4.631",
          "epithelial_size > 4.631",
          "bare_nucleoli < 1.091",
          "1.091 < bare_nucleoli < 3.536",
          "3.536 < bare_nucleoli < 5.980",
          "bare_nucleoli > 5.980",
          "bland_chromatin < 1.781",
          "1.781 < bland_chromatin < 3.456",
          "3.456 < bland_chromatin < 5.131",
          "bland_chromatin > 5.131",
          "normal_nucleoli < 0.823",
          "0.823 < normal_nucleoli < 2.925",
          "2.925 < normal_nucleoli < 5.026",
          "normal_nucleoli > 5.026",
          "mitoses < 0.411",
          "0.411 < mitoses < 1.636",
          "1.636 < mitoses < 2.861",
          "mitoses > 2.861"
         ],
         "xaxis": "x",
         "y": [
          0.16313962638378143,
          0.1776900589466095,
          0.21011047065258026,
          0.33495599031448364,
          0.15932157635688782,
          0.2959030568599701,
          0.2780761122703552,
          0.3253810703754425,
          0.22270704805850983,
          0.2635535001754761,
          0.23818840086460114,
          0.31331875920295715,
          1,
          0.2602916955947876,
          0.20299769937992096,
          0.31086742877960205,
          0,
          0.2384771853685379,
          0.21777768433094025,
          0.34123218059539795,
          0.20199662446975708,
          0.25342684984207153,
          0.2753593921661377,
          0.3213486969470978,
          0.1944131851196289,
          0.23978838324546814,
          0.27191096544265747,
          0.3053210973739624,
          1,
          0.2502259612083435,
          0.2651367485523224,
          0.3110082149505615,
          1,
          0.21896710991859436,
          0.23217910528182983,
          0.41317445039749146
         ],
         "yaxis": "y"
        },
        {
         "alignmentgroup": "True",
         "hovertemplate": "variable=uncertainty_random<br>rule=%{x}<br>value=%{y}<extra></extra>",
         "legendgroup": "uncertainty_random",
         "marker": {
          "color": "#EF553B",
          "pattern": {
           "shape": ""
          }
         },
         "name": "uncertainty_random",
         "offsetgroup": "uncertainty_random",
         "orientation": "v",
         "showlegend": true,
         "textposition": "auto",
         "type": "bar",
         "x": [
          "clump_thickness < 2.569",
          "2.569 < clump_thickness < 4.454",
          "4.454 < clump_thickness < 6.339",
          "clump_thickness > 6.339",
          "size_uniformity < 1.066",
          "1.066 < size_uniformity < 3.100",
          "3.100 < size_uniformity < 5.134",
          "size_uniformity > 5.134",
          "shape_uniformity < 1.176",
          "1.176 < shape_uniformity < 3.136",
          "3.136 < shape_uniformity < 5.096",
          "shape_uniformity > 5.096",
          "marginal_adhesion < 0.895",
          "0.895 < marginal_adhesion < 2.774",
          "2.774 < marginal_adhesion < 4.653",
          "marginal_adhesion > 4.653",
          "epithelial_size < 1.720",
          "1.720 < epithelial_size < 3.176",
          "3.176 < epithelial_size < 4.631",
          "epithelial_size > 4.631",
          "bare_nucleoli < 1.091",
          "1.091 < bare_nucleoli < 3.536",
          "3.536 < bare_nucleoli < 5.980",
          "bare_nucleoli > 5.980",
          "bland_chromatin < 1.781",
          "1.781 < bland_chromatin < 3.456",
          "3.456 < bland_chromatin < 5.131",
          "bland_chromatin > 5.131",
          "normal_nucleoli < 0.823",
          "0.823 < normal_nucleoli < 2.925",
          "2.925 < normal_nucleoli < 5.026",
          "normal_nucleoli > 5.026",
          "mitoses < 0.411",
          "0.411 < mitoses < 1.636",
          "1.636 < mitoses < 2.861",
          "mitoses > 2.861"
         ],
         "xaxis": "x",
         "y": [
          0.6265857815742493,
          0.6821873188018799,
          0.8305312991142273,
          0.5945926308631897,
          0.7694937586784363,
          0.7496932744979858,
          0.6459926962852478,
          0.6558837294578552,
          0.6215086579322815,
          0.8182047009468079,
          0.5399317145347595,
          0.6666303873062134,
          0.800000011920929,
          0.7392128109931946,
          0.8256686925888062,
          0.7257463335990906,
          0.5841994285583496,
          0.7584685683250427,
          0.7152197957038879,
          0.6787756085395813,
          0.683898389339447,
          0.8198876976966858,
          0.7237390875816345,
          0.5859693288803101,
          0.6276995539665222,
          0.7409576177597046,
          0.7518790364265442,
          0.6250722408294678,
          0.800000011920929,
          0.7266857624053955,
          0.5904500484466553,
          0.6933502554893494,
          0.800000011920929,
          0.7357589602470398,
          0.7403392791748047,
          0.7156018614768982
         ],
         "yaxis": "y"
        }
       ],
       "layout": {
        "barmode": "group",
        "legend": {
         "title": {
          "text": "variable"
         },
         "tracegroupgap": 0
        },
        "template": {
         "data": {
          "bar": [
           {
            "error_x": {
             "color": "#2a3f5f"
            },
            "error_y": {
             "color": "#2a3f5f"
            },
            "marker": {
             "line": {
              "color": "#E5ECF6",
              "width": 0.5
             },
             "pattern": {
              "fillmode": "overlay",
              "size": 10,
              "solidity": 0.2
             }
            },
            "type": "bar"
           }
          ],
          "barpolar": [
           {
            "marker": {
             "line": {
              "color": "#E5ECF6",
              "width": 0.5
             },
             "pattern": {
              "fillmode": "overlay",
              "size": 10,
              "solidity": 0.2
             }
            },
            "type": "barpolar"
           }
          ],
          "carpet": [
           {
            "aaxis": {
             "endlinecolor": "#2a3f5f",
             "gridcolor": "white",
             "linecolor": "white",
             "minorgridcolor": "white",
             "startlinecolor": "#2a3f5f"
            },
            "baxis": {
             "endlinecolor": "#2a3f5f",
             "gridcolor": "white",
             "linecolor": "white",
             "minorgridcolor": "white",
             "startlinecolor": "#2a3f5f"
            },
            "type": "carpet"
           }
          ],
          "choropleth": [
           {
            "colorbar": {
             "outlinewidth": 0,
             "ticks": ""
            },
            "type": "choropleth"
           }
          ],
          "contour": [
           {
            "colorbar": {
             "outlinewidth": 0,
             "ticks": ""
            },
            "colorscale": [
             [
              0,
              "#0d0887"
             ],
             [
              0.1111111111111111,
              "#46039f"
             ],
             [
              0.2222222222222222,
              "#7201a8"
             ],
             [
              0.3333333333333333,
              "#9c179e"
             ],
             [
              0.4444444444444444,
              "#bd3786"
             ],
             [
              0.5555555555555556,
              "#d8576b"
             ],
             [
              0.6666666666666666,
              "#ed7953"
             ],
             [
              0.7777777777777778,
              "#fb9f3a"
             ],
             [
              0.8888888888888888,
              "#fdca26"
             ],
             [
              1,
              "#f0f921"
             ]
            ],
            "type": "contour"
           }
          ],
          "contourcarpet": [
           {
            "colorbar": {
             "outlinewidth": 0,
             "ticks": ""
            },
            "type": "contourcarpet"
           }
          ],
          "heatmap": [
           {
            "colorbar": {
             "outlinewidth": 0,
             "ticks": ""
            },
            "colorscale": [
             [
              0,
              "#0d0887"
             ],
             [
              0.1111111111111111,
              "#46039f"
             ],
             [
              0.2222222222222222,
              "#7201a8"
             ],
             [
              0.3333333333333333,
              "#9c179e"
             ],
             [
              0.4444444444444444,
              "#bd3786"
             ],
             [
              0.5555555555555556,
              "#d8576b"
             ],
             [
              0.6666666666666666,
              "#ed7953"
             ],
             [
              0.7777777777777778,
              "#fb9f3a"
             ],
             [
              0.8888888888888888,
              "#fdca26"
             ],
             [
              1,
              "#f0f921"
             ]
            ],
            "type": "heatmap"
           }
          ],
          "heatmapgl": [
           {
            "colorbar": {
             "outlinewidth": 0,
             "ticks": ""
            },
            "colorscale": [
             [
              0,
              "#0d0887"
             ],
             [
              0.1111111111111111,
              "#46039f"
             ],
             [
              0.2222222222222222,
              "#7201a8"
             ],
             [
              0.3333333333333333,
              "#9c179e"
             ],
             [
              0.4444444444444444,
              "#bd3786"
             ],
             [
              0.5555555555555556,
              "#d8576b"
             ],
             [
              0.6666666666666666,
              "#ed7953"
             ],
             [
              0.7777777777777778,
              "#fb9f3a"
             ],
             [
              0.8888888888888888,
              "#fdca26"
             ],
             [
              1,
              "#f0f921"
             ]
            ],
            "type": "heatmapgl"
           }
          ],
          "histogram": [
           {
            "marker": {
             "pattern": {
              "fillmode": "overlay",
              "size": 10,
              "solidity": 0.2
             }
            },
            "type": "histogram"
           }
          ],
          "histogram2d": [
           {
            "colorbar": {
             "outlinewidth": 0,
             "ticks": ""
            },
            "colorscale": [
             [
              0,
              "#0d0887"
             ],
             [
              0.1111111111111111,
              "#46039f"
             ],
             [
              0.2222222222222222,
              "#7201a8"
             ],
             [
              0.3333333333333333,
              "#9c179e"
             ],
             [
              0.4444444444444444,
              "#bd3786"
             ],
             [
              0.5555555555555556,
              "#d8576b"
             ],
             [
              0.6666666666666666,
              "#ed7953"
             ],
             [
              0.7777777777777778,
              "#fb9f3a"
             ],
             [
              0.8888888888888888,
              "#fdca26"
             ],
             [
              1,
              "#f0f921"
             ]
            ],
            "type": "histogram2d"
           }
          ],
          "histogram2dcontour": [
           {
            "colorbar": {
             "outlinewidth": 0,
             "ticks": ""
            },
            "colorscale": [
             [
              0,
              "#0d0887"
             ],
             [
              0.1111111111111111,
              "#46039f"
             ],
             [
              0.2222222222222222,
              "#7201a8"
             ],
             [
              0.3333333333333333,
              "#9c179e"
             ],
             [
              0.4444444444444444,
              "#bd3786"
             ],
             [
              0.5555555555555556,
              "#d8576b"
             ],
             [
              0.6666666666666666,
              "#ed7953"
             ],
             [
              0.7777777777777778,
              "#fb9f3a"
             ],
             [
              0.8888888888888888,
              "#fdca26"
             ],
             [
              1,
              "#f0f921"
             ]
            ],
            "type": "histogram2dcontour"
           }
          ],
          "mesh3d": [
           {
            "colorbar": {
             "outlinewidth": 0,
             "ticks": ""
            },
            "type": "mesh3d"
           }
          ],
          "parcoords": [
           {
            "line": {
             "colorbar": {
              "outlinewidth": 0,
              "ticks": ""
             }
            },
            "type": "parcoords"
           }
          ],
          "pie": [
           {
            "automargin": true,
            "type": "pie"
           }
          ],
          "scatter": [
           {
            "fillpattern": {
             "fillmode": "overlay",
             "size": 10,
             "solidity": 0.2
            },
            "type": "scatter"
           }
          ],
          "scatter3d": [
           {
            "line": {
             "colorbar": {
              "outlinewidth": 0,
              "ticks": ""
             }
            },
            "marker": {
             "colorbar": {
              "outlinewidth": 0,
              "ticks": ""
             }
            },
            "type": "scatter3d"
           }
          ],
          "scattercarpet": [
           {
            "marker": {
             "colorbar": {
              "outlinewidth": 0,
              "ticks": ""
             }
            },
            "type": "scattercarpet"
           }
          ],
          "scattergeo": [
           {
            "marker": {
             "colorbar": {
              "outlinewidth": 0,
              "ticks": ""
             }
            },
            "type": "scattergeo"
           }
          ],
          "scattergl": [
           {
            "marker": {
             "colorbar": {
              "outlinewidth": 0,
              "ticks": ""
             }
            },
            "type": "scattergl"
           }
          ],
          "scattermapbox": [
           {
            "marker": {
             "colorbar": {
              "outlinewidth": 0,
              "ticks": ""
             }
            },
            "type": "scattermapbox"
           }
          ],
          "scatterpolar": [
           {
            "marker": {
             "colorbar": {
              "outlinewidth": 0,
              "ticks": ""
             }
            },
            "type": "scatterpolar"
           }
          ],
          "scatterpolargl": [
           {
            "marker": {
             "colorbar": {
              "outlinewidth": 0,
              "ticks": ""
             }
            },
            "type": "scatterpolargl"
           }
          ],
          "scatterternary": [
           {
            "marker": {
             "colorbar": {
              "outlinewidth": 0,
              "ticks": ""
             }
            },
            "type": "scatterternary"
           }
          ],
          "surface": [
           {
            "colorbar": {
             "outlinewidth": 0,
             "ticks": ""
            },
            "colorscale": [
             [
              0,
              "#0d0887"
             ],
             [
              0.1111111111111111,
              "#46039f"
             ],
             [
              0.2222222222222222,
              "#7201a8"
             ],
             [
              0.3333333333333333,
              "#9c179e"
             ],
             [
              0.4444444444444444,
              "#bd3786"
             ],
             [
              0.5555555555555556,
              "#d8576b"
             ],
             [
              0.6666666666666666,
              "#ed7953"
             ],
             [
              0.7777777777777778,
              "#fb9f3a"
             ],
             [
              0.8888888888888888,
              "#fdca26"
             ],
             [
              1,
              "#f0f921"
             ]
            ],
            "type": "surface"
           }
          ],
          "table": [
           {
            "cells": {
             "fill": {
              "color": "#EBF0F8"
             },
             "line": {
              "color": "white"
             }
            },
            "header": {
             "fill": {
              "color": "#C8D4E3"
             },
             "line": {
              "color": "white"
             }
            },
            "type": "table"
           }
          ]
         },
         "layout": {
          "annotationdefaults": {
           "arrowcolor": "#2a3f5f",
           "arrowhead": 0,
           "arrowwidth": 1
          },
          "autotypenumbers": "strict",
          "coloraxis": {
           "colorbar": {
            "outlinewidth": 0,
            "ticks": ""
           }
          },
          "colorscale": {
           "diverging": [
            [
             0,
             "#8e0152"
            ],
            [
             0.1,
             "#c51b7d"
            ],
            [
             0.2,
             "#de77ae"
            ],
            [
             0.3,
             "#f1b6da"
            ],
            [
             0.4,
             "#fde0ef"
            ],
            [
             0.5,
             "#f7f7f7"
            ],
            [
             0.6,
             "#e6f5d0"
            ],
            [
             0.7,
             "#b8e186"
            ],
            [
             0.8,
             "#7fbc41"
            ],
            [
             0.9,
             "#4d9221"
            ],
            [
             1,
             "#276419"
            ]
           ],
           "sequential": [
            [
             0,
             "#0d0887"
            ],
            [
             0.1111111111111111,
             "#46039f"
            ],
            [
             0.2222222222222222,
             "#7201a8"
            ],
            [
             0.3333333333333333,
             "#9c179e"
            ],
            [
             0.4444444444444444,
             "#bd3786"
            ],
            [
             0.5555555555555556,
             "#d8576b"
            ],
            [
             0.6666666666666666,
             "#ed7953"
            ],
            [
             0.7777777777777778,
             "#fb9f3a"
            ],
            [
             0.8888888888888888,
             "#fdca26"
            ],
            [
             1,
             "#f0f921"
            ]
           ],
           "sequentialminus": [
            [
             0,
             "#0d0887"
            ],
            [
             0.1111111111111111,
             "#46039f"
            ],
            [
             0.2222222222222222,
             "#7201a8"
            ],
            [
             0.3333333333333333,
             "#9c179e"
            ],
            [
             0.4444444444444444,
             "#bd3786"
            ],
            [
             0.5555555555555556,
             "#d8576b"
            ],
            [
             0.6666666666666666,
             "#ed7953"
            ],
            [
             0.7777777777777778,
             "#fb9f3a"
            ],
            [
             0.8888888888888888,
             "#fdca26"
            ],
            [
             1,
             "#f0f921"
            ]
           ]
          },
          "colorway": [
           "#636efa",
           "#EF553B",
           "#00cc96",
           "#ab63fa",
           "#FFA15A",
           "#19d3f3",
           "#FF6692",
           "#B6E880",
           "#FF97FF",
           "#FECB52"
          ],
          "font": {
           "color": "#2a3f5f"
          },
          "geo": {
           "bgcolor": "white",
           "lakecolor": "white",
           "landcolor": "#E5ECF6",
           "showlakes": true,
           "showland": true,
           "subunitcolor": "white"
          },
          "hoverlabel": {
           "align": "left"
          },
          "hovermode": "closest",
          "mapbox": {
           "style": "light"
          },
          "paper_bgcolor": "white",
          "plot_bgcolor": "#E5ECF6",
          "polar": {
           "angularaxis": {
            "gridcolor": "white",
            "linecolor": "white",
            "ticks": ""
           },
           "bgcolor": "#E5ECF6",
           "radialaxis": {
            "gridcolor": "white",
            "linecolor": "white",
            "ticks": ""
           }
          },
          "scene": {
           "xaxis": {
            "backgroundcolor": "#E5ECF6",
            "gridcolor": "white",
            "gridwidth": 2,
            "linecolor": "white",
            "showbackground": true,
            "ticks": "",
            "zerolinecolor": "white"
           },
           "yaxis": {
            "backgroundcolor": "#E5ECF6",
            "gridcolor": "white",
            "gridwidth": 2,
            "linecolor": "white",
            "showbackground": true,
            "ticks": "",
            "zerolinecolor": "white"
           },
           "zaxis": {
            "backgroundcolor": "#E5ECF6",
            "gridcolor": "white",
            "gridwidth": 2,
            "linecolor": "white",
            "showbackground": true,
            "ticks": "",
            "zerolinecolor": "white"
           }
          },
          "shapedefaults": {
           "line": {
            "color": "#2a3f5f"
           }
          },
          "ternary": {
           "aaxis": {
            "gridcolor": "white",
            "linecolor": "white",
            "ticks": ""
           },
           "baxis": {
            "gridcolor": "white",
            "linecolor": "white",
            "ticks": ""
           },
           "bgcolor": "#E5ECF6",
           "caxis": {
            "gridcolor": "white",
            "linecolor": "white",
            "ticks": ""
           }
          },
          "title": {
           "x": 0.05
          },
          "xaxis": {
           "automargin": true,
           "gridcolor": "white",
           "linecolor": "white",
           "ticks": "",
           "title": {
            "standoff": 15
           },
           "zerolinecolor": "white",
           "zerolinewidth": 2
          },
          "yaxis": {
           "automargin": true,
           "gridcolor": "white",
           "linecolor": "white",
           "ticks": "",
           "title": {
            "standoff": 15
           },
           "zerolinecolor": "white",
           "zerolinewidth": 2
          }
         }
        },
        "title": {
         "text": "Uncertainty comparison between kmeans and random"
        },
        "xaxis": {
         "anchor": "y",
         "domain": [
          0,
          1
         ],
         "title": {
          "text": "rule"
         }
        },
        "yaxis": {
         "anchor": "x",
         "domain": [
          0,
          1
         ],
         "title": {
          "text": "value"
         }
        }
       }
      }
     },
     "metadata": {},
     "output_type": "display_data"
    }
   ],
   "source": [
    "\n",
    "\n",
    "dfs = {}\n",
    "\n",
    "for r1, r2 in [pairs_new[1]]:\n",
    "    print(r1, r2, sep=\"\\n\")\n",
    "    r1_info = pickle.load(open(os.path.join(RULE_FOLDER, r1), \"rb\"))\n",
    "    r2_info = pickle.load(open(os.path.join(RULE_FOLDER, r2), \"rb\"))\n",
    "    \n",
    "    r1_df = pd.DataFrame(extract_res(r1_info))\n",
    "    r2_df = pd.DataFrame(extract_res(r2_info))\n",
    "    \n",
    "    \n",
    "    merged = pd.merge(r1_df, r2_df, on=\"rule\", suffixes=('_kmeans', '_random'))\n",
    "    # merged.to_csv(f\"rules_{r1}_{r2}.csv\", index=False)\n",
    "    print(merged)\n",
    "    print(f\"Num rules {len(merged)}\")\n",
    "    fig = px.bar(merged, x='rule', y=['uncertainty_kmeans', 'uncertainty_random'], \n",
    "        title='Uncertainty comparison between kmeans and random', # put bars next to each other\n",
    "        barmode='group')\n",
    "    # fig.write_html(f\"{r1}_{r2}.html\")\n",
    "    dfs[r1] = merged \n",
    "    fig.show()"
   ]
  },
  {
   "cell_type": "code",
   "execution_count": 55,
   "metadata": {},
   "outputs": [
    {
     "data": {
      "application/vnd.plotly.v1+json": {
       "config": {
        "plotlyServerURL": "https://plot.ly"
       },
       "data": [
        {
         "customdata": [
          [
           "clump_thickness > 6.339"
          ],
          [
           "normal_nucleoli > 5.026"
          ],
          [
           "3.176 < epithelial_size < 4.631"
          ],
          [
           "size_uniformity > 5.134"
          ],
          [
           "marginal_adhesion > 4.653"
          ],
          [
           "1.636 < mitoses < 2.861"
          ],
          [
           "3.176 < epithelial_size < 4.631"
          ]
         ],
         "hovertemplate": "uncertainty_kmeans=%{x}<br>ratio=%{y}<br>rule=%{customdata[0]}<extra></extra>",
         "legendgroup": "",
         "marker": {
          "color": "#636efa",
          "symbol": "circle"
         },
         "mode": "markers",
         "name": "",
         "orientation": "v",
         "showlegend": false,
         "type": "scatter",
         "x": [
          0.33495599031448364,
          0.3110082149505615,
          0.21777768433094025,
          0.3253810703754425,
          0.31086742877960205,
          0.23217910528182983,
          0.21777768433094025
         ],
         "xaxis": "x",
         "y": [
          7.868187526831126,
          4.820405369997192,
          8.96117264439501,
          3.801164210032907,
          4.479663875702259,
          8.852853001001488,
          8.96117264439501
         ],
         "yaxis": "y"
        }
       ],
       "layout": {
        "legend": {
         "tracegroupgap": 0
        },
        "margin": {
         "t": 60
        },
        "template": {
         "data": {
          "bar": [
           {
            "error_x": {
             "color": "#2a3f5f"
            },
            "error_y": {
             "color": "#2a3f5f"
            },
            "marker": {
             "line": {
              "color": "#E5ECF6",
              "width": 0.5
             },
             "pattern": {
              "fillmode": "overlay",
              "size": 10,
              "solidity": 0.2
             }
            },
            "type": "bar"
           }
          ],
          "barpolar": [
           {
            "marker": {
             "line": {
              "color": "#E5ECF6",
              "width": 0.5
             },
             "pattern": {
              "fillmode": "overlay",
              "size": 10,
              "solidity": 0.2
             }
            },
            "type": "barpolar"
           }
          ],
          "carpet": [
           {
            "aaxis": {
             "endlinecolor": "#2a3f5f",
             "gridcolor": "white",
             "linecolor": "white",
             "minorgridcolor": "white",
             "startlinecolor": "#2a3f5f"
            },
            "baxis": {
             "endlinecolor": "#2a3f5f",
             "gridcolor": "white",
             "linecolor": "white",
             "minorgridcolor": "white",
             "startlinecolor": "#2a3f5f"
            },
            "type": "carpet"
           }
          ],
          "choropleth": [
           {
            "colorbar": {
             "outlinewidth": 0,
             "ticks": ""
            },
            "type": "choropleth"
           }
          ],
          "contour": [
           {
            "colorbar": {
             "outlinewidth": 0,
             "ticks": ""
            },
            "colorscale": [
             [
              0,
              "#0d0887"
             ],
             [
              0.1111111111111111,
              "#46039f"
             ],
             [
              0.2222222222222222,
              "#7201a8"
             ],
             [
              0.3333333333333333,
              "#9c179e"
             ],
             [
              0.4444444444444444,
              "#bd3786"
             ],
             [
              0.5555555555555556,
              "#d8576b"
             ],
             [
              0.6666666666666666,
              "#ed7953"
             ],
             [
              0.7777777777777778,
              "#fb9f3a"
             ],
             [
              0.8888888888888888,
              "#fdca26"
             ],
             [
              1,
              "#f0f921"
             ]
            ],
            "type": "contour"
           }
          ],
          "contourcarpet": [
           {
            "colorbar": {
             "outlinewidth": 0,
             "ticks": ""
            },
            "type": "contourcarpet"
           }
          ],
          "heatmap": [
           {
            "colorbar": {
             "outlinewidth": 0,
             "ticks": ""
            },
            "colorscale": [
             [
              0,
              "#0d0887"
             ],
             [
              0.1111111111111111,
              "#46039f"
             ],
             [
              0.2222222222222222,
              "#7201a8"
             ],
             [
              0.3333333333333333,
              "#9c179e"
             ],
             [
              0.4444444444444444,
              "#bd3786"
             ],
             [
              0.5555555555555556,
              "#d8576b"
             ],
             [
              0.6666666666666666,
              "#ed7953"
             ],
             [
              0.7777777777777778,
              "#fb9f3a"
             ],
             [
              0.8888888888888888,
              "#fdca26"
             ],
             [
              1,
              "#f0f921"
             ]
            ],
            "type": "heatmap"
           }
          ],
          "heatmapgl": [
           {
            "colorbar": {
             "outlinewidth": 0,
             "ticks": ""
            },
            "colorscale": [
             [
              0,
              "#0d0887"
             ],
             [
              0.1111111111111111,
              "#46039f"
             ],
             [
              0.2222222222222222,
              "#7201a8"
             ],
             [
              0.3333333333333333,
              "#9c179e"
             ],
             [
              0.4444444444444444,
              "#bd3786"
             ],
             [
              0.5555555555555556,
              "#d8576b"
             ],
             [
              0.6666666666666666,
              "#ed7953"
             ],
             [
              0.7777777777777778,
              "#fb9f3a"
             ],
             [
              0.8888888888888888,
              "#fdca26"
             ],
             [
              1,
              "#f0f921"
             ]
            ],
            "type": "heatmapgl"
           }
          ],
          "histogram": [
           {
            "marker": {
             "pattern": {
              "fillmode": "overlay",
              "size": 10,
              "solidity": 0.2
             }
            },
            "type": "histogram"
           }
          ],
          "histogram2d": [
           {
            "colorbar": {
             "outlinewidth": 0,
             "ticks": ""
            },
            "colorscale": [
             [
              0,
              "#0d0887"
             ],
             [
              0.1111111111111111,
              "#46039f"
             ],
             [
              0.2222222222222222,
              "#7201a8"
             ],
             [
              0.3333333333333333,
              "#9c179e"
             ],
             [
              0.4444444444444444,
              "#bd3786"
             ],
             [
              0.5555555555555556,
              "#d8576b"
             ],
             [
              0.6666666666666666,
              "#ed7953"
             ],
             [
              0.7777777777777778,
              "#fb9f3a"
             ],
             [
              0.8888888888888888,
              "#fdca26"
             ],
             [
              1,
              "#f0f921"
             ]
            ],
            "type": "histogram2d"
           }
          ],
          "histogram2dcontour": [
           {
            "colorbar": {
             "outlinewidth": 0,
             "ticks": ""
            },
            "colorscale": [
             [
              0,
              "#0d0887"
             ],
             [
              0.1111111111111111,
              "#46039f"
             ],
             [
              0.2222222222222222,
              "#7201a8"
             ],
             [
              0.3333333333333333,
              "#9c179e"
             ],
             [
              0.4444444444444444,
              "#bd3786"
             ],
             [
              0.5555555555555556,
              "#d8576b"
             ],
             [
              0.6666666666666666,
              "#ed7953"
             ],
             [
              0.7777777777777778,
              "#fb9f3a"
             ],
             [
              0.8888888888888888,
              "#fdca26"
             ],
             [
              1,
              "#f0f921"
             ]
            ],
            "type": "histogram2dcontour"
           }
          ],
          "mesh3d": [
           {
            "colorbar": {
             "outlinewidth": 0,
             "ticks": ""
            },
            "type": "mesh3d"
           }
          ],
          "parcoords": [
           {
            "line": {
             "colorbar": {
              "outlinewidth": 0,
              "ticks": ""
             }
            },
            "type": "parcoords"
           }
          ],
          "pie": [
           {
            "automargin": true,
            "type": "pie"
           }
          ],
          "scatter": [
           {
            "fillpattern": {
             "fillmode": "overlay",
             "size": 10,
             "solidity": 0.2
            },
            "type": "scatter"
           }
          ],
          "scatter3d": [
           {
            "line": {
             "colorbar": {
              "outlinewidth": 0,
              "ticks": ""
             }
            },
            "marker": {
             "colorbar": {
              "outlinewidth": 0,
              "ticks": ""
             }
            },
            "type": "scatter3d"
           }
          ],
          "scattercarpet": [
           {
            "marker": {
             "colorbar": {
              "outlinewidth": 0,
              "ticks": ""
             }
            },
            "type": "scattercarpet"
           }
          ],
          "scattergeo": [
           {
            "marker": {
             "colorbar": {
              "outlinewidth": 0,
              "ticks": ""
             }
            },
            "type": "scattergeo"
           }
          ],
          "scattergl": [
           {
            "marker": {
             "colorbar": {
              "outlinewidth": 0,
              "ticks": ""
             }
            },
            "type": "scattergl"
           }
          ],
          "scattermapbox": [
           {
            "marker": {
             "colorbar": {
              "outlinewidth": 0,
              "ticks": ""
             }
            },
            "type": "scattermapbox"
           }
          ],
          "scatterpolar": [
           {
            "marker": {
             "colorbar": {
              "outlinewidth": 0,
              "ticks": ""
             }
            },
            "type": "scatterpolar"
           }
          ],
          "scatterpolargl": [
           {
            "marker": {
             "colorbar": {
              "outlinewidth": 0,
              "ticks": ""
             }
            },
            "type": "scatterpolargl"
           }
          ],
          "scatterternary": [
           {
            "marker": {
             "colorbar": {
              "outlinewidth": 0,
              "ticks": ""
             }
            },
            "type": "scatterternary"
           }
          ],
          "surface": [
           {
            "colorbar": {
             "outlinewidth": 0,
             "ticks": ""
            },
            "colorscale": [
             [
              0,
              "#0d0887"
             ],
             [
              0.1111111111111111,
              "#46039f"
             ],
             [
              0.2222222222222222,
              "#7201a8"
             ],
             [
              0.3333333333333333,
              "#9c179e"
             ],
             [
              0.4444444444444444,
              "#bd3786"
             ],
             [
              0.5555555555555556,
              "#d8576b"
             ],
             [
              0.6666666666666666,
              "#ed7953"
             ],
             [
              0.7777777777777778,
              "#fb9f3a"
             ],
             [
              0.8888888888888888,
              "#fdca26"
             ],
             [
              1,
              "#f0f921"
             ]
            ],
            "type": "surface"
           }
          ],
          "table": [
           {
            "cells": {
             "fill": {
              "color": "#EBF0F8"
             },
             "line": {
              "color": "white"
             }
            },
            "header": {
             "fill": {
              "color": "#C8D4E3"
             },
             "line": {
              "color": "white"
             }
            },
            "type": "table"
           }
          ]
         },
         "layout": {
          "annotationdefaults": {
           "arrowcolor": "#2a3f5f",
           "arrowhead": 0,
           "arrowwidth": 1
          },
          "autotypenumbers": "strict",
          "coloraxis": {
           "colorbar": {
            "outlinewidth": 0,
            "ticks": ""
           }
          },
          "colorscale": {
           "diverging": [
            [
             0,
             "#8e0152"
            ],
            [
             0.1,
             "#c51b7d"
            ],
            [
             0.2,
             "#de77ae"
            ],
            [
             0.3,
             "#f1b6da"
            ],
            [
             0.4,
             "#fde0ef"
            ],
            [
             0.5,
             "#f7f7f7"
            ],
            [
             0.6,
             "#e6f5d0"
            ],
            [
             0.7,
             "#b8e186"
            ],
            [
             0.8,
             "#7fbc41"
            ],
            [
             0.9,
             "#4d9221"
            ],
            [
             1,
             "#276419"
            ]
           ],
           "sequential": [
            [
             0,
             "#0d0887"
            ],
            [
             0.1111111111111111,
             "#46039f"
            ],
            [
             0.2222222222222222,
             "#7201a8"
            ],
            [
             0.3333333333333333,
             "#9c179e"
            ],
            [
             0.4444444444444444,
             "#bd3786"
            ],
            [
             0.5555555555555556,
             "#d8576b"
            ],
            [
             0.6666666666666666,
             "#ed7953"
            ],
            [
             0.7777777777777778,
             "#fb9f3a"
            ],
            [
             0.8888888888888888,
             "#fdca26"
            ],
            [
             1,
             "#f0f921"
            ]
           ],
           "sequentialminus": [
            [
             0,
             "#0d0887"
            ],
            [
             0.1111111111111111,
             "#46039f"
            ],
            [
             0.2222222222222222,
             "#7201a8"
            ],
            [
             0.3333333333333333,
             "#9c179e"
            ],
            [
             0.4444444444444444,
             "#bd3786"
            ],
            [
             0.5555555555555556,
             "#d8576b"
            ],
            [
             0.6666666666666666,
             "#ed7953"
            ],
            [
             0.7777777777777778,
             "#fb9f3a"
            ],
            [
             0.8888888888888888,
             "#fdca26"
            ],
            [
             1,
             "#f0f921"
            ]
           ]
          },
          "colorway": [
           "#636efa",
           "#EF553B",
           "#00cc96",
           "#ab63fa",
           "#FFA15A",
           "#19d3f3",
           "#FF6692",
           "#B6E880",
           "#FF97FF",
           "#FECB52"
          ],
          "font": {
           "color": "#2a3f5f"
          },
          "geo": {
           "bgcolor": "white",
           "lakecolor": "white",
           "landcolor": "#E5ECF6",
           "showlakes": true,
           "showland": true,
           "subunitcolor": "white"
          },
          "hoverlabel": {
           "align": "left"
          },
          "hovermode": "closest",
          "mapbox": {
           "style": "light"
          },
          "paper_bgcolor": "white",
          "plot_bgcolor": "#E5ECF6",
          "polar": {
           "angularaxis": {
            "gridcolor": "white",
            "linecolor": "white",
            "ticks": ""
           },
           "bgcolor": "#E5ECF6",
           "radialaxis": {
            "gridcolor": "white",
            "linecolor": "white",
            "ticks": ""
           }
          },
          "scene": {
           "xaxis": {
            "backgroundcolor": "#E5ECF6",
            "gridcolor": "white",
            "gridwidth": 2,
            "linecolor": "white",
            "showbackground": true,
            "ticks": "",
            "zerolinecolor": "white"
           },
           "yaxis": {
            "backgroundcolor": "#E5ECF6",
            "gridcolor": "white",
            "gridwidth": 2,
            "linecolor": "white",
            "showbackground": true,
            "ticks": "",
            "zerolinecolor": "white"
           },
           "zaxis": {
            "backgroundcolor": "#E5ECF6",
            "gridcolor": "white",
            "gridwidth": 2,
            "linecolor": "white",
            "showbackground": true,
            "ticks": "",
            "zerolinecolor": "white"
           }
          },
          "shapedefaults": {
           "line": {
            "color": "#2a3f5f"
           }
          },
          "ternary": {
           "aaxis": {
            "gridcolor": "white",
            "linecolor": "white",
            "ticks": ""
           },
           "baxis": {
            "gridcolor": "white",
            "linecolor": "white",
            "ticks": ""
           },
           "bgcolor": "#E5ECF6",
           "caxis": {
            "gridcolor": "white",
            "linecolor": "white",
            "ticks": ""
           }
          },
          "title": {
           "x": 0.05
          },
          "xaxis": {
           "automargin": true,
           "gridcolor": "white",
           "linecolor": "white",
           "ticks": "",
           "title": {
            "standoff": 15
           },
           "zerolinecolor": "white",
           "zerolinewidth": 2
          },
          "yaxis": {
           "automargin": true,
           "gridcolor": "white",
           "linecolor": "white",
           "ticks": "",
           "title": {
            "standoff": 15
           },
           "zerolinecolor": "white",
           "zerolinewidth": 2
          }
         }
        },
        "xaxis": {
         "anchor": "y",
         "domain": [
          0,
          1
         ],
         "title": {
          "text": "uncertainty_kmeans"
         }
        },
        "yaxis": {
         "anchor": "x",
         "domain": [
          0,
          1
         ],
         "title": {
          "text": "ratio"
         }
        }
       }
      }
     },
     "metadata": {},
     "output_type": "display_data"
    }
   ],
   "source": [
    "inds = [3, 31, 18, 7, 15, 34, 18]\n",
    "merged[\"ratio\"] = merged[\"mass_second_kmeans\"] / merged[\"mass_first_kmeans\"]\n",
    "m = merged.sort_values(by=\"uncertainty_kmeans\", ascending=True)\n",
    "px.scatter(m.loc[inds], x=\"uncertainty_kmeans\", y=\"ratio\", hover_data=[\"rule\"])"
   ]
  },
  {
   "cell_type": "code",
   "execution_count": 60,
   "metadata": {},
   "outputs": [
    {
     "data": {
      "text/html": [
       "<div>\n",
       "<style scoped>\n",
       "    .dataframe tbody tr th:only-of-type {\n",
       "        vertical-align: middle;\n",
       "    }\n",
       "\n",
       "    .dataframe tbody tr th {\n",
       "        vertical-align: top;\n",
       "    }\n",
       "\n",
       "    .dataframe thead th {\n",
       "        text-align: right;\n",
       "    }\n",
       "</style>\n",
       "<table border=\"1\" class=\"dataframe\">\n",
       "  <thead>\n",
       "    <tr style=\"text-align: right;\">\n",
       "      <th></th>\n",
       "      <th>rule</th>\n",
       "      <th>mass_first_kmeans</th>\n",
       "      <th>mass_second_kmeans</th>\n",
       "      <th>uncertainty_kmeans</th>\n",
       "      <th>ratio</th>\n",
       "    </tr>\n",
       "  </thead>\n",
       "  <tbody>\n",
       "    <tr>\n",
       "      <th>7</th>\n",
       "      <td>size_uniformity &gt; 5.134</td>\n",
       "      <td>0.140512</td>\n",
       "      <td>0.534107</td>\n",
       "      <td>0.325381</td>\n",
       "      <td>3.801164</td>\n",
       "    </tr>\n",
       "    <tr>\n",
       "      <th>3</th>\n",
       "      <td>clump_thickness &gt; 6.339</td>\n",
       "      <td>0.074992</td>\n",
       "      <td>0.590052</td>\n",
       "      <td>0.334956</td>\n",
       "      <td>7.868188</td>\n",
       "    </tr>\n",
       "  </tbody>\n",
       "</table>\n",
       "</div>"
      ],
      "text/plain": [
       "                      rule  mass_first_kmeans  mass_second_kmeans  \\\n",
       "7  size_uniformity > 5.134           0.140512            0.534107   \n",
       "3  clump_thickness > 6.339           0.074992            0.590052   \n",
       "\n",
       "   uncertainty_kmeans     ratio  \n",
       "7            0.325381  3.801164  \n",
       "3            0.334956  7.868188  "
      ]
     },
     "execution_count": 60,
     "metadata": {},
     "output_type": "execute_result"
    }
   ],
   "source": [
    "m.loc[[7, 3]].drop([\"mass_first_random\", \"mass_second_random\",\t\"uncertainty_random\"],axis=1)"
   ]
  },
  {
   "cell_type": "code",
   "execution_count": 7,
   "metadata": {},
   "outputs": [
    {
     "name": "stderr",
     "output_type": "stream",
     "text": [
      "c:\\Users\\hayk_\\.conda\\envs\\thesis\\lib\\site-packages\\tqdm\\auto.py:21: TqdmWarning: IProgress not found. Please update jupyter and ipywidgets. See https://ipywidgets.readthedocs.io/en/stable/user_install.html\n",
      "  from .autonotebook import tqdm as notebook_tqdm\n"
     ]
    }
   ],
   "source": [
    "rules_info = pickle.load(open(f\"{RULE_FOLDER}/{rules[0]}\", \"rb\"))"
   ]
  },
  {
   "cell_type": "code",
   "execution_count": 12,
   "metadata": {},
   "outputs": [],
   "source": [
    "name_1 = \"kmeans_wine.csv, 3 single breaks, maf_method=random.dsb\"\n",
    "name_2 = \"kmeans_wine.csv, 3 single breaks, maf_method=kmeans.dsb\""
   ]
  },
  {
   "cell_type": "code",
   "execution_count": 13,
   "metadata": {},
   "outputs": [],
   "source": [
    "rules_info_random = pickle.load(open(f\"{RULE_FOLDER}/{name_1}\", \"rb\"))\n",
    "rules_info_kmeans = pickle.load(open(f\"{RULE_FOLDER}/{name_2}\", \"rb\"))"
   ]
  },
  {
   "cell_type": "code",
   "execution_count": 30,
   "metadata": {},
   "outputs": [],
   "source": [
    "def extract_res(rules_info):\n",
    "    rules = rules_info[\"preds\"]\n",
    "    mafs = rules_info[\"masses\"]\n",
    "    \n",
    "    rule_names = [str(i) for i in rules]\n",
    "    mass_first = [float(i[0]) for i in mafs]\n",
    "    mass_second = [float(i[1]) for i in mafs]\n",
    "    uncertainty = [float(i[2]) for i in mafs]\n",
    "    \n",
    "    res = {\"rule\": rule_names, \"mass_first\": mass_first, \"mass_second\": mass_second, \"uncertainty\": uncertainty}\n",
    "    return res"
   ]
  },
  {
   "cell_type": "code",
   "execution_count": 31,
   "metadata": {},
   "outputs": [],
   "source": [
    "kmeans = extract_res(rules_info_kmeans)\n",
    "random = extract_res(rules_info_random)"
   ]
  },
  {
   "cell_type": "code",
   "execution_count": 41,
   "metadata": {},
   "outputs": [
    {
     "data": {
      "text/html": [
       "<div>\n",
       "<style scoped>\n",
       "    .dataframe tbody tr th:only-of-type {\n",
       "        vertical-align: middle;\n",
       "    }\n",
       "\n",
       "    .dataframe tbody tr th {\n",
       "        vertical-align: top;\n",
       "    }\n",
       "\n",
       "    .dataframe thead th {\n",
       "        text-align: right;\n",
       "    }\n",
       "</style>\n",
       "<table border=\"1\" class=\"dataframe\">\n",
       "  <thead>\n",
       "    <tr style=\"text-align: right;\">\n",
       "      <th></th>\n",
       "      <th>rule</th>\n",
       "      <th>mass_first_kmeans</th>\n",
       "      <th>mass_second_kmeans</th>\n",
       "      <th>uncertainty_kmeans</th>\n",
       "      <th>mass_first_random</th>\n",
       "      <th>mass_second_random</th>\n",
       "      <th>uncertainty_random</th>\n",
       "    </tr>\n",
       "  </thead>\n",
       "  <tbody>\n",
       "    <tr>\n",
       "      <th>0</th>\n",
       "      <td>fixed acidity &lt; 6.350</td>\n",
       "      <td>0.231988</td>\n",
       "      <td>0.532523</td>\n",
       "      <td>0.23549</td>\n",
       "      <td>0.019433</td>\n",
       "      <td>0.287232</td>\n",
       "      <td>0.693334</td>\n",
       "    </tr>\n",
       "  </tbody>\n",
       "</table>\n",
       "</div>"
      ],
      "text/plain": [
       "                    rule  mass_first_kmeans  mass_second_kmeans  \\\n",
       "0  fixed acidity < 6.350           0.231988            0.532523   \n",
       "\n",
       "   uncertainty_kmeans  mass_first_random  mass_second_random  \\\n",
       "0             0.23549           0.019433            0.287232   \n",
       "\n",
       "   uncertainty_random  \n",
       "0            0.693334  "
      ]
     },
     "execution_count": 41,
     "metadata": {},
     "output_type": "execute_result"
    }
   ],
   "source": [
    "kmeans_df = pd.DataFrame(kmeans)\n",
    "random_df = pd.DataFrame(random)\n",
    "\n",
    "# merge on rule column\n",
    "merged = pd.merge(kmeans_df, random_df, on=\"rule\", suffixes=('_kmeans', '_random'))\n",
    "merged.head(1)"
   ]
  },
  {
   "cell_type": "code",
   "execution_count": 44,
   "metadata": {},
   "outputs": [
    {
     "data": {
      "application/vnd.plotly.v1+json": {
       "config": {
        "plotlyServerURL": "https://plot.ly"
       },
       "data": [
        {
         "alignmentgroup": "True",
         "hovertemplate": "variable=uncertainty_kmeans<br>rule=%{x}<br>value=%{y}<extra></extra>",
         "legendgroup": "uncertainty_kmeans",
         "marker": {
          "color": "#636efa",
          "pattern": {
           "shape": ""
          }
         },
         "name": "uncertainty_kmeans",
         "offsetgroup": "uncertainty_kmeans",
         "orientation": "v",
         "showlegend": true,
         "textposition": "auto",
         "type": "bar",
         "x": [
          "fixed acidity < 6.350",
          "6.350 < fixed acidity < 7.218",
          "7.218 < fixed acidity < 8.086",
          "fixed acidity > 8.086",
          "volatile acidity < 0.228",
          "0.228 < volatile acidity < 0.339",
          "0.339 < volatile acidity < 0.450",
          "volatile acidity > 0.450",
          "citric acid < 0.220",
          "0.220 < citric acid < 0.319",
          "0.319 < citric acid < 0.418",
          "citric acid > 0.418",
          "residual sugar < 2.281",
          "2.281 < residual sugar < 5.499",
          "5.499 < residual sugar < 8.716",
          "residual sugar > 8.716",
          "chlorides < 0.033",
          "0.033 < chlorides < 0.056",
          "0.056 < chlorides < 0.080",
          "chlorides > 0.080",
          "free sulfur dioxide < 18.630",
          "18.630 < free sulfur dioxide < 30.697",
          "30.697 < free sulfur dioxide < 42.764",
          "free sulfur dioxide > 42.764",
          "total sulfur dioxide < 78.172",
          "78.172 < total sulfur dioxide < 116.166",
          "116.166 < total sulfur dioxide < 154.160",
          "total sulfur dioxide > 154.160",
          "density < 0.993",
          "0.993 < density < 0.995",
          "0.995 < density < 0.997",
          "density > 0.997",
          "pH < 3.109",
          "3.109 < pH < 3.217",
          "3.217 < pH < 3.325",
          "pH > 3.325",
          "sulphates < 0.431",
          "0.431 < sulphates < 0.532",
          "0.532 < sulphates < 0.634",
          "sulphates > 0.634",
          "alcohol < 9.673",
          "9.673 < alcohol < 10.480",
          "10.480 < alcohol < 11.287",
          "alcohol > 11.287",
          "quality < 5.209",
          "5.209 < quality < 5.803",
          "5.803 < quality < 6.397",
          "quality > 6.397",
          "good = 0.0",
          "good = 1.0"
         ],
         "xaxis": "x",
         "y": [
          0.23548957705497742,
          0.28759029507637024,
          0.20650824904441833,
          0.2373899519443512,
          0.2867564857006073,
          0.27443453669548035,
          0.2357354462146759,
          0.2861595153808594,
          0.276885986328125,
          0.27835363149642944,
          0.28748267889022827,
          0.20947866141796112,
          0.19310632348060608,
          0.22775612771511078,
          0.4025651216506958,
          0.39370986819267273,
          0.2959885597229004,
          0.33066678047180176,
          0.20610164105892181,
          0.23439407348632812,
          0.2315986305475235,
          0.20757754147052765,
          0.2543029189109802,
          0.16413632035255432,
          0.20131757855415344,
          0.1809731423854828,
          0,
          0.027558201923966408,
          0.22718548774719238,
          0.23926161229610443,
          0.23752206563949585,
          0.20650668442249298,
          0.2709845304489136,
          0.2958550453186035,
          0.26247429847717285,
          0.2590872347354889,
          0.3856387734413147,
          0.28547367453575134,
          0.24893812835216522,
          0.2426583468914032,
          0.23628324270248413,
          0.2475648820400238,
          0.3219050467014313,
          0.24822570383548737,
          0.22120968997478485,
          1,
          0.23245948553085327,
          0.20871877670288086,
          0.22903086245059967,
          0.20871877670288086
         ],
         "yaxis": "y"
        },
        {
         "alignmentgroup": "True",
         "hovertemplate": "variable=uncertainty_random<br>rule=%{x}<br>value=%{y}<extra></extra>",
         "legendgroup": "uncertainty_random",
         "marker": {
          "color": "#EF553B",
          "pattern": {
           "shape": ""
          }
         },
         "name": "uncertainty_random",
         "offsetgroup": "uncertainty_random",
         "orientation": "v",
         "showlegend": true,
         "textposition": "auto",
         "type": "bar",
         "x": [
          "fixed acidity < 6.350",
          "6.350 < fixed acidity < 7.218",
          "7.218 < fixed acidity < 8.086",
          "fixed acidity > 8.086",
          "volatile acidity < 0.228",
          "0.228 < volatile acidity < 0.339",
          "0.339 < volatile acidity < 0.450",
          "volatile acidity > 0.450",
          "citric acid < 0.220",
          "0.220 < citric acid < 0.319",
          "0.319 < citric acid < 0.418",
          "citric acid > 0.418",
          "residual sugar < 2.281",
          "2.281 < residual sugar < 5.499",
          "5.499 < residual sugar < 8.716",
          "residual sugar > 8.716",
          "chlorides < 0.033",
          "0.033 < chlorides < 0.056",
          "0.056 < chlorides < 0.080",
          "chlorides > 0.080",
          "free sulfur dioxide < 18.630",
          "18.630 < free sulfur dioxide < 30.697",
          "30.697 < free sulfur dioxide < 42.764",
          "free sulfur dioxide > 42.764",
          "total sulfur dioxide < 78.172",
          "78.172 < total sulfur dioxide < 116.166",
          "116.166 < total sulfur dioxide < 154.160",
          "total sulfur dioxide > 154.160",
          "density < 0.993",
          "0.993 < density < 0.995",
          "0.995 < density < 0.997",
          "density > 0.997",
          "pH < 3.109",
          "3.109 < pH < 3.217",
          "3.217 < pH < 3.325",
          "pH > 3.325",
          "sulphates < 0.431",
          "0.431 < sulphates < 0.532",
          "0.532 < sulphates < 0.634",
          "sulphates > 0.634",
          "alcohol < 9.673",
          "9.673 < alcohol < 10.480",
          "10.480 < alcohol < 11.287",
          "alcohol > 11.287",
          "quality < 5.209",
          "5.209 < quality < 5.803",
          "5.803 < quality < 6.397",
          "quality > 6.397",
          "good = 0.0",
          "good = 1.0"
         ],
         "xaxis": "x",
         "y": [
          0.6933344602584839,
          0.7680202126502991,
          0.6023110747337341,
          0.7293949723243713,
          0.817430853843689,
          0.7995772361755371,
          0.8191539645195007,
          0.705909252166748,
          0.7974356412887573,
          0.8231233358383179,
          0.8082740306854248,
          0.7257689833641052,
          0.688813328742981,
          0.763904333114624,
          0.7726165652275085,
          0.7308440804481506,
          0.6554807424545288,
          0.6482237577438354,
          0.7847498655319214,
          0.6400558352470398,
          0.4692193269729614,
          0.8236754536628723,
          0.5476813316345215,
          0.36614125967025757,
          0.15844692289829254,
          0.18209253251552582,
          0.1170697808265686,
          0.23206309974193573,
          0.8125230073928833,
          0.8104133009910583,
          0.8221966028213501,
          0.8209362030029297,
          0.7409383654594421,
          0.7937777042388916,
          0.8168542981147766,
          0.8217002153396606,
          0.7458901405334473,
          0.8080141544342041,
          0.8011873364448547,
          0.7867428064346313,
          0.6533294916152954,
          0.8217717409133911,
          0.8260704278945923,
          0.6943047046661377,
          0.8072293400764465,
          0.800000011920929,
          0.8135345578193665,
          0.811633288860321,
          0.8031589984893799,
          0.8090121746063232
         ],
         "yaxis": "y"
        }
       ],
       "layout": {
        "barmode": "group",
        "legend": {
         "title": {
          "text": "variable"
         },
         "tracegroupgap": 0
        },
        "template": {
         "data": {
          "bar": [
           {
            "error_x": {
             "color": "#2a3f5f"
            },
            "error_y": {
             "color": "#2a3f5f"
            },
            "marker": {
             "line": {
              "color": "#E5ECF6",
              "width": 0.5
             },
             "pattern": {
              "fillmode": "overlay",
              "size": 10,
              "solidity": 0.2
             }
            },
            "type": "bar"
           }
          ],
          "barpolar": [
           {
            "marker": {
             "line": {
              "color": "#E5ECF6",
              "width": 0.5
             },
             "pattern": {
              "fillmode": "overlay",
              "size": 10,
              "solidity": 0.2
             }
            },
            "type": "barpolar"
           }
          ],
          "carpet": [
           {
            "aaxis": {
             "endlinecolor": "#2a3f5f",
             "gridcolor": "white",
             "linecolor": "white",
             "minorgridcolor": "white",
             "startlinecolor": "#2a3f5f"
            },
            "baxis": {
             "endlinecolor": "#2a3f5f",
             "gridcolor": "white",
             "linecolor": "white",
             "minorgridcolor": "white",
             "startlinecolor": "#2a3f5f"
            },
            "type": "carpet"
           }
          ],
          "choropleth": [
           {
            "colorbar": {
             "outlinewidth": 0,
             "ticks": ""
            },
            "type": "choropleth"
           }
          ],
          "contour": [
           {
            "colorbar": {
             "outlinewidth": 0,
             "ticks": ""
            },
            "colorscale": [
             [
              0,
              "#0d0887"
             ],
             [
              0.1111111111111111,
              "#46039f"
             ],
             [
              0.2222222222222222,
              "#7201a8"
             ],
             [
              0.3333333333333333,
              "#9c179e"
             ],
             [
              0.4444444444444444,
              "#bd3786"
             ],
             [
              0.5555555555555556,
              "#d8576b"
             ],
             [
              0.6666666666666666,
              "#ed7953"
             ],
             [
              0.7777777777777778,
              "#fb9f3a"
             ],
             [
              0.8888888888888888,
              "#fdca26"
             ],
             [
              1,
              "#f0f921"
             ]
            ],
            "type": "contour"
           }
          ],
          "contourcarpet": [
           {
            "colorbar": {
             "outlinewidth": 0,
             "ticks": ""
            },
            "type": "contourcarpet"
           }
          ],
          "heatmap": [
           {
            "colorbar": {
             "outlinewidth": 0,
             "ticks": ""
            },
            "colorscale": [
             [
              0,
              "#0d0887"
             ],
             [
              0.1111111111111111,
              "#46039f"
             ],
             [
              0.2222222222222222,
              "#7201a8"
             ],
             [
              0.3333333333333333,
              "#9c179e"
             ],
             [
              0.4444444444444444,
              "#bd3786"
             ],
             [
              0.5555555555555556,
              "#d8576b"
             ],
             [
              0.6666666666666666,
              "#ed7953"
             ],
             [
              0.7777777777777778,
              "#fb9f3a"
             ],
             [
              0.8888888888888888,
              "#fdca26"
             ],
             [
              1,
              "#f0f921"
             ]
            ],
            "type": "heatmap"
           }
          ],
          "heatmapgl": [
           {
            "colorbar": {
             "outlinewidth": 0,
             "ticks": ""
            },
            "colorscale": [
             [
              0,
              "#0d0887"
             ],
             [
              0.1111111111111111,
              "#46039f"
             ],
             [
              0.2222222222222222,
              "#7201a8"
             ],
             [
              0.3333333333333333,
              "#9c179e"
             ],
             [
              0.4444444444444444,
              "#bd3786"
             ],
             [
              0.5555555555555556,
              "#d8576b"
             ],
             [
              0.6666666666666666,
              "#ed7953"
             ],
             [
              0.7777777777777778,
              "#fb9f3a"
             ],
             [
              0.8888888888888888,
              "#fdca26"
             ],
             [
              1,
              "#f0f921"
             ]
            ],
            "type": "heatmapgl"
           }
          ],
          "histogram": [
           {
            "marker": {
             "pattern": {
              "fillmode": "overlay",
              "size": 10,
              "solidity": 0.2
             }
            },
            "type": "histogram"
           }
          ],
          "histogram2d": [
           {
            "colorbar": {
             "outlinewidth": 0,
             "ticks": ""
            },
            "colorscale": [
             [
              0,
              "#0d0887"
             ],
             [
              0.1111111111111111,
              "#46039f"
             ],
             [
              0.2222222222222222,
              "#7201a8"
             ],
             [
              0.3333333333333333,
              "#9c179e"
             ],
             [
              0.4444444444444444,
              "#bd3786"
             ],
             [
              0.5555555555555556,
              "#d8576b"
             ],
             [
              0.6666666666666666,
              "#ed7953"
             ],
             [
              0.7777777777777778,
              "#fb9f3a"
             ],
             [
              0.8888888888888888,
              "#fdca26"
             ],
             [
              1,
              "#f0f921"
             ]
            ],
            "type": "histogram2d"
           }
          ],
          "histogram2dcontour": [
           {
            "colorbar": {
             "outlinewidth": 0,
             "ticks": ""
            },
            "colorscale": [
             [
              0,
              "#0d0887"
             ],
             [
              0.1111111111111111,
              "#46039f"
             ],
             [
              0.2222222222222222,
              "#7201a8"
             ],
             [
              0.3333333333333333,
              "#9c179e"
             ],
             [
              0.4444444444444444,
              "#bd3786"
             ],
             [
              0.5555555555555556,
              "#d8576b"
             ],
             [
              0.6666666666666666,
              "#ed7953"
             ],
             [
              0.7777777777777778,
              "#fb9f3a"
             ],
             [
              0.8888888888888888,
              "#fdca26"
             ],
             [
              1,
              "#f0f921"
             ]
            ],
            "type": "histogram2dcontour"
           }
          ],
          "mesh3d": [
           {
            "colorbar": {
             "outlinewidth": 0,
             "ticks": ""
            },
            "type": "mesh3d"
           }
          ],
          "parcoords": [
           {
            "line": {
             "colorbar": {
              "outlinewidth": 0,
              "ticks": ""
             }
            },
            "type": "parcoords"
           }
          ],
          "pie": [
           {
            "automargin": true,
            "type": "pie"
           }
          ],
          "scatter": [
           {
            "fillpattern": {
             "fillmode": "overlay",
             "size": 10,
             "solidity": 0.2
            },
            "type": "scatter"
           }
          ],
          "scatter3d": [
           {
            "line": {
             "colorbar": {
              "outlinewidth": 0,
              "ticks": ""
             }
            },
            "marker": {
             "colorbar": {
              "outlinewidth": 0,
              "ticks": ""
             }
            },
            "type": "scatter3d"
           }
          ],
          "scattercarpet": [
           {
            "marker": {
             "colorbar": {
              "outlinewidth": 0,
              "ticks": ""
             }
            },
            "type": "scattercarpet"
           }
          ],
          "scattergeo": [
           {
            "marker": {
             "colorbar": {
              "outlinewidth": 0,
              "ticks": ""
             }
            },
            "type": "scattergeo"
           }
          ],
          "scattergl": [
           {
            "marker": {
             "colorbar": {
              "outlinewidth": 0,
              "ticks": ""
             }
            },
            "type": "scattergl"
           }
          ],
          "scattermapbox": [
           {
            "marker": {
             "colorbar": {
              "outlinewidth": 0,
              "ticks": ""
             }
            },
            "type": "scattermapbox"
           }
          ],
          "scatterpolar": [
           {
            "marker": {
             "colorbar": {
              "outlinewidth": 0,
              "ticks": ""
             }
            },
            "type": "scatterpolar"
           }
          ],
          "scatterpolargl": [
           {
            "marker": {
             "colorbar": {
              "outlinewidth": 0,
              "ticks": ""
             }
            },
            "type": "scatterpolargl"
           }
          ],
          "scatterternary": [
           {
            "marker": {
             "colorbar": {
              "outlinewidth": 0,
              "ticks": ""
             }
            },
            "type": "scatterternary"
           }
          ],
          "surface": [
           {
            "colorbar": {
             "outlinewidth": 0,
             "ticks": ""
            },
            "colorscale": [
             [
              0,
              "#0d0887"
             ],
             [
              0.1111111111111111,
              "#46039f"
             ],
             [
              0.2222222222222222,
              "#7201a8"
             ],
             [
              0.3333333333333333,
              "#9c179e"
             ],
             [
              0.4444444444444444,
              "#bd3786"
             ],
             [
              0.5555555555555556,
              "#d8576b"
             ],
             [
              0.6666666666666666,
              "#ed7953"
             ],
             [
              0.7777777777777778,
              "#fb9f3a"
             ],
             [
              0.8888888888888888,
              "#fdca26"
             ],
             [
              1,
              "#f0f921"
             ]
            ],
            "type": "surface"
           }
          ],
          "table": [
           {
            "cells": {
             "fill": {
              "color": "#EBF0F8"
             },
             "line": {
              "color": "white"
             }
            },
            "header": {
             "fill": {
              "color": "#C8D4E3"
             },
             "line": {
              "color": "white"
             }
            },
            "type": "table"
           }
          ]
         },
         "layout": {
          "annotationdefaults": {
           "arrowcolor": "#2a3f5f",
           "arrowhead": 0,
           "arrowwidth": 1
          },
          "autotypenumbers": "strict",
          "coloraxis": {
           "colorbar": {
            "outlinewidth": 0,
            "ticks": ""
           }
          },
          "colorscale": {
           "diverging": [
            [
             0,
             "#8e0152"
            ],
            [
             0.1,
             "#c51b7d"
            ],
            [
             0.2,
             "#de77ae"
            ],
            [
             0.3,
             "#f1b6da"
            ],
            [
             0.4,
             "#fde0ef"
            ],
            [
             0.5,
             "#f7f7f7"
            ],
            [
             0.6,
             "#e6f5d0"
            ],
            [
             0.7,
             "#b8e186"
            ],
            [
             0.8,
             "#7fbc41"
            ],
            [
             0.9,
             "#4d9221"
            ],
            [
             1,
             "#276419"
            ]
           ],
           "sequential": [
            [
             0,
             "#0d0887"
            ],
            [
             0.1111111111111111,
             "#46039f"
            ],
            [
             0.2222222222222222,
             "#7201a8"
            ],
            [
             0.3333333333333333,
             "#9c179e"
            ],
            [
             0.4444444444444444,
             "#bd3786"
            ],
            [
             0.5555555555555556,
             "#d8576b"
            ],
            [
             0.6666666666666666,
             "#ed7953"
            ],
            [
             0.7777777777777778,
             "#fb9f3a"
            ],
            [
             0.8888888888888888,
             "#fdca26"
            ],
            [
             1,
             "#f0f921"
            ]
           ],
           "sequentialminus": [
            [
             0,
             "#0d0887"
            ],
            [
             0.1111111111111111,
             "#46039f"
            ],
            [
             0.2222222222222222,
             "#7201a8"
            ],
            [
             0.3333333333333333,
             "#9c179e"
            ],
            [
             0.4444444444444444,
             "#bd3786"
            ],
            [
             0.5555555555555556,
             "#d8576b"
            ],
            [
             0.6666666666666666,
             "#ed7953"
            ],
            [
             0.7777777777777778,
             "#fb9f3a"
            ],
            [
             0.8888888888888888,
             "#fdca26"
            ],
            [
             1,
             "#f0f921"
            ]
           ]
          },
          "colorway": [
           "#636efa",
           "#EF553B",
           "#00cc96",
           "#ab63fa",
           "#FFA15A",
           "#19d3f3",
           "#FF6692",
           "#B6E880",
           "#FF97FF",
           "#FECB52"
          ],
          "font": {
           "color": "#2a3f5f"
          },
          "geo": {
           "bgcolor": "white",
           "lakecolor": "white",
           "landcolor": "#E5ECF6",
           "showlakes": true,
           "showland": true,
           "subunitcolor": "white"
          },
          "hoverlabel": {
           "align": "left"
          },
          "hovermode": "closest",
          "mapbox": {
           "style": "light"
          },
          "paper_bgcolor": "white",
          "plot_bgcolor": "#E5ECF6",
          "polar": {
           "angularaxis": {
            "gridcolor": "white",
            "linecolor": "white",
            "ticks": ""
           },
           "bgcolor": "#E5ECF6",
           "radialaxis": {
            "gridcolor": "white",
            "linecolor": "white",
            "ticks": ""
           }
          },
          "scene": {
           "xaxis": {
            "backgroundcolor": "#E5ECF6",
            "gridcolor": "white",
            "gridwidth": 2,
            "linecolor": "white",
            "showbackground": true,
            "ticks": "",
            "zerolinecolor": "white"
           },
           "yaxis": {
            "backgroundcolor": "#E5ECF6",
            "gridcolor": "white",
            "gridwidth": 2,
            "linecolor": "white",
            "showbackground": true,
            "ticks": "",
            "zerolinecolor": "white"
           },
           "zaxis": {
            "backgroundcolor": "#E5ECF6",
            "gridcolor": "white",
            "gridwidth": 2,
            "linecolor": "white",
            "showbackground": true,
            "ticks": "",
            "zerolinecolor": "white"
           }
          },
          "shapedefaults": {
           "line": {
            "color": "#2a3f5f"
           }
          },
          "ternary": {
           "aaxis": {
            "gridcolor": "white",
            "linecolor": "white",
            "ticks": ""
           },
           "baxis": {
            "gridcolor": "white",
            "linecolor": "white",
            "ticks": ""
           },
           "bgcolor": "#E5ECF6",
           "caxis": {
            "gridcolor": "white",
            "linecolor": "white",
            "ticks": ""
           }
          },
          "title": {
           "x": 0.05
          },
          "xaxis": {
           "automargin": true,
           "gridcolor": "white",
           "linecolor": "white",
           "ticks": "",
           "title": {
            "standoff": 15
           },
           "zerolinecolor": "white",
           "zerolinewidth": 2
          },
          "yaxis": {
           "automargin": true,
           "gridcolor": "white",
           "linecolor": "white",
           "ticks": "",
           "title": {
            "standoff": 15
           },
           "zerolinecolor": "white",
           "zerolinewidth": 2
          }
         }
        },
        "title": {
         "text": "Uncertainty comparison between kmeans and random"
        },
        "xaxis": {
         "anchor": "y",
         "domain": [
          0,
          1
         ],
         "title": {
          "text": "rule"
         }
        },
        "yaxis": {
         "anchor": "x",
         "domain": [
          0,
          1
         ],
         "title": {
          "text": "value"
         }
        }
       }
      }
     },
     "metadata": {},
     "output_type": "display_data"
    }
   ],
   "source": [
    "px.bar(merged, x='rule', y=['uncertainty_kmeans', 'uncertainty_random'], \n",
    "       title='Uncertainty comparison between kmeans and random', # put bars next to each other\n",
    "         barmode='group')"
   ]
  },
  {
   "cell_type": "code",
   "execution_count": null,
   "metadata": {},
   "outputs": [],
   "source": []
  }
 ],
 "metadata": {
  "kernelspec": {
   "display_name": "thesis",
   "language": "python",
   "name": "python3"
  },
  "language_info": {
   "codemirror_mode": {
    "name": "ipython",
    "version": 3
   },
   "file_extension": ".py",
   "mimetype": "text/x-python",
   "name": "python",
   "nbconvert_exporter": "python",
   "pygments_lexer": "ipython3",
   "version": "3.10.14"
  }
 },
 "nbformat": 4,
 "nbformat_minor": 2
}
