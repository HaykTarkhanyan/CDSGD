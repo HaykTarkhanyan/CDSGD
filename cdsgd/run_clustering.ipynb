{
 "cells": [
  {
   "cell_type": "code",
   "execution_count": 26,
   "metadata": {},
   "outputs": [],
   "source": [
    "import os \n",
    "import numpy as np\n",
    "import pandas as pd\n",
    "\n",
    "import plotly.express as px\n",
    "from sklearn.cluster import KMeans\n",
    "from sklearn.metrics import silhouette_score\n",
    "\n",
    "from config import OUTLIER_THRESHOLD_NUM_STD"
   ]
  },
  {
   "cell_type": "code",
   "execution_count": 27,
   "metadata": {},
   "outputs": [],
   "source": [
    "def detect_outliers_z_score(data, threshold=OUTLIER_THRESHOLD_NUM_STD):\n",
    "    outliers = []\n",
    "    mean = np.mean(data)\n",
    "    std_dev = np.std(data)\n",
    "    \n",
    "    for i in data:\n",
    "        z_score = (i - mean) / std_dev \n",
    "        if np.abs(z_score) > threshold:\n",
    "            outliers.append(i)\n",
    "    return outliers"
   ]
  },
  {
   "cell_type": "code",
   "execution_count": 16,
   "metadata": {},
   "outputs": [],
   "source": [
    "DATA_FOLDER = os.path.join(\"..\",\"data\")\n",
    "OUTPUT_FOLDER = os.path.join(\"..\", \"data_binary\")\n",
    "\n",
    "DATASETS = ['gaussian_df.csv', \"rectangle_df.csv\", \"uniform_df.csv\", \"wine.csv\",\n",
    "            \"breast-cancer-wisconsin.csv\"]"
   ]
  },
  {
   "cell_type": "code",
   "execution_count": 32,
   "metadata": {},
   "outputs": [
    {
     "name": "stdout",
     "output_type": "stream",
     "text": [
      "gaussian_df.csv\n",
      "Silhouette score for gaussian_df.csv is 0.6435277436707083\n",
      "Inertia for gaussian_df.csv is 62.05997560557416\n",
      "\n",
      "rectangle_df.csv\n",
      "Silhouette score for rectangle_df.csv is 0.439638954527144\n",
      "Inertia for rectangle_df.csv is 501.1251039938792\n",
      "\n",
      "uniform_df.csv\n"
     ]
    },
    {
     "name": "stdout",
     "output_type": "stream",
     "text": [
      "Silhouette score for uniform_df.csv is 0.6092631731974764\n",
      "Inertia for uniform_df.csv is 1056.128462713776\n",
      "\n",
      "wine.csv\n",
      "Silhouette score for wine.csv is 0.5091099728827927\n",
      "Inertia for wine.csv is 8595922.912948519\n",
      "\n",
      "breast-cancer-wisconsin.csv\n",
      "Silhouette score for breast-cancer-wisconsin.csv is 0.9681880608975368\n",
      "Inertia for breast-cancer-wisconsin.csv is 71344784701932.75\n",
      "\n"
     ]
    }
   ],
   "source": [
    "for path in DATASETS:\n",
    "    print(path)\n",
    "    df = pd.read_csv(os.path.join(DATA_FOLDER, path))\n",
    "    \n",
    "    last_column = df.columns[-1]   \n",
    "     # last column is the label\n",
    "    df_not_label = df.iloc[:, :-1]\n",
    "    data_labels = df[last_column]\n",
    "    \n",
    "    assert data_labels.nunique() == 2, \"Data is not binary\"\n",
    "    \n",
    "    kmeans = KMeans(n_clusters=2, random_state=42, n_init=\"auto\")\n",
    "\n",
    "    kmeans_labels = kmeans.fit_predict(df_not_label)\n",
    "    \n",
    "    silhouette = silhouette_score(df_not_label, kmeans_labels)\n",
    "    inertia = kmeans.inertia_\n",
    "    print(f\"Silhouette score for {path} is {silhouette}\")\n",
    "    print(f\"Inertia for {path} is {inertia}\")\n",
    "    print()\n",
    "    df[\"labels_kmeans\"] = kmeans_labels\n",
    "    \n",
    "    # if df.shape[1] == 3:\n",
    "    #     print(path)\n",
    "    #     fig = px.scatter(df, x=df.columns[0], y=df.columns[1], color=\"labels_kmeans\")\n",
    "    #     fig.show()\n",
    "    #     fig = px.scatter(df, x=df.columns[0], y=df.columns[1], color=\"labels\")\n",
    "    #     fig.show()\n",
    "    \n",
    "    # calculate each points distance to the centroids\n",
    "    df[\"distance_to_centroid\"] = np.min(\n",
    "        np.linalg.norm(df_not_label.values[:, np.newaxis] - kmeans.cluster_centers_, axis=2), axis=1)\n",
    "\n",
    "    # detect outliers\n",
    "    outliers = detect_outliers_z_score(df[\"distance_to_centroid\"])\n",
    "\n",
    "    df[\"outlier\"] = df[\"distance_to_centroid\"].apply(lambda x: x in outliers)\n",
    "\n",
    "    df_okay = df[~df[\"outlier\"]]\n",
    "\n",
    "    # normalize distance to centroid for each cluster\n",
    "    df[\"distance_to_centroid_norm\"] = df_okay.groupby(\"labels_kmeans\")[\"distance_to_centroid\"].transform(\n",
    "        lambda x: (x - x.min()) / (x.max() - x.min()))\n",
    "    \n",
    "    # make \"labels_kmeans\" be the last column\n",
    "    cols_to_drop = [\"distance_to_centroid\", \"outlier\"]\n",
    "    \n",
    "    df = df[[col for col in df.columns if col not in [\"labels_kmeans\"] + cols_to_drop] + [\"labels_kmeans\"]]\n",
    "    \n",
    "        \n",
    "    df.to_csv(os.path.join(OUTPUT_FOLDER, f\"kmeans_{path}\"), index=False)\n",
    "    \n"
   ]
  },
  {
   "cell_type": "code",
   "execution_count": null,
   "metadata": {},
   "outputs": [],
   "source": []
  }
 ],
 "metadata": {
  "kernelspec": {
   "display_name": "thesis",
   "language": "python",
   "name": "python3"
  },
  "language_info": {
   "codemirror_mode": {
    "name": "ipython",
    "version": 3
   },
   "file_extension": ".py",
   "mimetype": "text/x-python",
   "name": "python",
   "nbconvert_exporter": "python",
   "pygments_lexer": "ipython3",
   "version": "3.10.14"
  }
 },
 "nbformat": 4,
 "nbformat_minor": 2
}
